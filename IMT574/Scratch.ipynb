{
 "cells": [
  {
   "cell_type": "code",
   "execution_count": 4,
   "id": "7eaaf93b",
   "metadata": {
    "ExecuteTime": {
     "end_time": "2025-05-29T20:05:48.341103Z",
     "start_time": "2025-05-29T20:05:48.319868Z"
    }
   },
   "outputs": [
    {
     "name": "stdout",
     "output_type": "stream",
     "text": [
      "['2025-05-30', '2025-06-02', '2025-06-03', '2025-06-04', '2025-06-05']\n"
     ]
    }
   ],
   "source": [
    "import pandas as pd\n",
    "\n",
    "start_day = pd.Timestamp.today() + pd.Timedelta(days=1)\n",
    "next_5_business_days = [date.strftime('%Y-%m-%d') for date in pd.date_range(start=start_day, periods=5, freq='B')]\n",
    "print(next_5_business_days)"
   ]
  }
 ],
 "metadata": {
  "kernelspec": {
   "display_name": "py39",
   "language": "python",
   "name": "py39"
  },
  "language_info": {
   "codemirror_mode": {
    "name": "ipython",
    "version": 3
   },
   "file_extension": ".py",
   "mimetype": "text/x-python",
   "name": "python",
   "nbconvert_exporter": "python",
   "pygments_lexer": "ipython3",
   "version": "3.9.13"
  }
 },
 "nbformat": 4,
 "nbformat_minor": 5
}

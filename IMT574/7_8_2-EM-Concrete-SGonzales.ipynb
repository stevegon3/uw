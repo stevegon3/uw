{
 "cells": [
  {
   "attachments": {},
   "cell_type": "markdown",
   "id": "e44314fa",
   "metadata": {},
   "source": [
    "# Lab 7.8.2: Clustering - Education\n",
    "STG (The degree of study time for goal object materials)<p>\n",
    "SCG (The degree of repetition number of user for goal object materials)<p>\n",
    "STR (The degree of study time of user for related objects with goal object)<p>\n",
    "LPR (The exam performance of user for related objects with goal object)<p>\n",
    "PEG (The exam performance of user for goal objects)<p>\n",
    "UNS (The knowledge level of user)<p>"
   ]
  },
  {
   "cell_type": "code",
   "execution_count": 14,
   "id": "42c15fbf",
   "metadata": {
    "ExecuteTime": {
     "end_time": "2025-05-13T15:19:17.971053Z",
     "start_time": "2025-05-13T15:19:17.955988Z"
    },
    "init_cell": true
   },
   "outputs": [],
   "source": [
    "import pandas as pd\n",
    "import numpy as np\n",
    "import matplotlib.pyplot as plt\n",
    "import seaborn as sns\n",
    "\n",
    "from sklearn.metrics import mean_squared_error, r2_score, accuracy_score, confusion_matrix\n",
    "from sklearn.metrics import silhouette_score, euclidean_distances\n",
    "from sklearn.model_selection import train_test_split\n",
    "from sklearn.preprocessing import StandardScaler\n",
    "from sklearn.neighbors import KNeighborsClassifier\n",
    "from sklearn.cluster import KMeans\n",
    "from sklearn.mixture import GaussianMixture\n",
    "\n",
    "from scipy.optimize import linear_sum_assignment\n",
    "\n",
    "import statsmodels.api as sm\n",
    "import statsmodels.formula.api as smf"
   ]
  },
  {
   "cell_type": "code",
   "execution_count": 3,
   "id": "560bdae9",
   "metadata": {
    "ExecuteTime": {
     "end_time": "2025-05-12T22:40:06.700694Z",
     "start_time": "2025-05-12T22:40:06.670995Z"
    },
    "scrolled": true
   },
   "outputs": [
    {
     "name": "stdout",
     "output_type": "stream",
     "text": [
      "Index(['STG', 'SCG', 'STR', 'LPR', 'PEG', ' UNS'], dtype='object')\n"
     ]
    },
    {
     "data": {
      "text/html": [
       "<div>\n",
       "<style scoped>\n",
       "    .dataframe tbody tr th:only-of-type {\n",
       "        vertical-align: middle;\n",
       "    }\n",
       "\n",
       "    .dataframe tbody tr th {\n",
       "        vertical-align: top;\n",
       "    }\n",
       "\n",
       "    .dataframe thead th {\n",
       "        text-align: right;\n",
       "    }\n",
       "</style>\n",
       "<table border=\"1\" class=\"dataframe\">\n",
       "  <thead>\n",
       "    <tr style=\"text-align: right;\">\n",
       "      <th></th>\n",
       "      <th>STG</th>\n",
       "      <th>SCG</th>\n",
       "      <th>STR</th>\n",
       "      <th>LPR</th>\n",
       "      <th>PEG</th>\n",
       "      <th>UNS</th>\n",
       "    </tr>\n",
       "  </thead>\n",
       "  <tbody>\n",
       "    <tr>\n",
       "      <th>0</th>\n",
       "      <td>0.00</td>\n",
       "      <td>0.000</td>\n",
       "      <td>0.00</td>\n",
       "      <td>0.00</td>\n",
       "      <td>0.00</td>\n",
       "      <td>very_low</td>\n",
       "    </tr>\n",
       "    <tr>\n",
       "      <th>1</th>\n",
       "      <td>0.08</td>\n",
       "      <td>0.080</td>\n",
       "      <td>0.10</td>\n",
       "      <td>0.24</td>\n",
       "      <td>0.90</td>\n",
       "      <td>High</td>\n",
       "    </tr>\n",
       "    <tr>\n",
       "      <th>2</th>\n",
       "      <td>0.06</td>\n",
       "      <td>0.060</td>\n",
       "      <td>0.05</td>\n",
       "      <td>0.25</td>\n",
       "      <td>0.33</td>\n",
       "      <td>Low</td>\n",
       "    </tr>\n",
       "    <tr>\n",
       "      <th>3</th>\n",
       "      <td>0.10</td>\n",
       "      <td>0.100</td>\n",
       "      <td>0.15</td>\n",
       "      <td>0.65</td>\n",
       "      <td>0.30</td>\n",
       "      <td>Middle</td>\n",
       "    </tr>\n",
       "    <tr>\n",
       "      <th>4</th>\n",
       "      <td>0.08</td>\n",
       "      <td>0.080</td>\n",
       "      <td>0.08</td>\n",
       "      <td>0.98</td>\n",
       "      <td>0.24</td>\n",
       "      <td>Low</td>\n",
       "    </tr>\n",
       "    <tr>\n",
       "      <th>...</th>\n",
       "      <td>...</td>\n",
       "      <td>...</td>\n",
       "      <td>...</td>\n",
       "      <td>...</td>\n",
       "      <td>...</td>\n",
       "      <td>...</td>\n",
       "    </tr>\n",
       "    <tr>\n",
       "      <th>217</th>\n",
       "      <td>0.60</td>\n",
       "      <td>0.310</td>\n",
       "      <td>0.31</td>\n",
       "      <td>0.87</td>\n",
       "      <td>0.58</td>\n",
       "      <td>High</td>\n",
       "    </tr>\n",
       "    <tr>\n",
       "      <th>218</th>\n",
       "      <td>0.51</td>\n",
       "      <td>0.255</td>\n",
       "      <td>0.55</td>\n",
       "      <td>0.17</td>\n",
       "      <td>0.64</td>\n",
       "      <td>Middle</td>\n",
       "    </tr>\n",
       "    <tr>\n",
       "      <th>219</th>\n",
       "      <td>0.58</td>\n",
       "      <td>0.295</td>\n",
       "      <td>0.62</td>\n",
       "      <td>0.28</td>\n",
       "      <td>0.30</td>\n",
       "      <td>Low</td>\n",
       "    </tr>\n",
       "    <tr>\n",
       "      <th>220</th>\n",
       "      <td>0.61</td>\n",
       "      <td>0.258</td>\n",
       "      <td>0.56</td>\n",
       "      <td>0.62</td>\n",
       "      <td>0.24</td>\n",
       "      <td>Low</td>\n",
       "    </tr>\n",
       "    <tr>\n",
       "      <th>221</th>\n",
       "      <td>0.77</td>\n",
       "      <td>0.267</td>\n",
       "      <td>0.59</td>\n",
       "      <td>0.78</td>\n",
       "      <td>0.28</td>\n",
       "      <td>Middle</td>\n",
       "    </tr>\n",
       "  </tbody>\n",
       "</table>\n",
       "<p>222 rows × 6 columns</p>\n",
       "</div>"
      ],
      "text/plain": [
       "      STG    SCG   STR   LPR   PEG       UNS\n",
       "0    0.00  0.000  0.00  0.00  0.00  very_low\n",
       "1    0.08  0.080  0.10  0.24  0.90      High\n",
       "2    0.06  0.060  0.05  0.25  0.33       Low\n",
       "3    0.10  0.100  0.15  0.65  0.30    Middle\n",
       "4    0.08  0.080  0.08  0.98  0.24       Low\n",
       "..    ...    ...   ...   ...   ...       ...\n",
       "217  0.60  0.310  0.31  0.87  0.58      High\n",
       "218  0.51  0.255  0.55  0.17  0.64    Middle\n",
       "219  0.58  0.295  0.62  0.28  0.30       Low\n",
       "220  0.61  0.258  0.56  0.62  0.24       Low\n",
       "221  0.77  0.267  0.59  0.78  0.28    Middle\n",
       "\n",
       "[222 rows x 6 columns]"
      ]
     },
     "metadata": {},
     "output_type": "display_data"
    }
   ],
   "source": [
    "df = pd.read_excel('Lab 7.8.2-Data_User_Modeling_Dataset_Hamdi Tolga KAHRAMAN.xls', sheet_name=1, engine='xlrd')\n",
    "df = df.iloc[:, :-3]\n",
    "print(df.columns)\n",
    "display(df.head(222))"
   ]
  },
  {
   "cell_type": "code",
   "execution_count": 4,
   "id": "f86b8f51",
   "metadata": {
    "ExecuteTime": {
     "end_time": "2025-05-12T22:40:06.716123Z",
     "start_time": "2025-05-12T22:40:06.701689Z"
    }
   },
   "outputs": [
    {
     "name": "stdout",
     "output_type": "stream",
     "text": [
      "<class 'pandas.core.frame.DataFrame'>\n",
      "RangeIndex: 258 entries, 0 to 257\n",
      "Data columns (total 6 columns):\n",
      " #   Column  Non-Null Count  Dtype  \n",
      "---  ------  --------------  -----  \n",
      " 0   STG     258 non-null    float64\n",
      " 1   SCG     258 non-null    float64\n",
      " 2   STR     258 non-null    float64\n",
      " 3   LPR     258 non-null    float64\n",
      " 4   PEG     258 non-null    float64\n",
      " 5    UNS    258 non-null    object \n",
      "dtypes: float64(5), object(1)\n",
      "memory usage: 12.2+ KB\n"
     ]
    }
   ],
   "source": [
    "df.info()"
   ]
  },
  {
   "cell_type": "code",
   "execution_count": 5,
   "id": "2c723db8",
   "metadata": {
    "ExecuteTime": {
     "end_time": "2025-05-12T22:40:06.731142Z",
     "start_time": "2025-05-12T22:40:06.717130Z"
    }
   },
   "outputs": [
    {
     "data": {
      "text/html": [
       "<div>\n",
       "<style scoped>\n",
       "    .dataframe tbody tr th:only-of-type {\n",
       "        vertical-align: middle;\n",
       "    }\n",
       "\n",
       "    .dataframe tbody tr th {\n",
       "        vertical-align: top;\n",
       "    }\n",
       "\n",
       "    .dataframe thead th {\n",
       "        text-align: right;\n",
       "    }\n",
       "</style>\n",
       "<table border=\"1\" class=\"dataframe\">\n",
       "  <thead>\n",
       "    <tr style=\"text-align: right;\">\n",
       "      <th></th>\n",
       "      <th>study_time</th>\n",
       "      <th>repeat_num</th>\n",
       "      <th>study_time_usr</th>\n",
       "      <th>exam_perf_related</th>\n",
       "      <th>exam_perf_goal</th>\n",
       "      <th>knowledge</th>\n",
       "      <th>knowledge_int</th>\n",
       "    </tr>\n",
       "  </thead>\n",
       "  <tbody>\n",
       "    <tr>\n",
       "      <th>0</th>\n",
       "      <td>0.00</td>\n",
       "      <td>0.00</td>\n",
       "      <td>0.00</td>\n",
       "      <td>0.00</td>\n",
       "      <td>0.00</td>\n",
       "      <td>very_low</td>\n",
       "      <td>0</td>\n",
       "    </tr>\n",
       "    <tr>\n",
       "      <th>1</th>\n",
       "      <td>0.08</td>\n",
       "      <td>0.08</td>\n",
       "      <td>0.10</td>\n",
       "      <td>0.24</td>\n",
       "      <td>0.90</td>\n",
       "      <td>High</td>\n",
       "      <td>3</td>\n",
       "    </tr>\n",
       "    <tr>\n",
       "      <th>2</th>\n",
       "      <td>0.06</td>\n",
       "      <td>0.06</td>\n",
       "      <td>0.05</td>\n",
       "      <td>0.25</td>\n",
       "      <td>0.33</td>\n",
       "      <td>Low</td>\n",
       "      <td>1</td>\n",
       "    </tr>\n",
       "    <tr>\n",
       "      <th>3</th>\n",
       "      <td>0.10</td>\n",
       "      <td>0.10</td>\n",
       "      <td>0.15</td>\n",
       "      <td>0.65</td>\n",
       "      <td>0.30</td>\n",
       "      <td>Middle</td>\n",
       "      <td>2</td>\n",
       "    </tr>\n",
       "    <tr>\n",
       "      <th>4</th>\n",
       "      <td>0.08</td>\n",
       "      <td>0.08</td>\n",
       "      <td>0.08</td>\n",
       "      <td>0.98</td>\n",
       "      <td>0.24</td>\n",
       "      <td>Low</td>\n",
       "      <td>1</td>\n",
       "    </tr>\n",
       "    <tr>\n",
       "      <th>...</th>\n",
       "      <td>...</td>\n",
       "      <td>...</td>\n",
       "      <td>...</td>\n",
       "      <td>...</td>\n",
       "      <td>...</td>\n",
       "      <td>...</td>\n",
       "      <td>...</td>\n",
       "    </tr>\n",
       "    <tr>\n",
       "      <th>253</th>\n",
       "      <td>0.61</td>\n",
       "      <td>0.78</td>\n",
       "      <td>0.69</td>\n",
       "      <td>0.92</td>\n",
       "      <td>0.58</td>\n",
       "      <td>High</td>\n",
       "      <td>3</td>\n",
       "    </tr>\n",
       "    <tr>\n",
       "      <th>254</th>\n",
       "      <td>0.78</td>\n",
       "      <td>0.61</td>\n",
       "      <td>0.71</td>\n",
       "      <td>0.19</td>\n",
       "      <td>0.60</td>\n",
       "      <td>Middle</td>\n",
       "      <td>2</td>\n",
       "    </tr>\n",
       "    <tr>\n",
       "      <th>255</th>\n",
       "      <td>0.54</td>\n",
       "      <td>0.82</td>\n",
       "      <td>0.71</td>\n",
       "      <td>0.29</td>\n",
       "      <td>0.77</td>\n",
       "      <td>High</td>\n",
       "      <td>3</td>\n",
       "    </tr>\n",
       "    <tr>\n",
       "      <th>256</th>\n",
       "      <td>0.50</td>\n",
       "      <td>0.75</td>\n",
       "      <td>0.81</td>\n",
       "      <td>0.61</td>\n",
       "      <td>0.26</td>\n",
       "      <td>Middle</td>\n",
       "      <td>2</td>\n",
       "    </tr>\n",
       "    <tr>\n",
       "      <th>257</th>\n",
       "      <td>0.66</td>\n",
       "      <td>0.90</td>\n",
       "      <td>0.76</td>\n",
       "      <td>0.87</td>\n",
       "      <td>0.74</td>\n",
       "      <td>High</td>\n",
       "      <td>3</td>\n",
       "    </tr>\n",
       "  </tbody>\n",
       "</table>\n",
       "<p>258 rows × 7 columns</p>\n",
       "</div>"
      ],
      "text/plain": [
       "     study_time  repeat_num  study_time_usr  exam_perf_related  \\\n",
       "0          0.00        0.00            0.00               0.00   \n",
       "1          0.08        0.08            0.10               0.24   \n",
       "2          0.06        0.06            0.05               0.25   \n",
       "3          0.10        0.10            0.15               0.65   \n",
       "4          0.08        0.08            0.08               0.98   \n",
       "..          ...         ...             ...                ...   \n",
       "253        0.61        0.78            0.69               0.92   \n",
       "254        0.78        0.61            0.71               0.19   \n",
       "255        0.54        0.82            0.71               0.29   \n",
       "256        0.50        0.75            0.81               0.61   \n",
       "257        0.66        0.90            0.76               0.87   \n",
       "\n",
       "     exam_perf_goal knowledge  knowledge_int  \n",
       "0              0.00  very_low              0  \n",
       "1              0.90      High              3  \n",
       "2              0.33       Low              1  \n",
       "3              0.30    Middle              2  \n",
       "4              0.24       Low              1  \n",
       "..              ...       ...            ...  \n",
       "253            0.58      High              3  \n",
       "254            0.60    Middle              2  \n",
       "255            0.77      High              3  \n",
       "256            0.26    Middle              2  \n",
       "257            0.74      High              3  \n",
       "\n",
       "[258 rows x 7 columns]"
      ]
     },
     "metadata": {},
     "output_type": "display_data"
    }
   ],
   "source": [
    "# Example: convert 'knowlege' column to ordered int values\n",
    "df.columns = ['study_time', 'repeat_num', 'study_time_usr', 'exam_perf_related', 'exam_perf_goal', 'knowledge']\n",
    "knowledge_map = {'very_low': 0, 'Low': 1, 'Middle': 2, 'High': 3}\n",
    "df['knowledge_int'] = df['knowledge'].map(knowledge_map)\n",
    "display(df)"
   ]
  },
  {
   "cell_type": "code",
   "execution_count": 8,
   "id": "11ebf808",
   "metadata": {
    "ExecuteTime": {
     "end_time": "2025-05-12T22:42:44.441719Z",
     "start_time": "2025-05-12T22:42:43.875420Z"
    }
   },
   "outputs": [
    {
     "name": "stdout",
     "output_type": "stream",
     "text": [
      "\n",
      "=== EM Analysis for 'knowledge_int' ===\n"
     ]
    },
    {
     "data": {
      "image/png": "[encoded data removed]",
      "text/plain": [
       "<Figure size 800x400 with 1 Axes>"
      ]
     },
     "metadata": {},
     "output_type": "display_data"
    },
    {
     "name": "stdout",
     "output_type": "stream",
     "text": [
      "Best model for 'knowledge_int' → 3 clusters (BIC=3712.39)\n"
     ]
    },
    {
     "data": {
      "image/png": "[encoded data removed]",
      "text/plain": [
       "<Figure size 700x500 with 1 Axes>"
      ]
     },
     "metadata": {},
     "output_type": "display_data"
    },
    {
     "name": "stdout",
     "output_type": "stream",
     "text": [
      "\n",
      "Mean target value per cluster:\n",
      "Cluster\n",
      "0    0.95\n",
      "1    2.90\n",
      "2    2.35\n",
      "Name: knowledge_int, dtype: float64\n"
     ]
    }
   ],
   "source": [
    "def evaluate_gmm_models(X, max_clusters=6):\n",
    "    aics, bics = [], []\n",
    "    models = []\n",
    "\n",
    "    for k in range(1, max_clusters + 1):\n",
    "        gmm = GaussianMixture(n_components=k, random_state=42)\n",
    "        gmm.fit(X)\n",
    "        aics.append(gmm.aic(X))\n",
    "        bics.append(gmm.bic(X))\n",
    "        models.append(gmm)\n",
    "\n",
    "    return aics, bics, models\n",
    "\n",
    "def apply_em_with_model_selection(df, target_column, max_clusters=6):\n",
    "    print(f\"\\n=== EM Analysis for '{target_column}' ===\")\n",
    "\n",
    "    features = df.drop(columns=[target_column])\n",
    "    scaler = StandardScaler()\n",
    "    X_scaled = scaler.fit_transform(features)\n",
    "\n",
    "    aics, bics, models = evaluate_gmm_models(X_scaled, max_clusters)\n",
    "\n",
    "    # Plot AIC and BIC\n",
    "    plt.figure(figsize=(8, 4))\n",
    "    plt.plot(range(1, max_clusters + 1), aics, label='AIC', marker='o')\n",
    "    plt.plot(range(1, max_clusters + 1), bics, label='BIC', marker='s')\n",
    "    plt.xlabel('Number of Clusters')\n",
    "    plt.ylabel('Score')\n",
    "    plt.title(f'AIC/BIC for {target_column}')\n",
    "    plt.legend()\n",
    "    plt.grid(True)\n",
    "    plt.tight_layout()\n",
    "    plt.show()\n",
    "\n",
    "    # Select best model (based on BIC)\n",
    "    best_n = np.argmin(bics) + 1\n",
    "    best_gmm = models[best_n - 1]\n",
    "    best_bic = bics[best_n - 1]\n",
    "    print(f\"Best model for '{target_column}' → {best_n} clusters (BIC={best_bic:.2f})\")\n",
    "\n",
    "    # Assign clusters and plot outcome\n",
    "    labels = best_gmm.predict(X_scaled)\n",
    "    df_with_clusters = df.copy()\n",
    "    df_with_clusters['Cluster'] = labels\n",
    "\n",
    "    plt.figure(figsize=(7, 5))\n",
    "    sns.boxplot(data=df_with_clusters, x='Cluster', y=target_column)\n",
    "    plt.title(f'{target_column} Distribution by Cluster')\n",
    "    plt.xlabel('Cluster')\n",
    "    plt.tight_layout()\n",
    "    plt.show()\n",
    "\n",
    "    print(\"\\nMean target value per cluster:\")\n",
    "    print(df_with_clusters.groupby('Cluster')[target_column].mean().round(2))\n",
    "    return X_scaled, best_bic\n",
    "\n",
    "# Run analysis for each target\n",
    "df_temp = df.drop(columns=['knowledge'])\n",
    "X_scaled, bic = apply_em_with_model_selection(df_temp, 'knowledge_int')"
   ]
  },
  {
   "cell_type": "code",
   "execution_count": 11,
   "id": "91ed746e",
   "metadata": {
    "ExecuteTime": {
     "end_time": "2025-05-12T22:46:34.474712Z",
     "start_time": "2025-05-12T22:46:33.766475Z"
    }
   },
   "outputs": [
    {
     "name": "stdout",
     "output_type": "stream",
     "text": [
      "\n",
      "=== EM Analysis for 'knowledge_int' ===\n"
     ]
    },
    {
     "data": {
      "image/png": "[encoded data removed]",
      "text/plain": [
       "<Figure size 800x400 with 1 Axes>"
      ]
     },
     "metadata": {},
     "output_type": "display_data"
    },
    {
     "name": "stdout",
     "output_type": "stream",
     "text": [
      "Best model for 'knowledge_int' → 3 clusters (BIC=3712.39)\n"
     ]
    },
    {
     "data": {
      "image/png": "[encoded data removed]",
      "text/plain": [
       "<Figure size 700x500 with 1 Axes>"
      ]
     },
     "metadata": {},
     "output_type": "display_data"
    },
    {
     "name": "stdout",
     "output_type": "stream",
     "text": [
      "\n",
      "Mean target value per cluster:\n",
      "Cluster\n",
      "0    0.95\n",
      "1    2.90\n",
      "2    2.35\n",
      "Name: knowledge_int, dtype: float64\n",
      "\n",
      "=== Classification Accuracy ===\n",
      "EM (GMM):    0.686\n",
      "KMeans:      0.535\n"
     ]
    }
   ],
   "source": [
    "def cluster_accuracy(y_true, y_pred):\n",
    "    # Match cluster labels to true labels using Hungarian Algorithm\n",
    "    D = confusion_matrix(y_true, y_pred)\n",
    "    row_ind, col_ind = linear_sum_assignment(-D)\n",
    "    accuracy = D[row_ind, col_ind].sum() / y_true.size\n",
    "    return accuracy\n",
    "\n",
    "def compare_clustering_accuracy(X_scaled, y_true, best_gmm, best_k=3):\n",
    "    # GMM predictions\n",
    "    em_labels = best_gmm.predict(X_scaled)\n",
    "    em_acc = cluster_accuracy(y_true, em_labels)\n",
    "    \n",
    "    # KMeans predictions\n",
    "    kmeans = KMeans(n_clusters=best_k, random_state=42)\n",
    "    kmeans_labels = kmeans.fit_predict(X_scaled)\n",
    "    kmeans_acc = cluster_accuracy(y_true, kmeans_labels)\n",
    "    \n",
    "    print(f\"\\n=== Classification Accuracy ===\")\n",
    "    print(f\"EM (GMM):    {em_acc:.3f}\")\n",
    "    print(f\"KMeans:      {kmeans_acc:.3f}\")\n",
    "# Run EM\n",
    "X_scaled, bic = apply_em_with_model_selection(df_temp, 'knowledge_int')\n",
    "\n",
    "# Evaluate cluster accuracy\n",
    "y_true = df['knowledge_int'].to_numpy()\n",
    "best_gmm = GaussianMixture(n_components=3, random_state=42).fit(X_scaled)  # Use best_n if tracked\n",
    "compare_clustering_accuracy(X_scaled, y_true, best_gmm, best_k=3)\n"
   ]
  }
 ],
 "metadata": {
  "celltoolbar": "Initialization Cell",
  "kernelspec": {
   "display_name": "py39",
   "language": "python",
   "name": "py39"
  },
  "language_info": {
   "codemirror_mode": {
    "name": "ipython",
    "version": 3
   },
   "file_extension": ".py",
   "mimetype": "text/x-python",
   "name": "python",
   "nbconvert_exporter": "python",
   "pygments_lexer": "ipython3",
   "version": "3.9.13"
  }
 },
 "nbformat": 4,
 "nbformat_minor": 5
}

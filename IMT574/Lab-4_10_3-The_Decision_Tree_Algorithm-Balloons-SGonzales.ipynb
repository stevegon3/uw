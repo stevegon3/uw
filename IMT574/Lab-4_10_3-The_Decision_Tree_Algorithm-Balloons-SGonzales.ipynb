{
 "cells": [
  {
   "cell_type": "markdown",
   "id": "1036ce6d",
   "metadata": {},
   "source": [
    "# Lab 4.10.3: The Decision Tree Algorithm—Balloons\n",
    "To get started, download the balloons dataset. It has four attributes: color, size, act, age, and one class label, inflated (True or False).<p>\n",
    "\n",
    "Step 1: Use the decision tree algorithm to learn how to predict if the balloon is inflated or not using the features available. Make sure to do an appropriate split of the data for training testing.<p>\n",
    "\n",
    "Step 2: Try doing this using at least two different subsets of the features.<p>\n",
    "\n",
    "Step 3: What differences do you find in the nature of the tree as well as the accuracy for the classification you can achieve?"
   ]
  },
  {
   "cell_type": "code",
   "execution_count": 2,
   "id": "d584da89",
   "metadata": {
    "ExecuteTime": {
     "end_time": "2025-04-28T16:28:36.938014Z",
     "start_time": "2025-04-28T16:28:36.906408Z"
    },
    "init_cell": true
   },
   "outputs": [],
   "source": [
    "import pandas as pd\n",
    "import numpy as np\n",
    "import matplotlib.pyplot as plt\n",
    "from sklearn.metrics import mean_squared_error, r2_score, accuracy_score, confusion_matrix, classification_report\n",
    "from sklearn.model_selection import train_test_split\n",
    "from sklearn.preprocessing import StandardScaler\n",
    "from sklearn.tree import DecisionTreeClassifier"
   ]
  },
  {
   "cell_type": "code",
   "execution_count": 18,
   "id": "730563c3",
   "metadata": {
    "ExecuteTime": {
     "end_time": "2025-04-23T04:55:44.913339Z",
     "start_time": "2025-04-23T04:55:44.889227Z"
    }
   },
   "outputs": [
    {
     "name": "stdout",
     "output_type": "stream",
     "text": [
      "Index([0, 1, 2, 3, 4], dtype='int64')\n"
     ]
    },
    {
     "data": {
      "text/plain": [
       "<bound method NDFrame.head of          0      1        2      3  4\n",
       "0   YELLOW  SMALL  STRETCH  ADULT  T\n",
       "1   YELLOW  SMALL  STRETCH  ADULT  T\n",
       "2   YELLOW  SMALL  STRETCH  CHILD  F\n",
       "3   YELLOW  SMALL      DIP  ADULT  F\n",
       "4   YELLOW  SMALL      DIP  CHILD  F\n",
       "5   YELLOW  LARGE  STRETCH  ADULT  T\n",
       "6   YELLOW  LARGE  STRETCH  ADULT  T\n",
       "7   YELLOW  LARGE  STRETCH  CHILD  F\n",
       "8   YELLOW  LARGE      DIP  ADULT  F\n",
       "9   YELLOW  LARGE      DIP  CHILD  F\n",
       "10  PURPLE  SMALL  STRETCH  ADULT  T\n",
       "11  PURPLE  SMALL  STRETCH  ADULT  T\n",
       "12  PURPLE  SMALL  STRETCH  CHILD  F\n",
       "13  PURPLE  SMALL      DIP  ADULT  F\n",
       "14  PURPLE  SMALL      DIP  CHILD  F\n",
       "15  PURPLE  LARGE  STRETCH  ADULT  T\n",
       "16  PURPLE  LARGE  STRETCH  ADULT  T\n",
       "17  PURPLE  LARGE  STRETCH  CHILD  F\n",
       "18  PURPLE  LARGE      DIP  ADULT  F\n",
       "19  PURPLE  LARGE      DIP  CHILD  F>"
      ]
     },
     "metadata": {},
     "output_type": "display_data"
    }
   ],
   "source": [
    "df = pd.read_csv('LAB 4.10.3-adult+stretch.data', header=None)\n",
    "print(df.columns)\n",
    "display(df.head)"
   ]
  },
  {
   "cell_type": "code",
   "execution_count": 22,
   "id": "07e1ef5e",
   "metadata": {
    "ExecuteTime": {
     "end_time": "2025-04-23T04:58:12.124725Z",
     "start_time": "2025-04-23T04:58:12.109731Z"
    }
   },
   "outputs": [
    {
     "data": {
      "text/html": [
       "<div>\n",
       "<style scoped>\n",
       "    .dataframe tbody tr th:only-of-type {\n",
       "        vertical-align: middle;\n",
       "    }\n",
       "\n",
       "    .dataframe tbody tr th {\n",
       "        vertical-align: top;\n",
       "    }\n",
       "\n",
       "    .dataframe thead th {\n",
       "        text-align: right;\n",
       "    }\n",
       "</style>\n",
       "<table border=\"1\" class=\"dataframe\">\n",
       "  <thead>\n",
       "    <tr style=\"text-align: right;\">\n",
       "      <th></th>\n",
       "      <th>color</th>\n",
       "      <th>size</th>\n",
       "      <th>act</th>\n",
       "      <th>age</th>\n",
       "      <th>inflated</th>\n",
       "    </tr>\n",
       "  </thead>\n",
       "  <tbody>\n",
       "    <tr>\n",
       "      <th>0</th>\n",
       "      <td>YELLOW</td>\n",
       "      <td>SMALL</td>\n",
       "      <td>STRETCH</td>\n",
       "      <td>ADULT</td>\n",
       "      <td>T</td>\n",
       "    </tr>\n",
       "    <tr>\n",
       "      <th>1</th>\n",
       "      <td>YELLOW</td>\n",
       "      <td>SMALL</td>\n",
       "      <td>STRETCH</td>\n",
       "      <td>ADULT</td>\n",
       "      <td>T</td>\n",
       "    </tr>\n",
       "    <tr>\n",
       "      <th>2</th>\n",
       "      <td>YELLOW</td>\n",
       "      <td>SMALL</td>\n",
       "      <td>STRETCH</td>\n",
       "      <td>CHILD</td>\n",
       "      <td>F</td>\n",
       "    </tr>\n",
       "  </tbody>\n",
       "</table>\n",
       "</div>"
      ],
      "text/plain": [
       "    color   size      act    age inflated\n",
       "0  YELLOW  SMALL  STRETCH  ADULT        T\n",
       "1  YELLOW  SMALL  STRETCH  ADULT        T\n",
       "2  YELLOW  SMALL  STRETCH  CHILD        F"
      ]
     },
     "metadata": {},
     "output_type": "display_data"
    },
    {
     "name": "stdout",
     "output_type": "stream",
     "text": [
      "Index(['color', 'size', 'act', 'age', 'inflated'], dtype='object')\n"
     ]
    }
   ],
   "source": [
    "# Rename the columns\n",
    "df = df.rename(columns={\n",
    "    0: 'color',\n",
    "    1: 'size',\n",
    "    2: 'act',\n",
    "    3: 'age',\n",
    "    4: 'inflated'})\n",
    "display(df.head(3))\n",
    "print(df.columns)"
   ]
  },
  {
   "cell_type": "code",
   "execution_count": 16,
   "id": "b4bf9c9e",
   "metadata": {
    "ExecuteTime": {
     "end_time": "2025-04-23T04:55:07.764314Z",
     "start_time": "2025-04-23T04:55:07.740623Z"
    }
   },
   "outputs": [
    {
     "data": {
      "text/html": [
       "<div>\n",
       "<style scoped>\n",
       "    .dataframe tbody tr th:only-of-type {\n",
       "        vertical-align: middle;\n",
       "    }\n",
       "\n",
       "    .dataframe tbody tr th {\n",
       "        vertical-align: top;\n",
       "    }\n",
       "\n",
       "    .dataframe thead th {\n",
       "        text-align: right;\n",
       "    }\n",
       "</style>\n",
       "<table border=\"1\" class=\"dataframe\">\n",
       "  <thead>\n",
       "    <tr style=\"text-align: right;\">\n",
       "      <th></th>\n",
       "      <th>color</th>\n",
       "      <th>size</th>\n",
       "      <th>act</th>\n",
       "      <th>age</th>\n",
       "      <th>inflated</th>\n",
       "    </tr>\n",
       "  </thead>\n",
       "  <tbody>\n",
       "    <tr>\n",
       "      <th>count</th>\n",
       "      <td>20</td>\n",
       "      <td>20</td>\n",
       "      <td>20</td>\n",
       "      <td>20</td>\n",
       "      <td>20</td>\n",
       "    </tr>\n",
       "    <tr>\n",
       "      <th>unique</th>\n",
       "      <td>2</td>\n",
       "      <td>2</td>\n",
       "      <td>2</td>\n",
       "      <td>2</td>\n",
       "      <td>2</td>\n",
       "    </tr>\n",
       "    <tr>\n",
       "      <th>top</th>\n",
       "      <td>YELLOW</td>\n",
       "      <td>SMALL</td>\n",
       "      <td>STRETCH</td>\n",
       "      <td>ADULT</td>\n",
       "      <td>F</td>\n",
       "    </tr>\n",
       "    <tr>\n",
       "      <th>freq</th>\n",
       "      <td>10</td>\n",
       "      <td>10</td>\n",
       "      <td>12</td>\n",
       "      <td>12</td>\n",
       "      <td>12</td>\n",
       "    </tr>\n",
       "  </tbody>\n",
       "</table>\n",
       "</div>"
      ],
      "text/plain": [
       "         color   size      act    age inflated\n",
       "count       20     20       20     20       20\n",
       "unique       2      2        2      2        2\n",
       "top     YELLOW  SMALL  STRETCH  ADULT        F\n",
       "freq        10     10       12     12       12"
      ]
     },
     "execution_count": 16,
     "metadata": {},
     "output_type": "execute_result"
    }
   ],
   "source": [
    "df.describe()"
   ]
  },
  {
   "cell_type": "code",
   "execution_count": 21,
   "id": "d029c04c",
   "metadata": {
    "ExecuteTime": {
     "end_time": "2025-04-23T04:57:21.165939Z",
     "start_time": "2025-04-23T04:57:21.146168Z"
    }
   },
   "outputs": [
    {
     "name": "stdout",
     "output_type": "stream",
     "text": [
      "Column mappings: {'color': {'YELLOW': 1, 'PURPLE': 2}, 'size': {'SMALL': 1, 'LARGE': 2}, 'act': {'STRETCH': 1, 'DIP': 2}, 'age': {'ADULT': 1, 'CHILD': 2}}\n",
      "\n",
      "Transformed DataFrame:\n",
      "    color  size  act  age  inflated\n",
      "0       1     1    1    1         1\n",
      "1       1     1    1    1         1\n",
      "2       1     1    1    2         0\n",
      "3       1     1    2    1         0\n",
      "4       1     1    2    2         0\n",
      "5       1     2    1    1         1\n",
      "6       1     2    1    1         1\n",
      "7       1     2    1    2         0\n",
      "8       1     2    2    1         0\n",
      "9       1     2    2    2         0\n",
      "10      2     1    1    1         1\n",
      "11      2     1    1    1         1\n",
      "12      2     1    1    2         0\n",
      "13      2     1    2    1         0\n",
      "14      2     1    2    2         0\n",
      "15      2     2    1    1         1\n",
      "16      2     2    1    1         1\n",
      "17      2     2    1    2         0\n",
      "18      2     2    2    1         0\n",
      "19      2     2    2    2         0\n"
     ]
    }
   ],
   "source": [
    "df_scaled = df.copy()\n",
    "column_mappings = {}\n",
    "# Replace unique values in each column with integers starting from 1\n",
    "for col in df.columns[:-1]:\n",
    "    unique_values = df_scaled[col].unique()\n",
    "    mapping = {value: int(idx) + 1 for idx, value in enumerate(unique_values)}\n",
    "    column_mappings[col] = mapping\n",
    "    df_scaled[col] = df_scaled[col].map(mapping)\n",
    "df_scaled['inflated'] = df_scaled['inflated'].map({'T': 1, 'F': 0})\n",
    "print(\"Column mappings:\", column_mappings)\n",
    "print(\"\\nTransformed DataFrame:\")\n",
    "print(df_scaled)"
   ]
  },
  {
   "cell_type": "code",
   "execution_count": 35,
   "id": "221a6d97",
   "metadata": {
    "ExecuteTime": {
     "end_time": "2025-04-23T05:06:53.021216Z",
     "start_time": "2025-04-23T05:06:52.994056Z"
    }
   },
   "outputs": [
    {
     "name": "stdout",
     "output_type": "stream",
     "text": [
      "['act'] Accuracy: 0.75\n",
      "\n"
     ]
    },
    {
     "name": "stderr",
     "output_type": "stream",
     "text": [
      "S:\\code\\uw\\IMT574\\py39_venv\\lib\\site-packages\\sklearn\\metrics\\_classification.py:1565: UndefinedMetricWarning: Precision is ill-defined and being set to 0.0 in labels with no predicted samples. Use `zero_division` parameter to control this behavior.\n",
      "  _warn_prf(average, modifier, f\"{metric.capitalize()} is\", len(result))\n",
      "S:\\code\\uw\\IMT574\\py39_venv\\lib\\site-packages\\sklearn\\metrics\\_classification.py:1565: UndefinedMetricWarning: Precision is ill-defined and being set to 0.0 in labels with no predicted samples. Use `zero_division` parameter to control this behavior.\n",
      "  _warn_prf(average, modifier, f\"{metric.capitalize()} is\", len(result))\n",
      "S:\\code\\uw\\IMT574\\py39_venv\\lib\\site-packages\\sklearn\\metrics\\_classification.py:1565: UndefinedMetricWarning: Precision is ill-defined and being set to 0.0 in labels with no predicted samples. Use `zero_division` parameter to control this behavior.\n",
      "  _warn_prf(average, modifier, f\"{metric.capitalize()} is\", len(result))\n"
     ]
    }
   ],
   "source": [
    "X_cols = ['color', 'size', 'act', 'age']\n",
    "X_cols = ['act']\n",
    "y = df_scaled['inflated']  # Target variable\n",
    "for i in range(len(X_cols)):\n",
    "    X = df_scaled[X_cols[:i+1]]  # Predictor variables\n",
    "    \n",
    "    # Split the data into training and testing sets\n",
    "    X_train, X_test, y_train, y_test = train_test_split(X, y, test_size=0.2, random_state=42)\n",
    "\n",
    "    # Train the decision tree classifier\n",
    "    clf = DecisionTreeClassifier(random_state=42)\n",
    "    clf.fit(X_train, y_train)\n",
    "\n",
    "    # Make predictions\n",
    "    y_pred = clf.predict(X_test)\n",
    "\n",
    "    # Evaluate the model\n",
    "    accuracy = accuracy_score(y_test, y_pred)\n",
    "    conf_matrix = confusion_matrix(y_test, y_pred)\n",
    "    report = classification_report(y_test, y_pred)\n",
    "\n",
    "    print(X_cols[:i+1], f\"Accuracy: {accuracy:.2f}\")\n",
    "    print('')"
   ]
  },
  {
   "cell_type": "code",
   "execution_count": 34,
   "id": "0df8e51d",
   "metadata": {
    "ExecuteTime": {
     "end_time": "2025-04-23T05:06:05.371042Z",
     "start_time": "2025-04-23T05:06:05.286813Z"
    }
   },
   "outputs": [
    {
     "name": "stdout",
     "output_type": "stream",
     "text": [
      "['color'] Accuracy: 0.25\n",
      "\n",
      "['color', 'size'] Accuracy: 0.25\n",
      "\n",
      "['color', 'size', 'act'] Accuracy: 0.25\n",
      "\n",
      "['color', 'size', 'act', 'age'] Accuracy: 1.00\n",
      "\n"
     ]
    },
    {
     "name": "stderr",
     "output_type": "stream",
     "text": [
      "S:\\code\\uw\\IMT574\\py39_venv\\lib\\site-packages\\sklearn\\metrics\\_classification.py:1565: UndefinedMetricWarning: Precision is ill-defined and being set to 0.0 in labels with no predicted samples. Use `zero_division` parameter to control this behavior.\n",
      "  _warn_prf(average, modifier, f\"{metric.capitalize()} is\", len(result))\n",
      "S:\\code\\uw\\IMT574\\py39_venv\\lib\\site-packages\\sklearn\\metrics\\_classification.py:1565: UndefinedMetricWarning: Precision is ill-defined and being set to 0.0 in labels with no predicted samples. Use `zero_division` parameter to control this behavior.\n",
      "  _warn_prf(average, modifier, f\"{metric.capitalize()} is\", len(result))\n",
      "S:\\code\\uw\\IMT574\\py39_venv\\lib\\site-packages\\sklearn\\metrics\\_classification.py:1565: UndefinedMetricWarning: Precision is ill-defined and being set to 0.0 in labels with no predicted samples. Use `zero_division` parameter to control this behavior.\n",
      "  _warn_prf(average, modifier, f\"{metric.capitalize()} is\", len(result))\n",
      "S:\\code\\uw\\IMT574\\py39_venv\\lib\\site-packages\\sklearn\\metrics\\_classification.py:1565: UndefinedMetricWarning: Precision is ill-defined and being set to 0.0 in labels with no predicted samples. Use `zero_division` parameter to control this behavior.\n",
      "  _warn_prf(average, modifier, f\"{metric.capitalize()} is\", len(result))\n",
      "S:\\code\\uw\\IMT574\\py39_venv\\lib\\site-packages\\sklearn\\metrics\\_classification.py:1565: UndefinedMetricWarning: Precision is ill-defined and being set to 0.0 in labels with no predicted samples. Use `zero_division` parameter to control this behavior.\n",
      "  _warn_prf(average, modifier, f\"{metric.capitalize()} is\", len(result))\n",
      "S:\\code\\uw\\IMT574\\py39_venv\\lib\\site-packages\\sklearn\\metrics\\_classification.py:1565: UndefinedMetricWarning: Precision is ill-defined and being set to 0.0 in labels with no predicted samples. Use `zero_division` parameter to control this behavior.\n",
      "  _warn_prf(average, modifier, f\"{metric.capitalize()} is\", len(result))\n"
     ]
    }
   ],
   "source": [
    "X_cols = ['color', 'size', 'act', 'age']\n",
    "y = df_scaled['inflated']  # Target variable\n",
    "for i in range(len(X_cols)):\n",
    "    X = df_scaled[X_cols[:i+1]]  # Predictor variables\n",
    "    \n",
    "    # Split the data into training and testing sets\n",
    "    X_train, X_test, y_train, y_test = train_test_split(X, y, test_size=0.2, random_state=42)\n",
    "\n",
    "    # Train the decision tree classifier\n",
    "    clf = DecisionTreeClassifier(random_state=42)\n",
    "    clf.fit(X_train, y_train)\n",
    "\n",
    "    # Make predictions\n",
    "    y_pred = clf.predict(X_test)\n",
    "\n",
    "    # Evaluate the model\n",
    "    accuracy = accuracy_score(y_test, y_pred)\n",
    "    conf_matrix = confusion_matrix(y_test, y_pred)\n",
    "    report = classification_report(y_test, y_pred)\n",
    "\n",
    "    print(X_cols[:i+1], f\"Accuracy: {accuracy:.2f}\")\n",
    "    print('')"
   ]
  },
  {
   "cell_type": "markdown",
   "id": "09e0368a",
   "metadata": {},
   "source": [
    "Using all four features: ['color', 'size', 'act', 'age'] produces the best results. Using step wise selection, no other combination works well: all 25%.<p>\n",
    "However, using just `act` yields a 75% accuracy."
   ]
  }
 ],
 "metadata": {
  "celltoolbar": "Initialization Cell",
  "kernelspec": {
   "display_name": "py39",
   "language": "python",
   "name": "py39"
  },
  "language_info": {
   "codemirror_mode": {
    "name": "ipython",
    "version": 3
   },
   "file_extension": ".py",
   "mimetype": "text/x-python",
   "name": "python",
   "nbconvert_exporter": "python",
   "pygments_lexer": "ipython3",
   "version": "3.9.13"
  }
 },
 "nbformat": 4,
 "nbformat_minor": 5
}

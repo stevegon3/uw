{
 "cells": [
  {
   "cell_type": "markdown",
   "id": "92ccb294",
   "metadata": {},
   "source": [
    "# Lab 3.8.3: Classifiers—Testing Accuracy—Accident Survivors Dataset \n",
    "The dataset crash.csv Download crash.csvis an accident-survivors dataset portal for the USA (crash data for individual States can be searched) hosted by data.gov. The dataset contains passengers’ (not necessarily the driver’s) age and the speed of the vehicle (mph) at the time of impact and the fate of the passengers (1 represents survived, 0 represents did not survive) after the crash.<p>\n",
    "\n",
    "Step 1: Use logistic regression first with just age, then just speed, and then both to learn the survivability of the passenger.<p>\n",
    "Which one of these models gives the best testing accuracy?<p>\n",
    "Step 2: Now, do the same with kNN, this time working with different values of k."
   ]
  },
  {
   "cell_type": "code",
   "execution_count": 1,
   "id": "ab9a561d",
   "metadata": {
    "ExecuteTime": {
     "end_time": "2025-04-15T02:33:11.937195Z",
     "start_time": "2025-04-15T02:33:10.552078Z"
    }
   },
   "outputs": [],
   "source": [
    "import pandas as pd\n",
    "import numpy as np\n",
    "import matplotlib.pyplot as plt\n",
    "from sklearn.metrics import mean_squared_error, r2_score, accuracy_score\n",
    "from sklearn.model_selection import train_test_split\n",
    "from sklearn.model_selection import train_test_split\n",
    "from sklearn.preprocessing import StandardScaler\n",
    "from sklearn.neighbors import KNeighborsClassifier\n",
    "\n",
    "import statsmodels.api as sm\n",
    "import statsmodels.formula.api as smf"
   ]
  },
  {
   "cell_type": "code",
   "execution_count": 3,
   "id": "587dcb00",
   "metadata": {
    "ExecuteTime": {
     "end_time": "2025-04-15T02:33:56.134281Z",
     "start_time": "2025-04-15T02:33:56.105552Z"
    }
   },
   "outputs": [
    {
     "name": "stdout",
     "output_type": "stream",
     "text": [
      "Index(['PassengerId', 'Age', 'Speed', 'Survived'], dtype='object')\n"
     ]
    },
    {
     "data": {
      "text/html": [
       "<div>\n",
       "<style scoped>\n",
       "    .dataframe tbody tr th:only-of-type {\n",
       "        vertical-align: middle;\n",
       "    }\n",
       "\n",
       "    .dataframe tbody tr th {\n",
       "        vertical-align: top;\n",
       "    }\n",
       "\n",
       "    .dataframe thead th {\n",
       "        text-align: right;\n",
       "    }\n",
       "</style>\n",
       "<table border=\"1\" class=\"dataframe\">\n",
       "  <thead>\n",
       "    <tr style=\"text-align: right;\">\n",
       "      <th></th>\n",
       "      <th>PassengerId</th>\n",
       "      <th>Age</th>\n",
       "      <th>Speed</th>\n",
       "      <th>Survived</th>\n",
       "    </tr>\n",
       "  </thead>\n",
       "  <tbody>\n",
       "    <tr>\n",
       "      <th>0</th>\n",
       "      <td>1</td>\n",
       "      <td>22</td>\n",
       "      <td>65</td>\n",
       "      <td>0</td>\n",
       "    </tr>\n",
       "    <tr>\n",
       "      <th>1</th>\n",
       "      <td>2</td>\n",
       "      <td>38</td>\n",
       "      <td>50</td>\n",
       "      <td>1</td>\n",
       "    </tr>\n",
       "    <tr>\n",
       "      <th>2</th>\n",
       "      <td>3</td>\n",
       "      <td>26</td>\n",
       "      <td>45</td>\n",
       "      <td>1</td>\n",
       "    </tr>\n",
       "    <tr>\n",
       "      <th>3</th>\n",
       "      <td>4</td>\n",
       "      <td>35</td>\n",
       "      <td>55</td>\n",
       "      <td>1</td>\n",
       "    </tr>\n",
       "    <tr>\n",
       "      <th>4</th>\n",
       "      <td>5</td>\n",
       "      <td>35</td>\n",
       "      <td>85</td>\n",
       "      <td>0</td>\n",
       "    </tr>\n",
       "    <tr>\n",
       "      <th>5</th>\n",
       "      <td>6</td>\n",
       "      <td>26</td>\n",
       "      <td>117</td>\n",
       "      <td>0</td>\n",
       "    </tr>\n",
       "    <tr>\n",
       "      <th>6</th>\n",
       "      <td>7</td>\n",
       "      <td>54</td>\n",
       "      <td>68</td>\n",
       "      <td>0</td>\n",
       "    </tr>\n",
       "    <tr>\n",
       "      <th>7</th>\n",
       "      <td>8</td>\n",
       "      <td>12</td>\n",
       "      <td>72</td>\n",
       "      <td>0</td>\n",
       "    </tr>\n",
       "    <tr>\n",
       "      <th>8</th>\n",
       "      <td>9</td>\n",
       "      <td>27</td>\n",
       "      <td>46</td>\n",
       "      <td>1</td>\n",
       "    </tr>\n",
       "    <tr>\n",
       "      <th>9</th>\n",
       "      <td>10</td>\n",
       "      <td>32</td>\n",
       "      <td>71</td>\n",
       "      <td>1</td>\n",
       "    </tr>\n",
       "    <tr>\n",
       "      <th>10</th>\n",
       "      <td>11</td>\n",
       "      <td>43</td>\n",
       "      <td>56</td>\n",
       "      <td>1</td>\n",
       "    </tr>\n",
       "    <tr>\n",
       "      <th>11</th>\n",
       "      <td>12</td>\n",
       "      <td>58</td>\n",
       "      <td>32</td>\n",
       "      <td>1</td>\n",
       "    </tr>\n",
       "    <tr>\n",
       "      <th>12</th>\n",
       "      <td>13</td>\n",
       "      <td>27</td>\n",
       "      <td>96</td>\n",
       "      <td>0</td>\n",
       "    </tr>\n",
       "    <tr>\n",
       "      <th>13</th>\n",
       "      <td>14</td>\n",
       "      <td>29</td>\n",
       "      <td>79</td>\n",
       "      <td>0</td>\n",
       "    </tr>\n",
       "    <tr>\n",
       "      <th>14</th>\n",
       "      <td>15</td>\n",
       "      <td>21</td>\n",
       "      <td>63</td>\n",
       "      <td>0</td>\n",
       "    </tr>\n",
       "    <tr>\n",
       "      <th>15</th>\n",
       "      <td>16</td>\n",
       "      <td>55</td>\n",
       "      <td>26</td>\n",
       "      <td>1</td>\n",
       "    </tr>\n",
       "    <tr>\n",
       "      <th>16</th>\n",
       "      <td>17</td>\n",
       "      <td>2</td>\n",
       "      <td>47</td>\n",
       "      <td>0</td>\n",
       "    </tr>\n",
       "    <tr>\n",
       "      <th>17</th>\n",
       "      <td>18</td>\n",
       "      <td>39</td>\n",
       "      <td>35</td>\n",
       "      <td>1</td>\n",
       "    </tr>\n",
       "    <tr>\n",
       "      <th>18</th>\n",
       "      <td>19</td>\n",
       "      <td>31</td>\n",
       "      <td>83</td>\n",
       "      <td>0</td>\n",
       "    </tr>\n",
       "    <tr>\n",
       "      <th>19</th>\n",
       "      <td>20</td>\n",
       "      <td>7</td>\n",
       "      <td>61</td>\n",
       "      <td>1</td>\n",
       "    </tr>\n",
       "  </tbody>\n",
       "</table>\n",
       "</div>"
      ],
      "text/plain": [
       "    PassengerId  Age  Speed  Survived\n",
       "0             1   22     65         0\n",
       "1             2   38     50         1\n",
       "2             3   26     45         1\n",
       "3             4   35     55         1\n",
       "4             5   35     85         0\n",
       "5             6   26    117         0\n",
       "6             7   54     68         0\n",
       "7             8   12     72         0\n",
       "8             9   27     46         1\n",
       "9            10   32     71         1\n",
       "10           11   43     56         1\n",
       "11           12   58     32         1\n",
       "12           13   27     96         0\n",
       "13           14   29     79         0\n",
       "14           15   21     63         0\n",
       "15           16   55     26         1\n",
       "16           17    2     47         0\n",
       "17           18   39     35         1\n",
       "18           19   31     83         0\n",
       "19           20    7     61         1"
      ]
     },
     "metadata": {},
     "output_type": "display_data"
    }
   ],
   "source": [
    "df = pd.read_csv('LAB 3.8.3-crash.csv')\n",
    "print(df.columns)\n",
    "# df.columns = ['']\n",
    "display(df)"
   ]
  },
  {
   "cell_type": "code",
   "execution_count": 12,
   "id": "573a34d8",
   "metadata": {
    "ExecuteTime": {
     "end_time": "2025-04-15T02:46:03.713686Z",
     "start_time": "2025-04-15T02:46:03.666851Z"
    }
   },
   "outputs": [
    {
     "name": "stdout",
     "output_type": "stream",
     "text": [
      "Optimization terminated successfully.\n",
      "         Current function value: 0.624947\n",
      "         Iterations 5\n",
      "Accuracy of Logit Model ['Age'] predicting Program: 0.75\n",
      "Optimization terminated successfully.\n",
      "         Current function value: 0.432918\n",
      "         Iterations 7\n",
      "Accuracy of Logit Model ['Speed'] predicting Program: 1.00\n",
      "Optimization terminated successfully.\n",
      "         Current function value: 0.400191\n",
      "         Iterations 7\n",
      "Accuracy of Logit Model ['Age', 'Speed'] predicting Program: 1.00\n"
     ]
    }
   ],
   "source": [
    "for p in [['Age'], ['Speed'], ['Age', 'Speed']]:\n",
    "    # Feature matrix (X) and target vector (y)\n",
    "    X = df[p]\n",
    "    y = df['Survived']  # 'Survived' is the target (categorical)\n",
    "\n",
    "    # Add a constant term (for intercept)\n",
    "    X = sm.add_constant(X)\n",
    "\n",
    "    # Split data into training and testing sets\n",
    "    X_train, X_test, y_train, y_test = train_test_split(X, y, test_size=0.2, random_state=7)\n",
    "    model = sm.MNLogit(y_train, X_train)\n",
    "    result = model.fit()\n",
    "    y_pred_prob = result.predict(X_test)  # Probabilities for each class\n",
    "\n",
    "    # Get the predicted class by choosing the class with the highest probability\n",
    "    y_pred = y_pred_prob.idxmax(axis=1)\n",
    "\n",
    "    # Calculate accuracy\n",
    "    accuracy_logit = accuracy_score(y_test, y_pred)\n",
    "\n",
    "    print(f\"Accuracy of Logit Model {p} predicting Program: {accuracy_logit:.2f}\")"
   ]
  },
  {
   "cell_type": "code",
   "execution_count": 11,
   "id": "7ee6ccf8",
   "metadata": {
    "ExecuteTime": {
     "end_time": "2025-04-15T02:45:41.278502Z",
     "start_time": "2025-04-15T02:45:41.256320Z"
    }
   },
   "outputs": [
    {
     "name": "stdout",
     "output_type": "stream",
     "text": [
      "    const  Age  Speed\n",
      "0     1.0   22     65\n",
      "17    1.0   39     35\n",
      "15    1.0   55     26\n",
      "1     1.0   38     50\n",
      "\n",
      "0     0\n",
      "17    1\n",
      "15    1\n",
      "1     1\n",
      "dtype: int64\n"
     ]
    },
    {
     "data": {
      "text/html": [
       "<div>\n",
       "<style scoped>\n",
       "    .dataframe tbody tr th:only-of-type {\n",
       "        vertical-align: middle;\n",
       "    }\n",
       "\n",
       "    .dataframe tbody tr th {\n",
       "        vertical-align: top;\n",
       "    }\n",
       "\n",
       "    .dataframe thead th {\n",
       "        text-align: right;\n",
       "    }\n",
       "</style>\n",
       "<table border=\"1\" class=\"dataframe\">\n",
       "  <thead>\n",
       "    <tr style=\"text-align: right;\">\n",
       "      <th></th>\n",
       "      <th>0</th>\n",
       "      <th>1</th>\n",
       "    </tr>\n",
       "  </thead>\n",
       "  <tbody>\n",
       "    <tr>\n",
       "      <th>0</th>\n",
       "      <td>0.654980</td>\n",
       "      <td>0.345020</td>\n",
       "    </tr>\n",
       "    <tr>\n",
       "      <th>17</th>\n",
       "      <td>0.017253</td>\n",
       "      <td>0.982747</td>\n",
       "    </tr>\n",
       "    <tr>\n",
       "      <th>15</th>\n",
       "      <td>0.002689</td>\n",
       "      <td>0.997311</td>\n",
       "    </tr>\n",
       "    <tr>\n",
       "      <th>1</th>\n",
       "      <td>0.116792</td>\n",
       "      <td>0.883208</td>\n",
       "    </tr>\n",
       "  </tbody>\n",
       "</table>\n",
       "</div>"
      ],
      "text/plain": [
       "           0         1\n",
       "0   0.654980  0.345020\n",
       "17  0.017253  0.982747\n",
       "15  0.002689  0.997311\n",
       "1   0.116792  0.883208"
      ]
     },
     "execution_count": 11,
     "metadata": {},
     "output_type": "execute_result"
    }
   ],
   "source": [
    "print(X_test)\n",
    "print('')\n",
    "print(y_pred)\n",
    "y_pred_prob"
   ]
  },
  {
   "cell_type": "markdown",
   "id": "dfa04449",
   "metadata": {},
   "source": [
    "With a random state of 42, the model is perfect. Changing it to 7 makes the model with just Age 75% accurate and the rest all 100%.<p>\n",
    "There is limited data, but the model fits very well. I would use all predictors 'Age', 'Speed'."
   ]
  },
  {
   "cell_type": "code",
   "execution_count": 17,
   "id": "96499336",
   "metadata": {
    "ExecuteTime": {
     "end_time": "2025-04-15T02:56:34.443470Z",
     "start_time": "2025-04-15T02:56:34.188410Z"
    }
   },
   "outputs": [
    {
     "name": "stdout",
     "output_type": "stream",
     "text": [
      "Accuracy of KNN k=1 Model predicting Program: 1.00\n",
      "Accuracy of KNN k=2 Model predicting Program: 1.00\n",
      "Accuracy of KNN k=3 Model predicting Program: 1.00\n",
      "Accuracy of KNN k=4 Model predicting Program: 1.00\n",
      "Accuracy of KNN k=5 Model predicting Program: 1.00\n",
      "Accuracy of KNN k=6 Model predicting Program: 1.00\n",
      "Accuracy of KNN k=7 Model predicting Program: 0.75\n",
      "Accuracy of KNN k=8 Model predicting Program: 0.75\n",
      "Accuracy of KNN k=9 Model predicting Program: 0.75\n"
     ]
    }
   ],
   "source": [
    "# Split before scaling\n",
    "X_train, X_test, y_train, y_test = train_test_split(X, y, test_size=0.2, random_state=42)\n",
    "\n",
    "# Scale AFTER splitting\n",
    "scaler = StandardScaler()\n",
    "X_train_scaled = scaler.fit_transform(X_train)\n",
    "X_test_scaled = scaler.transform(X_test)\n",
    "\n",
    "for k in range(1,10):\n",
    "    # Initialize kNN classifier\n",
    "    knn = KNeighborsClassifier(n_neighbors=k)  # You can adjust the number of neighbors\n",
    "    # Train the model\n",
    "    knn.fit(X_train_scaled, y_train)\n",
    "    # Make predictions\n",
    "    y_pred = knn.predict(X_test_scaled)\n",
    "    # Calculate accuracy\n",
    "    accuracy_knn = accuracy_score(y_test, y_pred)\n",
    "    print(f\"Accuracy of KNN {k=} Model predicting Program: {accuracy_knn:.2f}\")"
   ]
  },
  {
   "cell_type": "markdown",
   "id": "21ce0977",
   "metadata": {},
   "source": [
    "The model seems to get worse as the larger the number k of neighbors"
   ]
  }
 ],
 "metadata": {
  "kernelspec": {
   "display_name": "py39",
   "language": "python",
   "name": "py39"
  },
  "language_info": {
   "codemirror_mode": {
    "name": "ipython",
    "version": 3
   },
   "file_extension": ".py",
   "mimetype": "text/x-python",
   "name": "python",
   "nbconvert_exporter": "python",
   "pygments_lexer": "ipython3",
   "version": "3.9.13"
  }
 },
 "nbformat": 4,
 "nbformat_minor": 5
}

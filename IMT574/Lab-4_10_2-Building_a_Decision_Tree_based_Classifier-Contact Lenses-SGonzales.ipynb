{
 "cells": [
  {
   "cell_type": "markdown",
   "id": "48dfb2b6",
   "metadata": {},
   "source": [
    "# Lab 4.10.2: Building a Decision Tree-based Classifier—Contact Lenses\n",
    "The dataset you are going to use for this exercise is about contact lenses, Download contact lenses, which has three class labels:<p>\n",
    " - the patient should be prescribed hard contact lenses.\n",
    " - the patient should be prescribed soft contact lenses.\n",
    " - the patient should not be fitted with contact lenses.\n",
    "\n",
    "The attributes are the following:<p>\n",
    " - age of the patient: (1) young, (2) pre-presbyopic, (3) presbyopic\n",
    " - spectacle prescription: (1) myope, (2) hypermétrope\n",
    " - astigmatic: (1) no, (2) yes\n",
    " - tear production rate: (1) reduced, (2) normal<p>\n",
    "\n",
    "Step 1: Build a decision tree-based classifier using about 80% of the data that would recommend the class label based on the other attributes from the dataset.<p>\n",
    "Step 2: Use the remaining data to manually test how well your model will classify new data.<p>"
   ]
  },
  {
   "cell_type": "code",
   "execution_count": 2,
   "id": "29a2be34",
   "metadata": {
    "ExecuteTime": {
     "end_time": "2025-04-26T16:14:33.575381Z",
     "start_time": "2025-04-26T16:14:33.527676Z"
    },
    "init_cell": true
   },
   "outputs": [],
   "source": [
    "import pandas as pd\n",
    "import numpy as np\n",
    "import matplotlib.pyplot as plt\n",
    "from sklearn.metrics import mean_squared_error, r2_score, accuracy_score, confusion_matrix, classification_report\n",
    "from sklearn.model_selection import train_test_split\n",
    "from sklearn.model_selection import train_test_split\n",
    "from sklearn.preprocessing import StandardScaler\n",
    "from sklearn.neighbors import KNeighborsClassifier\n",
    "from sklearn.tree import DecisionTreeClassifier\n",
    "\n",
    "import statsmodels.api as sm\n",
    "import statsmodels.formula.api as smf"
   ]
  },
  {
   "cell_type": "code",
   "execution_count": 8,
   "id": "e879b8a8",
   "metadata": {
    "ExecuteTime": {
     "end_time": "2025-04-22T20:37:15.531490Z",
     "start_time": "2025-04-22T20:37:15.515237Z"
    }
   },
   "outputs": [
    {
     "name": "stdout",
     "output_type": "stream",
     "text": [
      "Index(['X1.1', 'X1.2', 'X1.3', 'X1.4', 'X3'], dtype='object')\n"
     ]
    },
    {
     "data": {
      "text/html": [
       "<div>\n",
       "<style scoped>\n",
       "    .dataframe tbody tr th:only-of-type {\n",
       "        vertical-align: middle;\n",
       "    }\n",
       "\n",
       "    .dataframe tbody tr th {\n",
       "        vertical-align: top;\n",
       "    }\n",
       "\n",
       "    .dataframe thead th {\n",
       "        text-align: right;\n",
       "    }\n",
       "</style>\n",
       "<table border=\"1\" class=\"dataframe\">\n",
       "  <thead>\n",
       "    <tr style=\"text-align: right;\">\n",
       "      <th></th>\n",
       "      <th>X1.1</th>\n",
       "      <th>X1.2</th>\n",
       "      <th>X1.3</th>\n",
       "      <th>X1.4</th>\n",
       "      <th>X3</th>\n",
       "    </tr>\n",
       "  </thead>\n",
       "  <tbody>\n",
       "    <tr>\n",
       "      <th>0</th>\n",
       "      <td>1</td>\n",
       "      <td>1</td>\n",
       "      <td>1</td>\n",
       "      <td>1</td>\n",
       "      <td>3</td>\n",
       "    </tr>\n",
       "    <tr>\n",
       "      <th>1</th>\n",
       "      <td>1</td>\n",
       "      <td>1</td>\n",
       "      <td>1</td>\n",
       "      <td>2</td>\n",
       "      <td>2</td>\n",
       "    </tr>\n",
       "  </tbody>\n",
       "</table>\n",
       "</div>"
      ],
      "text/plain": [
       "   X1.1  X1.2  X1.3  X1.4  X3\n",
       "0     1     1     1     1   3\n",
       "1     1     1     1     2   2"
      ]
     },
     "metadata": {},
     "output_type": "display_data"
    }
   ],
   "source": [
    "df = pd.read_excel('LAB 4.10.2 lenses.xlsx')\n",
    "print(df.columns)\n",
    "display(df.head(2))"
   ]
  },
  {
   "cell_type": "code",
   "execution_count": 9,
   "id": "0856674b",
   "metadata": {
    "ExecuteTime": {
     "end_time": "2025-04-22T20:37:17.980768Z",
     "start_time": "2025-04-22T20:37:17.965892Z"
    }
   },
   "outputs": [
    {
     "data": {
      "text/html": [
       "<div>\n",
       "<style scoped>\n",
       "    .dataframe tbody tr th:only-of-type {\n",
       "        vertical-align: middle;\n",
       "    }\n",
       "\n",
       "    .dataframe tbody tr th {\n",
       "        vertical-align: top;\n",
       "    }\n",
       "\n",
       "    .dataframe thead th {\n",
       "        text-align: right;\n",
       "    }\n",
       "</style>\n",
       "<table border=\"1\" class=\"dataframe\">\n",
       "  <thead>\n",
       "    <tr style=\"text-align: right;\">\n",
       "      <th></th>\n",
       "      <th>age</th>\n",
       "      <th>glass_rx</th>\n",
       "      <th>astigmatic</th>\n",
       "      <th>tear</th>\n",
       "      <th>contact_rx</th>\n",
       "    </tr>\n",
       "  </thead>\n",
       "  <tbody>\n",
       "    <tr>\n",
       "      <th>22</th>\n",
       "      <td>3</td>\n",
       "      <td>2</td>\n",
       "      <td>2</td>\n",
       "      <td>1</td>\n",
       "      <td>3</td>\n",
       "    </tr>\n",
       "    <tr>\n",
       "      <th>23</th>\n",
       "      <td>3</td>\n",
       "      <td>2</td>\n",
       "      <td>2</td>\n",
       "      <td>2</td>\n",
       "      <td>3</td>\n",
       "    </tr>\n",
       "  </tbody>\n",
       "</table>\n",
       "</div>"
      ],
      "text/plain": [
       "    age  glass_rx  astigmatic  tear  contact_rx\n",
       "22    3         2           2     1           3\n",
       "23    3         2           2     2           3"
      ]
     },
     "metadata": {},
     "output_type": "display_data"
    }
   ],
   "source": [
    "# Rename the columns\n",
    "df = df.rename(columns={\n",
    "    'X1.1': 'age',\n",
    "    'X1.2': 'glass_rx',\n",
    "    'X1.3': 'astigmatic',\n",
    "    'X1.4': 'tear',\n",
    "    'X3': 'contact_rx'\n",
    "})\n",
    "display(df.tail(2))"
   ]
  },
  {
   "cell_type": "code",
   "execution_count": 17,
   "id": "374afbb8",
   "metadata": {
    "ExecuteTime": {
     "end_time": "2025-04-22T20:46:02.939620Z",
     "start_time": "2025-04-22T20:46:02.917165Z"
    }
   },
   "outputs": [
    {
     "data": {
      "text/html": [
       "<div>\n",
       "<style scoped>\n",
       "    .dataframe tbody tr th:only-of-type {\n",
       "        vertical-align: middle;\n",
       "    }\n",
       "\n",
       "    .dataframe tbody tr th {\n",
       "        vertical-align: top;\n",
       "    }\n",
       "\n",
       "    .dataframe thead th {\n",
       "        text-align: right;\n",
       "    }\n",
       "</style>\n",
       "<table border=\"1\" class=\"dataframe\">\n",
       "  <thead>\n",
       "    <tr style=\"text-align: right;\">\n",
       "      <th></th>\n",
       "      <th>age</th>\n",
       "      <th>glass_rx</th>\n",
       "      <th>astigmatic</th>\n",
       "      <th>tear</th>\n",
       "      <th>contact_rx</th>\n",
       "    </tr>\n",
       "  </thead>\n",
       "  <tbody>\n",
       "    <tr>\n",
       "      <th>count</th>\n",
       "      <td>24.000000</td>\n",
       "      <td>24.000000</td>\n",
       "      <td>24.000000</td>\n",
       "      <td>24.000000</td>\n",
       "      <td>24.000000</td>\n",
       "    </tr>\n",
       "    <tr>\n",
       "      <th>mean</th>\n",
       "      <td>2.000000</td>\n",
       "      <td>1.500000</td>\n",
       "      <td>1.500000</td>\n",
       "      <td>1.500000</td>\n",
       "      <td>2.458333</td>\n",
       "    </tr>\n",
       "    <tr>\n",
       "      <th>std</th>\n",
       "      <td>0.834058</td>\n",
       "      <td>0.510754</td>\n",
       "      <td>0.510754</td>\n",
       "      <td>0.510754</td>\n",
       "      <td>0.779028</td>\n",
       "    </tr>\n",
       "    <tr>\n",
       "      <th>min</th>\n",
       "      <td>1.000000</td>\n",
       "      <td>1.000000</td>\n",
       "      <td>1.000000</td>\n",
       "      <td>1.000000</td>\n",
       "      <td>1.000000</td>\n",
       "    </tr>\n",
       "    <tr>\n",
       "      <th>25%</th>\n",
       "      <td>1.000000</td>\n",
       "      <td>1.000000</td>\n",
       "      <td>1.000000</td>\n",
       "      <td>1.000000</td>\n",
       "      <td>2.000000</td>\n",
       "    </tr>\n",
       "    <tr>\n",
       "      <th>50%</th>\n",
       "      <td>2.000000</td>\n",
       "      <td>1.500000</td>\n",
       "      <td>1.500000</td>\n",
       "      <td>1.500000</td>\n",
       "      <td>3.000000</td>\n",
       "    </tr>\n",
       "    <tr>\n",
       "      <th>75%</th>\n",
       "      <td>3.000000</td>\n",
       "      <td>2.000000</td>\n",
       "      <td>2.000000</td>\n",
       "      <td>2.000000</td>\n",
       "      <td>3.000000</td>\n",
       "    </tr>\n",
       "    <tr>\n",
       "      <th>max</th>\n",
       "      <td>3.000000</td>\n",
       "      <td>2.000000</td>\n",
       "      <td>2.000000</td>\n",
       "      <td>2.000000</td>\n",
       "      <td>3.000000</td>\n",
       "    </tr>\n",
       "  </tbody>\n",
       "</table>\n",
       "</div>"
      ],
      "text/plain": [
       "             age   glass_rx  astigmatic       tear  contact_rx\n",
       "count  24.000000  24.000000   24.000000  24.000000   24.000000\n",
       "mean    2.000000   1.500000    1.500000   1.500000    2.458333\n",
       "std     0.834058   0.510754    0.510754   0.510754    0.779028\n",
       "min     1.000000   1.000000    1.000000   1.000000    1.000000\n",
       "25%     1.000000   1.000000    1.000000   1.000000    2.000000\n",
       "50%     2.000000   1.500000    1.500000   1.500000    3.000000\n",
       "75%     3.000000   2.000000    2.000000   2.000000    3.000000\n",
       "max     3.000000   2.000000    2.000000   2.000000    3.000000"
      ]
     },
     "execution_count": 17,
     "metadata": {},
     "output_type": "execute_result"
    }
   ],
   "source": [
    "df.describe()"
   ]
  },
  {
   "cell_type": "code",
   "execution_count": 12,
   "id": "0c22c9a3",
   "metadata": {
    "ExecuteTime": {
     "end_time": "2025-04-22T20:38:37.648035Z",
     "start_time": "2025-04-22T20:38:37.619373Z"
    }
   },
   "outputs": [
    {
     "name": "stdout",
     "output_type": "stream",
     "text": [
      "Accuracy: 1.00\n",
      "Confusion Matrix:\n",
      "[[1 0]\n",
      " [0 4]]\n",
      "Classification Report:\n",
      "              precision    recall  f1-score   support\n",
      "\n",
      "           1       1.00      1.00      1.00         1\n",
      "           3       1.00      1.00      1.00         4\n",
      "\n",
      "    accuracy                           1.00         5\n",
      "   macro avg       1.00      1.00      1.00         5\n",
      "weighted avg       1.00      1.00      1.00         5\n",
      "\n"
     ]
    }
   ],
   "source": [
    "# Prepare the data\n",
    "X = df[['age', 'glass_rx', 'astigmatic', 'tear']]  # Predictor variables\n",
    "y = df['contact_rx']  # Target variable\n",
    "\n",
    "# Split the data into training and testing sets\n",
    "X_train, X_test, y_train, y_test = train_test_split(X, y, test_size=0.2, random_state=42)\n",
    "\n",
    "# Train the decision tree classifier\n",
    "clf = DecisionTreeClassifier(random_state=42)\n",
    "clf.fit(X_train, y_train)\n",
    "\n",
    "# Make predictions\n",
    "y_pred = clf.predict(X_test)\n",
    "\n",
    "# Evaluate the model\n",
    "accuracy = accuracy_score(y_test, y_pred)\n",
    "conf_matrix = confusion_matrix(y_test, y_pred)\n",
    "report = classification_report(y_test, y_pred)\n",
    "\n",
    "print(f\"Accuracy: {accuracy:.2f}\")\n",
    "print(\"Confusion Matrix:\")\n",
    "print(conf_matrix)\n",
    "print(\"Classification Report:\")\n",
    "print(report)"
   ]
  },
  {
   "cell_type": "code",
   "execution_count": 13,
   "id": "60067e5a",
   "metadata": {
    "ExecuteTime": {
     "end_time": "2025-04-22T20:39:58.867862Z",
     "start_time": "2025-04-22T20:39:58.856397Z"
    }
   },
   "outputs": [
    {
     "name": "stdout",
     "output_type": "stream",
     "text": [
      "    age  glass_rx  astigmatic  tear\n",
      "8     2         1           1     1\n",
      "16    3         1           1     1\n",
      "0     1         1           1     1\n",
      "18    3         1           2     1\n",
      "11    2         1           2     2\n",
      "8     3\n",
      "16    3\n",
      "0     3\n",
      "18    3\n",
      "11    1\n",
      "Name: contact_rx, dtype: int64\n"
     ]
    }
   ],
   "source": [
    "print(X_test)\n",
    "print(y_test)"
   ]
  },
  {
   "cell_type": "code",
   "execution_count": 18,
   "id": "22932d9a",
   "metadata": {
    "ExecuteTime": {
     "end_time": "2025-04-22T20:47:39.217778Z",
     "start_time": "2025-04-22T20:47:39.208769Z"
    }
   },
   "outputs": [],
   "source": [
    "def translate_result(result):\n",
    "    if np.array_equal(result, [1.0, 0.0, 0.0]):\n",
    "        return 1\n",
    "    elif np.array_equal(result, [0.0, 1.0, 0.0]):\n",
    "        return 2\n",
    "    elif np.array_equal(result, [0.0, 0.0, 1.0]):\n",
    "        return 3\n",
    "    else:\n",
    "        return None  # Handle unexpected cases"
   ]
  },
  {
   "cell_type": "code",
   "execution_count": 23,
   "id": "7e89ca1b",
   "metadata": {
    "ExecuteTime": {
     "end_time": "2025-04-22T20:49:40.871462Z",
     "start_time": "2025-04-22T20:49:40.854497Z"
    }
   },
   "outputs": [
    {
     "name": "stdout",
     "output_type": "stream",
     "text": [
      "age: 2, glass_rx: 1, astigmatic: 1, tears: 1 | Predicted Contact Rx = 3; actual = 3\n",
      "age: 3, glass_rx: 1, astigmatic: 1, tears: 1 | Predicted Contact Rx = 3; actual = 3\n",
      "age: 1, glass_rx: 1, astigmatic: 1, tears: 1 | Predicted Contact Rx = 3; actual = 3\n",
      "age: 3, glass_rx: 1, astigmatic: 2, tears: 1 | Predicted Contact Rx = 3; actual = 3\n",
      "age: 2, glass_rx: 1, astigmatic: 2, tears: 2 | Predicted Contact Rx = 1; actual = 1\n"
     ]
    }
   ],
   "source": [
    "i = 0\n",
    "for age, glass_rx, astigmatic, tear in X_test.values:\n",
    "    print(f\"age: {age}, glass_rx: {glass_rx}, astigmatic: {astigmatic}, tears: {tear}\", end = ' | ')\n",
    "    input_data = pd.DataFrame({'age': [age], 'glass_rx': [glass_rx], 'astigmatic': [astigmatic], 'tear': [tear]})\n",
    "\n",
    "    predicted_proba = clf.predict_proba(input_data)\n",
    "    # The output of predict_proba is an array where each row corresponds to an input\n",
    "    # and each column corresponds to a class. For a binary classification problem,\n",
    "    # the first column is the probability of Contaxt Rx being 1, the second 2 and the third 3\n",
    "    print(f'Predicted Contact Rx = {translate_result(predicted_proba[0])}; actual = {y_test.iloc[i]}')\n",
    "    i += 1"
   ]
  }
 ],
 "metadata": {
  "celltoolbar": "Initialization Cell",
  "kernelspec": {
   "display_name": "py39",
   "language": "python",
   "name": "py39"
  },
  "language_info": {
   "codemirror_mode": {
    "name": "ipython",
    "version": 3
   },
   "file_extension": ".py",
   "mimetype": "text/x-python",
   "name": "python",
   "nbconvert_exporter": "python",
   "pygments_lexer": "ipython3",
   "version": "3.9.13"
  }
 },
 "nbformat": 4,
 "nbformat_minor": 5
}

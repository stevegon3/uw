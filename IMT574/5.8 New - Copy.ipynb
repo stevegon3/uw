{
 "cells": [
  {
   "cell_type": "markdown",
   "id": "64aa6a46",
   "metadata": {},
   "source": [
    "# 5.8 Midterm Assignment: Practice"
   ]
  },
  {
   "cell_type": "code",
   "execution_count": 1,
   "id": "95188b6f",
   "metadata": {
    "ExecuteTime": {
     "end_time": "2025-05-08T02:54:14.868414Z",
     "start_time": "2025-05-08T02:54:13.823358Z"
    }
   },
   "outputs": [],
   "source": [
    "import random\n",
    "import pandas as pd\n",
    "import numpy as np\n",
    "import matplotlib.pyplot as plt\n",
    "import matplotlib.ticker as ticker\n",
    "import seaborn as sns\n",
    "\n",
    "from sklearn.metrics import mean_squared_error, r2_score, accuracy_score, confusion_matrix, classification_report\n",
    "from sklearn.metrics import silhouette_score, euclidean_distances\n",
    "from sklearn.model_selection import train_test_split\n",
    "from sklearn.preprocessing import StandardScaler\n",
    "from sklearn.cluster import KMeans\n",
    "from sklearn.cluster import AgglomerativeClustering\n",
    "from sklearn.ensemble import RandomForestClassifier\n",
    "from sklearn.neighbors import KNeighborsClassifier\n",
    "from sklearn.tree import DecisionTreeClassifier\n",
    "\n",
    "import scipy.cluster.hierarchy as sch\n",
    "\n",
    "import statsmodels.api as sm\n",
    "import statsmodels.formula.api as smf"
   ]
  },
  {
   "cell_type": "markdown",
   "id": "9ed3f720",
   "metadata": {},
   "source": [
    "# Problem 1: Dermatology\n",
    "This database contains 34 attributes. 35th is the class label, i.e. the disease name. The names and id numbers of the patients were removed from the database.<p>\n",
    "\n",
    "The differential diagnosis of erythemato-squamous diseases is a real problem in dermatology. They all share the clinical features of erythema and scaling, with very little differences. The diseases in this group are psoriasis, seboreic dermatitis, lichen planus, pityriasis rosea, cronic dermatitis, and pityriasis rubra pilaris. Usually a biopsy is necessary for the diagnosis but unfortunately these diseases share many histopathological features as well. Another difficulty for the differential diagnosis is that a disease may show the features of another disease at the beginning stage and may have the characteristic features at the following stages. Patients were first evaluated clinically with 12 features. Afterwards, skin samples were taken for the evaluation of 22 histopathological features. The values of the histopathological features are determined by an analysis of the samples under a microscope.<p>\n",
    "\n",
    "In the dataset constructed for this domain, the family history feature has the value 1 if any of these diseases has been observed in the family, and 0 otherwise. The age feature simply represents the age of the patient. Every other feature (clinical and histopathological) was given a degree in the range of 0 to 3. Here, 0 indicates that the feature was not present, 3 indicates the largest amount possible, and 1, 2 indicate the relative intermediate values.<p>\n",
    "\n",
    "Assuming that the list of diseases in this group are complete (total 6 types)\n",
    "'Psoriasis', 'Seboreic Dermatitis', 'Lichen Planus', 'Pityriasis Rosea', 'Cronic Dermatitis', 'Pityriasis Rubra Pilaris'\n",
    "Use the dataset to address the following list of objectives:<p>\n",
    "\n",
    "1. Let’s try determining the type of disease based on the patient’s Age. Use gradient descent (GD) to build your regression model (model1). Start by writing the GD algorithm and then implement it using a programming language of your choice. [10 points]<p>\n",
    "2. Use random forest on the clinical as well as histopathological attributes to classify the disease type (model2). [5 points]<p>\n",
    "3. Use kNN on the clinical attributes and histopathological attributes to classify the disease type and report your accuracy (model3). [5 points]<p>\n",
    "4. Finally, use two different clustering algorithms and see how well these attributes can determine the disease type (model4 and model5). [10 points]<p>\n",
    "5. Make sure to report your actual model for each of the above. This means providing appropriate details containing the features used, parameters learned/estimated, and any inputs (e.g., number of clusters, error limit) that go into the technique. When appropriate, perform multiple runs of the same technique and report average values or their spread.<p>\n",
    "6. Now, compare and contrast the five models you built. Having done both classification and clustering on the same dataset, what can you say about this data and/or the techniques you used? Write your thoughts in 2-3 paragraphs. [10 points]<p>\n",
    "7. Overall presentation (lack of spelling and other errors, consistent formatting, clear results). [5 points]<p>"
   ]
  },
  {
   "cell_type": "code",
   "execution_count": 2,
   "id": "70ded7bf",
   "metadata": {
    "ExecuteTime": {
     "end_time": "2025-05-08T02:54:14.900167Z",
     "start_time": "2025-05-08T02:54:14.870045Z"
    }
   },
   "outputs": [
    {
     "name": "stdout",
     "output_type": "stream",
     "text": [
      "Index(['Erythema', 'Scathing', 'Definite Borders', 'Itching', 'Koebner',\n",
      "       'Polygonal', 'Follicular', 'Oral', 'Knee', 'Scalp', 'Family Hostory',\n",
      "       'Melanin', 'Eosinophils', 'PNL', 'Fibrosis', 'Exocytosis',\n",
      "       'Acanothosis', 'Hyperkeratosis', 'Parakeratosis', 'Clubbing',\n",
      "       'Elongation', 'Thinning', 'Spongiform', 'Munro', 'Focal',\n",
      "       'Disapperance', 'Vacuolisation', 'Spongiosis', 'Retes', 'Follicular.1',\n",
      "       'Perifollicular', 'Inflamatory', 'Band-like', 'Age', 'Disease'],\n",
      "      dtype='object')\n"
     ]
    },
    {
     "data": {
      "text/html": [
       "<div>\n",
       "<style scoped>\n",
       "    .dataframe tbody tr th:only-of-type {\n",
       "        vertical-align: middle;\n",
       "    }\n",
       "\n",
       "    .dataframe tbody tr th {\n",
       "        vertical-align: top;\n",
       "    }\n",
       "\n",
       "    .dataframe thead th {\n",
       "        text-align: right;\n",
       "    }\n",
       "</style>\n",
       "<table border=\"1\" class=\"dataframe\">\n",
       "  <thead>\n",
       "    <tr style=\"text-align: right;\">\n",
       "      <th></th>\n",
       "      <th>Erythema</th>\n",
       "      <th>Scathing</th>\n",
       "      <th>Definite Borders</th>\n",
       "      <th>Itching</th>\n",
       "      <th>Koebner</th>\n",
       "      <th>Polygonal</th>\n",
       "      <th>Follicular</th>\n",
       "      <th>Oral</th>\n",
       "      <th>Knee</th>\n",
       "      <th>Scalp</th>\n",
       "      <th>...</th>\n",
       "      <th>Disapperance</th>\n",
       "      <th>Vacuolisation</th>\n",
       "      <th>Spongiosis</th>\n",
       "      <th>Retes</th>\n",
       "      <th>Follicular.1</th>\n",
       "      <th>Perifollicular</th>\n",
       "      <th>Inflamatory</th>\n",
       "      <th>Band-like</th>\n",
       "      <th>Age</th>\n",
       "      <th>Disease</th>\n",
       "    </tr>\n",
       "  </thead>\n",
       "  <tbody>\n",
       "    <tr>\n",
       "      <th>0</th>\n",
       "      <td>2</td>\n",
       "      <td>2</td>\n",
       "      <td>0</td>\n",
       "      <td>3</td>\n",
       "      <td>0</td>\n",
       "      <td>0</td>\n",
       "      <td>0</td>\n",
       "      <td>0</td>\n",
       "      <td>1</td>\n",
       "      <td>0</td>\n",
       "      <td>...</td>\n",
       "      <td>0</td>\n",
       "      <td>0</td>\n",
       "      <td>3</td>\n",
       "      <td>0</td>\n",
       "      <td>0</td>\n",
       "      <td>0</td>\n",
       "      <td>1</td>\n",
       "      <td>0</td>\n",
       "      <td>55.0</td>\n",
       "      <td>2</td>\n",
       "    </tr>\n",
       "    <tr>\n",
       "      <th>1</th>\n",
       "      <td>3</td>\n",
       "      <td>3</td>\n",
       "      <td>3</td>\n",
       "      <td>2</td>\n",
       "      <td>1</td>\n",
       "      <td>0</td>\n",
       "      <td>0</td>\n",
       "      <td>0</td>\n",
       "      <td>1</td>\n",
       "      <td>1</td>\n",
       "      <td>...</td>\n",
       "      <td>0</td>\n",
       "      <td>0</td>\n",
       "      <td>0</td>\n",
       "      <td>0</td>\n",
       "      <td>0</td>\n",
       "      <td>0</td>\n",
       "      <td>1</td>\n",
       "      <td>0</td>\n",
       "      <td>8.0</td>\n",
       "      <td>1</td>\n",
       "    </tr>\n",
       "    <tr>\n",
       "      <th>2</th>\n",
       "      <td>2</td>\n",
       "      <td>1</td>\n",
       "      <td>2</td>\n",
       "      <td>3</td>\n",
       "      <td>1</td>\n",
       "      <td>3</td>\n",
       "      <td>0</td>\n",
       "      <td>3</td>\n",
       "      <td>0</td>\n",
       "      <td>0</td>\n",
       "      <td>...</td>\n",
       "      <td>0</td>\n",
       "      <td>2</td>\n",
       "      <td>3</td>\n",
       "      <td>2</td>\n",
       "      <td>0</td>\n",
       "      <td>0</td>\n",
       "      <td>2</td>\n",
       "      <td>3</td>\n",
       "      <td>26.0</td>\n",
       "      <td>3</td>\n",
       "    </tr>\n",
       "  </tbody>\n",
       "</table>\n",
       "<p>3 rows × 35 columns</p>\n",
       "</div>"
      ],
      "text/plain": [
       "   Erythema  Scathing  Definite Borders  Itching  Koebner  Polygonal  \\\n",
       "0         2         2                 0        3        0          0   \n",
       "1         3         3                 3        2        1          0   \n",
       "2         2         1                 2        3        1          3   \n",
       "\n",
       "   Follicular  Oral  Knee  Scalp  ...  Disapperance  Vacuolisation  \\\n",
       "0           0     0     1      0  ...             0              0   \n",
       "1           0     0     1      1  ...             0              0   \n",
       "2           0     3     0      0  ...             0              2   \n",
       "\n",
       "   Spongiosis  Retes  Follicular.1  Perifollicular  Inflamatory  Band-like  \\\n",
       "0           3      0             0               0            1          0   \n",
       "1           0      0             0               0            1          0   \n",
       "2           3      2             0               0            2          3   \n",
       "\n",
       "    Age  Disease  \n",
       "0  55.0        2  \n",
       "1   8.0        1  \n",
       "2  26.0        3  \n",
       "\n",
       "[3 rows x 35 columns]"
      ]
     },
     "metadata": {},
     "output_type": "display_data"
    },
    {
     "name": "stdout",
     "output_type": "stream",
     "text": [
      "<class 'pandas.core.frame.DataFrame'>\n",
      "Index: 357 entries, 0 to 365\n",
      "Data columns (total 35 columns):\n",
      " #   Column            Non-Null Count  Dtype  \n",
      "---  ------            --------------  -----  \n",
      " 0   Erythema          357 non-null    int64  \n",
      " 1   Scathing          357 non-null    int64  \n",
      " 2   Definite Borders  357 non-null    int64  \n",
      " 3   Itching           357 non-null    int64  \n",
      " 4   Koebner           357 non-null    int64  \n",
      " 5   Polygonal         357 non-null    int64  \n",
      " 6   Follicular        357 non-null    int64  \n",
      " 7   Oral              357 non-null    int64  \n",
      " 8   Knee              357 non-null    int64  \n",
      " 9   Scalp             357 non-null    int64  \n",
      " 10  Family Hostory    357 non-null    int64  \n",
      " 11  Melanin           357 non-null    int64  \n",
      " 12  Eosinophils       357 non-null    int64  \n",
      " 13  PNL               357 non-null    int64  \n",
      " 14  Fibrosis          357 non-null    int64  \n",
      " 15  Exocytosis        357 non-null    int64  \n",
      " 16  Acanothosis       357 non-null    int64  \n",
      " 17  Hyperkeratosis    357 non-null    int64  \n",
      " 18  Parakeratosis     357 non-null    int64  \n",
      " 19  Clubbing          357 non-null    int64  \n",
      " 20  Elongation        357 non-null    int64  \n",
      " 21  Thinning          357 non-null    int64  \n",
      " 22  Spongiform        357 non-null    int64  \n",
      " 23  Munro             357 non-null    int64  \n",
      " 24  Focal             357 non-null    int64  \n",
      " 25  Disapperance      357 non-null    int64  \n",
      " 26  Vacuolisation     357 non-null    int64  \n",
      " 27  Spongiosis        357 non-null    int64  \n",
      " 28  Retes             357 non-null    int64  \n",
      " 29  Follicular.1      357 non-null    int64  \n",
      " 30  Perifollicular    357 non-null    int64  \n",
      " 31  Inflamatory       357 non-null    int64  \n",
      " 32  Band-like         357 non-null    int64  \n",
      " 33  Age               357 non-null    float64\n",
      " 34  Disease           357 non-null    int64  \n",
      "dtypes: float64(1), int64(34)\n",
      "memory usage: 100.4 KB\n"
     ]
    }
   ],
   "source": [
    "df_derm = pd.read_csv('dermatology.csv', sep='\\t')\n",
    "df_derm['Age'] = pd.to_numeric(df_derm['Age'], errors='coerce')\n",
    "df_derm = df_derm[df_derm['Age'] > 0]\n",
    "df_derm.columns = df_derm.columns.str.strip()\n",
    "print(df_derm.columns)\n",
    "display(df_derm.head(3))\n",
    "df_derm.info()"
   ]
  },
  {
   "cell_type": "code",
   "execution_count": 3,
   "id": "417eb457",
   "metadata": {
    "ExecuteTime": {
     "end_time": "2025-05-08T02:54:15.010559Z",
     "start_time": "2025-05-08T02:54:14.901148Z"
    }
   },
   "outputs": [],
   "source": [
    "features_all = ['Erythema', 'Scathing', 'Definite Borders', 'Itching', 'Koebner',\n",
    "       'Polygonal', 'Follicular', 'Oral', 'Knee', 'Scalp', 'Family Hostory',\n",
    "       'Melanin', 'Eosinophils', 'PNL', 'Fibrosis', 'Exocytosis',\n",
    "       'Acanothosis', 'Hyperkeratosis', 'Parakeratosis', 'Clubbing',\n",
    "       'Elongation', 'Thinning', 'Spongiform', 'Munro', 'Focal',\n",
    "       'Disapperance', 'Vacuolisation', 'Spongiosis', 'Retes', 'Follicular.1',\n",
    "       'Perifollicular', 'Inflamatory', 'Band-like', 'Age']\n",
    "disease_names = ['Psoriasis', 'Seboreic Dermatitis', 'Lichen Planus', 'Pityriasis Rosea', \n",
    "                'Cronic Dermatitis', 'Pityriasis Rubra Pilaris']"
   ]
  },
  {
   "cell_type": "code",
   "execution_count": null,
   "id": "5262280b",
   "metadata": {},
   "outputs": [],
   "source": []
  },
  {
   "cell_type": "code",
   "execution_count": 4,
   "id": "f3dae74d",
   "metadata": {
    "ExecuteTime": {
     "end_time": "2025-05-08T02:54:15.025842Z",
     "start_time": "2025-05-08T02:54:15.012560Z"
    }
   },
   "outputs": [],
   "source": [
    "def gradient_descent(X, y, theta, learning_rate=0.01, iterations=1000):\n",
    "    '''\n",
    "    X     = Matrix of X with added bias units\n",
    "    y     = Vector of Y\n",
    "    theta = Vector of thetas np.random.randn(j,1)\n",
    "    learning_rate \n",
    "    iterations = number of iterations\n",
    "    Returns the final theta vector and array of cost history over no of iterations\n",
    "    '''\n",
    "    m = len(y)\n",
    "    cost_history = np.zeros(iterations)\n",
    "    theta_history = np.zeros((iterations, theta.shape[0]))\n",
    "    for it in range(iterations):\n",
    "        prediction = X.dot(theta)\n",
    "        theta = theta - (1/m) * learning_rate * (X.T.dot(prediction - y))\n",
    "        cost = (1/(2*m)) * np.sum((prediction - y)**2)\n",
    "        theta_history[it, :] = theta.T\n",
    "        cost_history[it] = cost\n",
    "    return theta, cost_history, theta_history\n",
    "\n",
    "def cost_fun(theta,X,y):\n",
    "    '''Calculates the cost for given X and Y. The following shows and example of a single dimensional X\n",
    "    theta = Vector of thetas \n",
    "    X     = Row of X's np.zeros((2,j))\n",
    "    y     = Actual y's np.zeros((2,1)) only for simple regression\n",
    "    where: j is the no of features\n",
    "    '''\n",
    "    n = len(y)\n",
    "    predictions = X.dot(theta)\n",
    "    cost = (1/(2*n)) * np.sum((predictions-y)**2)\n",
    "    return cost"
   ]
  },
  {
   "cell_type": "code",
   "execution_count": 5,
   "id": "ef0393f6",
   "metadata": {
    "ExecuteTime": {
     "end_time": "2025-05-08T02:54:15.041825Z",
     "start_time": "2025-05-08T02:54:15.026846Z"
    }
   },
   "outputs": [
    {
     "name": "stdout",
     "output_type": "stream",
     "text": [
      "Summary of the model trained on the training data:\n",
      "                            OLS Regression Results                            \n",
      "==============================================================================\n",
      "Dep. Variable:                Disease   R-squared:                       0.069\n",
      "Model:                            OLS   Adj. R-squared:                  0.067\n",
      "Method:                 Least Squares   F-statistic:                     26.49\n",
      "Date:                Wed, 07 May 2025   Prob (F-statistic):           4.39e-07\n",
      "Time:                        19:54:15   Log-Likelihood:                -659.52\n",
      "No. Observations:                 357   AIC:                             1323.\n",
      "Df Residuals:                     355   BIC:                             1331.\n",
      "Df Model:                           1                                         \n",
      "Covariance Type:            nonrobust                                         \n",
      "==============================================================================\n",
      "                 coef    std err          t      P>|t|      [0.025      0.975]\n",
      "------------------------------------------------------------------------------\n",
      "Intercept      3.7909      0.211     17.936      0.000       3.375       4.207\n",
      "Age           -0.0276      0.005     -5.147      0.000      -0.038      -0.017\n",
      "==============================================================================\n",
      "Omnibus:                      145.343   Durbin-Watson:                   1.511\n",
      "Prob(Omnibus):                  0.000   Jarque-Bera (JB):               23.077\n",
      "Skew:                           0.251   Prob(JB):                     9.75e-06\n",
      "Kurtosis:                       1.860   Cond. No.                         102.\n",
      "==============================================================================\n",
      "\n",
      "Notes:\n",
      "[1] Standard Errors assume that the covariance matrix of the errors is correctly specified.\n"
     ]
    }
   ],
   "source": [
    "# Test with OLS first to validate Gradient Descent\n",
    "\n",
    "# Train the linear regression model on the training data\n",
    "model = smf.ols('Disease ~ Age', data=df_derm)\n",
    "results = model.fit()\n",
    "\n",
    "# Print the summary of the model trained on the training data\n",
    "print(\"Summary of the model trained on the training data:\")\n",
    "print(results.summary())"
   ]
  },
  {
   "cell_type": "code",
   "execution_count": 6,
   "id": "304801bb",
   "metadata": {
    "ExecuteTime": {
     "end_time": "2025-05-08T02:54:15.057861Z",
     "start_time": "2025-05-08T02:54:15.042826Z"
    }
   },
   "outputs": [
    {
     "name": "stdout",
     "output_type": "stream",
     "text": [
      "Gradient Descent Model Coefficients (original units):\n",
      "Intercept  : 3.7909\n",
      "Slope (Age): -0.0276\n",
      "Final MSE  : 0.465\n"
     ]
    }
   ],
   "source": [
    "# Now run custom Gradient Descent Formula\n",
    "# Prepare the data\n",
    "X = df_derm['Age'].values.reshape(-1, 1)\n",
    "y = df_derm['Disease'].values.reshape(-1, 1)\n",
    "m = len(y)\n",
    "\n",
    "# Standardize X and y\n",
    "X_mean, X_std = X.mean(), X.std()\n",
    "y_mean, y_std = y.mean(), y.std()\n",
    "X_scaled = (X - X_mean) / X_std\n",
    "y_scaled = (y - y_mean) / y_std\n",
    "\n",
    "# Add bias column\n",
    "X_b = np.c_[np.ones((m, 1)), X_scaled]\n",
    "\n",
    "# Initialize theta\n",
    "theta = np.zeros((2, 1))\n",
    "\n",
    "# Set hyperparameters\n",
    "learning_rate = 0.1\n",
    "n_iterations = 100\n",
    "\n",
    "# Train using gradient descent\n",
    "theta_final, cost_history, theta_history = gradient_descent(X_b, y_scaled, theta, learning_rate, n_iterations)\n",
    "\n",
    "# Recover coefficients in original scale\n",
    "slope = (y_std / X_std) * theta_final[1, 0]\n",
    "intercept = y_mean - slope * X_mean\n",
    "\n",
    "# Print results\n",
    "print(\"Gradient Descent Model Coefficients (original units):\")\n",
    "print(f\"Intercept  : {intercept:.4f}\")\n",
    "print(f\"Slope (Age): {slope:.4f}\")\n",
    "print(f\"Final MSE  : {cost_history[-1]:0.3f}\")"
   ]
  },
  {
   "cell_type": "code",
   "execution_count": 7,
   "id": "80d84753",
   "metadata": {
    "ExecuteTime": {
     "end_time": "2025-05-08T02:54:15.136088Z",
     "start_time": "2025-05-08T02:54:15.060118Z"
    }
   },
   "outputs": [
    {
     "data": {
      "image/png": "[encoded data removed]",
      "text/plain": [
       "<Figure size 1000x600 with 1 Axes>"
      ]
     },
     "metadata": {},
     "output_type": "display_data"
    }
   ],
   "source": [
    "# Plot the Iterations vs Error/Cost\n",
    "fig,ax = plt.subplots(figsize=(10,6))\n",
    "major_locator = ticker.MultipleLocator(20)\n",
    "ax.xaxis.set_major_locator(major_locator)\n",
    "ax.set_ylabel('Error Function J')\n",
    "ax.set_xlabel('Iterations')\n",
    "ax.xaxis.set_minor_locator(ticker.MultipleLocator(10))\n",
    "ax.grid(axis='x', which='major', linestyle='-', linewidth=0.5, alpha=0.7)\n",
    "ax.grid(axis='x', which='minor', linestyle=':', linewidth=0.3, alpha=0.5)\n",
    "_=ax.plot(range(n_iterations),cost_history,'b.')\n",
    "plt.xticks(rotation=45, ha='right')\n",
    "all_major_tick_locations = major_locator.tick_values(ax.get_xlim()[0], ax.get_xlim()[1])\n",
    "label_locations = all_major_tick_locations[::2]\n",
    "label_values = [str(int(loc)) for loc in label_locations]\n",
    "plt.xticks(label_locations, label_values, rotation=45, ha='right')\n",
    "plt.show()"
   ]
  },
  {
   "cell_type": "code",
   "execution_count": null,
   "id": "245567a6",
   "metadata": {},
   "outputs": [],
   "source": []
  },
  {
   "cell_type": "code",
   "execution_count": 8,
   "id": "ada43b22",
   "metadata": {
    "ExecuteTime": {
     "end_time": "2025-05-08T02:54:15.230597Z",
     "start_time": "2025-05-08T02:54:15.137082Z"
    }
   },
   "outputs": [
    {
     "name": "stdout",
     "output_type": "stream",
     "text": [
      "RandomForest Prediction of Disease using ['Erythema', 'Scathing', 'Definite Borders', 'Itching', 'Koebner', 'Polygonal', 'Follicular', 'Oral', 'Knee', 'Scalp', 'Family Hostory', 'Melanin', 'Eosinophils', 'PNL', 'Fibrosis', 'Exocytosis', 'Acanothosis', 'Hyperkeratosis', 'Parakeratosis', 'Clubbing', 'Elongation', 'Thinning', 'Spongiform', 'Munro', 'Focal', 'Disapperance', 'Vacuolisation', 'Spongiosis', 'Retes', 'Follicular.1', 'Perifollicular', 'Inflamatory', 'Band-like', 'Age'] with test_size=0.8 random_state=42\n",
      "Shape of X_train before training: (71, 34)\n",
      "\n",
      "Features scaled using StandardScaler.\n",
      "Shape of X_train after scaling: (71, 34)\n",
      "RandomForest Accuracy: 0.98\n",
      "\n",
      "RandomForest Classification Report:\n",
      "              precision    recall  f1-score   support\n",
      "\n",
      "           1       0.99      1.00      0.99        83\n",
      "           2       0.98      0.94      0.96        50\n",
      "           3       1.00      1.00      1.00        59\n",
      "           4       0.93      0.97      0.95        39\n",
      "           5       1.00      1.00      1.00        41\n",
      "           6       1.00      0.93      0.96        14\n",
      "\n",
      "    accuracy                           0.98       286\n",
      "   macro avg       0.98      0.97      0.98       286\n",
      "weighted avg       0.98      0.98      0.98       286\n",
      "\n",
      "\n",
      "RandomForest Confusion Matrix:\n",
      "[[83  0  0  0  0  0]\n",
      " [ 0 47  0  3  0  0]\n",
      " [ 0  0 59  0  0  0]\n",
      " [ 0  1  0 38  0  0]\n",
      " [ 0  0  0  0 41  0]\n",
      " [ 1  0  0  0  0 13]]\n"
     ]
    }
   ],
   "source": [
    "# RandomForest\n",
    "features = features_all\n",
    "predictor = 'Disease'\n",
    "test_size = .8\n",
    "random_state = 42\n",
    "print(f\"RandomForest Prediction of {predictor} using {features} with {test_size=} {random_state=}\")\n",
    "\n",
    "X = df_derm[features]\n",
    "y = df_derm[predictor]\n",
    "\n",
    "X_train, X_test, y_train, y_test = train_test_split(X, y, test_size=test_size, random_state=random_state)\n",
    "print(f\"Shape of X_train before training: {X_train.shape}\")\n",
    "\n",
    "scaler = StandardScaler()\n",
    "# Fit the scaler on the training data and transform both training and testing data\n",
    "X_train_scaled = scaler.fit_transform(X_train)\n",
    "X_test_scaled = scaler.transform(X_test)\n",
    "print(\"\\nFeatures scaled using StandardScaler.\")\n",
    "print(f\"Shape of X_train after scaling: {X_train_scaled.shape}\")\n",
    "\n",
    "# The model will be trained on the scaled data\n",
    "clf = RandomForestClassifier(random_state=random_state)\n",
    "clf.fit(X_train_scaled, y_train) # Fit on scaled training data\n",
    "\n",
    "# Make predictions on the test set\n",
    "# Predictions must be made on the scaled test data\n",
    "y_pred = clf.predict(X_test_scaled) # Predict using scaled test data\n",
    "\n",
    "# Evaluate the model\n",
    "accuracy = accuracy_score(y_test, y_pred)\n",
    "print(f\"RandomForest Accuracy: {accuracy:.2f}\")\n",
    "\n",
    "print(f\"\\nRandomForest Classification Report:\")\n",
    "print(classification_report(y_test, y_pred))\n",
    "\n",
    "print(f\"\\nRandomForest Confusion Matrix:\")\n",
    "print(confusion_matrix(y_test, y_pred))"
   ]
  },
  {
   "cell_type": "code",
   "execution_count": null,
   "id": "6f55f4c1",
   "metadata": {},
   "outputs": [],
   "source": []
  },
  {
   "cell_type": "markdown",
   "id": "3c9bf326",
   "metadata": {},
   "source": [
    "## Problem 1.3 KNN (model3)"
   ]
  },
  {
   "cell_type": "code",
   "execution_count": 9,
   "id": "2af17d1e",
   "metadata": {
    "ExecuteTime": {
     "end_time": "2025-05-08T02:54:15.513594Z",
     "start_time": "2025-05-08T02:54:15.231582Z"
    }
   },
   "outputs": [
    {
     "name": "stdout",
     "output_type": "stream",
     "text": [
      "KNN Prediction of Disease using ['Erythema', 'Scathing', 'Definite Borders', 'Itching', 'Koebner', 'Polygonal', 'Follicular', 'Oral', 'Knee', 'Scalp', 'Family Hostory', 'Melanin', 'Eosinophils', 'PNL', 'Fibrosis', 'Exocytosis', 'Acanothosis', 'Hyperkeratosis', 'Parakeratosis', 'Clubbing', 'Elongation', 'Thinning', 'Spongiform', 'Munro', 'Focal', 'Disapperance', 'Vacuolisation', 'Spongiosis', 'Retes', 'Follicular.1', 'Perifollicular', 'Inflamatory', 'Band-like', 'Age'] with test_size=0.8 random_state=42\n",
      "Accuracy of KNN k=2 Model predicting Disease: 92.66%\n",
      "Accuracy of KNN k=3 Model predicting Disease: 92.31%\n",
      "Accuracy of KNN k=4 Model predicting Disease: 94.06%\n",
      "Accuracy of KNN k=5 Model predicting Disease: 91.96%\n",
      "Accuracy of KNN k=6 Model predicting Disease: 93.01%\n",
      "Accuracy of KNN k=7 Model predicting Disease: 93.36%\n",
      "Accuracy of KNN k=8 Model predicting Disease: 93.01%\n",
      "Accuracy of KNN k=9 Model predicting Disease: 90.21%\n"
     ]
    }
   ],
   "source": [
    "# Figure out the Optimal Number of clusters first; keep Scaled, same test/train split from above\n",
    "model_type = 'KNN'\n",
    "predictor = 'Disease'\n",
    "print(f\"KNN Prediction of {predictor} using {features} with {test_size=} {random_state=}\")\n",
    "\n",
    "accuracies = []\n",
    "for k in range(2,10):\n",
    "    # Initialize kNN classifier\n",
    "    knn = KNeighborsClassifier(n_neighbors=k)  # You can adjust the number of neighbors\n",
    "    # Train the model\n",
    "    knn.fit(X_train_scaled, y_train)\n",
    "    # Make predictions\n",
    "    y_pred = knn.predict(X_test_scaled)\n",
    "    # Calculate accuracy\n",
    "    accuracy = accuracy_score(y_test, y_pred)\n",
    "    accuracies.append(accuracy)\n",
    "    print(f\"Accuracy of KNN {k=} Model predicting Disease: {accuracy:.2%}\")"
   ]
  },
  {
   "cell_type": "code",
   "execution_count": null,
   "id": "f6bd4938",
   "metadata": {},
   "outputs": [],
   "source": []
  },
  {
   "cell_type": "markdown",
   "id": "46464991",
   "metadata": {},
   "source": [
    "## Problem 1.4 Clustering (model4, model5)"
   ]
  },
  {
   "cell_type": "markdown",
   "id": "5c06469f",
   "metadata": {},
   "source": [
    "### Problem 1.4 model4 - Agglomerative Clustering"
   ]
  },
  {
   "cell_type": "code",
   "execution_count": 10,
   "id": "e4201865",
   "metadata": {
    "ExecuteTime": {
     "end_time": "2025-05-08T02:54:15.704275Z",
     "start_time": "2025-05-08T02:54:15.515579Z"
    }
   },
   "outputs": [
    {
     "name": "stdout",
     "output_type": "stream",
     "text": [
      "Elbow Method: Calculate inertia for different numbers of clusters for Agglomerative Clustering\n"
     ]
    },
    {
     "data": {
      "image/png": "[encoded data removed]",
      "text/plain": [
       "<Figure size 1000x600 with 1 Axes>"
      ]
     },
     "metadata": {},
     "output_type": "display_data"
    },
    {
     "name": "stdout",
     "output_type": "stream",
     "text": [
      "\n",
      "Interpretation of 'elbow point':\n",
      "This is where the decrease in inertia slows down considerably.\n",
      "The number of clusters at this elbow point is often considered a suitable value.\n",
      "The elbow might not always be sharply defined, so this method provides a guideline.\n"
     ]
    }
   ],
   "source": [
    "# Use Agglomerative (model4) Clustering to find the best features\n",
    "# Use the elbow method to find a good n_clusters\n",
    "features = features_all\n",
    "X =  df_derm[features]\n",
    "scaler = StandardScaler()\n",
    "X_scaled = scaler.fit_transform(X)\n",
    "print(f\"Elbow Method: Calculate inertia for different numbers of clusters for Agglomerative Clustering\")\n",
    "\n",
    "n_cluster_values = range(1, 11)\n",
    "inertias = []\n",
    "for n in n_cluster_values:\n",
    "    # Initialize Agglomerative Clustering model\n",
    "    agg_clustering = AgglomerativeClustering(n_clusters=n)\n",
    "    # Fit the model to the data and get cluster labels\n",
    "    labels = agg_clustering.fit_predict(X_scaled)\n",
    "    # Calculate inertia (Sum of Squared Distances to cluster means)\n",
    "    inertia_k = 0\n",
    "    for i in range(n):\n",
    "        # Get points belonging to the current cluster\n",
    "        cluster_points = X[labels == i]\n",
    "        if cluster_points.shape[0] > 0: # Ensure the cluster is not empty\n",
    "            # Calculate the mean of the cluster and convert to NumPy array before reshaping\n",
    "            centroid = np.mean(cluster_points, axis=0).values.reshape(1, -1)\n",
    "            # Calculate squared Euclidean distances from points to the centroid\n",
    "            # Reshape centroid to a 2D array for euclidean_distances\n",
    "            distances_sq = euclidean_distances(cluster_points, centroid.reshape(1, -1))**2\n",
    "            # Sum the squared distances for this cluster\n",
    "            inertia_k += np.sum(distances_sq)\n",
    "    inertias.append(inertia_k)\n",
    "\n",
    "# --- Plotting the Elbow Curve ---\n",
    "plt.figure(figsize=(10, 6))\n",
    "plt.plot(n_cluster_values, inertias, marker='o', linestyle='-')\n",
    "plt.title('Elbow Method for Determining Optimal Number of Clusters (Agglomerative Clustering)')\n",
    "plt.xlabel('Number of Clusters')\n",
    "plt.ylabel('Inertia (Sum of Squared Distances)')\n",
    "plt.xticks(n_cluster_values) # Show all n_clusters values on x-axis\n",
    "plt.grid(True)\n",
    "plt.show()\n",
    "\n",
    "# --- Interpretation ---\n",
    "print(\"\\nInterpretation of 'elbow point':\")\n",
    "print(\"This is where the decrease in inertia slows down considerably.\")\n",
    "print(\"The number of clusters at this elbow point is often considered a suitable value.\")\n",
    "print(\"The elbow might not always be sharply defined, so this method provides a guideline.\")"
   ]
  },
  {
   "cell_type": "code",
   "execution_count": 11,
   "id": "24a8fd9a",
   "metadata": {
    "ExecuteTime": {
     "end_time": "2025-05-08T02:54:15.735442Z",
     "start_time": "2025-05-08T02:54:15.705253Z"
    }
   },
   "outputs": [
    {
     "name": "stdout",
     "output_type": "stream",
     "text": [
      "Agglomerative  Clustering different Linkage Methods\n",
      "Silhouette Score for Agglomerative Clustering: 0.3013697555870954 with linkage_method='ward'\n",
      "Silhouette Score for Agglomerative Clustering: 0.30065568934589226 with linkage_method='complete'\n",
      "Silhouette Score for Agglomerative Clustering: 0.2767161358205026 with linkage_method='average'\n",
      "Silhouette Score for Agglomerative Clustering: 0.17487199893362557 with linkage_method='single'\n"
     ]
    }
   ],
   "source": [
    "# Try different linkage methods\n",
    "print(\"Agglomerative  Clustering different Linkage Methods\")\n",
    "n_clusters = 4\n",
    "# Perform hierarchical clustering\n",
    "for linkage_method in ['ward', 'complete', 'average', 'single']:\n",
    "    # Perform Agglomerative Clustering\n",
    "    ac = AgglomerativeClustering(n_clusters=n_clusters, linkage=linkage_method)\n",
    "    y_ac = ac.fit_predict(X_scaled)\n",
    "    # Calculate silhouette score\n",
    "    a_silhouette = float(silhouette_score(X_scaled, y_ac))\n",
    "    print(f\"Silhouette Score for Agglomerative Clustering: {a_silhouette} with {linkage_method=}\")"
   ]
  },
  {
   "cell_type": "code",
   "execution_count": 12,
   "id": "2a13b61c",
   "metadata": {
    "ExecuteTime": {
     "end_time": "2025-05-08T02:54:15.751446Z",
     "start_time": "2025-05-08T02:54:15.737436Z"
    }
   },
   "outputs": [
    {
     "name": "stdout",
     "output_type": "stream",
     "text": [
      "Clubbing          0.307903\n",
      "Vacuolisation     0.221932\n",
      "Fibrosis          0.166393\n",
      "Koebner           0.117474\n",
      "Follicular        0.080201\n",
      "Disapperance      0.033064\n",
      "Thinning          0.018894\n",
      "Age               0.014621\n",
      "Perifollicular    0.013784\n",
      "PNL               0.009419\n",
      "Exocytosis        0.006877\n",
      "Itching           0.005617\n",
      "Hyperkeratosis    0.003822\n",
      "Erythema          0.000000\n",
      "Scathing          0.000000\n",
      "dtype: float64\n",
      "...\n"
     ]
    }
   ],
   "source": [
    "# Use the Decision Tree Classifier to find the most signficant features\n",
    "X = df_derm[features_all]\n",
    "y = df_derm['Disease']\n",
    "\n",
    "clf = DecisionTreeClassifier(random_state=42)\n",
    "clf.fit(X, y)\n",
    "\n",
    "importances = pd.Series(clf.feature_importances_, index=features_all)\n",
    "importances = importances.sort_values(ascending=False)\n",
    "\n",
    "print(importances[:15])\n",
    "print('...')"
   ]
  },
  {
   "cell_type": "code",
   "execution_count": 13,
   "id": "57bfb583",
   "metadata": {
    "ExecuteTime": {
     "end_time": "2025-05-08T02:54:15.767109Z",
     "start_time": "2025-05-08T02:54:15.752478Z"
    }
   },
   "outputs": [
    {
     "name": "stdout",
     "output_type": "stream",
     "text": [
      "Agglomerative Clustering with Average Linkage and most significant Features\n",
      "Silhouette Score for Agglomerative Clustering: 0.28143261692350635 with linkage_method='average'\n"
     ]
    }
   ],
   "source": [
    "# The above Silhouette scores are not great\n",
    "# Try with most significant features\n",
    "print(f\"Agglomerative Clustering with Average Linkage and most significant Features\")\n",
    "n_clusters = 3\n",
    "linkage_method = 'average'\n",
    "features_best = ['Clubbing', 'Vacuolisation', 'Fibrosis', 'Koebner', 'Follicular', 'Disapperance', 'Thinning',\n",
    "                 'Age', 'Perifollicular', 'Exocytosis', 'Itching', 'Hyperkeratosis']\n",
    "X = df_derm[features_best]\n",
    "y = df_derm['Disease']\n",
    "combined_data = pd.concat([X, y], axis=1).dropna()\n",
    "X_cleaned = combined_data[features_best] # Use the cleaned features\n",
    "\n",
    "# --- Scale the features ---\n",
    "# Scaling ensures every feature contributes equally to the distance calculation.\n",
    "scaler = StandardScaler()\n",
    "X_cleaned_scaled = scaler.fit_transform(X_cleaned)\n",
    "# Perform Agglomerative Clustering\n",
    "ac = AgglomerativeClustering(n_clusters=n_clusters, linkage=linkage_method)\n",
    "y_ac = ac.fit_predict(X_cleaned_scaled)\n",
    "# Calculate silhouette score\n",
    "a_silhouette = float(silhouette_score(X_cleaned_scaled, y_ac))\n",
    "print(f\"Silhouette Score for Agglomerative Clustering: {a_silhouette} with {linkage_method=}\")"
   ]
  },
  {
   "cell_type": "code",
   "execution_count": 14,
   "id": "811737c7",
   "metadata": {
    "ExecuteTime": {
     "end_time": "2025-05-08T02:54:15.783170Z",
     "start_time": "2025-05-08T02:54:15.769106Z"
    }
   },
   "outputs": [
    {
     "name": "stdout",
     "output_type": "stream",
     "text": [
      "KMeans with Average Linkage and Top 4 Features\n",
      "Silhouette Score for Agglomerative Clustering: 0.48939511115126094 with linkage_method='average'\n"
     ]
    }
   ],
   "source": [
    "# Try with Top 4 significant features\n",
    "print(f\"KMeans with Average Linkage and Top 4 Features\")\n",
    "n_clusters = 3\n",
    "linkage_method = 'average'\n",
    "features_best = ['Clubbing', 'Vacuolisation', 'Fibrosis', 'Koebner']\n",
    "X = df_derm[features_best]\n",
    "y = df_derm['Disease']\n",
    "combined_data = pd.concat([X, y], axis=1).dropna()\n",
    "X_cleaned = combined_data[features_best] # Use the cleaned features\n",
    "# --- Scale the features ---\n",
    "scaler = StandardScaler()\n",
    "X_cleaned_scaled = scaler.fit_transform(X_cleaned)\n",
    "# Perform Agglomerative Clustering\n",
    "ac = AgglomerativeClustering(n_clusters=n_clusters, linkage=linkage_method)\n",
    "y_ac = ac.fit_predict(X_cleaned_scaled)\n",
    "# Calculate silhouette score\n",
    "a_silhouette = float(silhouette_score(X_cleaned_scaled, y_ac))\n",
    "print(f\"Silhouette Score for Agglomerative Clustering: {a_silhouette} with {linkage_method=}\")"
   ]
  },
  {
   "cell_type": "markdown",
   "id": "82eae541",
   "metadata": {},
   "source": [
    "### Problem 1.4 model5 - K-Means Clustering"
   ]
  },
  {
   "cell_type": "code",
   "execution_count": 15,
   "id": "d2ac5fc8",
   "metadata": {
    "ExecuteTime": {
     "end_time": "2025-05-08T02:54:15.986352Z",
     "start_time": "2025-05-08T02:54:15.784152Z"
    }
   },
   "outputs": [
    {
     "name": "stdout",
     "output_type": "stream",
     "text": [
      "Elbow Method: Calculate inertia for different numbers of clusters for KMeans Clustering\n"
     ]
    },
    {
     "data": {
      "image/png": "[encoded data removed]",
      "text/plain": [
       "<Figure size 800x500 with 1 Axes>"
      ]
     },
     "metadata": {},
     "output_type": "display_data"
    }
   ],
   "source": [
    "# Use KMeans/Divisive Clustering to find the best features\n",
    "# Use the elbow method to find a good n_clusters\n",
    "cluster_type = 'KMeans'\n",
    "print(f\"Elbow Method: Calculate inertia for different numbers of clusters for {cluster_type} Clustering\")\n",
    "n_cluster_values = range(1, 11)\n",
    "inertias = []\n",
    "for n in n_cluster_values:\n",
    "    kmeans = KMeans(n_clusters=n)\n",
    "    kmeans.fit(X_cleaned_scaled)\n",
    "    inertia = kmeans.inertia_\n",
    "    inertias.append(inertia)\n",
    "        \n",
    "# Plot the elbow curve\n",
    "plt.figure(figsize=(8, 5))\n",
    "plt.plot(n_cluster_values, inertias, marker='o', linestyle='--')\n",
    "plt.title('Elbow Method for Optimal k')\n",
    "plt.xlabel('Number of Clusters (n)')\n",
    "plt.ylabel('Inertia')\n",
    "plt.xticks(n_cluster_values)\n",
    "plt.grid()\n",
    "plt.show()"
   ]
  },
  {
   "cell_type": "code",
   "execution_count": 16,
   "id": "184c4a77",
   "metadata": {
    "ExecuteTime": {
     "end_time": "2025-05-08T02:54:16.018411Z",
     "start_time": "2025-05-08T02:54:15.988374Z"
    }
   },
   "outputs": [
    {
     "name": "stdout",
     "output_type": "stream",
     "text": [
      "KMeans Clustering to predict Disease\n",
      "Inertia (SSE) for KMeans: 807.3195389302055\n",
      "Silhouette Score for KMeans: 0.3951298854930687\n"
     ]
    }
   ],
   "source": [
    "print(f\"KMeans Clustering to predict Disease\")\n",
    "n_clusters = 3\n",
    "kmeans = KMeans(n_clusters=n_clusters)\n",
    "y_means = kmeans.fit_predict(X_cleaned_scaled)\n",
    "inertia = float(kmeans.inertia_)\n",
    "print(f\"Inertia (SSE) for KMeans: {inertia}\")\n",
    "silhouette_score_value = silhouette_score(X_cleaned_scaled, y_means)\n",
    "print(f\"Silhouette Score for KMeans: {silhouette_score_value}\")"
   ]
  },
  {
   "cell_type": "markdown",
   "id": "744af904",
   "metadata": {},
   "source": [
    "<b>Question:</b> Finally, use two different clustering algorithms and see how well these attributes can determine the disease type.<p>\n",
    "\n",
    "<b>Answer:</b>The optimal number of clusters for the data's inherent structure is 5 rather than 6, indicating that the boundaries between the known disease categories might not be clearly defined or separated in the feature space from an unsupervised perspective. Clusters do exist, but they’re not well-defined, and probably don’t align well with disease labels. Also, the low Silhouette Score might indicate KMeans is not an appropriate clustering technique for this data."
   ]
  },
  {
   "cell_type": "markdown",
   "id": "7624d7fb",
   "metadata": {},
   "source": [
    "## Problem 1.5 Analysis\n",
    "<b>Question:</b> Now, compare and contrast the five models you built. Having done both classification and clustering on the same dataset, what can you say about this data and/or the techniques you used? Write your thoughts in 2-3 paragraphs.<p>\n",
    "\n",
    "<b>Answer:</b>\n",
    "Having built and evaluated five different models on the dermatology dataset, a clear picture emerges regarding the data's structure and the suitability of various machine learning techniques for determining disease type. <p>\n",
    "<b>Model 1,</b> a Simple Linear Regression predicting disease type based solely on Age using Gradient Descent, demonstrated very poor performance with R-squared = 0.069: The model explains only 6.9% of the variance in the dependent variable (Disease). That’s extremely low—suggests a poor fit. This outcome was expected, as regression is fundamentally ill-suited for predicting discrete, categorical outcomes like disease types, and Age alone appears to have limited linear correlation with the specific disease categories.<p>\n",
    "<b>Model 2 and Model 3</b> perform much better because they are designed for this type of problem. Comparing the classification models, the Random Forest classifier (<b>Model 2</b>), trained on all clinical and histopathological attributes, achieved remarkably high accuracy (98%). Its confusion matrix revealed near-perfect classification for several disease types (Psoriasis, Lichen Planus, Cronic Dermatitis, Pityriasis Rubra Pilaris), with only minor confusion primarily between Seboreic Dermatitis and Pityriasis Rosea. The K-Nearest Neighbors classifier (<b>Model 3</b>), also using all attributes (scaled), achieved a lower accuracy (93% with k=2). Its confusion matrix showed more significant misclassifications and confusion across multiple classes, indicating that while the features contain predictive information, KNN's simple distance-based approach is less effective than Random Forest's ensemble of decision trees at capturing the potentially complex, non-linear boundaries between these disease types in the feature space.<p>\n",
    "<b>Model 4: Agglomerative, Model 5: K-Means</b> explored the inherent grouping within the data in an unsupervised manner. The Elbow method on inertia suggested around 3 clusters for both algorithms. While Agglomerative Clustering with the 'average' linkage achieved the highest Silhouette Score among tested linkages (~0.29), this score suggests only a weak clustering structure with some overlap between groups. The dendrogram of disease centroids provided a visual hierarchy of disease similarity based on average feature profiles, but the clustering did not perfectly align with the 6 known disease types. So I used a DecisionTree Classifier to determine feature importance and then plotted different sets of features to see which had the best Silhouette score; it ended up being 'Clubbing', 'Vacuolisation', 'Fibrosis', 'Koebner' so I used those in the target model which yielded a much better score of ~.49<p>\n",
    "With ~.46 Silhouette Score for <b>KMeans</b> using the top 4 features, clusters exist, they’re well-defined, and align well with disease labels. Like with Agglomerative, when using all the features, the Sillouhette score drops by about 50%.<p>\n",
    "The high performance of the supervised <b>Random Forest Model2, is the clear winner</b>. It demonstrates that these features do contain sufficient information to accurately distinguish the known disease types when guided by the actual labels during training."
   ]
  },
  {
   "cell_type": "code",
   "execution_count": null,
   "id": "f71c6535",
   "metadata": {},
   "outputs": [],
   "source": []
  },
  {
   "cell_type": "code",
   "execution_count": null,
   "id": "686aa041",
   "metadata": {},
   "outputs": [],
   "source": []
  }
 ],
 "metadata": {
  "kernelspec": {
   "display_name": "py39",
   "language": "python",
   "name": "py39"
  },
  "language_info": {
   "codemirror_mode": {
    "name": "ipython",
    "version": 3
   },
   "file_extension": ".py",
   "mimetype": "text/x-python",
   "name": "python",
   "nbconvert_exporter": "python",
   "pygments_lexer": "ipython3",
   "version": "3.9.13"
  }
 },
 "nbformat": 4,
 "nbformat_minor": 5
}

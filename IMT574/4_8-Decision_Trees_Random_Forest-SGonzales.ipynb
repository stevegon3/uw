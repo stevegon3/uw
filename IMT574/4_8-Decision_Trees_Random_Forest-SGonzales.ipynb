{
 "cells": [
  {
   "cell_type": "markdown",
   "id": "e44314fa",
   "metadata": {},
   "source": [
    "# 4.8 Assignment 4: Decision Trees and Random Forest\n",
    "This dataset has 93 entries of various blues guitarists born between 1874 and 1940. Apart from the name of the guitarists, that dataset contains the following four features:<p>\n",
    " - Regions: 1 means East, 2 means Delta, 3 means Texas\n",
    " - Years: 0 for those born before 1906, 1 for the rest\n",
    " - Hand postures: 1= Extended, 2= Stacked, 3=Lutiform\n",
    " - Thumb styles: Between 1 and 3, 1=Alternating, 2=Utility, 3=Dead\n",
    "\n",
    "Step 1: Using decision tree on this dataset, how accurately you can predict their <b>\"period\", ie born before or after 1906 (as per Professor)</b> from their hand postures and thumb styles. How does it affect the evaluation when you include the region while training the model?<p>\n",
    "\n",
    "Step 2: Now do the same using random forest (in both of the above cases) and report the difference. Make sure to use appropriate training-testing parameters for your evaluation.<p>\n",
    "\n",
    "You should also run the algorithms multiple times, measure various accuracies, and report the average (and perhaps the range)."
   ]
  },
  {
   "cell_type": "code",
   "execution_count": 4,
   "id": "42c15fbf",
   "metadata": {
    "ExecuteTime": {
     "end_time": "2025-05-04T19:35:29.919138Z",
     "start_time": "2025-05-04T19:35:29.877608Z"
    },
    "init_cell": true
   },
   "outputs": [],
   "source": [
    "import pandas as pd\n",
    "import numpy as np\n",
    "import matplotlib.pyplot as plt\n",
    "\n",
    "from sklearn.metrics import mean_squared_error, r2_score, accuracy_score, confusion_matrix, classification_report\n",
    "from sklearn.model_selection import train_test_split, cross_val_score, cross_val_predict, KFold, GridSearchCV\n",
    "from sklearn.tree import DecisionTreeClassifier, plot_tree\n",
    "from sklearn.ensemble import RandomForestClassifier\n",
    "\n",
    "import statsmodels.api as sm\n",
    "import statsmodels.formula.api as smf"
   ]
  },
  {
   "cell_type": "code",
   "execution_count": 4,
   "id": "46860235",
   "metadata": {
    "ExecuteTime": {
     "end_time": "2025-04-28T04:05:56.491593Z",
     "start_time": "2025-04-28T04:05:56.467577Z"
    }
   },
   "outputs": [
    {
     "name": "stdout",
     "output_type": "stream",
     "text": [
      "Index(['name', 'state', 'brthYr', 'post1906', 'region', 'handPost',\n",
      "       'thumbSty'],\n",
      "      dtype='object')\n"
     ]
    },
    {
     "data": {
      "text/html": [
       "<div>\n",
       "<style scoped>\n",
       "    .dataframe tbody tr th:only-of-type {\n",
       "        vertical-align: middle;\n",
       "    }\n",
       "\n",
       "    .dataframe tbody tr th {\n",
       "        vertical-align: top;\n",
       "    }\n",
       "\n",
       "    .dataframe thead th {\n",
       "        text-align: right;\n",
       "    }\n",
       "</style>\n",
       "<table border=\"1\" class=\"dataframe\">\n",
       "  <thead>\n",
       "    <tr style=\"text-align: right;\">\n",
       "      <th></th>\n",
       "      <th>name</th>\n",
       "      <th>state</th>\n",
       "      <th>brthYr</th>\n",
       "      <th>post1906</th>\n",
       "      <th>region</th>\n",
       "      <th>handPost</th>\n",
       "      <th>thumbSty</th>\n",
       "    </tr>\n",
       "  </thead>\n",
       "  <tbody>\n",
       "    <tr>\n",
       "      <th>0</th>\n",
       "      <td>Henry Thomas</td>\n",
       "      <td>TX</td>\n",
       "      <td>1874</td>\n",
       "      <td>0</td>\n",
       "      <td>3</td>\n",
       "      <td>1</td>\n",
       "      <td>3</td>\n",
       "    </tr>\n",
       "    <tr>\n",
       "      <th>1</th>\n",
       "      <td>Frank Stokes</td>\n",
       "      <td>TN</td>\n",
       "      <td>1887</td>\n",
       "      <td>0</td>\n",
       "      <td>2</td>\n",
       "      <td>1</td>\n",
       "      <td>3</td>\n",
       "    </tr>\n",
       "    <tr>\n",
       "      <th>2</th>\n",
       "      <td>Sam Collins</td>\n",
       "      <td>MS</td>\n",
       "      <td>1887</td>\n",
       "      <td>0</td>\n",
       "      <td>2</td>\n",
       "      <td>1</td>\n",
       "      <td>2</td>\n",
       "    </tr>\n",
       "    <tr>\n",
       "      <th>3</th>\n",
       "      <td>Peg Leg Howell</td>\n",
       "      <td>GA</td>\n",
       "      <td>1888</td>\n",
       "      <td>0</td>\n",
       "      <td>1</td>\n",
       "      <td>2</td>\n",
       "      <td>2</td>\n",
       "    </tr>\n",
       "    <tr>\n",
       "      <th>4</th>\n",
       "      <td>Huddie Ledbetter</td>\n",
       "      <td>TX</td>\n",
       "      <td>1888</td>\n",
       "      <td>0</td>\n",
       "      <td>3</td>\n",
       "      <td>2</td>\n",
       "      <td>3</td>\n",
       "    </tr>\n",
       "    <tr>\n",
       "      <th>...</th>\n",
       "      <td>...</td>\n",
       "      <td>...</td>\n",
       "      <td>...</td>\n",
       "      <td>...</td>\n",
       "      <td>...</td>\n",
       "      <td>...</td>\n",
       "      <td>...</td>\n",
       "    </tr>\n",
       "    <tr>\n",
       "      <th>88</th>\n",
       "      <td>Jimmie Lee Harris</td>\n",
       "      <td>AL</td>\n",
       "      <td>1935</td>\n",
       "      <td>1</td>\n",
       "      <td>2</td>\n",
       "      <td>2</td>\n",
       "      <td>3</td>\n",
       "    </tr>\n",
       "    <tr>\n",
       "      <th>89</th>\n",
       "      <td>Snooks Eaglin</td>\n",
       "      <td>LA</td>\n",
       "      <td>1936</td>\n",
       "      <td>1</td>\n",
       "      <td>2</td>\n",
       "      <td>1</td>\n",
       "      <td>2</td>\n",
       "    </tr>\n",
       "    <tr>\n",
       "      <th>90</th>\n",
       "      <td>Larry Johnson</td>\n",
       "      <td>GA</td>\n",
       "      <td>1938</td>\n",
       "      <td>1</td>\n",
       "      <td>1</td>\n",
       "      <td>1</td>\n",
       "      <td>1</td>\n",
       "    </tr>\n",
       "    <tr>\n",
       "      <th>91</th>\n",
       "      <td>Tom Winslow</td>\n",
       "      <td>NC</td>\n",
       "      <td>1938</td>\n",
       "      <td>1</td>\n",
       "      <td>1</td>\n",
       "      <td>1</td>\n",
       "      <td>1</td>\n",
       "    </tr>\n",
       "    <tr>\n",
       "      <th>92</th>\n",
       "      <td>Rober Belfour</td>\n",
       "      <td>MS</td>\n",
       "      <td>1940</td>\n",
       "      <td>1</td>\n",
       "      <td>2</td>\n",
       "      <td>2</td>\n",
       "      <td>2</td>\n",
       "    </tr>\n",
       "  </tbody>\n",
       "</table>\n",
       "<p>93 rows × 7 columns</p>\n",
       "</div>"
      ],
      "text/plain": [
       "                 name state  brthYr  post1906  region  handPost  thumbSty\n",
       "0        Henry Thomas    TX    1874         0       3         1         3\n",
       "1        Frank Stokes    TN    1887         0       2         1         3\n",
       "2         Sam Collins    MS    1887         0       2         1         2\n",
       "3      Peg Leg Howell    GA    1888         0       1         2         2\n",
       "4    Huddie Ledbetter    TX    1888         0       3         2         3\n",
       "..                ...   ...     ...       ...     ...       ...       ...\n",
       "88  Jimmie Lee Harris    AL    1935         1       2         2         3\n",
       "89      Snooks Eaglin    LA    1936         1       2         1         2\n",
       "90      Larry Johnson    GA    1938         1       1         1         1\n",
       "91        Tom Winslow    NC    1938         1       1         1         1\n",
       "92      Rober Belfour    MS    1940         1       2         2         2\n",
       "\n",
       "[93 rows x 7 columns]"
      ]
     },
     "metadata": {},
     "output_type": "display_data"
    }
   ],
   "source": [
    "df = pd.read_csv('Assignment 4-blues_hand.csv')\n",
    "print(df.columns)\n",
    "display(df.head(93))"
   ]
  },
  {
   "cell_type": "code",
   "execution_count": 5,
   "id": "7b13771a",
   "metadata": {
    "ExecuteTime": {
     "end_time": "2025-04-28T04:05:59.839840Z",
     "start_time": "2025-04-28T04:05:59.815315Z"
    }
   },
   "outputs": [
    {
     "data": {
      "text/html": [
       "<div>\n",
       "<style scoped>\n",
       "    .dataframe tbody tr th:only-of-type {\n",
       "        vertical-align: middle;\n",
       "    }\n",
       "\n",
       "    .dataframe tbody tr th {\n",
       "        vertical-align: top;\n",
       "    }\n",
       "\n",
       "    .dataframe thead th {\n",
       "        text-align: right;\n",
       "    }\n",
       "</style>\n",
       "<table border=\"1\" class=\"dataframe\">\n",
       "  <thead>\n",
       "    <tr style=\"text-align: right;\">\n",
       "      <th></th>\n",
       "      <th>brthYr</th>\n",
       "      <th>post1906</th>\n",
       "      <th>region</th>\n",
       "      <th>handPost</th>\n",
       "      <th>thumbSty</th>\n",
       "    </tr>\n",
       "  </thead>\n",
       "  <tbody>\n",
       "    <tr>\n",
       "      <th>count</th>\n",
       "      <td>93.000000</td>\n",
       "      <td>93.000000</td>\n",
       "      <td>93.000000</td>\n",
       "      <td>93.000000</td>\n",
       "      <td>93.000000</td>\n",
       "    </tr>\n",
       "    <tr>\n",
       "      <th>mean</th>\n",
       "      <td>1908.903226</td>\n",
       "      <td>0.548387</td>\n",
       "      <td>1.741935</td>\n",
       "      <td>1.580645</td>\n",
       "      <td>2.043011</td>\n",
       "    </tr>\n",
       "    <tr>\n",
       "      <th>std</th>\n",
       "      <td>13.448020</td>\n",
       "      <td>0.500351</td>\n",
       "      <td>0.657783</td>\n",
       "      <td>0.712048</td>\n",
       "      <td>0.832936</td>\n",
       "    </tr>\n",
       "    <tr>\n",
       "      <th>min</th>\n",
       "      <td>1874.000000</td>\n",
       "      <td>0.000000</td>\n",
       "      <td>1.000000</td>\n",
       "      <td>1.000000</td>\n",
       "      <td>1.000000</td>\n",
       "    </tr>\n",
       "    <tr>\n",
       "      <th>25%</th>\n",
       "      <td>1898.000000</td>\n",
       "      <td>0.000000</td>\n",
       "      <td>1.000000</td>\n",
       "      <td>1.000000</td>\n",
       "      <td>1.000000</td>\n",
       "    </tr>\n",
       "    <tr>\n",
       "      <th>50%</th>\n",
       "      <td>1908.000000</td>\n",
       "      <td>1.000000</td>\n",
       "      <td>2.000000</td>\n",
       "      <td>1.000000</td>\n",
       "      <td>2.000000</td>\n",
       "    </tr>\n",
       "    <tr>\n",
       "      <th>75%</th>\n",
       "      <td>1917.000000</td>\n",
       "      <td>1.000000</td>\n",
       "      <td>2.000000</td>\n",
       "      <td>2.000000</td>\n",
       "      <td>3.000000</td>\n",
       "    </tr>\n",
       "    <tr>\n",
       "      <th>max</th>\n",
       "      <td>1940.000000</td>\n",
       "      <td>1.000000</td>\n",
       "      <td>3.000000</td>\n",
       "      <td>3.000000</td>\n",
       "      <td>3.000000</td>\n",
       "    </tr>\n",
       "  </tbody>\n",
       "</table>\n",
       "</div>"
      ],
      "text/plain": [
       "            brthYr   post1906     region   handPost   thumbSty\n",
       "count    93.000000  93.000000  93.000000  93.000000  93.000000\n",
       "mean   1908.903226   0.548387   1.741935   1.580645   2.043011\n",
       "std      13.448020   0.500351   0.657783   0.712048   0.832936\n",
       "min    1874.000000   0.000000   1.000000   1.000000   1.000000\n",
       "25%    1898.000000   0.000000   1.000000   1.000000   1.000000\n",
       "50%    1908.000000   1.000000   2.000000   1.000000   2.000000\n",
       "75%    1917.000000   1.000000   2.000000   2.000000   3.000000\n",
       "max    1940.000000   1.000000   3.000000   3.000000   3.000000"
      ]
     },
     "execution_count": 5,
     "metadata": {},
     "output_type": "execute_result"
    }
   ],
   "source": [
    "df.describe()"
   ]
  },
  {
   "cell_type": "code",
   "execution_count": 6,
   "id": "de9cbee6",
   "metadata": {
    "ExecuteTime": {
     "end_time": "2025-04-28T04:06:02.658953Z",
     "start_time": "2025-04-28T04:06:02.639669Z"
    }
   },
   "outputs": [
    {
     "data": {
      "text/plain": [
       "name        0\n",
       "state       0\n",
       "brthYr      0\n",
       "post1906    0\n",
       "region      0\n",
       "handPost    0\n",
       "thumbSty    0\n",
       "dtype: int64"
      ]
     },
     "execution_count": 6,
     "metadata": {},
     "output_type": "execute_result"
    }
   ],
   "source": [
    "def count_nan(df: pd.DataFrame) -> pd.Series:\n",
    "    \"\"\"Counts the number of NaN (Not a Number) values in each column of a Pandas DataFrame.\n",
    "    \"\"\"\n",
    "    if df.empty:\n",
    "        return pd.Series(dtype=int)  # Return an empty Series if df is empty\n",
    "    nan_counts = df.isnull().sum()\n",
    "    return nan_counts\n",
    "count_nan(df)"
   ]
  },
  {
   "cell_type": "markdown",
   "id": "ab5af0d9",
   "metadata": {},
   "source": [
    "# Step 1 - Decision Tree\n",
    "a. How accurately you can tell their period/post1906 from their hand postures and thumb styles?<p>\n",
    "b. How does it affect the evaluation when you include the region while training the model?"
   ]
  },
  {
   "cell_type": "code",
   "execution_count": 10,
   "id": "564a9558",
   "metadata": {
    "ExecuteTime": {
     "end_time": "2025-04-28T04:11:11.071324Z",
     "start_time": "2025-04-28T04:11:11.050277Z"
    }
   },
   "outputs": [
    {
     "name": "stdout",
     "output_type": "stream",
     "text": [
      "DecisionTreeClassifier with features ['handPost', 'thumbSty']\n",
      "Accuracy: 0.68\n",
      "\n",
      "Classification Report:\n",
      "              precision    recall  f1-score   support\n",
      "\n",
      "           0       1.00      0.40      0.57        15\n",
      "           1       0.59      1.00      0.74        13\n",
      "\n",
      "    accuracy                           0.68        28\n",
      "   macro avg       0.80      0.70      0.66        28\n",
      "weighted avg       0.81      0.68      0.65        28\n",
      "\n",
      "\n",
      "Confusion Matrix:\n",
      "[[ 6  9]\n",
      " [ 0 13]]\n",
      "DecisionTreeClassifier with features ['region', 'handPost', 'thumbSty']\n",
      "Accuracy: 0.50\n",
      "\n",
      "Classification Report:\n",
      "              precision    recall  f1-score   support\n",
      "\n",
      "           0       0.55      0.40      0.46        15\n",
      "           1       0.47      0.62      0.53        13\n",
      "\n",
      "    accuracy                           0.50        28\n",
      "   macro avg       0.51      0.51      0.50        28\n",
      "weighted avg       0.51      0.50      0.49        28\n",
      "\n",
      "\n",
      "Confusion Matrix:\n",
      "[[6 9]\n",
      " [5 8]]\n"
     ]
    }
   ],
   "source": [
    "# Define features (X) and target (y)\n",
    "y = df['post1906']\n",
    "\n",
    "for p in [['handPost', 'thumbSty'], ['region', 'handPost', 'thumbSty']]:\n",
    "    X = df[p]\n",
    "    print(f'DecisionTreeClassifier with features {p}')\n",
    "    # Split the data into training and testing sets\n",
    "    X_train, X_test, y_train, y_test = train_test_split(X, y, test_size=0.3, random_state=42)\n",
    "\n",
    "    # Initialize and train a Decision Tree Classifier\n",
    "    clf = DecisionTreeClassifier(random_state=42)\n",
    "    clf.fit(X_train, y_train)\n",
    "\n",
    "    # Make predictions on the test set\n",
    "    y_pred = clf.predict(X_test)\n",
    "\n",
    "    # Evaluate the model\n",
    "    accuracy = accuracy_score(y_test, y_pred)\n",
    "    print(f\"Accuracy: {accuracy:.2f}\")\n",
    "\n",
    "    print(\"\\nClassification Report:\")\n",
    "    print(classification_report(y_test, y_pred))\n",
    "\n",
    "    print(\"\\nConfusion Matrix:\")\n",
    "    print(confusion_matrix(y_test, y_pred))"
   ]
  },
  {
   "cell_type": "markdown",
   "id": "5986b406",
   "metadata": {},
   "source": [
    "This confusion matrix corresponds to the DecisionTreeClassifier with features ['handPost', 'thumbSty'] which had:<p>\n",
    " - Accuracy: 68%<p>\n",
    " - Recall for class 0: 6 / (6 + 9) = 6 / 15 = 40%<p>\n",
    " - Recall for class 1: 13 / (0 + 13) = 13 / 13 = 100%<p>\n",
    " - Precision for class 0: 6 / (6 + 0) = 6 / 6 = 100%<p>\n",
    " - Precision for class 1: 13 / (9 + 13) = 13 / 22 = 59%<p>\n",
    "    \n",
    "What it tells us about the model's performance:<p>\n",
    " - The model is very good at identifying instances of class 1 (high recall, no false negatives).<p>\n",
    " - However, it struggles with class 0, frequently misclassifying them as class 1 (high false positive rate, leading to lower recall for class 0).<p>\n",
    " - When the model predicts class 0, it is always correct (high precision for class 0).<p>\n",
    " - When the model predicts class 1, it is correct about 59% of the time (precision for class 1).<p>\n",
    "\n",
    "So, while the overall accuracy is 0.68, the model exhibits a bias towards predicting class 1. Depending on the specific goals of your classification task, this might be acceptable or require further improvement, especially in reducing the false positive rate for class 1."
   ]
  },
  {
   "cell_type": "code",
   "execution_count": 18,
   "id": "468d3e9b",
   "metadata": {
    "ExecuteTime": {
     "end_time": "2025-04-28T04:28:09.937422Z",
     "start_time": "2025-04-28T04:28:09.733696Z"
    }
   },
   "outputs": [
    {
     "name": "stdout",
     "output_type": "stream",
     "text": [
      "DecisionTreeClassifier with features ['region', 'handPost', 'thumbSty']\n",
      "Accuracy: 0.68\n",
      "\n",
      "Classification Report:\n",
      "              precision    recall  f1-score   support\n",
      "\n",
      "           0       1.00      0.40      0.57        15\n",
      "           1       0.59      1.00      0.74        13\n",
      "\n",
      "    accuracy                           0.68        28\n",
      "   macro avg       0.80      0.70      0.66        28\n",
      "weighted avg       0.81      0.68      0.65        28\n",
      "\n",
      "\n",
      "Confusion Matrix:\n",
      "[[ 6  9]\n",
      " [ 0 13]]\n"
     ]
    },
    {
     "data": {
      "image/png": "[encoded data removed]",
      "text/plain": [
       "<Figure size 1200x800 with 1 Axes>"
      ]
     },
     "metadata": {},
     "output_type": "display_data"
    }
   ],
   "source": [
    "X = df[['handPost', 'thumbSty']]\n",
    "y = df['post1906']\n",
    "print(f'DecisionTreeClassifier with features {p}')\n",
    "X_train, X_test, y_train, y_test = train_test_split(X, y, test_size=0.3, random_state=42)\n",
    "# Initialize and train a Decision Tree Classifier\n",
    "clf = DecisionTreeClassifier(random_state=42)\n",
    "clf.fit(X_train, y_train)\n",
    "\n",
    "# Make predictions on the test set\n",
    "y_pred = clf.predict(X_test)\n",
    "\n",
    "# Evaluate the model\n",
    "accuracy = accuracy_score(y_test, y_pred)\n",
    "print(f\"Accuracy: {accuracy:.2f}\")\n",
    "\n",
    "print(\"\\nClassification Report:\")\n",
    "print(classification_report(y_test, y_pred))\n",
    "\n",
    "print(\"\\nConfusion Matrix:\")\n",
    "print(confusion_matrix(y_test, y_pred))\n",
    "    \n",
    "# --- Visualize the Decision Tree ---\n",
    "plt.figure(figsize=(12, 8))\n",
    "plot_tree(clf,\n",
    "          feature_names=X.columns,\n",
    "          class_names=['Before 1906', '1906 or Later'],\n",
    "          filled=True,\n",
    "          rounded=True)\n",
    "plt.title(\"Decision Tree Structure (Limited to max_depth=3 for visualization)\")\n",
    "plt.show()"
   ]
  },
  {
   "cell_type": "markdown",
   "id": "343f8e55",
   "metadata": {},
   "source": [
    "Since we only are getting 68% accuracy, we will try experimenting with hyperparameters."
   ]
  },
  {
   "cell_type": "code",
   "execution_count": 51,
   "id": "c1d66564",
   "metadata": {
    "ExecuteTime": {
     "end_time": "2025-04-28T05:24:59.055795Z",
     "start_time": "2025-04-28T05:24:59.032235Z"
    }
   },
   "outputs": [
    {
     "name": "stdout",
     "output_type": "stream",
     "text": [
      "DecisionTreeClassifier with criterion=gini, Accuracy: 0.68\n",
      "DecisionTreeClassifier with criterion=entropy, Accuracy: 0.68\n",
      "DecisionTreeClassifier with splitter=best, Accuracy: 0.68\n",
      "DecisionTreeClassifier with splitter=random, Accuracy: 0.68\n",
      "DecisionTreeClassifier with max_depth=None, Accuracy: 0.68\n",
      "DecisionTreeClassifier with max_depth=3, Accuracy: 0.64\n",
      "DecisionTreeClassifier with min_samples_split=2, Accuracy: 0.68\n",
      "DecisionTreeClassifier with min_samples_split=10, Accuracy: 0.68\n"
     ]
    }
   ],
   "source": [
    "# Load data (replace with your actual data)\n",
    "X = df[['handPost', 'thumbSty']]  # Example feature columns\n",
    "y = df['post1906']  # Example target column\n",
    "\n",
    "# Split the data into training and testing sets\n",
    "X_train, X_test, y_train, y_test = train_test_split(X, y, test_size=0.3, random_state=42)\n",
    "\n",
    "# Experiment with different parameters for DecisionTreeClassifier\n",
    "\n",
    "# 1. Criterion: Gini vs Entropy\n",
    "clf_gini = DecisionTreeClassifier(criterion='gini', random_state=42)\n",
    "clf_entropy = DecisionTreeClassifier(criterion='entropy', random_state=42)\n",
    "\n",
    "# 2. Splitter: Best vs Random\n",
    "clf_best = DecisionTreeClassifier(splitter='best', random_state=42)\n",
    "clf_random = DecisionTreeClassifier(splitter='random', random_state=42)\n",
    "\n",
    "# 3. Max Depth: None vs limited depth\n",
    "clf_depth_none = DecisionTreeClassifier(max_depth=None, random_state=42)\n",
    "clf_depth_3 = DecisionTreeClassifier(max_depth=3, random_state=42)\n",
    "\n",
    "# 4. Min Samples Split: 2 vs higher values\n",
    "clf_min_samples_2 = DecisionTreeClassifier(min_samples_split=2, random_state=42)\n",
    "clf_min_samples_10 = DecisionTreeClassifier(min_samples_split=10, random_state=42)\n",
    "\n",
    "# List of classifiers to experiment with\n",
    "classifiers = [clf_gini, clf_entropy, clf_best, clf_random, clf_depth_none, clf_depth_3, clf_min_samples_2, clf_min_samples_10]\n",
    "class_desc = ['criterion=gini', 'criterion=entropy', 'splitter=best', 'splitter=random', \n",
    "              'max_depth=None', 'max_depth=3', 'min_samples_split=2', 'min_samples_split=10']\n",
    "# Train, evaluate, and print results for each classifier\n",
    "for i, clf in enumerate(classifiers):\n",
    "    clf_name = clf.__class__.__name__\n",
    "    clf.fit(X_train, y_train)\n",
    "    y_pred = clf.predict(X_test)\n",
    "    accuracy = accuracy_score(y_test, y_pred)\n",
    "    print(f\"{clf_name} with {class_desc[i]}, Accuracy: {accuracy:.2f}\")\n",
    "    #print(f\"\\n{clf_name} - Accuracy: {accuracy:.2f}\")\n",
    "    # print(classification_report(y_test, y_pred))"
   ]
  },
  {
   "cell_type": "code",
   "execution_count": 48,
   "id": "03294f87",
   "metadata": {
    "ExecuteTime": {
     "end_time": "2025-04-28T05:09:34.139454Z",
     "start_time": "2025-04-28T05:09:34.132948Z"
    }
   },
   "outputs": [
    {
     "name": "stdout",
     "output_type": "stream",
     "text": [
      "Accuracy: 0.68\n"
     ]
    }
   ],
   "source": [
    "X = df[['handPost', 'thumbSty']]  # Example feature columns\n",
    "y = df['post1906']  # Example target column\n",
    "\n",
    "# Split the data into training and testing sets\n",
    "X_train, X_test, y_train, y_test = train_test_split(X, y, test_size=0.3, random_state=42)\n",
    "clf = DecisionTreeClassifier(criterion='gini', max_depth=5, min_samples_split=10, splitter='best', random_state=42)\n",
    "clf.fit(X_train, y_train)\n",
    "\n",
    "# Make predictions on the test set\n",
    "y_pred = clf.predict(X_test)\n",
    "\n",
    "# Evaluate the model\n",
    "accuracy = accuracy_score(y_test, y_pred)\n",
    "print(f\"Accuracy: {accuracy:.2f}\")"
   ]
  },
  {
   "cell_type": "code",
   "execution_count": 44,
   "id": "ece7ee7d",
   "metadata": {
    "ExecuteTime": {
     "end_time": "2025-04-28T05:08:22.352829Z",
     "start_time": "2025-04-28T05:08:20.560220Z"
    }
   },
   "outputs": [
    {
     "name": "stdout",
     "output_type": "stream",
     "text": [
      "Best parameters found:  {'criterion': 'gini', 'max_depth': 5, 'min_samples_split': 10, 'splitter': 'best'}\n",
      "Best cross-validation score: 0.49\n"
     ]
    }
   ],
   "source": [
    "param_grid = {\n",
    "    'criterion': ['gini', 'entropy'],\n",
    "    'splitter': ['best', 'random'],\n",
    "    'max_depth': [3, 5, 10, None],\n",
    "    'min_samples_split': [2, 10, 20]\n",
    "}\n",
    "\n",
    "grid_search = GridSearchCV(DecisionTreeClassifier(random_state=42), param_grid, cv=5, n_jobs=-1, scoring='accuracy')\n",
    "grid_search.fit(X_train, y_train)\n",
    "\n",
    "print(\"Best parameters found: \", grid_search.best_params_)\n",
    "print(f\"Best cross-validation score: {grid_search.best_score_:.2f}\")"
   ]
  },
  {
   "cell_type": "markdown",
   "id": "b0ea2bc5",
   "metadata": {},
   "source": [
    "# Step 2\n",
    "Use random forest (in both of the above cases) and report the difference. Make sure to use appropriate training-testing parameters for your evaluation.<p>\n",
    "\n",
    "You should also run the algorithms multiple times, measure various accuracies, and report the average (and perhaps the range)."
   ]
  },
  {
   "cell_type": "code",
   "execution_count": 20,
   "id": "0e1e4598",
   "metadata": {
    "ExecuteTime": {
     "end_time": "2025-04-28T04:32:53.973544Z",
     "start_time": "2025-04-28T04:32:53.831651Z"
    }
   },
   "outputs": [
    {
     "name": "stdout",
     "output_type": "stream",
     "text": [
      "RandomForestClassifier with features ['handPost', 'thumbSty']\n",
      "Accuracy: 0.64\n",
      "\n",
      "Classification Report:\n",
      "              precision    recall  f1-score   support\n",
      "\n",
      "           0       0.86      0.40      0.55        15\n",
      "           1       0.57      0.92      0.71        13\n",
      "\n",
      "    accuracy                           0.64        28\n",
      "   macro avg       0.71      0.66      0.63        28\n",
      "weighted avg       0.72      0.64      0.62        28\n",
      "\n",
      "\n",
      "Confusion Matrix:\n",
      "[[ 6  9]\n",
      " [ 1 12]]\n",
      "RandomForestClassifier with features ['region', 'handPost', 'thumbSty']\n",
      "Accuracy: 0.50\n",
      "\n",
      "Classification Report:\n",
      "              precision    recall  f1-score   support\n",
      "\n",
      "           0       0.55      0.40      0.46        15\n",
      "           1       0.47      0.62      0.53        13\n",
      "\n",
      "    accuracy                           0.50        28\n",
      "   macro avg       0.51      0.51      0.50        28\n",
      "weighted avg       0.51      0.50      0.49        28\n",
      "\n",
      "\n",
      "Confusion Matrix:\n",
      "[[6 9]\n",
      " [5 8]]\n"
     ]
    }
   ],
   "source": [
    "# Define features (X) and target (y)\n",
    "y = df['post1906']\n",
    "\n",
    "for p in [['handPost', 'thumbSty'], ['region', 'handPost', 'thumbSty']]:\n",
    "    X = df[p]\n",
    "    print(f'RandomForestClassifier with features {p}')\n",
    "    # Split the data into training and testing sets\n",
    "    X_train, X_test, y_train, y_test = train_test_split(X, y, test_size=0.3, random_state=42)\n",
    "\n",
    "    # Initialize and train a Decision Tree Classifier\n",
    "    clf = RandomForestClassifier(random_state=42)\n",
    "    clf.fit(X_train, y_train)\n",
    "\n",
    "    # Make predictions on the test set\n",
    "    y_pred = clf.predict(X_test)\n",
    "\n",
    "    # Evaluate the model\n",
    "    accuracy = accuracy_score(y_test, y_pred)\n",
    "    print(f\"Accuracy: {accuracy:.2f}\")\n",
    "\n",
    "    print(\"\\nClassification Report:\")\n",
    "    print(classification_report(y_test, y_pred))\n",
    "\n",
    "    print(\"\\nConfusion Matrix:\")\n",
    "    print(confusion_matrix(y_test, y_pred))"
   ]
  },
  {
   "cell_type": "code",
   "execution_count": 25,
   "id": "ea10a5d6",
   "metadata": {
    "ExecuteTime": {
     "end_time": "2025-04-28T04:38:17.664011Z",
     "start_time": "2025-04-28T04:38:17.579552Z"
    }
   },
   "outputs": [
    {
     "name": "stdout",
     "output_type": "stream",
     "text": [
      "RandomForestClassifier with features ['region', 'handPost', 'thumbSty']\n",
      "Accuracy: 0.64\n",
      "\n",
      "Classification Report:\n",
      "              precision    recall  f1-score   support\n",
      "\n",
      "           0       0.86      0.40      0.55        15\n",
      "           1       0.57      0.92      0.71        13\n",
      "\n",
      "    accuracy                           0.64        28\n",
      "   macro avg       0.71      0.66      0.63        28\n",
      "weighted avg       0.72      0.64      0.62        28\n",
      "\n",
      "\n",
      "Confusion Matrix:\n",
      "[[ 6  9]\n",
      " [ 1 12]]\n"
     ]
    }
   ],
   "source": [
    "X = df[['handPost', 'thumbSty']]\n",
    "y = df['post1906']\n",
    "print(f'RandomForestClassifier with features {p}')\n",
    "X_train, X_test, y_train, y_test = train_test_split(X, y, test_size=0.3, random_state=42)\n",
    "# Initialize and train a Decision Tree Classifier\n",
    "clf = RandomForestClassifier(random_state=42)\n",
    "clf.fit(X_train, y_train)\n",
    "\n",
    "# Make predictions on the test set\n",
    "y_pred = clf.predict(X_test)\n",
    "\n",
    "# Evaluate the model\n",
    "accuracy = accuracy_score(y_test, y_pred)\n",
    "print(f\"Accuracy: {accuracy:.2f}\")\n",
    "\n",
    "print(\"\\nClassification Report:\")\n",
    "print(classification_report(y_test, y_pred))\n",
    "\n",
    "print(\"\\nConfusion Matrix:\")\n",
    "print(confusion_matrix(y_test, y_pred))"
   ]
  },
  {
   "cell_type": "code",
   "execution_count": 29,
   "id": "213686f4",
   "metadata": {
    "ExecuteTime": {
     "end_time": "2025-04-28T04:42:05.321745Z",
     "start_time": "2025-04-28T04:42:04.658232Z"
    }
   },
   "outputs": [
    {
     "name": "stdout",
     "output_type": "stream",
     "text": [
      "Cross-validated accuracy scores: [0.52631579 0.52631579 0.68421053 0.72222222 0.55555556]\n",
      "Average cross-validated accuracy: 0.60\n",
      "\n",
      "Classification Report:\n",
      "              precision    recall  f1-score   support\n",
      "\n",
      "           0       0.60      0.36      0.45        42\n",
      "           1       0.60      0.80      0.69        51\n",
      "\n",
      "    accuracy                           0.60        93\n",
      "   macro avg       0.60      0.58      0.57        93\n",
      "weighted avg       0.60      0.60      0.58        93\n",
      "\n",
      "\n",
      "Confusion Matrix:\n",
      "[[15 27]\n",
      " [10 41]]\n"
     ]
    }
   ],
   "source": [
    "clf = RandomForestClassifier(random_state=42)\n",
    "\n",
    "# Cross-validation (5 folds in this example)\n",
    "cv_scores = cross_val_score(clf, X, y, cv=5, scoring='accuracy')\n",
    "\n",
    "print(f\"Cross-validated accuracy scores: {cv_scores}\")\n",
    "print(f\"Average cross-validated accuracy: {cv_scores.mean():.2f}\")\n",
    "\n",
    "# To get classification report and confusion matrix, use cross_val_predict\n",
    "y_pred = cross_val_predict(clf, X, y, cv=5)\n",
    "\n",
    "print(\"\\nClassification Report:\")\n",
    "print(classification_report(y, y_pred))\n",
    "\n",
    "print(\"\\nConfusion Matrix:\")\n",
    "print(confusion_matrix(y, y_pred))"
   ]
  },
  {
   "cell_type": "code",
   "execution_count": 32,
   "id": "50ca9e1a",
   "metadata": {
    "ExecuteTime": {
     "end_time": "2025-04-28T04:47:01.969494Z",
     "start_time": "2025-04-28T04:47:01.368770Z"
    }
   },
   "outputs": [
    {
     "name": "stdout",
     "output_type": "stream",
     "text": [
      "Cross-validated accuracy scores: [0.52631579 0.52631579 0.68421053 0.72222222 0.55555556]\n",
      "Best fold accuracy: 0.7222222222222222\n",
      "3\n",
      "\n",
      "Classification Report (all folds):\n",
      "              precision    recall  f1-score   support\n",
      "\n",
      "           0       0.60      0.36      0.45        42\n",
      "           1       0.60      0.80      0.69        51\n",
      "\n",
      "    accuracy                           0.60        93\n",
      "   macro avg       0.60      0.58      0.57        93\n",
      "weighted avg       0.60      0.60      0.58        93\n",
      "\n",
      "\n",
      "Confusion Matrix (all folds):\n",
      "[[15 27]\n",
      " [10 41]]\n"
     ]
    }
   ],
   "source": [
    "from sklearn.model_selection import StratifiedKFold, cross_val_predict\n",
    "\n",
    "# Stratified K-Fold ensures that each fold has a similar distribution of classes\n",
    "skf = StratifiedKFold(n_splits=5)\n",
    "\n",
    "# Get the cross-validated predictions\n",
    "y_pred = cross_val_predict(clf, X, y, cv=skf)\n",
    "\n",
    "# Now, get the accuracy score for each fold\n",
    "cv_scores = cross_val_score(clf, X, y, cv=skf, scoring='accuracy')\n",
    "print(f\"Cross-validated accuracy scores: {cv_scores}\")\n",
    "print(f\"Best fold accuracy: {max(cv_scores)}\")\n",
    "\n",
    "# Find the fold index with best accuracy (0.72222)\n",
    "best_fold_index = np.argmax(cv_scores)\n",
    "print(best_fold_index)\n",
    "\n",
    "# To get predictions specifically from the fold with 0.72222 accuracy, we can use that index\n",
    "# But cross_val_predict already averages over all folds, so if you're asking for a single fold,\n",
    "# it's better to just inspect the results and metrics like classification report across folds\n",
    "\n",
    "print(\"\\nClassification Report (all folds):\")\n",
    "print(classification_report(y, y_pred))\n",
    "\n",
    "print(\"\\nConfusion Matrix (all folds):\")\n",
    "print(confusion_matrix(y, y_pred))\n"
   ]
  }
 ],
 "metadata": {
  "celltoolbar": "Initialization Cell",
  "kernelspec": {
   "display_name": "py39",
   "language": "python",
   "name": "py39"
  },
  "language_info": {
   "codemirror_mode": {
    "name": "ipython",
    "version": 3
   },
   "file_extension": ".py",
   "mimetype": "text/x-python",
   "name": "python",
   "nbconvert_exporter": "python",
   "pygments_lexer": "ipython3",
   "version": "3.9.13"
  }
 },
 "nbformat": 4,
 "nbformat_minor": 5
}

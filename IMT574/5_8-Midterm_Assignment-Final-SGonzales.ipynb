{
 "cells": [
  {
   "cell_type": "markdown",
   "id": "00512139",
   "metadata": {},
   "source": [
    "# 5.8 Midterm Assignment: Practice"
   ]
  },
  {
   "cell_type": "code",
   "execution_count": 13,
   "id": "caaadd03",
   "metadata": {
    "ExecuteTime": {
     "end_time": "2025-05-13T15:19:17.954986Z",
     "start_time": "2025-05-13T15:19:17.944962Z"
    },
    "init_cell": true
   },
   "outputs": [],
   "source": [
    "import random\n",
    "import pandas as pd\n",
    "import numpy as np\n",
    "import matplotlib.pyplot as plt\n",
    "import matplotlib.ticker as ticker\n",
    "import seaborn as sns\n",
    "\n",
    "from sklearn.metrics import mean_squared_error, r2_score, accuracy_score, confusion_matrix, classification_report\n",
    "from sklearn.metrics import silhouette_score, euclidean_distances\n",
    "from sklearn.model_selection import train_test_split\n",
    "from sklearn.preprocessing import StandardScaler\n",
    "from sklearn.cluster import KMeans\n",
    "from sklearn.cluster import AgglomerativeClustering\n",
    "from sklearn.ensemble import RandomForestClassifier\n",
    "from sklearn.neighbors import KNeighborsClassifier\n",
    "from sklearn.tree import DecisionTreeClassifier\n",
    "\n",
    "import scipy.cluster.hierarchy as sch\n",
    "\n",
    "import statsmodels.api as sm\n",
    "import statsmodels.formula.api as smf"
   ]
  },
  {
   "cell_type": "markdown",
   "id": "5ae379de",
   "metadata": {
    "ExecuteTime": {
     "end_time": "2025-05-07T03:03:11.048105Z",
     "start_time": "2025-05-07T03:03:11.005583Z"
    }
   },
   "source": [
    "# Problem 1: Dermatology\n",
    "This database contains 34 attributes. 35th is the class label, i.e. the disease name. The names and id numbers of the patients were removed from the database.<p>\n",
    "\n",
    "The differential diagnosis of erythemato-squamous diseases is a real problem in dermatology. They all share the clinical features of erythema and scaling, with very little differences. The diseases in this group are psoriasis, seboreic dermatitis, lichen planus, pityriasis rosea, cronic dermatitis, and pityriasis rubra pilaris. Usually a biopsy is necessary for the diagnosis but unfortunately these diseases share many histopathological features as well. Another difficulty for the differential diagnosis is that a disease may show the features of another disease at the beginning stage and may have the characteristic features at the following stages. Patients were first evaluated clinically with 12 features. Afterwards, skin samples were taken for the evaluation of 22 histopathological features. The values of the histopathological features are determined by an analysis of the samples under a microscope.<p>\n",
    "\n",
    "In the dataset constructed for this domain, the family history feature has the value 1 if any of these diseases has been observed in the family, and 0 otherwise. The age feature simply represents the age of the patient. Every other feature (clinical and histopathological) was given a degree in the range of 0 to 3. Here, 0 indicates that the feature was not present, 3 indicates the largest amount possible, and 1, 2 indicate the relative intermediate values.<p>\n",
    "\n",
    "Assuming that the list of diseases in this group are complete (total 6 types)\n",
    "'Psoriasis', 'Seboreic Dermatitis', 'Lichen Planus', 'Pityriasis Rosea', 'Cronic Dermatitis', 'Pityriasis Rubra Pilaris'\n",
    "Use the dataset to address the following list of objectives:<p>\n",
    "\n",
    "1. Let’s try determining the type of disease based on the patient’s Age. Use gradient descent (GD) to build your regression model (model1). Start by writing the GD algorithm and then implement it using a programming language of your choice. [10 points]<p>\n",
    "2. Use random forest on the clinical as well as histopathological attributes to classify the disease type (model2). [5 points]<p>\n",
    "3. Use kNN on the clinical attributes and histopathological attributes to classify the disease type and report your accuracy (model3). [5 points]<p>\n",
    "4. Finally, use two different clustering algorithms and see how well these attributes can determine the disease type (model4 and model5). [10 points]<p>\n",
    "5. Make sure to report your actual model for each of the above. This means providing appropriate details containing the features used, parameters learned/estimated, and any inputs (e.g., number of clusters, error limit) that go into the technique. When appropriate, perform multiple runs of the same technique and report average values or their spread.<p>\n",
    "6. Now, compare and contrast the five models you built. Having done both classification and clustering on the same dataset, what can you say about this data and/or the techniques you used? Write your thoughts in 2-3 paragraphs. [10 points]<p>\n",
    "7. Overall presentation (lack of spelling and other errors, consistent formatting, clear results). [5 points]<p>"
   ]
  },
  {
   "cell_type": "code",
   "execution_count": 14,
   "id": "998ecba7",
   "metadata": {
    "ExecuteTime": {
     "end_time": "2025-05-13T15:19:18.002141Z",
     "start_time": "2025-05-13T15:19:17.959022Z"
    },
    "init_cell": true
   },
   "outputs": [
    {
     "name": "stdout",
     "output_type": "stream",
     "text": [
      "Index(['Erythema', 'Scathing', 'Definite Borders', 'Itching', 'Koebner',\n",
      "       'Polygonal', 'Follicular', 'Oral', 'Knee', 'Scalp', 'Family Hostory',\n",
      "       'Melanin', 'Eosinophils', 'PNL', 'Fibrosis', 'Exocytosis',\n",
      "       'Acanothosis', 'Hyperkeratosis', 'Parakeratosis', 'Clubbing',\n",
      "       'Elongation', 'Thinning', 'Spongiform', 'Munro', 'Focal',\n",
      "       'Disapperance', 'Vacuolisation', 'Spongiosis', 'Retes', 'Follicular.1',\n",
      "       'Perifollicular', 'Inflamatory', 'Band-like', 'Age', 'Disease'],\n",
      "      dtype='object')\n"
     ]
    },
    {
     "data": {
      "text/html": [
       "<div>\n",
       "<style scoped>\n",
       "    .dataframe tbody tr th:only-of-type {\n",
       "        vertical-align: middle;\n",
       "    }\n",
       "\n",
       "    .dataframe tbody tr th {\n",
       "        vertical-align: top;\n",
       "    }\n",
       "\n",
       "    .dataframe thead th {\n",
       "        text-align: right;\n",
       "    }\n",
       "</style>\n",
       "<table border=\"1\" class=\"dataframe\">\n",
       "  <thead>\n",
       "    <tr style=\"text-align: right;\">\n",
       "      <th></th>\n",
       "      <th>Erythema</th>\n",
       "      <th>Scathing</th>\n",
       "      <th>Definite Borders</th>\n",
       "      <th>Itching</th>\n",
       "      <th>Koebner</th>\n",
       "      <th>Polygonal</th>\n",
       "      <th>Follicular</th>\n",
       "      <th>Oral</th>\n",
       "      <th>Knee</th>\n",
       "      <th>Scalp</th>\n",
       "      <th>...</th>\n",
       "      <th>Disapperance</th>\n",
       "      <th>Vacuolisation</th>\n",
       "      <th>Spongiosis</th>\n",
       "      <th>Retes</th>\n",
       "      <th>Follicular.1</th>\n",
       "      <th>Perifollicular</th>\n",
       "      <th>Inflamatory</th>\n",
       "      <th>Band-like</th>\n",
       "      <th>Age</th>\n",
       "      <th>Disease</th>\n",
       "    </tr>\n",
       "  </thead>\n",
       "  <tbody>\n",
       "    <tr>\n",
       "      <th>0</th>\n",
       "      <td>2</td>\n",
       "      <td>2</td>\n",
       "      <td>0</td>\n",
       "      <td>3</td>\n",
       "      <td>0</td>\n",
       "      <td>0</td>\n",
       "      <td>0</td>\n",
       "      <td>0</td>\n",
       "      <td>1</td>\n",
       "      <td>0</td>\n",
       "      <td>...</td>\n",
       "      <td>0</td>\n",
       "      <td>0</td>\n",
       "      <td>3</td>\n",
       "      <td>0</td>\n",
       "      <td>0</td>\n",
       "      <td>0</td>\n",
       "      <td>1</td>\n",
       "      <td>0</td>\n",
       "      <td>55.0</td>\n",
       "      <td>2</td>\n",
       "    </tr>\n",
       "    <tr>\n",
       "      <th>1</th>\n",
       "      <td>3</td>\n",
       "      <td>3</td>\n",
       "      <td>3</td>\n",
       "      <td>2</td>\n",
       "      <td>1</td>\n",
       "      <td>0</td>\n",
       "      <td>0</td>\n",
       "      <td>0</td>\n",
       "      <td>1</td>\n",
       "      <td>1</td>\n",
       "      <td>...</td>\n",
       "      <td>0</td>\n",
       "      <td>0</td>\n",
       "      <td>0</td>\n",
       "      <td>0</td>\n",
       "      <td>0</td>\n",
       "      <td>0</td>\n",
       "      <td>1</td>\n",
       "      <td>0</td>\n",
       "      <td>8.0</td>\n",
       "      <td>1</td>\n",
       "    </tr>\n",
       "    <tr>\n",
       "      <th>2</th>\n",
       "      <td>2</td>\n",
       "      <td>1</td>\n",
       "      <td>2</td>\n",
       "      <td>3</td>\n",
       "      <td>1</td>\n",
       "      <td>3</td>\n",
       "      <td>0</td>\n",
       "      <td>3</td>\n",
       "      <td>0</td>\n",
       "      <td>0</td>\n",
       "      <td>...</td>\n",
       "      <td>0</td>\n",
       "      <td>2</td>\n",
       "      <td>3</td>\n",
       "      <td>2</td>\n",
       "      <td>0</td>\n",
       "      <td>0</td>\n",
       "      <td>2</td>\n",
       "      <td>3</td>\n",
       "      <td>26.0</td>\n",
       "      <td>3</td>\n",
       "    </tr>\n",
       "  </tbody>\n",
       "</table>\n",
       "<p>3 rows × 35 columns</p>\n",
       "</div>"
      ],
      "text/plain": [
       "   Erythema  Scathing  Definite Borders  Itching  Koebner  Polygonal  \\\n",
       "0         2         2                 0        3        0          0   \n",
       "1         3         3                 3        2        1          0   \n",
       "2         2         1                 2        3        1          3   \n",
       "\n",
       "   Follicular  Oral  Knee  Scalp  ...  Disapperance  Vacuolisation  \\\n",
       "0           0     0     1      0  ...             0              0   \n",
       "1           0     0     1      1  ...             0              0   \n",
       "2           0     3     0      0  ...             0              2   \n",
       "\n",
       "   Spongiosis  Retes  Follicular.1  Perifollicular  Inflamatory  Band-like  \\\n",
       "0           3      0             0               0            1          0   \n",
       "1           0      0             0               0            1          0   \n",
       "2           3      2             0               0            2          3   \n",
       "\n",
       "    Age  Disease  \n",
       "0  55.0        2  \n",
       "1   8.0        1  \n",
       "2  26.0        3  \n",
       "\n",
       "[3 rows x 35 columns]"
      ]
     },
     "metadata": {},
     "output_type": "display_data"
    },
    {
     "name": "stdout",
     "output_type": "stream",
     "text": [
      "<class 'pandas.core.frame.DataFrame'>\n",
      "Index: 357 entries, 0 to 365\n",
      "Data columns (total 35 columns):\n",
      " #   Column            Non-Null Count  Dtype  \n",
      "---  ------            --------------  -----  \n",
      " 0   Erythema          357 non-null    int64  \n",
      " 1   Scathing          357 non-null    int64  \n",
      " 2   Definite Borders  357 non-null    int64  \n",
      " 3   Itching           357 non-null    int64  \n",
      " 4   Koebner           357 non-null    int64  \n",
      " 5   Polygonal         357 non-null    int64  \n",
      " 6   Follicular        357 non-null    int64  \n",
      " 7   Oral              357 non-null    int64  \n",
      " 8   Knee              357 non-null    int64  \n",
      " 9   Scalp             357 non-null    int64  \n",
      " 10  Family Hostory    357 non-null    int64  \n",
      " 11  Melanin           357 non-null    int64  \n",
      " 12  Eosinophils       357 non-null    int64  \n",
      " 13  PNL               357 non-null    int64  \n",
      " 14  Fibrosis          357 non-null    int64  \n",
      " 15  Exocytosis        357 non-null    int64  \n",
      " 16  Acanothosis       357 non-null    int64  \n",
      " 17  Hyperkeratosis    357 non-null    int64  \n",
      " 18  Parakeratosis     357 non-null    int64  \n",
      " 19  Clubbing          357 non-null    int64  \n",
      " 20  Elongation        357 non-null    int64  \n",
      " 21  Thinning          357 non-null    int64  \n",
      " 22  Spongiform        357 non-null    int64  \n",
      " 23  Munro             357 non-null    int64  \n",
      " 24  Focal             357 non-null    int64  \n",
      " 25  Disapperance      357 non-null    int64  \n",
      " 26  Vacuolisation     357 non-null    int64  \n",
      " 27  Spongiosis        357 non-null    int64  \n",
      " 28  Retes             357 non-null    int64  \n",
      " 29  Follicular.1      357 non-null    int64  \n",
      " 30  Perifollicular    357 non-null    int64  \n",
      " 31  Inflamatory       357 non-null    int64  \n",
      " 32  Band-like         357 non-null    int64  \n",
      " 33  Age               357 non-null    float64\n",
      " 34  Disease           357 non-null    int64  \n",
      "dtypes: float64(1), int64(34)\n",
      "memory usage: 100.4 KB\n"
     ]
    }
   ],
   "source": [
    "df_derm = pd.read_csv('dermatology.csv', sep='\\t')\n",
    "df_derm['Age'] = pd.to_numeric(df_derm['Age'], errors='coerce')\n",
    "df_derm = df_derm[df_derm['Age'] > 0]\n",
    "df_derm.columns = df_derm.columns.str.strip()\n",
    "print(df_derm.columns)\n",
    "display(df_derm.head(3))\n",
    "df_derm.info()"
   ]
  },
  {
   "cell_type": "code",
   "execution_count": 15,
   "id": "c3653454",
   "metadata": {
    "ExecuteTime": {
     "end_time": "2025-05-13T15:19:18.017655Z",
     "start_time": "2025-05-13T15:19:18.005140Z"
    },
    "init_cell": true
   },
   "outputs": [],
   "source": [
    "features_all = ['Erythema', 'Scathing', 'Definite Borders', 'Itching', 'Koebner',\n",
    "       'Polygonal', 'Follicular', 'Oral', 'Knee', 'Scalp', 'Family Hostory',\n",
    "       'Melanin', 'Eosinophils', 'PNL', 'Fibrosis', 'Exocytosis',\n",
    "       'Acanothosis', 'Hyperkeratosis', 'Parakeratosis', 'Clubbing',\n",
    "       'Elongation', 'Thinning', 'Spongiform', 'Munro', 'Focal',\n",
    "       'Disapperance', 'Vacuolisation', 'Spongiosis', 'Retes', 'Follicular.1',\n",
    "       'Perifollicular', 'Inflamatory', 'Band-like', 'Age']\n",
    "disease_names = ['Psoriasis', 'Seboreic Dermatitis', 'Lichen Planus', 'Pityriasis Rosea', \n",
    "                'Cronic Dermatitis', 'Pityriasis Rubra Pilaris']"
   ]
  },
  {
   "cell_type": "markdown",
   "id": "abd2d45a",
   "metadata": {},
   "source": [
    "## Problem 1.1 (model1)\n",
    "The Gradient Descent Algorithm:<p>\n",
    "\n",
    "\\begin{equation}\n",
    "\\frac {\\partial J(\\theta)} {\\partial \\theta_j} = \\frac {1} {n} {\\sum_{i=1}^n ({h(\\theta)}^{i}-y^i).X_j^i} \n",
    "\\end{equation}\n",
    "    \n",
    "We begin by initializing our model's parameters, represented by the Theta vector (w in the previous notation), with random values. Using these parameters, we predict the output for our input data points using the hypothesis function (often denoted as ${h(\\theta)}^{i}$).\n",
    "\n",
    "Next, we quantify how far off our predictions are from the actual target values using a cost function, such as the Mean Squared Error (MSE). The goal of Gradient Descent is to minimize this cost function.\n",
    "\n",
    "To find the set of parameters that minimizes the cost, we need to know in which direction to adjust our current parameters. This is where the gradient comes in. The gradient is a vector composed of the partial derivatives of the cost function with respect to each parameter ( $\\theta_0,\\theta_1$, etc. ). The gradient points in the direction of the steepest increase in the cost function.\n",
    "\n",
    "To minimize the cost, we update our parameters by moving in the opposite direction of the gradient. The size of the step we take in that direction is controlled by the learning rate $α$. The update rule for each parameter is: \n",
    "    $\\theta_j := \\theta_j - \\alpha \\cdot \\frac{\\partial J(\\theta)}{\\partial \\theta_j}$\n",
    "    \n",
    "The gradient descent update rule for each parameter $\\theta_j$ is:\n",
    "\n",
    "\\begin{equation}\n",
    "\\theta_j := \\theta_j - \\alpha \\cdot \\frac{1}{n} \\sum_{i=1}^n \\left(h_\\theta(x^{(i)}) - y^{(i)}\\right) x_j^{(i)}\n",
    "\\end{equation}\n",
    "\n",
    "Here are the updates for the first few parameters as examples:\n",
    "\n",
    "\\begin{equation}\n",
    "\\theta_0 := \\theta_0 - \\alpha \\cdot \\frac{1}{n} \\sum_{i=1}^n \\left(h_\\theta(x^{(i)}) - y^{(i)}\\right) x_0^{(i)}\n",
    "\\end{equation}\n",
    "\n",
    "\\begin{equation}\n",
    "\\theta_1 := \\theta_1 - \\alpha \\cdot \\frac{1}{n} \\sum_{i=1}^n \\left(h_\\theta(x^{(i)}) - y^{(i)}\\right) x_1^{(i)}\n",
    "\\end{equation}\n",
    "\n",
    "\\begin{equation}\n",
    "\\theta_2 := \\theta_2 - \\alpha \\cdot \\frac{1}{n} \\sum_{i=1}^n \\left(h_\\theta(x^{(i)}) - y^{(i)}\\right) x_2^{(i)}\n",
    "\\end{equation}\n"
   ]
  },
  {
   "cell_type": "code",
   "execution_count": 8,
   "id": "c5e4d09e",
   "metadata": {
    "ExecuteTime": {
     "end_time": "2025-05-08T02:45:45.381193Z",
     "start_time": "2025-05-08T02:45:45.366635Z"
    }
   },
   "outputs": [],
   "source": [
    "def gradient_descent(X, y, theta, learning_rate=0.01, iterations=1000):\n",
    "    '''\n",
    "    X     = Matrix of X with added bias units\n",
    "    y     = Vector of Y\n",
    "    theta = Vector of thetas np.random.randn(j,1)\n",
    "    learning_rate \n",
    "    iterations = number of iterations\n",
    "    Returns the final theta vector and array of cost history over no of iterations\n",
    "    '''\n",
    "    m = len(y)\n",
    "    cost_history = np.zeros(iterations)\n",
    "    theta_history = np.zeros((iterations, theta.shape[0]))\n",
    "    for it in range(iterations):\n",
    "        prediction = X.dot(theta)\n",
    "        theta = theta - (1/m) * learning_rate * (X.T.dot(prediction - y))\n",
    "        cost = (1/(2*m)) * np.sum((prediction - y)**2)\n",
    "        theta_history[it, :] = theta.T\n",
    "        cost_history[it] = cost\n",
    "    return theta, cost_history, theta_history\n",
    "\n",
    "def cost_fun(theta,X,y):\n",
    "    '''Calculates the cost for given X and Y. The following shows and example of a single dimensional X\n",
    "    theta = Vector of thetas \n",
    "    X     = Row of X's np.zeros((2,j))\n",
    "    y     = Actual y's np.zeros((2,1)) only for simple regression\n",
    "    where: j is the no of features\n",
    "    '''\n",
    "    n = len(y)\n",
    "    predictions = X.dot(theta)\n",
    "    cost = (1/(2*n)) * np.sum((predictions-y)**2)\n",
    "    return cost"
   ]
  },
  {
   "cell_type": "code",
   "execution_count": 9,
   "id": "75b87c7a",
   "metadata": {
    "ExecuteTime": {
     "end_time": "2025-05-08T02:45:45.397177Z",
     "start_time": "2025-05-08T02:45:45.382178Z"
    }
   },
   "outputs": [
    {
     "name": "stdout",
     "output_type": "stream",
     "text": [
      "Summary of the model trained on the training data:\n",
      "                            OLS Regression Results                            \n",
      "==============================================================================\n",
      "Dep. Variable:                Disease   R-squared:                       0.069\n",
      "Model:                            OLS   Adj. R-squared:                  0.067\n",
      "Method:                 Least Squares   F-statistic:                     26.49\n",
      "Date:                Wed, 07 May 2025   Prob (F-statistic):           4.39e-07\n",
      "Time:                        19:45:45   Log-Likelihood:                -659.52\n",
      "No. Observations:                 357   AIC:                             1323.\n",
      "Df Residuals:                     355   BIC:                             1331.\n",
      "Df Model:                           1                                         \n",
      "Covariance Type:            nonrobust                                         \n",
      "==============================================================================\n",
      "                 coef    std err          t      P>|t|      [0.025      0.975]\n",
      "------------------------------------------------------------------------------\n",
      "Intercept      3.7909      0.211     17.936      0.000       3.375       4.207\n",
      "Age           -0.0276      0.005     -5.147      0.000      -0.038      -0.017\n",
      "==============================================================================\n",
      "Omnibus:                      145.343   Durbin-Watson:                   1.511\n",
      "Prob(Omnibus):                  0.000   Jarque-Bera (JB):               23.077\n",
      "Skew:                           0.251   Prob(JB):                     9.75e-06\n",
      "Kurtosis:                       1.860   Cond. No.                         102.\n",
      "==============================================================================\n",
      "\n",
      "Notes:\n",
      "[1] Standard Errors assume that the covariance matrix of the errors is correctly specified.\n"
     ]
    }
   ],
   "source": [
    "# Test with OLS first to validate Gradient Descent\n",
    "\n",
    "# Train the linear regression model on the training data\n",
    "model = smf.ols('Disease ~ Age', data=df_derm)\n",
    "results = model.fit()\n",
    "\n",
    "# Print the summary of the model trained on the training data\n",
    "print(\"Summary of the model trained on the training data:\")\n",
    "print(results.summary())"
   ]
  },
  {
   "cell_type": "code",
   "execution_count": 10,
   "id": "24e095fc",
   "metadata": {
    "ExecuteTime": {
     "end_time": "2025-05-08T02:45:45.413213Z",
     "start_time": "2025-05-08T02:45:45.398178Z"
    }
   },
   "outputs": [
    {
     "name": "stdout",
     "output_type": "stream",
     "text": [
      "Gradient Descent Model Coefficients (original units):\n",
      "Intercept  : 3.7909\n",
      "Slope (Age): -0.0276\n",
      "Final MSE  : 0.465\n"
     ]
    }
   ],
   "source": [
    "# Now run custom Gradient Descent Formula\n",
    "# Prepare the data\n",
    "X = df_derm['Age'].values.reshape(-1, 1)\n",
    "y = df_derm['Disease'].values.reshape(-1, 1)\n",
    "m = len(y)\n",
    "\n",
    "# Standardize X and y\n",
    "X_mean, X_std = X.mean(), X.std()\n",
    "y_mean, y_std = y.mean(), y.std()\n",
    "X_scaled = (X - X_mean) / X_std\n",
    "y_scaled = (y - y_mean) / y_std\n",
    "\n",
    "# Add bias column\n",
    "X_b = np.c_[np.ones((m, 1)), X_scaled]\n",
    "\n",
    "# Initialize theta\n",
    "theta = np.zeros((2, 1))\n",
    "\n",
    "# Set hyperparameters\n",
    "learning_rate = 0.1\n",
    "n_iterations = 100\n",
    "\n",
    "# Train using gradient descent\n",
    "theta_final, cost_history, theta_history = gradient_descent(X_b, y_scaled, theta, learning_rate, n_iterations)\n",
    "\n",
    "# Recover coefficients in original scale\n",
    "slope = (y_std / X_std) * theta_final[1, 0]\n",
    "intercept = y_mean - slope * X_mean\n",
    "\n",
    "# Print results\n",
    "print(\"Gradient Descent Model Coefficients (original units):\")\n",
    "print(f\"Intercept  : {intercept:.4f}\")\n",
    "print(f\"Slope (Age): {slope:.4f}\")\n",
    "print(f\"Final MSE  : {cost_history[-1]:0.3f}\")"
   ]
  },
  {
   "cell_type": "code",
   "execution_count": 11,
   "id": "67652481",
   "metadata": {
    "ExecuteTime": {
     "end_time": "2025-05-08T02:45:45.508053Z",
     "start_time": "2025-05-08T02:45:45.414212Z"
    }
   },
   "outputs": [
    {
     "data": {
      "image/png": "[encoded data removed]",
      "text/plain": [
       "<Figure size 1000x600 with 1 Axes>"
      ]
     },
     "metadata": {},
     "output_type": "display_data"
    }
   ],
   "source": [
    "# Plot the Iterations vs Error/Cost\n",
    "fig,ax = plt.subplots(figsize=(10,6))\n",
    "major_locator = ticker.MultipleLocator(20)\n",
    "ax.xaxis.set_major_locator(major_locator)\n",
    "ax.set_ylabel('Error Function J')\n",
    "ax.set_xlabel('Iterations')\n",
    "ax.xaxis.set_minor_locator(ticker.MultipleLocator(10))\n",
    "ax.grid(axis='x', which='major', linestyle='-', linewidth=0.5, alpha=0.7)\n",
    "ax.grid(axis='x', which='minor', linestyle=':', linewidth=0.3, alpha=0.5)\n",
    "_=ax.plot(range(n_iterations),cost_history,'b.')\n",
    "plt.xticks(rotation=45, ha='right')\n",
    "all_major_tick_locations = major_locator.tick_values(ax.get_xlim()[0], ax.get_xlim()[1])\n",
    "label_locations = all_major_tick_locations[::2]\n",
    "label_values = [str(int(loc)) for loc in label_locations]\n",
    "plt.xticks(label_locations, label_values, rotation=45, ha='right')\n",
    "plt.show()"
   ]
  },
  {
   "cell_type": "code",
   "execution_count": 12,
   "id": "d8a3347a",
   "metadata": {
    "ExecuteTime": {
     "end_time": "2025-05-08T02:45:45.523838Z",
     "start_time": "2025-05-08T02:45:45.509282Z"
    }
   },
   "outputs": [
    {
     "ename": "ValueError",
     "evalue": "operands could not be broadcast together with shapes (2,1) (357,1) ",
     "output_type": "error",
     "traceback": [
      "\u001b[1;31m---------------------------------------------------------------------------\u001b[0m",
      "\u001b[1;31mValueError\u001b[0m                                Traceback (most recent call last)",
      "Cell \u001b[1;32mIn[12], line 2\u001b[0m\n\u001b[0;32m      1\u001b[0m \u001b[38;5;66;03m# Making predictions using estimated parameters\u001b[39;00m\n\u001b[1;32m----> 2\u001b[0m y_pred \u001b[38;5;241m=\u001b[39m \u001b[43mtheta_final\u001b[49m\u001b[38;5;241;43m*\u001b[39;49m\u001b[43mX\u001b[49m \u001b[38;5;241m+\u001b[39m cost_history\n\u001b[0;32m      4\u001b[0m \u001b[38;5;66;03m# Plotting the regression line\u001b[39;00m\n\u001b[0;32m      5\u001b[0m plt\u001b[38;5;241m.\u001b[39mfigure(figsize \u001b[38;5;241m=\u001b[39m (\u001b[38;5;241m8\u001b[39m,\u001b[38;5;241m6\u001b[39m))\n",
      "\u001b[1;31mValueError\u001b[0m: operands could not be broadcast together with shapes (2,1) (357,1) "
     ]
    }
   ],
   "source": [
    "# Making predictions using estimated parameters\n",
    "y_pred = theta_final*X + cost_history\n",
    "\n",
    "# Plotting the regression line\n",
    "plt.figure(figsize = (8,6))\n",
    "plt.scatter(X, Y, marker='o', color='red')\n",
    "plt.plot([min(X), max(X)], [min(Y_pred), max(Y_pred)], color='blue',markerfacecolor='red',\n",
    "         markersize=10,linestyle='dashed')\n",
    "plt.xlabel(\"X\")\n",
    "plt.ylabel(\"Y\")\n",
    "plt.show()"
   ]
  },
  {
   "cell_type": "markdown",
   "id": "0088c165",
   "metadata": {},
   "source": [
    "## Model1\n",
    "<b>Question:</b> Try determining the type of disease based on the patient’s Age. Use gradient descent (GD) to build your regression model (model1). Start by writing the GD algorithm and then implement it using a programming language of your choice.<p>\n",
    "<b>Answer:</b> After around 17 iterations the cost is flat so the remaining iterations are not needed or will not result in any further optimization.<p>\n",
    "The Slope and Intercept match between the OLS and GD steps, so we will complete this answer:<p>\n",
    " - Intercept  : 3.7909<p>\n",
    " - Slope (Age): -0.0276<p>\n",
    " - Optimal iterations: 17"
   ]
  },
  {
   "cell_type": "markdown",
   "id": "1b860791",
   "metadata": {
    "ExecuteTime": {
     "end_time": "2025-05-07T04:09:56.082247Z",
     "start_time": "2025-05-07T04:09:56.064313Z"
    }
   },
   "source": [
    "## Problem 1.2 Random Forest (model2)"
   ]
  },
  {
   "cell_type": "code",
   "execution_count": null,
   "id": "fbf3190e",
   "metadata": {
    "ExecuteTime": {
     "end_time": "2025-05-08T02:45:45.524826Z",
     "start_time": "2025-05-08T02:45:45.524826Z"
    }
   },
   "outputs": [],
   "source": [
    "model_type = 'RandomForest'\n",
    "features = features_all\n",
    "predictor = 'Disease'\n",
    "test_size = .8\n",
    "random_state = 42\n",
    "print(f\"{model_type} Prediction of {predictor} using {features} with {test_size=} {random_state=}\")\n",
    "\n",
    "X = df_derm[features]\n",
    "y = df_derm[predictor]\n",
    "\n",
    "X_train, X_test, y_train, y_test = train_test_split(X, y, test_size=test_size, random_state=random_state)\n",
    "print(f\"Shape of X_train before training: {X_train.shape}\")\n",
    "\n",
    "scaler = StandardScaler()\n",
    "# Fit the scaler on the training data and transform both training and testing data\n",
    "X_train_scaled = scaler.fit_transform(X_train)\n",
    "X_test_scaled = scaler.transform(X_test)\n",
    "print(\"\\nFeatures scaled using StandardScaler.\")\n",
    "print(f\"Shape of X_train after scaling: {X_train_scaled.shape}\")\n",
    "\n",
    "# The model will be trained on the scaled data\n",
    "clf = RandomForestClassifier(random_state=random_state)\n",
    "clf.fit(X_train_scaled, y_train) # Fit on scaled training data\n",
    "\n",
    "# Make predictions on the test set\n",
    "# Predictions must be made on the scaled test data\n",
    "y_pred = clf.predict(X_test_scaled) # Predict using scaled test data\n",
    "\n",
    "# Evaluate the model\n",
    "accuracy = accuracy_score(y_test, y_pred)\n",
    "print(f\"{model_type} Accuracy: {accuracy:.2f}\")\n",
    "\n",
    "print(f\"\\n{model_type} Classification Report:\")\n",
    "print(classification_report(y_test, y_pred))\n",
    "\n",
    "print(f\"\\n{model_type} Confusion Matrix:\")\n",
    "print(confusion_matrix(y_test, y_pred))"
   ]
  },
  {
   "cell_type": "markdown",
   "id": "24d4eda5",
   "metadata": {},
   "source": [
    "<b>Question:</b> Use random forest on the clinical as well as histopathological attributes to classify the disease type.<p>\n",
    "\n",
    "<b>Answer:</b>This Random Forest Model is extremely accurate at 98% (1% point higher after scaling the features; likely due to Age). It is perfect at predicting [1, 3, 5]  'Psoriasis', 'Lichen Planus', 'Cronic Dermatitis'.<p>\n",
    "Seboreic Dermatitis (Actual Class 1): The model correctly predicted 47 cases of Seboreic Dermatitis. It incorrectly classified 3 cases of Seboreic Dermatitis as Pityriasis Rosea (Class 3).<p>\n",
    "Pityriasis Rosea (Actual Class 3): The model correctly predicted 38 cases of Pityriasis Rosea. It misclassified 1 case of Pityriasis Rosea as Seboreic Dermatitis (Class 1).<p>\n",
    "Pityriasis Rubra Pilaris (Actual Class 5): The model correctly predicted 13 cases of Pityriasis Rubra Pilaris. It incorrectly classified 1 case of Pityriasis Rubra Pilaris as Psoriasis (Class 0).<p>"
   ]
  },
  {
   "cell_type": "markdown",
   "id": "6b7e3802",
   "metadata": {},
   "source": [
    "## Problem 1.3 KNN (model3)"
   ]
  },
  {
   "cell_type": "code",
   "execution_count": null,
   "id": "6fb216ea",
   "metadata": {
    "ExecuteTime": {
     "end_time": "2025-05-08T02:45:45.525820Z",
     "start_time": "2025-05-08T02:45:45.525820Z"
    }
   },
   "outputs": [],
   "source": [
    "# Figure out the Optimal Number of clusters first; keep Scaled, same test/train split from above\n",
    "model_type = 'KNN'\n",
    "predictor = 'Disease'\n",
    "print(f\"{model_type} Prediction of {predictor} using {features} with {test_size=} {random_state=}\")\n",
    "\n",
    "accuracies = []\n",
    "for k in range(2,10):\n",
    "    # Initialize kNN classifier\n",
    "    knn = KNeighborsClassifier(n_neighbors=k)  # You can adjust the number of neighbors\n",
    "    # Train the model\n",
    "    knn.fit(X_train_scaled, y_train)\n",
    "    # Make predictions\n",
    "    y_pred = knn.predict(X_test_scaled)\n",
    "    # Calculate accuracy\n",
    "    accuracy = accuracy_score(y_test, y_pred)\n",
    "    accuracies.append(accuracy)\n",
    "    print(f\"Accuracy of KNN {k=} Model predicting Disease: {accuracy:.2%}\")"
   ]
  },
  {
   "cell_type": "markdown",
   "id": "bc610f86",
   "metadata": {},
   "source": [
    "Optimal number of n_neighbors=2 at 71% accuracy."
   ]
  },
  {
   "cell_type": "code",
   "execution_count": null,
   "id": "f569e007",
   "metadata": {
    "ExecuteTime": {
     "end_time": "2025-05-08T02:45:45.526821Z",
     "start_time": "2025-05-08T02:45:45.526821Z"
    }
   },
   "outputs": [],
   "source": [
    "# keep Scaled, same test/train split from above\n",
    "k = 4\n",
    "knn = KNeighborsClassifier(n_neighbors=k)  # You can adjust the number of neighbors\n",
    "# Train the model\n",
    "knn.fit(X_train_scaled, y_train)\n",
    "# Make predictions\n",
    "y_pred = knn.predict(X_test_scaled)\n",
    "print(f\"\\n{model_type} Classification Report:\")\n",
    "print(classification_report(y_test, y_pred))\n",
    "print(f\"\\n{model_type} Confusion Matrix:\")\n",
    "print(confusion_matrix(y_test, y_pred))"
   ]
  },
  {
   "cell_type": "markdown",
   "id": "c57a7b75",
   "metadata": {},
   "source": [
    "<b>Question:</b> Use random forest on the clinical as well as histopathological attributes to classify the disease type.<p>\n",
    "\n",
    "<b>Answer:</b> Overall this model performed well with 93% accuracy.<p>\n",
    "Psoriasis (Actual Class 0): The model correctly predicted 81 instances of Psoriasis. It misclassified 1 instance as Seboreic Dermatitis and 1 instance as Pityriasis Rosea.<p>\n",
    "Seboreic Dermatitis (Actual Class 1): The model correctly identified 31 cases of Seboreic Dermatitis. However, it misclassified 2 instances as Psoriasis, 15 instances as Pityriasis Rosea, and 2 instances as Pityriasis Rubra Pilaris.<p>\n",
    "Lichen Planus (Actual Class 2): The model correctly predicted 52 instances of Lichen Planus. It misclassified 3 instances as Seboreic Dermatitis and 4 instances as Pityriasis Rosea.<p>\n",
    "Pityriasis Rosea (Actual Class 3): The model correctly predicted 20 instances of Pityriasis Rosea. It misclassified 1 instance as Psoriasis and 18 instances as Seboreic Dermatitis.<p>\n",
    "Cronic Dermatitis (Actual Class 4): The model correctly predicted 7 instances of Cronic Dermatitis. It showed significant misclassifications for this class, predicting 5 instances as Psoriasis, 9 instances as Seboreic Dermatitis, 19 instances as Pityriasis Rosea, and 1 instance as Pityriasis Rubra Pilaris.<p>\n",
    "Pityriasis Rubra Pilaris (Actual Class 5): The model correctly predicted 12 instances of Pityriasis Rubra Pilaris. It misclassified 2 instances as Seboreic Dermatitis.<p>"
   ]
  },
  {
   "cell_type": "markdown",
   "id": "34c4c5e2",
   "metadata": {},
   "source": [
    "## Problem 1.4 Clustering (model4, model5)"
   ]
  },
  {
   "cell_type": "markdown",
   "id": "9f277754",
   "metadata": {},
   "source": [
    "### Problem 1.4 model4 - Agglomerative Clustering"
   ]
  },
  {
   "cell_type": "code",
   "execution_count": null,
   "id": "88ccb324",
   "metadata": {
    "ExecuteTime": {
     "end_time": "2025-05-08T02:45:45.526821Z",
     "start_time": "2025-05-08T02:45:45.526821Z"
    }
   },
   "outputs": [],
   "source": [
    "# Use Agglomerative (model4) Clustering to find the best features\n",
    "# Use the elbow method to find a good n_clusters\n",
    "cluster_type = 'Agglomerative'\n",
    "features = features_all\n",
    "X =  df_derm[features]\n",
    "scaler = StandardScaler()\n",
    "X_scaled = scaler.fit_transform(X)\n",
    "print(f\"Elbow Method: Calculate inertia for different numbers of clusters for {cluster_type} Clustering\")\n",
    "\n",
    "n_cluster_values = range(1, 11)\n",
    "inertias = []\n",
    "for n in n_cluster_values:\n",
    "    # Initialize Agglomerative Clustering model\n",
    "    agg_clustering = AgglomerativeClustering(n_clusters=n)\n",
    "    # Fit the model to the data and get cluster labels\n",
    "    labels = agg_clustering.fit_predict(X_scaled)\n",
    "    # Calculate inertia (Sum of Squared Distances to cluster means)\n",
    "    inertia_k = 0\n",
    "    for i in range(n):\n",
    "        # Get points belonging to the current cluster\n",
    "        cluster_points = X[labels == i]\n",
    "        if cluster_points.shape[0] > 0: # Ensure the cluster is not empty\n",
    "            # Calculate the mean of the cluster and convert to NumPy array before reshaping\n",
    "            centroid = np.mean(cluster_points, axis=0).values.reshape(1, -1)\n",
    "            # Calculate squared Euclidean distances from points to the centroid\n",
    "            # Reshape centroid to a 2D array for euclidean_distances\n",
    "            distances_sq = euclidean_distances(cluster_points, centroid.reshape(1, -1))**2\n",
    "            # Sum the squared distances for this cluster\n",
    "            inertia_k += np.sum(distances_sq)\n",
    "    inertias.append(inertia_k)\n",
    "\n",
    "# --- Plotting the Elbow Curve ---\n",
    "plt.figure(figsize=(10, 6))\n",
    "plt.plot(n_cluster_values, inertias, marker='o', linestyle='-')\n",
    "plt.title('Elbow Method for Determining Optimal Number of Clusters (Agglomerative Clustering)')\n",
    "plt.xlabel('Number of Clusters')\n",
    "plt.ylabel('Inertia (Sum of Squared Distances)')\n",
    "plt.xticks(n_cluster_values) # Show all n_clusters values on x-axis\n",
    "plt.grid(True)\n",
    "plt.show()\n",
    "\n",
    "# --- Interpretation ---\n",
    "print(\"\\nInterpretation of 'elbow point':\")\n",
    "print(\"This is where the decrease in inertia slows down considerably.\")\n",
    "print(\"The number of clusters at this elbow point is often considered a suitable value.\")\n",
    "print(\"The elbow might not always be sharply defined, so this method provides a guideline.\")"
   ]
  },
  {
   "cell_type": "markdown",
   "id": "1a2e7db1",
   "metadata": {},
   "source": [
    "I would note that Elbow point is more defined using unscaled features (not depicted), which isn't really an indicator of how good or bad the Elbow chart is, because unscaled features might show artificially more distinction in the clustering."
   ]
  },
  {
   "cell_type": "code",
   "execution_count": null,
   "id": "d5918cd9",
   "metadata": {
    "ExecuteTime": {
     "end_time": "2025-05-08T02:45:45.527821Z",
     "start_time": "2025-05-08T02:45:45.527821Z"
    }
   },
   "outputs": [],
   "source": [
    "# Try different linkage methods\n",
    "print(f\"{cluster_type} Clustering different Linkage Methods\")\n",
    "n_clusters = 4\n",
    "# Perform hierarchical clustering\n",
    "for linkage_method in ['ward', 'complete', 'average', 'single']:\n",
    "    # Perform Agglomerative Clustering\n",
    "    ac = AgglomerativeClustering(n_clusters=n_clusters, linkage=linkage_method)\n",
    "    y_ac = ac.fit_predict(X_scaled)\n",
    "    # Calculate silhouette score\n",
    "    a_silhouette = float(silhouette_score(X_scaled, y_ac))\n",
    "    print(f\"Silhouette Score for Agglomerative Clustering: {a_silhouette} with {linkage_method=}\")"
   ]
  },
  {
   "cell_type": "code",
   "execution_count": null,
   "id": "117b7c18",
   "metadata": {
    "ExecuteTime": {
     "end_time": "2025-05-08T02:45:45.527821Z",
     "start_time": "2025-05-08T02:45:45.527821Z"
    }
   },
   "outputs": [],
   "source": [
    "# Use the Decision Tree Classifier to find the most signficant features\n",
    "X = df_derm[features_all]\n",
    "y = df_derm['Disease']\n",
    "\n",
    "clf = DecisionTreeClassifier(random_state=42)\n",
    "clf.fit(X, y)\n",
    "\n",
    "importances = pd.Series(clf.feature_importances_, index=features_all)\n",
    "importances = importances.sort_values(ascending=False)\n",
    "\n",
    "print(importances[:15])\n",
    "print('...')"
   ]
  },
  {
   "cell_type": "code",
   "execution_count": null,
   "id": "18f169e2",
   "metadata": {
    "ExecuteTime": {
     "end_time": "2025-05-08T02:45:45.528903Z",
     "start_time": "2025-05-08T02:45:45.528903Z"
    }
   },
   "outputs": [],
   "source": [
    "# The above Silhouette scores are not great\n",
    "# Try with most significant features\n",
    "print(f\"KMeans with Average Linkage and most significant Features\")\n",
    "n_clusters = 3\n",
    "linkage_method = 'average'\n",
    "features_best = ['Clubbing', 'Vacuolisation', 'Fibrosis', 'Koebner', 'Follicular', 'Disapperance', 'Thinning',\n",
    "                 'Age', 'Perifollicular', 'Exocytosis', 'Itching', 'Hyperkeratosis']\n",
    "X = df_derm[features_best]\n",
    "y = df_derm['Disease']\n",
    "combined_data = pd.concat([X, y], axis=1).dropna()\n",
    "X_cleaned = combined_data[features_best] # Use the cleaned features\n",
    "\n",
    "# --- Scale the features ---\n",
    "# Scaling ensures every feature contributes equally to the distance calculation.\n",
    "scaler = StandardScaler()\n",
    "X_cleaned_scaled = scaler.fit_transform(X_cleaned)\n",
    "# Perform Agglomerative Clustering\n",
    "ac = AgglomerativeClustering(n_clusters=n_clusters, linkage=linkage_method)\n",
    "y_ac = ac.fit_predict(X_cleaned_scaled)\n",
    "# Calculate silhouette score\n",
    "a_silhouette = float(silhouette_score(X_cleaned_scaled, y_ac))\n",
    "print(f\"Silhouette Score for Agglomerative Clustering: {a_silhouette} with {linkage_method=}\")"
   ]
  },
  {
   "cell_type": "code",
   "execution_count": null,
   "id": "fe0a85a2",
   "metadata": {
    "ExecuteTime": {
     "end_time": "2025-05-08T02:45:45.528903Z",
     "start_time": "2025-05-08T02:45:45.528903Z"
    }
   },
   "outputs": [],
   "source": [
    "# Evaluate sets of Features based on Silhoutte score\n",
    "\n",
    "# Feature sets to compare\n",
    "feature_sets = {\n",
    "    \"Top 4\": ['Clubbing', 'Vacuolisation', 'Fibrosis', 'Koebner'],\n",
    "    \"Top 8\": ['Clubbing', 'Vacuolisation', 'Fibrosis', 'Koebner', 'Follicular', 'Disapperance', 'Thinning', 'Age'],\n",
    "    \"Top 12\": ['Clubbing', 'Vacuolisation', 'Fibrosis', 'Koebner', 'Follicular', 'Disapperance', 'Thinning', 'Age', 'Perifollicular', 'Exocytosis', 'Itching', 'Hyperkeratosis'],\n",
    "    \"All Features\": features_all  # Your original full list\n",
    "}\n",
    "linkage_methods = ['ward', 'average', 'complete']\n",
    "results = []\n",
    "# Try each feature set with each linkage method\n",
    "for name, features in feature_sets.items():\n",
    "    X = df_derm[features].dropna()\n",
    "    X_scaled = StandardScaler().fit_transform(X)\n",
    "    for linkage in linkage_methods:\n",
    "        if linkage == 'ward' and X_scaled.shape[1] < 2:\n",
    "            continue  # ward requires >1 feature\n",
    "        model = AgglomerativeClustering(n_clusters=6, linkage=linkage)\n",
    "        labels = model.fit_predict(X_scaled)\n",
    "        score = silhouette_score(X_scaled, labels)\n",
    "        results.append((name, linkage, score))\n",
    "results_df = pd.DataFrame(results, columns=['Feature Set', 'Linkage', 'Silhouette Score'])\n",
    "plt.figure(figsize=(10, 6))\n",
    "for linkage in linkage_methods:\n",
    "    subset = results_df[results_df['Linkage'] == linkage]\n",
    "    plt.plot(subset['Feature Set'], subset['Silhouette Score'], marker='o', label=f'Linkage: {linkage}')\n",
    "\n",
    "plt.title('Silhouette Scores for Different Feature Sets and Linkage Methods')\n",
    "plt.xlabel('Feature Set')\n",
    "plt.ylabel('Silhouette Score')\n",
    "plt.legend()\n",
    "plt.xticks(rotation=45)\n",
    "plt.grid(True)\n",
    "plt.tight_layout()\n",
    "plt.show()"
   ]
  },
  {
   "cell_type": "code",
   "execution_count": null,
   "id": "c1663ea3",
   "metadata": {
    "ExecuteTime": {
     "end_time": "2025-05-08T02:45:45.530322Z",
     "start_time": "2025-05-08T02:45:45.530322Z"
    }
   },
   "outputs": [],
   "source": [
    "# Try with Top 4 significant features\n",
    "print(f\"KMeans with Average Linkage and Top 4 Features\")\n",
    "n_clusters = 3\n",
    "linkage_method = 'average'\n",
    "features_best = ['Clubbing', 'Vacuolisation', 'Fibrosis', 'Koebner']\n",
    "X = df_derm[features_best]\n",
    "y = df_derm['Disease']\n",
    "combined_data = pd.concat([X, y], axis=1).dropna()\n",
    "X_cleaned = combined_data[features_best] # Use the cleaned features\n",
    "# --- Scale the features ---\n",
    "scaler = StandardScaler()\n",
    "X_cleaned_scaled = scaler.fit_transform(X_cleaned)\n",
    "# Perform Agglomerative Clustering\n",
    "ac = AgglomerativeClustering(n_clusters=n_clusters, linkage=linkage_method)\n",
    "y_ac = ac.fit_predict(X_cleaned_scaled)\n",
    "# Calculate silhouette score\n",
    "a_silhouette = float(silhouette_score(X_cleaned_scaled, y_ac))\n",
    "print(f\"Silhouette Score for Agglomerative Clustering: {a_silhouette} with {linkage_method=}\")"
   ]
  },
  {
   "cell_type": "markdown",
   "id": "9811fdd4",
   "metadata": {},
   "source": [
    "### Problem 1.4 model5 - K-Means Clustering"
   ]
  },
  {
   "cell_type": "code",
   "execution_count": null,
   "id": "c08a4dcb",
   "metadata": {
    "ExecuteTime": {
     "end_time": "2025-05-08T02:45:45.531323Z",
     "start_time": "2025-05-08T02:45:45.531323Z"
    }
   },
   "outputs": [],
   "source": [
    "# Use KMeans/Divisive Clustering to find the best features\n",
    "# Use the elbow method to find a good n_clusters\n",
    "cluster_type = 'KMeans'\n",
    "print(f\"Elbow Method: Calculate inertia for different numbers of clusters for {cluster_type} Clustering\")\n",
    "n_cluster_values = range(1, 11)\n",
    "inertias = []\n",
    "for n in n_cluster_values:\n",
    "    kmeans = KMeans(n_clusters=n)\n",
    "    kmeans.fit(X_cleaned_scaled)\n",
    "    inertia = kmeans.inertia_\n",
    "    inertias.append(inertia)\n",
    "        \n",
    "# Plot the elbow curve\n",
    "plt.figure(figsize=(8, 5))\n",
    "plt.plot(n_cluster_values, inertias, marker='o', linestyle='--')\n",
    "plt.title('Elbow Method for Optimal k')\n",
    "plt.xlabel('Number of Clusters (n)')\n",
    "plt.ylabel('Inertia')\n",
    "plt.xticks(n_cluster_values)\n",
    "plt.grid()\n",
    "plt.show()"
   ]
  },
  {
   "cell_type": "code",
   "execution_count": null,
   "id": "52f5910d",
   "metadata": {
    "ExecuteTime": {
     "end_time": "2025-05-08T02:45:45.531323Z",
     "start_time": "2025-05-08T02:45:45.531323Z"
    }
   },
   "outputs": [],
   "source": [
    "print(f\"KMeans Clustering to predict Disease\")\n",
    "n_clusters = 3\n",
    "kmeans = KMeans(n_clusters=n_clusters)\n",
    "y_means = kmeans.fit_predict(X_cleaned_scaled)\n",
    "inertia = float(kmeans.inertia_)\n",
    "print(f\"Inertia (SSE) for KMeans: {inertia}\")\n",
    "silhouette_score_value = silhouette_score(X_cleaned_scaled, y_means)\n",
    "print(f\"Silhouette Score for KMeans: {silhouette_score_value}\")"
   ]
  },
  {
   "cell_type": "markdown",
   "id": "3781cd57",
   "metadata": {},
   "source": [
    "Will use Number of Clusters = 3 as identified above in Elbow method."
   ]
  },
  {
   "cell_type": "markdown",
   "id": "8eaa6a9a",
   "metadata": {},
   "source": [
    "<b>Question:</b> Finally, use two different clustering algorithms and see how well these attributes can determine the disease type.<p>\n",
    "\n",
    "<b>Answer:</b>The optimal number of clusters for the data's inherent structure is 5 rather than 6, indicating that the boundaries between the known disease categories might not be clearly defined or separated in the feature space from an unsupervised perspective. Clusters do exist, but they’re not well-defined, and probably don’t align well with disease labels. Also, the low Silhouette Score might indicate KMeans is not an appropriate clustering technique for this data."
   ]
  },
  {
   "cell_type": "markdown",
   "id": "1fc4fc5e",
   "metadata": {
    "ExecuteTime": {
     "end_time": "2025-05-07T04:51:06.828460Z",
     "start_time": "2025-05-07T04:51:06.815429Z"
    }
   },
   "source": [
    "## Problem 1.5 Analysis\n",
    "<b>Question:</b> Now, compare and contrast the five models you built. Having done both classification and clustering on the same dataset, what can you say about this data and/or the techniques you used? Write your thoughts in 2-3 paragraphs.<p>\n",
    "\n",
    "<b>Answer:</b>\n",
    "Having built and evaluated five different models on the dermatology dataset, a clear picture emerges regarding the data's structure and the suitability of various machine learning techniques for determining disease type. <p>\n",
    "<b>Model 1,</b> a Simple Linear Regression predicting disease type based solely on Age using Gradient Descent, demonstrated very poor performance with R-squared = 0.069: The model explains only 6.9% of the variance in the dependent variable (Disease). That’s extremely low—suggests a poor fit. This outcome was expected, as regression is fundamentally ill-suited for predicting discrete, categorical outcomes like disease types, and Age alone appears to have limited linear correlation with the specific disease categories.<p>\n",
    "<b>Model 2 and Model 3</b> perform much better because they are designed for this type of problem. Comparing the classification models, the Random Forest classifier (<b>Model 2</b>), trained on all clinical and histopathological attributes, achieved remarkably high accuracy (98%). Its confusion matrix revealed near-perfect classification for several disease types (Psoriasis, Lichen Planus, Cronic Dermatitis, Pityriasis Rubra Pilaris), with only minor confusion primarily between Seboreic Dermatitis and Pityriasis Rosea. The K-Nearest Neighbors classifier (<b>Model 3</b>), also using all attributes (scaled), achieved a lower accuracy (93% with k=2). Its confusion matrix showed more significant misclassifications and confusion across multiple classes, indicating that while the features contain predictive information, KNN's simple distance-based approach is less effective than Random Forest's ensemble of decision trees at capturing the potentially complex, non-linear boundaries between these disease types in the feature space.<p>\n",
    "<b>Model 4: Agglomerative, Model 5: K-Means</b> explored the inherent grouping within the data in an unsupervised manner. The Elbow method on inertia suggested around 3 clusters for both algorithms. While Agglomerative Clustering with the 'average' linkage achieved the highest Silhouette Score among tested linkages (~0.29), this score suggests only a weak clustering structure with some overlap between groups. The dendrogram of disease centroids provided a visual hierarchy of disease similarity based on average feature profiles, but the clustering did not perfectly align with the 6 known disease types. So I used a DecisionTree Classifier to determine feature importance and then plotted different sets of features to see which had the best Silhouette score; it ended up being 'Clubbing', 'Vacuolisation', 'Fibrosis', 'Koebner' so I used those in the target model which yielded a much better score of ~.49<p>\n",
    "With ~.46 Silhouette Score for <b>KMeans</b> using the top 4 features, clusters exist, they’re well-defined, and align well with disease labels. Like with Agglomerative, when using all the features, the Sillouhette score drops by about 50%.<p>\n",
    "The high performance of the supervised <b>Random Forest Model2, is the clear winner</b>. It demonstrates that these features do contain sufficient information to accurately distinguish the known disease types when guided by the actual labels during training."
   ]
  },
  {
   "cell_type": "markdown",
   "id": "96671fee",
   "metadata": {
    "ExecuteTime": {
     "end_time": "2025-05-07T05:42:51.613975Z",
     "start_time": "2025-05-07T05:42:51.606019Z"
    }
   },
   "source": [
    "# Problem 2 Hate Crimes\n",
    "Use this data to answer the following questions. Use appropriate machine learning techniques/algorithms."
   ]
  },
  {
   "cell_type": "code",
   "execution_count": null,
   "id": "48b644f6",
   "metadata": {
    "ExecuteTime": {
     "end_time": "2025-05-08T02:45:45.532323Z",
     "start_time": "2025-05-08T02:45:45.532323Z"
    }
   },
   "outputs": [],
   "source": [
    "df_crime = pd.read_csv('hatecrime.csv')\n",
    "print(df_crime.columns)\n",
    "display(df_crime.head(3))\n",
    "df_crime.info()"
   ]
  },
  {
   "cell_type": "code",
   "execution_count": null,
   "id": "931a9976",
   "metadata": {
    "ExecuteTime": {
     "end_time": "2025-05-08T02:45:45.532323Z",
     "start_time": "2025-05-08T02:45:45.532323Z"
    }
   },
   "outputs": [],
   "source": [
    "avg_splc = df_crime['hate_crimes_per_100k_splc'].mean()\n",
    "avg_fbi = df_crime['avg_hatecrimes_per_100k_fbi'].mean()\n",
    "print(avg_splc, avg_fbi)"
   ]
  },
  {
   "cell_type": "code",
   "execution_count": 16,
   "id": "a8fb625c",
   "metadata": {
    "ExecuteTime": {
     "end_time": "2025-05-13T15:19:18.065362Z",
     "start_time": "2025-05-13T15:19:18.024198Z"
    },
    "init_cell": true
   },
   "outputs": [
    {
     "ename": "NameError",
     "evalue": "name 'df_crime' is not defined",
     "output_type": "error",
     "traceback": [
      "\u001b[1;31m---------------------------------------------------------------------------\u001b[0m",
      "\u001b[1;31mNameError\u001b[0m                                 Traceback (most recent call last)",
      "Cell \u001b[1;32mIn[16], line 4\u001b[0m\n\u001b[0;32m      1\u001b[0m features_all \u001b[38;5;241m=\u001b[39m [\u001b[38;5;124m'\u001b[39m\u001b[38;5;124mmedian_household_income\u001b[39m\u001b[38;5;124m'\u001b[39m, \u001b[38;5;124m'\u001b[39m\u001b[38;5;124mshare_unemployed_seasonal\u001b[39m\u001b[38;5;124m'\u001b[39m, \u001b[38;5;124m'\u001b[39m\u001b[38;5;124mshare_population_in_metro_areas\u001b[39m\u001b[38;5;124m'\u001b[39m,\n\u001b[0;32m      2\u001b[0m                 \u001b[38;5;124m'\u001b[39m\u001b[38;5;124mshare_population_with_high_school_degree\u001b[39m\u001b[38;5;124m'\u001b[39m, \u001b[38;5;124m'\u001b[39m\u001b[38;5;124mshare_non_citizen\u001b[39m\u001b[38;5;124m'\u001b[39m, \u001b[38;5;124m'\u001b[39m\u001b[38;5;124mshare_white_poverty\u001b[39m\u001b[38;5;124m'\u001b[39m, \n\u001b[0;32m      3\u001b[0m                 \u001b[38;5;124m'\u001b[39m\u001b[38;5;124mgini_index\u001b[39m\u001b[38;5;124m'\u001b[39m, \u001b[38;5;124m'\u001b[39m\u001b[38;5;124mshare_non_white\u001b[39m\u001b[38;5;124m'\u001b[39m, \u001b[38;5;124m'\u001b[39m\u001b[38;5;124mshare_voters_voted_trump\u001b[39m\u001b[38;5;124m'\u001b[39m]\n\u001b[1;32m----> 4\u001b[0m df_crime[\u001b[38;5;124m'\u001b[39m\u001b[38;5;124mstate_hate_label\u001b[39m\u001b[38;5;124m'\u001b[39m] \u001b[38;5;241m=\u001b[39m \u001b[43mdf_crime\u001b[49m\u001b[38;5;241m.\u001b[39mapply(\n\u001b[0;32m      5\u001b[0m     \u001b[38;5;28;01mlambda\u001b[39;00m row: \u001b[38;5;124mf\u001b[39m\u001b[38;5;124m\"\u001b[39m\u001b[38;5;132;01m{\u001b[39;00mrow[\u001b[38;5;124m'\u001b[39m\u001b[38;5;124mstate\u001b[39m\u001b[38;5;124m'\u001b[39m]\u001b[38;5;132;01m}\u001b[39;00m\u001b[38;5;124m (splc: \u001b[39m\u001b[38;5;132;01m{\u001b[39;00mrow[\u001b[38;5;124m'\u001b[39m\u001b[38;5;124mhate_crimes_per_100k_splc\u001b[39m\u001b[38;5;124m'\u001b[39m]\u001b[38;5;132;01m:\u001b[39;00m\u001b[38;5;124m.2f\u001b[39m\u001b[38;5;132;01m}\u001b[39;00m\u001b[38;5;124m, fbi: \u001b[39m\u001b[38;5;132;01m{\u001b[39;00mrow[\u001b[38;5;124m'\u001b[39m\u001b[38;5;124mavg_hatecrimes_per_100k_fbi\u001b[39m\u001b[38;5;124m'\u001b[39m]\u001b[38;5;132;01m:\u001b[39;00m\u001b[38;5;124m.2f\u001b[39m\u001b[38;5;132;01m}\u001b[39;00m\u001b[38;5;124m)\u001b[39m\u001b[38;5;124m\"\u001b[39m,\n\u001b[0;32m      6\u001b[0m     axis\u001b[38;5;241m=\u001b[39m\u001b[38;5;241m1\u001b[39m\n\u001b[0;32m      7\u001b[0m )\n\u001b[0;32m      8\u001b[0m df_crime\u001b[38;5;241m.\u001b[39mhead(\u001b[38;5;241m4\u001b[39m)\n",
      "\u001b[1;31mNameError\u001b[0m: name 'df_crime' is not defined"
     ]
    }
   ],
   "source": [
    "features_all = ['median_household_income', 'share_unemployed_seasonal', 'share_population_in_metro_areas',\n",
    "                'share_population_with_high_school_degree', 'share_non_citizen', 'share_white_poverty', \n",
    "                'gini_index', 'share_non_white', 'share_voters_voted_trump']\n",
    "df_crime['state_hate_label'] = df_crime.apply(\n",
    "    lambda row: f\"{row['state']} (splc: {row['hate_crimes_per_100k_splc']:.2f}, fbi: {row['avg_hatecrimes_per_100k_fbi']:.2f})\",\n",
    "    axis=1\n",
    ")\n",
    "df_crime.head(4)"
   ]
  },
  {
   "cell_type": "markdown",
   "id": "df0b9b59",
   "metadata": {},
   "source": [
    "## Problem 2.1\n",
    "<b>Question:</b> How does income inequality relate to the number of hate crimes and hate incidents?<p>"
   ]
  },
  {
   "cell_type": "code",
   "execution_count": null,
   "id": "c29b1b9f",
   "metadata": {
    "ExecuteTime": {
     "end_time": "2025-05-08T02:45:45.534323Z",
     "start_time": "2025-05-08T02:45:45.534323Z"
    }
   },
   "outputs": [],
   "source": [
    "# Correlation between income inequality and hate crimes\n",
    "cor_gini_splc = df_crime['gini_index'].corr(df_crime['hate_crimes_per_100k_splc'])\n",
    "cor_gini_fbi = df_crime['gini_index'].corr(df_crime['avg_hatecrimes_per_100k_fbi'])\n",
    "\n",
    "print(f\"Gini vs SPLC: {cor_gini_splc:.3f}\")\n",
    "print(f\"Gini vs FBI: {cor_gini_fbi:.3f}\")"
   ]
  },
  {
   "cell_type": "code",
   "execution_count": null,
   "id": "cab6aa5f",
   "metadata": {
    "ExecuteTime": {
     "end_time": "2025-05-08T02:45:45.535323Z",
     "start_time": "2025-05-08T02:45:45.535323Z"
    }
   },
   "outputs": [],
   "source": [
    "# Heatmap of correlations\n",
    "plt.figure(figsize=(8, 5))\n",
    "corr_cols = ['gini_index', 'hate_crimes_per_100k_splc', 'avg_hatecrimes_per_100k_fbi']\n",
    "sns.heatmap(df_crime[corr_cols].corr(), annot=True, cmap='coolwarm', vmin=-1, vmax=1)\n",
    "plt.title('Correlation Matrix')\n",
    "plt.tight_layout()\n",
    "plt.show()"
   ]
  },
  {
   "cell_type": "markdown",
   "id": "395c1b1a",
   "metadata": {},
   "source": [
    "<b>Question:</b> How does income inequality relate to the number of hate crimes and hate incidents?<p>\n",
    "<b>Answer:</b><p>\n",
    "\"Gini\" refers to a the statistician Corrado Gini. In 1912 Gini came up with a number that represents how much inequality of income distribution exists in a given area.<p>\n",
    "Gini vs SPLC: 0.329 → Income inequality is moderately associated with reported hate crimes (SPLC data).<p>\n",
    "Gini vs FBI: 0.421 → The association is even stronger with official FBI reports.<p>\n",
    "\n",
    "As you can see from the heatmap, there is a moderate positive correlation between income inequality and hate crime rates. The Gini index correlates with SPLC-reported hate crimes at 0.329 and with FBI-reported rates at 0.421, suggesting that states with greater income inequality tend to report more hate crimes per 100,000 people.<p>"
   ]
  },
  {
   "cell_type": "markdown",
   "id": "0938f743",
   "metadata": {},
   "source": [
    "## Problem 2.2\n",
    "How can we predict the number of hate crimes and hate incidents from race/nature of the population?"
   ]
  },
  {
   "cell_type": "code",
   "execution_count": null,
   "id": "d2f2e5c8",
   "metadata": {
    "ExecuteTime": {
     "end_time": "2025-05-08T02:45:45.535323Z",
     "start_time": "2025-05-08T02:45:45.535323Z"
    }
   },
   "outputs": [],
   "source": [
    "df_crime_filtered = df_crime.dropna()\n",
    "X = df_crime_filtered[features_all]\n",
    "for predictor in ['avg_hatecrimes_per_100k_fbi', 'hate_crimes_per_100k_splc']:\n",
    "    print('-'*120)\n",
    "    y = df_crime_filtered[predictor]\n",
    "    X = sm.add_constant(X)\n",
    "    model = sm.OLS(y, X).fit()\n",
    "    print(model.summary())\n",
    "    print('')"
   ]
  },
  {
   "cell_type": "markdown",
   "id": "19e6cf72",
   "metadata": {},
   "source": [
    "<b>The model predicting SPLC</b> explains more variance with a higher R² and Adj. R². It has a better AIC and log-likelihood, showing a better fit despite the small sample size. `gini_index` and `share_voters_voted_trump` are significant in this model.<p>\n",
    "<b>The model predicting FBI</b> only gini_index is clearly significant and it's R² scores are worse than the SPLC model.<p>\n",
    "Since several features are not siginficant (P<.05), I will remove them and run the SPLC model again."
   ]
  },
  {
   "cell_type": "code",
   "execution_count": null,
   "id": "3d3adfef",
   "metadata": {
    "ExecuteTime": {
     "end_time": "2025-05-08T02:45:45.536323Z",
     "start_time": "2025-05-08T02:45:45.536323Z"
    }
   },
   "outputs": [],
   "source": [
    "features_best = ['gini_index', 'share_voters_voted_trump']\n",
    "X = df_crime_filtered[features_best]\n",
    "y = df_crime_filtered['hate_crimes_per_100k_splc']\n",
    "X = sm.add_constant(X)\n",
    "model = sm.OLS(y, X).fit()\n",
    "print(model.summary())"
   ]
  },
  {
   "cell_type": "markdown",
   "id": "3594075c",
   "metadata": {
    "ExecuteTime": {
     "end_time": "2025-05-07T22:21:40.136127Z",
     "start_time": "2025-05-07T22:21:40.070731Z"
    }
   },
   "source": [
    "<b>Question:</b> How can we predict the number of hate crimes and hate incidents from race/nature of the population?<p>\n",
    "<b>Answer:</b> To predict the continuous value of hate crimes per capita, several regression models were tested and evaluated using the R-squared metric.<p>\n",
    "\n",
    "Initial attempts with a K-Nearest Neighbors (KNN) Regressor and a Random Forest Regressor yielded low R-squared values (approximately 0.09 and 0.12, respectively, for the better-performing SPLC data), indicating poor predictive power. A Random Forest model predicting the FBI data even resulted in a negative R-squared (~-0.10), performing worse than simply predicting the mean.<p>\n",
    "\n",
    "Ordinary Least Squares (OLS) regression showed significantly better results. Predicting avg_hatecrimes_per_100k_fbi with OLS gave an R-squared of approximately 0.56. The performance improved when predicting hate_crimes_per_100k_splc with OLS, achieving an R-squared of approximately 0.60.<p>\n",
    "\n",
    "An attempt to simplify the OLS model by removing non-statistically significant features (based on P-values) resulted in a reduced R-squared of approximately 0.44, demonstrating that including all features provided a better fit in this case.<p>\n",
    "\n",
    "Therefore, the Ordinary Least Squares (OLS) model, utilizing all features to predict hate_crimes_per_100k_splc, was identified as the best-performing model among those evaluated, with an R-squared of approximately 0.60.<p>"
   ]
  },
  {
   "cell_type": "markdown",
   "id": "d5093d0f",
   "metadata": {},
   "source": [
    "## Problem 2.3\n",
    "How does the number of hate crimes vary across states? Is there any similarity in number of hate incidents (per 100,000 people) between some states than in others — both according to the SPLC after the election and the FBI before it?"
   ]
  },
  {
   "cell_type": "code",
   "execution_count": null,
   "id": "b78df8c5",
   "metadata": {
    "ExecuteTime": {
     "end_time": "2025-05-08T02:45:45.536323Z",
     "start_time": "2025-05-08T02:45:45.536323Z"
    }
   },
   "outputs": [],
   "source": [
    "# Cluster into a Dendogram and then Scatter plot to see if we can detect any patterns\n",
    "\n",
    "X_cluster = df_crime_filtered[features_all]\n",
    "state_labels = df_crime_filtered['state_hate_label']\n",
    "# Standardize the features used for clustering\n",
    "scaler = StandardScaler()\n",
    "X_scaled = scaler.fit_transform(X_cluster)\n",
    "\n",
    "# --- Plot the Dendrogram and Capture Color Information ---\n",
    "linked = sch.linkage(X_scaled, method='ward')\n",
    "# Using a color_threshold here can help define 'clusters' in the dendrogram colors\n",
    "color_threshold = 6\n",
    "\n",
    "plt.figure(figsize=(12, 6))\n",
    "dendro_info = sch.dendrogram(linked, labels=state_labels.values, leaf_rotation=90, leaf_font_size=10,\n",
    "                             color_threshold=color_threshold, # Color branches below this height\n",
    "                             above_threshold_color='k') # Color branches above threshold black\n",
    "plt.title('Dendrogram (Ward Linkage)')\n",
    "plt.xlabel('State')\n",
    "plt.ylabel('Euclidean Distance')\n",
    "plt.grid(False)\n",
    "plt.tight_layout()\n",
    "plt.show()\n",
    "scatter_colors = np.full(len(df_crime_filtered), 'gray', dtype=object)\n",
    "leaf_order = dendro_info['leaves'] # Original indices in dendrogram order\n",
    "leaf_colors = dendro_info['leaves_color_list'] # Colors in dendrogram order\n",
    "# Iterate through the leaf order and assign the corresponding color to the original index\n",
    "for i in range(len(leaf_order)):\n",
    "    original_index = leaf_order[i]\n",
    "    color_for_leaf = leaf_colors[i]\n",
    "    scatter_colors[original_index] = color_for_leaf\n",
    "# --- Plot the Scatter Plot using Dendrogram Colors ---\n",
    "X_scatter = df_crime_filtered['hate_crimes_per_100k_splc']\n",
    "y_scatter = df_crime_filtered['avg_hatecrimes_per_100k_fbi']\n",
    "plt.figure(figsize=(12, 8))\n",
    "# Use the scatter_colors array for coloring\n",
    "scatter = plt.scatter(X_scatter, y_scatter, c=scatter_colors, s=100, alpha=0.7) # No cmap needed, colors are strings\n",
    "# Add state labels to each point\n",
    "df_states_aligned = df_crime_filtered['state']\n",
    "for i, state in enumerate(df_states_aligned):\n",
    "    plt.text(X_scatter.iloc[i], y_scatter.iloc[i], state, fontsize=8, ha='right', va='bottom')\n",
    "plt.xlabel('Hate Crimes per 100K Nov 2016 SPLC')\n",
    "plt.ylabel('Hate Crimes per 100K pre-2016 FBI')\n",
    "plt.title('Scatter Plot of Hate Crimes Colored by Dendrogram Leaf Colors')\n",
    "plt.grid(True, linestyle='--', alpha=0.6)\n",
    "plt.tight_layout()\n",
    "plt.show()"
   ]
  },
  {
   "cell_type": "code",
   "execution_count": null,
   "id": "05bb9556",
   "metadata": {
    "ExecuteTime": {
     "end_time": "2025-05-08T02:45:45.537322Z",
     "start_time": "2025-05-08T02:45:45.537322Z"
    }
   },
   "outputs": [],
   "source": [
    "df_crime['splc_scaled_to_annual'] = df_crime['hate_crimes_per_100k_splc'] * (365 / 9)\n",
    "df_crime['diff_splc_fbi'] = df_crime['splc_scaled_to_annual'] - df_crime['avg_hatecrimes_per_100k_fbi']\n",
    "df_increase = df_crime.sort_values(by='diff_splc_fbi', ascending=False)[['state', 'diff_splc_fbi', 'splc_scaled_to_annual','avg_hatecrimes_per_100k_fbi', 'hate_crimes_per_100k_splc']]\n",
    "display(df_increase.head(3))"
   ]
  },
  {
   "cell_type": "code",
   "execution_count": null,
   "id": "c349f8c7",
   "metadata": {
    "ExecuteTime": {
     "end_time": "2025-05-08T02:45:45.538322Z",
     "start_time": "2025-05-08T02:45:45.538322Z"
    }
   },
   "outputs": [],
   "source": [
    "features_all = ['median_household_income', 'share_unemployed_seasonal',\n",
    "       'share_population_in_metro_areas',\n",
    "       'share_population_with_high_school_degree', 'share_non_citizen',\n",
    "       'share_white_poverty', 'gini_index', 'share_non_white',\n",
    "       'share_voters_voted_trump']\n",
    "X_scatter = df_crime_filtered['share_non_white']\n",
    "y_scatter = df_crime_filtered['avg_hatecrimes_per_100k_fbi']\n",
    "y_scatter = df_crime_filtered['hate_crimes_per_100k_splc']\n",
    "plt.figure(figsize=(12, 8))\n",
    "# Use the scatter_colors array for coloring\n",
    "scatter = plt.scatter(X_scatter, y_scatter, c=scatter_colors, s=100, alpha=0.7) # No cmap needed, colors are strings\n",
    "# Add state labels to each point\n",
    "df_states_aligned = df_crime_filtered['state']\n",
    "for i, state in enumerate(df_states_aligned):\n",
    "    plt.text(X_scatter.iloc[i], y_scatter.iloc[i], state, fontsize=8, ha='right', va='bottom')\n",
    "plt.xlabel('gini_index')\n",
    "plt.ylabel('Hate Crimes per 100K pre-2016 FBI')\n",
    "plt.title('Scatter Plot of Hate Crimes Colored by Dendrogram Leaf Colors')\n",
    "plt.grid(True, linestyle='--', alpha=0.6)\n",
    "plt.tight_layout()\n",
    "plt.show()"
   ]
  },
  {
   "cell_type": "code",
   "execution_count": null,
   "id": "f4f589f1",
   "metadata": {
    "ExecuteTime": {
     "end_time": "2025-05-08T02:45:45.539322Z",
     "start_time": "2025-05-08T02:45:45.539322Z"
    }
   },
   "outputs": [],
   "source": [
    "y_variable = 'avg_hatecrimes_per_100k_fbi'\n",
    "y_variable = 'hate_crimes_per_100k_splc'\n",
    "# Determine grid dimensions\n",
    "n_features = len(features_all)\n",
    "n_cols = 3 # Or choose a suitable number of columns\n",
    "n_rows = (n_features + n_cols - 1) // n_cols # Calculate necessary rows\n",
    "\n",
    "fig, axes = plt.subplots(n_rows, n_cols, figsize=(15, n_rows * 5))\n",
    "axes = axes.flatten() # Flatten the 2D array of axes for easy iteration\n",
    "\n",
    "# Ensure there are enough axes in case n_features is not a perfect multiple of n_cols\n",
    "for i in range(n_features, len(axes)):\n",
    "    fig.delaxes(axes[i])\n",
    "\n",
    "for i, feature in enumerate(features_all):\n",
    "    ax = axes[i]\n",
    "    # Create the scatter plot\n",
    "    ax.scatter(df_crime_filtered[feature], df_crime_filtered[y_variable], c=scatter_colors, s=100, alpha=0.7)\n",
    "    # Set titles and labels\n",
    "    ax.set_xlabel(feature)\n",
    "    ax.set_ylabel(y_variable)\n",
    "    ax.set_title(f'{feature} vs. {y_variable}')\n",
    "    ax.grid(True, linestyle='--', alpha=0.6)\n",
    "\n",
    "plt.tight_layout()\n",
    "plt.show()"
   ]
  },
  {
   "cell_type": "code",
   "execution_count": null,
   "id": "87da0d04",
   "metadata": {
    "ExecuteTime": {
     "end_time": "2025-05-08T02:45:45.540322Z",
     "start_time": "2025-05-08T02:45:45.540322Z"
    }
   },
   "outputs": [],
   "source": [
    "# Now run custom Gradient Descent Formula\n",
    "# Prepare the data\n",
    "X = df_crime_filtered['share_non_white'].values.reshape(-1, 1)\n",
    "y = df_crime_filtered['hate_crimes_per_100k_splc'].values.reshape(-1, 1)\n",
    "m = len(y)\n",
    "\n",
    "# Standardize X and y\n",
    "X_mean, X_std = X.mean(), X.std()\n",
    "y_mean, y_std = y.mean(), y.std()\n",
    "X_scaled = (X - X_mean) / X_std\n",
    "y_scaled = (y - y_mean) / y_std\n",
    "\n",
    "# Add bias column\n",
    "X_b = np.c_[np.ones((m, 1)), X_scaled]\n",
    "\n",
    "# Initialize theta\n",
    "theta = np.zeros((2, 1))\n",
    "\n",
    "# Set hyperparameters\n",
    "learning_rate = 0.1\n",
    "n_iterations = 100\n",
    "\n",
    "# Train using gradient descent\n",
    "theta_final, cost_history, theta_history = gradient_descent(X_b, y_scaled, theta, learning_rate, n_iterations)\n",
    "\n",
    "# Recover coefficients in original scale\n",
    "slope = (y_std / X_std) * theta_final[1, 0]\n",
    "intercept = y_mean - slope * X_mean\n",
    "\n",
    "# Print results\n",
    "print(\"Gradient Descent Model Coefficients (original units):\")\n",
    "print(f\"Intercept  : {intercept:.4f}\")\n",
    "print(f\"Slope (Age): {slope:.4f}\")\n",
    "print(f\"Final MSE  : {cost_history[-1]:0.3f}\")"
   ]
  },
  {
   "cell_type": "markdown",
   "id": "5ee4a107",
   "metadata": {},
   "source": [
    "<b>Question:</b> How does the number of hate crimes vary across states? Is there any similarity in number of hate incidents (per 100,000 people) between some states than in others — both according to the SPLC after the election and the FBI before it?<p>\n",
    "<b>Answer:</b> Since the goal is to predict a continous value, ie hate crimes per capita, I tried several different \n",
    "    \n",
    "    \n",
    "    States with Higher Rates: The District of Columbia stands out as having the highest rate in both the SPLC post-election incidents (1.52) and the average FBI hate crimes (10.95). States like Massachusetts and Washington also appear in the upper ranks of both lists, suggesting a tendency for higher reported rates of bias-motivated incidents and crimes in these states across different periods and reporting methodologies. Oregon and Minnesota show high rates in the SPLC data and are in the upper-middle tier of the FBI data provided.\n",
    "States with Lower Rates: States like Arkansas appear towards the bottom of both the SPLC incident list (0.069) and the provided FBI hate crime list (0.087), indicating consistently lower reported numbers in both datasets. Iowa also appears in the lower portion of both lists.\n",
    "Notable Differences: There are some notable differences in ranking. For instance, New Jersey has a relatively high average FBI hate crime rate (4.41) but a much lower SPLC incident rate (0.078) in the provided post-election data. Conversely, states like Oregon and Minnesota are quite high in the SPLC post-election list but are not at the very top of the average FBI list, although still in the upper half of the provided FBI data. Pennsylvania and Georgia are among the lowest in the FBI data but appear slightly higher in the SPLC list (though still in the lower half)."
   ]
  }
 ],
 "metadata": {
  "celltoolbar": "Initialization Cell",
  "kernelspec": {
   "display_name": "py39",
   "language": "python",
   "name": "py39"
  },
  "language_info": {
   "codemirror_mode": {
    "name": "ipython",
    "version": 3
   },
   "file_extension": ".py",
   "mimetype": "text/x-python",
   "name": "python",
   "nbconvert_exporter": "python",
   "pygments_lexer": "ipython3",
   "version": "3.9.13"
  }
 },
 "nbformat": 4,
 "nbformat_minor": 5
}

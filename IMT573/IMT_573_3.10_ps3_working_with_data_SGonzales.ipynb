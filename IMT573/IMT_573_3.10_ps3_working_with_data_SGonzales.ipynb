{
 "cells": [
  {
   "cell_type": "markdown",
   "id": "1461b6bb",
   "metadata": {},
   "source": [
    "# IMT 573 - Problem Set 3 - Working With Data Part 1"
   ]
  },
  {
   "cell_type": "markdown",
   "id": "1cf60757",
   "metadata": {},
   "source": [
    "### Instructions\n",
    "\n",
    "Before beginning this assignment, please ensure you have access to a working instance of Jupyter Notebooks with Python 3.\n",
    "\n",
    "1. First, replace the “YOUR NAME HERE” text in the next cell with your own full name. Any collaborators must also be listed in this cell.\n",
    "\n",
    "2. Be sure to include well-documented (e.g. commented) code cells, figures, and clearly written text  explanations as necessary. Any figures should be clearly labeled and appropriately referenced within the text. Be sure that each visualization adds value to your written explanation; avoid redundancy – you do no need four different visualizations of the same pattern.\n",
    "\n",
    "3. Collaboration on problem sets and labs is fun, useful, and encouraged. However, each student must turn in an individual write-up in their own words as well as code/work that is their own. Regardless of whether you work with others, what you turn in must be your own work; this includes code and interpretation of results. The names of all collaborators must be listed on each assignment. Do not copy-and-paste from other students’ responses or code - your code should never be on any other student's screen or machine.\n",
    "\n",
    "4. All materials and resources that you use (with the exception of lecture slides) must be appropriately referenced within your assignment.\n",
    "\n",
    "5. Partial credit will be awarded for each question for which a serious attempt at finding an answer has been shown. Students are *strongly* encouraged to attempt each question and document their reasoning process even if they cannot find the correct answer. \n",
    "\n",
    "6. After completing the assignment, ensure that your code can run from start to finish without issue. Restart the kernal and run all cells to double check."
   ]
  },
  {
   "cell_type": "markdown",
   "id": "aadc8a3b",
   "metadata": {},
   "source": [
    "Name: Steve Gonzales\n",
    "\n",
    "Collaborators: None"
   ]
  },
  {
   "cell_type": "markdown",
   "id": "96d9bc8b",
   "metadata": {},
   "source": [
    "For this assignment, you'll need (at least) the following packages. If the package does not load, be sure it is properly installed."
   ]
  },
  {
   "cell_type": "code",
   "execution_count": 1,
   "id": "03fe97f9",
   "metadata": {
    "ExecuteTime": {
     "end_time": "2025-02-02T06:12:35.383322Z",
     "start_time": "2025-02-02T06:12:28.926889Z"
    },
    "init_cell": true
   },
   "outputs": [],
   "source": [
    "import pandas as pd\n",
    "import seaborn as sns\n",
    "import matplotlib.pyplot as plt"
   ]
  },
  {
   "cell_type": "markdown",
   "id": "cfa605ee",
   "metadata": {},
   "source": [
    "In this problem set, we will continue to use data on animals at shelters in the city of [Long Beach, California](https://en.wikipedia.org/wiki/Long_Beach,\\_California) that we used in the previous problem set. The data can be found in the `animal_intakes_and_outcomes.csv` file. You can find more information on this data [here](https://web.archive.org/web/20230929001208/https://data.longbeach.gov/explore/dataset/animal-shelter-intakes-and-outcomes/information/?disjunctive.animal_type&disjunctive.primary_color&disjunctive.sex&disjunctive.intake_cond&disjunctive.intake_type&disjunctive.reason&disjunctive.outcome_type&disjunctive.outcome_subtype&disjunctive.intake_is_dead&disjunctive.outcome_is_dead)."
   ]
  },
  {
   "cell_type": "markdown",
   "id": "10f86163",
   "metadata": {},
   "source": [
    "### Problem 1: Describing the animal shelter data \n",
    "\n",
    "Load the animal sheter data in and ensure you know the variables in the data. Keep the documentation of the dataset [nearby](https://web.archive.org/web/20230929001208/https://data.longbeach.gov/explore/dataset/animal-shelter-intakes-and-outcomes/information/?disjunctive.animal_type&disjunctive.primary_color&disjunctive.sex&disjunctive.intake_cond&disjunctive.intake_type&disjunctive.reason&disjunctive.outcome_type&disjunctive.outcome_subtype&disjunctive.intake_is_dead&disjunctive.outcome_is_dead)."
   ]
  },
  {
   "cell_type": "code",
   "execution_count": 94,
   "id": "f44103ca",
   "metadata": {
    "ExecuteTime": {
     "end_time": "2025-01-27T05:33:23.881131Z",
     "start_time": "2025-01-27T05:33:23.692697Z"
    }
   },
   "outputs": [
    {
     "data": {
      "text/html": [
       "<div>\n",
       "<style scoped>\n",
       "    .dataframe tbody tr th:only-of-type {\n",
       "        vertical-align: middle;\n",
       "    }\n",
       "\n",
       "    .dataframe tbody tr th {\n",
       "        vertical-align: top;\n",
       "    }\n",
       "\n",
       "    .dataframe thead th {\n",
       "        text-align: right;\n",
       "    }\n",
       "</style>\n",
       "<table border=\"1\" class=\"dataframe\">\n",
       "  <thead>\n",
       "    <tr style=\"text-align: right;\">\n",
       "      <th></th>\n",
       "      <th>Animal ID</th>\n",
       "      <th>Animal Name</th>\n",
       "      <th>Animal Type</th>\n",
       "      <th>Primary Color</th>\n",
       "      <th>Secondary Color</th>\n",
       "      <th>Sex</th>\n",
       "      <th>DOB</th>\n",
       "      <th>Age</th>\n",
       "      <th>Intake Date</th>\n",
       "      <th>Intake Condition</th>\n",
       "      <th>...</th>\n",
       "      <th>Intake Subtype</th>\n",
       "      <th>Reason for Intake</th>\n",
       "      <th>Outcome Date</th>\n",
       "      <th>Crossing</th>\n",
       "      <th>Jurisdiction</th>\n",
       "      <th>Outcome Type</th>\n",
       "      <th>Outcome Subtype</th>\n",
       "      <th>intake_is_dead</th>\n",
       "      <th>outcome_is_dead</th>\n",
       "      <th>was_outcome_alive</th>\n",
       "    </tr>\n",
       "  </thead>\n",
       "  <tbody>\n",
       "    <tr>\n",
       "      <th>0</th>\n",
       "      <td>A002500</td>\n",
       "      <td>PENELOPE</td>\n",
       "      <td>DOG</td>\n",
       "      <td>WHITE</td>\n",
       "      <td>NaN</td>\n",
       "      <td>Spayed</td>\n",
       "      <td>2008-12-09</td>\n",
       "      <td>14.0</td>\n",
       "      <td>2017-07-02</td>\n",
       "      <td>NORMAL</td>\n",
       "      <td>...</td>\n",
       "      <td>POLICE</td>\n",
       "      <td>NaN</td>\n",
       "      <td>2017-07-03</td>\n",
       "      <td>4600 E OCEAN BLVD, LONG BEACH, CA 90803</td>\n",
       "      <td>LONG BEACH</td>\n",
       "      <td>RETURN TO OWNER</td>\n",
       "      <td>FRE RID HM</td>\n",
       "      <td>Alive on Intake</td>\n",
       "      <td>False</td>\n",
       "      <td>1</td>\n",
       "    </tr>\n",
       "    <tr>\n",
       "      <th>1</th>\n",
       "      <td>A226033</td>\n",
       "      <td>SNOOPY</td>\n",
       "      <td>DOG</td>\n",
       "      <td>WHITE</td>\n",
       "      <td>NaN</td>\n",
       "      <td>Neutered</td>\n",
       "      <td>2002-02-23</td>\n",
       "      <td>21.0</td>\n",
       "      <td>2017-10-08</td>\n",
       "      <td>NORMAL</td>\n",
       "      <td>...</td>\n",
       "      <td>OTC</td>\n",
       "      <td>NaN</td>\n",
       "      <td>2017-10-08</td>\n",
       "      <td>13200 BLK ACORO PL, CERRITOS, CA 90703</td>\n",
       "      <td>CERRITOS</td>\n",
       "      <td>RETURN TO OWNER</td>\n",
       "      <td>FRE RID HM</td>\n",
       "      <td>Alive on Intake</td>\n",
       "      <td>False</td>\n",
       "      <td>1</td>\n",
       "    </tr>\n",
       "    <tr>\n",
       "      <th>2</th>\n",
       "      <td>A234250</td>\n",
       "      <td>NINA</td>\n",
       "      <td>DOG</td>\n",
       "      <td>BR BRINDLE</td>\n",
       "      <td>NaN</td>\n",
       "      <td>Spayed</td>\n",
       "      <td>2008-08-01</td>\n",
       "      <td>15.0</td>\n",
       "      <td>2018-06-01</td>\n",
       "      <td>ILL SEVERE</td>\n",
       "      <td>...</td>\n",
       "      <td>CRUELTY</td>\n",
       "      <td>NaN</td>\n",
       "      <td>2018-06-07</td>\n",
       "      <td>1900 W BURNETT ST, LONG BEACH, CA 90810</td>\n",
       "      <td>LONG BEACH</td>\n",
       "      <td>EUTHANASIA</td>\n",
       "      <td>ILL SEVERE</td>\n",
       "      <td>Alive on Intake</td>\n",
       "      <td>True</td>\n",
       "      <td>0</td>\n",
       "    </tr>\n",
       "    <tr>\n",
       "      <th>3</th>\n",
       "      <td>A238953</td>\n",
       "      <td>CECE</td>\n",
       "      <td>DOG</td>\n",
       "      <td>BUFF</td>\n",
       "      <td>NaN</td>\n",
       "      <td>Female</td>\n",
       "      <td>2013-07-17</td>\n",
       "      <td>10.0</td>\n",
       "      <td>2017-01-03</td>\n",
       "      <td>NORMAL</td>\n",
       "      <td>...</td>\n",
       "      <td>FIELD</td>\n",
       "      <td>NaN</td>\n",
       "      <td>2017-01-03</td>\n",
       "      <td>400 E HULLET ST, LONG BEACH, CA 90805</td>\n",
       "      <td>LONG BEACH</td>\n",
       "      <td>RETURN TO OWNER</td>\n",
       "      <td>FRE RID HM</td>\n",
       "      <td>Alive on Intake</td>\n",
       "      <td>False</td>\n",
       "      <td>1</td>\n",
       "    </tr>\n",
       "    <tr>\n",
       "      <th>4</th>\n",
       "      <td>A242600</td>\n",
       "      <td>BARBY</td>\n",
       "      <td>DOG</td>\n",
       "      <td>BLACK</td>\n",
       "      <td>NaN</td>\n",
       "      <td>Spayed</td>\n",
       "      <td>2007-10-27</td>\n",
       "      <td>15.0</td>\n",
       "      <td>2020-11-18</td>\n",
       "      <td>NORMAL</td>\n",
       "      <td>...</td>\n",
       "      <td>OTC</td>\n",
       "      <td>NaN</td>\n",
       "      <td>2020-11-19</td>\n",
       "      <td>2000 BLK W COWLES ST, LONG BEACH, CA 90813</td>\n",
       "      <td>LONG BEACH</td>\n",
       "      <td>RESCUE</td>\n",
       "      <td>LIVELOVE</td>\n",
       "      <td>Alive on Intake</td>\n",
       "      <td>False</td>\n",
       "      <td>1</td>\n",
       "    </tr>\n",
       "  </tbody>\n",
       "</table>\n",
       "<p>5 rows × 21 columns</p>\n",
       "</div>"
      ],
      "text/plain": [
       "  Animal ID Animal Name Animal Type Primary Color Secondary Color       Sex  \\\n",
       "0   A002500    PENELOPE         DOG         WHITE             NaN    Spayed   \n",
       "1   A226033      SNOOPY         DOG         WHITE             NaN  Neutered   \n",
       "2   A234250        NINA         DOG    BR BRINDLE             NaN    Spayed   \n",
       "3   A238953        CECE         DOG          BUFF             NaN    Female   \n",
       "4   A242600       BARBY         DOG         BLACK             NaN    Spayed   \n",
       "\n",
       "          DOB   Age Intake Date Intake Condition  ... Intake Subtype  \\\n",
       "0  2008-12-09  14.0  2017-07-02           NORMAL  ...         POLICE   \n",
       "1  2002-02-23  21.0  2017-10-08           NORMAL  ...            OTC   \n",
       "2  2008-08-01  15.0  2018-06-01       ILL SEVERE  ...        CRUELTY   \n",
       "3  2013-07-17  10.0  2017-01-03           NORMAL  ...          FIELD   \n",
       "4  2007-10-27  15.0  2020-11-18           NORMAL  ...            OTC   \n",
       "\n",
       "  Reason for Intake Outcome Date                                    Crossing  \\\n",
       "0               NaN   2017-07-03     4600 E OCEAN BLVD, LONG BEACH, CA 90803   \n",
       "1               NaN   2017-10-08      13200 BLK ACORO PL, CERRITOS, CA 90703   \n",
       "2               NaN   2018-06-07     1900 W BURNETT ST, LONG BEACH, CA 90810   \n",
       "3               NaN   2017-01-03       400 E HULLET ST, LONG BEACH, CA 90805   \n",
       "4               NaN   2020-11-19  2000 BLK W COWLES ST, LONG BEACH, CA 90813   \n",
       "\n",
       "  Jurisdiction     Outcome Type Outcome Subtype   intake_is_dead  \\\n",
       "0   LONG BEACH  RETURN TO OWNER      FRE RID HM  Alive on Intake   \n",
       "1     CERRITOS  RETURN TO OWNER      FRE RID HM  Alive on Intake   \n",
       "2   LONG BEACH       EUTHANASIA      ILL SEVERE  Alive on Intake   \n",
       "3   LONG BEACH  RETURN TO OWNER      FRE RID HM  Alive on Intake   \n",
       "4   LONG BEACH           RESCUE        LIVELOVE  Alive on Intake   \n",
       "\n",
       "  outcome_is_dead  was_outcome_alive  \n",
       "0           False                  1  \n",
       "1           False                  1  \n",
       "2            True                  0  \n",
       "3           False                  1  \n",
       "4           False                  1  \n",
       "\n",
       "[5 rows x 21 columns]"
      ]
     },
     "execution_count": 94,
     "metadata": {},
     "output_type": "execute_result"
    }
   ],
   "source": [
    "df = pd.read_csv('animal-shelter-intakes-and-outcomes.csv')\n",
    "df.head()"
   ]
  },
  {
   "cell_type": "markdown",
   "id": "e077d70c",
   "metadata": {},
   "source": [
    "#### (a) Describe and summarize\n",
    "\n",
    "Answer the following questions to describe and summarize the data:\n",
    "\n",
    "- How many records are in the data?\n",
    "- How many unique animals are in the data?\n",
    "- How many types of animals are included in the data? What types are these?\n",
    "- Across how many years does the data span? What are the years?\n",
    "- How many primarily black cats less than 3 years of age were found in Los Alamitos?\n",
    "- What is the most common primary/secondary color combination in the data (consider only when both colors are listed)?"
   ]
  },
  {
   "cell_type": "code",
   "execution_count": 95,
   "id": "7551a2a2",
   "metadata": {
    "ExecuteTime": {
     "end_time": "2025-01-27T05:33:23.900971Z",
     "start_time": "2025-01-27T05:33:23.882151Z"
    }
   },
   "outputs": [],
   "source": [
    "# Need to convert the dates to datetime.datetime\n",
    "df['intake_date'] = pd.to_datetime(df['Intake Date'], errors='coerce')\n",
    "df['outcome_date'] = pd.to_datetime(df['Outcome Date'], errors='coerce')"
   ]
  },
  {
   "cell_type": "code",
   "execution_count": 96,
   "id": "5a3f4195",
   "metadata": {
    "ExecuteTime": {
     "end_time": "2025-01-27T05:33:23.938173Z",
     "start_time": "2025-01-27T05:33:23.903979Z"
    }
   },
   "outputs": [
    {
     "data": {
      "text/html": [
       "<div>\n",
       "<style scoped>\n",
       "    .dataframe tbody tr th:only-of-type {\n",
       "        vertical-align: middle;\n",
       "    }\n",
       "\n",
       "    .dataframe tbody tr th {\n",
       "        vertical-align: top;\n",
       "    }\n",
       "\n",
       "    .dataframe thead th {\n",
       "        text-align: right;\n",
       "    }\n",
       "</style>\n",
       "<table border=\"1\" class=\"dataframe\">\n",
       "  <thead>\n",
       "    <tr style=\"text-align: right;\">\n",
       "      <th></th>\n",
       "      <th>Animal ID</th>\n",
       "      <th>Animal Name</th>\n",
       "      <th>Animal Type</th>\n",
       "      <th>Primary Color</th>\n",
       "      <th>Secondary Color</th>\n",
       "      <th>Sex</th>\n",
       "      <th>DOB</th>\n",
       "      <th>Age</th>\n",
       "      <th>Intake Date</th>\n",
       "      <th>Intake Condition</th>\n",
       "      <th>...</th>\n",
       "      <th>Outcome Date</th>\n",
       "      <th>Crossing</th>\n",
       "      <th>Jurisdiction</th>\n",
       "      <th>Outcome Type</th>\n",
       "      <th>Outcome Subtype</th>\n",
       "      <th>intake_is_dead</th>\n",
       "      <th>outcome_is_dead</th>\n",
       "      <th>was_outcome_alive</th>\n",
       "      <th>intake_date</th>\n",
       "      <th>outcome_date</th>\n",
       "    </tr>\n",
       "  </thead>\n",
       "  <tbody>\n",
       "    <tr>\n",
       "      <th>39881</th>\n",
       "      <td>A707543</td>\n",
       "      <td>GEORGIE (PUP4)</td>\n",
       "      <td>DOG</td>\n",
       "      <td>TAN</td>\n",
       "      <td>NaN</td>\n",
       "      <td>Male</td>\n",
       "      <td>2023-08-10</td>\n",
       "      <td>0.0</td>\n",
       "      <td>2023-09-24</td>\n",
       "      <td>UNDER AGE/WEIGHT</td>\n",
       "      <td>...</td>\n",
       "      <td>NaN</td>\n",
       "      <td>NaN</td>\n",
       "      <td>LONG BEACH</td>\n",
       "      <td>NaN</td>\n",
       "      <td>NaN</td>\n",
       "      <td>Alive on Intake</td>\n",
       "      <td>False</td>\n",
       "      <td>1</td>\n",
       "      <td>2023-09-24</td>\n",
       "      <td>NaT</td>\n",
       "    </tr>\n",
       "    <tr>\n",
       "      <th>39882</th>\n",
       "      <td>A707556</td>\n",
       "      <td>*VENTI</td>\n",
       "      <td>CAT</td>\n",
       "      <td>GRAY TABBY</td>\n",
       "      <td>NaN</td>\n",
       "      <td>Male</td>\n",
       "      <td>2023-07-31</td>\n",
       "      <td>0.0</td>\n",
       "      <td>2023-09-24</td>\n",
       "      <td>UNDER AGE/WEIGHT</td>\n",
       "      <td>...</td>\n",
       "      <td>NaN</td>\n",
       "      <td>900 BLK E SPRING STREET SIGNAL HILL CA 90755</td>\n",
       "      <td>SIGNAL HILL</td>\n",
       "      <td>NaN</td>\n",
       "      <td>NaN</td>\n",
       "      <td>Alive on Intake</td>\n",
       "      <td>False</td>\n",
       "      <td>1</td>\n",
       "      <td>2023-09-24</td>\n",
       "      <td>NaT</td>\n",
       "    </tr>\n",
       "    <tr>\n",
       "      <th>39883</th>\n",
       "      <td>A707578</td>\n",
       "      <td>*SNOW</td>\n",
       "      <td>CAT</td>\n",
       "      <td>WHITE</td>\n",
       "      <td>NaN</td>\n",
       "      <td>Female</td>\n",
       "      <td>2023-08-13</td>\n",
       "      <td>0.0</td>\n",
       "      <td>2023-09-24</td>\n",
       "      <td>UNDER AGE/WEIGHT</td>\n",
       "      <td>...</td>\n",
       "      <td>NaN</td>\n",
       "      <td>100 BLK MIRA MAR AVE LONG BEACH CA 90803</td>\n",
       "      <td>LONG BEACH</td>\n",
       "      <td>NaN</td>\n",
       "      <td>NaN</td>\n",
       "      <td>Alive on Intake</td>\n",
       "      <td>False</td>\n",
       "      <td>1</td>\n",
       "      <td>2023-09-24</td>\n",
       "      <td>NaT</td>\n",
       "    </tr>\n",
       "    <tr>\n",
       "      <th>39884</th>\n",
       "      <td>A707580</td>\n",
       "      <td>*OREO</td>\n",
       "      <td>CAT</td>\n",
       "      <td>BLACK</td>\n",
       "      <td>WHITE</td>\n",
       "      <td>Male</td>\n",
       "      <td>2023-08-24</td>\n",
       "      <td>0.0</td>\n",
       "      <td>2023-09-24</td>\n",
       "      <td>UNDER AGE/WEIGHT</td>\n",
       "      <td>...</td>\n",
       "      <td>NaN</td>\n",
       "      <td>600 BLOCK PIER D, LONG BEACH CA</td>\n",
       "      <td>LONG BEACH</td>\n",
       "      <td>NaN</td>\n",
       "      <td>NaN</td>\n",
       "      <td>Alive on Intake</td>\n",
       "      <td>False</td>\n",
       "      <td>1</td>\n",
       "      <td>2023-09-24</td>\n",
       "      <td>NaT</td>\n",
       "    </tr>\n",
       "    <tr>\n",
       "      <th>39885</th>\n",
       "      <td>A707606</td>\n",
       "      <td>*LOLA</td>\n",
       "      <td>DOG</td>\n",
       "      <td>BLACK</td>\n",
       "      <td>BROWN</td>\n",
       "      <td>Female</td>\n",
       "      <td>2023-05-24</td>\n",
       "      <td>0.0</td>\n",
       "      <td>2023-09-24</td>\n",
       "      <td>NORMAL</td>\n",
       "      <td>...</td>\n",
       "      <td>NaN</td>\n",
       "      <td>1880 SANTA FE AVE</td>\n",
       "      <td>LONG BEACH</td>\n",
       "      <td>NaN</td>\n",
       "      <td>NaN</td>\n",
       "      <td>Alive on Intake</td>\n",
       "      <td>False</td>\n",
       "      <td>1</td>\n",
       "      <td>2023-09-24</td>\n",
       "      <td>NaT</td>\n",
       "    </tr>\n",
       "  </tbody>\n",
       "</table>\n",
       "<p>5 rows × 23 columns</p>\n",
       "</div>"
      ],
      "text/plain": [
       "      Animal ID     Animal Name Animal Type Primary Color Secondary Color  \\\n",
       "39881   A707543  GEORGIE (PUP4)         DOG           TAN             NaN   \n",
       "39882   A707556          *VENTI         CAT    GRAY TABBY             NaN   \n",
       "39883   A707578           *SNOW         CAT         WHITE             NaN   \n",
       "39884   A707580           *OREO         CAT         BLACK           WHITE   \n",
       "39885   A707606           *LOLA         DOG         BLACK           BROWN   \n",
       "\n",
       "          Sex         DOB  Age Intake Date  Intake Condition  ...  \\\n",
       "39881    Male  2023-08-10  0.0  2023-09-24  UNDER AGE/WEIGHT  ...   \n",
       "39882    Male  2023-07-31  0.0  2023-09-24  UNDER AGE/WEIGHT  ...   \n",
       "39883  Female  2023-08-13  0.0  2023-09-24  UNDER AGE/WEIGHT  ...   \n",
       "39884    Male  2023-08-24  0.0  2023-09-24  UNDER AGE/WEIGHT  ...   \n",
       "39885  Female  2023-05-24  0.0  2023-09-24            NORMAL  ...   \n",
       "\n",
       "      Outcome Date                                      Crossing Jurisdiction  \\\n",
       "39881          NaN                                           NaN   LONG BEACH   \n",
       "39882          NaN  900 BLK E SPRING STREET SIGNAL HILL CA 90755  SIGNAL HILL   \n",
       "39883          NaN      100 BLK MIRA MAR AVE LONG BEACH CA 90803   LONG BEACH   \n",
       "39884          NaN               600 BLOCK PIER D, LONG BEACH CA   LONG BEACH   \n",
       "39885          NaN                             1880 SANTA FE AVE   LONG BEACH   \n",
       "\n",
       "      Outcome Type Outcome Subtype   intake_is_dead outcome_is_dead  \\\n",
       "39881          NaN             NaN  Alive on Intake           False   \n",
       "39882          NaN             NaN  Alive on Intake           False   \n",
       "39883          NaN             NaN  Alive on Intake           False   \n",
       "39884          NaN             NaN  Alive on Intake           False   \n",
       "39885          NaN             NaN  Alive on Intake           False   \n",
       "\n",
       "      was_outcome_alive intake_date  outcome_date  \n",
       "39881                 1  2023-09-24           NaT  \n",
       "39882                 1  2023-09-24           NaT  \n",
       "39883                 1  2023-09-24           NaT  \n",
       "39884                 1  2023-09-24           NaT  \n",
       "39885                 1  2023-09-24           NaT  \n",
       "\n",
       "[5 rows x 23 columns]"
      ]
     },
     "metadata": {},
     "output_type": "display_data"
    },
    {
     "data": {
      "text/html": [
       "<div>\n",
       "<style scoped>\n",
       "    .dataframe tbody tr th:only-of-type {\n",
       "        vertical-align: middle;\n",
       "    }\n",
       "\n",
       "    .dataframe tbody tr th {\n",
       "        vertical-align: top;\n",
       "    }\n",
       "\n",
       "    .dataframe thead th {\n",
       "        text-align: right;\n",
       "    }\n",
       "</style>\n",
       "<table border=\"1\" class=\"dataframe\">\n",
       "  <thead>\n",
       "    <tr style=\"text-align: right;\">\n",
       "      <th></th>\n",
       "      <th>Age</th>\n",
       "      <th>was_outcome_alive</th>\n",
       "      <th>intake_date</th>\n",
       "      <th>outcome_date</th>\n",
       "    </tr>\n",
       "  </thead>\n",
       "  <tbody>\n",
       "    <tr>\n",
       "      <th>count</th>\n",
       "      <td>34863.000000</td>\n",
       "      <td>39886.000000</td>\n",
       "      <td>39886</td>\n",
       "      <td>39285</td>\n",
       "    </tr>\n",
       "    <tr>\n",
       "      <th>mean</th>\n",
       "      <td>5.408714</td>\n",
       "      <td>0.791004</td>\n",
       "      <td>2020-03-25 18:17:03.517023488</td>\n",
       "      <td>2020-03-25 00:15:52.302405632</td>\n",
       "    </tr>\n",
       "    <tr>\n",
       "      <th>min</th>\n",
       "      <td>-7.000000</td>\n",
       "      <td>0.000000</td>\n",
       "      <td>2017-01-01 00:00:00</td>\n",
       "      <td>2017-01-01 00:00:00</td>\n",
       "    </tr>\n",
       "    <tr>\n",
       "      <th>25%</th>\n",
       "      <td>3.000000</td>\n",
       "      <td>1.000000</td>\n",
       "      <td>2018-06-10 00:00:00</td>\n",
       "      <td>2018-06-16 00:00:00</td>\n",
       "    </tr>\n",
       "    <tr>\n",
       "      <th>50%</th>\n",
       "      <td>5.000000</td>\n",
       "      <td>1.000000</td>\n",
       "      <td>2019-12-11 00:00:00</td>\n",
       "      <td>2019-12-18 00:00:00</td>\n",
       "    </tr>\n",
       "    <tr>\n",
       "      <th>75%</th>\n",
       "      <td>7.000000</td>\n",
       "      <td>1.000000</td>\n",
       "      <td>2022-03-13 00:00:00</td>\n",
       "      <td>2022-03-02 00:00:00</td>\n",
       "    </tr>\n",
       "    <tr>\n",
       "      <th>max</th>\n",
       "      <td>55.000000</td>\n",
       "      <td>1.000000</td>\n",
       "      <td>2023-09-27 00:00:00</td>\n",
       "      <td>2023-09-27 00:00:00</td>\n",
       "    </tr>\n",
       "    <tr>\n",
       "      <th>std</th>\n",
       "      <td>3.882323</td>\n",
       "      <td>0.406596</td>\n",
       "      <td>NaN</td>\n",
       "      <td>NaN</td>\n",
       "    </tr>\n",
       "  </tbody>\n",
       "</table>\n",
       "</div>"
      ],
      "text/plain": [
       "                Age  was_outcome_alive                    intake_date  \\\n",
       "count  34863.000000       39886.000000                          39886   \n",
       "mean       5.408714           0.791004  2020-03-25 18:17:03.517023488   \n",
       "min       -7.000000           0.000000            2017-01-01 00:00:00   \n",
       "25%        3.000000           1.000000            2018-06-10 00:00:00   \n",
       "50%        5.000000           1.000000            2019-12-11 00:00:00   \n",
       "75%        7.000000           1.000000            2022-03-13 00:00:00   \n",
       "max       55.000000           1.000000            2023-09-27 00:00:00   \n",
       "std        3.882323           0.406596                            NaN   \n",
       "\n",
       "                        outcome_date  \n",
       "count                          39285  \n",
       "mean   2020-03-25 00:15:52.302405632  \n",
       "min              2017-01-01 00:00:00  \n",
       "25%              2018-06-16 00:00:00  \n",
       "50%              2019-12-18 00:00:00  \n",
       "75%              2022-03-02 00:00:00  \n",
       "max              2023-09-27 00:00:00  \n",
       "std                              NaN  "
      ]
     },
     "metadata": {},
     "output_type": "display_data"
    },
    {
     "name": "stdout",
     "output_type": "stream",
     "text": [
      "There are 39,886 rows in the dataset\n"
     ]
    }
   ],
   "source": [
    "# Do some basic data profiling on the dataset\n",
    "display(df.tail())\n",
    "display(df.describe())\n",
    "print(f'There are {len(df):,} rows in the dataset')"
   ]
  },
  {
   "cell_type": "code",
   "execution_count": 97,
   "id": "3c1315bf",
   "metadata": {
    "ExecuteTime": {
     "end_time": "2025-01-27T05:33:23.941598Z",
     "start_time": "2025-01-27T05:33:23.939193Z"
    }
   },
   "outputs": [
    {
     "data": {
      "text/plain": [
       "Index(['Animal ID', 'Animal Name', 'Animal Type', 'Primary Color',\n",
       "       'Secondary Color', 'Sex', 'DOB', 'Age', 'Intake Date',\n",
       "       'Intake Condition', 'Intake Type', 'Intake Subtype',\n",
       "       'Reason for Intake', 'Outcome Date', 'Crossing', 'Jurisdiction',\n",
       "       'Outcome Type', 'Outcome Subtype', 'intake_is_dead', 'outcome_is_dead',\n",
       "       'was_outcome_alive', 'intake_date', 'outcome_date'],\n",
       "      dtype='object')"
      ]
     },
     "execution_count": 97,
     "metadata": {},
     "output_type": "execute_result"
    }
   ],
   "source": [
    "# Print out the columns for reference\n",
    "df.columns"
   ]
  },
  {
   "cell_type": "code",
   "execution_count": 98,
   "id": "294b4175",
   "metadata": {
    "ExecuteTime": {
     "end_time": "2025-01-27T05:33:23.957805Z",
     "start_time": "2025-01-27T05:33:23.942621Z"
    }
   },
   "outputs": [
    {
     "name": "stdout",
     "output_type": "stream",
     "text": [
      "There are 10 unique Animal Types: ['DOG' 'CAT' 'RABBIT' 'REPTILE' 'BIRD' 'OTHER' 'LIVESTOCK' 'WILD'\n",
      " 'GUINEA PIG' 'AMPHIBIAN']\n",
      "Number of unique animals in the dataset: 38,554\n",
      "min date of data: 2017-01-01. max date of date: 2023-09-27\n",
      "Years of data spanning [2017, 2018, 2019, 2020, 2021, 2022, 2023]\n"
     ]
    }
   ],
   "source": [
    "unique_animal_types = df['Animal Type'].unique()\n",
    "print(f'There are {len(unique_animal_types)} unique Animal Types:', unique_animal_types)\n",
    "unique_animal_ids = df['Animal ID'].unique()\n",
    "print(f'Number of unique animals in the dataset: {len(unique_animal_ids):,}')\n",
    "min_intake_dt, max_intake_dt = df['intake_date'].min(), df['intake_date'].max()\n",
    "min_outcome_dt, max_outcome_dt = df['outcome_date'].min(), df['outcome_date'].max()\n",
    "print(f\"min date of data: {min_intake_dt.strftime('%Y-%m-%d')}. max date of date: {max_outcome_dt.strftime('%Y-%m-%d')}\")\n",
    "years_data = sorted([int(x) for x in df['outcome_date'][df['outcome_date'].notna()].dt.year.unique()])\n",
    "print(\"Years of data spanning\", years_data)"
   ]
  },
  {
   "cell_type": "code",
   "execution_count": 99,
   "id": "973903c5",
   "metadata": {
    "ExecuteTime": {
     "end_time": "2025-01-27T05:33:23.970269Z",
     "start_time": "2025-01-27T05:33:23.959158Z"
    }
   },
   "outputs": [
    {
     "name": "stdout",
     "output_type": "stream",
     "text": [
      "There are 16 primarily black cats less than 3 years of age found in Los Alamitos\n"
     ]
    }
   ],
   "source": [
    "# How many primarily black cats less than 3 years of age were found in Los Alamitos?\n",
    "df_black_cats_losalamitos = df[(df['Animal Type'] == 'CAT') & (df['Primary Color'] == 'BLACK') & (df['Age'] < 3) & (df['Jurisdiction'] == 'Los Alamitos'.upper())]\n",
    "print(f'There are {len(df_black_cats_losalamitos)} primarily black cats less than 3 years of age found in Los Alamitos')"
   ]
  },
  {
   "cell_type": "code",
   "execution_count": 100,
   "id": "ec5847f4",
   "metadata": {
    "ExecuteTime": {
     "end_time": "2025-01-27T05:33:23.990914Z",
     "start_time": "2025-01-27T05:33:23.971295Z"
    }
   },
   "outputs": [
    {
     "name": "stdout",
     "output_type": "stream",
     "text": [
      "There most common color combination in the dataset is BLACK & WHITE with 4,309 records\n"
     ]
    }
   ],
   "source": [
    "# What is the most common primary/secondary color combination in the data (consider only when both colors are listed)?\n",
    "# Allow using df[][] notation. Future versions of Pandas might deprecate this.\n",
    "pd.options.mode.copy_on_write = True\n",
    "df_multi_colored = df[(df['Primary Color'].notna()) & (df['Secondary Color'].notna())]\n",
    "df_multi_colored['multi_color'] = df_multi_colored['Primary Color'] + ' & ' + df_multi_colored['Secondary Color']\n",
    "unique_multi_colors = df_multi_colored.groupby('multi_color')['multi_color'].count().reset_index(name='Count')\n",
    "unique_multi_colors = unique_multi_colors.sort_values(by='Count', ascending=False)\n",
    "print(f'There most common color combination in the dataset is {unique_multi_colors.iloc[0,0]} with {unique_multi_colors.iloc[0,1]:,} records')"
   ]
  },
  {
   "cell_type": "markdown",
   "id": "63ee91bf",
   "metadata": {},
   "source": [
    "#### (b) Reflect and question \n",
    "\n",
    "Comment on the questions (and answers) so far. Were you able to answer all of these questions? Are all questions well defined? Is the data good enough to answer all these?"
   ]
  },
  {
   "cell_type": "code",
   "execution_count": 101,
   "id": "100d4deb",
   "metadata": {
    "ExecuteTime": {
     "end_time": "2025-01-27T05:33:23.997532Z",
     "start_time": "2025-01-27T05:33:23.992923Z"
    }
   },
   "outputs": [
    {
     "name": "stdout",
     "output_type": "stream",
     "text": [
      "For the most part these questions were straightforward to answer and the data had all the elements required to answer.\n",
      "However, this question: `How many primarily black cats less than 3 years of age were found in Los Alamitos?` it was unclear to me if I needed to filter on Jurisdiction or City where the animal was found, because they could be different.\n",
      "Due to the ambiguity of English, this question could have been number of individual animal types or number of animal 'souls': `How many unique animals are in the data?` Since I answered both questions, it shouldn't be a problem.\n"
     ]
    }
   ],
   "source": [
    "print(\"For the most part these questions were straightforward to answer and the data had all the elements required to answer.\")\n",
    "print(\"However, this question: `How many primarily black cats less than 3 years of age were found in Los Alamitos?` it was unclear to me if I needed to filter on Jurisdiction or City where the animal was found, because they could be different.\")\n",
    "print(\"Due to the ambiguity of English, this question could have been number of individual animal types or number of animal 'souls': `How many unique animals are in the data?` Since I answered both questions, it shouldn't be a problem.\")"
   ]
  },
  {
   "cell_type": "markdown",
   "id": "3a96ecf8",
   "metadata": {},
   "source": [
    "### Problem 2: Animal ages"
   ]
  },
  {
   "cell_type": "markdown",
   "id": "3e8b8e55",
   "metadata": {},
   "source": [
    "#### (a) Typical ages\n",
    "\n",
    "What is the typical age of animals in the data?"
   ]
  },
  {
   "cell_type": "code",
   "execution_count": 102,
   "id": "eacd93d3",
   "metadata": {
    "ExecuteTime": {
     "end_time": "2025-01-27T05:33:24.019124Z",
     "start_time": "2025-01-27T05:33:23.999542Z"
    }
   },
   "outputs": [
    {
     "name": "stdout",
     "output_type": "stream",
     "text": [
      "Column 'Age' has 2,464 rows with 0.0 | 6.18%\n",
      "Column 'Age' has 34,863 rows with NaN | 87.41%\n",
      "Column 'DOB_parsed' has 34,863 rows with NaN | 87.41%\n"
     ]
    }
   ],
   "source": [
    "# Look at how many Age, DOB have 0 or NaN values\n",
    "# Which could be an indicator of bad data\n",
    "\n",
    "# Create a new column with the parsed DOB\n",
    "df['DOB_parsed'] = pd.to_datetime(df['DOB'], errors='coerce')\n",
    "\n",
    "for col in ['Age', 'DOB_parsed']:\n",
    "    if df[col].dtype in ['float64', 'int64']:  # Check if the column is of float type\n",
    "        zero_count = (df[col] == 0.0).sum()  # Count rows where value is 0.0\n",
    "        na_count = (df[col].notna()).sum()  # Count rows where value is NaN\n",
    "        print(f\"Column '{col}' has {zero_count:,} rows with 0.0 | {100*(zero_count/len(df[col])):.2f}%\")\n",
    "        print(f\"Column '{col}' has {na_count:,} rows with NaN | {100*(na_count/len(df[col])):.2f}%\")\n",
    "    else:\n",
    "        na_count = (df[col].notna()).sum()\n",
    "        print(f\"Column '{col}' has {na_count:,} rows with NaN | {100*(na_count/len(df[col])):.2f}%\")"
   ]
  },
  {
   "cell_type": "code",
   "execution_count": 103,
   "id": "dc0ee461",
   "metadata": {
    "ExecuteTime": {
     "end_time": "2025-01-27T05:33:24.049991Z",
     "start_time": "2025-01-27T05:33:24.021133Z"
    }
   },
   "outputs": [
    {
     "data": {
      "text/html": [
       "<div>\n",
       "<style scoped>\n",
       "    .dataframe tbody tr th:only-of-type {\n",
       "        vertical-align: middle;\n",
       "    }\n",
       "\n",
       "    .dataframe tbody tr th {\n",
       "        vertical-align: top;\n",
       "    }\n",
       "\n",
       "    .dataframe thead th {\n",
       "        text-align: right;\n",
       "    }\n",
       "</style>\n",
       "<table border=\"1\" class=\"dataframe\">\n",
       "  <thead>\n",
       "    <tr style=\"text-align: right;\">\n",
       "      <th></th>\n",
       "      <th>Age</th>\n",
       "      <th>Count</th>\n",
       "    </tr>\n",
       "  </thead>\n",
       "  <tbody>\n",
       "    <tr>\n",
       "      <th>0</th>\n",
       "      <td>-7.0</td>\n",
       "      <td>1</td>\n",
       "    </tr>\n",
       "    <tr>\n",
       "      <th>1</th>\n",
       "      <td>0.0</td>\n",
       "      <td>2464</td>\n",
       "    </tr>\n",
       "    <tr>\n",
       "      <th>2</th>\n",
       "      <td>1.0</td>\n",
       "      <td>3038</td>\n",
       "    </tr>\n",
       "    <tr>\n",
       "      <th>3</th>\n",
       "      <td>2.0</td>\n",
       "      <td>2763</td>\n",
       "    </tr>\n",
       "    <tr>\n",
       "      <th>4</th>\n",
       "      <td>3.0</td>\n",
       "      <td>3080</td>\n",
       "    </tr>\n",
       "    <tr>\n",
       "      <th>5</th>\n",
       "      <td>4.0</td>\n",
       "      <td>4125</td>\n",
       "    </tr>\n",
       "    <tr>\n",
       "      <th>6</th>\n",
       "      <td>5.0</td>\n",
       "      <td>4169</td>\n",
       "    </tr>\n",
       "    <tr>\n",
       "      <th>7</th>\n",
       "      <td>6.0</td>\n",
       "      <td>4932</td>\n",
       "    </tr>\n",
       "    <tr>\n",
       "      <th>8</th>\n",
       "      <td>7.0</td>\n",
       "      <td>2419</td>\n",
       "    </tr>\n",
       "    <tr>\n",
       "      <th>9</th>\n",
       "      <td>8.0</td>\n",
       "      <td>1846</td>\n",
       "    </tr>\n",
       "    <tr>\n",
       "      <th>10</th>\n",
       "      <td>9.0</td>\n",
       "      <td>1480</td>\n",
       "    </tr>\n",
       "    <tr>\n",
       "      <th>11</th>\n",
       "      <td>10.0</td>\n",
       "      <td>1031</td>\n",
       "    </tr>\n",
       "    <tr>\n",
       "      <th>12</th>\n",
       "      <td>11.0</td>\n",
       "      <td>778</td>\n",
       "    </tr>\n",
       "    <tr>\n",
       "      <th>13</th>\n",
       "      <td>12.0</td>\n",
       "      <td>630</td>\n",
       "    </tr>\n",
       "    <tr>\n",
       "      <th>14</th>\n",
       "      <td>13.0</td>\n",
       "      <td>532</td>\n",
       "    </tr>\n",
       "    <tr>\n",
       "      <th>15</th>\n",
       "      <td>14.0</td>\n",
       "      <td>455</td>\n",
       "    </tr>\n",
       "    <tr>\n",
       "      <th>16</th>\n",
       "      <td>15.0</td>\n",
       "      <td>300</td>\n",
       "    </tr>\n",
       "    <tr>\n",
       "      <th>17</th>\n",
       "      <td>16.0</td>\n",
       "      <td>285</td>\n",
       "    </tr>\n",
       "    <tr>\n",
       "      <th>18</th>\n",
       "      <td>17.0</td>\n",
       "      <td>181</td>\n",
       "    </tr>\n",
       "    <tr>\n",
       "      <th>19</th>\n",
       "      <td>18.0</td>\n",
       "      <td>133</td>\n",
       "    </tr>\n",
       "    <tr>\n",
       "      <th>20</th>\n",
       "      <td>19.0</td>\n",
       "      <td>84</td>\n",
       "    </tr>\n",
       "    <tr>\n",
       "      <th>21</th>\n",
       "      <td>20.0</td>\n",
       "      <td>58</td>\n",
       "    </tr>\n",
       "    <tr>\n",
       "      <th>22</th>\n",
       "      <td>21.0</td>\n",
       "      <td>29</td>\n",
       "    </tr>\n",
       "    <tr>\n",
       "      <th>23</th>\n",
       "      <td>22.0</td>\n",
       "      <td>23</td>\n",
       "    </tr>\n",
       "    <tr>\n",
       "      <th>24</th>\n",
       "      <td>23.0</td>\n",
       "      <td>11</td>\n",
       "    </tr>\n",
       "    <tr>\n",
       "      <th>25</th>\n",
       "      <td>24.0</td>\n",
       "      <td>6</td>\n",
       "    </tr>\n",
       "    <tr>\n",
       "      <th>26</th>\n",
       "      <td>25.0</td>\n",
       "      <td>5</td>\n",
       "    </tr>\n",
       "    <tr>\n",
       "      <th>27</th>\n",
       "      <td>26.0</td>\n",
       "      <td>1</td>\n",
       "    </tr>\n",
       "    <tr>\n",
       "      <th>28</th>\n",
       "      <td>30.0</td>\n",
       "      <td>3</td>\n",
       "    </tr>\n",
       "    <tr>\n",
       "      <th>29</th>\n",
       "      <td>55.0</td>\n",
       "      <td>1</td>\n",
       "    </tr>\n",
       "  </tbody>\n",
       "</table>\n",
       "</div>"
      ],
      "text/plain": [
       "     Age  Count\n",
       "0   -7.0      1\n",
       "1    0.0   2464\n",
       "2    1.0   3038\n",
       "3    2.0   2763\n",
       "4    3.0   3080\n",
       "5    4.0   4125\n",
       "6    5.0   4169\n",
       "7    6.0   4932\n",
       "8    7.0   2419\n",
       "9    8.0   1846\n",
       "10   9.0   1480\n",
       "11  10.0   1031\n",
       "12  11.0    778\n",
       "13  12.0    630\n",
       "14  13.0    532\n",
       "15  14.0    455\n",
       "16  15.0    300\n",
       "17  16.0    285\n",
       "18  17.0    181\n",
       "19  18.0    133\n",
       "20  19.0     84\n",
       "21  20.0     58\n",
       "22  21.0     29\n",
       "23  22.0     23\n",
       "24  23.0     11\n",
       "25  24.0      6\n",
       "26  25.0      5\n",
       "27  26.0      1\n",
       "28  30.0      3\n",
       "29  55.0      1"
      ]
     },
     "metadata": {},
     "output_type": "display_data"
    }
   ],
   "source": [
    "# 1.0.3.a is not entirely clear\n",
    "# Because 87% of the records in the dataset do not have an age, it is impossible to get an accurate answer.\n",
    "# Assuming we can just calculate based on the data that we do have, do they want the Average? Median? Most frequent?\n",
    "# I will list all three\n",
    "\n",
    "df_ages = df[(df['Age'].notna())].groupby('Age')['Age'].count().reset_index(name='Count')\n",
    "display(df_ages)"
   ]
  },
  {
   "cell_type": "code",
   "execution_count": 104,
   "id": "04dddf97",
   "metadata": {
    "ExecuteTime": {
     "end_time": "2025-01-27T05:33:24.070567Z",
     "start_time": "2025-01-27T05:33:24.051001Z"
    }
   },
   "outputs": [
    {
     "name": "stdout",
     "output_type": "stream",
     "text": [
      "The average age of all animals in the dataset is 5.820451879745663\n",
      "The median age of all animals in the dataset is 5.0\n",
      "The most common age of all animals in the dataset is 1.0\n"
     ]
    }
   ],
   "source": [
    "# There is a record with an age of -7, obviously an error, we will just eliminate it\n",
    "#  and filter out the NaN Ages\n",
    "df_filtered = df[((df['Age'] > 0) & (df['Age'].notna()))]\n",
    "\n",
    "mean_age = df_filtered['Age'].mean()\n",
    "median_age = df_filtered['Age'].median()\n",
    "most_common = df_filtered.groupby('Age')['Age'].count().reset_index(name='Count').iloc[0, 0]\n",
    "print(f\"The average age of all animals in the dataset is {mean_age}\")\n",
    "print(f\"The median age of all animals in the dataset is {median_age}\")\n",
    "print(f\"The most common age of all animals in the dataset is {most_common}\")"
   ]
  },
  {
   "cell_type": "markdown",
   "id": "c18a6374",
   "metadata": {},
   "source": [
    "#### (b) Defining ages \n",
    "\n",
    "What definition of \"typical age\" did you use to answer part (a)? Did you look at ages by animal type? Did you do any specific exploration and description of this variable prior to using it? If not, please do so now. Is there any missing data? Are there any implausible or invalid entries?<p>"
   ]
  },
  {
   "cell_type": "code",
   "execution_count": 105,
   "id": "4e89bb67",
   "metadata": {
    "ExecuteTime": {
     "end_time": "2025-01-27T05:33:24.216742Z",
     "start_time": "2025-01-27T05:33:24.071572Z"
    }
   },
   "outputs": [
    {
     "name": "stdout",
     "output_type": "stream",
     "text": [
      "The average age of DOGs in the dataset is 7.4728484449563926, median age 7.0, most common age 1.0.\n",
      "The average age of CATs in the dataset is 4.9552320958962754, median age 5.0, most common age 1.0.\n",
      "The average age of RABBITs in the dataset is 4.1939736346516, median age 4.0, most common age 1.0.\n",
      "The average age of REPTILEs in the dataset is 7.052631578947368, median age 6.0, most common age 1.0.\n",
      "The average age of BIRDs in the dataset is 4.3128249566724435, median age 4.0, most common age 1.0.\n",
      "The average age of LIVESTOCKs in the dataset is 8.5, median age 5.5, most common age 2.0.\n",
      "The average age of OTHERs in the dataset is 3.7700587084148727, median age 4.0, most common age 1.0.\n",
      "The average age of WILDs in the dataset is 4.30390920554855, median age 4.0, most common age 1.0.\n",
      "The average age of GUINEA PIGs in the dataset is 3.953216374269006, median age 4.0, most common age 1.0.\n",
      "The average age of AMPHIBIANs in the dataset is 1.0, median age 1.0, most common age 1.0.\n"
     ]
    }
   ],
   "source": [
    "# I did all the exploration as defined in the previous cell. I will do the same by animal type here\n",
    "for animal_type in list(df_filtered['Animal Type'].unique()):\n",
    "    mean_age = df_filtered[(df_filtered['Animal Type'] == animal_type)]['Age'].mean()\n",
    "    median_age = df_filtered[(df_filtered['Animal Type'] == animal_type)]['Age'].median()\n",
    "    most_common = df_filtered[(df_filtered['Animal Type'] == animal_type)].groupby('Age')['Age'].count().reset_index(name='Count').iloc[0, 0]\n",
    "    print(f\"The average age of {animal_type}s in the dataset is {mean_age}, median age {median_age}, most common age {most_common}.\")"
   ]
  },
  {
   "cell_type": "markdown",
   "id": "9fa679a8",
   "metadata": {},
   "source": [
    "#### (c) Ages by jurisdiction \n",
    "\n",
    "Now compute typical animal age by jurisdiction. Which three jurisdictions have the highest animal age? Be sure to justify you choice of age calculation and animal/jurisdiction grouping(s)."
   ]
  },
  {
   "cell_type": "code",
   "execution_count": 106,
   "id": "f9683ea0",
   "metadata": {
    "ExecuteTime": {
     "end_time": "2025-01-27T05:33:24.469305Z",
     "start_time": "2025-01-27T05:33:24.218749Z"
    }
   },
   "outputs": [
    {
     "name": "stdout",
     "output_type": "stream",
     "text": [
      "The average age of animals in CERRITOS is 5.95, median age 5.0, most common age 1.0.\n",
      "The average age of animals in COSTA MESA is 1.0, median age 1.0, most common age 1.0.\n",
      "The average age of animals in DISTRICT1 is 7.69, median age 6.0, most common age 4.0.\n",
      "The average age of animals in DISTRICT2 is 8.16, median age 8.0, most common age 4.0.\n",
      "The average age of animals in DISTRICT3 is 8.38, median age 7.5, most common age 4.0.\n",
      "The average age of animals in DISTRICT4 is 6.47, median age 5.0, most common age 4.0.\n",
      "The average age of animals in DISTRICT5 is 7.93, median age 7.5, most common age 4.0.\n",
      "The average age of animals in DISTRICT6 is 6.11, median age 5.0, most common age 4.0.\n",
      "The average age of animals in DISTRICT7 is 8.04, median age 7.5, most common age 4.0.\n",
      "The average age of animals in DISTRICT8 is 5.75, median age 4.5, most common age 3.0.\n",
      "The average age of animals in DISTRICT9 is 5.74, median age 4.0, most common age 4.0.\n",
      "The average age of animals in GARDEN GROVE is 5.5, median age 5.5, most common age 4.0.\n",
      "The average age of animals in IRVINE is 7.0, median age 7.0, most common age 7.0.\n",
      "The average age of animals in LA CITY is 5.33, median age 5.0, most common age 4.0.\n",
      "The average age of animals in LA COUNTY is 4.55, median age 4.0, most common age 1.0.\n",
      "The average age of animals in LA HABRA is 7.0, median age 7.0, most common age 7.0.\n",
      "The average age of animals in LAGUNA BEACH is 5.0, median age 5.0, most common age 5.0.\n",
      "The average age of animals in LONG BEACH is 5.8, median age 5.0, most common age 1.0.\n",
      "The average age of animals in LOS ALAMITOS is 5.95, median age 5.0, most common age 1.0.\n",
      "The average age of animals in ORANGE CNTY is 4.21, median age 3.0, most common age 1.0.\n",
      "The average age of animals in OUT OF AREA is 5.71, median age 5.0, most common age 1.0.\n",
      "The average age of animals in SEAACA is 5.73, median age 4.0, most common age 1.0.\n",
      "The average age of animals in SEAL BEACH is 6.13, median age 6.0, most common age 1.0.\n",
      "The average age of animals in SIGNAL HILL is 5.84, median age 5.0, most common age 1.0.\n",
      "The average age of animals in TORRANCE AC is 17.0, median age 17.0, most common age 17.0.\n",
      "The average age of animals in WESTMINSTER is 3.4, median age 4.0, most common age 1.0.\n"
     ]
    }
   ],
   "source": [
    "jurisdiction_ages = []\n",
    "for jurisdiction in sorted(list(df_filtered['Jurisdiction'].unique())):\n",
    "    mean_age = df_filtered[(df_filtered['Jurisdiction'] == jurisdiction)]['Age'].mean()\n",
    "    median_age = df_filtered[(df_filtered['Jurisdiction'] == jurisdiction)]['Age'].median()\n",
    "    most_common = df_filtered[(df_filtered['Jurisdiction'] == jurisdiction)].groupby('Age')['Age'].count().reset_index(name='Count').iloc[0, 0]\n",
    "    jurisdiction_ages.append([jurisdiction, mean_age, median_age, most_common])\n",
    "    print(f\"The average age of animals in {jurisdiction} is {mean_age:.3}, median age {median_age}, most common age {most_common}.\")"
   ]
  },
  {
   "cell_type": "code",
   "execution_count": 107,
   "id": "46668270",
   "metadata": {
    "ExecuteTime": {
     "end_time": "2025-01-27T05:33:24.475159Z",
     "start_time": "2025-01-27T05:33:24.470328Z"
    }
   },
   "outputs": [
    {
     "name": "stdout",
     "output_type": "stream",
     "text": [
      "Since it is unclear what the requirement is, I will list all three aggregates for the Top 3.\n",
      "\n",
      "Top 3 Jurisdictions by Average Age\n",
      "The average age of animals in TORRANCE AC is 17.0\n",
      "The average age of animals in DISTRICT3 is 8.375\n",
      "The average age of animals in DISTRICT2 is 8.157894736842104\n",
      "\n",
      "Top 3 Jurisdictions by Median Age\n",
      "The average age of animals in TORRANCE AC is 17.0\n",
      "The average age of animals in DISTRICT2 is 8.0\n",
      "The average age of animals in DISTRICT3 is 7.5\n",
      "\n",
      "Top 3 Jurisdictions by Most Common Age\n",
      "The average age of animals in TORRANCE AC is 17.0\n",
      "The average age of animals in IRVINE is 7.0\n",
      "The average age of animals in LA HABRA is 7.0\n",
      "\n",
      "If I had to chose, I would pick Median so as to provide a more realistic answer for jurisdictions with few data points\n"
     ]
    }
   ],
   "source": [
    "print(\"Since it is unclear what the requirement is, I will list all three aggregates for the Top 3.\")\n",
    "print(\"\")\n",
    "print(\"Top 3 Jurisdictions by Average Age\")\n",
    "top_3_jurisdictions = sorted(jurisdiction_ages, key=lambda x: x[1], reverse=True)[:3]\n",
    "for jurisdiction, mean_age, median_age, most_common in top_3_jurisdictions:\n",
    "    print(f\"The average age of animals in {jurisdiction} is {mean_age}\")\n",
    "print(\"\")\n",
    "print(\"Top 3 Jurisdictions by Median Age\")\n",
    "top_3_jurisdictions = sorted(jurisdiction_ages, key=lambda x: x[2], reverse=True)[:3]\n",
    "for jurisdiction, mean_age, median_age, most_common in top_3_jurisdictions:\n",
    "    print(f\"The average age of animals in {jurisdiction} is {median_age}\")\n",
    "print(\"\")\n",
    "print(\"Top 3 Jurisdictions by Most Common Age\")\n",
    "top_3_jurisdictions = sorted(jurisdiction_ages, key=lambda x: x[3], reverse=True)[:3]\n",
    "for jurisdiction, mean_age, median_age, most_common in top_3_jurisdictions:\n",
    "    print(f\"The average age of animals in {jurisdiction} is {most_common}\")\n",
    "print(\"\")\n",
    "print(\"If I had to chose, I would pick Median so as to provide a more realistic answer for jurisdictions with few data points\")"
   ]
  },
  {
   "cell_type": "markdown",
   "id": "e9126b9b",
   "metadata": {},
   "source": [
    "#### (d) Intake seasonality\n",
    "\n",
    "One may wonder whether intakes are in any way related to weather. We do not have weather information here but let’s analyze how intakes are related to seasons. Which seasons have the most intakes? Why might this be the case? In your communication of your analysis use one graphical visualization and one tabular respresentation of your findings."
   ]
  },
  {
   "cell_type": "code",
   "execution_count": 108,
   "id": "8a56b775",
   "metadata": {
    "ExecuteTime": {
     "end_time": "2025-01-27T05:33:24.505982Z",
     "start_time": "2025-01-27T05:33:24.476164Z"
    }
   },
   "outputs": [],
   "source": [
    "# Define a function to map months to seasons\n",
    "def get_season(month):\n",
    "    if month in [12, 1, 2]:\n",
    "        return 'Winter'\n",
    "    elif month in [3, 4, 5]:\n",
    "        return 'Spring'\n",
    "    elif month in [6, 7, 8]:\n",
    "        return 'Summer'\n",
    "    elif month in [9, 10, 11]:\n",
    "        return 'Fall'\n",
    "    else:\n",
    "        print(f\"Error trying to put month {month} in a season\")\n",
    "\n",
    "# Apply the function to create a new 'Season' column\n",
    "df_filtered['season'] = df_filtered['intake_date'].dt.month.apply(get_season)\n",
    "\n",
    "# Group by season and count occurrences\n",
    "season_counts = df_filtered['season'].value_counts()"
   ]
  },
  {
   "cell_type": "code",
   "execution_count": 109,
   "id": "cf62f74f",
   "metadata": {
    "ExecuteTime": {
     "end_time": "2025-01-27T05:33:24.515948Z",
     "start_time": "2025-01-27T05:33:24.506989Z"
    }
   },
   "outputs": [
    {
     "data": {
      "text/html": [
       "<div>\n",
       "<style scoped>\n",
       "    .dataframe tbody tr th:only-of-type {\n",
       "        vertical-align: middle;\n",
       "    }\n",
       "\n",
       "    .dataframe tbody tr th {\n",
       "        vertical-align: top;\n",
       "    }\n",
       "\n",
       "    .dataframe thead th {\n",
       "        text-align: right;\n",
       "    }\n",
       "</style>\n",
       "<table border=\"1\" class=\"dataframe\">\n",
       "  <thead>\n",
       "    <tr style=\"text-align: right;\">\n",
       "      <th></th>\n",
       "      <th>Season</th>\n",
       "      <th>Count of Intakes</th>\n",
       "    </tr>\n",
       "  </thead>\n",
       "  <tbody>\n",
       "    <tr>\n",
       "      <th>0</th>\n",
       "      <td>Summer</td>\n",
       "      <td>10,293</td>\n",
       "    </tr>\n",
       "    <tr>\n",
       "      <th>1</th>\n",
       "      <td>Spring</td>\n",
       "      <td>9,092</td>\n",
       "    </tr>\n",
       "    <tr>\n",
       "      <th>2</th>\n",
       "      <td>Fall</td>\n",
       "      <td>7,520</td>\n",
       "    </tr>\n",
       "    <tr>\n",
       "      <th>3</th>\n",
       "      <td>Winter</td>\n",
       "      <td>5,493</td>\n",
       "    </tr>\n",
       "  </tbody>\n",
       "</table>\n",
       "</div>"
      ],
      "text/plain": [
       "   Season Count of Intakes\n",
       "0  Summer           10,293\n",
       "1  Spring            9,092\n",
       "2    Fall            7,520\n",
       "3  Winter            5,493"
      ]
     },
     "metadata": {},
     "output_type": "display_data"
    }
   ],
   "source": [
    "season_counts_formatted = season_counts.apply(lambda x: f\"{x:,}\")\n",
    "season_counts_df = season_counts_formatted.reset_index()\n",
    "season_counts_df.columns = ['Season', 'Count of Intakes']\n",
    "display(season_counts_df)"
   ]
  },
  {
   "cell_type": "code",
   "execution_count": 110,
   "id": "49cf99a7",
   "metadata": {
    "ExecuteTime": {
     "end_time": "2025-01-27T05:33:24.674663Z",
     "start_time": "2025-01-27T05:33:24.516956Z"
    }
   },
   "outputs": [
    {
     "data": {
      "image/png": "[encoded data removed]",
      "text/plain": [
       "<Figure size 1000x600 with 1 Axes>"
      ]
     },
     "metadata": {},
     "output_type": "display_data"
    }
   ],
   "source": [
    "import matplotlib.ticker as ticker\n",
    "\n",
    "# Sort by seasonal order\n",
    "season_order = ['Winter', 'Spring', 'Summer', 'Fall']\n",
    "season_counts = season_counts.reindex(season_order)\n",
    "\n",
    "# Plot the data\n",
    "plt.figure(figsize=(10, 6))\n",
    "sns.barplot(x=season_counts.index, y=season_counts.values, hue=season_counts.index, palette='coolwarm', dodge=False, legend=False)\n",
    "plt.title('Animal Intakes by Season', fontsize=16)\n",
    "plt.xlabel('Season', fontsize=14)\n",
    "plt.ylabel('Number of Intakes', fontsize=14)\n",
    "plt.xticks(fontsize=12)\n",
    "plt.yticks(fontsize=12)\n",
    "# Format the y-axis values with commas\n",
    "ax = plt.gca()\n",
    "ax.yaxis.set_major_formatter(ticker.StrMethodFormatter('{x:,.0f}'))\n",
    "plt.show()"
   ]
  },
  {
   "cell_type": "markdown",
   "id": "5c52f18a",
   "metadata": {},
   "source": [
    "#### (e) Challenge your results \n",
    "\n",
    "After completing the exploratory analyses from Problem 2, do you have any concerns about your findings? How well defined was your original question? Do you still believe this question can be answered using this dataset? Comment on any ethical and/or privacy concerns you have with your analysis."
   ]
  },
  {
   "cell_type": "code",
   "execution_count": 111,
   "id": "4569001e",
   "metadata": {
    "ExecuteTime": {
     "end_time": "2025-01-27T05:33:24.747850Z",
     "start_time": "2025-01-27T05:33:24.675692Z"
    }
   },
   "outputs": [
    {
     "name": "stdout",
     "output_type": "stream",
     "text": [
      "The count of rows in CERRITOS is 2193\n",
      "The count of rows in COSTA MESA is 1\n",
      "The count of rows in DISTRICT1 is 13\n",
      "The count of rows in DISTRICT2 is 19\n",
      "The count of rows in DISTRICT3 is 8\n",
      "The count of rows in DISTRICT4 is 17\n",
      "The count of rows in DISTRICT5 is 14\n",
      "The count of rows in DISTRICT6 is 18\n",
      "The count of rows in DISTRICT7 is 26\n",
      "The count of rows in DISTRICT8 is 28\n",
      "The count of rows in DISTRICT9 is 39\n",
      "The count of rows in GARDEN GROVE is 2\n",
      "The count of rows in IRVINE is 1\n",
      "The count of rows in LA CITY is 9\n",
      "The count of rows in LA COUNTY is 51\n",
      "The count of rows in LA HABRA is 1\n",
      "The count of rows in LAGUNA BEACH is 1\n",
      "The count of rows in LONG BEACH is 28005\n",
      "The count of rows in LOS ALAMITOS is 554\n",
      "The count of rows in ORANGE CNTY is 34\n",
      "The count of rows in OUT OF AREA is 198\n",
      "The count of rows in SEAACA is 81\n",
      "The count of rows in SEAL BEACH is 334\n",
      "The count of rows in SIGNAL HILL is 745\n",
      "The count of rows in TORRANCE AC is 1\n",
      "The count of rows in WESTMINSTER is 5\n"
     ]
    }
   ],
   "source": [
    "# I want to see how many values are in each jurisdiction\n",
    "# Loop through each jurisdiction and count the rows where Age > 0\n",
    "for jurisdiction in sorted(df_filtered['Jurisdiction'].unique()):\n",
    "    count_rows = df_filtered[df_filtered['Jurisdiction'] == jurisdiction].shape[0]\n",
    "    print(f\"The count of rows in {jurisdiction} is {count_rows}\")"
   ]
  },
  {
   "cell_type": "code",
   "execution_count": 112,
   "id": "880d6770",
   "metadata": {
    "ExecuteTime": {
     "end_time": "2025-01-27T05:33:24.752013Z",
     "start_time": "2025-01-27T05:33:24.747850Z"
    }
   },
   "outputs": [
    {
     "name": "stdout",
     "output_type": "stream",
     "text": [
      "Overall, I think the questions are properly posed to get specific information about the data\n",
      "So we see that Torrance only has one record. We might want to provide the same data in Problem 2 to our customers but filter out where intakes are less than 2 or 3.\n",
      "We might also want to show data for Signal Hill, Cerritos and Long Beach (ie the jurisdictions with the most intakes), and then all the rest.\n",
      "Lastly, we would want to know the total animal population of jurisdictions like Long Beach and calculate a percentage, rather than raw numbers, as the raw number might be perceived as people in that jurisdiction not treating animals properly, where as the percentage might show the opposite.\n"
     ]
    }
   ],
   "source": [
    "print(\"Overall, I think the questions are properly posed to get specific information about the data\")\n",
    "print(\"So we see that Torrance only has one record. We might want to provide the same data in Problem 2 to our customers but filter out where intakes are less than 2 or 3.\")\n",
    "print(\"We might also want to show data for Signal Hill, Cerritos and Long Beach (ie the jurisdictions with the most intakes), and then all the rest.\")\n",
    "print(\"Lastly, we would want to know the total animal population of jurisdictions like Long Beach and calculate a percentage, rather than raw numbers, as the raw number might be perceived as people in that jurisdiction not treating animals properly, where as the percentage might show the opposite.\")"
   ]
  },
  {
   "cell_type": "markdown",
   "id": "afbff300",
   "metadata": {},
   "source": [
    "### Problem 3: Pets returned to owner in Long Beach"
   ]
  },
  {
   "cell_type": "markdown",
   "id": "ad1da543",
   "metadata": {},
   "source": [
    "For this problem, only consider instances where the jurisdiction is Long Beach and the outcome is that the animal was returned to owner."
   ]
  },
  {
   "cell_type": "markdown",
   "id": "b7e00abb",
   "metadata": {},
   "source": [
    "#### (a) How many animals?\n",
    "\n",
    "How many records are there from Long Beach where the animal was returned to owner?"
   ]
  },
  {
   "cell_type": "code",
   "execution_count": 113,
   "id": "3794b7a6",
   "metadata": {
    "ExecuteTime": {
     "end_time": "2025-01-27T05:33:24.764490Z",
     "start_time": "2025-01-27T05:33:24.753027Z"
    }
   },
   "outputs": [
    {
     "name": "stdout",
     "output_type": "stream",
     "text": [
      "There are 0 records from Long Beach where the animal was returned to owner.\n"
     ]
    }
   ],
   "source": [
    "# Filter for Long Beach and records where the animal was returned to owner\n",
    "long_beach_returned = df_filtered[(df_filtered['Jurisdiction'] == 'LONG BEACH') & \n",
    "                                  (df_filtered['Outcome Type'] == 'Returned to Owner')]\n",
    "\n",
    "# Count the number of records\n",
    "count_long_beach_returned = long_beach_returned.shape[0]\n",
    "\n",
    "print(f\"There are {count_long_beach_returned} records from Long Beach where the animal was returned to owner.\")"
   ]
  },
  {
   "cell_type": "code",
   "execution_count": 114,
   "id": "e9b97fec",
   "metadata": {
    "ExecuteTime": {
     "end_time": "2025-01-27T05:33:24.796640Z",
     "start_time": "2025-01-27T05:33:24.765508Z"
    }
   },
   "outputs": [
    {
     "data": {
      "text/html": [
       "<div>\n",
       "<style scoped>\n",
       "    .dataframe tbody tr th:only-of-type {\n",
       "        vertical-align: middle;\n",
       "    }\n",
       "\n",
       "    .dataframe tbody tr th {\n",
       "        vertical-align: top;\n",
       "    }\n",
       "\n",
       "    .dataframe thead th {\n",
       "        text-align: right;\n",
       "    }\n",
       "</style>\n",
       "<table border=\"1\" class=\"dataframe\">\n",
       "  <thead>\n",
       "    <tr style=\"text-align: right;\">\n",
       "      <th></th>\n",
       "      <th>Animal ID</th>\n",
       "      <th>Animal Name</th>\n",
       "      <th>Animal Type</th>\n",
       "      <th>Primary Color</th>\n",
       "      <th>Secondary Color</th>\n",
       "      <th>Sex</th>\n",
       "      <th>DOB</th>\n",
       "      <th>Age</th>\n",
       "      <th>Intake Date</th>\n",
       "      <th>Intake Condition</th>\n",
       "      <th>...</th>\n",
       "      <th>Jurisdiction</th>\n",
       "      <th>Outcome Type</th>\n",
       "      <th>Outcome Subtype</th>\n",
       "      <th>intake_is_dead</th>\n",
       "      <th>outcome_is_dead</th>\n",
       "      <th>was_outcome_alive</th>\n",
       "      <th>intake_date</th>\n",
       "      <th>outcome_date</th>\n",
       "      <th>DOB_parsed</th>\n",
       "      <th>season</th>\n",
       "    </tr>\n",
       "  </thead>\n",
       "  <tbody>\n",
       "    <tr>\n",
       "      <th>0</th>\n",
       "      <td>A002500</td>\n",
       "      <td>PENELOPE</td>\n",
       "      <td>DOG</td>\n",
       "      <td>WHITE</td>\n",
       "      <td>NaN</td>\n",
       "      <td>Spayed</td>\n",
       "      <td>2008-12-09</td>\n",
       "      <td>14.0</td>\n",
       "      <td>2017-07-02</td>\n",
       "      <td>NORMAL</td>\n",
       "      <td>...</td>\n",
       "      <td>LONG BEACH</td>\n",
       "      <td>RETURN TO OWNER</td>\n",
       "      <td>FRE RID HM</td>\n",
       "      <td>Alive on Intake</td>\n",
       "      <td>False</td>\n",
       "      <td>1</td>\n",
       "      <td>2017-07-02</td>\n",
       "      <td>2017-07-03</td>\n",
       "      <td>2008-12-09</td>\n",
       "      <td>Summer</td>\n",
       "    </tr>\n",
       "    <tr>\n",
       "      <th>2</th>\n",
       "      <td>A234250</td>\n",
       "      <td>NINA</td>\n",
       "      <td>DOG</td>\n",
       "      <td>BR BRINDLE</td>\n",
       "      <td>NaN</td>\n",
       "      <td>Spayed</td>\n",
       "      <td>2008-08-01</td>\n",
       "      <td>15.0</td>\n",
       "      <td>2018-06-01</td>\n",
       "      <td>ILL SEVERE</td>\n",
       "      <td>...</td>\n",
       "      <td>LONG BEACH</td>\n",
       "      <td>EUTHANASIA</td>\n",
       "      <td>ILL SEVERE</td>\n",
       "      <td>Alive on Intake</td>\n",
       "      <td>True</td>\n",
       "      <td>0</td>\n",
       "      <td>2018-06-01</td>\n",
       "      <td>2018-06-07</td>\n",
       "      <td>2008-08-01</td>\n",
       "      <td>Summer</td>\n",
       "    </tr>\n",
       "    <tr>\n",
       "      <th>3</th>\n",
       "      <td>A238953</td>\n",
       "      <td>CECE</td>\n",
       "      <td>DOG</td>\n",
       "      <td>BUFF</td>\n",
       "      <td>NaN</td>\n",
       "      <td>Female</td>\n",
       "      <td>2013-07-17</td>\n",
       "      <td>10.0</td>\n",
       "      <td>2017-01-03</td>\n",
       "      <td>NORMAL</td>\n",
       "      <td>...</td>\n",
       "      <td>LONG BEACH</td>\n",
       "      <td>RETURN TO OWNER</td>\n",
       "      <td>FRE RID HM</td>\n",
       "      <td>Alive on Intake</td>\n",
       "      <td>False</td>\n",
       "      <td>1</td>\n",
       "      <td>2017-01-03</td>\n",
       "      <td>2017-01-03</td>\n",
       "      <td>2013-07-17</td>\n",
       "      <td>Winter</td>\n",
       "    </tr>\n",
       "    <tr>\n",
       "      <th>4</th>\n",
       "      <td>A242600</td>\n",
       "      <td>BARBY</td>\n",
       "      <td>DOG</td>\n",
       "      <td>BLACK</td>\n",
       "      <td>NaN</td>\n",
       "      <td>Spayed</td>\n",
       "      <td>2007-10-27</td>\n",
       "      <td>15.0</td>\n",
       "      <td>2020-11-18</td>\n",
       "      <td>NORMAL</td>\n",
       "      <td>...</td>\n",
       "      <td>LONG BEACH</td>\n",
       "      <td>RESCUE</td>\n",
       "      <td>LIVELOVE</td>\n",
       "      <td>Alive on Intake</td>\n",
       "      <td>False</td>\n",
       "      <td>1</td>\n",
       "      <td>2020-11-18</td>\n",
       "      <td>2020-11-19</td>\n",
       "      <td>2007-10-27</td>\n",
       "      <td>Fall</td>\n",
       "    </tr>\n",
       "    <tr>\n",
       "      <th>6</th>\n",
       "      <td>A282135</td>\n",
       "      <td>WHISKEY</td>\n",
       "      <td>DOG</td>\n",
       "      <td>WHITE</td>\n",
       "      <td>NaN</td>\n",
       "      <td>Neutered</td>\n",
       "      <td>2003-07-07</td>\n",
       "      <td>20.0</td>\n",
       "      <td>2021-02-06</td>\n",
       "      <td>INJURED  MILD</td>\n",
       "      <td>...</td>\n",
       "      <td>LONG BEACH</td>\n",
       "      <td>RETURN TO OWNER</td>\n",
       "      <td>MICROCHIP</td>\n",
       "      <td>Alive on Intake</td>\n",
       "      <td>False</td>\n",
       "      <td>1</td>\n",
       "      <td>2021-02-06</td>\n",
       "      <td>2021-02-06</td>\n",
       "      <td>2003-07-07</td>\n",
       "      <td>Winter</td>\n",
       "    </tr>\n",
       "    <tr>\n",
       "      <th>...</th>\n",
       "      <td>...</td>\n",
       "      <td>...</td>\n",
       "      <td>...</td>\n",
       "      <td>...</td>\n",
       "      <td>...</td>\n",
       "      <td>...</td>\n",
       "      <td>...</td>\n",
       "      <td>...</td>\n",
       "      <td>...</td>\n",
       "      <td>...</td>\n",
       "      <td>...</td>\n",
       "      <td>...</td>\n",
       "      <td>...</td>\n",
       "      <td>...</td>\n",
       "      <td>...</td>\n",
       "      <td>...</td>\n",
       "      <td>...</td>\n",
       "      <td>...</td>\n",
       "      <td>...</td>\n",
       "      <td>...</td>\n",
       "      <td>...</td>\n",
       "    </tr>\n",
       "    <tr>\n",
       "      <th>39871</th>\n",
       "      <td>A707188</td>\n",
       "      <td>NaN</td>\n",
       "      <td>CAT</td>\n",
       "      <td>BRN TABBY</td>\n",
       "      <td>NaN</td>\n",
       "      <td>Male</td>\n",
       "      <td>2018-09-20</td>\n",
       "      <td>5.0</td>\n",
       "      <td>2023-09-20</td>\n",
       "      <td>ILL SEVERE</td>\n",
       "      <td>...</td>\n",
       "      <td>LONG BEACH</td>\n",
       "      <td>NaN</td>\n",
       "      <td>NaN</td>\n",
       "      <td>Alive on Intake</td>\n",
       "      <td>False</td>\n",
       "      <td>1</td>\n",
       "      <td>2023-09-20</td>\n",
       "      <td>NaT</td>\n",
       "      <td>2018-09-20</td>\n",
       "      <td>Fall</td>\n",
       "    </tr>\n",
       "    <tr>\n",
       "      <th>39872</th>\n",
       "      <td>A707191</td>\n",
       "      <td>*BOBBY BROWN</td>\n",
       "      <td>CAT</td>\n",
       "      <td>GRAY</td>\n",
       "      <td>BROWN</td>\n",
       "      <td>Neutered</td>\n",
       "      <td>2016-09-22</td>\n",
       "      <td>7.0</td>\n",
       "      <td>2023-09-20</td>\n",
       "      <td>ILL MODERATETE</td>\n",
       "      <td>...</td>\n",
       "      <td>LONG BEACH</td>\n",
       "      <td>NaN</td>\n",
       "      <td>NaN</td>\n",
       "      <td>Alive on Intake</td>\n",
       "      <td>False</td>\n",
       "      <td>1</td>\n",
       "      <td>2023-09-20</td>\n",
       "      <td>NaT</td>\n",
       "      <td>2016-09-22</td>\n",
       "      <td>Fall</td>\n",
       "    </tr>\n",
       "    <tr>\n",
       "      <th>39875</th>\n",
       "      <td>A707411</td>\n",
       "      <td>*RUSSEL</td>\n",
       "      <td>BIRD</td>\n",
       "      <td>BLACK</td>\n",
       "      <td>NaN</td>\n",
       "      <td>Unknown</td>\n",
       "      <td>2022-09-23</td>\n",
       "      <td>1.0</td>\n",
       "      <td>2023-09-23</td>\n",
       "      <td>ILL SEVERE</td>\n",
       "      <td>...</td>\n",
       "      <td>LONG BEACH</td>\n",
       "      <td>EUTHANASIA</td>\n",
       "      <td>ILL SEVERE</td>\n",
       "      <td>Alive on Intake</td>\n",
       "      <td>True</td>\n",
       "      <td>0</td>\n",
       "      <td>2023-09-23</td>\n",
       "      <td>2023-09-23</td>\n",
       "      <td>2022-09-23</td>\n",
       "      <td>Fall</td>\n",
       "    </tr>\n",
       "    <tr>\n",
       "      <th>39877</th>\n",
       "      <td>A707460</td>\n",
       "      <td>*SALLY</td>\n",
       "      <td>DOG</td>\n",
       "      <td>WHITE</td>\n",
       "      <td>NaN</td>\n",
       "      <td>Female</td>\n",
       "      <td>2015-09-23</td>\n",
       "      <td>8.0</td>\n",
       "      <td>2023-09-23</td>\n",
       "      <td>AGED</td>\n",
       "      <td>...</td>\n",
       "      <td>LONG BEACH</td>\n",
       "      <td>NaN</td>\n",
       "      <td>NaN</td>\n",
       "      <td>Alive on Intake</td>\n",
       "      <td>False</td>\n",
       "      <td>1</td>\n",
       "      <td>2023-09-23</td>\n",
       "      <td>NaT</td>\n",
       "      <td>2015-09-23</td>\n",
       "      <td>Fall</td>\n",
       "    </tr>\n",
       "    <tr>\n",
       "      <th>39878</th>\n",
       "      <td>A707477</td>\n",
       "      <td>NaN</td>\n",
       "      <td>WILD</td>\n",
       "      <td>BROWN</td>\n",
       "      <td>NaN</td>\n",
       "      <td>Unknown</td>\n",
       "      <td>2022-09-23</td>\n",
       "      <td>1.0</td>\n",
       "      <td>2023-09-23</td>\n",
       "      <td>ILL SEVERE</td>\n",
       "      <td>...</td>\n",
       "      <td>LONG BEACH</td>\n",
       "      <td>DIED</td>\n",
       "      <td>ENROUTE</td>\n",
       "      <td>Alive on Intake</td>\n",
       "      <td>True</td>\n",
       "      <td>0</td>\n",
       "      <td>2023-09-23</td>\n",
       "      <td>2023-09-23</td>\n",
       "      <td>2022-09-23</td>\n",
       "      <td>Fall</td>\n",
       "    </tr>\n",
       "  </tbody>\n",
       "</table>\n",
       "<p>28005 rows × 25 columns</p>\n",
       "</div>"
      ],
      "text/plain": [
       "      Animal ID   Animal Name Animal Type Primary Color Secondary Color  \\\n",
       "0       A002500      PENELOPE         DOG         WHITE             NaN   \n",
       "2       A234250          NINA         DOG    BR BRINDLE             NaN   \n",
       "3       A238953          CECE         DOG          BUFF             NaN   \n",
       "4       A242600         BARBY         DOG         BLACK             NaN   \n",
       "6       A282135       WHISKEY         DOG         WHITE             NaN   \n",
       "...         ...           ...         ...           ...             ...   \n",
       "39871   A707188           NaN         CAT     BRN TABBY             NaN   \n",
       "39872   A707191  *BOBBY BROWN         CAT          GRAY           BROWN   \n",
       "39875   A707411       *RUSSEL        BIRD         BLACK             NaN   \n",
       "39877   A707460        *SALLY         DOG         WHITE             NaN   \n",
       "39878   A707477           NaN        WILD         BROWN             NaN   \n",
       "\n",
       "            Sex         DOB   Age Intake Date Intake Condition  ...  \\\n",
       "0        Spayed  2008-12-09  14.0  2017-07-02           NORMAL  ...   \n",
       "2        Spayed  2008-08-01  15.0  2018-06-01       ILL SEVERE  ...   \n",
       "3        Female  2013-07-17  10.0  2017-01-03           NORMAL  ...   \n",
       "4        Spayed  2007-10-27  15.0  2020-11-18           NORMAL  ...   \n",
       "6      Neutered  2003-07-07  20.0  2021-02-06    INJURED  MILD  ...   \n",
       "...         ...         ...   ...         ...              ...  ...   \n",
       "39871      Male  2018-09-20   5.0  2023-09-20       ILL SEVERE  ...   \n",
       "39872  Neutered  2016-09-22   7.0  2023-09-20   ILL MODERATETE  ...   \n",
       "39875   Unknown  2022-09-23   1.0  2023-09-23       ILL SEVERE  ...   \n",
       "39877    Female  2015-09-23   8.0  2023-09-23             AGED  ...   \n",
       "39878   Unknown  2022-09-23   1.0  2023-09-23       ILL SEVERE  ...   \n",
       "\n",
       "      Jurisdiction     Outcome Type Outcome Subtype   intake_is_dead  \\\n",
       "0       LONG BEACH  RETURN TO OWNER      FRE RID HM  Alive on Intake   \n",
       "2       LONG BEACH       EUTHANASIA      ILL SEVERE  Alive on Intake   \n",
       "3       LONG BEACH  RETURN TO OWNER      FRE RID HM  Alive on Intake   \n",
       "4       LONG BEACH           RESCUE        LIVELOVE  Alive on Intake   \n",
       "6       LONG BEACH  RETURN TO OWNER       MICROCHIP  Alive on Intake   \n",
       "...            ...              ...             ...              ...   \n",
       "39871   LONG BEACH              NaN             NaN  Alive on Intake   \n",
       "39872   LONG BEACH              NaN             NaN  Alive on Intake   \n",
       "39875   LONG BEACH       EUTHANASIA      ILL SEVERE  Alive on Intake   \n",
       "39877   LONG BEACH              NaN             NaN  Alive on Intake   \n",
       "39878   LONG BEACH             DIED         ENROUTE  Alive on Intake   \n",
       "\n",
       "      outcome_is_dead was_outcome_alive intake_date outcome_date DOB_parsed  \\\n",
       "0               False                 1  2017-07-02   2017-07-03 2008-12-09   \n",
       "2                True                 0  2018-06-01   2018-06-07 2008-08-01   \n",
       "3               False                 1  2017-01-03   2017-01-03 2013-07-17   \n",
       "4               False                 1  2020-11-18   2020-11-19 2007-10-27   \n",
       "6               False                 1  2021-02-06   2021-02-06 2003-07-07   \n",
       "...               ...               ...         ...          ...        ...   \n",
       "39871           False                 1  2023-09-20          NaT 2018-09-20   \n",
       "39872           False                 1  2023-09-20          NaT 2016-09-22   \n",
       "39875            True                 0  2023-09-23   2023-09-23 2022-09-23   \n",
       "39877           False                 1  2023-09-23          NaT 2015-09-23   \n",
       "39878            True                 0  2023-09-23   2023-09-23 2022-09-23   \n",
       "\n",
       "       season  \n",
       "0      Summer  \n",
       "2      Summer  \n",
       "3      Winter  \n",
       "4        Fall  \n",
       "6      Winter  \n",
       "...       ...  \n",
       "39871    Fall  \n",
       "39872    Fall  \n",
       "39875    Fall  \n",
       "39877    Fall  \n",
       "39878    Fall  \n",
       "\n",
       "[28005 rows x 25 columns]"
      ]
     },
     "execution_count": 114,
     "metadata": {},
     "output_type": "execute_result"
    }
   ],
   "source": [
    "# Let's make sure the above data is correct\n",
    "df_filtered[(df_filtered['Jurisdiction'] == 'LONG BEACH')]"
   ]
  },
  {
   "cell_type": "code",
   "execution_count": 115,
   "id": "9f94de55",
   "metadata": {
    "ExecuteTime": {
     "end_time": "2025-01-27T05:33:24.814925Z",
     "start_time": "2025-01-27T05:33:24.797650Z"
    }
   },
   "outputs": [
    {
     "name": "stdout",
     "output_type": "stream",
     "text": [
      "There are 3,626 records from Long Beach where the animal was returned to owner.\n"
     ]
    }
   ],
   "source": [
    "# We took the question as literal, but it does not match the data. \n",
    "# Need to use 'RETURN TO OWNER' instead\n",
    "# Let's also make these all upper case to ensure we're not missing any with lowercase\n",
    "# Filter for Long Beach and records where the animal was returned to owner\n",
    "long_beach_returned = df_filtered[(df_filtered['Jurisdiction'].str.upper() == 'LONG BEACH') & \n",
    "                                  (df_filtered['Outcome Type'].str.upper() == 'RETURN TO OWNER')]\n",
    "\n",
    "# Count the number of records\n",
    "count_long_beach_returned = long_beach_returned.shape[0]\n",
    "\n",
    "print(f\"There are {count_long_beach_returned:,} records from Long Beach where the animal was returned to owner.\")"
   ]
  },
  {
   "cell_type": "markdown",
   "id": "d184b777",
   "metadata": {},
   "source": [
    "#### (b) How many types of animals?\n",
    "\n",
    "How many types of animals are in these records?"
   ]
  },
  {
   "cell_type": "code",
   "execution_count": 116,
   "id": "64ecb953",
   "metadata": {
    "ExecuteTime": {
     "end_time": "2025-01-27T05:33:24.830698Z",
     "start_time": "2025-01-27T05:33:24.817942Z"
    }
   },
   "outputs": [
    {
     "name": "stdout",
     "output_type": "stream",
     "text": [
      "There are 7 unique animal types in 'RETURN TO OWNER' records:\n",
      "['DOG' 'CAT' 'BIRD' 'REPTILE' 'RABBIT' 'OTHER' 'WILD']\n"
     ]
    }
   ],
   "source": [
    "# Filter for records where the animal was returned to owner\n",
    "returned_to_owner = df_filtered[df_filtered['Outcome Type'].str.upper() == 'RETURN TO OWNER']\n",
    "\n",
    "# Get the unique animal types for those records\n",
    "unique_animal_types = returned_to_owner['Animal Type'].unique()\n",
    "unique_animal_count = returned_to_owner['Animal Type'].nunique()\n",
    "\n",
    "print(f\"There are {unique_animal_count} unique animal types in 'RETURN TO OWNER' records:\")\n",
    "print(unique_animal_types)"
   ]
  },
  {
   "cell_type": "markdown",
   "id": "ccfb5389",
   "metadata": {},
   "source": [
    "#### (c) Which types of animals?\n",
    "\n",
    "Which types of animals are present in the entire data set that are not present when looking at instances where the jurisdiction is Long Beach and the outcome is that the animal was returned to owner?"
   ]
  },
  {
   "cell_type": "code",
   "execution_count": 117,
   "id": "97f5a7fb",
   "metadata": {
    "ExecuteTime": {
     "end_time": "2025-01-27T05:33:24.858151Z",
     "start_time": "2025-01-27T05:33:24.831705Z"
    }
   },
   "outputs": [
    {
     "name": "stdout",
     "output_type": "stream",
     "text": [
      "Animal types present in the entire dataset but not in Long Beach 'RETURN TO OWNER':\n",
      "['AMPHIBIAN', 'LIVESTOCK', 'GUINEA PIG']\n"
     ]
    }
   ],
   "source": [
    "# Get the unique animal types in the entire dataset\n",
    "all_animal_types = df_filtered['Animal Type'].unique()\n",
    "\n",
    "# Get the unique animal types in Long Beach with 'RETURN TO OWNER' outcome\n",
    "long_beach_returned_animal_types = df_filtered[(df_filtered['Jurisdiction'].str.upper() == 'LONG BEACH') & \n",
    "                                               (df_filtered['Outcome Type'].str.upper() == 'RETURN TO OWNER')]['Animal Type'].unique()\n",
    "\n",
    "# Find the animal types that are in the entire dataset but not in the Long Beach 'RETURN TO OWNER' subset\n",
    "missing_animal_types = list(set(all_animal_types) - set(long_beach_returned_animal_types))\n",
    "\n",
    "print(f\"Animal types present in the entire dataset but not in Long Beach 'RETURN TO OWNER':\")\n",
    "print(missing_animal_types)"
   ]
  },
  {
   "cell_type": "markdown",
   "id": "8f97bc2f",
   "metadata": {},
   "source": [
    "#### (d) How many of each type of animals?\n",
    "\n",
    "How many unique animals (not records) are there for each animal from Long Beach where the animal was returned to owner?"
   ]
  },
  {
   "cell_type": "code",
   "execution_count": 118,
   "id": "dedd4b27",
   "metadata": {
    "ExecuteTime": {
     "end_time": "2025-01-27T05:33:24.891248Z",
     "start_time": "2025-01-27T05:33:24.860305Z"
    }
   },
   "outputs": [
    {
     "name": "stdout",
     "output_type": "stream",
     "text": [
      "Unique Animal IDs in Long Beach that have been returned to owner: 3,288\n"
     ]
    }
   ],
   "source": [
    "# Again, this could be ambiguous, but I interpret it to mean by Animal IDs\n",
    "\n",
    "# Get the unique animal types in Long Beach with 'RETURN TO OWNER' outcome\n",
    "long_beach_returned_animal_ids = df_filtered[(df_filtered['Jurisdiction'].str.upper() == 'LONG BEACH') & \n",
    "                                             (df_filtered['Outcome Type'].str.upper() == 'RETURN TO OWNER')]['Animal ID'].unique()\n",
    "\n",
    "print(f\"Unique Animal IDs in Long Beach that have been returned to owner: {len(long_beach_returned_animal_ids):,}\")"
   ]
  },
  {
   "cell_type": "markdown",
   "id": "6246f68a",
   "metadata": {},
   "source": [
    "#### (e) Decreases during COVID\n",
    "\n",
    "Did all animal types see a decrease in intakes during 2020 compared to their pre-2020 annual average? Which animal types saw the largest numerical drop and the largest percent drop?"
   ]
  },
  {
   "cell_type": "code",
   "execution_count": 119,
   "id": "218cf165",
   "metadata": {
    "ExecuteTime": {
     "end_time": "2025-01-27T05:33:24.923047Z",
     "start_time": "2025-01-27T05:33:24.893300Z"
    }
   },
   "outputs": [
    {
     "name": "stdout",
     "output_type": "stream",
     "text": [
      "Animal type with largest numerical drop: DOG (1,016 animals)\n",
      "Animal type with largest percent drop: REPTILE (69.29%)\n"
     ]
    },
    {
     "data": {
      "text/html": [
       "<div>\n",
       "<style scoped>\n",
       "    .dataframe tbody tr th:only-of-type {\n",
       "        vertical-align: middle;\n",
       "    }\n",
       "\n",
       "    .dataframe tbody tr th {\n",
       "        vertical-align: top;\n",
       "    }\n",
       "\n",
       "    .dataframe thead th {\n",
       "        text-align: right;\n",
       "    }\n",
       "</style>\n",
       "<table border=\"1\" class=\"dataframe\">\n",
       "  <thead>\n",
       "    <tr style=\"text-align: right;\">\n",
       "      <th></th>\n",
       "      <th>Pre-2020 Avg</th>\n",
       "      <th>2020 Intake</th>\n",
       "      <th>Numerical Drop</th>\n",
       "      <th>Percent Drop</th>\n",
       "    </tr>\n",
       "    <tr>\n",
       "      <th>Animal Type</th>\n",
       "      <th></th>\n",
       "      <th></th>\n",
       "      <th></th>\n",
       "      <th></th>\n",
       "    </tr>\n",
       "  </thead>\n",
       "  <tbody>\n",
       "    <tr>\n",
       "      <th>BIRD</th>\n",
       "      <td>208.333333</td>\n",
       "      <td>155</td>\n",
       "      <td>53.333333</td>\n",
       "      <td>25.600000</td>\n",
       "    </tr>\n",
       "    <tr>\n",
       "      <th>CAT</th>\n",
       "      <td>3151.666667</td>\n",
       "      <td>2169</td>\n",
       "      <td>982.666667</td>\n",
       "      <td>31.179270</td>\n",
       "    </tr>\n",
       "    <tr>\n",
       "      <th>DOG</th>\n",
       "      <td>2262.000000</td>\n",
       "      <td>1246</td>\n",
       "      <td>1016.000000</td>\n",
       "      <td>44.916004</td>\n",
       "    </tr>\n",
       "    <tr>\n",
       "      <th>GUINEA PIG</th>\n",
       "      <td>21.666667</td>\n",
       "      <td>18</td>\n",
       "      <td>3.666667</td>\n",
       "      <td>16.923077</td>\n",
       "    </tr>\n",
       "    <tr>\n",
       "      <th>LIVESTOCK</th>\n",
       "      <td>2.000000</td>\n",
       "      <td>1</td>\n",
       "      <td>1.000000</td>\n",
       "      <td>50.000000</td>\n",
       "    </tr>\n",
       "    <tr>\n",
       "      <th>OTHER</th>\n",
       "      <td>163.333333</td>\n",
       "      <td>138</td>\n",
       "      <td>25.333333</td>\n",
       "      <td>15.510204</td>\n",
       "    </tr>\n",
       "    <tr>\n",
       "      <th>RABBIT</th>\n",
       "      <td>88.333333</td>\n",
       "      <td>39</td>\n",
       "      <td>49.333333</td>\n",
       "      <td>55.849057</td>\n",
       "    </tr>\n",
       "    <tr>\n",
       "      <th>REPTILE</th>\n",
       "      <td>42.333333</td>\n",
       "      <td>13</td>\n",
       "      <td>29.333333</td>\n",
       "      <td>69.291339</td>\n",
       "    </tr>\n",
       "    <tr>\n",
       "      <th>WILD</th>\n",
       "      <td>134.333333</td>\n",
       "      <td>103</td>\n",
       "      <td>31.333333</td>\n",
       "      <td>23.325062</td>\n",
       "    </tr>\n",
       "  </tbody>\n",
       "</table>\n",
       "</div>"
      ],
      "text/plain": [
       "             Pre-2020 Avg  2020 Intake  Numerical Drop  Percent Drop\n",
       "Animal Type                                                         \n",
       "BIRD           208.333333          155       53.333333     25.600000\n",
       "CAT           3151.666667         2169      982.666667     31.179270\n",
       "DOG           2262.000000         1246     1016.000000     44.916004\n",
       "GUINEA PIG      21.666667           18        3.666667     16.923077\n",
       "LIVESTOCK        2.000000            1        1.000000     50.000000\n",
       "OTHER          163.333333          138       25.333333     15.510204\n",
       "RABBIT          88.333333           39       49.333333     55.849057\n",
       "REPTILE         42.333333           13       29.333333     69.291339\n",
       "WILD           134.333333          103       31.333333     23.325062"
      ]
     },
     "metadata": {},
     "output_type": "display_data"
    }
   ],
   "source": [
    "# Filter for records before 2020 and for the year 2020\n",
    "pre_2020_data = df_filtered[df_filtered['intake_date'].dt.year < 2020]\n",
    "year_2020_data = df_filtered[df_filtered['intake_date'].dt.year == 2020]\n",
    "\n",
    "# Calculate the annual intake count for each animal type before 2020 (average by year)\n",
    "pre_2020_avg = pre_2020_data.groupby(['Animal Type', pre_2020_data['intake_date'].dt.year])['intake_date'].count().groupby('Animal Type').mean()\n",
    "\n",
    "# Calculate the intake count for each animal type in 2020\n",
    "intake_2020 = year_2020_data.groupby('Animal Type')['intake_date'].count()\n",
    "\n",
    "# Combine both results into a single DataFrame\n",
    "comparison_df = pd.DataFrame({\n",
    "    'Pre-2020 Avg': pre_2020_avg,\n",
    "    '2020 Intake': intake_2020\n",
    "}).fillna(0)  # Handle cases where no data for a type in 2020\n",
    "\n",
    "# Calculate the absolute drop and the percent drop\n",
    "comparison_df['Numerical Drop'] = comparison_df['Pre-2020 Avg'] - comparison_df['2020 Intake']\n",
    "comparison_df['Percent Drop'] = (comparison_df['Numerical Drop'] / comparison_df['Pre-2020 Avg']) * 100\n",
    "\n",
    "# Find the animal types with the largest numerical and percent drops\n",
    "largest_numerical_drop = comparison_df['Numerical Drop'].idxmax()\n",
    "largest_percent_drop = comparison_df['Percent Drop'].idxmax()\n",
    "\n",
    "# Display results\n",
    "print(f\"Animal type with largest numerical drop: {largest_numerical_drop} ({int(comparison_df.loc[largest_numerical_drop, 'Numerical Drop']):,} animals)\")\n",
    "print(f\"Animal type with largest percent drop: {largest_percent_drop} ({comparison_df.loc[largest_percent_drop, 'Percent Drop']:.2f}%)\")\n",
    "\n",
    "# Display the comparison dataframe for review\n",
    "display(comparison_df)\n"
   ]
  },
  {
   "cell_type": "code",
   "execution_count": 120,
   "id": "1cdab65d",
   "metadata": {
    "ExecuteTime": {
     "end_time": "2025-01-27T05:33:24.929100Z",
     "start_time": "2025-01-27T05:33:24.924056Z"
    }
   },
   "outputs": [
    {
     "name": "stdout",
     "output_type": "stream",
     "text": [
      "Did all animal types experience a drop in intake pre- vs post-COVID? True\n"
     ]
    }
   ],
   "source": [
    "print(f\"Did all animal types experience a drop in intake pre- vs post-COVID? {(comparison_df['Percent Drop'] > 0).all()}\")"
   ]
  },
  {
   "cell_type": "markdown",
   "id": "bfd9d0ce",
   "metadata": {},
   "source": [
    "#### (f) Reflect and Question \n",
    "\n",
    "What are your thoughts on the questions (and answers) for problem 3? Were you able to answer all of these questions? Are all questions well-defined? Is the data good enough to answer all these?"
   ]
  },
  {
   "cell_type": "code",
   "execution_count": 121,
   "id": "34960883",
   "metadata": {
    "ExecuteTime": {
     "end_time": "2025-01-27T05:33:24.938306Z",
     "start_time": "2025-01-27T05:33:24.931107Z"
    }
   },
   "outputs": [
    {
     "name": "stdout",
     "output_type": "stream",
     "text": [
      "I was able to answer all the questions with the data. I did not see any major issues with the data.\n",
      "The data for Livestock is not sufficient enough to draw conclusions on pre- and post-COVID.\n",
      "The questions seem to be well defined.\n"
     ]
    }
   ],
   "source": [
    "print(\"I was able to answer all the questions with the data. I did not see any major issues with the data.\")\n",
    "print(\"The data for Livestock is not sufficient enough to draw conclusions on pre- and post-COVID.\")\n",
    "print(\"The questions seem to be well defined.\")"
   ]
  }
 ],
 "metadata": {
  "celltoolbar": "Initialization Cell",
  "kernelspec": {
   "display_name": "Python 3 (ipykernel)",
   "language": "python",
   "name": "python3"
  },
  "language_info": {
   "codemirror_mode": {
    "name": "ipython",
    "version": 3
   },
   "file_extension": ".py",
   "mimetype": "text/x-python",
   "name": "python",
   "nbconvert_exporter": "python",
   "pygments_lexer": "ipython3",
   "version": "3.11.6"
  },
  "toc": {
   "base_numbering": 1,
   "nav_menu": {},
   "number_sections": true,
   "sideBar": true,
   "skip_h1_title": false,
   "title_cell": "Table of Contents",
   "title_sidebar": "Contents",
   "toc_cell": false,
   "toc_position": {},
   "toc_section_display": true,
   "toc_window_display": false
  }
 },
 "nbformat": 4,
 "nbformat_minor": 5
}

{
 "cells": [
  {
   "cell_type": "markdown",
   "id": "1461b6bb",
   "metadata": {},
   "source": [
    "# IMT 573 - Problem Set 6 - Statistical Learning"
   ]
  },
  {
   "cell_type": "markdown",
   "id": "1cf60757",
   "metadata": {},
   "source": [
    "### Instructions\n",
    "\n",
    "Before beginning this assignment, please ensure you have access to a working instance of Jupyter Notebooks with Python 3.\n",
    "\n",
    "1. First, replace the “YOUR NAME HERE” text in the next cell with your own full name. Any collaborators must also be listed in this cell.\n",
    "\n",
    "2. Be sure to include well-documented (e.g. commented) code cells, figures, and clearly written text  explanations as necessary. Any figures should be clearly labeled and appropriately referenced within the text. Be sure that each visualization adds value to your written explanation; avoid redundancy – you do no need four different visualizations of the same pattern.\n",
    "\n",
    "3. Collaboration on problem sets and labs is fun, useful, and encouraged. However, each student must turn in an individual write-up in their own words as well as code/work that is their own. Regardless of whether you work with others, what you turn in must be your own work; this includes code and interpretation of results. The names of all collaborators must be listed on each assignment. Do not copy-and-paste from other students’ responses or code - your code should never be on any other student's screen or machine.\n",
    "\n",
    "4. All materials and resources that you use (with the exception of lecture slides) must be appropriately referenced within your assignment.\n",
    "\n",
    "5. Partial credit will be awarded for each question for which a serious attempt at finding an answer has been shown. Students are *strongly* encouraged to attempt each question and document their reasoning process even if they cannot find the correct answer. \n",
    "\n",
    "6. After completing the assignment, ensure that your code can run from start to finish without issue. Restart the kernal and run all cells to double check."
   ]
  },
  {
   "cell_type": "markdown",
   "id": "aadc8a3b",
   "metadata": {},
   "source": [
    "Name: Steve Gonzales Collaborators: None "
   ]
  },
  {
   "cell_type": "markdown",
   "id": "96d9bc8b",
   "metadata": {},
   "source": [
    "For this assignment, you'll need (at least) the following packages. If the package does not load, be sure it is properly installed."
   ]
  },
  {
   "cell_type": "code",
   "execution_count": 12,
   "id": "1ea893fd",
   "metadata": {
    "ExecuteTime": {
     "end_time": "2025-02-17T06:39:12.297873Z",
     "start_time": "2025-02-17T06:39:12.278404Z"
    }
   },
   "outputs": [],
   "source": [
    "import pandas as pd\n",
    "import numpy as np\n",
    "import matplotlib.pyplot as plt\n",
    "import seaborn as sns\n",
    "from scipy import stats"
   ]
  },
  {
   "cell_type": "markdown",
   "id": "2fff2fc9",
   "metadata": {},
   "source": [
    "To gain some context for this problem set, read the below quote from [this paper](https://www.jstor.org/stable/41465842):\n",
    "\n",
    "_Regression analysis, one of the most useful techniques in statistics, is applied in many disparate situations. It is used to explain the influence an independent variable may have on the variability of outcome variances. This technique serves us well not only in explaining variability, but also in projecting the future. The label regression survives, buts its backward connotation is too narrow to properly describe how the technique is used today. In fact, the name came about much later than the method itself, and was coined by Francis Galton in his study of eugenics. He was trying to explain data that showed that offspring of tall parents were, on average, not as tall as their parents, and, at the same time, the offspring of short parents were, on average, not as short as their parents, even though the generational average remained the same. This phenomenon, where the offspring might be viewed as tending toward the population average, is presently referred to as regression toward the mean,\n",
    "although it started off as \"regression to mediocrity\". Galton explained this phenomenon in great detail in 1886, and it was later exemplified by a study that was the subject of a seminal paper by Karl Pearson and Alice Lee._\n",
    "\n",
    "It must be noted that the study of eugenics and the optimization of human gene pools has since been deemed unscientific, unethical, and racially biased. It is not a focus for this problem set. \n",
    "\n",
    "Instead, we will focus on the phenomenon of genetic inheritance. Specifically, we will analyze the dataset of fathers' and sons' heights used by Pearson and Lee (as referenced in the quote above). It contains two variables, fathers' height and sons' height. If you take a simple mean, you see that on average sons are taller than fathers. But can this difference just be due to chance?"
   ]
  },
  {
   "cell_type": "markdown",
   "id": "3d9c6306",
   "metadata": {},
   "source": [
    "### Problem 1: Load and examine data\n",
    "\n",
    "#### (a) Load the data\n",
    "\n",
    "Load the data from the `fatherson.csv` file. Describe what you see in the data. Units aren't given for the columns - given your understanding of human height, what unit do you think the data uses? Are there any missing data or data that appear to be erroneous?"
   ]
  },
  {
   "cell_type": "code",
   "execution_count": 13,
   "id": "94d5fe71",
   "metadata": {
    "ExecuteTime": {
     "end_time": "2025-02-17T06:39:12.360327Z",
     "start_time": "2025-02-17T06:39:12.300387Z"
    }
   },
   "outputs": [
    {
     "data": {
      "text/html": [
       "<div>\n",
       "<style scoped>\n",
       "    .dataframe tbody tr th:only-of-type {\n",
       "        vertical-align: middle;\n",
       "    }\n",
       "\n",
       "    .dataframe tbody tr th {\n",
       "        vertical-align: top;\n",
       "    }\n",
       "\n",
       "    .dataframe thead th {\n",
       "        text-align: right;\n",
       "    }\n",
       "</style>\n",
       "<table border=\"1\" class=\"dataframe\">\n",
       "  <thead>\n",
       "    <tr style=\"text-align: right;\">\n",
       "      <th></th>\n",
       "      <th>fheight\\tsheight</th>\n",
       "    </tr>\n",
       "  </thead>\n",
       "  <tbody>\n",
       "    <tr>\n",
       "      <th>0</th>\n",
       "      <td>165.2\\t151.8</td>\n",
       "    </tr>\n",
       "    <tr>\n",
       "      <th>1</th>\n",
       "      <td>160.7\\t160.6</td>\n",
       "    </tr>\n",
       "    <tr>\n",
       "      <th>2</th>\n",
       "      <td>165\\t160.9</td>\n",
       "    </tr>\n",
       "    <tr>\n",
       "      <th>3</th>\n",
       "      <td>167\\t159.5</td>\n",
       "    </tr>\n",
       "    <tr>\n",
       "      <th>4</th>\n",
       "      <td>155.3\\t163.3</td>\n",
       "    </tr>\n",
       "    <tr>\n",
       "      <th>5</th>\n",
       "      <td>160.1\\t163.2</td>\n",
       "    </tr>\n",
       "    <tr>\n",
       "      <th>6</th>\n",
       "      <td>166\\t162.8</td>\n",
       "    </tr>\n",
       "    <tr>\n",
       "      <th>7</th>\n",
       "      <td>164.4\\t162.5</td>\n",
       "    </tr>\n",
       "    <tr>\n",
       "      <th>8</th>\n",
       "      <td>167.8\\t164.1</td>\n",
       "    </tr>\n",
       "    <tr>\n",
       "      <th>9</th>\n",
       "      <td>170.1\\t162.5</td>\n",
       "    </tr>\n",
       "  </tbody>\n",
       "</table>\n",
       "</div>"
      ],
      "text/plain": [
       "  fheight\\tsheight\n",
       "0     165.2\\t151.8\n",
       "1     160.7\\t160.6\n",
       "2       165\\t160.9\n",
       "3       167\\t159.5\n",
       "4     155.3\\t163.3\n",
       "5     160.1\\t163.2\n",
       "6       166\\t162.8\n",
       "7     164.4\\t162.5\n",
       "8     167.8\\t164.1\n",
       "9     170.1\\t162.5"
      ]
     },
     "execution_count": 13,
     "metadata": {},
     "output_type": "execute_result"
    }
   ],
   "source": [
    "df_fatherson = pd.read_csv('fatherson.csv')\n",
    "df_fatherson.head(10)"
   ]
  },
  {
   "cell_type": "markdown",
   "id": "c9f4ccbc",
   "metadata": {},
   "source": [
    "The data is jammed into a single column with what is the notation for a tab (char(9)).<p>\n",
    "The data looks to be in centimeters (cm)."
   ]
  },
  {
   "cell_type": "code",
   "execution_count": 14,
   "id": "11d34fc7",
   "metadata": {
    "ExecuteTime": {
     "end_time": "2025-02-17T06:39:12.406329Z",
     "start_time": "2025-02-17T06:39:12.363330Z"
    }
   },
   "outputs": [
    {
     "data": {
      "text/html": [
       "<div>\n",
       "<style scoped>\n",
       "    .dataframe tbody tr th:only-of-type {\n",
       "        vertical-align: middle;\n",
       "    }\n",
       "\n",
       "    .dataframe tbody tr th {\n",
       "        vertical-align: top;\n",
       "    }\n",
       "\n",
       "    .dataframe thead th {\n",
       "        text-align: right;\n",
       "    }\n",
       "</style>\n",
       "<table border=\"1\" class=\"dataframe\">\n",
       "  <thead>\n",
       "    <tr style=\"text-align: right;\">\n",
       "      <th></th>\n",
       "      <th>fheight\\tsheight</th>\n",
       "      <th>father</th>\n",
       "      <th>son</th>\n",
       "    </tr>\n",
       "  </thead>\n",
       "  <tbody>\n",
       "    <tr>\n",
       "      <th>0</th>\n",
       "      <td>165.2\\t151.8</td>\n",
       "      <td>165.2</td>\n",
       "      <td>151.8</td>\n",
       "    </tr>\n",
       "    <tr>\n",
       "      <th>1</th>\n",
       "      <td>160.7\\t160.6</td>\n",
       "      <td>160.7</td>\n",
       "      <td>160.6</td>\n",
       "    </tr>\n",
       "    <tr>\n",
       "      <th>2</th>\n",
       "      <td>165\\t160.9</td>\n",
       "      <td>165</td>\n",
       "      <td>160.9</td>\n",
       "    </tr>\n",
       "    <tr>\n",
       "      <th>3</th>\n",
       "      <td>167\\t159.5</td>\n",
       "      <td>167</td>\n",
       "      <td>159.5</td>\n",
       "    </tr>\n",
       "    <tr>\n",
       "      <th>4</th>\n",
       "      <td>155.3\\t163.3</td>\n",
       "      <td>155.3</td>\n",
       "      <td>163.3</td>\n",
       "    </tr>\n",
       "    <tr>\n",
       "      <th>...</th>\n",
       "      <td>...</td>\n",
       "      <td>...</td>\n",
       "      <td>...</td>\n",
       "    </tr>\n",
       "    <tr>\n",
       "      <th>1073</th>\n",
       "      <td>170.2\\t179.7</td>\n",
       "      <td>170.2</td>\n",
       "      <td>179.7</td>\n",
       "    </tr>\n",
       "    <tr>\n",
       "      <th>1074</th>\n",
       "      <td>181.2\\t173.4</td>\n",
       "      <td>181.2</td>\n",
       "      <td>173.4</td>\n",
       "    </tr>\n",
       "    <tr>\n",
       "      <th>1075</th>\n",
       "      <td>182.3\\t176</td>\n",
       "      <td>182.3</td>\n",
       "      <td>176</td>\n",
       "    </tr>\n",
       "    <tr>\n",
       "      <th>1076</th>\n",
       "      <td>179.7\\t176</td>\n",
       "      <td>179.7</td>\n",
       "      <td>176</td>\n",
       "    </tr>\n",
       "    <tr>\n",
       "      <th>1077</th>\n",
       "      <td>178.6\\t170.2</td>\n",
       "      <td>178.6</td>\n",
       "      <td>170.2</td>\n",
       "    </tr>\n",
       "  </tbody>\n",
       "</table>\n",
       "<p>1078 rows × 3 columns</p>\n",
       "</div>"
      ],
      "text/plain": [
       "     fheight\\tsheight father    son\n",
       "0        165.2\\t151.8  165.2  151.8\n",
       "1        160.7\\t160.6  160.7  160.6\n",
       "2          165\\t160.9    165  160.9\n",
       "3          167\\t159.5    167  159.5\n",
       "4        155.3\\t163.3  155.3  163.3\n",
       "...               ...    ...    ...\n",
       "1073     170.2\\t179.7  170.2  179.7\n",
       "1074     181.2\\t173.4  181.2  173.4\n",
       "1075       182.3\\t176  182.3    176\n",
       "1076       179.7\\t176  179.7    176\n",
       "1077     178.6\\t170.2  178.6  170.2\n",
       "\n",
       "[1078 rows x 3 columns]"
      ]
     },
     "metadata": {},
     "output_type": "display_data"
    },
    {
     "data": {
      "text/plain": [
       "fheight\\tsheight  father  son  \n",
       "163.9\\t173.6      163.9   173.6    2\n",
       "175.4\\t185.9      175.4   185.9    2\n",
       "176.7\\t181.9      176.7   181.9    2\n",
       "162.8\\t166.7      162.8   166.7    2\n",
       "173\\t170          173     170      2\n",
       "                                  ..\n",
       "169\\t168.8        169     168.8    1\n",
       "169\\t169.5        169     169.5    1\n",
       "169\\t171.3        169     171.3    1\n",
       "169\\t172.3        169     172.3    1\n",
       "191.6\\t178        191.6   178      1\n",
       "Name: count, Length: 1069, dtype: int64"
      ]
     },
     "execution_count": 14,
     "metadata": {},
     "output_type": "execute_result"
    }
   ],
   "source": [
    "df_fatherson[['father', 'son']] = df_fatherson['fheight\\tsheight'].str.split('\\t', expand=True)\n",
    "display(df_fatherson)\n",
    "df_fatherson.value_counts()"
   ]
  },
  {
   "cell_type": "code",
   "execution_count": 15,
   "id": "9cc97956",
   "metadata": {
    "ExecuteTime": {
     "end_time": "2025-02-17T06:39:12.422333Z",
     "start_time": "2025-02-17T06:39:12.409330Z"
    }
   },
   "outputs": [
    {
     "name": "stdout",
     "output_type": "stream",
     "text": [
      "Bad father data as a % of total: 0.000000%\n",
      "Bad son data as a % of total: 0.000000%\n"
     ]
    }
   ],
   "source": [
    "na_count_father = df_fatherson['father'].isna().sum()\n",
    "print(f\"Bad father data as a % of total: {na_count_father/len(df_fatherson):%}\")\n",
    "na_count_son = df_fatherson['son'].isna().sum()\n",
    "print(f\"Bad son data as a % of total: {na_count_son/len(df_fatherson):%}\")"
   ]
  },
  {
   "cell_type": "code",
   "execution_count": 16,
   "id": "e6249558",
   "metadata": {
    "ExecuteTime": {
     "end_time": "2025-02-17T06:39:12.437780Z",
     "start_time": "2025-02-17T06:39:12.425336Z"
    }
   },
   "outputs": [
    {
     "name": "stdout",
     "output_type": "stream",
     "text": [
      "Empty DataFrame\n",
      "Columns: [fheight\tsheight, father, son]\n",
      "Index: []\n"
     ]
    }
   ],
   "source": [
    "# See if there are any numbers that not possible, e.g. 40 or 260cm (5\" taller than the tallest human)\n",
    "# Convert to numeric\n",
    "df_fatherson['father'] = pd.to_numeric(df_fatherson['father'], errors='coerce')  # errors='coerce' handles non-numeric data\n",
    "df_fatherson['son'] = pd.to_numeric(df_fatherson['son'], errors='coerce')\n",
    "filtered_df = df_fatherson[((df_fatherson['father'] < 40) | (df_fatherson['father'] > 260)) | \n",
    "                 ((df_fatherson['son'] < 40) | (df_fatherson['son'] > 260))]\n",
    "\n",
    "print(filtered_df)"
   ]
  },
  {
   "cell_type": "markdown",
   "id": "8a3e8c72",
   "metadata": {},
   "source": [
    "#### (b) Create density plots\n",
    "\n",
    "Create a density plot of the data such that the distribution of fathers' and sons' heights are overlayed on the same plot. What do the distributions look like? What are the means and medians of the distributions?"
   ]
  },
  {
   "cell_type": "code",
   "execution_count": 17,
   "id": "b31968fe",
   "metadata": {
    "ExecuteTime": {
     "end_time": "2025-02-17T06:39:12.657340Z",
     "start_time": "2025-02-17T06:39:12.439782Z"
    }
   },
   "outputs": [
    {
     "data": {
      "image/png": "[encoded data removed]",
      "text/plain": [
       "<Figure size 640x480 with 1 Axes>"
      ]
     },
     "metadata": {},
     "output_type": "display_data"
    },
    {
     "name": "stdout",
     "output_type": "stream",
     "text": [
      "Father's Height - Mean: 171.93, Median: 172.10\n",
      "Son's Height - Mean: 174.46, Median: 174.30\n"
     ]
    }
   ],
   "source": [
    "# --- Create the density plot ---\n",
    "sns.kdeplot(df_fatherson['father'], label=\"Father's Height in cm\", fill=True)\n",
    "sns.kdeplot(df_fatherson['son'], label=\"Son's Height in cm\", fill=True)\n",
    "plt.xlabel(\"Height in cm\")\n",
    "plt.ylabel(\"Density\")\n",
    "plt.title(\"Density Plot of Father's and Son's Heights\")\n",
    "plt.legend()\n",
    "plt.show()\n",
    "\n",
    "# --- Calculate means and medians ---\n",
    "fheight_mean = df_fatherson['father'].mean()\n",
    "fheight_median = df_fatherson['father'].median()\n",
    "sheight_mean = df_fatherson['son'].mean()\n",
    "sheight_median = df_fatherson['son'].median()\n",
    "\n",
    "print(f\"Father's Height - Mean: {fheight_mean:.2f}, Median: {fheight_median:.2f}\")\n",
    "print(f\"Son's Height - Mean: {sheight_mean:.2f}, Median: {sheight_median:.2f}\")\n"
   ]
  },
  {
   "cell_type": "markdown",
   "id": "2ab8029e",
   "metadata": {},
   "source": [
    "This clearly shows the sons' height is greater than that of the fathers' because the orange is both higher and to the right."
   ]
  },
  {
   "cell_type": "markdown",
   "id": "209c1418",
   "metadata": {},
   "source": [
    "### Problem 2: Perform t-test\n",
    "\n",
    "#### (a) Compute t-statistic\n",
    "\n",
    "Is this difference statistically significant? Let’s do a t-test. Compute the t-statistic yourself - do not use any pre-existing functions that perform the calculation directly! To do this, first calculate a pooled standard error. Then, calculate the t-statistic using the difference of the means and the pooled standard error. What do you find? Why do we use a pooled standard deviation?"
   ]
  },
  {
   "cell_type": "code",
   "execution_count": 18,
   "id": "68611713",
   "metadata": {
    "ExecuteTime": {
     "end_time": "2025-02-17T06:39:12.672370Z",
     "start_time": "2025-02-17T06:39:12.660341Z"
    }
   },
   "outputs": [
    {
     "name": "stdout",
     "output_type": "stream",
     "text": [
      "Pooled Standard Error=0.3042\n",
      "T-statistic: -8.3239\n"
     ]
    }
   ],
   "source": [
    "# T- Test\n",
    "\n",
    "# Calculate the Pooled Standard Error, which is sqrt(((n1 – 1) x (s1)² + (n2 – 1) x (s2)²)/(n1 + n2 - 2) * (1/n1+1/n2))\n",
    "# n1=Fathers, n2=Sons, s1=Standard deviation of fathers, s2=Standard deviation of sons\n",
    "n1 = len(df_fatherson['father'])\n",
    "n2 = len(df_fatherson['son'])\n",
    "s1 = df_fatherson['father'].std()\n",
    "s2 = df_fatherson['son'].std()\n",
    "pooled_variance = (((n1 - 1) * s1**2) + ((n2 - 1) * s2**2)) / (n1 + n2 - 2)\n",
    "pse = np.sqrt(pooled_variance * (1/n1 + 1/n2))\n",
    "print(f\"Pooled Standard Error={pse:,.4f}\")\n",
    "m1 = df_fatherson['father'].mean()\n",
    "m2 = df_fatherson['son'].mean()\n",
    "\n",
    "t_stat = (m1 - m2) / pse\n",
    "print(f\"T-statistic: {t_stat:.4f}\")"
   ]
  },
  {
   "cell_type": "markdown",
   "id": "dddadef4",
   "metadata": {},
   "source": [
    "The difference between the two sample means is extremely small relative to the variation in the data, meaning there’s little statistical evidence to suggest a meaningful difference between the groups.<p>\n",
    "So there is not a statistical difference between the two sets of data.<p>\n",
    "We use this when we expect the variances in each sample to be similar.<p>\n",
    "Pooled Standard Deviation smoothes out \"noise\" in the data and minimizes variability."
   ]
  },
  {
   "cell_type": "markdown",
   "id": "01a2fd00",
   "metadata": {},
   "source": [
    "#### (b) Verify t-statistic\n",
    "\n",
    "Now, verify your t-statistic calculation using the `scipy.stats.ttest_ind` function. Interpret the p-value that is calculated."
   ]
  },
  {
   "cell_type": "code",
   "execution_count": 19,
   "id": "7dba9d0c",
   "metadata": {
    "ExecuteTime": {
     "end_time": "2025-02-17T06:39:12.688026Z",
     "start_time": "2025-02-17T06:39:12.673669Z"
    }
   },
   "outputs": [
    {
     "name": "stdout",
     "output_type": "stream",
     "text": [
      "-8.323870333757974 1.4923127818827989e-16\n"
     ]
    }
   ],
   "source": [
    "t_stat, p_value = stats.ttest_ind(df_fatherson['father'], df_fatherson['son'])\n",
    "print(t_stat, p_value)"
   ]
  },
  {
   "cell_type": "markdown",
   "id": "76a932d2",
   "metadata": {},
   "source": [
    "The p-value is extremely small, indicating that there is not a large statistical difference in the two sets of data. I.e. the data sets are very similar."
   ]
  },
  {
   "cell_type": "markdown",
   "id": "5c6cf9fd",
   "metadata": {},
   "source": [
    "### Problem 3: A Monte Carlo approach\n",
    "\n",
    "Next, let's run some Monte Carlo analysis to further examine this data. \n",
    "\n",
    "#### (a) Create distributions\n",
    "\n",
    "First, compute the overall mean and standard deviation of combined fathers' and sons' heights. Now create two sets of normal random variables of length 1100, both with the same mean and standard deviation that you just computed above. Call one of these `fathers` and the other `sons`. What is the father-son mean difference? Compare the result with that you found in the previous problem.\n",
    "\n",
    "HINT: Be sure to set the seed for reproducibility"
   ]
  },
  {
   "cell_type": "code",
   "execution_count": 20,
   "id": "bf24c9bc",
   "metadata": {
    "ExecuteTime": {
     "end_time": "2025-02-17T06:39:12.703489Z",
     "start_time": "2025-02-17T06:39:12.691537Z"
    }
   },
   "outputs": [
    {
     "name": "stdout",
     "output_type": "stream",
     "text": [
      "Overall mean: 173.19. Fathers=171.93  Sons=174.46\n",
      "Mean difference = -2.5320037105751396\n",
      "For the new made up data\n",
      "Overall mean: 173.28. Fathers=172.03  Sons=174.53\n",
      "Mean difference = -2.504366656308747\n"
     ]
    }
   ],
   "source": [
    "# Create a new DF with all the heights in one column\n",
    "combined_height = pd.concat([df_fatherson['father'], df_fatherson['son']], ignore_index=True)\n",
    "# Calculate the average\n",
    "fatherson_mean = combined_height.mean()\n",
    "print(f'Overall mean: {fatherson_mean:,.2f}. Fathers={m1:,.2f}  Sons={m2:,.2f}')\n",
    "print(f'Mean difference = {m1-m2}')\n",
    "\n",
    "# Create two random data sets similar to above\n",
    "np.random.seed(56)  # For reproducibility\n",
    "fathers = np.random.normal(loc=m1, scale=s1, size=1100)\n",
    "sons = np.random.normal(loc=m2, scale=s2, size=1100)\n",
    "new_fatherson_mean = np.concatenate((fathers, sons)).mean()\n",
    "new_m1 = fathers.mean()\n",
    "new_m2 = sons.mean()\n",
    "print(\"For the new made up data\")\n",
    "print(f'Overall mean: {new_fatherson_mean:,.2f}. Fathers={new_m1:,.2f}  Sons={new_m2:,.2f}')\n",
    "print(f'Mean difference = {new_m1-new_m2}')"
   ]
  },
  {
   "cell_type": "markdown",
   "id": "483eca12",
   "metadata": {},
   "source": [
    "The difference in means is nearly identical."
   ]
  },
  {
   "cell_type": "markdown",
   "id": "87423c7c",
   "metadata": {},
   "source": [
    "#### (b) Run Monte Carlo simulations\n",
    "\n",
    "Now repeat the previous question a large number of times R (1000 or more). Each time, store the difference between the father and son distributions. Plot the distribution of the differences. What is the mean of the difference values? Compare the mean and standard deviations to the calculations performed on the father-son dataset."
   ]
  },
  {
   "cell_type": "code",
   "execution_count": 21,
   "id": "ff78e262",
   "metadata": {
    "ExecuteTime": {
     "end_time": "2025-02-17T06:39:13.076561Z",
     "start_time": "2025-02-17T06:39:12.705488Z"
    }
   },
   "outputs": [
    {
     "data": {
      "image/png": "[encoded data removed]",
      "text/plain": [
       "<Figure size 640x480 with 1 Axes>"
      ]
     },
     "metadata": {},
     "output_type": "display_data"
    },
    {
     "name": "stdout",
     "output_type": "stream",
     "text": [
      "Mean of Differences: -2.5409040661398103\n",
      "Standard Deviation of Differences: 0.29911786146149344\n"
     ]
    }
   ],
   "source": [
    "mean_diffs = []\n",
    "for i in range(2001):\n",
    "    fathers = np.random.normal(loc=m1, scale=s1, size=1100)\n",
    "    sons = np.random.normal(loc=m2, scale=s2, size=1100)\n",
    "    mean_diffs.append(fathers.mean()-sons.mean())\n",
    "    \n",
    "# Plot the distribution of the differences\n",
    "plt.hist(mean_diffs, bins=50, edgecolor='black')\n",
    "plt.title('Distribution of Differences Between Fathers and Sons')\n",
    "plt.xlabel('Difference (Fathers - Sons)')\n",
    "plt.ylabel('Frequency')\n",
    "plt.xlim(-2.8, -2.2)  # Adjust this range as needed\n",
    "plt.show()\n",
    "\n",
    "# Calculate the mean and standard deviation of the differences\n",
    "mean_diff = np.mean(mean_diffs)\n",
    "std_diff = np.std(mean_diffs)\n",
    "\n",
    "print(f\"Mean of Differences: {mean_diff}\")\n",
    "print(f\"Standard Deviation of Differences: {std_diff}\")"
   ]
  },
  {
   "cell_type": "markdown",
   "id": "0c192d6c",
   "metadata": {},
   "source": [
    "The Mean of Differences now gets much closer to the original data set, which is what I would expect from running this many times."
   ]
  },
  {
   "cell_type": "markdown",
   "id": "814a689e",
   "metadata": {},
   "source": [
    "#### (c) Calculate percentiles\n",
    "\n",
    "Calculate the 90th, 95th, and 99th percentiles as well as the maximum of the distribution of differences. How do these compare to the differences calculated from the dataset? Given this, what can you say about the dataset that was examined?"
   ]
  },
  {
   "cell_type": "code",
   "execution_count": 22,
   "id": "ed1d6c27",
   "metadata": {
    "ExecuteTime": {
     "end_time": "2025-02-17T06:39:13.092382Z",
     "start_time": "2025-02-17T06:39:13.078933Z"
    }
   },
   "outputs": [
    {
     "name": "stdout",
     "output_type": "stream",
     "text": [
      "Original Data Set\n",
      "90th Percentile: 6.06000000000001\n",
      "95th Percentile: 9.0\n",
      "99th Percentile: 13.923000000000005\n",
      "Maximum Difference: -28.600000000000023\n",
      "\n",
      "Monte Carlo Data Set\n",
      "90th Percentile: -2.152667433810251\n",
      "95th Percentile: -2.0369348329413413\n",
      "99th Percentile: -1.8543082400296669\n",
      "Maximum Difference: -3.674426206501863\n"
     ]
    }
   ],
   "source": [
    "# Original Data set\n",
    "df_fatherson['diff'] = df_fatherson['father'] - df_fatherson['son']\n",
    "differences = np.array(df_fatherson['diff'])\n",
    "percentile_90 = np.percentile(differences, 90)\n",
    "percentile_95 = np.percentile(differences, 95)\n",
    "percentile_99 = np.percentile(differences, 99)\n",
    "max_difference = np.min(differences)\n",
    "\n",
    "# Print the results\n",
    "print(\"Original Data Set\")\n",
    "print(f\"90th Percentile: {percentile_90}\")\n",
    "print(f\"95th Percentile: {percentile_95}\")\n",
    "print(f\"99th Percentile: {percentile_99}\")\n",
    "print(f\"Maximum Difference: {max_difference}\")\n",
    "\n",
    "# Monte Carlo data set\n",
    "differences = np.array(mean_diffs)\n",
    "\n",
    "# Calculate the percentiles and maximum\n",
    "percentile_90 = np.percentile(differences, 90)\n",
    "percentile_95 = np.percentile(differences, 95)\n",
    "percentile_99 = np.percentile(differences, 99)\n",
    "max_difference = np.min(differences)\n",
    "\n",
    "# Print the results\n",
    "print('\\n' + \"Monte Carlo Data Set\")\n",
    "print(f\"90th Percentile: {percentile_90}\")\n",
    "print(f\"95th Percentile: {percentile_95}\")\n",
    "print(f\"99th Percentile: {percentile_99}\")\n",
    "print(f\"Maximum Difference: {max_difference}\")"
   ]
  },
  {
   "cell_type": "markdown",
   "id": "ef6aafba",
   "metadata": {},
   "source": [
    "The difference between the original data and the Monte Carlo is that the Monte Carlo data has a much smaller range of values. In addition it seems that the differences in the 90th percentile and above were all father shorter than son, where as in the original data set it is the opposite.<p>\n",
    "I honestly, do not know how this relates to the original data set?"
   ]
  }
 ],
 "metadata": {
  "kernelspec": {
   "display_name": "Python 3 (ipykernel)",
   "language": "python",
   "name": "python3"
  },
  "language_info": {
   "codemirror_mode": {
    "name": "ipython",
    "version": 3
   },
   "file_extension": ".py",
   "mimetype": "text/x-python",
   "name": "python",
   "nbconvert_exporter": "python",
   "pygments_lexer": "ipython3",
   "version": "3.8.10"
  },
  "toc": {
   "base_numbering": 1,
   "nav_menu": {},
   "number_sections": true,
   "sideBar": true,
   "skip_h1_title": false,
   "title_cell": "Table of Contents",
   "title_sidebar": "Contents",
   "toc_cell": false,
   "toc_position": {},
   "toc_section_display": true,
   "toc_window_display": false
  }
 },
 "nbformat": 4,
 "nbformat_minor": 5
}

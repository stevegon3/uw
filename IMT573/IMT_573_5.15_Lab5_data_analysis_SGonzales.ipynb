{
 "cells": [
  {
   "cell_type": "markdown",
   "id": "1461b6bb",
   "metadata": {},
   "source": [
    "# IMT 573 - Lab 5 - Data Analysis"
   ]
  },
  {
   "cell_type": "markdown",
   "id": "1cf60757",
   "metadata": {},
   "source": [
    "### Instructions\n",
    "\n",
    "Before beginning this assignment, please ensure you have access to a working instance of Jupyter Notebooks with Python 3.\n",
    "\n",
    "1. First, replace the “YOUR NAME HERE” text in the next cell with your own full name. Any collaborators must also be listed in this cell.\n",
    "\n",
    "2. Be sure to include well-documented (e.g. commented) code cells, figures, and clearly written text  explanations as necessary. Any figures should be clearly labeled and appropriately referenced within the text. Be sure that each visualization adds value to your written explanation; avoid redundancy – you do no need four different visualizations of the same pattern.\n",
    "\n",
    "3. Collaboration on problem sets and labs is fun, useful, and encouraged. However, each student must turn in an individual write-up in their own words as well as code/work that is their own. Regardless of whether you work with others, what you turn in must be your own work; this includes code and interpretation of results. The names of all collaborators must be listed on each assignment. Do not copy-and-paste from other students’ responses or code - your code should never be on any other student's screen or machine.\n",
    "\n",
    "4. All materials and resources that you use (with the exception of lecture slides) must be appropriately referenced within your assignment."
   ]
  },
  {
   "cell_type": "markdown",
   "id": "aadc8a3b",
   "metadata": {},
   "source": [
    "Name: Steve Gonzales Collaborators: None"
   ]
  },
  {
   "cell_type": "markdown",
   "id": "82c7a4d0",
   "metadata": {},
   "source": [
    "In this module, we have focused on exploring data. Visualization is a great way to do this.\n",
    "\n",
    "In [an article](https://fivethirtyeight.com/features/women-in-comic-books/) published on fivethirtyeight.com, the authors discuss gender representation in comic books. The data also contains a host of other information about comic book superheros and villans. We will use this dataset in this lab."
   ]
  },
  {
   "cell_type": "markdown",
   "id": "28fc326f",
   "metadata": {},
   "source": [
    "The data is split across the two major comic book publishers in the US - DC and Marvel. The urls for each are below. Use these to import the data for each of the publishers into separate dataframes and then combine the two into a larger dataframe."
   ]
  },
  {
   "cell_type": "code",
   "execution_count": 1,
   "id": "d8a2ad2c",
   "metadata": {
    "ExecuteTime": {
     "end_time": "2025-02-10T01:33:23.908907Z",
     "start_time": "2025-02-10T01:33:23.077771Z"
    }
   },
   "outputs": [],
   "source": [
    "import pandas as pd\n",
    "import matplotlib.pyplot as plt\n",
    "import scipy.stats as stats\n",
    "import seaborn as sns\n",
    "import numpy as np"
   ]
  },
  {
   "cell_type": "code",
   "execution_count": 2,
   "id": "3d450f98",
   "metadata": {
    "ExecuteTime": {
     "end_time": "2025-02-10T01:33:23.924953Z",
     "start_time": "2025-02-10T01:33:23.911442Z"
    }
   },
   "outputs": [],
   "source": [
    "url_dc = \"https://raw.githubusercontent.com/fivethirtyeight/data/master/comic-characters/dc-wikia-data.csv\"\n",
    "url_marvel = \"https://raw.githubusercontent.com/fivethirtyeight/data/master/comic-characters/marvel-wikia-data.csv\""
   ]
  },
  {
   "cell_type": "code",
   "execution_count": 3,
   "id": "7d552031",
   "metadata": {
    "ExecuteTime": {
     "end_time": "2025-02-10T01:33:24.404499Z",
     "start_time": "2025-02-10T01:33:23.926108Z"
    }
   },
   "outputs": [],
   "source": [
    "dc_data = pd.read_csv(url_dc)\n",
    "marvel_data = pd.read_csv(url_marvel)"
   ]
  },
  {
   "cell_type": "code",
   "execution_count": 4,
   "id": "d6c5f4e5",
   "metadata": {
    "ExecuteTime": {
     "end_time": "2025-02-10T01:33:24.420997Z",
     "start_time": "2025-02-10T01:33:24.406690Z"
    }
   },
   "outputs": [
    {
     "name": "stdout",
     "output_type": "stream",
     "text": [
      "Index(['page_id', 'name', 'urlslug', 'ID', 'ALIGN', 'EYE', 'HAIR', 'SEX',\n",
      "       'GSM', 'ALIVE', 'APPEARANCES', 'FIRST APPEARANCE', 'YEAR', 'Year'],\n",
      "      dtype='object')\n"
     ]
    },
    {
     "data": {
      "text/html": [
       "<div>\n",
       "<style scoped>\n",
       "    .dataframe tbody tr th:only-of-type {\n",
       "        vertical-align: middle;\n",
       "    }\n",
       "\n",
       "    .dataframe tbody tr th {\n",
       "        vertical-align: top;\n",
       "    }\n",
       "\n",
       "    .dataframe thead th {\n",
       "        text-align: right;\n",
       "    }\n",
       "</style>\n",
       "<table border=\"1\" class=\"dataframe\">\n",
       "  <thead>\n",
       "    <tr style=\"text-align: right;\">\n",
       "      <th></th>\n",
       "      <th>page_id</th>\n",
       "      <th>name</th>\n",
       "      <th>urlslug</th>\n",
       "      <th>ID</th>\n",
       "      <th>ALIGN</th>\n",
       "      <th>EYE</th>\n",
       "      <th>HAIR</th>\n",
       "      <th>SEX</th>\n",
       "      <th>GSM</th>\n",
       "      <th>ALIVE</th>\n",
       "      <th>APPEARANCES</th>\n",
       "      <th>FIRST APPEARANCE</th>\n",
       "      <th>YEAR</th>\n",
       "      <th>Year</th>\n",
       "    </tr>\n",
       "  </thead>\n",
       "  <tbody>\n",
       "    <tr>\n",
       "      <th>0</th>\n",
       "      <td>1422</td>\n",
       "      <td>Batman (Bruce Wayne)</td>\n",
       "      <td>\\/wiki\\/Batman_(Bruce_Wayne)</td>\n",
       "      <td>Secret Identity</td>\n",
       "      <td>Good Characters</td>\n",
       "      <td>Blue Eyes</td>\n",
       "      <td>Black Hair</td>\n",
       "      <td>Male Characters</td>\n",
       "      <td>NaN</td>\n",
       "      <td>Living Characters</td>\n",
       "      <td>3093.0</td>\n",
       "      <td>1939, May</td>\n",
       "      <td>1939.0</td>\n",
       "      <td>NaN</td>\n",
       "    </tr>\n",
       "    <tr>\n",
       "      <th>1</th>\n",
       "      <td>23387</td>\n",
       "      <td>Superman (Clark Kent)</td>\n",
       "      <td>\\/wiki\\/Superman_(Clark_Kent)</td>\n",
       "      <td>Secret Identity</td>\n",
       "      <td>Good Characters</td>\n",
       "      <td>Blue Eyes</td>\n",
       "      <td>Black Hair</td>\n",
       "      <td>Male Characters</td>\n",
       "      <td>NaN</td>\n",
       "      <td>Living Characters</td>\n",
       "      <td>2496.0</td>\n",
       "      <td>1986, October</td>\n",
       "      <td>1986.0</td>\n",
       "      <td>NaN</td>\n",
       "    </tr>\n",
       "    <tr>\n",
       "      <th>2</th>\n",
       "      <td>1458</td>\n",
       "      <td>Green Lantern (Hal Jordan)</td>\n",
       "      <td>\\/wiki\\/Green_Lantern_(Hal_Jordan)</td>\n",
       "      <td>Secret Identity</td>\n",
       "      <td>Good Characters</td>\n",
       "      <td>Brown Eyes</td>\n",
       "      <td>Brown Hair</td>\n",
       "      <td>Male Characters</td>\n",
       "      <td>NaN</td>\n",
       "      <td>Living Characters</td>\n",
       "      <td>1565.0</td>\n",
       "      <td>1959, October</td>\n",
       "      <td>1959.0</td>\n",
       "      <td>NaN</td>\n",
       "    </tr>\n",
       "  </tbody>\n",
       "</table>\n",
       "</div>"
      ],
      "text/plain": [
       "   page_id                        name                             urlslug  \\\n",
       "0     1422        Batman (Bruce Wayne)        \\/wiki\\/Batman_(Bruce_Wayne)   \n",
       "1    23387       Superman (Clark Kent)       \\/wiki\\/Superman_(Clark_Kent)   \n",
       "2     1458  Green Lantern (Hal Jordan)  \\/wiki\\/Green_Lantern_(Hal_Jordan)   \n",
       "\n",
       "                ID            ALIGN         EYE        HAIR              SEX  \\\n",
       "0  Secret Identity  Good Characters   Blue Eyes  Black Hair  Male Characters   \n",
       "1  Secret Identity  Good Characters   Blue Eyes  Black Hair  Male Characters   \n",
       "2  Secret Identity  Good Characters  Brown Eyes  Brown Hair  Male Characters   \n",
       "\n",
       "   GSM              ALIVE  APPEARANCES FIRST APPEARANCE    YEAR  Year  \n",
       "0  NaN  Living Characters       3093.0        1939, May  1939.0   NaN  \n",
       "1  NaN  Living Characters       2496.0    1986, October  1986.0   NaN  \n",
       "2  NaN  Living Characters       1565.0    1959, October  1959.0   NaN  "
      ]
     },
     "execution_count": 4,
     "metadata": {},
     "output_type": "execute_result"
    }
   ],
   "source": [
    "data_all = pd.concat([dc_data, marvel_data])\n",
    "print(data_all.columns)\n",
    "data_all.head(3)"
   ]
  },
  {
   "cell_type": "code",
   "execution_count": 5,
   "id": "d43508db",
   "metadata": {
    "ExecuteTime": {
     "end_time": "2025-02-10T01:33:24.436453Z",
     "start_time": "2025-02-10T01:33:24.422001Z"
    }
   },
   "outputs": [
    {
     "name": "stdout",
     "output_type": "stream",
     "text": [
      "df.shape=(23272, 15)\n",
      "NaN in Year columns 884 or 3.80%\n"
     ]
    }
   ],
   "source": [
    "# Look at the nan in Year\n",
    "\n",
    "# Make a copy\n",
    "df = data_all.copy()\n",
    "\n",
    "# Combine the two year columns\n",
    "df['year'] = df['YEAR'].fillna(df['Year'])\n",
    "\n",
    "# Count the NaNs\n",
    "na_count = df['year'].isna().sum()\n",
    "print(f'{df.shape=}')\n",
    "print(f'NaN in Year columns {na_count} or {na_count/len(df):.2%}')"
   ]
  },
  {
   "cell_type": "markdown",
   "id": "7e82a09b",
   "metadata": {},
   "source": [
    "We should watch out for additional missing data. 3.8% could be significant enough to be a problem."
   ]
  },
  {
   "cell_type": "markdown",
   "id": "292e79c8",
   "metadata": {},
   "source": [
    "### Problem 1: Inspection\n",
    "\n",
    "First, inspect the datasets to help you get a sense of what is contained in the data. You can find an overview of the data [here](https://github.com/fivethirtyeight/data/tree/master/comic-characters). What do you notice? Where may there be some issues with the data?"
   ]
  },
  {
   "cell_type": "markdown",
   "id": "964e9aa2",
   "metadata": {},
   "source": [
    "There are two Year columns, 'YEAR' and 'Year'.<p>\n",
    "There seems to be a lot of superfluous data in the categorical columns, e.g. 'Living Characters' instead of 'Living'.<p>"
   ]
  },
  {
   "cell_type": "code",
   "execution_count": 6,
   "id": "2d37d2e8",
   "metadata": {
    "ExecuteTime": {
     "end_time": "2025-02-10T01:33:24.451903Z",
     "start_time": "2025-02-10T01:33:24.438866Z"
    }
   },
   "outputs": [
    {
     "name": "stdout",
     "output_type": "stream",
     "text": [
      "df.shape=(23272, 15)\n",
      "NaN in GSM columns 23118 or 99.34%\n"
     ]
    }
   ],
   "source": [
    "# GSM has a lot of missing data\n",
    "na_count = df['GSM'].isna().sum()\n",
    "print(f'{df.shape=}')\n",
    "print(f'NaN in GSM columns {na_count} or {na_count/len(df):.2%}')"
   ]
  },
  {
   "cell_type": "markdown",
   "id": "e26ca18d",
   "metadata": {},
   "source": [
    "### Problem 2: Formulate a question\n",
    "\n",
    "Next, formulate one data science question of interest that can be answered with this dataset. Be sure to comment on why this question in interesting and what you could learn from finding an answer to it."
   ]
  },
  {
   "cell_type": "markdown",
   "id": "f139670d",
   "metadata": {},
   "source": [
    "Data Science Question: There are more female characters in comics in 2010-2013 compared to pre-2010. This would indicate that comics are becoming more diverse. The null hypothesis is that as a proportion of total characters, female characters pre-2010 are a higher percentage than post-2010.<p>\n",
    "<b>Feedback from prof</b><p>\n",
    "(-0.1): The null hypothesis can NOT be directional. In other words, the correct way should be following :\n",
    "\n",
    "Null Hypothesis : There is no difference in the proportion (or number) of female characters between pre-2010 and post-2010.\n",
    "\n",
    "Alternative hypothesis : The proportion (or number) of female characters pre-2010 is higher than that post-2010.\n",
    "\n",
    "The p value you got at the end can only be used to reject or (fail to reject) the null hypothesis. We cannot use it to confirm whether the alternative is right or not."
   ]
  },
  {
   "cell_type": "markdown",
   "id": "7219f320",
   "metadata": {},
   "source": [
    "### Problem 3: Data analysis\n",
    "\n",
    "Next, practice using your data science skills to answer you question. Follow the outlined steps in your data science process."
   ]
  },
  {
   "cell_type": "code",
   "execution_count": 7,
   "id": "93b00a8a",
   "metadata": {
    "ExecuteTime": {
     "end_time": "2025-02-10T01:33:24.467865Z",
     "start_time": "2025-02-10T01:33:24.453871Z"
    }
   },
   "outputs": [
    {
     "name": "stdout",
     "output_type": "stream",
     "text": [
      "year\n",
      "1935.0      1\n",
      "1936.0      9\n",
      "1937.0      4\n",
      "1938.0     10\n",
      "1939.0     87\n",
      "         ... \n",
      "2009.0    528\n",
      "2010.0    603\n",
      "2011.0    504\n",
      "2012.0    206\n",
      "2013.0    168\n",
      "Name: count, Length: 79, dtype: int64\n"
     ]
    }
   ],
   "source": [
    "# Count of rows by year\n",
    "year_counts = df['year'].value_counts(dropna=True).sort_index()\n",
    "print(year_counts)"
   ]
  },
  {
   "cell_type": "markdown",
   "id": "ec4f2f2f",
   "metadata": {},
   "source": [
    "#### (a) Try the easy solution first\n",
    "\n",
    "After filtering any anomolous values, try using descriptive statistics to see if you can get a general sense of the answer to your question."
   ]
  },
  {
   "cell_type": "code",
   "execution_count": 8,
   "id": "546e6d8e",
   "metadata": {
    "ExecuteTime": {
     "end_time": "2025-02-10T01:33:24.498884Z",
     "start_time": "2025-02-10T01:33:24.469866Z"
    }
   },
   "outputs": [
    {
     "name": "stdout",
     "output_type": "stream",
     "text": [
      "Bad year rows as a % of total: 3.798556%\n",
      "pre-2010 percentage of female characters: 25.588705%\n",
      "2010-2013 percentage of female characters: 31.298246%\n",
      " \n",
      "There are more Female characters post 2010; Null hypothesis is false.\n"
     ]
    }
   ],
   "source": [
    "df = data_all.copy()\n",
    "# Combine the two year columns\n",
    "df['year'] = df['YEAR'].fillna(df['Year'])\n",
    "# Clean up the sex column to make it more straightforward\n",
    "df['sex'] = df['SEX'].str.replace(' Characters', '', regex=False)\n",
    "# Look at the average female % in the two time periods\n",
    "df['time_period'] = df['year'].apply(lambda year: 'pre-2010' if year < 2010 else '2010-2013' if 2010 <= year <= 2013 else None)\n",
    "na_count = df['year'].isna().sum()\n",
    "print(f\"Bad year rows as a % of total: {na_count/len(df):%}\")\n",
    "\n",
    "# Get counts of time_period\n",
    "df_total = df.groupby('time_period')['sex'].count()\n",
    "\n",
    "# Group by female and not female to get the percentage for each period\n",
    "df_female = df[df['sex'] == 'Female'].groupby('time_period')['sex'].count()\n",
    "\n",
    "# Calculate the percentage of female characters in each time period\n",
    "df_ratio = (df_female / df_total).reset_index()\n",
    "\n",
    "# Get the percentages\n",
    "p1 = df_ratio[df_ratio['time_period'] == 'pre-2010'].iloc[0][1]\n",
    "p2 = df_ratio[df_ratio['time_period'] == '2010-2013'].iloc[0][1]\n",
    "\n",
    "# Print the percentages\n",
    "print(f\"pre-2010 percentage of female characters: {p1:%}\")\n",
    "print(f\"2010-2013 percentage of female characters: {p2:%}\")\n",
    "print(\" \")\n",
    "if p1 < p2:\n",
    "    print(\"There are more Female characters post 2010; Null hypothesis is false.\")\n",
    "else:\n",
    "    print(\"There are fewer Female characters post 2010 compared to pre-2010; Null hypothesis is true.\")"
   ]
  },
  {
   "cell_type": "markdown",
   "id": "bdb67ed1",
   "metadata": {},
   "source": [
    "#### (b) Check distributions\n",
    "\n",
    "Look at distribution(s) of your data to determine if there are any patterns that are evident with respect to your question of interest."
   ]
  },
  {
   "cell_type": "code",
   "execution_count": 9,
   "id": "9594fb97",
   "metadata": {
    "ExecuteTime": {
     "end_time": "2025-02-10T01:33:24.672260Z",
     "start_time": "2025-02-10T01:33:24.499865Z"
    }
   },
   "outputs": [
    {
     "data": {
      "image/png": "[encoded data removed]",
      "text/plain": [
       "<Figure size 1000x400 with 1 Axes>"
      ]
     },
     "metadata": {},
     "output_type": "display_data"
    }
   ],
   "source": [
    "# Look at Histogram by Year for all data\n",
    "plt.figure(figsize=(10, 4))\n",
    "mean_year = df['year'].mean()\n",
    "\n",
    "# Add a vertical line for the mean\n",
    "plt.axvline(mean_year, color='red', linestyle='dashed', linewidth=1, label=f'Mean: {mean_year:.2f}')  # Added line\n",
    "\n",
    "sns.histplot(df['year'].dropna())\n",
    "plt.title(f'Histogram of Year')\n",
    "plt.legend()\n",
    "plt.show()"
   ]
  },
  {
   "cell_type": "markdown",
   "id": "e04be6d0",
   "metadata": {},
   "source": [
    "This distribution looks normal as comics have steadily grown in popularity with blockbuster movies."
   ]
  },
  {
   "cell_type": "code",
   "execution_count": 10,
   "id": "c710969c",
   "metadata": {
    "ExecuteTime": {
     "end_time": "2025-02-10T01:33:24.843099Z",
     "start_time": "2025-02-10T01:33:24.674272Z"
    }
   },
   "outputs": [
    {
     "data": {
      "image/png": "[encoded data removed]",
      "text/plain": [
       "<Figure size 1200x600 with 1 Axes>"
      ]
     },
     "metadata": {},
     "output_type": "display_data"
    }
   ],
   "source": [
    "# Look at Histogram by Year for female data\n",
    "df_female = df.copy()\n",
    "df_female = df_female[df_female['sex'] == 'Female']  # Filter for female characters\n",
    "\n",
    "# Plot the histogram and moving average\n",
    "plt.figure(figsize=(12, 6))  # Adjust figure size for better visualization\n",
    "\n",
    "sns.histplot(df_female['year'].dropna(), discrete=True, label='Year Count')  # Label the histogram\n",
    "\n",
    "# Add a vertical line for the mean\n",
    "mean_year = df_female['year'].mean()\n",
    "plt.axvline(mean_year, color='red', linestyle='dashed', linewidth=1, label=f'Mean: {mean_year:.2f}')  # Added line\n",
    "\n",
    "plt.title(f'Histogram of Female Characters by Year')\n",
    "plt.legend()\n",
    "plt.show()"
   ]
  },
  {
   "cell_type": "markdown",
   "id": "807a840e",
   "metadata": {
    "ExecuteTime": {
     "end_time": "2025-02-10T01:32:19.787620Z",
     "start_time": "2025-02-10T01:32:19.778828Z"
    }
   },
   "source": [
    "This distribution is skewed to the right indicating that our alternate hypothesis is correct, ie more female characters as time goes on.<p>\n",
    "However, the last few years of data trails off significantly; it does follow the total row count histogram."
   ]
  },
  {
   "cell_type": "markdown",
   "id": "722789b0",
   "metadata": {},
   "source": [
    "#### (c) What's next?\n",
    "\n",
    "Considering what you've learned during this module, what could be additional steps to take to answer your question? Are there any potential issues with these steps? (In this case, it is perfectly acceptable to note issues without providing potential solutions)."
   ]
  },
  {
   "cell_type": "markdown",
   "id": "1e28a0f8",
   "metadata": {},
   "source": [
    "Next we should sample the data to see if p-value is below the significance level. This will allow us to prove that the Null Hypothesis is False. Even if the p-test shows that the alternative hypotheis is true, it could still be wrong."
   ]
  },
  {
   "cell_type": "code",
   "execution_count": 11,
   "id": "4b3bc8f5",
   "metadata": {
    "ExecuteTime": {
     "end_time": "2025-02-10T01:33:24.997697Z",
     "start_time": "2025-02-10T01:33:24.844100Z"
    }
   },
   "outputs": [
    {
     "name": "stdout",
     "output_type": "stream",
     "text": [
      "N: 22,388\n",
      "Z-statistic: 4.749716354922744\n",
      "P-value: 0.00000102\n",
      "Reject the null hypothesis. There is evidence of a statistically significant difference in the proportion of female characters between the two time periods.\n"
     ]
    },
    {
     "data": {
      "image/png": "[encoded data removed]",
      "text/plain": [
       "<Figure size 800x600 with 1 Axes>"
      ]
     },
     "metadata": {},
     "output_type": "display_data"
    }
   ],
   "source": [
    "# Determine if Null Hypothesis is true or not by calculating p-value\n",
    "# Define the groups\n",
    "df_female = df.copy()\n",
    "df_female = df_female[df_female['sex'] == 'Female']  # Filter for female characters\n",
    "\n",
    "# Define the time periods\n",
    "df['time_period'] = df['year'].apply(lambda year: 'pre-2010' if year < 2010 else '2010-2013' if 2010 <= year <= 2013 else None)\n",
    "df_female['time_period'] = df_female['year'].apply(lambda year: 'pre-2010' if year < 2010 else '2010-2013' if 2010 <= year <= 2013 else None)\n",
    "\n",
    "#Remove rows with no time_period\n",
    "df = df.dropna(subset=['time_period'])\n",
    "df_female = df_female.dropna(subset=['time_period'])\n",
    "\n",
    "# Calculate proportions (using the corrected filter for female characters)\n",
    "total_counts = df.groupby('time_period')['sex'].count()\n",
    "female_counts = df_female.groupby('time_period')['sex'].count()\n",
    "female_proportions = female_counts / total_counts\n",
    "\n",
    "# Perform the proportion test (two-sample z-test for proportions)\n",
    "n1 = total_counts['pre-2010']\n",
    "x1 = female_counts['pre-2010']\n",
    "n2 = total_counts['2010-2013']\n",
    "x2 = female_counts['2010-2013']\n",
    "\n",
    "if n1 > 0 and n2 > 0: # Check to avoid division by zero\n",
    "    # x: The number of \"successes\" (e.g., female characters) in each group (e.g., pre-2010).\n",
    "    # n: The total number of observations in each group.\n",
    "    # p: The proportion of \"successes\" in each group. \n",
    "    p1 = x1 / n1\n",
    "    p2 = x2 / n2\n",
    "    p = (x1 + x2) / (n1 + n2)\n",
    "\n",
    "    # The z-statistic. The test statistic for a two-sample z-test for proportions. \n",
    "    # It measures how far apart the two sample proportions (p1 and p2) are, in terms of std errors\n",
    "    z = (p2 - p1) / np.sqrt(p * (1 - p) * (1/n1 + 1/n2))\n",
    "    p_value = 1 - stats.norm.cdf(abs(z))  # One-sided test (H1: proportion increased)\n",
    "\n",
    "    print(F\"N: {len(df):,}\")\n",
    "    print(f\"Z-statistic: {z}\")\n",
    "    print(f\"P-value: {p_value:.8f}\")\n",
    "\n",
    "    # 0.05 Significance or Alpha level was popularized by statisticians like R.A. Fisher in the early days of statistical hypothesis testing.\n",
    "    #It became a sort of \"default\" value, partly because it was often easier to calculate critical values for this level by hand using statistical tables.\n",
    "    alpha = 0.05\n",
    "    if p_value < alpha:\n",
    "        print(\"Reject the null hypothesis. There is evidence of a statistically significant difference in the proportion of female characters between the two time periods.\")\n",
    "    else:\n",
    "        print(\"Fail to reject the null hypothesis. There is not enough evidence to suggest a statistically significant difference.\")\n",
    "else:\n",
    "    print(\"Not enough data for one or both time periods to perform a hypothesis test.\")\n",
    "\n",
    "\n",
    "# Plotting\n",
    "fig, ax = plt.subplots(figsize=(8, 6))\n",
    "plot_order = ['pre-2010', '2010-2013']\n",
    "\n",
    "if n1 > 0 and n2 > 0: # Check to avoid plotting errors\n",
    "    # Plot each % of proportions\n",
    "    female_proportions.loc[plot_order].plot(kind='bar', ax=ax)\n",
    "\n",
    "    ax.set_ylabel('Proportion of Female Characters (%)')\n",
    "    ax.set_title('Proportion of Female Characters Over Time')\n",
    "\n",
    "    # Format y-axis as percentages\n",
    "    ax.yaxis.set_major_formatter(plt.FuncFormatter(lambda x, _: '{:.0f}%'.format(x*100)))\n",
    "    ax.set_xticklabels(['Pre-2010', '2010-2013'], rotation=0)\n",
    "\n",
    "    plt.tight_layout()\n",
    "    plt.show()\n",
    "else:\n",
    "    print(\"Not enough data for one or both time periods to create a plot.\")"
   ]
  }
 ],
 "metadata": {
  "kernelspec": {
   "display_name": "Python 3 (ipykernel)",
   "language": "python",
   "name": "python3"
  },
  "language_info": {
   "codemirror_mode": {
    "name": "ipython",
    "version": 3
   },
   "file_extension": ".py",
   "mimetype": "text/x-python",
   "name": "python",
   "nbconvert_exporter": "python",
   "pygments_lexer": "ipython3",
   "version": "3.8.10"
  },
  "toc": {
   "base_numbering": 1,
   "nav_menu": {},
   "number_sections": true,
   "sideBar": true,
   "skip_h1_title": false,
   "title_cell": "Table of Contents",
   "title_sidebar": "Contents",
   "toc_cell": false,
   "toc_position": {},
   "toc_section_display": true,
   "toc_window_display": false
  }
 },
 "nbformat": 4,
 "nbformat_minor": 5
}

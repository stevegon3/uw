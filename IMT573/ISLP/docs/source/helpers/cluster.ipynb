{
 "cells": [
  {
   "cell_type": "markdown",
   "id": "e1392139",
   "metadata": {},
   "source": [
    "# Clustering\n",
    "\n",
    "This module has a single function, used to help visualize a dendrogram from a\n",
    "hierarchical clustering. The function is based on this example from [sklearn.cluster](https://scikit-learn.org/stable/auto_examples/cluster/plot_agglomerative_dendrogram.html)."
   ]
  },
  {
   "cell_type": "code",
   "execution_count": null,
   "id": "d5df152d",
   "metadata": {
    "execution": {
     "iopub.execute_input": "2023-07-26T12:46:42.214971Z",
     "iopub.status.busy": "2023-07-26T12:46:42.214537Z",
     "iopub.status.idle": "2023-07-26T12:46:42.860533Z",
     "shell.execute_reply": "2023-07-26T12:46:42.860243Z"
    }
   },
   "outputs": [],
   "source": [
    "import numpy as np\n",
    "from sklearn.cluster import AgglomerativeClustering\n",
    "from scipy.cluster.hierarchy import dendrogram\n",
    "from ISLP.cluster import compute_linkage"
   ]
  },
  {
   "cell_type": "markdown",
   "id": "ce028388",
   "metadata": {},
   "source": [
    "## Make a toy dataset"
   ]
  },
  {
   "cell_type": "code",
   "execution_count": null,
   "id": "0135c1fb",
   "metadata": {
    "execution": {
     "iopub.execute_input": "2023-07-26T12:46:42.862401Z",
     "iopub.status.busy": "2023-07-26T12:46:42.862250Z",
     "iopub.status.idle": "2023-07-26T12:46:42.864336Z",
     "shell.execute_reply": "2023-07-26T12:46:42.864118Z"
    }
   },
   "outputs": [],
   "source": [
    "rng = np.random.default_rng(1)\n",
    "X = rng.normal(size=(30, 5))\n",
    "X[:10] += 1"
   ]
  },
  {
   "cell_type": "markdown",
   "id": "9b8efe50",
   "metadata": {},
   "source": [
    "## Cluster it"
   ]
  },
  {
   "cell_type": "code",
   "execution_count": null,
   "id": "17c52650",
   "metadata": {
    "execution": {
     "iopub.execute_input": "2023-07-26T12:46:42.865831Z",
     "iopub.status.busy": "2023-07-26T12:46:42.865731Z",
     "iopub.status.idle": "2023-07-26T12:46:42.867386Z",
     "shell.execute_reply": "2023-07-26T12:46:42.867147Z"
    }
   },
   "outputs": [],
   "source": [
    "clust = AgglomerativeClustering(distance_threshold=0,\n",
    "                                n_clusters=None,\n",
    "                                linkage='complete')"
   ]
  },
  {
   "cell_type": "code",
   "execution_count": null,
   "id": "a3ae2622",
   "metadata": {
    "execution": {
     "iopub.execute_input": "2023-07-26T12:46:42.868746Z",
     "iopub.status.busy": "2023-07-26T12:46:42.868668Z",
     "iopub.status.idle": "2023-07-26T12:46:42.872497Z",
     "shell.execute_reply": "2023-07-26T12:46:42.872240Z"
    }
   },
   "outputs": [],
   "source": [
    "clust.fit(X)"
   ]
  },
  {
   "cell_type": "markdown",
   "id": "5af396ed",
   "metadata": {},
   "source": [
    "## Plot the dendrogram"
   ]
  },
  {
   "cell_type": "code",
   "execution_count": null,
   "id": "64e726a4",
   "metadata": {
    "execution": {
     "iopub.execute_input": "2023-07-26T12:46:42.873930Z",
     "iopub.status.busy": "2023-07-26T12:46:42.873845Z",
     "iopub.status.idle": "2023-07-26T12:46:43.195508Z",
     "shell.execute_reply": "2023-07-26T12:46:43.195084Z"
    }
   },
   "outputs": [],
   "source": [
    "linkage = compute_linkage(clust)\n",
    "dendrogram(linkage);"
   ]
  }
 ],
 "metadata": {
  "jupytext": {
   "cell_metadata_filter": "-all",
   "formats": "source/helpers///ipynb,jupyterbook/helpers///md:myst,jupyterbook/helpers///ipynb",
   "main_language": "python"
  },
  "kernelspec": {
   "display_name": "Python 3 (ipykernel)",
   "language": "python",
   "name": "python3"
  },
  "language_info": {
   "codemirror_mode": {
    "name": "ipython",
    "version": 3
   },
   "file_extension": ".py",
   "mimetype": "text/x-python",
   "name": "python",
   "nbconvert_exporter": "python",
   "pygments_lexer": "ipython3",
   "version": "3.9.17"
  }
 },
 "nbformat": 4,
 "nbformat_minor": 5
}

{
 "cells": [
  {
   "cell_type": "markdown",
   "id": "73c6a28e",
   "metadata": {},
   "source": [
    "# Survival Analysis\n",
    "\n",
    "This module has a single function, used to simulate data with a given\n",
    "cumulative survival function."
   ]
  },
  {
   "cell_type": "code",
   "execution_count": null,
   "id": "0932cabc",
   "metadata": {
    "execution": {
     "iopub.execute_input": "2023-07-26T12:46:45.058072Z",
     "iopub.status.busy": "2023-07-26T12:46:45.057742Z",
     "iopub.status.idle": "2023-07-26T12:46:45.657730Z",
     "shell.execute_reply": "2023-07-26T12:46:45.657332Z"
    }
   },
   "outputs": [],
   "source": [
    "import numpy as np\n",
    "from lifelines import KaplanMeierFitter\n",
    "from ISLP.survival import sim_time"
   ]
  },
  {
   "cell_type": "markdown",
   "id": "da804af6",
   "metadata": {},
   "source": [
    "## Define a cumulative hazard\n",
    "\n",
    "For simplicity we'll use the the baseline $H(t)=t$ which defines the exponential distribution.\n",
    "\n",
    "We'll take as our linear predictor $l=\\log(2)$. This means we will observe draws from $H_l(t)=2t$ which\n",
    "corresponds to an exponential distribution with mean 0.5."
   ]
  },
  {
   "cell_type": "code",
   "execution_count": null,
   "id": "d82896bb",
   "metadata": {
    "execution": {
     "iopub.execute_input": "2023-07-26T12:46:45.659634Z",
     "iopub.status.busy": "2023-07-26T12:46:45.659493Z",
     "iopub.status.idle": "2023-07-26T12:46:45.661327Z",
     "shell.execute_reply": "2023-07-26T12:46:45.661109Z"
    }
   },
   "outputs": [],
   "source": [
    "cum_haz = lambda t: t\n",
    "rng = np.random.default_rng(1)"
   ]
  },
  {
   "cell_type": "code",
   "execution_count": null,
   "id": "c9f9d590",
   "metadata": {
    "execution": {
     "iopub.execute_input": "2023-07-26T12:46:45.662631Z",
     "iopub.status.busy": "2023-07-26T12:46:45.662534Z",
     "iopub.status.idle": "2023-07-26T12:46:45.672267Z",
     "shell.execute_reply": "2023-07-26T12:46:45.672017Z"
    }
   },
   "outputs": [],
   "source": [
    "T = np.array([sim_time(np.log(2), cum_haz, rng) for _ in range(500)])"
   ]
  },
  {
   "cell_type": "markdown",
   "id": "0daa786a",
   "metadata": {},
   "source": [
    "## Plot survival function"
   ]
  },
  {
   "cell_type": "code",
   "execution_count": null,
   "id": "2d8478dc",
   "metadata": {
    "execution": {
     "iopub.execute_input": "2023-07-26T12:46:45.673768Z",
     "iopub.status.busy": "2023-07-26T12:46:45.673685Z",
     "iopub.status.idle": "2023-07-26T12:46:45.934676Z",
     "shell.execute_reply": "2023-07-26T12:46:45.934321Z"
    }
   },
   "outputs": [],
   "source": [
    "kmf = KaplanMeierFitter(label=\"Simulated data\")\n",
    "kmf.fit(T, np.ones_like(T))\n",
    "ax = kmf.plot()\n",
    "Tval = np.linspace(0, T.max(), 500)\n",
    "ax.plot(Tval, \n",
    "        np.exp(-2*Tval),\n",
    "        'r--',\n",
    "        linewidth=4,\n",
    "        label='Truth')\n",
    "ax.legend();"
   ]
  },
  {
   "cell_type": "code",
   "execution_count": null,
   "id": "7d5c983a",
   "metadata": {},
   "outputs": [],
   "source": []
  },
  {
   "cell_type": "code",
   "execution_count": null,
   "id": "3469ec98",
   "metadata": {},
   "outputs": [],
   "source": []
  }
 ],
 "metadata": {
  "jupytext": {
   "cell_metadata_filter": "-all",
   "formats": "source/helpers///ipynb,jupyterbook/helpers///md:myst,jupyterbook/helpers///ipynb",
   "main_language": "python"
  },
  "kernelspec": {
   "display_name": "python3",
   "language": "python",
   "name": "python3"
  },
  "language_info": {
   "codemirror_mode": {
    "name": "ipython",
    "version": 3
   },
   "file_extension": ".py",
   "mimetype": "text/x-python",
   "name": "python",
   "nbconvert_exporter": "python",
   "pygments_lexer": "ipython3",
   "version": "3.9.17"
  }
 },
 "nbformat": 4,
 "nbformat_minor": 5
}

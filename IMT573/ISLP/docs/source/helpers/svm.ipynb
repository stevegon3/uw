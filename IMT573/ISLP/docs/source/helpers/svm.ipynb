{
 "cells": [
  {
   "cell_type": "markdown",
   "id": "ca66a2d6",
   "metadata": {},
   "source": [
    "# Support Vector Machines\n",
    "\n",
    "This module contains a single function used to help visualize the decision rule of an SVM."
   ]
  },
  {
   "cell_type": "code",
   "execution_count": null,
   "id": "2746a357",
   "metadata": {
    "execution": {
     "iopub.execute_input": "2023-07-26T12:46:51.026740Z",
     "iopub.status.busy": "2023-07-26T12:46:51.026289Z",
     "iopub.status.idle": "2023-07-26T12:46:51.779743Z",
     "shell.execute_reply": "2023-07-26T12:46:51.779280Z"
    }
   },
   "outputs": [],
   "source": [
    "import numpy as np\n",
    "from sklearn.svm import SVC\n",
    "from ISLP.svm import plot"
   ]
  },
  {
   "cell_type": "markdown",
   "id": "4fee3435",
   "metadata": {},
   "source": [
    "## Make a toy dataset"
   ]
  },
  {
   "cell_type": "code",
   "execution_count": null,
   "id": "4728535b",
   "metadata": {
    "execution": {
     "iopub.execute_input": "2023-07-26T12:46:51.781697Z",
     "iopub.status.busy": "2023-07-26T12:46:51.781546Z",
     "iopub.status.idle": "2023-07-26T12:46:51.783810Z",
     "shell.execute_reply": "2023-07-26T12:46:51.783514Z"
    }
   },
   "outputs": [],
   "source": [
    "rng = np.random.default_rng(1)\n",
    "X = rng.normal(size=(100, 5))\n",
    "X[:40][:,3:5] += 2\n",
    "Y = np.zeros(X.shape[0])\n",
    "Y[:40] = 1"
   ]
  },
  {
   "cell_type": "markdown",
   "id": "352c33e5",
   "metadata": {},
   "source": [
    "## Fit an SVM classifier"
   ]
  },
  {
   "cell_type": "code",
   "execution_count": null,
   "id": "74da6860",
   "metadata": {
    "execution": {
     "iopub.execute_input": "2023-07-26T12:46:51.785373Z",
     "iopub.status.busy": "2023-07-26T12:46:51.785272Z",
     "iopub.status.idle": "2023-07-26T12:46:51.789605Z",
     "shell.execute_reply": "2023-07-26T12:46:51.789351Z"
    }
   },
   "outputs": [],
   "source": [
    "svm = SVC(kernel='linear')\n",
    "svm.fit(X, Y)"
   ]
  },
  {
   "cell_type": "code",
   "execution_count": null,
   "id": "d87b6f75",
   "metadata": {
    "execution": {
     "iopub.execute_input": "2023-07-26T12:46:51.790987Z",
     "iopub.status.busy": "2023-07-26T12:46:51.790907Z",
     "iopub.status.idle": "2023-07-26T12:46:51.883284Z",
     "shell.execute_reply": "2023-07-26T12:46:51.882993Z"
    }
   },
   "outputs": [],
   "source": [
    "plot(X, Y, svm)"
   ]
  },
  {
   "cell_type": "markdown",
   "id": "a79e4778",
   "metadata": {},
   "source": [
    "## Slicing through different features\n",
    "\n",
    "When we generated our data, the real differences ware in the 4th and 5th coordinates.\n",
    "We can see this by taking a cross-section through the data that includes this coordinate as\n",
    "one of the axes in the plot."
   ]
  },
  {
   "cell_type": "code",
   "execution_count": null,
   "id": "bc58956a",
   "metadata": {
    "execution": {
     "iopub.execute_input": "2023-07-26T12:46:51.884984Z",
     "iopub.status.busy": "2023-07-26T12:46:51.884867Z",
     "iopub.status.idle": "2023-07-26T12:46:52.011375Z",
     "shell.execute_reply": "2023-07-26T12:46:52.011081Z"
    }
   },
   "outputs": [],
   "source": [
    "plot(X, Y, svm, features=(3, 4))"
   ]
  }
 ],
 "metadata": {
  "jupytext": {
   "cell_metadata_filter": "-all",
   "formats": "source/helpers///ipynb,jupyterbook/helpers///md:myst,jupyterbook/helpers///ipynb",
   "main_language": "python"
  },
  "kernelspec": {
   "display_name": "python3",
   "language": "python",
   "name": "python3"
  },
  "language_info": {
   "codemirror_mode": {
    "name": "ipython",
    "version": 3
   },
   "file_extension": ".py",
   "mimetype": "text/x-python",
   "name": "python",
   "nbconvert_exporter": "python",
   "pygments_lexer": "ipython3",
   "version": "3.9.17"
  }
 },
 "nbformat": 4,
 "nbformat_minor": 5
}

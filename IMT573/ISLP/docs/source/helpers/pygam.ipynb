{
 "cells": [
  {
   "cell_type": "markdown",
   "id": "126924f8",
   "metadata": {},
   "source": [
    "# Generalized Additive Models\n",
    "\n",
    "This module has helper functions to help\n",
    "compute the degrees of freedom of a GAM and to create a partial dependence plot of a\n",
    "fitted `pygam` model."
   ]
  },
  {
   "cell_type": "code",
   "execution_count": null,
   "id": "9a52fb27",
   "metadata": {
    "execution": {
     "iopub.execute_input": "2023-07-26T12:46:47.820912Z",
     "iopub.status.busy": "2023-07-26T12:46:47.820490Z",
     "iopub.status.idle": "2023-07-26T12:46:48.577304Z",
     "shell.execute_reply": "2023-07-26T12:46:48.577007Z"
    }
   },
   "outputs": [],
   "source": [
    "import numpy as np\n",
    "from pygam import LinearGAM, s\n",
    "from ISLP.pygam import (plot, \n",
    "                        approx_lam, \n",
    "                        degrees_of_freedom)"
   ]
  },
  {
   "cell_type": "markdown",
   "id": "20156922",
   "metadata": {},
   "source": [
    "## Make a toy dataset\n",
    "\n",
    "We create a simple dataset with 5 features.\n",
    "We'll have a cubic effect for our first feature, and linear for the remaining 4 features.\n",
    "\n",
    "By construction, all the \"action\" in our GAM will be in the first feature. This will have our \n",
    "scatter plot look like the partial residuals from our fit. Usually, the scatter plot will not\n",
    "look so nice on a partial dependence plot. One should use partial residuals instead. We take this liberty\n",
    "here while demonstrating the `plot` function."
   ]
  },
  {
   "cell_type": "code",
   "execution_count": null,
   "id": "4bddce77",
   "metadata": {
    "execution": {
     "iopub.execute_input": "2023-07-26T12:46:48.579295Z",
     "iopub.status.busy": "2023-07-26T12:46:48.579114Z",
     "iopub.status.idle": "2023-07-26T12:46:48.581608Z",
     "shell.execute_reply": "2023-07-26T12:46:48.581355Z"
    }
   },
   "outputs": [],
   "source": [
    "rng = np.random.default_rng(1)\n",
    "N = 100\n",
    "X = rng.normal(size=(N, 3))\n",
    "Y = X[:,0] + 0.3 * X[:,0]**3 + rng.normal(size=N)"
   ]
  },
  {
   "cell_type": "markdown",
   "id": "56b80452",
   "metadata": {},
   "source": [
    "## Create a GAM\n",
    "\n",
    "Let's start of fitting a GAM with a relatively small amount of smoothing."
   ]
  },
  {
   "cell_type": "code",
   "execution_count": null,
   "id": "3f8946e0",
   "metadata": {
    "execution": {
     "iopub.execute_input": "2023-07-26T12:46:48.583287Z",
     "iopub.status.busy": "2023-07-26T12:46:48.583187Z",
     "iopub.status.idle": "2023-07-26T12:46:48.618486Z",
     "shell.execute_reply": "2023-07-26T12:46:48.614888Z"
    }
   },
   "outputs": [],
   "source": [
    "terms = [s(f, lam=0.01) for f in range(3)]\n",
    "gam = LinearGAM(terms[0] + \n",
    "                terms[1] + \n",
    "                terms[2])\n",
    "gam.fit(X, Y)"
   ]
  },
  {
   "cell_type": "markdown",
   "id": "eb53b016",
   "metadata": {},
   "source": [
    "## Plot the partial dependence plot for first feature"
   ]
  },
  {
   "cell_type": "code",
   "execution_count": null,
   "id": "c5b38706",
   "metadata": {
    "execution": {
     "iopub.execute_input": "2023-07-26T12:46:48.624580Z",
     "iopub.status.busy": "2023-07-26T12:46:48.624177Z",
     "iopub.status.idle": "2023-07-26T12:46:48.814238Z",
     "shell.execute_reply": "2023-07-26T12:46:48.808746Z"
    }
   },
   "outputs": [],
   "source": [
    "ax = plot(gam, 0)"
   ]
  },
  {
   "cell_type": "markdown",
   "id": "85d9c622",
   "metadata": {},
   "source": [
    "Including a scatter plot of"
   ]
  },
  {
   "cell_type": "code",
   "execution_count": null,
   "id": "e4d2b6f0",
   "metadata": {
    "execution": {
     "iopub.execute_input": "2023-07-26T12:46:48.825281Z",
     "iopub.status.busy": "2023-07-26T12:46:48.824327Z",
     "iopub.status.idle": "2023-07-26T12:46:48.897739Z",
     "shell.execute_reply": "2023-07-26T12:46:48.897447Z"
    }
   },
   "outputs": [],
   "source": [
    "ax.scatter(X[:,0], \n",
    "           Y - Y.mean(),\n",
    "          facecolor='k',\n",
    "          alpha=0.4)\n",
    "ax.get_figure()"
   ]
  },
  {
   "cell_type": "markdown",
   "id": "4609e094",
   "metadata": {},
   "source": [
    "Let's take a look at (approximately) how many degrees of freedom we've used:"
   ]
  },
  {
   "cell_type": "code",
   "execution_count": null,
   "id": "82374baa",
   "metadata": {
    "execution": {
     "iopub.execute_input": "2023-07-26T12:46:48.899404Z",
     "iopub.status.busy": "2023-07-26T12:46:48.899288Z",
     "iopub.status.idle": "2023-07-26T12:46:48.916570Z",
     "shell.execute_reply": "2023-07-26T12:46:48.915079Z"
    }
   },
   "outputs": [],
   "source": [
    "[degrees_of_freedom(X,\n",
    "                   terms[i]) for i in range(X.shape[1])]"
   ]
  },
  {
   "cell_type": "markdown",
   "id": "235374b1",
   "metadata": {},
   "source": [
    "## Fixing degrees of freedom\n",
    "\n",
    "Suppose we want to use 5 degrees of freedom for each feature. \n",
    "We compute a value of `lam` for each that fixes the degrees of freedom at 5."
   ]
  },
  {
   "cell_type": "code",
   "execution_count": null,
   "id": "0576d1f3",
   "metadata": {
    "execution": {
     "iopub.execute_input": "2023-07-26T12:46:48.924539Z",
     "iopub.status.busy": "2023-07-26T12:46:48.924174Z",
     "iopub.status.idle": "2023-07-26T12:46:48.955630Z",
     "shell.execute_reply": "2023-07-26T12:46:48.954722Z"
    }
   },
   "outputs": [],
   "source": [
    "lam_vals = [approx_lam(X,\n",
    "                       terms[i],\n",
    "                       df=5) for i in range(X.shape[1])]\n",
    "lam_vals"
   ]
  },
  {
   "cell_type": "markdown",
   "id": "f5924823",
   "metadata": {},
   "source": [
    "### Create a new GAM with the correctly fixed terms"
   ]
  },
  {
   "cell_type": "code",
   "execution_count": null,
   "id": "3a8b546e",
   "metadata": {
    "execution": {
     "iopub.execute_input": "2023-07-26T12:46:48.961056Z",
     "iopub.status.busy": "2023-07-26T12:46:48.960521Z",
     "iopub.status.idle": "2023-07-26T12:46:48.989331Z",
     "shell.execute_reply": "2023-07-26T12:46:48.987244Z"
    }
   },
   "outputs": [],
   "source": [
    "fixed_terms = [s(f, lam=l) for \n",
    "               f, l in zip(range(3), lam_vals)]\n",
    "fixed_gam = LinearGAM(fixed_terms[0] + \n",
    "                      fixed_terms[1] + \n",
    "                      fixed_terms[2])\n",
    "fixed_gam.fit(X, Y)"
   ]
  },
  {
   "cell_type": "code",
   "execution_count": null,
   "id": "f2cfbea2",
   "metadata": {
    "execution": {
     "iopub.execute_input": "2023-07-26T12:46:48.995461Z",
     "iopub.status.busy": "2023-07-26T12:46:48.994945Z",
     "iopub.status.idle": "2023-07-26T12:46:49.130069Z",
     "shell.execute_reply": "2023-07-26T12:46:49.129127Z"
    }
   },
   "outputs": [],
   "source": [
    "ax = plot(fixed_gam, 0)\n",
    "ax.scatter(X[:,0], \n",
    "           Y - Y.mean(),\n",
    "          facecolor='k',\n",
    "          alpha=0.4);"
   ]
  }
 ],
 "metadata": {
  "jupytext": {
   "cell_metadata_filter": "-all",
   "formats": "source/helpers///ipynb,jupyterbook/helpers///md:myst,jupyterbook/helpers///ipynb",
   "main_language": "python"
  },
  "kernelspec": {
   "display_name": "python3",
   "language": "python",
   "name": "python3"
  },
  "language_info": {
   "codemirror_mode": {
    "name": "ipython",
    "version": 3
   },
   "file_extension": ".py",
   "mimetype": "text/x-python",
   "name": "python",
   "nbconvert_exporter": "python",
   "pygments_lexer": "ipython3",
   "version": "3.9.17"
  }
 },
 "nbformat": 4,
 "nbformat_minor": 5
}

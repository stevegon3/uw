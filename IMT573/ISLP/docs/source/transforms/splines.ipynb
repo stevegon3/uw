{
 "cells": [
  {
   "cell_type": "markdown",
   "id": "4a50ef04",
   "metadata": {},
   "source": [
    "# Spline features\n",
    "\n",
    "The modelling tools included in `ISLP` allow for\n",
    "construction of spline functions of features.\n",
    "\n",
    "Force rebuild"
   ]
  },
  {
   "cell_type": "code",
   "execution_count": 1,
   "id": "666e6a04",
   "metadata": {},
   "outputs": [],
   "source": [
    "import numpy as np\n",
    "from ISLP import load_data\n",
    "from ISLP.models import ModelSpec, ns, bs"
   ]
  },
  {
   "cell_type": "code",
   "execution_count": 2,
   "id": "0ecda36e",
   "metadata": {},
   "outputs": [
    {
     "data": {
      "text/plain": [
       "Index(['Sales', 'CompPrice', 'Income', 'Advertising', 'Population', 'Price',\n",
       "       'ShelveLoc', 'Age', 'Education', 'Urban', 'US'],\n",
       "      dtype='object')"
      ]
     },
     "execution_count": 2,
     "metadata": {},
     "output_type": "execute_result"
    }
   ],
   "source": [
    "Carseats = load_data('Carseats')\n",
    "Carseats.columns"
   ]
  },
  {
   "cell_type": "markdown",
   "id": "20c6e551",
   "metadata": {},
   "source": [
    "Let's make a term representing a cubic spline for `Population`. We'll use knots based on the \n",
    "deciles."
   ]
  },
  {
   "cell_type": "code",
   "execution_count": 3,
   "id": "31f3f4ff-a63f-4374-b484-fbd3b27ce1ad",
   "metadata": {},
   "outputs": [
    {
     "data": {
      "text/plain": [
       "array([ 58.9, 110.4, 160. , 218.6, 272. , 317.8, 366. , 412.2, 467. ])"
      ]
     },
     "execution_count": 3,
     "metadata": {},
     "output_type": "execute_result"
    }
   ],
   "source": [
    "knots = np.percentile(Carseats['Population'], np.linspace(10, 90, 9))\n",
    "knots"
   ]
  },
  {
   "cell_type": "code",
   "execution_count": 4,
   "id": "1ea79e0d",
   "metadata": {},
   "outputs": [],
   "source": [
    "bs_pop = bs('Population', internal_knots=knots, degree=3)"
   ]
  },
  {
   "cell_type": "markdown",
   "id": "a47d2caa",
   "metadata": {},
   "source": [
    "The object `bs_pop` does not refer to any data yet, it must be included in a `ModelSpec` object\n",
    "and fit using the `fit` method."
   ]
  },
  {
   "cell_type": "code",
   "execution_count": 5,
   "id": "90e8f810",
   "metadata": {},
   "outputs": [],
   "source": [
    "design = ModelSpec([bs_pop], intercept=False)\n",
    "py_features = np.asarray(design.fit_transform(Carseats))"
   ]
  },
  {
   "cell_type": "markdown",
   "id": "f98f658a",
   "metadata": {},
   "source": [
    "## Compare to `R`\n",
    "\n",
    "We can compare our polynomials to a similar function in `R`"
   ]
  },
  {
   "cell_type": "code",
   "execution_count": 6,
   "id": "fda53527",
   "metadata": {},
   "outputs": [],
   "source": [
    "%load_ext rpy2.ipython"
   ]
  },
  {
   "cell_type": "markdown",
   "id": "20c76684",
   "metadata": {},
   "source": [
    "We'll recompute these features using `bs` in `R`. The default knot selection of the\n",
    "`ISLP` and `R` version are slightly different so we just fix the set of internal knots."
   ]
  },
  {
   "cell_type": "code",
   "execution_count": 7,
   "id": "5d5e7985",
   "metadata": {},
   "outputs": [],
   "source": [
    "%%R -i Carseats,knots -o R_features\n",
    "library(splines)\n",
    "R_features = bs(Carseats$Population, knots=knots, degree=3)"
   ]
  },
  {
   "cell_type": "code",
   "execution_count": 8,
   "id": "ceffa80f",
   "metadata": {},
   "outputs": [
    {
     "data": {
      "text/plain": [
       "1.1372379284497324e-15"
      ]
     },
     "execution_count": 8,
     "metadata": {},
     "output_type": "execute_result"
    }
   ],
   "source": [
    "np.linalg.norm(py_features - R_features)"
   ]
  },
  {
   "cell_type": "markdown",
   "id": "a89ec276-cbf5-4fed-9720-c33060570fd9",
   "metadata": {},
   "source": [
    "## Underlying model\n",
    "\n",
    "As for `poly`, the computation of the B-splines is done by a special `sklearn` transformer."
   ]
  },
  {
   "cell_type": "code",
   "execution_count": 9,
   "id": "cacf2134-70ad-48d7-aa1c-83c2c88d05f9",
   "metadata": {},
   "outputs": [
    {
     "data": {
      "text/plain": [
       "Variable(variables=('Population',), name='bs(Population, internal_knots=[ 58.9 110.4 160.  218.6 272.  317.8 366.  412.2 467. ], degree=3)', encoder=BSpline(internal_knots=array([ 58.9, 110.4, 160. , 218.6, 272. , 317.8, 366. , 412.2, 467. ]),\n",
       "        lower_bound=10.0, upper_bound=509.0), use_transform=True, pure_columns=False, override_encoder_colnames=True)"
      ]
     },
     "execution_count": 9,
     "metadata": {},
     "output_type": "execute_result"
    }
   ],
   "source": [
    "bs_pop"
   ]
  },
  {
   "cell_type": "markdown",
   "id": "7bd02961-3f17-4352-af69-c8229656ae96",
   "metadata": {},
   "source": [
    "## Natural splines \n",
    "\n",
    "Natural cubic splines are also implemented."
   ]
  },
  {
   "cell_type": "code",
   "execution_count": 10,
   "id": "3c7c2445",
   "metadata": {},
   "outputs": [],
   "source": [
    "ns_pop = ns('Population', internal_knots=knots)\n",
    "design = ModelSpec([ns_pop], intercept=False)\n",
    "py_features = np.asarray(design.fit_transform(Carseats))"
   ]
  },
  {
   "cell_type": "code",
   "execution_count": 11,
   "id": "805060ca-5aac-46b4-842e-bbf4f39dc429",
   "metadata": {},
   "outputs": [],
   "source": [
    "%%R -o R_features\n",
    "library(splines)\n",
    "R_features = ns(Carseats$Population, knots=knots)"
   ]
  },
  {
   "cell_type": "code",
   "execution_count": 12,
   "id": "6fb40058-6a80-431a-8c45-448d742d5947",
   "metadata": {},
   "outputs": [
    {
     "data": {
      "text/plain": [
       "1.2473757226554746e-15"
      ]
     },
     "execution_count": 12,
     "metadata": {},
     "output_type": "execute_result"
    }
   ],
   "source": [
    "np.linalg.norm(py_features - R_features)"
   ]
  },
  {
   "cell_type": "markdown",
   "id": "39bc9180",
   "metadata": {},
   "source": [
    "## Intercept\n",
    "\n",
    "Looking at `py_features` we see it contains columns: `[Population**i for i in range(1, 4)]`. That is, \n",
    "it doesn't contain an intercept, the order 0 term. This can be include with `intercept=True`. This means that the\n",
    "column space includes an intercept, though there is no specific column labeled as intercept."
   ]
  },
  {
   "cell_type": "code",
   "execution_count": 13,
   "id": "38de6cf7",
   "metadata": {},
   "outputs": [],
   "source": [
    "bs_int = ns('Population', internal_knots=knots, intercept=True)\n",
    "design = ModelSpec([bs_int], intercept=False)\n",
    "py_int_features = np.asarray(design.fit_transform(Carseats))"
   ]
  },
  {
   "cell_type": "code",
   "execution_count": 14,
   "id": "1dcd7ff8",
   "metadata": {},
   "outputs": [
    {
     "data": {
      "text/plain": [
       "((400, 11), (400, 10))"
      ]
     },
     "execution_count": 14,
     "metadata": {},
     "output_type": "execute_result"
    }
   ],
   "source": [
    "py_int_features.shape, py_features.shape"
   ]
  }
 ],
 "metadata": {
  "jupytext": {
   "formats": "source/transforms///ipynb,jupyterbook/transforms///md:myst,jupyterbook/transforms///ipynb"
  },
  "kernelspec": {
   "display_name": "python3",
   "language": "python",
   "name": "python3"
  },
  "language_info": {
   "codemirror_mode": {
    "name": "ipython",
    "version": 3
   },
   "file_extension": ".py",
   "mimetype": "text/x-python",
   "name": "python",
   "nbconvert_exporter": "python",
   "pygments_lexer": "ipython3",
   "version": "3.9.13"
  }
 },
 "nbformat": 4,
 "nbformat_minor": 5
}

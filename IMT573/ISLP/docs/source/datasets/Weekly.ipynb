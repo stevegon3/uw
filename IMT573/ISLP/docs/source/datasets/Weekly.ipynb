{
 "cells": [
  {
   "cell_type": "markdown",
   "id": "4917d9b3",
   "metadata": {},
   "source": [
    "# Weekly S&P Stock Market Data\n",
    "\n",
    "Weekly percentage returns for the S&P 500 stock index between 1990\n",
    "and 2010.\n",
    "\n",
    "- `Year`: The year that the observation was recorded\n",
    "\n",
    "- `Lag1`: Percentage return for previous week\n",
    "\n",
    "- `Lag2`: Percentage return for 2 weeks previous\n",
    "\n",
    "- `Lag3`: Percentage return for 3 weeks previous\n",
    "\n",
    "- `Lag4`: Percentage return for 4 weeks previous\n",
    "\n",
    "- `Lag5`: Percentage return for 5 weeks previous\n",
    "\n",
    "- `Volume`: Volume of shares traded (average number of daily shares\n",
    " traded in billions)\n",
    "\n",
    "- `Today`: Percentage return for this week\n",
    "\n",
    "- `Direction`: A factor with levels 'Down' and 'Up' indicating\n",
    " whether the market had a positive or negative return on a\n",
    " given week.\n",
    "\n",
    "## Source\n",
    "\n",
    "Raw values of the S&P 500 were obtained from Yahoo Finance and\n",
    "then converted to percentages and lagged."
   ]
  },
  {
   "cell_type": "code",
   "execution_count": null,
   "id": "d19dd431",
   "metadata": {
    "execution": {
     "iopub.execute_input": "2023-07-26T12:47:41.468580Z",
     "iopub.status.busy": "2023-07-26T12:47:41.468291Z",
     "iopub.status.idle": "2023-07-26T12:47:41.999679Z",
     "shell.execute_reply": "2023-07-26T12:47:41.999341Z"
    }
   },
   "outputs": [],
   "source": [
    "from ISLP import load_data\n",
    "Weekly = load_data('Weekly')\n",
    "Weekly.columns"
   ]
  },
  {
   "cell_type": "code",
   "execution_count": null,
   "id": "17d2cda4",
   "metadata": {
    "execution": {
     "iopub.execute_input": "2023-07-26T12:47:42.002632Z",
     "iopub.status.busy": "2023-07-26T12:47:42.002470Z",
     "iopub.status.idle": "2023-07-26T12:47:42.004871Z",
     "shell.execute_reply": "2023-07-26T12:47:42.004611Z"
    }
   },
   "outputs": [],
   "source": [
    "Weekly.shape"
   ]
  },
  {
   "cell_type": "code",
   "execution_count": null,
   "id": "f822715b",
   "metadata": {
    "execution": {
     "iopub.execute_input": "2023-07-26T12:47:42.006534Z",
     "iopub.status.busy": "2023-07-26T12:47:42.006422Z",
     "iopub.status.idle": "2023-07-26T12:47:42.008496Z",
     "shell.execute_reply": "2023-07-26T12:47:42.008187Z"
    }
   },
   "outputs": [],
   "source": [
    "Weekly.columns"
   ]
  },
  {
   "cell_type": "code",
   "execution_count": null,
   "id": "9a5f4d04",
   "metadata": {
    "execution": {
     "iopub.execute_input": "2023-07-26T12:47:42.010010Z",
     "iopub.status.busy": "2023-07-26T12:47:42.009911Z",
     "iopub.status.idle": "2023-07-26T12:47:42.019036Z",
     "shell.execute_reply": "2023-07-26T12:47:42.018706Z"
    }
   },
   "outputs": [],
   "source": [
    "Weekly.describe().iloc[:,:4]"
   ]
  },
  {
   "cell_type": "code",
   "execution_count": null,
   "id": "a6431017",
   "metadata": {},
   "outputs": [],
   "source": []
  }
 ],
 "metadata": {
  "jupytext": {
   "cell_metadata_filter": "-all",
   "formats": "source/datasets///ipynb,jupyterbook/datasets///md:myst,jupyterbook/datasets///ipynb",
   "main_language": "python"
  },
  "kernelspec": {
   "display_name": "python3",
   "language": "python",
   "name": "python3"
  },
  "language_info": {
   "codemirror_mode": {
    "name": "ipython",
    "version": 3
   },
   "file_extension": ".py",
   "mimetype": "text/x-python",
   "name": "python",
   "nbconvert_exporter": "python",
   "pygments_lexer": "ipython3",
   "version": "3.9.17"
  }
 },
 "nbformat": 4,
 "nbformat_minor": 5
}

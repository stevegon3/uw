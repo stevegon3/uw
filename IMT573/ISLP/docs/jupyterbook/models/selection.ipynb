{
 "cells": [
  {
   "cell_type": "markdown",
   "id": "247387ec-1477-42e6-9e69-cad1cacb5721",
   "metadata": {},
   "source": [
    "# Model selection using `ModelSpec`\n",
    "\n",
    "\n",
    "In this lab we illustrate how to run forward stepwise model selection\n",
    "using the model specification capability of `ModelSpec`."
   ]
  },
  {
   "cell_type": "code",
   "execution_count": 1,
   "id": "4720bb2a-6bec-4e91-a57e-9689aa4f0532",
   "metadata": {},
   "outputs": [],
   "source": [
    "import numpy as np\n",
    "import pandas as pd\n",
    "from statsmodels.api import OLS\n",
    "from ISLP import load_data\n",
    "from ISLP.models import (ModelSpec,\n",
    "                         Stepwise,\n",
    "                         sklearn_selected)"
   ]
  },
  {
   "cell_type": "markdown",
   "id": "1c224240-ce8b-47f3-a85a-052c43038b26",
   "metadata": {},
   "source": [
    "### Forward Selection\n",
    " \n",
    "We will  apply the forward-selection approach to the  `Hitters` \n",
    "data.  We wish to predict a baseball player’s `Salary` on the\n",
    "basis of various statistics associated with performance in the\n",
    "previous year."
   ]
  },
  {
   "cell_type": "code",
   "execution_count": 2,
   "id": "2adc66cc",
   "metadata": {},
   "outputs": [
    {
     "data": {
      "text/plain": [
       "59"
      ]
     },
     "execution_count": 2,
     "metadata": {},
     "output_type": "execute_result"
    }
   ],
   "source": [
    "Hitters = load_data('Hitters')\n",
    "np.isnan(Hitters['Salary']).sum()"
   ]
  },
  {
   "cell_type": "markdown",
   "id": "40c9a484",
   "metadata": {},
   "source": [
    "    \n",
    " We see that `Salary` is missing for 59 players. The\n",
    "`dropna()`  method of data frames removes all of the rows that have missing\n",
    "values in any variable (by default --- see  `Hitters.dropna?`)."
   ]
  },
  {
   "cell_type": "code",
   "execution_count": 3,
   "id": "1869fdab",
   "metadata": {},
   "outputs": [
    {
     "data": {
      "text/plain": [
       "(263, 20)"
      ]
     },
     "execution_count": 3,
     "metadata": {},
     "output_type": "execute_result"
    }
   ],
   "source": [
    "Hitters = Hitters.dropna()\n",
    "Hitters.shape"
   ]
  },
  {
   "cell_type": "markdown",
   "id": "0a1fe9e6",
   "metadata": {},
   "source": [
    "We first choose the best model using forward selection based on AIC. This score\n",
    "is not built in as a metric to `sklearn`. We therefore define a function to compute it ourselves, and use\n",
    "it as a scorer. By default, `sklearn` tries to maximize a score, hence\n",
    "  our scoring function  computes the negative AIC statistic."
   ]
  },
  {
   "cell_type": "code",
   "execution_count": 4,
   "id": "76bd8110",
   "metadata": {},
   "outputs": [],
   "source": [
    "def negAIC(estimator, X, Y):\n",
    "    \"Negative AIC\"\n",
    "    n, p = X.shape\n",
    "    Yhat = estimator.predict(X)\n",
    "    MSE = np.mean((Y - Yhat)**2)\n",
    "    return n + n * np.log(MSE) + 2 * (p + 1)\n",
    "    "
   ]
  },
  {
   "cell_type": "markdown",
   "id": "14ba6f49",
   "metadata": {},
   "source": [
    "We need to estimate the residual variance $\\sigma^2$, which is the first argument in our scoring function above.\n",
    "We will fit the biggest model, using all the variables, and estimate $\\sigma^2$ based on its MSE."
   ]
  },
  {
   "cell_type": "code",
   "execution_count": 5,
   "id": "94e10f35",
   "metadata": {},
   "outputs": [],
   "source": [
    "design = ModelSpec(Hitters.columns.drop('Salary')).fit(Hitters)\n",
    "Y = np.array(Hitters['Salary'])\n",
    "X = design.transform(Hitters)"
   ]
  },
  {
   "cell_type": "markdown",
   "id": "afdda5f2",
   "metadata": {},
   "source": [
    "Along with a score we need to specify the search strategy. This is done through the object\n",
    "`Stepwise()`  in the `ISLP.models` package. The method `Stepwise.first_peak()`\n",
    "runs forward stepwise until any further additions to the model do not result\n",
    "in an improvement in the evaluation score. Similarly, the method `Stepwise.fixed_steps()`\n",
    "runs a fixed number of steps of stepwise search."
   ]
  },
  {
   "cell_type": "code",
   "execution_count": 6,
   "id": "048c8500",
   "metadata": {},
   "outputs": [],
   "source": [
    "strategy = Stepwise.first_peak(design,\n",
    "                               direction='forward',\n",
    "                               max_terms=len(design.terms))"
   ]
  },
  {
   "cell_type": "markdown",
   "id": "e0c0af0e",
   "metadata": {},
   "source": [
    " \n",
    "We now fit a linear regression model with `Salary` as outcome using forward\n",
    "selection. To do so, we use the function `sklearn_selected()`  from the `ISLP.models` package. This takes\n",
    "a model from `statsmodels` along with a search strategy and selects a model with its\n",
    "`fit` method. Without specifying a `scoring` argument, the score defaults to MSE, and so all 19 variables will be\n",
    "selected."
   ]
  },
  {
   "cell_type": "code",
   "execution_count": 7,
   "id": "26f09fe9",
   "metadata": {},
   "outputs": [
    {
     "data": {
      "text/plain": [
       "('Assists',\n",
       " 'AtBat',\n",
       " 'CAtBat',\n",
       " 'CHits',\n",
       " 'CHmRun',\n",
       " 'CRBI',\n",
       " 'CRuns',\n",
       " 'CWalks',\n",
       " 'Division',\n",
       " 'Errors',\n",
       " 'Hits',\n",
       " 'HmRun',\n",
       " 'League',\n",
       " 'NewLeague',\n",
       " 'PutOuts',\n",
       " 'RBI',\n",
       " 'Runs',\n",
       " 'Walks',\n",
       " 'Years')"
      ]
     },
     "execution_count": 7,
     "metadata": {},
     "output_type": "execute_result"
    }
   ],
   "source": [
    "hitters_MSE = sklearn_selected(OLS,\n",
    "                               strategy)\n",
    "hitters_MSE.fit(Hitters, Y)\n",
    "hitters_MSE.selected_state_"
   ]
  },
  {
   "cell_type": "markdown",
   "id": "4acf4792",
   "metadata": {},
   "source": [
    " Using `neg_Cp` results in a smaller model, as expected, with just 4variables selected."
   ]
  },
  {
   "cell_type": "code",
   "execution_count": 8,
   "id": "a825f4d8",
   "metadata": {},
   "outputs": [
    {
     "data": {
      "text/plain": [
       "('Assists', 'Errors', 'League', 'NewLeague')"
      ]
     },
     "execution_count": 8,
     "metadata": {},
     "output_type": "execute_result"
    }
   ],
   "source": [
    "hitters_Cp = sklearn_selected(OLS,\n",
    "                              strategy,\n",
    "                              scoring=negAIC)\n",
    "hitters_Cp.fit(Hitters, Y)\n",
    "hitters_Cp.selected_state_"
   ]
  }
 ],
 "metadata": {
  "jupytext": {
   "formats": "source/models///ipynb,jupyterbook/models///md:myst,jupyterbook/models///ipynb"
  },
  "kernelspec": {
   "display_name": "python3",
   "language": "python",
   "name": "python3"
  },
  "language_info": {
   "codemirror_mode": {
    "name": "ipython",
    "version": 3
   },
   "file_extension": ".py",
   "mimetype": "text/x-python",
   "name": "python",
   "nbconvert_exporter": "python",
   "pygments_lexer": "ipython3",
   "version": "3.9.13"
  }
 },
 "nbformat": 4,
 "nbformat_minor": 5
}

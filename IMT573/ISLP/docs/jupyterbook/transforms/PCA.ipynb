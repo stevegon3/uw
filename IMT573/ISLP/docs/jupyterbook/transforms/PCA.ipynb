{
 "cells": [
  {
   "cell_type": "markdown",
   "id": "25478d81",
   "metadata": {},
   "source": [
    "# Derived features: using PCA on a subset of columns\n",
    "\n",
    "The modelling tools included in `ISLP` allow for\n",
    "construction of transformers applied to features."
   ]
  },
  {
   "cell_type": "code",
   "execution_count": 1,
   "id": "6d8987d9",
   "metadata": {},
   "outputs": [],
   "source": [
    "import numpy as np\n",
    "from sklearn.decomposition import PCA\n",
    "\n",
    "from ISLP import load_data\n",
    "from ISLP.models import (ModelSpec, \n",
    "                         pca, \n",
    "                         Feature, \n",
    "                         derived_feature,\n",
    "                         build_columns)"
   ]
  },
  {
   "cell_type": "code",
   "execution_count": 2,
   "id": "6674de9d",
   "metadata": {},
   "outputs": [
    {
     "data": {
      "text/plain": [
       "Index(['Sales', 'CompPrice', 'Income', 'Advertising', 'Population', 'Price',\n",
       "       'ShelveLoc', 'Age', 'Education', 'Urban', 'US'],\n",
       "      dtype='object')"
      ]
     },
     "execution_count": 2,
     "metadata": {},
     "output_type": "execute_result"
    }
   ],
   "source": [
    "Carseats = load_data('Carseats')\n",
    "Carseats.columns"
   ]
  },
  {
   "cell_type": "markdown",
   "id": "da655f52-6f3a-4762-95ed-9b02e158bf16",
   "metadata": {},
   "source": [
    "Let's create a `ModelSpec` that is aware of all of the relevant columns."
   ]
  },
  {
   "cell_type": "code",
   "execution_count": 3,
   "id": "c9afb776-ae2b-48e0-9df8-e35dc7a81327",
   "metadata": {},
   "outputs": [],
   "source": [
    "design = ModelSpec(Carseats.columns.drop(['Sales'])).fit(Carseats)"
   ]
  },
  {
   "cell_type": "markdown",
   "id": "fff603bf",
   "metadata": {},
   "source": [
    "Suppose we want to make a `Feature` representing the first 3 principal components of the\n",
    " features `['CompPrice', 'Income', 'Advertising', 'Population', 'Price']`."
   ]
  },
  {
   "cell_type": "markdown",
   "id": "eab49ad1-3957-478f-8a76-28a8f58551e9",
   "metadata": {},
   "source": [
    "We first make a `Feature` that represents these five features columns, then `pca`\n",
    "can be used to compute a new `Feature` that returns the first three principal components."
   ]
  },
  {
   "cell_type": "code",
   "execution_count": 4,
   "id": "3e6901e9-470d-41a3-8a7d-64a8da7d80fa",
   "metadata": {},
   "outputs": [],
   "source": [
    "grouped = Feature(('CompPrice', 'Income', 'Advertising', 'Population', 'Price'), name='grouped', encoder=None)\n",
    "sklearn_pca = PCA(n_components=3, whiten=True)"
   ]
  },
  {
   "cell_type": "markdown",
   "id": "b45655a3-393d-4b4c-b754-cda61ed0e014",
   "metadata": {},
   "source": [
    "We can now fit `sklearn_pca` and create our new feature."
   ]
  },
  {
   "cell_type": "code",
   "execution_count": 5,
   "id": "6cfe8861-ad07-47b9-95d1-5d5513ff6fbe",
   "metadata": {},
   "outputs": [],
   "source": [
    "grouped_features = build_columns(design.column_info_,\n",
    "                                 Carseats,\n",
    "                                 grouped)[0]\n",
    "sklearn_pca.fit(grouped_features) \n",
    "pca_var = derived_feature(['CompPrice', 'Income', 'Advertising', 'Population', 'Price'],\n",
    "                           name='pca(grouped)', encoder=sklearn_pca)\n",
    "derived_features, _ = build_columns(design.column_info_,\n",
    "                                    Carseats, \n",
    "                                    pca_var,\n",
    "                                    encoders=design.encoders_)"
   ]
  },
  {
   "cell_type": "markdown",
   "id": "1a882cbc-8e90-4779-b14f-6fd49f5651df",
   "metadata": {},
   "source": [
    "## Helper function\n",
    "\n",
    "The function `pca` encompasses these steps into a single function for convenience."
   ]
  },
  {
   "cell_type": "code",
   "execution_count": 6,
   "id": "9f4b0955",
   "metadata": {},
   "outputs": [],
   "source": [
    "group_pca = pca(['CompPrice', 'Income', 'Advertising', 'Population', 'Price'], \n",
    "                n_components=3, \n",
    "                whiten=True, \n",
    "                name='grouped')"
   ]
  },
  {
   "cell_type": "code",
   "execution_count": 7,
   "id": "6b382699-eb86-457f-8e91-09a63eb21d49",
   "metadata": {},
   "outputs": [
    {
     "data": {
      "text/plain": [
       "Index(['pca(grouped, n_components=3, whiten=True)[0]',\n",
       "       'pca(grouped, n_components=3, whiten=True)[1]',\n",
       "       'pca(grouped, n_components=3, whiten=True)[2]'],\n",
       "      dtype='object')"
      ]
     },
     "execution_count": 7,
     "metadata": {},
     "output_type": "execute_result"
    }
   ],
   "source": [
    "pca_design = ModelSpec([group_pca], intercept=False)\n",
    "ISLP_features = pca_design.fit_transform(Carseats)\n",
    "ISLP_features.columns"
   ]
  },
  {
   "cell_type": "markdown",
   "id": "598e278c",
   "metadata": {},
   "source": [
    "## Direct comparison"
   ]
  },
  {
   "cell_type": "code",
   "execution_count": 8,
   "id": "4a8d9b28",
   "metadata": {},
   "outputs": [],
   "source": [
    "X = np.asarray(Carseats[['CompPrice', 'Income', 'Advertising', 'Population', 'Price']])\n",
    "sklearn_features = sklearn_pca.fit_transform(X)"
   ]
  },
  {
   "cell_type": "code",
   "execution_count": 13,
   "id": "6efa6c67-86e1-4f51-86c2-25c838a90bf4",
   "metadata": {},
   "outputs": [
    {
     "data": {
      "text/plain": [
       "(4.073428490498941e-14, 0.0)"
      ]
     },
     "execution_count": 13,
     "metadata": {},
     "output_type": "execute_result"
    }
   ],
   "source": [
    "np.linalg.norm(ISLP_features - sklearn_features), np.linalg.norm(ISLP_features - np.asarray(derived_features))"
   ]
  }
 ],
 "metadata": {
  "jupytext": {
   "formats": "source/transforms///ipynb,jupyterbook/transforms///md:myst,jupyterbook/transforms///ipynb"
  },
  "kernelspec": {
   "display_name": "python3",
   "language": "python",
   "name": "python3"
  },
  "language_info": {
   "codemirror_mode": {
    "name": "ipython",
    "version": 3
   },
   "file_extension": ".py",
   "mimetype": "text/x-python",
   "name": "python",
   "nbconvert_exporter": "python",
   "pygments_lexer": "ipython3",
   "version": "3.9.13"
  }
 },
 "nbformat": 4,
 "nbformat_minor": 5
}

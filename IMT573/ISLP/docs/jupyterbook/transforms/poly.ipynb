{
 "cells": [
  {
   "cell_type": "markdown",
   "id": "69c2a17b",
   "metadata": {},
   "source": [
    "# Polynomial features\n",
    "\n",
    "The modelling tools included in `ISLP` allow for\n",
    "construction of orthogonal polynomials of features.\n",
    "\n",
    "Force rebuild"
   ]
  },
  {
   "cell_type": "code",
   "execution_count": 1,
   "id": "4651f149",
   "metadata": {},
   "outputs": [],
   "source": [
    "import numpy as np\n",
    "from ISLP import load_data\n",
    "from ISLP.models import ModelSpec, poly"
   ]
  },
  {
   "cell_type": "code",
   "execution_count": 2,
   "id": "290af7e0",
   "metadata": {},
   "outputs": [
    {
     "data": {
      "text/plain": [
       "Index(['Sales', 'CompPrice', 'Income', 'Advertising', 'Population', 'Price',\n",
       "       'ShelveLoc', 'Age', 'Education', 'Urban', 'US'],\n",
       "      dtype='object')"
      ]
     },
     "execution_count": 2,
     "metadata": {},
     "output_type": "execute_result"
    }
   ],
   "source": [
    "Carseats = load_data('Carseats')\n",
    "Carseats.columns"
   ]
  },
  {
   "cell_type": "markdown",
   "id": "1b68208a-218c-4ee9-a7d2-8a0b0451b03b",
   "metadata": {},
   "source": [
    "Let's make a term representing a quartic effect for `Population`."
   ]
  },
  {
   "cell_type": "code",
   "execution_count": 3,
   "id": "8c85fa88-cd27-4a83-9060-dd8dc178c83f",
   "metadata": {},
   "outputs": [],
   "source": [
    "quartic = poly('Population', 4)"
   ]
  },
  {
   "cell_type": "markdown",
   "id": "8e1df9d6-b2d3-42aa-addf-1155b30973e5",
   "metadata": {},
   "source": [
    "The object `quartic` does not refer to any data yet, it must be included in a `ModelSpec` object\n",
    "and fit using the `fit` method."
   ]
  },
  {
   "cell_type": "code",
   "execution_count": 4,
   "id": "a49ad3e4-af07-4952-9a4a-590fca565d2c",
   "metadata": {},
   "outputs": [
    {
     "data": {
      "text/plain": [
       "Index(['poly(Population, degree=4)[0]', 'poly(Population, degree=4)[1]',\n",
       "       'poly(Population, degree=4)[2]', 'poly(Population, degree=4)[3]'],\n",
       "      dtype='object')"
      ]
     },
     "execution_count": 4,
     "metadata": {},
     "output_type": "execute_result"
    }
   ],
   "source": [
    "design = ModelSpec([quartic], intercept=False)\n",
    "ISLP_features = design.fit_transform(Carseats)\n",
    "ISLP_features.columns"
   ]
  },
  {
   "cell_type": "markdown",
   "id": "9df16fd2-6427-4f1e-97d8-1d3e28ff1f0f",
   "metadata": {},
   "source": [
    "## Compare to `R`\n",
    "\n",
    "We can compare our polynomials to a similar function in `R`"
   ]
  },
  {
   "cell_type": "code",
   "execution_count": 5,
   "id": "d6fde88f-cde3-43f1-8814-36ce4a4b4ecc",
   "metadata": {},
   "outputs": [],
   "source": [
    "%load_ext rpy2.ipython"
   ]
  },
  {
   "cell_type": "markdown",
   "id": "a62ef797-8c9c-45e4-a08d-b2efa8df709e",
   "metadata": {},
   "source": [
    "We'll recompute these features using `poly` in `R`."
   ]
  },
  {
   "cell_type": "code",
   "execution_count": 6,
   "id": "1bc583ca-6325-4419-8ef5-cc42f970b67a",
   "metadata": {},
   "outputs": [],
   "source": [
    "%%R -i Carseats -o R_features\n",
    "R_features = poly(Carseats$Population, 4)"
   ]
  },
  {
   "cell_type": "code",
   "execution_count": 7,
   "id": "052f2e9d",
   "metadata": {},
   "outputs": [
    {
     "data": {
      "text/plain": [
       "3.95855733196009e-15"
      ]
     },
     "execution_count": 7,
     "metadata": {},
     "output_type": "execute_result"
    }
   ],
   "source": [
    "np.linalg.norm(ISLP_features - R_features)"
   ]
  },
  {
   "cell_type": "markdown",
   "id": "c4e1679d-6434-45e3-a675-33c1ad183f04",
   "metadata": {},
   "source": [
    "## Underlying model\n",
    "\n",
    "If we look at `quartic`, we see it is a `Feature`, i.e. it can be used to produce a set of columns\n",
    "in a design matrix when it is a term used in creating the `ModelSpec`.\n",
    "\n",
    "Its encoder is `Poly(degree=4)`. This is a special `sklearn` transform that expects a single column\n",
    "in its `fit()` method and constructs a matrix of corresponding orthogonal polynomials.\n",
    "\n",
    "The spline helpers `ns` and `bs` as well as `pca` follow a similar structure."
   ]
  },
  {
   "cell_type": "code",
   "execution_count": 8,
   "id": "864c8a30-167c-40f8-a5b1-b26ba158aa21",
   "metadata": {},
   "outputs": [
    {
     "data": {
      "text/plain": [
       "Variable(variables=('Population',), name='poly(Population, degree=4)', encoder=Poly(degree=4), use_transform=True, pure_columns=False, override_encoder_colnames=True)"
      ]
     },
     "execution_count": 8,
     "metadata": {},
     "output_type": "execute_result"
    }
   ],
   "source": [
    "quartic"
   ]
  },
  {
   "cell_type": "markdown",
   "id": "9c31a4e6-11f2-4d90-9112-25756f88cf24",
   "metadata": {},
   "source": [
    "## Raw polynomials\n",
    "\n",
    "One can compute raw polynomials (which results in a less well-conditioned design matrix) of course."
   ]
  },
  {
   "cell_type": "code",
   "execution_count": 9,
   "id": "c348c5b6-d542-48bc-8da0-cdebf404d331",
   "metadata": {},
   "outputs": [],
   "source": [
    "quartic_raw = poly('Population', degree=4, raw=True)"
   ]
  },
  {
   "cell_type": "markdown",
   "id": "8eea8b00-ed2b-4cdf-90dc-bf1d7406733d",
   "metadata": {},
   "source": [
    "Let's compare the features again."
   ]
  },
  {
   "cell_type": "code",
   "execution_count": 10,
   "id": "07053253-7d7b-474a-a319-7982e052fb75",
   "metadata": {},
   "outputs": [],
   "source": [
    "design = ModelSpec([quartic_raw], intercept=False)\n",
    "raw_features = design.fit_transform(Carseats)"
   ]
  },
  {
   "cell_type": "code",
   "execution_count": 11,
   "id": "986583bb-b819-4d1e-bc4a-1288f94c16ab",
   "metadata": {},
   "outputs": [],
   "source": [
    "%%R -i Carseats -o R_features\n",
    "R_features = poly(Carseats$Population, 4, raw=TRUE)"
   ]
  },
  {
   "cell_type": "code",
   "execution_count": 12,
   "id": "00abce93-42ef-4f28-b9f7-8e1c7e24b3a5",
   "metadata": {},
   "outputs": [
    {
     "data": {
      "text/plain": [
       "0.0"
      ]
     },
     "execution_count": 12,
     "metadata": {},
     "output_type": "execute_result"
    }
   ],
   "source": [
    "np.linalg.norm(raw_features - R_features)"
   ]
  },
  {
   "cell_type": "markdown",
   "id": "2097fc9b-62ae-4ee7-aea4-0d65f9a07db3",
   "metadata": {},
   "source": [
    "## Intercept\n",
    "\n",
    "Looking at `py_features` we see it contains columns: `[Population**i for i in range(1, 4)]`. That is, \n",
    "it doesn't contain an intercept, the order 0 term. This can be include with `intercept=True`"
   ]
  },
  {
   "cell_type": "code",
   "execution_count": 13,
   "id": "a2d6b36c-29ff-4d5e-ae1e-a7cab4bc68b4",
   "metadata": {},
   "outputs": [],
   "source": [
    "quartic_int = poly('Population', degree=4, raw=True, intercept=True)\n",
    "design = ModelSpec([quartic_int], intercept=False)\n",
    "intercept_features = design.fit_transform(Carseats)"
   ]
  },
  {
   "cell_type": "code",
   "execution_count": 15,
   "id": "1ef711fd-5be2-4267-9a79-1553e4da91e9",
   "metadata": {},
   "outputs": [
    {
     "data": {
      "text/plain": [
       "0.0"
      ]
     },
     "execution_count": 15,
     "metadata": {},
     "output_type": "execute_result"
    }
   ],
   "source": [
    "np.linalg.norm(intercept_features.iloc[:,1:] - R_features)"
   ]
  }
 ],
 "metadata": {
  "jupytext": {
   "formats": "source/transforms///ipynb,jupyterbook/transforms///md:myst,jupyterbook/transforms///ipynb"
  },
  "kernelspec": {
   "display_name": "python3",
   "language": "python",
   "name": "python3"
  },
  "language_info": {
   "codemirror_mode": {
    "name": "ipython",
    "version": 3
   },
   "file_extension": ".py",
   "mimetype": "text/x-python",
   "name": "python",
   "nbconvert_exporter": "python",
   "pygments_lexer": "ipython3",
   "version": "3.9.13"
  }
 },
 "nbformat": 4,
 "nbformat_minor": 5
}

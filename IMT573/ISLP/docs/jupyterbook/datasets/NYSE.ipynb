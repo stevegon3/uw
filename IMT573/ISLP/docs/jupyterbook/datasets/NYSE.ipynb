{
 "cells": [
  {
   "cell_type": "markdown",
   "id": "9dc206d2",
   "metadata": {},
   "source": [
    "# New York Stock Exchange Data\n",
    "\n",
    "Data consisting of the Dow Jones returns, log trading volume, and\n",
    "log volatility for the New York Stock Exchange over a 20 year\n",
    "period\n",
    "\n",
    "- `date`: Date\n",
    "\n",
    "- `day_of_week`: Day of the week\n",
    "\n",
    "- `DJ_return`: Return for Dow Jones Industrial Average\n",
    "\n",
    "- `log_volume`: Log of trading volume\n",
    "\n",
    "- `log_volatility`: Log of volatility\n",
    "\n",
    "- `train`: For the first 4,281 observations, this is set to `True`\n",
    "\n",
    "## Source\n",
    "\n",
    "- B. LeBaron and A. Weigend (1998), IEEE Transactions on Neural\n",
    "Networks 9(1): 213-220."
   ]
  },
  {
   "cell_type": "code",
   "execution_count": null,
   "id": "fcff6c95",
   "metadata": {},
   "outputs": [],
   "source": [
    "from ISLP import load_data\n",
    "NYSE = load_data('NYSE')\n",
    "NYSE.columns"
   ]
  },
  {
   "cell_type": "code",
   "execution_count": null,
   "id": "84426961",
   "metadata": {},
   "outputs": [],
   "source": [
    "NYSE.shape"
   ]
  },
  {
   "cell_type": "code",
   "execution_count": null,
   "id": "e6194a8c",
   "metadata": {},
   "outputs": [],
   "source": [
    "NYSE.columns"
   ]
  },
  {
   "cell_type": "code",
   "execution_count": null,
   "id": "0c7bf3d7",
   "metadata": {},
   "outputs": [],
   "source": [
    "NYSE.describe()"
   ]
  }
 ],
 "metadata": {
  "jupytext": {
   "cell_metadata_filter": "-all",
   "formats": "source/datasets///ipynb,jupyterbook/datasets///md:myst,jupyterbook/datasets///ipynb",
   "main_language": "python"
  },
  "kernelspec": {
   "display_name": "python3",
   "language": "python",
   "name": "python3"
  }
 },
 "nbformat": 4,
 "nbformat_minor": 5
}

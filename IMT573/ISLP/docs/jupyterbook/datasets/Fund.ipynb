{
 "cells": [
  {
   "cell_type": "markdown",
   "id": "ce3e3118",
   "metadata": {},
   "source": [
    "# Fund Manager Data\n",
    "\n",
    "A simulated data set containing the returns for 2,000 hedge fund\n",
    "managers."
   ]
  },
  {
   "cell_type": "code",
   "execution_count": null,
   "id": "5eba8e49",
   "metadata": {},
   "outputs": [],
   "source": [
    "from ISLP import load_data\n",
    "Fund = load_data('Fund')\n",
    "Fund.columns"
   ]
  },
  {
   "cell_type": "code",
   "execution_count": null,
   "id": "ced3b335",
   "metadata": {},
   "outputs": [],
   "source": [
    "Fund.shape"
   ]
  },
  {
   "cell_type": "code",
   "execution_count": null,
   "id": "bfff1ac6",
   "metadata": {},
   "outputs": [],
   "source": [
    "Fund.columns"
   ]
  }
 ],
 "metadata": {
  "jupytext": {
   "cell_metadata_filter": "-all",
   "formats": "source/datasets///ipynb,jupyterbook/datasets///md:myst,jupyterbook/datasets///ipynb",
   "main_language": "python"
  },
  "kernelspec": {
   "display_name": "python3",
   "language": "python",
   "name": "python3"
  }
 },
 "nbformat": 4,
 "nbformat_minor": 5
}

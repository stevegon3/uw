{
 "cells": [
  {
   "cell_type": "markdown",
   "id": "c076f1cc",
   "metadata": {},
   "source": [
    "# U.S. News and World Report's College Data\n",
    "\n",
    "Statistics for a large number of US Colleges from the 1995 issue\n",
    "of US News and World Report.\n",
    "\n",
    "- `Private`: A factor with levels No and Yes indicating private or public university\n",
    "\n",
    "- `Apps`: Number of applications received\n",
    "\n",
    "- `Accept`: Number of applications accepted\n",
    "\n",
    "- `Enroll`: Number of new students enrolled\n",
    "\n",
    "- `Top10perc`: Pct. new students from top 10% of H.S. class\n",
    "\n",
    "- `Top25perc`: Pct. new students from top 25% of H.S. class\n",
    "\n",
    "- `F.Undergrad`: Number of fulltime undergraduates\n",
    "\n",
    "- `P.Undergrad`: Number of parttime undergraduates\n",
    "\n",
    "- `Outstate`: Out-of-state tuition\n",
    "\n",
    "- `Room.Board`: Room and board costs\n",
    "\n",
    "- `Books`: Estimated book costs\n",
    "\n",
    "- `Personal`: Estimated personal spending\n",
    "\n",
    "- `PhD`: Pct. of faculty with Ph.D.’s\n",
    "\n",
    "- `Terminal`: Pct. of faculty with terminal degree\n",
    "\n",
    "- `S.F.Ratio`: Student/faculty ratio\n",
    "\n",
    "- `perc.alumni`: Pct. alumni who donate\n",
    "\n",
    "- `Expend`: Instructional expenditure per student\n",
    "\n",
    "- `Grad.Rate`: Graduation rate\n",
    "\n",
    "## Source\n",
    "\n",
    "This dataset was taken from the StatLib library which is\n",
    "maintained at Carnegie Mellon University. The dataset was used in\n",
    "the ASA Statistical Graphics Section's 1995 Data Analysis\n",
    "Exposition."
   ]
  },
  {
   "cell_type": "code",
   "execution_count": null,
   "id": "680ceb3e",
   "metadata": {},
   "outputs": [],
   "source": [
    "from ISLP import load_data\n",
    "College = load_data('College')\n",
    "College.columns"
   ]
  },
  {
   "cell_type": "code",
   "execution_count": null,
   "id": "ccdf3e4f",
   "metadata": {},
   "outputs": [],
   "source": [
    "College.shape"
   ]
  },
  {
   "cell_type": "code",
   "execution_count": null,
   "id": "09f59747",
   "metadata": {},
   "outputs": [],
   "source": [
    "College.columns"
   ]
  },
  {
   "cell_type": "code",
   "execution_count": null,
   "id": "6a48dfd5",
   "metadata": {},
   "outputs": [],
   "source": [
    "College.describe().iloc[:,:4]"
   ]
  }
 ],
 "metadata": {
  "jupytext": {
   "cell_metadata_filter": "-all",
   "formats": "source/datasets///ipynb,jupyterbook/datasets///md:myst,jupyterbook/datasets///ipynb",
   "main_language": "python"
  },
  "kernelspec": {
   "display_name": "python3",
   "language": "python",
   "name": "python3"
  }
 },
 "nbformat": 4,
 "nbformat_minor": 5
}

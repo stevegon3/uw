{
 "cells": [
  {
   "cell_type": "markdown",
   "id": "a91131b2",
   "metadata": {},
   "source": [
    "# Boston Data\n",
    "\n",
    "A data set containing housing values in 506 suburbs of Boston.\n",
    "     \n",
    "- `crim`: per capita crime rate by town.\n",
    "\n",
    "- `zn`: proportion of residential land zoned for lots over 25,000\n",
    "          sq.ft.\n",
    "\n",
    "- `indus`: proportion of non-retail business acres per town.\n",
    "\n",
    "- `chas`: Charles River dummy variable (= 1 if tract bounds river; 0\n",
    "          otherwise).\n",
    "\n",
    "- `nox`: nitrogen oxides concentration (parts per 10 million).\n",
    "\n",
    "- `rm`: average number of rooms per dwelling.\n",
    "\n",
    "- `age`: proportion of owner-occupied units built prior to 1940.\n",
    "\n",
    "- `dis`: weighted mean of distances to five Boston employment\n",
    "          centres.\n",
    "\n",
    "- `rad`: index of accessibility to radial highways.\n",
    "\n",
    "- `tax`: full-value property-tax rate per $10,000.\n",
    "\n",
    "- `ptratio`: pupil-teacher ratio by town.\n",
    "\n",
    "- `lstat`: lower status of the population (percent).\n",
    "\n",
    "- `medv`: median value of owner-occupied homes in $1000s.\n",
    "\n",
    "## Notes \n",
    "\n",
    "This dataset was obtained from, and is slightly modified from, the\n",
    "Boston dataset that is part of the `R` library `MASS`.  References are\n",
    "available in the MASS library."
   ]
  },
  {
   "cell_type": "code",
   "execution_count": null,
   "id": "b8bb96f0",
   "metadata": {},
   "outputs": [],
   "source": [
    "from ISLP import load_data\n",
    "Boston = load_data('Boston')\n",
    "Boston.columns"
   ]
  },
  {
   "cell_type": "code",
   "execution_count": null,
   "id": "ab4b03f8",
   "metadata": {},
   "outputs": [],
   "source": [
    "Boston.shape"
   ]
  },
  {
   "cell_type": "code",
   "execution_count": null,
   "id": "74890e1f",
   "metadata": {},
   "outputs": [],
   "source": [
    "Boston.columns"
   ]
  },
  {
   "cell_type": "code",
   "execution_count": null,
   "id": "90ecf46f",
   "metadata": {},
   "outputs": [],
   "source": [
    "Boston.describe()"
   ]
  }
 ],
 "metadata": {
  "jupytext": {
   "cell_metadata_filter": "-all",
   "formats": "source/datasets///ipynb,jupyterbook/datasets///md:myst,jupyterbook/datasets///ipynb",
   "main_language": "python"
  },
  "kernelspec": {
   "display_name": "python3",
   "language": "python",
   "name": "python3"
  }
 },
 "nbformat": 4,
 "nbformat_minor": 5
}

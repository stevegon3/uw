{
 "cells": [
  {
   "cell_type": "markdown",
   "id": "a76b6367",
   "metadata": {},
   "source": [
    "# Baseball Data\n",
    "\n",
    "Major League Baseball Data from the 1986 and 1987 seasons.\n",
    "\n",
    "- `AtBat`: Number of times at bat in 1986\n",
    "\n",
    "- `Hits`: Number of hits in 1986\n",
    "\n",
    "- `HmRun`: Number of home runs in 1986\n",
    "\n",
    "- `Runs`: Number of runs in 1986\n",
    "\n",
    "- `RBI`: Number of runs batted in in 1986\n",
    "\n",
    "- `Walks`: Number of walks in 1986\n",
    "\n",
    "- `Years`: Number of years in the major leagues\n",
    "\n",
    "- `CAtBat`: Number of times at bat during his career\n",
    "\n",
    "- `CHits`: Number of hits during his career\n",
    "\n",
    "- `CHmRun`: Number of home runs during his career\n",
    "\n",
    "- `CRuns`: Number of runs during his career\n",
    "\n",
    "- `CRBI`: Number of runs batted in during his career\n",
    "\n",
    "- `CWalks`: Number of walks during his career\n",
    "\n",
    "- `League`: A factor with levels A and N indicating player’s league at the end of 1986\n",
    "\n",
    "- `Division`: A factor with levels E and W indicating player’s division at the end of 1986\n",
    "\n",
    "- `PutOuts`: Number of put outs in 1986\n",
    "\n",
    "- `Assists`: Number of assists in 1986\n",
    "\n",
    "- `Errors`: Number of errors in 1986\n",
    "\n",
    "- `Salary`: 1987 annual salary on opening day in thousands of dollars\n",
    "\n",
    "- `NewLeague`: A factor with levels A and N indicating player’s league at the beginning of 1987\n",
    "\n",
    "## Notes\n",
    "\n",
    "This dataset was taken from the StatLib library which is maintained at\n",
    "Carnegie Mellon University. This is part of the data that was\n",
    "used in the 1988 ASA Graphics Section Poster Session. The salary\n",
    "data were originally from Sports Illustrated, April 20, 1987. The\n",
    "1986 and career statistics were obtained from The 1987 Baseball\n",
    "Encyclopedia Update published by Collier Books, Macmillan\n",
    "Publishing Company, New York."
   ]
  },
  {
   "cell_type": "code",
   "execution_count": 1,
   "id": "4fa187f0",
   "metadata": {
    "ExecuteTime": {
     "end_time": "2025-03-11T03:27:40.193941Z",
     "start_time": "2025-03-11T03:27:39.794207Z"
    }
   },
   "outputs": [
    {
     "ename": "ModuleNotFoundError",
     "evalue": "No module named 'ISLP'",
     "output_type": "error",
     "traceback": [
      "\u001b[1;31m---------------------------------------------------------------------------\u001b[0m",
      "\u001b[1;31mModuleNotFoundError\u001b[0m                       Traceback (most recent call last)",
      "Cell \u001b[1;32mIn[1], line 1\u001b[0m\n\u001b[1;32m----> 1\u001b[0m \u001b[38;5;28;01mfrom\u001b[39;00m\u001b[38;5;250m \u001b[39m\u001b[38;5;21;01mISLP\u001b[39;00m\u001b[38;5;250m \u001b[39m\u001b[38;5;28;01mimport\u001b[39;00m load_data\n\u001b[0;32m      2\u001b[0m Hitters \u001b[38;5;241m=\u001b[39m load_data(\u001b[38;5;124m'\u001b[39m\u001b[38;5;124mHitters\u001b[39m\u001b[38;5;124m'\u001b[39m)\n\u001b[0;32m      3\u001b[0m Hitters\u001b[38;5;241m.\u001b[39mcolumns\n",
      "\u001b[1;31mModuleNotFoundError\u001b[0m: No module named 'ISLP'"
     ]
    }
   ],
   "source": [
    "from ISLP import load_data\n",
    "Hitters = load_data('Hitters')\n",
    "Hitters.columns"
   ]
  },
  {
   "cell_type": "code",
   "execution_count": null,
   "id": "04535ffb",
   "metadata": {},
   "outputs": [],
   "source": [
    "Hitters.shape"
   ]
  },
  {
   "cell_type": "code",
   "execution_count": null,
   "id": "6875aac6",
   "metadata": {},
   "outputs": [],
   "source": [
    "Hitters.columns"
   ]
  },
  {
   "cell_type": "code",
   "execution_count": null,
   "id": "9e2cffc8",
   "metadata": {},
   "outputs": [],
   "source": [
    "Hitters.describe().iloc[:,:4]"
   ]
  }
 ],
 "metadata": {
  "jupytext": {
   "cell_metadata_filter": "-all",
   "formats": "source/datasets///ipynb,jupyterbook/datasets///md:myst,jupyterbook/datasets///ipynb",
   "main_language": "python"
  },
  "kernelspec": {
   "display_name": "Python 3 (ipykernel)",
   "language": "python",
   "name": "python3"
  },
  "language_info": {
   "codemirror_mode": {
    "name": "ipython",
    "version": 3
   },
   "file_extension": ".py",
   "mimetype": "text/x-python",
   "name": "python",
   "nbconvert_exporter": "python",
   "pygments_lexer": "ipython3",
   "version": "3.8.10"
  },
  "toc": {
   "base_numbering": 1,
   "nav_menu": {},
   "number_sections": true,
   "sideBar": true,
   "skip_h1_title": false,
   "title_cell": "Table of Contents",
   "title_sidebar": "Contents",
   "toc_cell": false,
   "toc_position": {},
   "toc_section_display": true,
   "toc_window_display": false
  }
 },
 "nbformat": 4,
 "nbformat_minor": 5
}

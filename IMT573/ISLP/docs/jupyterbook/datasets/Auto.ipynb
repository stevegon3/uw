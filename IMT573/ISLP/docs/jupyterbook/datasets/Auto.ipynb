{
 "cells": [
  {
   "cell_type": "markdown",
   "id": "1afba2f2",
   "metadata": {},
   "source": [
    "# Auto Data\n",
    "\n",
    "Gas mileage, horsepower, and other information for 392 vehicles.\n",
    "\n",
    "A data frame with 392 observations on the following 9 variables.\n",
    "\n",
    "- `mpg`: miles per gallon\n",
    "\n",
    "- `cylinders`: Number of cylinders between 4 and 8\n",
    "\n",
    "- `displacement`: Engine displacement (cu. inches)\n",
    "\n",
    "- `horsepower`: Engine horsepower\n",
    "\n",
    "- `weight`: Vehicle weight (lbs.)\n",
    "\n",
    "- `acceleration`: Time to accelerate from 0 to 60 mph (sec.)\n",
    "\n",
    "- `year`: Model year (modulo 100)\n",
    "\n",
    "- `origin`: Origin of car (1. American, 2. European, 3. Japanese)\n",
    "\n",
    "- `name`: Vehicle name\n",
    "\n",
    "\n",
    "## Notes\n",
    "\n",
    "This dataset was taken from the StatLib library which is maintained at\n",
    "Carnegie Mellon University. The dataset was used in the 1983\n",
    "American Statistical Association Exposition. The original dataset\n",
    "has 397 observations, of which 5 have missing values for the\n",
    "variable `horsepower`. These rows are removed here. The original\n",
    "dataset is available at [the book's website](https://www.statlearning.com)."
   ]
  },
  {
   "cell_type": "code",
   "execution_count": null,
   "id": "182ea1d1",
   "metadata": {},
   "outputs": [],
   "source": [
    "from ISLP import load_data\n",
    "Auto = load_data('Auto')\n",
    "Auto.columns"
   ]
  },
  {
   "cell_type": "code",
   "execution_count": null,
   "id": "979abd7e",
   "metadata": {},
   "outputs": [],
   "source": [
    "Auto.shape"
   ]
  },
  {
   "cell_type": "code",
   "execution_count": null,
   "id": "7444c0f0",
   "metadata": {},
   "outputs": [],
   "source": [
    "Auto.columns"
   ]
  },
  {
   "cell_type": "code",
   "execution_count": null,
   "id": "59b6e919",
   "metadata": {},
   "outputs": [],
   "source": [
    "Auto.describe().iloc[:,:4]"
   ]
  }
 ],
 "metadata": {
  "jupytext": {
   "formats": "source/datasets///ipynb,jupyterbook/datasets///md:myst,jupyterbook/datasets///ipynb"
  },
  "kernelspec": {
   "display_name": "python3",
   "language": "python",
   "name": "python3"
  }
 },
 "nbformat": 4,
 "nbformat_minor": 5
}

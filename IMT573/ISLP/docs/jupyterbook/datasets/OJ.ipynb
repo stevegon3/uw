{
 "cells": [
  {
   "cell_type": "markdown",
   "id": "bbab1a1a",
   "metadata": {},
   "source": [
    "# Orange Juice Data\n",
    "\n",
    "The data contains 1070 purchases where the customer either\n",
    "purchased Citrus Hill or Minute Maid Orange Juice. A number of\n",
    "characteristics of the customer and product are recorded.\n",
    "\n",
    "     \n",
    "- `Purchase`: A factor with levels 'CH' and 'MM' indicating whether\n",
    "the customer purchased Citrus Hill or Minute Maid Orange\n",
    "Juice\n",
    "\n",
    "- `WeekofPurchase`: Week of purchase\n",
    "\n",
    "- `StoreID`: Store ID\n",
    "\n",
    "- `PriceCH`: Price charged for CH\n",
    "\n",
    "- `PriceMM`: Price charged for MM\n",
    "\n",
    "- `DiscCH`: Discount offered for CH\n",
    "\n",
    "- `DiscMM`: Discount offered for MM\n",
    "\n",
    "- `SpecialCH`: Indicator of special on CH\n",
    "\n",
    "- `SpecialMM`: Indicator of special on MM\n",
    "\n",
    "- `LoyalCH`: Customer brand loyalty for CH\n",
    "\n",
    "- `SalePriceMM`: Sale price for MM\n",
    "\n",
    "- `SalePriceCH`: Sale price for CH\n",
    "\n",
    "- `PriceDiff`: Sale price of MM less sale price of CH\n",
    "\n",
    "- `Store7`: A factor with levels 'No' and 'Yes' indicating whether\n",
    "the sale is at Store 7\n",
    "\n",
    "- `PctDiscMM`: Percentage discount for MM\n",
    "\n",
    "- `PctDiscCH`: Percentage discount for CH\n",
    "\n",
    "- `ListPriceDiff`: List price of MM less list price of CH\n",
    "\n",
    "- `STORE`: Which of 5 possible stores the sale occured at\n",
    "\n",
    "## Source\n",
    "\n",
    "Stine, Robert A., Foster, Dean P., Waterman, Richard P. Business\n",
    "Analysis Using Regression (1998). Published by Springer."
   ]
  },
  {
   "cell_type": "code",
   "execution_count": null,
   "id": "609742da",
   "metadata": {},
   "outputs": [],
   "source": [
    "from ISLP import load_data\n",
    "OJ = load_data('OJ')\n",
    "OJ.columns"
   ]
  },
  {
   "cell_type": "code",
   "execution_count": null,
   "id": "6f195dcd",
   "metadata": {},
   "outputs": [],
   "source": [
    "OJ.shape"
   ]
  },
  {
   "cell_type": "code",
   "execution_count": null,
   "id": "aaafb83b",
   "metadata": {},
   "outputs": [],
   "source": [
    "OJ.columns"
   ]
  },
  {
   "cell_type": "code",
   "execution_count": null,
   "id": "774dfa86",
   "metadata": {},
   "outputs": [],
   "source": [
    "OJ.describe().iloc[:,:4]"
   ]
  }
 ],
 "metadata": {
  "jupytext": {
   "cell_metadata_filter": "-all",
   "formats": "source/datasets///ipynb,jupyterbook/datasets///md:myst,jupyterbook/datasets///ipynb",
   "main_language": "python"
  },
  "kernelspec": {
   "display_name": "python3",
   "language": "python",
   "name": "python3"
  }
 },
 "nbformat": 4,
 "nbformat_minor": 5
}

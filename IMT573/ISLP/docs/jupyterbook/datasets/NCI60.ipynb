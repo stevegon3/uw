{
 "cells": [
  {
   "cell_type": "markdown",
   "id": "83be6e9e",
   "metadata": {},
   "source": [
    "# NCI 60 Data\n",
    "\n",
    "NCI microarray data. The data contains expression levels on 6830\n",
    "genes from 64 cancer cell lines. Cancer type is also recorded.\n",
    "\n",
    "The format is a list containing two elements: ‘data’ and ‘labs’.\n",
    "\n",
    "- `data`: is a 64 by 6830 matrix of the expression values while\n",
    "\n",
    "- `labs`: is a vector listing the cancer types for the 64 cell lines.\n",
    "\n",
    "## Source\n",
    "\n",
    "The data come from Ross et al. (Nat Genet., 2000). More information can be obtained at\n",
    "[http://genome-www.stanford.edu/nci60](http://genome-www.stanford.edu/nci60)."
   ]
  },
  {
   "cell_type": "code",
   "execution_count": null,
   "id": "c88c2eaf",
   "metadata": {},
   "outputs": [],
   "source": [
    "from ISLP import load_data\n",
    "NCI60 = load_data('NCI60')\n",
    "NCI60.keys()"
   ]
  },
  {
   "cell_type": "code",
   "execution_count": null,
   "id": "0e6279ad",
   "metadata": {},
   "outputs": [],
   "source": [
    "NCI60['labels'].value_counts()"
   ]
  },
  {
   "cell_type": "code",
   "execution_count": null,
   "id": "ed5ddd2f",
   "metadata": {},
   "outputs": [],
   "source": [
    "NCI60['data'].shape"
   ]
  }
 ],
 "metadata": {
  "jupytext": {
   "cell_metadata_filter": "-all",
   "formats": "source/datasets///ipynb,jupyterbook/datasets///md:myst,jupyterbook/datasets///ipynb",
   "main_language": "python"
  },
  "kernelspec": {
   "display_name": "python3",
   "language": "python",
   "name": "python3"
  }
 },
 "nbformat": 4,
 "nbformat_minor": 5
}

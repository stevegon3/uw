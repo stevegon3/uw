{
 "cells": [
  {
   "cell_type": "markdown",
   "id": "4e0f3d56",
   "metadata": {},
   "source": [
    "# Credit Card Balance Data\n",
    "\n",
    "A simulated data set containing information on 400 customers.\n",
    "\n",
    "- `Income`: Income in $1,000’s\n",
    "\n",
    "- `Limit`: Credit limit\n",
    "\n",
    "- `Rating`: Credit rating\n",
    "\n",
    "- `Cards`: Number of credit cards\n",
    "\n",
    "- `Age`: Age in years\n",
    "\n",
    "- `Education`: Education in years\n",
    "\n",
    "- `Own`: A factor with levels No and Yes indicating whether the individual owns a home\n",
    "\n",
    "- `Student`: A factor with levels No and Yes indicating whether the individual is a student\n",
    "\n",
    "- `Married`: A factor with levels No and Yes indicating whether the individual is married\n",
    "\n",
    "- `Region`: A factor with levels East, South, and West indicating the individual’s geographical location\n",
    "\n",
    "- `Balance`: Average credit card balance in $\n",
    "\n",
    "\n",
    "## Source\n",
    "\n",
    "Simulated data. Many thanks to Albert Kim for helpful suggestions,\n",
    "and for supplying a draft of the man documentation page on Oct 19,\n",
    "2017."
   ]
  },
  {
   "cell_type": "code",
   "execution_count": null,
   "id": "c4895446",
   "metadata": {},
   "outputs": [],
   "source": [
    "from ISLP import load_data\n",
    "Credit = load_data('Credit')\n",
    "Credit.columns"
   ]
  },
  {
   "cell_type": "code",
   "execution_count": null,
   "id": "c738c66b",
   "metadata": {},
   "outputs": [],
   "source": [
    "Credit.shape"
   ]
  },
  {
   "cell_type": "code",
   "execution_count": null,
   "id": "d612f5a7",
   "metadata": {},
   "outputs": [],
   "source": [
    "Credit.columns"
   ]
  },
  {
   "cell_type": "code",
   "execution_count": null,
   "id": "45633b1a",
   "metadata": {},
   "outputs": [],
   "source": [
    "Credit.describe().iloc[:,:4]"
   ]
  }
 ],
 "metadata": {
  "jupytext": {
   "cell_metadata_filter": "-all",
   "formats": "source/datasets///ipynb,jupyterbook/datasets///md:myst,jupyterbook/datasets///ipynb",
   "main_language": "python"
  },
  "kernelspec": {
   "display_name": "python3",
   "language": "python",
   "name": "python3"
  }
 },
 "nbformat": 4,
 "nbformat_minor": 5
}

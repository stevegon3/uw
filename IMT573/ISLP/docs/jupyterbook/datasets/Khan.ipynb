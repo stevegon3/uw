{
 "cells": [
  {
   "cell_type": "markdown",
   "id": "6c49ac41",
   "metadata": {},
   "source": [
    "# Khan Gene Data\n",
    "\n",
    "The data consists of a number of tissue samples corresponding to\n",
    "four distinct types of small round blue cell tumors. For each\n",
    "tissue sample, 2308 gene expression measurements are available.\n",
    "\n",
    "     \n",
    "## Format\n",
    "\n",
    "The format is a dict containing four components: `xtrain`,\n",
    "`xtest`, `ytrain`, and `ytest`. `xtrain` contains the 2308 gene\n",
    "expression values for 63 subjects and `ytrain` records the\n",
    "corresponding tumor type. `ytrain` and `ytest` contain the\n",
    "corresponding testing sample information for a further 20\n",
    "subjects.\n",
    "\n",
    "## Notes\n",
    "\n",
    "This data were originally reported in:\n",
    "\n",
    "- Khan J, Wei J, Ringner M, Saal L, Ladanyi M, Westermann F,\n",
    "Berthold F, Schwab M, Antonescu C, Peterson C, and Meltzer P.\n",
    "Classification and diagnostic prediction of cancers using gene\n",
    "expression profiling and artificial neural networks. Nature\n",
    "Medicine, v.7, pp.673-679, 2001.\n",
    "\n",
    "The data were also used in:\n",
    "\n",
    "- Tibshirani RJ, Hastie T, Narasimhan B, and G. Chu. Diagnosis of\n",
    "Multiple Cancer Types by Shrunken Centroids of Gene Expression.\n",
    "Proceedings of the National Academy of Sciences of the United\n",
    "States of America, v.99(10), pp.6567-6572, May 14, 2002."
   ]
  },
  {
   "cell_type": "code",
   "execution_count": null,
   "id": "bfda6cad",
   "metadata": {},
   "outputs": [],
   "source": [
    "from ISLP import load_data\n",
    "Khan = load_data('Khan')\n",
    "Khan.keys()"
   ]
  },
  {
   "cell_type": "code",
   "execution_count": null,
   "id": "70514dc5",
   "metadata": {},
   "outputs": [],
   "source": [
    "for X in ['xtest', 'xtrain']:\n",
    "    print(Khan[X].shape)"
   ]
  },
  {
   "cell_type": "code",
   "execution_count": null,
   "id": "e9df5de8",
   "metadata": {},
   "outputs": [],
   "source": [
    "for Y in ['ytest', 'ytrain']:\n",
    "    print(Khan[Y].value_counts())"
   ]
  }
 ],
 "metadata": {
  "jupytext": {
   "cell_metadata_filter": "-all",
   "formats": "source/datasets///ipynb,jupyterbook/datasets///md:myst,jupyterbook/datasets///ipynb",
   "main_language": "python"
  },
  "kernelspec": {
   "display_name": "python3",
   "language": "python",
   "name": "python3"
  }
 },
 "nbformat": 4,
 "nbformat_minor": 5
}

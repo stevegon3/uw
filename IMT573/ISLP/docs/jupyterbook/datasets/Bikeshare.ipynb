{
 "cells": [
  {
   "cell_type": "markdown",
   "id": "c20359a4",
   "metadata": {},
   "source": [
    "# Bike sharing data\n",
    "\n",
    "\n",
    "This data set contains the hourly and daily count of rental bikes\n",
    "between years 2011 and 2012 in Capital bikeshare system, along\n",
    "with weather and seasonal information.\n",
    "     \n",
    "- `season`: Season of the year, coded as Winter=1, Spring=2,\n",
    "          Summer=3, Fall=4.\n",
    "\n",
    "- `mnth`: Month of the year, coded as a factor.\n",
    "\n",
    "- `day`: Day of the year, from 1 to 365\n",
    "\n",
    "- `hr`: Hour of the day, coded as a factor from 0 to 23.\n",
    "\n",
    "- `holiday`: Is it a holiday? Yes=1, No=0.\n",
    "\n",
    "- `weekday`: Day of the week, coded from 0 to 6, where Sunday=0,\n",
    "          Monday=1, Tuesday=2, etc.\n",
    "\n",
    "- `workingday`: Is it a work day? Yes=1, No=0.\n",
    "\n",
    "- `weathersit`: Weather, coded as a factor.\n",
    "\n",
    "- `temp`: Normalized temperature in Celsius. The values are derived\n",
    "          via `(t-t_min)/(t_max-t_min)`, `t_min`=-8, `t_max`=+39.\n",
    "\n",
    "- `atemp`: Normalized feeling temperature in Celsius. The values are\n",
    "          derived via `(t-t_min)/(t_max-t_min)`, `t_min`=-16, `t_max`=+50.\n",
    "\n",
    "- `hum`: Normalized humidity. The values are divided to 100 (max).\n",
    "\n",
    "- `windspeed`: Normalized wind speed. The values are divided by 67\n",
    "          (max).\n",
    "\n",
    "- `casual`: Number of casual bikers.\n",
    "\n",
    "- `registered`: Number of registered bikers.\n",
    "\n",
    "- `bikers`: Total number of bikers.\n",
    "\n",
    "## Source\n",
    "\n",
    "The [UCI Machine Learning Repository](https://archive.ics.uci.edu/ml/datasets/bike+sharing+dataset)."
   ]
  },
  {
   "cell_type": "code",
   "execution_count": null,
   "id": "bcdb89b6",
   "metadata": {},
   "outputs": [],
   "source": [
    "from ISLP import load_data\n",
    "Bikeshare = load_data('Bikeshare')\n",
    "Bikeshare.columns"
   ]
  },
  {
   "cell_type": "code",
   "execution_count": null,
   "id": "72075fb0",
   "metadata": {},
   "outputs": [],
   "source": [
    "Bikeshare.shape"
   ]
  },
  {
   "cell_type": "code",
   "execution_count": null,
   "id": "45396d69",
   "metadata": {},
   "outputs": [],
   "source": [
    "Bikeshare.columns"
   ]
  },
  {
   "cell_type": "code",
   "execution_count": null,
   "id": "26c24d9a",
   "metadata": {},
   "outputs": [],
   "source": [
    "Bikeshare.describe().iloc[:,:4]"
   ]
  }
 ],
 "metadata": {
  "jupytext": {
   "cell_metadata_filter": "-all",
   "formats": "source/datasets///ipynb,jupyterbook/datasets///md:myst,jupyterbook/datasets///ipynb",
   "main_language": "python"
  },
  "kernelspec": {
   "display_name": "python3",
   "language": "python",
   "name": "python3"
  }
 },
 "nbformat": 4,
 "nbformat_minor": 5
}

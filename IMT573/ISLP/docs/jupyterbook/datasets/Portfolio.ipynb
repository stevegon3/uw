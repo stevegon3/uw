{
 "cells": [
  {
   "cell_type": "markdown",
   "id": "e7030b1c",
   "metadata": {},
   "source": [
    "# Portfolio Data\n",
    "\n",
    "A simple simulated data set containing 100 returns for each of two\n",
    "assets, X and Y. The data is used to estimate the optimal fraction\n",
    "to invest in each asset to minimize investment risk of the\n",
    "combined portfolio. One can then use the Bootstrap to estimate the\n",
    "standard error of this estimate.\n",
    "\n",
    "- `X`: Returns for Asset X\n",
    "\n",
    "- `Y`: Returns for Asset Y"
   ]
  },
  {
   "cell_type": "code",
   "execution_count": null,
   "id": "3adff220",
   "metadata": {},
   "outputs": [],
   "source": [
    "from ISLP import load_data\n",
    "Portfolio = load_data('Portfolio')\n",
    "Portfolio.columns"
   ]
  },
  {
   "cell_type": "code",
   "execution_count": null,
   "id": "b02a9e67",
   "metadata": {},
   "outputs": [],
   "source": [
    "Portfolio.shape"
   ]
  },
  {
   "cell_type": "code",
   "execution_count": null,
   "id": "3e83a0ed",
   "metadata": {},
   "outputs": [],
   "source": [
    "Portfolio.columns"
   ]
  },
  {
   "cell_type": "code",
   "execution_count": null,
   "id": "3ebec412",
   "metadata": {},
   "outputs": [],
   "source": [
    "Portfolio.describe()"
   ]
  }
 ],
 "metadata": {
  "jupytext": {
   "cell_metadata_filter": "-all",
   "formats": "source/datasets///ipynb,jupyterbook/datasets///md:myst,jupyterbook/datasets///ipynb",
   "main_language": "python"
  },
  "kernelspec": {
   "display_name": "python3",
   "language": "python",
   "name": "python3"
  }
 },
 "nbformat": 4,
 "nbformat_minor": 5
}

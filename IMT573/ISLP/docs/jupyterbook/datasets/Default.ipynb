{
 "cells": [
  {
   "cell_type": "markdown",
   "id": "2d9583bc",
   "metadata": {},
   "source": [
    "# Credit Card Default Data\n",
    "\n",
    "A simulated data set containing information on ten thousand\n",
    "customers. The aim here is to predict which customers will default\n",
    "on their credit card debt.\n",
    "     \n",
    "- `default`: A factor with levels ‘No’ and ‘Yes’ indicating whether\n",
    "          the customer defaulted on their debt\n",
    "\n",
    "- `student`: A factor with levels ‘No’ and ‘Yes’ indicating whether\n",
    "          the customer is a student\n",
    "\n",
    "- `balance`: The average balance that the customer has remaining on\n",
    "          their credit card after making their monthly payment\n",
    "\n",
    "- `income`: Income of customer"
   ]
  },
  {
   "cell_type": "code",
   "execution_count": null,
   "id": "ab810dee",
   "metadata": {},
   "outputs": [],
   "source": [
    "from ISLP import load_data\n",
    "Default = load_data('Default')\n",
    "Default.columns"
   ]
  },
  {
   "cell_type": "code",
   "execution_count": null,
   "id": "086ef3a2",
   "metadata": {},
   "outputs": [],
   "source": [
    "Default.shape"
   ]
  },
  {
   "cell_type": "code",
   "execution_count": null,
   "id": "6600c13b",
   "metadata": {},
   "outputs": [],
   "source": [
    "Default.columns"
   ]
  },
  {
   "cell_type": "code",
   "execution_count": null,
   "id": "09e98840",
   "metadata": {},
   "outputs": [],
   "source": [
    "Default.describe()"
   ]
  },
  {
   "cell_type": "code",
   "execution_count": null,
   "id": "425f0cb1",
   "metadata": {},
   "outputs": [],
   "source": [
    "Default['student'].value_counts()"
   ]
  }
 ],
 "metadata": {
  "jupytext": {
   "cell_metadata_filter": "-all",
   "formats": "source/datasets///ipynb,jupyterbook/datasets///md:myst,jupyterbook/datasets///ipynb",
   "main_language": "python"
  },
  "kernelspec": {
   "display_name": "python3",
   "language": "python",
   "name": "python3"
  }
 },
 "nbformat": 4,
 "nbformat_minor": 5
}

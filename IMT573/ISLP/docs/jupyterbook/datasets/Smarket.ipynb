{
 "cells": [
  {
   "cell_type": "markdown",
   "id": "1e051d30",
   "metadata": {},
   "source": [
    "# S&P Stock Market Data\n",
    "\n",
    "Daily percentage returns for the S&P 500 stock index between 2001\n",
    "and 2005.\n",
    "\n",
    "- `Year`: The year that the observation was recorded\n",
    "\n",
    "- `Lag1`: Percentage return for previous day\n",
    "\n",
    "- `Lag2`: Percentage return for 2 days previous\n",
    "\n",
    "- `Lag3`: Percentage return for 3 days previous\n",
    "\n",
    "- `Lag4`: Percentage return for 4 days previous\n",
    "\n",
    "- `Lag5`: Percentage return for 5 days previous\n",
    "\n",
    "- `Volume`: Volume of shares traded (number of daily shares traded in\n",
    "          billions)\n",
    "\n",
    "- `Today`: Percentage return for today\n",
    "\n",
    "- `Direction`: A factor with levels 'Down' and 'Up' indicating\n",
    " whether the market had a positive or negative return on a\n",
    " given day\n",
    "\n",
    "## Source\n",
    "\n",
    "Raw values of the S&P 500 were obtained from Yahoo Finance and\n",
    "then converted to percentages and lagged."
   ]
  },
  {
   "cell_type": "code",
   "execution_count": null,
   "id": "3d920337",
   "metadata": {},
   "outputs": [],
   "source": [
    "from ISLP import load_data\n",
    "Smarket = load_data('Smarket')\n",
    "Smarket.columns"
   ]
  },
  {
   "cell_type": "code",
   "execution_count": null,
   "id": "25d90138",
   "metadata": {},
   "outputs": [],
   "source": [
    "Smarket.shape"
   ]
  },
  {
   "cell_type": "code",
   "execution_count": null,
   "id": "0e8c57de",
   "metadata": {},
   "outputs": [],
   "source": [
    "Smarket.columns"
   ]
  },
  {
   "cell_type": "code",
   "execution_count": null,
   "id": "2d455f1e",
   "metadata": {},
   "outputs": [],
   "source": [
    "Smarket.describe().iloc[:,-4:]"
   ]
  }
 ],
 "metadata": {
  "jupytext": {
   "cell_metadata_filter": "-all",
   "formats": "source/datasets///ipynb,jupyterbook/datasets///md:myst,jupyterbook/datasets///ipynb",
   "main_language": "python"
  },
  "kernelspec": {
   "display_name": "python3",
   "language": "python",
   "name": "python3"
  }
 },
 "nbformat": 4,
 "nbformat_minor": 5
}

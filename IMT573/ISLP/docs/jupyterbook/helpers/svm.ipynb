{
 "cells": [
  {
   "cell_type": "markdown",
   "id": "ca66a2d6",
   "metadata": {},
   "source": [
    "# Support Vector Machines\n",
    "\n",
    "This module contains a single function used to help visualize the decision rule of an SVM."
   ]
  },
  {
   "cell_type": "code",
   "execution_count": null,
   "id": "2746a357",
   "metadata": {},
   "outputs": [],
   "source": [
    "import numpy as np\n",
    "from sklearn.svm import SVC\n",
    "from ISLP.svm import plot"
   ]
  },
  {
   "cell_type": "markdown",
   "id": "4fee3435",
   "metadata": {},
   "source": [
    "## Make a toy dataset"
   ]
  },
  {
   "cell_type": "code",
   "execution_count": null,
   "id": "4728535b",
   "metadata": {},
   "outputs": [],
   "source": [
    "rng = np.random.default_rng(1)\n",
    "X = rng.normal(size=(100, 5))\n",
    "X[:40][:,3:5] += 2\n",
    "Y = np.zeros(X.shape[0])\n",
    "Y[:40] = 1"
   ]
  },
  {
   "cell_type": "markdown",
   "id": "352c33e5",
   "metadata": {},
   "source": [
    "## Fit an SVM classifier"
   ]
  },
  {
   "cell_type": "code",
   "execution_count": null,
   "id": "74da6860",
   "metadata": {},
   "outputs": [],
   "source": [
    "svm = SVC(kernel='linear')\n",
    "svm.fit(X, Y)"
   ]
  },
  {
   "cell_type": "code",
   "execution_count": null,
   "id": "d87b6f75",
   "metadata": {},
   "outputs": [],
   "source": [
    "plot(X, Y, svm)"
   ]
  },
  {
   "cell_type": "markdown",
   "id": "a79e4778",
   "metadata": {},
   "source": [
    "## Slicing through different features\n",
    "\n",
    "When we generated our data, the real differences ware in the 4th and 5th coordinates.\n",
    "We can see this by taking a cross-section through the data that includes this coordinate as\n",
    "one of the axes in the plot."
   ]
  },
  {
   "cell_type": "code",
   "execution_count": null,
   "id": "bc58956a",
   "metadata": {},
   "outputs": [],
   "source": [
    "plot(X, Y, svm, features=(3, 4))"
   ]
  }
 ],
 "metadata": {
  "jupytext": {
   "cell_metadata_filter": "-all",
   "formats": "source/helpers///ipynb,jupyterbook/helpers///md:myst,jupyterbook/helpers///ipynb",
   "main_language": "python"
  },
  "kernelspec": {
   "display_name": "python3",
   "language": "python",
   "name": "python3"
  }
 },
 "nbformat": 4,
 "nbformat_minor": 5
}

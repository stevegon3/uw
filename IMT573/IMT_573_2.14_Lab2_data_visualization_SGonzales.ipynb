{
 "cells": [
  {
   "cell_type": "markdown",
   "id": "1461b6bb",
   "metadata": {},
   "source": [
    "# IMT 573 - Lab 2 - Data Visualization"
   ]
  },
  {
   "cell_type": "markdown",
   "id": "1cf60757",
   "metadata": {},
   "source": [
    "### Instructions\n",
    "\n",
    "Before beginning this assignment, please ensure you have access to a working instance of Jupyter Notebooks with Python 3.\n",
    "\n",
    "1. First, replace the “YOUR NAME HERE” text in the next cell with your own full name. Any collaborators must also be listed in this cell.\n",
    "\n",
    "2. Be sure to include well-documented (e.g. commented) code cells, figures, and clearly written text  explanations as necessary. Any figures should be clearly labeled and appropriately referenced within the text. Be sure that each visualization adds value to your written explanation; avoid redundancy – you do no need four different visualizations of the same pattern.\n",
    "\n",
    "3. Collaboration on problem sets and labs is fun, useful, and encouraged. However, each student must turn in an individual write-up in their own words as well as code/work that is their own. Regardless of whether you work with others, what you turn in must be your own work; this includes code and interpretation of results. The names of all collaborators must be listed on each assignment. Do not copy-and-paste from other students’ responses or code - your code should never be on any other student's screen or machine.\n",
    "\n",
    "4. All materials and resources that you use (with the exception of lecture slides) must be appropriately referenced within your assignment."
   ]
  },
  {
   "cell_type": "markdown",
   "id": "aadc8a3b",
   "metadata": {},
   "source": [
    "Name: Steve Gonzales\n",
    "\n",
    "Collaborators: None"
   ]
  },
  {
   "cell_type": "markdown",
   "id": "1b52d3c3",
   "metadata": {},
   "source": [
    "In this lab, we will look at data on the sinking of the RMS Titanic in the North Atlantic Ocean on the early morning of April 15, 1912. The data can be loaded as part of the `seaborn` package, which is imported below. `pyplot` is also imported below in case you need added functionality. You may need to install the packages if you're getting an error when importing.\n",
    "\n",
    "Once the package is imported, the data is available by calling `sns.load_dataset(\"titanic\")`, (note how `sns` refers to the variable from `import`). Store the data in your variable of choice."
   ]
  },
  {
   "cell_type": "code",
   "execution_count": 1,
   "id": "610031dc",
   "metadata": {
    "ExecuteTime": {
     "end_time": "2025-01-19T20:12:57.974184Z",
     "start_time": "2025-01-19T20:12:56.238424Z"
    },
    "init_cell": true,
    "scrolled": false
   },
   "outputs": [],
   "source": [
    "import seaborn as sns\n",
    "import matplotlib.pyplot as plt\n",
    "import pandas as pd\n",
    "from typing import List\n",
    "import math"
   ]
  },
  {
   "cell_type": "code",
   "execution_count": 88,
   "id": "57122285",
   "metadata": {
    "ExecuteTime": {
     "end_time": "2025-01-18T23:59:49.465020Z",
     "start_time": "2025-01-18T23:59:49.442900Z"
    },
    "scrolled": false
   },
   "outputs": [],
   "source": [
    "df_titanic = sns.load_dataset(\"titanic\")"
   ]
  },
  {
   "cell_type": "markdown",
   "id": "5149ad54",
   "metadata": {},
   "source": [
    "For this lab, we will be exploring two primary questions:\n",
    "\n",
    "- Who were the Titanic passengers and what charactersitics did they have?\n",
    "- What passenger characteristics or other factors seem to be associated with survival?\n",
    "\n",
    "Your task will be to create visualizations to better explore each of these questions."
   ]
  },
  {
   "cell_type": "markdown",
   "id": "afecbe72",
   "metadata": {},
   "source": [
    "### Problem 1: Who were the Titanic passengers?\n",
    "\n",
    "Let's take a look at the titanic passengers in terms of their age and recorded gender (labelled \"sex\" in the dataset). To examine this, create a violin plot visualization that shows a histogram of ages for each sex, broken down by whether the passenger survived. You can read more on violin plots [here](https://seaborn.pydata.org/generated/seaborn.violinplot.html). An example of what your visualization may look like can be found [here](https://drive.google.com/file/d/1aunGBuEso3zpn4QOb688WQD5Quqtzy_s/view?usp=drive_link)."
   ]
  },
  {
   "cell_type": "markdown",
   "id": "876b209b",
   "metadata": {},
   "source": [
    "For your visualization:\n",
    "- change the color of the histograms from the default colors\n",
    "- add gridlines across whichever axis shows age (hint: use the `set_style()` function to help with this. For more, see [here](https://seaborn.pydata.org/generated/seaborn.set_style.html).\n",
    "- add axis labels and a title"
   ]
  },
  {
   "cell_type": "markdown",
   "id": "4dd69c01",
   "metadata": {},
   "source": [
    "### Problem 2: A visualization of your own\n",
    "\n",
    "Now, create a visualization of your own that shows relationships between passenger characteristics and survival. You must:\n",
    "- create a visualization other than a violin visualization\n",
    "- use (at least) two variables other than survival in your visualization\n",
    "- appropriately label the axes and add a title\n",
    "\n",
    "After creating your visualization, provide a paragraph describing what the visualization shows.\n",
    "\n",
    "Have fun and be creative!"
   ]
  },
  {
   "cell_type": "markdown",
   "id": "60f4527f",
   "metadata": {},
   "source": [
    "# 1.0.2  Problem 1: Who were the Titanic passengers?"
   ]
  },
  {
   "cell_type": "code",
   "execution_count": 89,
   "id": "d7a2e413",
   "metadata": {
    "ExecuteTime": {
     "end_time": "2025-01-18T23:59:49.482714Z",
     "start_time": "2025-01-18T23:59:49.466430Z"
    },
    "scrolled": false
   },
   "outputs": [
    {
     "data": {
      "text/html": [
       "<div>\n",
       "<style scoped>\n",
       "    .dataframe tbody tr th:only-of-type {\n",
       "        vertical-align: middle;\n",
       "    }\n",
       "\n",
       "    .dataframe tbody tr th {\n",
       "        vertical-align: top;\n",
       "    }\n",
       "\n",
       "    .dataframe thead th {\n",
       "        text-align: right;\n",
       "    }\n",
       "</style>\n",
       "<table border=\"1\" class=\"dataframe\">\n",
       "  <thead>\n",
       "    <tr style=\"text-align: right;\">\n",
       "      <th></th>\n",
       "      <th>survived</th>\n",
       "      <th>pclass</th>\n",
       "      <th>sex</th>\n",
       "      <th>age</th>\n",
       "      <th>sibsp</th>\n",
       "      <th>parch</th>\n",
       "      <th>fare</th>\n",
       "      <th>embarked</th>\n",
       "      <th>class</th>\n",
       "      <th>who</th>\n",
       "      <th>adult_male</th>\n",
       "      <th>deck</th>\n",
       "      <th>embark_town</th>\n",
       "      <th>alive</th>\n",
       "      <th>alone</th>\n",
       "    </tr>\n",
       "  </thead>\n",
       "  <tbody>\n",
       "    <tr>\n",
       "      <th>0</th>\n",
       "      <td>0</td>\n",
       "      <td>3</td>\n",
       "      <td>male</td>\n",
       "      <td>22.0</td>\n",
       "      <td>1</td>\n",
       "      <td>0</td>\n",
       "      <td>7.2500</td>\n",
       "      <td>S</td>\n",
       "      <td>Third</td>\n",
       "      <td>man</td>\n",
       "      <td>True</td>\n",
       "      <td>NaN</td>\n",
       "      <td>Southampton</td>\n",
       "      <td>no</td>\n",
       "      <td>False</td>\n",
       "    </tr>\n",
       "    <tr>\n",
       "      <th>1</th>\n",
       "      <td>1</td>\n",
       "      <td>1</td>\n",
       "      <td>female</td>\n",
       "      <td>38.0</td>\n",
       "      <td>1</td>\n",
       "      <td>0</td>\n",
       "      <td>71.2833</td>\n",
       "      <td>C</td>\n",
       "      <td>First</td>\n",
       "      <td>woman</td>\n",
       "      <td>False</td>\n",
       "      <td>C</td>\n",
       "      <td>Cherbourg</td>\n",
       "      <td>yes</td>\n",
       "      <td>False</td>\n",
       "    </tr>\n",
       "    <tr>\n",
       "      <th>2</th>\n",
       "      <td>1</td>\n",
       "      <td>3</td>\n",
       "      <td>female</td>\n",
       "      <td>26.0</td>\n",
       "      <td>0</td>\n",
       "      <td>0</td>\n",
       "      <td>7.9250</td>\n",
       "      <td>S</td>\n",
       "      <td>Third</td>\n",
       "      <td>woman</td>\n",
       "      <td>False</td>\n",
       "      <td>NaN</td>\n",
       "      <td>Southampton</td>\n",
       "      <td>yes</td>\n",
       "      <td>True</td>\n",
       "    </tr>\n",
       "    <tr>\n",
       "      <th>3</th>\n",
       "      <td>1</td>\n",
       "      <td>1</td>\n",
       "      <td>female</td>\n",
       "      <td>35.0</td>\n",
       "      <td>1</td>\n",
       "      <td>0</td>\n",
       "      <td>53.1000</td>\n",
       "      <td>S</td>\n",
       "      <td>First</td>\n",
       "      <td>woman</td>\n",
       "      <td>False</td>\n",
       "      <td>C</td>\n",
       "      <td>Southampton</td>\n",
       "      <td>yes</td>\n",
       "      <td>False</td>\n",
       "    </tr>\n",
       "    <tr>\n",
       "      <th>4</th>\n",
       "      <td>0</td>\n",
       "      <td>3</td>\n",
       "      <td>male</td>\n",
       "      <td>35.0</td>\n",
       "      <td>0</td>\n",
       "      <td>0</td>\n",
       "      <td>8.0500</td>\n",
       "      <td>S</td>\n",
       "      <td>Third</td>\n",
       "      <td>man</td>\n",
       "      <td>True</td>\n",
       "      <td>NaN</td>\n",
       "      <td>Southampton</td>\n",
       "      <td>no</td>\n",
       "      <td>True</td>\n",
       "    </tr>\n",
       "    <tr>\n",
       "      <th>...</th>\n",
       "      <td>...</td>\n",
       "      <td>...</td>\n",
       "      <td>...</td>\n",
       "      <td>...</td>\n",
       "      <td>...</td>\n",
       "      <td>...</td>\n",
       "      <td>...</td>\n",
       "      <td>...</td>\n",
       "      <td>...</td>\n",
       "      <td>...</td>\n",
       "      <td>...</td>\n",
       "      <td>...</td>\n",
       "      <td>...</td>\n",
       "      <td>...</td>\n",
       "      <td>...</td>\n",
       "    </tr>\n",
       "    <tr>\n",
       "      <th>886</th>\n",
       "      <td>0</td>\n",
       "      <td>2</td>\n",
       "      <td>male</td>\n",
       "      <td>27.0</td>\n",
       "      <td>0</td>\n",
       "      <td>0</td>\n",
       "      <td>13.0000</td>\n",
       "      <td>S</td>\n",
       "      <td>Second</td>\n",
       "      <td>man</td>\n",
       "      <td>True</td>\n",
       "      <td>NaN</td>\n",
       "      <td>Southampton</td>\n",
       "      <td>no</td>\n",
       "      <td>True</td>\n",
       "    </tr>\n",
       "    <tr>\n",
       "      <th>887</th>\n",
       "      <td>1</td>\n",
       "      <td>1</td>\n",
       "      <td>female</td>\n",
       "      <td>19.0</td>\n",
       "      <td>0</td>\n",
       "      <td>0</td>\n",
       "      <td>30.0000</td>\n",
       "      <td>S</td>\n",
       "      <td>First</td>\n",
       "      <td>woman</td>\n",
       "      <td>False</td>\n",
       "      <td>B</td>\n",
       "      <td>Southampton</td>\n",
       "      <td>yes</td>\n",
       "      <td>True</td>\n",
       "    </tr>\n",
       "    <tr>\n",
       "      <th>888</th>\n",
       "      <td>0</td>\n",
       "      <td>3</td>\n",
       "      <td>female</td>\n",
       "      <td>NaN</td>\n",
       "      <td>1</td>\n",
       "      <td>2</td>\n",
       "      <td>23.4500</td>\n",
       "      <td>S</td>\n",
       "      <td>Third</td>\n",
       "      <td>woman</td>\n",
       "      <td>False</td>\n",
       "      <td>NaN</td>\n",
       "      <td>Southampton</td>\n",
       "      <td>no</td>\n",
       "      <td>False</td>\n",
       "    </tr>\n",
       "    <tr>\n",
       "      <th>889</th>\n",
       "      <td>1</td>\n",
       "      <td>1</td>\n",
       "      <td>male</td>\n",
       "      <td>26.0</td>\n",
       "      <td>0</td>\n",
       "      <td>0</td>\n",
       "      <td>30.0000</td>\n",
       "      <td>C</td>\n",
       "      <td>First</td>\n",
       "      <td>man</td>\n",
       "      <td>True</td>\n",
       "      <td>C</td>\n",
       "      <td>Cherbourg</td>\n",
       "      <td>yes</td>\n",
       "      <td>True</td>\n",
       "    </tr>\n",
       "    <tr>\n",
       "      <th>890</th>\n",
       "      <td>0</td>\n",
       "      <td>3</td>\n",
       "      <td>male</td>\n",
       "      <td>32.0</td>\n",
       "      <td>0</td>\n",
       "      <td>0</td>\n",
       "      <td>7.7500</td>\n",
       "      <td>Q</td>\n",
       "      <td>Third</td>\n",
       "      <td>man</td>\n",
       "      <td>True</td>\n",
       "      <td>NaN</td>\n",
       "      <td>Queenstown</td>\n",
       "      <td>no</td>\n",
       "      <td>True</td>\n",
       "    </tr>\n",
       "  </tbody>\n",
       "</table>\n",
       "<p>891 rows × 15 columns</p>\n",
       "</div>"
      ],
      "text/plain": [
       "     survived  pclass     sex   age  sibsp  parch     fare embarked   class  \\\n",
       "0           0       3    male  22.0      1      0   7.2500        S   Third   \n",
       "1           1       1  female  38.0      1      0  71.2833        C   First   \n",
       "2           1       3  female  26.0      0      0   7.9250        S   Third   \n",
       "3           1       1  female  35.0      1      0  53.1000        S   First   \n",
       "4           0       3    male  35.0      0      0   8.0500        S   Third   \n",
       "..        ...     ...     ...   ...    ...    ...      ...      ...     ...   \n",
       "886         0       2    male  27.0      0      0  13.0000        S  Second   \n",
       "887         1       1  female  19.0      0      0  30.0000        S   First   \n",
       "888         0       3  female   NaN      1      2  23.4500        S   Third   \n",
       "889         1       1    male  26.0      0      0  30.0000        C   First   \n",
       "890         0       3    male  32.0      0      0   7.7500        Q   Third   \n",
       "\n",
       "       who  adult_male deck  embark_town alive  alone  \n",
       "0      man        True  NaN  Southampton    no  False  \n",
       "1    woman       False    C    Cherbourg   yes  False  \n",
       "2    woman       False  NaN  Southampton   yes   True  \n",
       "3    woman       False    C  Southampton   yes  False  \n",
       "4      man        True  NaN  Southampton    no   True  \n",
       "..     ...         ...  ...          ...   ...    ...  \n",
       "886    man        True  NaN  Southampton    no   True  \n",
       "887  woman       False    B  Southampton   yes   True  \n",
       "888  woman       False  NaN  Southampton    no  False  \n",
       "889    man        True    C    Cherbourg   yes   True  \n",
       "890    man        True  NaN   Queenstown    no   True  \n",
       "\n",
       "[891 rows x 15 columns]"
      ]
     },
     "execution_count": 89,
     "metadata": {},
     "output_type": "execute_result"
    }
   ],
   "source": [
    "df_titanic"
   ]
  },
  {
   "cell_type": "code",
   "execution_count": 90,
   "id": "30be6a19",
   "metadata": {
    "ExecuteTime": {
     "end_time": "2025-01-18T23:59:49.746699Z",
     "start_time": "2025-01-18T23:59:49.484728Z"
    },
    "scrolled": false
   },
   "outputs": [
    {
     "data": {
      "text/plain": [
       "<Axes: title={'center': 'Violin Plot of Titanic Passenger Characteristic'}, xlabel='age', ylabel='sex'>"
      ]
     },
     "execution_count": 90,
     "metadata": {},
     "output_type": "execute_result"
    },
    {
     "data": {
      "image/png": "[encoded data removed]",
      "text/plain": [
       "<Figure size 640x480 with 1 Axes>"
      ]
     },
     "metadata": {},
     "output_type": "display_data"
    }
   ],
   "source": [
    "sns.set_style(\"whitegrid\")\n",
    "plt.title('Violin Plot of Titanic Passenger Characteristic')\n",
    "sns.violinplot(x=df_titanic[\"age\"], y=df_titanic[\"sex\"], hue=df_titanic[\"alive\"], split=True, palette=['g','b'])"
   ]
  },
  {
   "cell_type": "markdown",
   "id": "f34fc9fa",
   "metadata": {},
   "source": [
    "# 1.0.3  Problem 2: A visualization of your own"
   ]
  },
  {
   "cell_type": "code",
   "execution_count": 91,
   "id": "d9f4043f",
   "metadata": {
    "ExecuteTime": {
     "end_time": "2025-01-18T23:59:49.752368Z",
     "start_time": "2025-01-18T23:59:49.747707Z"
    },
    "scrolled": false
   },
   "outputs": [
    {
     "name": "stdout",
     "output_type": "stream",
     "text": [
      "Total rows in data set=891. NaN ages number of rows=177\n"
     ]
    }
   ],
   "source": [
    "df_titanic_my = df_titanic.copy()\n",
    "# Need to filter out any passenger without age, as that is a required field in my analysis\n",
    "df_titanic_2 = df_titanic[df_titanic['age'].notna()].copy() \n",
    "print(f'Total rows in data set={len(df_titanic)}. NaN ages number of rows={len(df_titanic)-len(df_titanic_2)}')"
   ]
  },
  {
   "cell_type": "code",
   "execution_count": 2,
   "id": "61871d93",
   "metadata": {
    "ExecuteTime": {
     "end_time": "2025-01-19T20:12:57.984205Z",
     "start_time": "2025-01-19T20:12:57.975327Z"
    },
    "init_cell": true
   },
   "outputs": [
    {
     "name": "stdout",
     "output_type": "stream",
     "text": [
      "['1-5', '5-10', '10-20', '20-30', '30-40', '40-50', '50-81', '81']\n"
     ]
    }
   ],
   "source": [
    "# Pandas simply will not produce correct results for pd.cut(series, bins, **right=False**) \n",
    "#  and, once again, uses some overly complex Interval data type that makes is unusable except for the people who wrote it.\n",
    "# Creating my own binning function so that I can bin passengers by age properly.\n",
    "\n",
    "def create_bins(lst: List[float], bins: List[float], labels='left') -> List[str]:\n",
    "    if lst:\n",
    "        inf_bins = [-math.inf] + bins + [math.inf] \n",
    "        out_lst, left_bin, right_bin = [], -math.inf, math.inf\n",
    "        for item in lst:\n",
    "            for i in range(0, len(inf_bins)-1):\n",
    "                left_bin, right_bin = inf_bins[i], inf_bins[i+1]\n",
    "                if labels == 'both':\n",
    "                    left_bin_label, right_bin_label = str(inf_bins[i]), str(inf_bins[i+1])\n",
    "                else:\n",
    "                    left_bin_label, right_bin_label = inf_bins[i], inf_bins[i+1]\n",
    "                # print(out_lst, item, left_bin, right_bin)\n",
    "                if left_bin < item <= right_bin:\n",
    "                    if left_bin == -math.inf:\n",
    "                        out_lst.append(right_bin_label)\n",
    "                    elif right_bin == math.inf:\n",
    "                        out_lst.append(left_bin_label)\n",
    "                    elif labels == 'left':\n",
    "                        out_lst.append(left_bin_label)\n",
    "                    elif labels == 'right':\n",
    "                        out_lst.append(right_bin_label)\n",
    "                    elif labels == 'both':\n",
    "                        out_lst.append(f'{left_bin}-{right_bin}')\n",
    "                    break\n",
    "                else:\n",
    "                    left_bin = right_bin\n",
    "        return out_lst\n",
    "age_bins = [1, 5, 10, 20, 30, 40, 50, 60, 70, 80]\n",
    "print(create_bins([2,6,11,21,31,41,51,82], [1, 5, 10, 20, 30, 40, 50, 81], 'both'))\n",
    "assert create_bins([1, 6, 6, 6, 6, 55], age_bins) == [1, 5, 5, 5, 5, 50]\n",
    "assert create_bins([2], age_bins) == [1]\n",
    "assert create_bins([999], age_bins) == [80]\n",
    "assert create_bins([-100, 99, 44, 1, 6, 6, 6, 6, 55], age_bins, 'both') == ['1', '80', '40-50', '1', '5-10', '5-10', '5-10', '5-10', '50-60']"
   ]
  },
  {
   "cell_type": "code",
   "execution_count": 93,
   "id": "6638cdf7",
   "metadata": {
    "ExecuteTime": {
     "end_time": "2025-01-18T23:59:49.782431Z",
     "start_time": "2025-01-18T23:59:49.760601Z"
    }
   },
   "outputs": [
    {
     "data": {
      "text/html": [
       "<div>\n",
       "<style scoped>\n",
       "    .dataframe tbody tr th:only-of-type {\n",
       "        vertical-align: middle;\n",
       "    }\n",
       "\n",
       "    .dataframe tbody tr th {\n",
       "        vertical-align: top;\n",
       "    }\n",
       "\n",
       "    .dataframe thead th {\n",
       "        text-align: right;\n",
       "    }\n",
       "</style>\n",
       "<table border=\"1\" class=\"dataframe\">\n",
       "  <thead>\n",
       "    <tr style=\"text-align: right;\">\n",
       "      <th></th>\n",
       "      <th>survived</th>\n",
       "      <th>pclass</th>\n",
       "      <th>sex</th>\n",
       "      <th>age</th>\n",
       "      <th>sibsp</th>\n",
       "      <th>parch</th>\n",
       "      <th>fare</th>\n",
       "      <th>embarked</th>\n",
       "      <th>class</th>\n",
       "      <th>who</th>\n",
       "      <th>adult_male</th>\n",
       "      <th>deck</th>\n",
       "      <th>embark_town</th>\n",
       "      <th>alive</th>\n",
       "      <th>alone</th>\n",
       "      <th>age_bin</th>\n",
       "      <th>age_bin_left</th>\n",
       "    </tr>\n",
       "  </thead>\n",
       "  <tbody>\n",
       "    <tr>\n",
       "      <th>0</th>\n",
       "      <td>0</td>\n",
       "      <td>3</td>\n",
       "      <td>male</td>\n",
       "      <td>22.0</td>\n",
       "      <td>1</td>\n",
       "      <td>0</td>\n",
       "      <td>7.2500</td>\n",
       "      <td>S</td>\n",
       "      <td>Third</td>\n",
       "      <td>man</td>\n",
       "      <td>True</td>\n",
       "      <td>NaN</td>\n",
       "      <td>Southampton</td>\n",
       "      <td>no</td>\n",
       "      <td>False</td>\n",
       "      <td>20-30</td>\n",
       "      <td>20</td>\n",
       "    </tr>\n",
       "    <tr>\n",
       "      <th>1</th>\n",
       "      <td>1</td>\n",
       "      <td>1</td>\n",
       "      <td>female</td>\n",
       "      <td>38.0</td>\n",
       "      <td>1</td>\n",
       "      <td>0</td>\n",
       "      <td>71.2833</td>\n",
       "      <td>C</td>\n",
       "      <td>First</td>\n",
       "      <td>woman</td>\n",
       "      <td>False</td>\n",
       "      <td>C</td>\n",
       "      <td>Cherbourg</td>\n",
       "      <td>yes</td>\n",
       "      <td>False</td>\n",
       "      <td>30-40</td>\n",
       "      <td>30</td>\n",
       "    </tr>\n",
       "    <tr>\n",
       "      <th>2</th>\n",
       "      <td>1</td>\n",
       "      <td>3</td>\n",
       "      <td>female</td>\n",
       "      <td>26.0</td>\n",
       "      <td>0</td>\n",
       "      <td>0</td>\n",
       "      <td>7.9250</td>\n",
       "      <td>S</td>\n",
       "      <td>Third</td>\n",
       "      <td>woman</td>\n",
       "      <td>False</td>\n",
       "      <td>NaN</td>\n",
       "      <td>Southampton</td>\n",
       "      <td>yes</td>\n",
       "      <td>True</td>\n",
       "      <td>20-30</td>\n",
       "      <td>20</td>\n",
       "    </tr>\n",
       "    <tr>\n",
       "      <th>3</th>\n",
       "      <td>1</td>\n",
       "      <td>1</td>\n",
       "      <td>female</td>\n",
       "      <td>35.0</td>\n",
       "      <td>1</td>\n",
       "      <td>0</td>\n",
       "      <td>53.1000</td>\n",
       "      <td>S</td>\n",
       "      <td>First</td>\n",
       "      <td>woman</td>\n",
       "      <td>False</td>\n",
       "      <td>C</td>\n",
       "      <td>Southampton</td>\n",
       "      <td>yes</td>\n",
       "      <td>False</td>\n",
       "      <td>30-40</td>\n",
       "      <td>30</td>\n",
       "    </tr>\n",
       "    <tr>\n",
       "      <th>4</th>\n",
       "      <td>0</td>\n",
       "      <td>3</td>\n",
       "      <td>male</td>\n",
       "      <td>35.0</td>\n",
       "      <td>0</td>\n",
       "      <td>0</td>\n",
       "      <td>8.0500</td>\n",
       "      <td>S</td>\n",
       "      <td>Third</td>\n",
       "      <td>man</td>\n",
       "      <td>True</td>\n",
       "      <td>NaN</td>\n",
       "      <td>Southampton</td>\n",
       "      <td>no</td>\n",
       "      <td>True</td>\n",
       "      <td>30-40</td>\n",
       "      <td>30</td>\n",
       "    </tr>\n",
       "    <tr>\n",
       "      <th>...</th>\n",
       "      <td>...</td>\n",
       "      <td>...</td>\n",
       "      <td>...</td>\n",
       "      <td>...</td>\n",
       "      <td>...</td>\n",
       "      <td>...</td>\n",
       "      <td>...</td>\n",
       "      <td>...</td>\n",
       "      <td>...</td>\n",
       "      <td>...</td>\n",
       "      <td>...</td>\n",
       "      <td>...</td>\n",
       "      <td>...</td>\n",
       "      <td>...</td>\n",
       "      <td>...</td>\n",
       "      <td>...</td>\n",
       "      <td>...</td>\n",
       "    </tr>\n",
       "    <tr>\n",
       "      <th>885</th>\n",
       "      <td>0</td>\n",
       "      <td>3</td>\n",
       "      <td>female</td>\n",
       "      <td>39.0</td>\n",
       "      <td>0</td>\n",
       "      <td>5</td>\n",
       "      <td>29.1250</td>\n",
       "      <td>Q</td>\n",
       "      <td>Third</td>\n",
       "      <td>woman</td>\n",
       "      <td>False</td>\n",
       "      <td>NaN</td>\n",
       "      <td>Queenstown</td>\n",
       "      <td>no</td>\n",
       "      <td>False</td>\n",
       "      <td>30-40</td>\n",
       "      <td>30</td>\n",
       "    </tr>\n",
       "    <tr>\n",
       "      <th>886</th>\n",
       "      <td>0</td>\n",
       "      <td>2</td>\n",
       "      <td>male</td>\n",
       "      <td>27.0</td>\n",
       "      <td>0</td>\n",
       "      <td>0</td>\n",
       "      <td>13.0000</td>\n",
       "      <td>S</td>\n",
       "      <td>Second</td>\n",
       "      <td>man</td>\n",
       "      <td>True</td>\n",
       "      <td>NaN</td>\n",
       "      <td>Southampton</td>\n",
       "      <td>no</td>\n",
       "      <td>True</td>\n",
       "      <td>20-30</td>\n",
       "      <td>20</td>\n",
       "    </tr>\n",
       "    <tr>\n",
       "      <th>887</th>\n",
       "      <td>1</td>\n",
       "      <td>1</td>\n",
       "      <td>female</td>\n",
       "      <td>19.0</td>\n",
       "      <td>0</td>\n",
       "      <td>0</td>\n",
       "      <td>30.0000</td>\n",
       "      <td>S</td>\n",
       "      <td>First</td>\n",
       "      <td>woman</td>\n",
       "      <td>False</td>\n",
       "      <td>B</td>\n",
       "      <td>Southampton</td>\n",
       "      <td>yes</td>\n",
       "      <td>True</td>\n",
       "      <td>10-20</td>\n",
       "      <td>10</td>\n",
       "    </tr>\n",
       "    <tr>\n",
       "      <th>889</th>\n",
       "      <td>1</td>\n",
       "      <td>1</td>\n",
       "      <td>male</td>\n",
       "      <td>26.0</td>\n",
       "      <td>0</td>\n",
       "      <td>0</td>\n",
       "      <td>30.0000</td>\n",
       "      <td>C</td>\n",
       "      <td>First</td>\n",
       "      <td>man</td>\n",
       "      <td>True</td>\n",
       "      <td>C</td>\n",
       "      <td>Cherbourg</td>\n",
       "      <td>yes</td>\n",
       "      <td>True</td>\n",
       "      <td>20-30</td>\n",
       "      <td>20</td>\n",
       "    </tr>\n",
       "    <tr>\n",
       "      <th>890</th>\n",
       "      <td>0</td>\n",
       "      <td>3</td>\n",
       "      <td>male</td>\n",
       "      <td>32.0</td>\n",
       "      <td>0</td>\n",
       "      <td>0</td>\n",
       "      <td>7.7500</td>\n",
       "      <td>Q</td>\n",
       "      <td>Third</td>\n",
       "      <td>man</td>\n",
       "      <td>True</td>\n",
       "      <td>NaN</td>\n",
       "      <td>Queenstown</td>\n",
       "      <td>no</td>\n",
       "      <td>True</td>\n",
       "      <td>30-40</td>\n",
       "      <td>30</td>\n",
       "    </tr>\n",
       "  </tbody>\n",
       "</table>\n",
       "<p>714 rows × 17 columns</p>\n",
       "</div>"
      ],
      "text/plain": [
       "     survived  pclass     sex   age  sibsp  parch     fare embarked   class  \\\n",
       "0           0       3    male  22.0      1      0   7.2500        S   Third   \n",
       "1           1       1  female  38.0      1      0  71.2833        C   First   \n",
       "2           1       3  female  26.0      0      0   7.9250        S   Third   \n",
       "3           1       1  female  35.0      1      0  53.1000        S   First   \n",
       "4           0       3    male  35.0      0      0   8.0500        S   Third   \n",
       "..        ...     ...     ...   ...    ...    ...      ...      ...     ...   \n",
       "885         0       3  female  39.0      0      5  29.1250        Q   Third   \n",
       "886         0       2    male  27.0      0      0  13.0000        S  Second   \n",
       "887         1       1  female  19.0      0      0  30.0000        S   First   \n",
       "889         1       1    male  26.0      0      0  30.0000        C   First   \n",
       "890         0       3    male  32.0      0      0   7.7500        Q   Third   \n",
       "\n",
       "       who  adult_male deck  embark_town alive  alone age_bin  age_bin_left  \n",
       "0      man        True  NaN  Southampton    no  False   20-30            20  \n",
       "1    woman       False    C    Cherbourg   yes  False   30-40            30  \n",
       "2    woman       False  NaN  Southampton   yes   True   20-30            20  \n",
       "3    woman       False    C  Southampton   yes  False   30-40            30  \n",
       "4      man        True  NaN  Southampton    no   True   30-40            30  \n",
       "..     ...         ...  ...          ...   ...    ...     ...           ...  \n",
       "885  woman       False  NaN   Queenstown    no  False   30-40            30  \n",
       "886    man        True  NaN  Southampton    no   True   20-30            20  \n",
       "887  woman       False    B  Southampton   yes   True   10-20            10  \n",
       "889    man        True    C    Cherbourg   yes   True   20-30            20  \n",
       "890    man        True  NaN   Queenstown    no   True   30-40            30  \n",
       "\n",
       "[714 rows x 17 columns]"
      ]
     },
     "metadata": {},
     "output_type": "display_data"
    },
    {
     "name": "stdout",
     "output_type": "stream",
     "text": [
      "[1, 5, 10, 20, 30, 40, 50]\n"
     ]
    }
   ],
   "source": [
    "# Add age bins using the custom function to the DF\n",
    "age_bins = [1, 5, 10, 20, 30, 40, 50, 81]\n",
    "age_bin_labels = ['1-5', '5-10', '10-20', '20-30', '30-40', '40-50', '50-81', '81']\n",
    "df_titanic_2['age_bin'] = create_bins(df_titanic_2['age'].tolist(), age_bins, 'both')\n",
    "df_titanic_2['age_bin_left'] = create_bins(df_titanic_2['age'].tolist(), age_bins)\n",
    "display(df_titanic_2)\n",
    "print(sorted(list(set(df_titanic_2['age_bin_left'].tolist()))))"
   ]
  },
  {
   "cell_type": "code",
   "execution_count": 94,
   "id": "347d53d8",
   "metadata": {
    "ExecuteTime": {
     "end_time": "2025-01-18T23:59:49.794018Z",
     "start_time": "2025-01-18T23:59:49.783439Z"
    }
   },
   "outputs": [
    {
     "name": "stdout",
     "output_type": "stream",
     "text": [
      "[20 30 50  1 10  5 40]\n"
     ]
    },
    {
     "data": {
      "text/plain": [
       "age_bin_left\n",
       "1     15\n",
       "5      4\n",
       "10    10\n",
       "20    23\n",
       "30    23\n",
       "40    12\n",
       "50     6\n",
       "Name: age, dtype: int64"
      ]
     },
     "metadata": {},
     "output_type": "display_data"
    },
    {
     "data": {
      "text/html": [
       "<div>\n",
       "<style scoped>\n",
       "    .dataframe tbody tr th:only-of-type {\n",
       "        vertical-align: middle;\n",
       "    }\n",
       "\n",
       "    .dataframe tbody tr th {\n",
       "        vertical-align: top;\n",
       "    }\n",
       "\n",
       "    .dataframe thead th {\n",
       "        text-align: right;\n",
       "    }\n",
       "</style>\n",
       "<table border=\"1\" class=\"dataframe\">\n",
       "  <thead>\n",
       "    <tr style=\"text-align: right;\">\n",
       "      <th></th>\n",
       "      <th>alive</th>\n",
       "      <th>dead</th>\n",
       "    </tr>\n",
       "    <tr>\n",
       "      <th>age_bin_left</th>\n",
       "      <th></th>\n",
       "      <th></th>\n",
       "    </tr>\n",
       "  </thead>\n",
       "  <tbody>\n",
       "    <tr>\n",
       "      <th>1</th>\n",
       "      <td>15</td>\n",
       "      <td>8</td>\n",
       "    </tr>\n",
       "    <tr>\n",
       "      <th>5</th>\n",
       "      <td>4</td>\n",
       "      <td>6</td>\n",
       "    </tr>\n",
       "    <tr>\n",
       "      <th>10</th>\n",
       "      <td>10</td>\n",
       "      <td>59</td>\n",
       "    </tr>\n",
       "    <tr>\n",
       "      <th>20</th>\n",
       "      <td>23</td>\n",
       "      <td>126</td>\n",
       "    </tr>\n",
       "    <tr>\n",
       "      <th>30</th>\n",
       "      <td>23</td>\n",
       "      <td>77</td>\n",
       "    </tr>\n",
       "    <tr>\n",
       "      <th>40</th>\n",
       "      <td>12</td>\n",
       "      <td>43</td>\n",
       "    </tr>\n",
       "    <tr>\n",
       "      <th>50</th>\n",
       "      <td>6</td>\n",
       "      <td>41</td>\n",
       "    </tr>\n",
       "  </tbody>\n",
       "</table>\n",
       "</div>"
      ],
      "text/plain": [
       "              alive  dead\n",
       "age_bin_left             \n",
       "1                15     8\n",
       "5                 4     6\n",
       "10               10    59\n",
       "20               23   126\n",
       "30               23    77\n",
       "40               12    43\n",
       "50                6    41"
      ]
     },
     "metadata": {},
     "output_type": "display_data"
    },
    {
     "name": "stdout",
     "output_type": "stream",
     "text": [
      "Index([1, 5, 10, 20, 30, 40, 50], dtype='int64', name='age_bin_left')\n"
     ]
    }
   ],
   "source": [
    "# I was running into a problem with the scatter plot and had to examine the data\n",
    "print(df_titanic_2['age_bin_left'].unique())\n",
    "display(age_counts_alive)\n",
    "display(age_counts_df)\n",
    "print(age_counts_df.index)"
   ]
  },
  {
   "cell_type": "code",
   "execution_count": 95,
   "id": "8b69c159",
   "metadata": {
    "ExecuteTime": {
     "end_time": "2025-01-18T23:59:49.980444Z",
     "start_time": "2025-01-18T23:59:49.795024Z"
    }
   },
   "outputs": [
    {
     "data": {
      "image/png": "[encoded data removed]",
      "text/plain": [
       "<Figure size 800x600 with 1 Axes>"
      ]
     },
     "metadata": {},
     "output_type": "display_data"
    },
    {
     "name": "stdout",
     "output_type": "stream",
     "text": [
      "This should not be the only way to look at the data, e.g. Some might argue a Bar Chart is better suited. \n",
      "However, we clearly see that infants had a lower mortality rate than toddlers; \n",
      "this is likely due to their parents holding them or keeping them close.\n",
      "While those in their 20's survived at much lower rates; probably due to them helping out with the rescue efforts.\n"
     ]
    }
   ],
   "source": [
    "# Total number of passengers by outcome, binned by age\n",
    "age_counts_alive = df_titanic_2[df_titanic_2['alive'] == 'yes'].groupby('age_bin_left', observed=True)['age'].count()\n",
    "age_counts_dead = df_titanic_2[df_titanic_2['alive'] == 'no'].groupby('age_bin_left', observed=True)['age'].count()\n",
    "age_counts_df = pd.DataFrame({'alive': age_counts_alive, 'dead': age_counts_dead})\n",
    "plt.figure(figsize=(8, 6))\n",
    "plt.scatter(age_counts_df.index, age_counts_df['alive'], c='green', s=100, label='Alive') \n",
    "plt.scatter(age_counts_df.index, age_counts_df['dead'], c='red', s=100, label='Dead') \n",
    "plt.xlabel(\"Age Group\")\n",
    "plt.ylabel(\"Number of People\")\n",
    "plt.title(\"Number of People in Each Age Group on the Titanic\")\n",
    "plt.xticks(rotation=45)\n",
    "plt.xticks([1, 5, 10, 20, 30, 40, 50], ['0-5', '5-10', '10-20', '20-30', '30-40', '40-50', '50+'])\n",
    "# Ran into a problem and had to try out different methods\n",
    "# plt.xticks([1, 5, 10, 20, 30, 40, 50], ['0-5', '5-10', '10-20', '20-30', '30-40', '40-50', '50+'])\n",
    "# plt.xticks([1, 5, 10, 20, 30, 40, 50], [1, 5, 10, 20, 30, 40, 50])\n",
    "# plt.xticks(x_values_np, x_labels_np)\n",
    "plt.grid(True)\n",
    "plt.legend(title=\"Status\", labels=[\"Survived\", \"Died\"])\n",
    "plt.show()\n",
    "print(\"\"\"This should not be the only way to look at the data, e.g. Some might argue a Bar Chart is better suited. \n",
    "However, we clearly see that infants had a lower mortality rate than toddlers; \n",
    "this is likely due to their parents holding them or keeping them close.\n",
    "While those in their 20's survived at much lower rates; probably due to them helping out with the rescue efforts.\"\"\")"
   ]
  },
  {
   "cell_type": "code",
   "execution_count": 96,
   "id": "19472941",
   "metadata": {
    "ExecuteTime": {
     "end_time": "2025-01-18T23:59:50.302364Z",
     "start_time": "2025-01-18T23:59:49.981975Z"
    }
   },
   "outputs": [
    {
     "data": {
      "image/png": "[encoded data removed]",
      "text/plain": [
       "<Figure size 1200x600 with 2 Axes>"
      ]
     },
     "metadata": {},
     "output_type": "display_data"
    },
    {
     "name": "stdout",
     "output_type": "stream",
     "text": [
      "When we present the data split out by Sex, the story changes dramatically:\n",
      "Far more men died than women. Maybe because they were the ones enlisted to help \n",
      "and there were historical accounts of the crew saying 'women and children first'.\n"
     ]
    }
   ],
   "source": [
    "# Passenger mortality binned by age, separate charts by Sex\n",
    "age_bins = [1, 5, 10, 20, 30, 40, 50, 81]\n",
    "age_bin_labels = ['1-5', '5-10', '10-20', '20-30', '30-40', '40-50', '50-81', '81']\n",
    "fig, axes = plt.subplots(1, 2, figsize=(12, 6))\n",
    "ax_n = 0\n",
    "for sex in ['female', 'male']:\n",
    "    df = df_titanic[df_titanic['age'].notna()].copy()\n",
    "    df = df[df['sex'] == sex]\n",
    "    df['age_bin'] = create_bins(df['age'].tolist(), age_bins, 'both')\n",
    "    df['age_bin_left'] = create_bins(df['age'].tolist(), age_bins)\n",
    "    age_counts_alive = df[df['alive'] == 'yes'].groupby('age_bin_left', observed=True)['age'].count()\n",
    "    age_counts_dead = df[df['alive'] == 'no'].groupby('age_bin_left', observed=True)['age'].count()\n",
    "    age_counts_df = pd.DataFrame({'alive': age_counts_alive, 'dead': age_counts_dead})\n",
    "    axes[ax_n].scatter(age_counts_df.index, age_counts_df['alive'], c='green', s=100, label='Alive')\n",
    "    axes[ax_n].scatter(age_counts_df.index, age_counts_df['dead'], c='red', s=100, label='Dead')\n",
    "    axes[ax_n].set_xticks(age_bins) \n",
    "    axes[ax_n].set_xticklabels(age_bin_labels, rotation=45)\n",
    "    axes[ax_n].set_xlabel(\"Age Group\")\n",
    "    axes[ax_n].set_ylabel(\"Number of People\")\n",
    "    axes[ax_n].set_title(f\"Number of People on the Titanic (Sex: {sex.capitalize()})\")\n",
    "    axes[ax_n].grid(True)\n",
    "    axes[ax_n].legend(title=\"Status\", labels=[\"Survived\", \"Died\"])\n",
    "    axes[ax_n].set_xlim(0, df['age'].max()*.85)\n",
    "    ax_n += 1\n",
    "fig.suptitle('Survival by Age and Sex on the Titanic')\n",
    "plt.subplots_adjust(left=0.1, right=0.9, top=0.9, bottom=0.1, wspace=0.3)\n",
    "plt.tight_layout()\n",
    "plt.show()\n",
    "print(\"\"\"When we present the data split out by Sex, the story changes dramatically:\n",
    "Far more men died than women. Maybe because they were the ones enlisted to help \n",
    "and there were historical accounts of the crew saying 'women and children first'.\"\"\")\n",
    "# I think there is a defect in MatplotLib where it does not recognize the x limit under certain circumstances.\n",
    "# You can see too much white space in the right chart. I tried numerous things to remove it, but could not."
   ]
  },
  {
   "cell_type": "code",
   "execution_count": 97,
   "id": "07fc09ca",
   "metadata": {
    "ExecuteTime": {
     "end_time": "2025-01-18T23:59:50.451832Z",
     "start_time": "2025-01-18T23:59:50.304026Z"
    }
   },
   "outputs": [
    {
     "data": {
      "image/png": "[encoded data removed]",
      "text/plain": [
       "<Figure size 640x480 with 1 Axes>"
      ]
     },
     "metadata": {},
     "output_type": "display_data"
    },
    {
     "name": "stdout",
     "output_type": "stream",
     "text": [
      "This plot shows ages and sex of all the passengers, separated out by whether they lived or not. \n",
      "Right off the bat we can see that the mean age survivor depended on your sex: older women survived at greater \n"
     ]
    }
   ],
   "source": [
    "# Using a box plot to show age and sec by Survival status\n",
    "sns.boxplot(x=\"sex\", y=\"age\", hue=\"alive\", data=df_titanic_my, palette={\"yes\": \"green\", \"no\": \"red\"}, showfliers=False)\n",
    "plt.xlabel(\"Sex\")\n",
    "plt.ylabel(\"Age\")\n",
    "plt.title(\"Box Plot of Age by Sex and Survival Status\")\n",
    "plt.show()\n",
    "print(\"\"\"This plot shows ages and sex of all the passengers, separated out by whether they lived or not. \n",
    "Right off the bat we can see that the mean age survivor depended on your sex: older women survived at greater \"\"\")"
   ]
  },
  {
   "cell_type": "code",
   "execution_count": 98,
   "id": "b30241a1",
   "metadata": {
    "ExecuteTime": {
     "end_time": "2025-01-18T23:59:51.029602Z",
     "start_time": "2025-01-18T23:59:50.452848Z"
    }
   },
   "outputs": [
    {
     "data": {
      "image/png": "[encoded data removed]",
      "text/plain": [
       "<Figure size 671.625x300 with 2 Axes>"
      ]
     },
     "metadata": {},
     "output_type": "display_data"
    },
    {
     "name": "stdout",
     "output_type": "stream",
     "text": [
      "We see that many more young men perished compared to older men, while the opposite was true for women\n",
      "About an equal number of infants of both sexes survived\n"
     ]
    }
   ],
   "source": [
    "# Create a Seaborn FacetGrid plot\n",
    "fg = sns.FacetGrid(df_titanic_my, col=\"sex\", hue=\"alive\", palette={\"yes\": \"green\", \"no\": \"red\"})\n",
    "# There are two plots, so \"map\" bins and alpha (transparency) to age in each plot\n",
    "fg.map(sns.histplot, \"age\", bins=10, alpha=0.7) \n",
    "\n",
    "# Add labels and title\n",
    "fg.set_titles(col_template=\"{col_name}\")\n",
    "fg.set_xlabels(\"Age\")\n",
    "fg.set_ylabels(\"Count\")\n",
    "fg.add_legend()\n",
    "plt.show()\n",
    "print(\"\"\"We see that many more young men perished compared to older men, while the opposite was true for women\n",
    "About an equal number of infants of both sexes survived\"\"\")"
   ]
  },
  {
   "cell_type": "markdown",
   "id": "ccf40991",
   "metadata": {},
   "source": []
  }
 ],
 "metadata": {
  "celltoolbar": "Initialization Cell",
  "kernelspec": {
   "display_name": "Python 3 (ipykernel)",
   "language": "python",
   "name": "python3"
  },
  "language_info": {
   "codemirror_mode": {
    "name": "ipython",
    "version": 3
   },
   "file_extension": ".py",
   "mimetype": "text/x-python",
   "name": "python",
   "nbconvert_exporter": "python",
   "pygments_lexer": "ipython3",
   "version": "3.11.6"
  },
  "toc": {
   "base_numbering": 1,
   "nav_menu": {},
   "number_sections": true,
   "sideBar": true,
   "skip_h1_title": false,
   "title_cell": "Table of Contents",
   "title_sidebar": "Contents",
   "toc_cell": false,
   "toc_position": {},
   "toc_section_display": true,
   "toc_window_display": false
  }
 },
 "nbformat": 4,
 "nbformat_minor": 5
}

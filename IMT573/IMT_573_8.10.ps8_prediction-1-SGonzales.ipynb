{
 "cells": [
  {
   "cell_type": "markdown",
   "id": "1461b6bb",
   "metadata": {},
   "source": [
    "# IMT 573 - Problem Set 8 - Prediction"
   ]
  },
  {
   "cell_type": "markdown",
   "id": "1cf60757",
   "metadata": {},
   "source": [
    "### Instructions\n",
    "\n",
    "Before beginning this assignment, please ensure you have access to a working instance of Jupyter Notebooks with Python 3.\n",
    "\n",
    "1. First, replace the “YOUR NAME HERE” text in the next cell with your own full name. Any collaborators must also be listed in this cell.\n",
    "\n",
    "2. Be sure to include well-documented (e.g. commented) code cells, figures, and clearly written text  explanations as necessary. Any figures should be clearly labeled and appropriately referenced within the text. Be sure that each visualization adds value to your written explanation; avoid redundancy – you do no need four different visualizations of the same pattern.\n",
    "\n",
    "3. Collaboration on problem sets and labs is fun, useful, and encouraged. However, each student must turn in an individual write-up in their own words as well as code/work that is their own. Regardless of whether you work with others, what you turn in must be your own work; this includes code and interpretation of results. The names of all collaborators must be listed on each assignment. Do not copy-and-paste from other students’ responses or code - your code should never be on any other student's screen or machine.\n",
    "\n",
    "4. All materials and resources that you use (with the exception of lecture slides) must be appropriately referenced within your assignment.\n",
    "\n",
    "5. Partial credit will be awarded for each question for which a serious attempt at finding an answer has been shown. Students are *strongly* encouraged to attempt each question and document their reasoning process even if they cannot find the correct answer. \n",
    "\n",
    "6. After completing the assignment, ensure that your code can run from start to finish without issue. Restart the kernal and run all cells to double check."
   ]
  },
  {
   "cell_type": "markdown",
   "id": "aadc8a3b",
   "metadata": {},
   "source": [
    "Name: Steve Gonzales Collaborators: None"
   ]
  },
  {
   "cell_type": "markdown",
   "id": "96d9bc8b",
   "metadata": {},
   "source": [
    "For this assignment, you'll need (at least) the following packages. If the package does not load, be sure it is properly installed."
   ]
  },
  {
   "cell_type": "code",
   "execution_count": 2,
   "id": "49fc54ea",
   "metadata": {
    "ExecuteTime": {
     "end_time": "2025-03-15T17:46:57.022656Z",
     "start_time": "2025-03-15T17:46:56.936131Z"
    },
    "init_cell": true
   },
   "outputs": [],
   "source": [
    "import pandas as pd\n",
    "import numpy as np\n",
    "import matplotlib.pyplot as plt\n",
    "import seaborn as sns\n",
    "import statsmodels.api as sm\n",
    "import sklearn\n",
    "\n",
    "import warnings\n",
    "warnings.filterwarnings('ignore')"
   ]
  },
  {
   "cell_type": "markdown",
   "id": "2fff2fc9",
   "metadata": {},
   "source": [
    "In this problem set, we will aim to build a model to explain the factors associated with a person having a heart attack.  Thereafter we also look at the predicted values and compute accuracy. We will use a dataset `heart.csv` avaialable from https://archive.ics.uci.edu/dataset/45/heart+disease, which contains health information of each person (these are the predictors) and whether or not the person had a heart attack before (the binary outcome variable). You can download the data `heart.csv` from Canvas. \n",
    "\n",
    "The variables are (as described on the webpage):\n",
    "\n",
    "- age: age of the patient\n",
    "- sex: sex of the patient (1 = male; 0 = female)\n",
    "- cp: chest pain type chest pain type (0 = typical angina, 1 = atypical angina, 2 = non-anginal pain, 3: asymptomatic\n",
    "- trestbps: resting blood pressure (in mm Hg)\n",
    "- chol: cholestoral in mg/dl fetched via BMI sensor\n",
    "- fbs: (fasting blood sugar > 120 mg/dl) (1 = true; 0 = false)\n",
    "- restecg: resting electrocardiographic results (0 normal; 1 = having ST-T wave abnormality (T wave inversions and/or ST elevation or depression of > 0.05 mV); 2 = showing probable or definite left ventricular hypertrophy by Estes' criteria.)\n",
    "- thalachh: maximum heart rate achieved\n",
    "- exang: exercise induced angina (1 = yes; 0 = no)\n",
    "- oldpeak: ST depression induced by exercise relative to rest\n",
    "- slope:the slope of the peak exercise ST segment ( 0= upsloping; 1= flat; 2 = downsloping )\n",
    "- ca: number of major vessels (range : 0-3)\n",
    "- thal (Thalassemias):  0 = error (in the original dataset 0 maps to NaN's); 1 = fixed defect ; 2 = normal; 3 = reversable defect\n",
    "\n",
    "- target: 0 = no disease, 1 = disease\n"
   ]
  },
  {
   "cell_type": "markdown",
   "id": "3d9c6306",
   "metadata": {},
   "source": [
    "### Problem 1: Logistic Regression\n",
    "\n",
    "Points: 10\n",
    "\n",
    "As described above, our primary aim in this assignment is to build a model to predct heart attack status -- whether a person had a heart attack or not based on other health information. "
   ]
  },
  {
   "cell_type": "markdown",
   "id": "aaa8a822-7032-45a9-953c-152d7208377a",
   "metadata": {},
   "source": [
    "#### (a) Load the data\n",
    "\n",
    "Load data.  The data should contain 303 rows, and 11 columns. Do some basic checks.  Andwer these questions:\n",
    "- Do we have any missing values? Are you concerns about missing data?\n",
    "- What are the data types? Do these make sense for the variables?\n",
    "- What are ranges of numeric variables, and possible values of categorical variables?  \n",
    "- What is the rate of heart attacks among these patients?\n",
    "  \n",
    "Compare the values with the documentation and comment what do you see."
   ]
  },
  {
   "cell_type": "code",
   "execution_count": 2,
   "id": "2aba1d5c",
   "metadata": {
    "ExecuteTime": {
     "end_time": "2025-03-04T04:37:52.784613Z",
     "start_time": "2025-03-04T04:37:52.755086Z"
    }
   },
   "outputs": [
    {
     "name": "stdout",
     "output_type": "stream",
     "text": [
      "['age', 'sex', 'cp', 'trestbps', 'chol', 'fbs', 'restecg', 'thalach', 'exang', 'oldpeak', 'slope', 'ca', 'thal', 'target']\n"
     ]
    },
    {
     "data": {
      "text/html": [
       "<div>\n",
       "<style scoped>\n",
       "    .dataframe tbody tr th:only-of-type {\n",
       "        vertical-align: middle;\n",
       "    }\n",
       "\n",
       "    .dataframe tbody tr th {\n",
       "        vertical-align: top;\n",
       "    }\n",
       "\n",
       "    .dataframe thead th {\n",
       "        text-align: right;\n",
       "    }\n",
       "</style>\n",
       "<table border=\"1\" class=\"dataframe\">\n",
       "  <thead>\n",
       "    <tr style=\"text-align: right;\">\n",
       "      <th></th>\n",
       "      <th>age</th>\n",
       "      <th>sex</th>\n",
       "      <th>cp</th>\n",
       "      <th>trestbps</th>\n",
       "      <th>chol</th>\n",
       "      <th>fbs</th>\n",
       "      <th>restecg</th>\n",
       "      <th>thalach</th>\n",
       "      <th>exang</th>\n",
       "      <th>oldpeak</th>\n",
       "      <th>slope</th>\n",
       "      <th>ca</th>\n",
       "      <th>thal</th>\n",
       "      <th>target</th>\n",
       "    </tr>\n",
       "  </thead>\n",
       "  <tbody>\n",
       "    <tr>\n",
       "      <th>0</th>\n",
       "      <td>63</td>\n",
       "      <td>1</td>\n",
       "      <td>3</td>\n",
       "      <td>145</td>\n",
       "      <td>233</td>\n",
       "      <td>1</td>\n",
       "      <td>0</td>\n",
       "      <td>150</td>\n",
       "      <td>0</td>\n",
       "      <td>2.3</td>\n",
       "      <td>0</td>\n",
       "      <td>0</td>\n",
       "      <td>1</td>\n",
       "      <td>1</td>\n",
       "    </tr>\n",
       "    <tr>\n",
       "      <th>1</th>\n",
       "      <td>37</td>\n",
       "      <td>1</td>\n",
       "      <td>2</td>\n",
       "      <td>130</td>\n",
       "      <td>250</td>\n",
       "      <td>0</td>\n",
       "      <td>1</td>\n",
       "      <td>187</td>\n",
       "      <td>0</td>\n",
       "      <td>3.5</td>\n",
       "      <td>0</td>\n",
       "      <td>0</td>\n",
       "      <td>2</td>\n",
       "      <td>1</td>\n",
       "    </tr>\n",
       "    <tr>\n",
       "      <th>2</th>\n",
       "      <td>41</td>\n",
       "      <td>0</td>\n",
       "      <td>1</td>\n",
       "      <td>130</td>\n",
       "      <td>204</td>\n",
       "      <td>0</td>\n",
       "      <td>0</td>\n",
       "      <td>172</td>\n",
       "      <td>0</td>\n",
       "      <td>1.4</td>\n",
       "      <td>2</td>\n",
       "      <td>0</td>\n",
       "      <td>2</td>\n",
       "      <td>1</td>\n",
       "    </tr>\n",
       "    <tr>\n",
       "      <th>3</th>\n",
       "      <td>56</td>\n",
       "      <td>1</td>\n",
       "      <td>1</td>\n",
       "      <td>120</td>\n",
       "      <td>236</td>\n",
       "      <td>0</td>\n",
       "      <td>1</td>\n",
       "      <td>178</td>\n",
       "      <td>0</td>\n",
       "      <td>0.8</td>\n",
       "      <td>2</td>\n",
       "      <td>0</td>\n",
       "      <td>2</td>\n",
       "      <td>1</td>\n",
       "    </tr>\n",
       "    <tr>\n",
       "      <th>4</th>\n",
       "      <td>57</td>\n",
       "      <td>0</td>\n",
       "      <td>0</td>\n",
       "      <td>120</td>\n",
       "      <td>354</td>\n",
       "      <td>0</td>\n",
       "      <td>1</td>\n",
       "      <td>163</td>\n",
       "      <td>1</td>\n",
       "      <td>0.6</td>\n",
       "      <td>2</td>\n",
       "      <td>0</td>\n",
       "      <td>2</td>\n",
       "      <td>1</td>\n",
       "    </tr>\n",
       "    <tr>\n",
       "      <th>...</th>\n",
       "      <td>...</td>\n",
       "      <td>...</td>\n",
       "      <td>...</td>\n",
       "      <td>...</td>\n",
       "      <td>...</td>\n",
       "      <td>...</td>\n",
       "      <td>...</td>\n",
       "      <td>...</td>\n",
       "      <td>...</td>\n",
       "      <td>...</td>\n",
       "      <td>...</td>\n",
       "      <td>...</td>\n",
       "      <td>...</td>\n",
       "      <td>...</td>\n",
       "    </tr>\n",
       "    <tr>\n",
       "      <th>298</th>\n",
       "      <td>57</td>\n",
       "      <td>0</td>\n",
       "      <td>0</td>\n",
       "      <td>140</td>\n",
       "      <td>241</td>\n",
       "      <td>0</td>\n",
       "      <td>1</td>\n",
       "      <td>123</td>\n",
       "      <td>1</td>\n",
       "      <td>0.2</td>\n",
       "      <td>1</td>\n",
       "      <td>0</td>\n",
       "      <td>3</td>\n",
       "      <td>0</td>\n",
       "    </tr>\n",
       "    <tr>\n",
       "      <th>299</th>\n",
       "      <td>45</td>\n",
       "      <td>1</td>\n",
       "      <td>3</td>\n",
       "      <td>110</td>\n",
       "      <td>264</td>\n",
       "      <td>0</td>\n",
       "      <td>1</td>\n",
       "      <td>132</td>\n",
       "      <td>0</td>\n",
       "      <td>1.2</td>\n",
       "      <td>1</td>\n",
       "      <td>0</td>\n",
       "      <td>3</td>\n",
       "      <td>0</td>\n",
       "    </tr>\n",
       "    <tr>\n",
       "      <th>300</th>\n",
       "      <td>68</td>\n",
       "      <td>1</td>\n",
       "      <td>0</td>\n",
       "      <td>144</td>\n",
       "      <td>193</td>\n",
       "      <td>1</td>\n",
       "      <td>1</td>\n",
       "      <td>141</td>\n",
       "      <td>0</td>\n",
       "      <td>3.4</td>\n",
       "      <td>1</td>\n",
       "      <td>2</td>\n",
       "      <td>3</td>\n",
       "      <td>0</td>\n",
       "    </tr>\n",
       "    <tr>\n",
       "      <th>301</th>\n",
       "      <td>57</td>\n",
       "      <td>1</td>\n",
       "      <td>0</td>\n",
       "      <td>130</td>\n",
       "      <td>131</td>\n",
       "      <td>0</td>\n",
       "      <td>1</td>\n",
       "      <td>115</td>\n",
       "      <td>1</td>\n",
       "      <td>1.2</td>\n",
       "      <td>1</td>\n",
       "      <td>1</td>\n",
       "      <td>3</td>\n",
       "      <td>0</td>\n",
       "    </tr>\n",
       "    <tr>\n",
       "      <th>302</th>\n",
       "      <td>57</td>\n",
       "      <td>0</td>\n",
       "      <td>1</td>\n",
       "      <td>130</td>\n",
       "      <td>236</td>\n",
       "      <td>0</td>\n",
       "      <td>0</td>\n",
       "      <td>174</td>\n",
       "      <td>0</td>\n",
       "      <td>0.0</td>\n",
       "      <td>1</td>\n",
       "      <td>1</td>\n",
       "      <td>2</td>\n",
       "      <td>0</td>\n",
       "    </tr>\n",
       "  </tbody>\n",
       "</table>\n",
       "<p>303 rows × 14 columns</p>\n",
       "</div>"
      ],
      "text/plain": [
       "     age  sex  cp  trestbps  chol  fbs  restecg  thalach  exang  oldpeak  \\\n",
       "0     63    1   3       145   233    1        0      150      0      2.3   \n",
       "1     37    1   2       130   250    0        1      187      0      3.5   \n",
       "2     41    0   1       130   204    0        0      172      0      1.4   \n",
       "3     56    1   1       120   236    0        1      178      0      0.8   \n",
       "4     57    0   0       120   354    0        1      163      1      0.6   \n",
       "..   ...  ...  ..       ...   ...  ...      ...      ...    ...      ...   \n",
       "298   57    0   0       140   241    0        1      123      1      0.2   \n",
       "299   45    1   3       110   264    0        1      132      0      1.2   \n",
       "300   68    1   0       144   193    1        1      141      0      3.4   \n",
       "301   57    1   0       130   131    0        1      115      1      1.2   \n",
       "302   57    0   1       130   236    0        0      174      0      0.0   \n",
       "\n",
       "     slope  ca  thal  target  \n",
       "0        0   0     1       1  \n",
       "1        0   0     2       1  \n",
       "2        2   0     2       1  \n",
       "3        2   0     2       1  \n",
       "4        2   0     2       1  \n",
       "..     ...  ..   ...     ...  \n",
       "298      1   0     3       0  \n",
       "299      1   0     3       0  \n",
       "300      1   2     3       0  \n",
       "301      1   1     3       0  \n",
       "302      1   1     2       0  \n",
       "\n",
       "[303 rows x 14 columns]"
      ]
     },
     "metadata": {},
     "output_type": "display_data"
    },
    {
     "name": "stdout",
     "output_type": "stream",
     "text": [
      "(303, 14)\n",
      "age           int64\n",
      "sex           int64\n",
      "cp            int64\n",
      "trestbps      int64\n",
      "chol          int64\n",
      "fbs           int64\n",
      "restecg       int64\n",
      "thalach       int64\n",
      "exang         int64\n",
      "oldpeak     float64\n",
      "slope         int64\n",
      "ca            int64\n",
      "thal          int64\n",
      "target        int64\n",
      "dtype: object\n"
     ]
    }
   ],
   "source": [
    "df = pd.read_csv('heart.csv')\n",
    "columns = df.columns.tolist()\n",
    "print(columns)\n",
    "display(df)\n",
    "print(df.shape)\n",
    "print(df.dtypes)"
   ]
  },
  {
   "cell_type": "code",
   "execution_count": 3,
   "id": "db0f78b5",
   "metadata": {
    "ExecuteTime": {
     "end_time": "2025-03-04T04:37:52.800624Z",
     "start_time": "2025-03-04T04:37:52.785604Z"
    }
   },
   "outputs": [
    {
     "name": "stdout",
     "output_type": "stream",
     "text": [
      "age         0\n",
      "sex         0\n",
      "cp          0\n",
      "trestbps    0\n",
      "chol        0\n",
      "fbs         0\n",
      "restecg     0\n",
      "thalach     0\n",
      "exang       0\n",
      "oldpeak     0\n",
      "slope       0\n",
      "ca          0\n",
      "thal        0\n",
      "target      0\n",
      "dtype: int64\n"
     ]
    }
   ],
   "source": [
    "# Find any NaN values\n",
    "nan_count_per_column = df.isna().sum()\n",
    "print(nan_count_per_column)"
   ]
  },
  {
   "cell_type": "code",
   "execution_count": 4,
   "id": "31b20e66",
   "metadata": {
    "ExecuteTime": {
     "end_time": "2025-03-04T04:37:52.816642Z",
     "start_time": "2025-03-04T04:37:52.803599Z"
    }
   },
   "outputs": [
    {
     "name": "stdout",
     "output_type": "stream",
     "text": [
      "min 29 max 77\n",
      "error values in thal: 2\n"
     ]
    }
   ],
   "source": [
    "print('min', df['age'].min(), 'max', df['age'].max())\n",
    "print('error values in thal:', (df['thal'] == 0).sum())"
   ]
  },
  {
   "cell_type": "markdown",
   "id": "3f3fd921",
   "metadata": {},
   "source": [
    "I see 14 columns, not 11.<p>\n",
    "I see two NaN in thal, but they have been converted to 0. I don't see any other bad data (ie NaN).<p>\n",
    "The data types have all been converted to numbers, which should make analyzing the data easier.<p>"
   ]
  },
  {
   "cell_type": "code",
   "execution_count": 5,
   "id": "34a63762",
   "metadata": {
    "ExecuteTime": {
     "end_time": "2025-03-04T04:37:52.831597Z",
     "start_time": "2025-03-04T04:37:52.818597Z"
    }
   },
   "outputs": [
    {
     "name": "stdout",
     "output_type": "stream",
     "text": [
      "Column: age, Min: 29, Max: 77\n",
      "Column: sex, Min: 0, Max: 1\n",
      "Column: cp, Min: 0, Max: 3\n",
      "Column: trestbps, Min: 94, Max: 200\n",
      "Column: chol, Min: 126, Max: 564\n",
      "Column: fbs, Min: 0, Max: 1\n",
      "Column: restecg, Min: 0, Max: 2\n",
      "Column: thalach, Min: 71, Max: 202\n",
      "Column: exang, Min: 0, Max: 1\n",
      "Column: oldpeak, Min: 0.0, Max: 6.2\n",
      "Column: slope, Min: 0, Max: 2\n",
      "Column: ca, Min: 0, Max: 4\n",
      "Column: thal, Min: 0, Max: 3\n",
      "Column: target, Min: 0, Max: 1\n"
     ]
    }
   ],
   "source": [
    "# Min Max of all columns:\n",
    "for column in columns:\n",
    "    min_value = df[column].min()\n",
    "    max_value = df[column].max()\n",
    "    print(f\"Column: {column}, Min: {min_value}, Max: {max_value}\")"
   ]
  },
  {
   "cell_type": "code",
   "execution_count": 6,
   "id": "3e32f891",
   "metadata": {
    "ExecuteTime": {
     "end_time": "2025-03-04T04:37:52.847601Z",
     "start_time": "2025-03-04T04:37:52.833597Z"
    }
   },
   "outputs": [
    {
     "data": {
      "text/html": [
       "<div>\n",
       "<style scoped>\n",
       "    .dataframe tbody tr th:only-of-type {\n",
       "        vertical-align: middle;\n",
       "    }\n",
       "\n",
       "    .dataframe tbody tr th {\n",
       "        vertical-align: top;\n",
       "    }\n",
       "\n",
       "    .dataframe thead th {\n",
       "        text-align: right;\n",
       "    }\n",
       "</style>\n",
       "<table border=\"1\" class=\"dataframe\">\n",
       "  <thead>\n",
       "    <tr style=\"text-align: right;\">\n",
       "      <th></th>\n",
       "      <th>age</th>\n",
       "      <th>sex</th>\n",
       "      <th>cp</th>\n",
       "      <th>trestbps</th>\n",
       "      <th>chol</th>\n",
       "      <th>fbs</th>\n",
       "      <th>restecg</th>\n",
       "      <th>thalach</th>\n",
       "      <th>exang</th>\n",
       "      <th>oldpeak</th>\n",
       "      <th>slope</th>\n",
       "      <th>ca</th>\n",
       "      <th>thal</th>\n",
       "      <th>target</th>\n",
       "    </tr>\n",
       "  </thead>\n",
       "  <tbody>\n",
       "    <tr>\n",
       "      <th>164</th>\n",
       "      <td>38</td>\n",
       "      <td>1</td>\n",
       "      <td>2</td>\n",
       "      <td>138</td>\n",
       "      <td>175</td>\n",
       "      <td>0</td>\n",
       "      <td>1</td>\n",
       "      <td>173</td>\n",
       "      <td>0</td>\n",
       "      <td>0.0</td>\n",
       "      <td>2</td>\n",
       "      <td>4</td>\n",
       "      <td>2</td>\n",
       "      <td>1</td>\n",
       "    </tr>\n",
       "  </tbody>\n",
       "</table>\n",
       "</div>"
      ],
      "text/plain": [
       "     age  sex  cp  trestbps  chol  fbs  restecg  thalach  exang  oldpeak  \\\n",
       "164   38    1   2       138   175    0        1      173      0      0.0   \n",
       "\n",
       "     slope  ca  thal  target  \n",
       "164      2   4     2       1  "
      ]
     },
     "execution_count": 6,
     "metadata": {},
     "output_type": "execute_result"
    }
   ],
   "source": [
    "# Looks to be only one duplicated row that could be real data, ie two people with identical data\n",
    "df.loc[df.duplicated()]"
   ]
  },
  {
   "cell_type": "markdown",
   "id": "c46db03f",
   "metadata": {
    "ExecuteTime": {
     "end_time": "2025-03-04T03:04:40.914096Z",
     "start_time": "2025-03-04T03:04:40.905798Z"
    }
   },
   "source": [
    "The following data could be considered categorical, but was converted to numerical:\n",
    "- `sex`: sex of the patient (1 = male; 0 = female)\n",
    "- `cp`: chest pain type chest pain type (0 = typical angina, 1 = atypical angina, 2 = non-anginal pain, 3: asymptomatic\n",
    "- `fbs`: (fasting blood sugar > 120 mg/dl) (1 = true; 0 = false)\n",
    "- `restecg`: resting electrocardiographic results (0 normal; 1 = having ST-T wave abnormality 2 = showing probable or definite left ventricular hypertrophy by Estes' criteria.)\n",
    "- `exang`: exercise induced angina (1 = yes; 0 = no)\n",
    "- `slope`:the slope of the peak exercise ST segment ( 0= upsloping; 1= flat; 2 = downsloping )\n",
    "- `thal` (Thalassemias):  0 = error 1 = fixed defect ; 2 = normal; 3 = reversable defect\n",
    "- `target`: 0 = no disease, 1 = disease"
   ]
  },
  {
   "cell_type": "markdown",
   "id": "1c7b5f37",
   "metadata": {},
   "source": [
    "I read through all the instructions and the website, and nothing specified what the heart attack is in hearts.csv. On the website it calls out `goal` but that field is 0-4 not 0-1. I will assume it is `target` in the hearts.csv file."
   ]
  },
  {
   "cell_type": "code",
   "execution_count": 7,
   "id": "f7a1166c",
   "metadata": {
    "ExecuteTime": {
     "end_time": "2025-03-04T04:37:52.863174Z",
     "start_time": "2025-03-04T04:37:52.849603Z"
    }
   },
   "outputs": [
    {
     "name": "stdout",
     "output_type": "stream",
     "text": [
      "Rate of patients who had a heart attack (ie target=1): 54.46%\n"
     ]
    }
   ],
   "source": [
    "percentage_target_1 = (df['target'] == 1).mean() * 100\n",
    "print(f\"Rate of patients who had a heart attack (ie target=1): {percentage_target_1:.2f}%\")"
   ]
  },
  {
   "cell_type": "markdown",
   "id": "72a5477f",
   "metadata": {},
   "source": [
    "#### (b) Logistic regression model\n",
    "\n",
    "Fit a logistic regression model with all the explanatory variables.  Do not forget to convert the categorical ones to categories!\n",
    "\n",
    "In each case also comment on statistical significance of the results. (Hint : https://www.statsmodels.org/stable/discretemod.html )"
   ]
  },
  {
   "cell_type": "code",
   "execution_count": 8,
   "id": "04350216",
   "metadata": {
    "ExecuteTime": {
     "end_time": "2025-03-04T04:37:52.879080Z",
     "start_time": "2025-03-04T04:37:52.865158Z"
    }
   },
   "outputs": [
    {
     "name": "stdout",
     "output_type": "stream",
     "text": [
      "     age     sex                cp  trestbps  chol    fbs  \\\n",
      "0     63    male      asymptomatic       145   233   true   \n",
      "1     37    male  non-anginal pain       130   250  false   \n",
      "2     41  female   atypical angina       130   204  false   \n",
      "3     56    male   atypical angina       120   236  false   \n",
      "4     57  female    typical angina       120   354  false   \n",
      "..   ...     ...               ...       ...   ...    ...   \n",
      "298   57  female    typical angina       140   241  false   \n",
      "299   45    male      asymptomatic       110   264  false   \n",
      "300   68    male    typical angina       144   193   true   \n",
      "301   57    male    typical angina       130   131  false   \n",
      "302   57  female   atypical angina       130   236  false   \n",
      "\n",
      "                   restecg  thalach exang  oldpeak        slope  ca  \\\n",
      "0                   normal      150    no      2.3    upsloping   0   \n",
      "1    ST-T wave abnormality      187    no      3.5    upsloping   0   \n",
      "2                   normal      172    no      1.4  downsloping   0   \n",
      "3    ST-T wave abnormality      178    no      0.8  downsloping   0   \n",
      "4    ST-T wave abnormality      163   yes      0.6  downsloping   0   \n",
      "..                     ...      ...   ...      ...          ...  ..   \n",
      "298  ST-T wave abnormality      123   yes      0.2         flat   0   \n",
      "299  ST-T wave abnormality      132    no      1.2         flat   0   \n",
      "300  ST-T wave abnormality      141    no      3.4         flat   2   \n",
      "301  ST-T wave abnormality      115   yes      1.2         flat   1   \n",
      "302                 normal      174    no      0.0         flat   1   \n",
      "\n",
      "                  thal      target  \n",
      "0         fixed defect     disease  \n",
      "1               normal     disease  \n",
      "2               normal     disease  \n",
      "3               normal     disease  \n",
      "4               normal     disease  \n",
      "..                 ...         ...  \n",
      "298  reversible defect  no disease  \n",
      "299  reversible defect  no disease  \n",
      "300  reversible defect  no disease  \n",
      "301  reversible defect  no disease  \n",
      "302             normal  no disease  \n",
      "\n",
      "[303 rows x 14 columns]\n"
     ]
    }
   ],
   "source": [
    "# Replace the numerical to categories where appropriate\n",
    "# Mapping dictionaries\n",
    "sex_map = {1: 'male', 0: 'female'}\n",
    "cp_map = {0: 'typical angina', 1: 'atypical angina', 2: 'non-anginal pain', 3: 'asymptomatic'}\n",
    "fbs_map = {1: 'true', 0: 'false'}\n",
    "restecg_map = {0: 'normal', 1: 'ST-T wave abnormality', 2: 'left ventricular hypertrophy'}\n",
    "exang_map = {1: 'yes', 0: 'no'}\n",
    "slope_map = {0: 'upsloping', 1: 'flat', 2: 'downsloping'}\n",
    "thal_map = {0: 'error', 1: 'fixed defect', 2: 'normal', 3: 'reversible defect'}\n",
    "target_map = {0: 'no disease', 1: 'disease'}\n",
    "\n",
    "df_cat = df.copy()\n",
    "# Applying the mappings\n",
    "df_cat['sex'] = df_cat['sex'].replace(sex_map)\n",
    "df_cat['cp'] = df_cat['cp'].replace(cp_map)\n",
    "df_cat['fbs'] = df_cat['fbs'].replace(fbs_map)\n",
    "df_cat['restecg'] = df_cat['restecg'].replace(restecg_map)\n",
    "df_cat['exang'] = df_cat['exang'].replace(exang_map)\n",
    "df_cat['slope'] = df_cat['slope'].replace(slope_map)\n",
    "df_cat['thal'] = df_cat['thal'].replace(thal_map)\n",
    "df_cat['target'] = df_cat['target'].replace(target_map)\n",
    "\n",
    "print(df_cat)"
   ]
  },
  {
   "cell_type": "code",
   "execution_count": 9,
   "id": "0fb369a1",
   "metadata": {
    "ExecuteTime": {
     "end_time": "2025-03-04T04:37:52.911130Z",
     "start_time": "2025-03-04T04:37:52.881079Z"
    }
   },
   "outputs": [
    {
     "name": "stdout",
     "output_type": "stream",
     "text": [
      "Optimization terminated successfully.\n",
      "         Current function value: 0.348904\n",
      "         Iterations 7\n",
      "                           Logit Regression Results                           \n",
      "==============================================================================\n",
      "Dep. Variable:                 target   No. Observations:                  303\n",
      "Model:                          Logit   Df Residuals:                      289\n",
      "Method:                           MLE   Df Model:                           13\n",
      "Date:                Mon, 03 Mar 2025   Pseudo R-squ.:                  0.4937\n",
      "Time:                        20:37:52   Log-Likelihood:                -105.72\n",
      "converged:                       True   LL-Null:                       -208.82\n",
      "Covariance Type:            nonrobust   LLR p-value:                 7.262e-37\n",
      "==============================================================================\n",
      "                 coef    std err          z      P>|z|      [0.025      0.975]\n",
      "------------------------------------------------------------------------------\n",
      "const          3.4505      2.571      1.342      0.180      -1.590       8.490\n",
      "age           -0.0049      0.023     -0.212      0.832      -0.050       0.041\n",
      "sex           -1.7582      0.469     -3.751      0.000      -2.677      -0.839\n",
      "cp             0.8599      0.185      4.638      0.000       0.496       1.223\n",
      "trestbps      -0.0195      0.010     -1.884      0.060      -0.040       0.001\n",
      "chol          -0.0046      0.004     -1.224      0.221      -0.012       0.003\n",
      "fbs            0.0349      0.529      0.066      0.947      -1.003       1.073\n",
      "restecg        0.4663      0.348      1.339      0.181      -0.216       1.149\n",
      "thalach        0.0232      0.010      2.219      0.026       0.003       0.044\n",
      "exang         -0.9800      0.410     -2.391      0.017      -1.783      -0.177\n",
      "oldpeak       -0.5403      0.214     -2.526      0.012      -0.959      -0.121\n",
      "slope          0.5793      0.350      1.656      0.098      -0.106       1.265\n",
      "ca            -0.7733      0.191     -4.051      0.000      -1.147      -0.399\n",
      "thal          -0.9004      0.290     -3.104      0.002      -1.469      -0.332\n",
      "==============================================================================\n"
     ]
    }
   ],
   "source": [
    "# Fit the regression model on all the numeric values\n",
    "# This CANNOT be done on the categorical values which is what the instructions imply\n",
    "X = df.drop('target', axis=1)  # Explanatory variables\n",
    "y = df['target']  # Dependent variable\n",
    "# Add a constant to the model (intercept)\n",
    "X = sm.add_constant(X)\n",
    "\n",
    "# Fit the logistic regression model\n",
    "model = sm.Logit(y, X)\n",
    "result = model.fit()\n",
    "\n",
    "# Print the summary of the model\n",
    "print(result.summary())"
   ]
  },
  {
   "cell_type": "markdown",
   "id": "e8326cbd",
   "metadata": {
    "ExecuteTime": {
     "end_time": "2025-03-04T03:26:23.762901Z",
     "start_time": "2025-03-04T03:26:22.999162Z"
    }
   },
   "source": [
    "For the above results, the following variables are significant or not:<p>\n",
    " - `const`: Not significant (p-value = 0.180)\n",
    " - `age`: Not significant (p-value = 0.832)\n",
    " - `sex`: Significant (p-value < 0.001)\n",
    " - `cp`: Significant (p-value < 0.001)\n",
    " - `trestbps`: Marginally significant (p-value = 0.060)\n",
    " - `chol`: Not significant (p-value = 0.221)\n",
    " - `fbs`: Not significant (p-value = 0.947)\n",
    " - `restecg`: Not significant (p-value = 0.181)\n",
    " - `thalach`: Significant (p-value = 0.026)\n",
    " - `exang`: Significant (p-value = 0.017)\n",
    " - `oldpeak`: Significant (p-value = 0.012)\n",
    " - `slope`: Marginally significant (p-value = 0.098)\n",
    " - `ca`: Significant (p-value < 0.001)\n",
    " - `thal`: Significant (p-value = 0.002)"
   ]
  },
  {
   "cell_type": "markdown",
   "id": "e38eed97",
   "metadata": {},
   "source": [
    "#### (c) Data Cleaning\n",
    "\n",
    "You probably noticed that all the above variables are coded as numbers. However, not all of these are in fact of numeric (interval, ratio) measure type. Which variables above are inherently non-numeric (nominal or ordinal)? Fix any issues."
   ]
  },
  {
   "cell_type": "code",
   "execution_count": 10,
   "id": "e8a19967",
   "metadata": {
    "ExecuteTime": {
     "end_time": "2025-03-04T04:37:52.942752Z",
     "start_time": "2025-03-04T04:37:52.915149Z"
    }
   },
   "outputs": [
    {
     "data": {
      "text/html": [
       "<div>\n",
       "<style scoped>\n",
       "    .dataframe tbody tr th:only-of-type {\n",
       "        vertical-align: middle;\n",
       "    }\n",
       "\n",
       "    .dataframe tbody tr th {\n",
       "        vertical-align: top;\n",
       "    }\n",
       "\n",
       "    .dataframe thead th {\n",
       "        text-align: right;\n",
       "    }\n",
       "</style>\n",
       "<table border=\"1\" class=\"dataframe\">\n",
       "  <thead>\n",
       "    <tr style=\"text-align: right;\">\n",
       "      <th></th>\n",
       "      <th>age</th>\n",
       "      <th>sex</th>\n",
       "      <th>cp</th>\n",
       "      <th>trestbps</th>\n",
       "      <th>chol</th>\n",
       "      <th>fbs</th>\n",
       "      <th>restecg</th>\n",
       "      <th>thalach</th>\n",
       "      <th>exang</th>\n",
       "      <th>oldpeak</th>\n",
       "      <th>slope</th>\n",
       "      <th>ca</th>\n",
       "      <th>thal</th>\n",
       "      <th>target</th>\n",
       "    </tr>\n",
       "  </thead>\n",
       "  <tbody>\n",
       "    <tr>\n",
       "      <th>0</th>\n",
       "      <td>63</td>\n",
       "      <td>male</td>\n",
       "      <td>asymptomatic</td>\n",
       "      <td>145</td>\n",
       "      <td>233</td>\n",
       "      <td>true</td>\n",
       "      <td>normal</td>\n",
       "      <td>150</td>\n",
       "      <td>no</td>\n",
       "      <td>2.3</td>\n",
       "      <td>upsloping</td>\n",
       "      <td>0</td>\n",
       "      <td>fixed defect</td>\n",
       "      <td>disease</td>\n",
       "    </tr>\n",
       "    <tr>\n",
       "      <th>1</th>\n",
       "      <td>37</td>\n",
       "      <td>male</td>\n",
       "      <td>non-anginal pain</td>\n",
       "      <td>130</td>\n",
       "      <td>250</td>\n",
       "      <td>false</td>\n",
       "      <td>ST-T wave abnormality</td>\n",
       "      <td>187</td>\n",
       "      <td>no</td>\n",
       "      <td>3.5</td>\n",
       "      <td>upsloping</td>\n",
       "      <td>0</td>\n",
       "      <td>normal</td>\n",
       "      <td>disease</td>\n",
       "    </tr>\n",
       "    <tr>\n",
       "      <th>2</th>\n",
       "      <td>41</td>\n",
       "      <td>female</td>\n",
       "      <td>atypical angina</td>\n",
       "      <td>130</td>\n",
       "      <td>204</td>\n",
       "      <td>false</td>\n",
       "      <td>normal</td>\n",
       "      <td>172</td>\n",
       "      <td>no</td>\n",
       "      <td>1.4</td>\n",
       "      <td>downsloping</td>\n",
       "      <td>0</td>\n",
       "      <td>normal</td>\n",
       "      <td>disease</td>\n",
       "    </tr>\n",
       "    <tr>\n",
       "      <th>3</th>\n",
       "      <td>56</td>\n",
       "      <td>male</td>\n",
       "      <td>atypical angina</td>\n",
       "      <td>120</td>\n",
       "      <td>236</td>\n",
       "      <td>false</td>\n",
       "      <td>ST-T wave abnormality</td>\n",
       "      <td>178</td>\n",
       "      <td>no</td>\n",
       "      <td>0.8</td>\n",
       "      <td>downsloping</td>\n",
       "      <td>0</td>\n",
       "      <td>normal</td>\n",
       "      <td>disease</td>\n",
       "    </tr>\n",
       "    <tr>\n",
       "      <th>4</th>\n",
       "      <td>57</td>\n",
       "      <td>female</td>\n",
       "      <td>typical angina</td>\n",
       "      <td>120</td>\n",
       "      <td>354</td>\n",
       "      <td>false</td>\n",
       "      <td>ST-T wave abnormality</td>\n",
       "      <td>163</td>\n",
       "      <td>yes</td>\n",
       "      <td>0.6</td>\n",
       "      <td>downsloping</td>\n",
       "      <td>0</td>\n",
       "      <td>normal</td>\n",
       "      <td>disease</td>\n",
       "    </tr>\n",
       "    <tr>\n",
       "      <th>...</th>\n",
       "      <td>...</td>\n",
       "      <td>...</td>\n",
       "      <td>...</td>\n",
       "      <td>...</td>\n",
       "      <td>...</td>\n",
       "      <td>...</td>\n",
       "      <td>...</td>\n",
       "      <td>...</td>\n",
       "      <td>...</td>\n",
       "      <td>...</td>\n",
       "      <td>...</td>\n",
       "      <td>...</td>\n",
       "      <td>...</td>\n",
       "      <td>...</td>\n",
       "    </tr>\n",
       "    <tr>\n",
       "      <th>298</th>\n",
       "      <td>57</td>\n",
       "      <td>female</td>\n",
       "      <td>typical angina</td>\n",
       "      <td>140</td>\n",
       "      <td>241</td>\n",
       "      <td>false</td>\n",
       "      <td>ST-T wave abnormality</td>\n",
       "      <td>123</td>\n",
       "      <td>yes</td>\n",
       "      <td>0.2</td>\n",
       "      <td>flat</td>\n",
       "      <td>0</td>\n",
       "      <td>reversible defect</td>\n",
       "      <td>no disease</td>\n",
       "    </tr>\n",
       "    <tr>\n",
       "      <th>299</th>\n",
       "      <td>45</td>\n",
       "      <td>male</td>\n",
       "      <td>asymptomatic</td>\n",
       "      <td>110</td>\n",
       "      <td>264</td>\n",
       "      <td>false</td>\n",
       "      <td>ST-T wave abnormality</td>\n",
       "      <td>132</td>\n",
       "      <td>no</td>\n",
       "      <td>1.2</td>\n",
       "      <td>flat</td>\n",
       "      <td>0</td>\n",
       "      <td>reversible defect</td>\n",
       "      <td>no disease</td>\n",
       "    </tr>\n",
       "    <tr>\n",
       "      <th>300</th>\n",
       "      <td>68</td>\n",
       "      <td>male</td>\n",
       "      <td>typical angina</td>\n",
       "      <td>144</td>\n",
       "      <td>193</td>\n",
       "      <td>true</td>\n",
       "      <td>ST-T wave abnormality</td>\n",
       "      <td>141</td>\n",
       "      <td>no</td>\n",
       "      <td>3.4</td>\n",
       "      <td>flat</td>\n",
       "      <td>2</td>\n",
       "      <td>reversible defect</td>\n",
       "      <td>no disease</td>\n",
       "    </tr>\n",
       "    <tr>\n",
       "      <th>301</th>\n",
       "      <td>57</td>\n",
       "      <td>male</td>\n",
       "      <td>typical angina</td>\n",
       "      <td>130</td>\n",
       "      <td>131</td>\n",
       "      <td>false</td>\n",
       "      <td>ST-T wave abnormality</td>\n",
       "      <td>115</td>\n",
       "      <td>yes</td>\n",
       "      <td>1.2</td>\n",
       "      <td>flat</td>\n",
       "      <td>1</td>\n",
       "      <td>reversible defect</td>\n",
       "      <td>no disease</td>\n",
       "    </tr>\n",
       "    <tr>\n",
       "      <th>302</th>\n",
       "      <td>57</td>\n",
       "      <td>female</td>\n",
       "      <td>atypical angina</td>\n",
       "      <td>130</td>\n",
       "      <td>236</td>\n",
       "      <td>false</td>\n",
       "      <td>normal</td>\n",
       "      <td>174</td>\n",
       "      <td>no</td>\n",
       "      <td>0.0</td>\n",
       "      <td>flat</td>\n",
       "      <td>1</td>\n",
       "      <td>normal</td>\n",
       "      <td>no disease</td>\n",
       "    </tr>\n",
       "  </tbody>\n",
       "</table>\n",
       "<p>303 rows × 14 columns</p>\n",
       "</div>"
      ],
      "text/plain": [
       "     age     sex                cp  trestbps  chol    fbs  \\\n",
       "0     63    male      asymptomatic       145   233   true   \n",
       "1     37    male  non-anginal pain       130   250  false   \n",
       "2     41  female   atypical angina       130   204  false   \n",
       "3     56    male   atypical angina       120   236  false   \n",
       "4     57  female    typical angina       120   354  false   \n",
       "..   ...     ...               ...       ...   ...    ...   \n",
       "298   57  female    typical angina       140   241  false   \n",
       "299   45    male      asymptomatic       110   264  false   \n",
       "300   68    male    typical angina       144   193   true   \n",
       "301   57    male    typical angina       130   131  false   \n",
       "302   57  female   atypical angina       130   236  false   \n",
       "\n",
       "                   restecg  thalach exang  oldpeak        slope  ca  \\\n",
       "0                   normal      150    no      2.3    upsloping   0   \n",
       "1    ST-T wave abnormality      187    no      3.5    upsloping   0   \n",
       "2                   normal      172    no      1.4  downsloping   0   \n",
       "3    ST-T wave abnormality      178    no      0.8  downsloping   0   \n",
       "4    ST-T wave abnormality      163   yes      0.6  downsloping   0   \n",
       "..                     ...      ...   ...      ...          ...  ..   \n",
       "298  ST-T wave abnormality      123   yes      0.2         flat   0   \n",
       "299  ST-T wave abnormality      132    no      1.2         flat   0   \n",
       "300  ST-T wave abnormality      141    no      3.4         flat   2   \n",
       "301  ST-T wave abnormality      115   yes      1.2         flat   1   \n",
       "302                 normal      174    no      0.0         flat   1   \n",
       "\n",
       "                  thal      target  \n",
       "0         fixed defect     disease  \n",
       "1               normal     disease  \n",
       "2               normal     disease  \n",
       "3               normal     disease  \n",
       "4               normal     disease  \n",
       "..                 ...         ...  \n",
       "298  reversible defect  no disease  \n",
       "299  reversible defect  no disease  \n",
       "300  reversible defect  no disease  \n",
       "301  reversible defect  no disease  \n",
       "302             normal  no disease  \n",
       "\n",
       "[303 rows x 14 columns]"
      ]
     },
     "metadata": {},
     "output_type": "display_data"
    }
   ],
   "source": [
    "# The following variables are inherently non-numeric:\n",
    "sex_map = {1: 'male', 0: 'female'}\n",
    "cp_map = {0: 'typical angina', 1: 'atypical angina', 2: 'non-anginal pain', 3: 'asymptomatic'}\n",
    "fbs_map = {1: 'true', 0: 'false'}\n",
    "restecg_map = {0: 'normal', 1: 'ST-T wave abnormality', 2: 'left ventricular hypertrophy'}\n",
    "exang_map = {1: 'yes', 0: 'no'}\n",
    "slope_map = {0: 'upsloping', 1: 'flat', 2: 'downsloping'}\n",
    "thal_map = {0: 'error', 1: 'fixed defect', 2: 'normal', 3: 'reversible defect'}\n",
    "target_map = {0: 'no disease', 1: 'disease'}\n",
    "df_cat = df.copy()\n",
    "# Applying the mappings\n",
    "df_cat['sex'] = df_cat['sex'].replace(sex_map)\n",
    "df_cat['cp'] = df_cat['cp'].replace(cp_map)\n",
    "df_cat['fbs'] = df_cat['fbs'].replace(fbs_map)\n",
    "df_cat['restecg'] = df_cat['restecg'].replace(restecg_map)\n",
    "df_cat['exang'] = df_cat['exang'].replace(exang_map)\n",
    "df_cat['slope'] = df_cat['slope'].replace(slope_map)\n",
    "df_cat['thal'] = df_cat['thal'].replace(thal_map)\n",
    "df_cat['target'] = df_cat['target'].replace(target_map)\n",
    "\n",
    "display(df_cat)"
   ]
  },
  {
   "cell_type": "markdown",
   "id": "bc50b2c0",
   "metadata": {},
   "source": [
    "Run EDA(Exploratory Data Analysis) to answer at least 2 questions listd below:\n",
    "- How is age related to probability of heart attack?\n",
    "- Are men or women more likely to have heart attack?   \n",
    "- Is higher blood pressure (`trtbps`) associated with more heart attacks?\n",
    "- How much more likely is heart attack for someone who has chest pain (`cp type 1`) compared to someone who has chest pain type 3?\n",
    "- What is the heart attack distribution based on different (`restecg`) categories? "
   ]
  },
  {
   "cell_type": "code",
   "execution_count": 11,
   "id": "6b7c3bbc",
   "metadata": {
    "ExecuteTime": {
     "end_time": "2025-03-04T04:37:52.958585Z",
     "start_time": "2025-03-04T04:37:52.945165Z"
    }
   },
   "outputs": [
    {
     "name": "stdout",
     "output_type": "stream",
     "text": [
      "                           Logit Regression Results                           \n",
      "==============================================================================\n",
      "Dep. Variable:                 target   No. Observations:                  303\n",
      "Model:                          Logit   Df Residuals:                      289\n",
      "Method:                           MLE   Df Model:                           13\n",
      "Date:                Mon, 03 Mar 2025   Pseudo R-squ.:                  0.4937\n",
      "Time:                        20:37:52   Log-Likelihood:                -105.72\n",
      "converged:                       True   LL-Null:                       -208.82\n",
      "Covariance Type:            nonrobust   LLR p-value:                 7.262e-37\n",
      "==============================================================================\n",
      "                 coef    std err          z      P>|z|      [0.025      0.975]\n",
      "------------------------------------------------------------------------------\n",
      "const          3.4505      2.571      1.342      0.180      -1.590       8.490\n",
      "age           -0.0049      0.023     -0.212      0.832      -0.050       0.041\n",
      "sex           -1.7582      0.469     -3.751      0.000      -2.677      -0.839\n",
      "cp             0.8599      0.185      4.638      0.000       0.496       1.223\n",
      "trestbps      -0.0195      0.010     -1.884      0.060      -0.040       0.001\n",
      "chol          -0.0046      0.004     -1.224      0.221      -0.012       0.003\n",
      "fbs            0.0349      0.529      0.066      0.947      -1.003       1.073\n",
      "restecg        0.4663      0.348      1.339      0.181      -0.216       1.149\n",
      "thalach        0.0232      0.010      2.219      0.026       0.003       0.044\n",
      "exang         -0.9800      0.410     -2.391      0.017      -1.783      -0.177\n",
      "oldpeak       -0.5403      0.214     -2.526      0.012      -0.959      -0.121\n",
      "slope          0.5793      0.350      1.656      0.098      -0.106       1.265\n",
      "ca            -0.7733      0.191     -4.051      0.000      -1.147      -0.399\n",
      "thal          -0.9004      0.290     -3.104      0.002      -1.469      -0.332\n",
      "==============================================================================\n"
     ]
    }
   ],
   "source": [
    "print(result.summary())"
   ]
  },
  {
   "cell_type": "code",
   "execution_count": 12,
   "id": "b9331696",
   "metadata": {
    "ExecuteTime": {
     "end_time": "2025-03-04T04:37:52.990100Z",
     "start_time": "2025-03-04T04:37:52.960585Z"
    }
   },
   "outputs": [
    {
     "data": {
      "text/html": [
       "<div>\n",
       "<style scoped>\n",
       "    .dataframe tbody tr th:only-of-type {\n",
       "        vertical-align: middle;\n",
       "    }\n",
       "\n",
       "    .dataframe tbody tr th {\n",
       "        vertical-align: top;\n",
       "    }\n",
       "\n",
       "    .dataframe thead th {\n",
       "        text-align: right;\n",
       "    }\n",
       "</style>\n",
       "<table border=\"1\" class=\"dataframe\">\n",
       "  <thead>\n",
       "    <tr style=\"text-align: right;\">\n",
       "      <th></th>\n",
       "      <th>age</th>\n",
       "      <th>sex</th>\n",
       "      <th>cp</th>\n",
       "      <th>trestbps</th>\n",
       "      <th>chol</th>\n",
       "      <th>fbs</th>\n",
       "      <th>restecg</th>\n",
       "      <th>thalach</th>\n",
       "      <th>exang</th>\n",
       "      <th>oldpeak</th>\n",
       "      <th>slope</th>\n",
       "      <th>ca</th>\n",
       "      <th>thal</th>\n",
       "      <th>target</th>\n",
       "    </tr>\n",
       "  </thead>\n",
       "  <tbody>\n",
       "    <tr>\n",
       "      <th>count</th>\n",
       "      <td>303.000000</td>\n",
       "      <td>303.000000</td>\n",
       "      <td>303.000000</td>\n",
       "      <td>303.000000</td>\n",
       "      <td>303.000000</td>\n",
       "      <td>303.000000</td>\n",
       "      <td>303.000000</td>\n",
       "      <td>303.000000</td>\n",
       "      <td>303.000000</td>\n",
       "      <td>303.000000</td>\n",
       "      <td>303.000000</td>\n",
       "      <td>303.000000</td>\n",
       "      <td>303.000000</td>\n",
       "      <td>303.000000</td>\n",
       "    </tr>\n",
       "    <tr>\n",
       "      <th>mean</th>\n",
       "      <td>54.366337</td>\n",
       "      <td>0.683168</td>\n",
       "      <td>0.966997</td>\n",
       "      <td>131.623762</td>\n",
       "      <td>246.264026</td>\n",
       "      <td>0.148515</td>\n",
       "      <td>0.528053</td>\n",
       "      <td>149.646865</td>\n",
       "      <td>0.326733</td>\n",
       "      <td>1.039604</td>\n",
       "      <td>1.399340</td>\n",
       "      <td>0.729373</td>\n",
       "      <td>2.313531</td>\n",
       "      <td>0.544554</td>\n",
       "    </tr>\n",
       "    <tr>\n",
       "      <th>std</th>\n",
       "      <td>9.082101</td>\n",
       "      <td>0.466011</td>\n",
       "      <td>1.032052</td>\n",
       "      <td>17.538143</td>\n",
       "      <td>51.830751</td>\n",
       "      <td>0.356198</td>\n",
       "      <td>0.525860</td>\n",
       "      <td>22.905161</td>\n",
       "      <td>0.469794</td>\n",
       "      <td>1.161075</td>\n",
       "      <td>0.616226</td>\n",
       "      <td>1.022606</td>\n",
       "      <td>0.612277</td>\n",
       "      <td>0.498835</td>\n",
       "    </tr>\n",
       "    <tr>\n",
       "      <th>min</th>\n",
       "      <td>29.000000</td>\n",
       "      <td>0.000000</td>\n",
       "      <td>0.000000</td>\n",
       "      <td>94.000000</td>\n",
       "      <td>126.000000</td>\n",
       "      <td>0.000000</td>\n",
       "      <td>0.000000</td>\n",
       "      <td>71.000000</td>\n",
       "      <td>0.000000</td>\n",
       "      <td>0.000000</td>\n",
       "      <td>0.000000</td>\n",
       "      <td>0.000000</td>\n",
       "      <td>0.000000</td>\n",
       "      <td>0.000000</td>\n",
       "    </tr>\n",
       "    <tr>\n",
       "      <th>25%</th>\n",
       "      <td>47.500000</td>\n",
       "      <td>0.000000</td>\n",
       "      <td>0.000000</td>\n",
       "      <td>120.000000</td>\n",
       "      <td>211.000000</td>\n",
       "      <td>0.000000</td>\n",
       "      <td>0.000000</td>\n",
       "      <td>133.500000</td>\n",
       "      <td>0.000000</td>\n",
       "      <td>0.000000</td>\n",
       "      <td>1.000000</td>\n",
       "      <td>0.000000</td>\n",
       "      <td>2.000000</td>\n",
       "      <td>0.000000</td>\n",
       "    </tr>\n",
       "    <tr>\n",
       "      <th>50%</th>\n",
       "      <td>55.000000</td>\n",
       "      <td>1.000000</td>\n",
       "      <td>1.000000</td>\n",
       "      <td>130.000000</td>\n",
       "      <td>240.000000</td>\n",
       "      <td>0.000000</td>\n",
       "      <td>1.000000</td>\n",
       "      <td>153.000000</td>\n",
       "      <td>0.000000</td>\n",
       "      <td>0.800000</td>\n",
       "      <td>1.000000</td>\n",
       "      <td>0.000000</td>\n",
       "      <td>2.000000</td>\n",
       "      <td>1.000000</td>\n",
       "    </tr>\n",
       "    <tr>\n",
       "      <th>75%</th>\n",
       "      <td>61.000000</td>\n",
       "      <td>1.000000</td>\n",
       "      <td>2.000000</td>\n",
       "      <td>140.000000</td>\n",
       "      <td>274.500000</td>\n",
       "      <td>0.000000</td>\n",
       "      <td>1.000000</td>\n",
       "      <td>166.000000</td>\n",
       "      <td>1.000000</td>\n",
       "      <td>1.600000</td>\n",
       "      <td>2.000000</td>\n",
       "      <td>1.000000</td>\n",
       "      <td>3.000000</td>\n",
       "      <td>1.000000</td>\n",
       "    </tr>\n",
       "    <tr>\n",
       "      <th>max</th>\n",
       "      <td>77.000000</td>\n",
       "      <td>1.000000</td>\n",
       "      <td>3.000000</td>\n",
       "      <td>200.000000</td>\n",
       "      <td>564.000000</td>\n",
       "      <td>1.000000</td>\n",
       "      <td>2.000000</td>\n",
       "      <td>202.000000</td>\n",
       "      <td>1.000000</td>\n",
       "      <td>6.200000</td>\n",
       "      <td>2.000000</td>\n",
       "      <td>4.000000</td>\n",
       "      <td>3.000000</td>\n",
       "      <td>1.000000</td>\n",
       "    </tr>\n",
       "  </tbody>\n",
       "</table>\n",
       "</div>"
      ],
      "text/plain": [
       "              age         sex          cp    trestbps        chol         fbs  \\\n",
       "count  303.000000  303.000000  303.000000  303.000000  303.000000  303.000000   \n",
       "mean    54.366337    0.683168    0.966997  131.623762  246.264026    0.148515   \n",
       "std      9.082101    0.466011    1.032052   17.538143   51.830751    0.356198   \n",
       "min     29.000000    0.000000    0.000000   94.000000  126.000000    0.000000   \n",
       "25%     47.500000    0.000000    0.000000  120.000000  211.000000    0.000000   \n",
       "50%     55.000000    1.000000    1.000000  130.000000  240.000000    0.000000   \n",
       "75%     61.000000    1.000000    2.000000  140.000000  274.500000    0.000000   \n",
       "max     77.000000    1.000000    3.000000  200.000000  564.000000    1.000000   \n",
       "\n",
       "          restecg     thalach       exang     oldpeak       slope          ca  \\\n",
       "count  303.000000  303.000000  303.000000  303.000000  303.000000  303.000000   \n",
       "mean     0.528053  149.646865    0.326733    1.039604    1.399340    0.729373   \n",
       "std      0.525860   22.905161    0.469794    1.161075    0.616226    1.022606   \n",
       "min      0.000000   71.000000    0.000000    0.000000    0.000000    0.000000   \n",
       "25%      0.000000  133.500000    0.000000    0.000000    1.000000    0.000000   \n",
       "50%      1.000000  153.000000    0.000000    0.800000    1.000000    0.000000   \n",
       "75%      1.000000  166.000000    1.000000    1.600000    2.000000    1.000000   \n",
       "max      2.000000  202.000000    1.000000    6.200000    2.000000    4.000000   \n",
       "\n",
       "             thal      target  \n",
       "count  303.000000  303.000000  \n",
       "mean     2.313531    0.544554  \n",
       "std      0.612277    0.498835  \n",
       "min      0.000000    0.000000  \n",
       "25%      2.000000    0.000000  \n",
       "50%      2.000000    1.000000  \n",
       "75%      3.000000    1.000000  \n",
       "max      3.000000    1.000000  "
      ]
     },
     "execution_count": 12,
     "metadata": {},
     "output_type": "execute_result"
    }
   ],
   "source": [
    "df.describe()"
   ]
  },
  {
   "cell_type": "code",
   "execution_count": 13,
   "id": "c01ff302",
   "metadata": {
    "ExecuteTime": {
     "end_time": "2025-03-04T04:37:53.006116Z",
     "start_time": "2025-03-04T04:37:52.992101Z"
    }
   },
   "outputs": [
    {
     "name": "stdout",
     "output_type": "stream",
     "text": [
      "target  disease  no disease\n",
      "sex                        \n",
      "female       72          24\n",
      "male         93         114\n"
     ]
    }
   ],
   "source": [
    "# Look at heart attack by gender   \n",
    "aggregate_df = df_cat.groupby(['sex', 'target']).size().unstack(fill_value=0)\n",
    "print(aggregate_df)"
   ]
  },
  {
   "cell_type": "markdown",
   "id": "27caf63b",
   "metadata": {
    "ExecuteTime": {
     "end_time": "2025-03-04T03:56:00.133373Z",
     "start_time": "2025-03-04T03:56:00.034860Z"
    }
   },
   "source": [
    "Are men or women more likely to have heart attack?<p>\n",
    "The coefficient for `sex` is -1.7582 with a p-value of 0.000, which is statistically significant. Since 1 represents men and 0 represents women, the negative coefficient suggests that men are less likely to have a heart attack compared to women, holding other variables constant.\n",
    "    "
   ]
  },
  {
   "cell_type": "code",
   "execution_count": 14,
   "id": "609def9d",
   "metadata": {
    "ExecuteTime": {
     "end_time": "2025-03-04T04:37:53.178280Z",
     "start_time": "2025-03-04T04:37:53.008101Z"
    }
   },
   "outputs": [
    {
     "data": {
      "image/png": "[encoded data removed]",
      "text/plain": [
       "<Figure size 1200x600 with 1 Axes>"
      ]
     },
     "metadata": {},
     "output_type": "display_data"
    }
   ],
   "source": [
    "#- Is higher blood pressure (`trtbps`) associated with more heart attacks?\n",
    "df['trestbps_bins'] = pd.cut(df['trestbps'], bins=10)\n",
    "\n",
    "# Filter the DataFrame to include only rows where target is 1\n",
    "df_target_1 = df[df['target'] == 1]\n",
    "\n",
    "# Create the bar chart\n",
    "plt.figure(figsize=(12, 6))\n",
    "sns.countplot(x='trestbps_bins', data=df_target_1)\n",
    "plt.xlabel('Resting Blood Pressure Bins')\n",
    "plt.ylabel('Count of Patients having a Heart Attack')\n",
    "plt.title('Bar Chart of Resting Blood Pressure (trestbps) for those who had a heart attack')\n",
    "plt.xticks(rotation=45)\n",
    "plt.show()"
   ]
  },
  {
   "cell_type": "markdown",
   "id": "71cb0147",
   "metadata": {},
   "source": [
    "Once again the coefficient for `trestbps` is -0.0195 with a p-value of 0.060, which is moderately statistically significant. The negative coefficient suggests that people with high blood pressure are less likely to have a heart attack compared to people with lower blood pressure, holding other variables constant."
   ]
  },
  {
   "cell_type": "markdown",
   "id": "ca9cf4e6",
   "metadata": {},
   "source": [
    "### Problem 2: Prediction\n",
    "\n",
    "The last task is to split the dataset into a training (80% of the dataset) set and a testing (20% of the dataset) set. \n",
    "\n",
    "Run a logistic regression and another classification model (based on your own preference).  (Hint: Try scikit learn https://scikit-learn.org/stable/modules/generated/sklearn.linear_model.LogisticRegression.html )\n",
    "\n",
    "Compute the confusion matrix based on the 2 models. Discuss what you find."
   ]
  },
  {
   "cell_type": "code",
   "execution_count": 15,
   "id": "d143705f",
   "metadata": {
    "ExecuteTime": {
     "end_time": "2025-03-04T04:37:53.257330Z",
     "start_time": "2025-03-04T04:37:53.181279Z"
    }
   },
   "outputs": [
    {
     "name": "stdout",
     "output_type": "stream",
     "text": [
      "Accuracy: 0.5573770491803278\n",
      "Confusion Matrix:\n",
      "[[25  4]\n",
      " [23  9]]\n",
      "Classification Report:\n",
      "              precision    recall  f1-score   support\n",
      "\n",
      "           0       0.52      0.86      0.65        29\n",
      "           1       0.69      0.28      0.40        32\n",
      "\n",
      "    accuracy                           0.56        61\n",
      "   macro avg       0.61      0.57      0.52        61\n",
      "weighted avg       0.61      0.56      0.52        61\n",
      "\n"
     ]
    }
   ],
   "source": [
    "# Linear Regression Model\n",
    "from sklearn.model_selection import train_test_split\n",
    "from sklearn.linear_model import LogisticRegression\n",
    "from sklearn.metrics import accuracy_score, confusion_matrix, classification_report\n",
    "\n",
    "X = df[['sex']]\n",
    "y = df['target']\n",
    "\n",
    "# Split the data into 80% training and 20% testing\n",
    "X_train, X_test, y_train, y_test = train_test_split(X, y, test_size=0.2, random_state=42)\n",
    "\n",
    "# Initialize and train the logistic regression model\n",
    "model = LogisticRegression(max_iter=1000)\n",
    "model.fit(X_train, y_train)\n",
    "\n",
    "# Make predictions on the test set\n",
    "y_pred = model.predict(X_test)\n",
    "\n",
    "# Evaluate the model\n",
    "accuracy = accuracy_score(y_test, y_pred)\n",
    "conf_matrix = confusion_matrix(y_test, y_pred)\n",
    "class_report = classification_report(y_test, y_pred)\n",
    "\n",
    "print(f'Accuracy: {accuracy}')\n",
    "print('Confusion Matrix:')\n",
    "print(conf_matrix)\n",
    "print('Classification Report:')\n",
    "print(class_report)"
   ]
  },
  {
   "cell_type": "code",
   "execution_count": 16,
   "id": "2a44a4bf",
   "metadata": {
    "ExecuteTime": {
     "end_time": "2025-03-04T04:37:53.416731Z",
     "start_time": "2025-03-04T04:37:53.259314Z"
    }
   },
   "outputs": [
    {
     "name": "stdout",
     "output_type": "stream",
     "text": [
      "Logistic Regression Accuracy: 0.5573770491803278\n",
      "K-Nearest Neighbors Accuracy: 0.5573770491803278\n",
      "Support Vector Machine Accuracy: 0.5573770491803278\n",
      "Decision Tree Accuracy: 0.5573770491803278\n",
      "Random Forest Accuracy: 0.5573770491803278\n",
      "Gradient Boosting Accuracy: 0.5573770491803278\n",
      "Naive Bayes Accuracy: 0.5573770491803278\n",
      "Highest LogisticRegression(max_iter=1000) 0.5573770491803278\n"
     ]
    }
   ],
   "source": [
    "from sklearn.model_selection import train_test_split\n",
    "from sklearn.linear_model import LogisticRegression\n",
    "from sklearn.neighbors import KNeighborsClassifier\n",
    "from sklearn.svm import SVC\n",
    "from sklearn.tree import DecisionTreeClassifier\n",
    "from sklearn.ensemble import RandomForestClassifier, GradientBoostingClassifier\n",
    "from sklearn.naive_bayes import GaussianNB\n",
    "from sklearn.metrics import accuracy_score\n",
    "\n",
    "# Going to see what other models perform well\n",
    "# Initialize models\n",
    "models = {\n",
    "    'Logistic Regression': LogisticRegression(max_iter=1000),\n",
    "    'K-Nearest Neighbors': KNeighborsClassifier(),\n",
    "    'Support Vector Machine': SVC(),\n",
    "    'Decision Tree': DecisionTreeClassifier(),\n",
    "    'Random Forest': RandomForestClassifier(),\n",
    "    'Gradient Boosting': GradientBoostingClassifier(),\n",
    "    'Naive Bayes': GaussianNB()\n",
    "}\n",
    "\n",
    "# Train and evaluate each model\n",
    "high_model, high_acc  = '', -9999\n",
    "for name, model in models.items():\n",
    "    X_train, X_test, y_train, y_test = train_test_split(X, y, test_size=0.2, random_state=42)\n",
    "    model.fit(X_train, y_train)\n",
    "    y_pred = model.predict(X_test)\n",
    "    accuracy = accuracy_score(y_test, y_pred)\n",
    "    if accuracy > high_acc:\n",
    "        high_model, high_acc = model, accuracy\n",
    "    print(f'{name} Accuracy: {accuracy}')\n",
    "print(\"Highest\", high_model, high_acc)"
   ]
  },
  {
   "cell_type": "code",
   "execution_count": 17,
   "id": "f44b15f1",
   "metadata": {
    "ExecuteTime": {
     "end_time": "2025-03-04T04:37:53.558335Z",
     "start_time": "2025-03-04T04:37:53.418757Z"
    }
   },
   "outputs": [
    {
     "name": "stdout",
     "output_type": "stream",
     "text": [
      "Logistic Regression Accuracy: 0.5901639344262295\n",
      "K-Nearest Neighbors Accuracy: 0.45901639344262296\n",
      "Support Vector Machine Accuracy: 0.5573770491803278\n",
      "Decision Tree Accuracy: 0.4918032786885246\n",
      "Random Forest Accuracy: 0.5081967213114754\n",
      "Gradient Boosting Accuracy: 0.5081967213114754\n",
      "Naive Bayes Accuracy: 0.5901639344262295\n",
      "Highest LogisticRegression(max_iter=1000) 0.5901639344262295\n"
     ]
    }
   ],
   "source": [
    "X = df[['trestbps']]\n",
    "y = df['target']\n",
    "\n",
    "high_model, high_acc  = '', -9999\n",
    "for name, model in models.items():\n",
    "    X_train, X_test, y_train, y_test = train_test_split(X, y, test_size=0.2, random_state=42)\n",
    "    model.fit(X_train, y_train)\n",
    "    y_pred = model.predict(X_test)\n",
    "    accuracy = accuracy_score(y_test, y_pred)\n",
    "    if accuracy > high_acc:\n",
    "        high_model, high_acc = model, accuracy\n",
    "    print(f'{name} Accuracy: {accuracy}')\n",
    "print(\"Highest\", high_model, high_acc)"
   ]
  },
  {
   "cell_type": "markdown",
   "id": "68d42fd4",
   "metadata": {},
   "source": [
    "All the models seem to perform equally well, but with low accuracy. 45-59% is not very accurate. "
   ]
  },
  {
   "cell_type": "markdown",
   "id": "f7f1e40c-0a95-4257-a435-5b0952264d8c",
   "metadata": {},
   "source": [
    "### Problem 3: Reflection\n",
    "\n",
    "What concerns do you have about this data and the analysis above? How might data on heart attack status and a model like the one you fit above be used in the real world?"
   ]
  },
  {
   "cell_type": "markdown",
   "id": "872f88b3",
   "metadata": {},
   "source": [
    "This data does not seem complete or it is possibly only a very small group of people in a single area and not randomized across demographic or geographic boundaries. I would not trust the accuracy of the models I prepared above because they accuracy was too low.<p>\n",
    "Assuming we had a broad, randomized set of data, we could easily use one of these models to predict risk factors for a heart attack and then propose possible interventions like diet, exercise, etc."
   ]
  }
 ],
 "metadata": {
  "celltoolbar": "Initialization Cell",
  "kernelspec": {
   "display_name": "py38",
   "language": "python",
   "name": "py38"
  },
  "language_info": {
   "codemirror_mode": {
    "name": "ipython",
    "version": 3
   },
   "file_extension": ".py",
   "mimetype": "text/x-python",
   "name": "python",
   "nbconvert_exporter": "python",
   "pygments_lexer": "ipython3",
   "version": "3.8.10"
  },
  "toc": {
   "base_numbering": 1,
   "nav_menu": {},
   "number_sections": true,
   "sideBar": true,
   "skip_h1_title": false,
   "title_cell": "Table of Contents",
   "title_sidebar": "Contents",
   "toc_cell": false,
   "toc_position": {},
   "toc_section_display": true,
   "toc_window_display": false
  }
 },
 "nbformat": 4,
 "nbformat_minor": 5
}

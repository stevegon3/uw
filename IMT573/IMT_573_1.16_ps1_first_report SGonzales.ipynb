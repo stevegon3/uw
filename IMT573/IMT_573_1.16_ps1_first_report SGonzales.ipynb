{
 "cells": [
  {
   "cell_type": "markdown",
   "id": "1461b6bb",
   "metadata": {},
   "source": [
    "# IMT 573 1.1.6 Problem Set 1 - First Data Science Report"
   ]
  },
  {
   "cell_type": "markdown",
   "id": "1cf60757",
   "metadata": {},
   "source": [
    "### Instructions\n",
    "\n",
    "Before beginning this assignment, please ensure you have access to a working instance of Jupyter Notebooks with Python 3.\n",
    "\n",
    "1. First, replace the “YOUR NAME HERE” text in the next cell with your own full name. Any collaborators must also be listed in this cell.\n",
    "\n",
    "2. Be sure to include well-documented (e.g. commented) code cells, figures, and clearly written text  explanations as necessary. Any figures should be clearly labeled and appropriately referenced within the text. Be sure that each visualization adds value to your written explanation; avoid redundancy – you do no need four different visualizations of the same pattern.\n",
    "\n",
    "3. Collaboration on problem sets and labs is fun, useful, and encouraged. However, each student must turn in an individual write-up in their own words as well as code/work that is their own. Regardless of whether you work with others, what you turn in must be your own work; this includes code and interpretation of results. The names of all collaborators must be listed on each assignment. Do not copy-and-paste from other students’ responses or code - your code should never be on any other student's screen or machine.\n",
    "\n",
    "4. All materials and resources that you use (with the exception of lecture slides) must be appropriately referenced within your assignment.\n",
    "\n",
    "5. Partial credit will be awarded for each question for which a serious attempt at finding an answer has been shown. Students are *strongly* encouraged to attempt each question and document their reasoning process even if they cannot find the correct answer. \n",
    "\n",
    "6. After completing the assignment, ensure that your code can run from start to finish without issue. Restart the kernal and run all cells to double check."
   ]
  },
  {
   "cell_type": "markdown",
   "id": "aadc8a3b",
   "metadata": {},
   "source": [
    "Name: Steve Gonzales\n",
    "\n",
    "Collaborators: None\n",
    "\n",
    "Google Gemini used to demonstrate how to use Pandas Correlation (could not get it to work; switched to Numpy.correlate); reference clearly cited.<p>\n",
    "All other code is my own."
   ]
  },
  {
   "cell_type": "code",
   "execution_count": 2,
   "id": "9f16ea92",
   "metadata": {
    "ExecuteTime": {
     "end_time": "2025-01-07T05:17:06.869892Z",
     "start_time": "2025-01-07T05:17:05.584944Z"
    }
   },
   "outputs": [
    {
     "name": "stdout",
     "output_type": "stream",
     "text": [
      "Requirement already satisfied: scikit-learn in c:\\users\\steve\\scoop\\apps\\python311\\current\\lib\\site-packages (1.4.1.post1)\n",
      "Requirement already satisfied: numpy<2.0,>=1.19.5 in c:\\users\\steve\\scoop\\apps\\python311\\current\\lib\\site-packages (from scikit-learn) (1.26.1)\n",
      "Requirement already satisfied: scipy>=1.6.0 in c:\\users\\steve\\scoop\\apps\\python311\\current\\lib\\site-packages (from scikit-learn) (1.12.0)\n",
      "Requirement already satisfied: joblib>=1.2.0 in c:\\users\\steve\\scoop\\apps\\python311\\current\\lib\\site-packages (from scikit-learn) (1.3.2)\n",
      "Requirement already satisfied: threadpoolctl>=2.0.0 in c:\\users\\steve\\scoop\\apps\\python311\\current\\lib\\site-packages (from scikit-learn) (3.3.0)\n"
     ]
    },
    {
     "name": "stderr",
     "output_type": "stream",
     "text": [
      "WARNING: Ignoring invalid distribution ~oetry (C:\\Users\\steve\\scoop\\apps\\python311\\current\\Lib\\site-packages)\n",
      "WARNING: Ignoring invalid distribution ~oetry (C:\\Users\\steve\\scoop\\apps\\python311\\current\\Lib\\site-packages)\n",
      "WARNING: Ignoring invalid distribution ~oetry (C:\\Users\\steve\\scoop\\apps\\python311\\current\\Lib\\site-packages)\n"
     ]
    }
   ],
   "source": [
    "!pip install scikit-learn"
   ]
  },
  {
   "cell_type": "markdown",
   "id": "c61a3b20",
   "metadata": {},
   "source": [
    "For this assignment, you'll need (at least) the following packages. If the package does not load, be sure it is properly installed."
   ]
  },
  {
   "cell_type": "code",
   "execution_count": 1,
   "id": "d9c226ce",
   "metadata": {
    "ExecuteTime": {
     "end_time": "2025-01-12T05:26:37.155493Z",
     "start_time": "2025-01-12T05:26:30.277299Z"
    },
    "init_cell": true
   },
   "outputs": [],
   "source": [
    "import pandas as pd\n",
    "import seaborn as sns\n",
    "from sklearn import datasets"
   ]
  },
  {
   "cell_type": "markdown",
   "id": "713eedca",
   "metadata": {},
   "source": [
    "### Problem 1: Load a dataset\n",
    "\n",
    "Choose a dataset from the sklearn [toy dataset repository](https://scikit-learn.org/stable/datasets/toy_dataset.html). Load the data and provide a brief description of the data. At a minimum, describe the shape of the data, how many observations it contains, how many variables it contains, and what type of data it contains."
   ]
  },
  {
   "cell_type": "code",
   "execution_count": 2,
   "id": "1c401a59",
   "metadata": {
    "ExecuteTime": {
     "end_time": "2025-01-12T05:26:37.160180Z",
     "start_time": "2025-01-12T05:26:37.157606Z"
    },
    "init_cell": true
   },
   "outputs": [],
   "source": [
    "import pandas as pd\n",
    "from sklearn.datasets import load_linnerud"
   ]
  },
  {
   "cell_type": "code",
   "execution_count": 49,
   "id": "44900b69",
   "metadata": {
    "ExecuteTime": {
     "end_time": "2025-01-07T19:09:16.173782Z",
     "start_time": "2025-01-07T19:09:16.162497Z"
    }
   },
   "outputs": [
    {
     "data": {
      "text/html": [
       "<div>\n",
       "<style scoped>\n",
       "    .dataframe tbody tr th:only-of-type {\n",
       "        vertical-align: middle;\n",
       "    }\n",
       "\n",
       "    .dataframe tbody tr th {\n",
       "        vertical-align: top;\n",
       "    }\n",
       "\n",
       "    .dataframe thead th {\n",
       "        text-align: right;\n",
       "    }\n",
       "</style>\n",
       "<table border=\"1\" class=\"dataframe\">\n",
       "  <thead>\n",
       "    <tr style=\"text-align: right;\">\n",
       "      <th></th>\n",
       "      <th>Chins</th>\n",
       "      <th>Situps</th>\n",
       "      <th>Jumps</th>\n",
       "      <th>Weight</th>\n",
       "      <th>Waist</th>\n",
       "      <th>Pulse</th>\n",
       "    </tr>\n",
       "    <tr>\n",
       "      <th>person</th>\n",
       "      <th></th>\n",
       "      <th></th>\n",
       "      <th></th>\n",
       "      <th></th>\n",
       "      <th></th>\n",
       "      <th></th>\n",
       "    </tr>\n",
       "  </thead>\n",
       "  <tbody>\n",
       "    <tr>\n",
       "      <th>0</th>\n",
       "      <td>5.0</td>\n",
       "      <td>162.0</td>\n",
       "      <td>60.0</td>\n",
       "      <td>191.0</td>\n",
       "      <td>36.0</td>\n",
       "      <td>50.0</td>\n",
       "    </tr>\n",
       "    <tr>\n",
       "      <th>1</th>\n",
       "      <td>2.0</td>\n",
       "      <td>110.0</td>\n",
       "      <td>60.0</td>\n",
       "      <td>189.0</td>\n",
       "      <td>37.0</td>\n",
       "      <td>52.0</td>\n",
       "    </tr>\n",
       "    <tr>\n",
       "      <th>2</th>\n",
       "      <td>12.0</td>\n",
       "      <td>101.0</td>\n",
       "      <td>101.0</td>\n",
       "      <td>193.0</td>\n",
       "      <td>38.0</td>\n",
       "      <td>58.0</td>\n",
       "    </tr>\n",
       "    <tr>\n",
       "      <th>3</th>\n",
       "      <td>12.0</td>\n",
       "      <td>105.0</td>\n",
       "      <td>37.0</td>\n",
       "      <td>162.0</td>\n",
       "      <td>35.0</td>\n",
       "      <td>62.0</td>\n",
       "    </tr>\n",
       "    <tr>\n",
       "      <th>4</th>\n",
       "      <td>13.0</td>\n",
       "      <td>155.0</td>\n",
       "      <td>58.0</td>\n",
       "      <td>189.0</td>\n",
       "      <td>35.0</td>\n",
       "      <td>46.0</td>\n",
       "    </tr>\n",
       "    <tr>\n",
       "      <th>5</th>\n",
       "      <td>4.0</td>\n",
       "      <td>101.0</td>\n",
       "      <td>42.0</td>\n",
       "      <td>182.0</td>\n",
       "      <td>36.0</td>\n",
       "      <td>56.0</td>\n",
       "    </tr>\n",
       "    <tr>\n",
       "      <th>6</th>\n",
       "      <td>8.0</td>\n",
       "      <td>101.0</td>\n",
       "      <td>38.0</td>\n",
       "      <td>211.0</td>\n",
       "      <td>38.0</td>\n",
       "      <td>56.0</td>\n",
       "    </tr>\n",
       "    <tr>\n",
       "      <th>7</th>\n",
       "      <td>6.0</td>\n",
       "      <td>125.0</td>\n",
       "      <td>40.0</td>\n",
       "      <td>167.0</td>\n",
       "      <td>34.0</td>\n",
       "      <td>60.0</td>\n",
       "    </tr>\n",
       "    <tr>\n",
       "      <th>8</th>\n",
       "      <td>15.0</td>\n",
       "      <td>200.0</td>\n",
       "      <td>40.0</td>\n",
       "      <td>176.0</td>\n",
       "      <td>31.0</td>\n",
       "      <td>74.0</td>\n",
       "    </tr>\n",
       "    <tr>\n",
       "      <th>9</th>\n",
       "      <td>17.0</td>\n",
       "      <td>251.0</td>\n",
       "      <td>250.0</td>\n",
       "      <td>154.0</td>\n",
       "      <td>33.0</td>\n",
       "      <td>56.0</td>\n",
       "    </tr>\n",
       "    <tr>\n",
       "      <th>10</th>\n",
       "      <td>17.0</td>\n",
       "      <td>120.0</td>\n",
       "      <td>38.0</td>\n",
       "      <td>169.0</td>\n",
       "      <td>34.0</td>\n",
       "      <td>50.0</td>\n",
       "    </tr>\n",
       "    <tr>\n",
       "      <th>11</th>\n",
       "      <td>13.0</td>\n",
       "      <td>210.0</td>\n",
       "      <td>115.0</td>\n",
       "      <td>166.0</td>\n",
       "      <td>33.0</td>\n",
       "      <td>52.0</td>\n",
       "    </tr>\n",
       "    <tr>\n",
       "      <th>12</th>\n",
       "      <td>14.0</td>\n",
       "      <td>215.0</td>\n",
       "      <td>105.0</td>\n",
       "      <td>154.0</td>\n",
       "      <td>34.0</td>\n",
       "      <td>64.0</td>\n",
       "    </tr>\n",
       "    <tr>\n",
       "      <th>13</th>\n",
       "      <td>1.0</td>\n",
       "      <td>50.0</td>\n",
       "      <td>50.0</td>\n",
       "      <td>247.0</td>\n",
       "      <td>46.0</td>\n",
       "      <td>50.0</td>\n",
       "    </tr>\n",
       "    <tr>\n",
       "      <th>14</th>\n",
       "      <td>6.0</td>\n",
       "      <td>70.0</td>\n",
       "      <td>31.0</td>\n",
       "      <td>193.0</td>\n",
       "      <td>36.0</td>\n",
       "      <td>46.0</td>\n",
       "    </tr>\n",
       "    <tr>\n",
       "      <th>15</th>\n",
       "      <td>12.0</td>\n",
       "      <td>210.0</td>\n",
       "      <td>120.0</td>\n",
       "      <td>202.0</td>\n",
       "      <td>37.0</td>\n",
       "      <td>62.0</td>\n",
       "    </tr>\n",
       "    <tr>\n",
       "      <th>16</th>\n",
       "      <td>4.0</td>\n",
       "      <td>60.0</td>\n",
       "      <td>25.0</td>\n",
       "      <td>176.0</td>\n",
       "      <td>37.0</td>\n",
       "      <td>54.0</td>\n",
       "    </tr>\n",
       "    <tr>\n",
       "      <th>17</th>\n",
       "      <td>11.0</td>\n",
       "      <td>230.0</td>\n",
       "      <td>80.0</td>\n",
       "      <td>157.0</td>\n",
       "      <td>32.0</td>\n",
       "      <td>52.0</td>\n",
       "    </tr>\n",
       "    <tr>\n",
       "      <th>18</th>\n",
       "      <td>15.0</td>\n",
       "      <td>225.0</td>\n",
       "      <td>73.0</td>\n",
       "      <td>156.0</td>\n",
       "      <td>33.0</td>\n",
       "      <td>54.0</td>\n",
       "    </tr>\n",
       "    <tr>\n",
       "      <th>19</th>\n",
       "      <td>2.0</td>\n",
       "      <td>110.0</td>\n",
       "      <td>43.0</td>\n",
       "      <td>138.0</td>\n",
       "      <td>33.0</td>\n",
       "      <td>68.0</td>\n",
       "    </tr>\n",
       "  </tbody>\n",
       "</table>\n",
       "</div>"
      ],
      "text/plain": [
       "        Chins  Situps  Jumps  Weight  Waist  Pulse\n",
       "person                                            \n",
       "0         5.0   162.0   60.0   191.0   36.0   50.0\n",
       "1         2.0   110.0   60.0   189.0   37.0   52.0\n",
       "2        12.0   101.0  101.0   193.0   38.0   58.0\n",
       "3        12.0   105.0   37.0   162.0   35.0   62.0\n",
       "4        13.0   155.0   58.0   189.0   35.0   46.0\n",
       "5         4.0   101.0   42.0   182.0   36.0   56.0\n",
       "6         8.0   101.0   38.0   211.0   38.0   56.0\n",
       "7         6.0   125.0   40.0   167.0   34.0   60.0\n",
       "8        15.0   200.0   40.0   176.0   31.0   74.0\n",
       "9        17.0   251.0  250.0   154.0   33.0   56.0\n",
       "10       17.0   120.0   38.0   169.0   34.0   50.0\n",
       "11       13.0   210.0  115.0   166.0   33.0   52.0\n",
       "12       14.0   215.0  105.0   154.0   34.0   64.0\n",
       "13        1.0    50.0   50.0   247.0   46.0   50.0\n",
       "14        6.0    70.0   31.0   193.0   36.0   46.0\n",
       "15       12.0   210.0  120.0   202.0   37.0   62.0\n",
       "16        4.0    60.0   25.0   176.0   37.0   54.0\n",
       "17       11.0   230.0   80.0   157.0   32.0   52.0\n",
       "18       15.0   225.0   73.0   156.0   33.0   54.0\n",
       "19        2.0   110.0   43.0   138.0   33.0   68.0"
      ]
     },
     "metadata": {},
     "output_type": "display_data"
    }
   ],
   "source": [
    "def get_linnerud_data():\n",
    "    \"\"\"Function to retrieve linnerud data and return a single merged DF\n",
    "    Chins  Situps  Jumps  Weight  Waist  Pulse\n",
    "0     5.0   162.0   60.0   191.0   36.0   50.0\n",
    "    \"\"\"\n",
    "    linnerud = load_linnerud()\n",
    "    df_feature = pd.DataFrame(data=linnerud.data, columns=linnerud.feature_names)\n",
    "    df_target = pd.DataFrame(data=linnerud.target, columns=linnerud.target_names)\n",
    "\n",
    "    # Combine the DFs and return\n",
    "    idx = pd.Index(range(max(len(df_feature), len(df_target))), name='person')\n",
    "    df = df_feature.merge(df_target, left_index=True, right_index=True)\n",
    "    df.set_index(idx, inplace=True)\n",
    "    return df\n",
    "df = get_linnerud_data()\n",
    "display(df)"
   ]
  },
  {
   "cell_type": "code",
   "execution_count": 50,
   "id": "28d16af7",
   "metadata": {
    "ExecuteTime": {
     "end_time": "2025-01-07T19:09:25.787746Z",
     "start_time": "2025-01-07T19:09:25.778694Z"
    }
   },
   "outputs": [
    {
     "name": "stdout",
     "output_type": "stream",
     "text": [
      "I have chosen the Linnerud data set which contains physiological and activity (exercises) data \n",
      " collected from twenty middle-aged men in a fitness club:\n",
      "\n",
      "Physiological variables:\n",
      "Weight, Waist and Pulse.\n",
      "\n",
      "Exercise variables:\n",
      "Chins, Situps and Jumps.\n",
      "\n",
      "Feature Names: ['Chins', 'Situps', 'Jumps']\n",
      "Sample Feature data:\n",
      "         Chins  Situps  Jumps\n",
      "person                      \n",
      "0         5.0   162.0   60.0\n",
      "1         2.0   110.0   60.0\n",
      "2        12.0   101.0  101.0\n",
      "3        12.0   105.0   37.0\n",
      "There are 20 total rows of feature data\n",
      "\n",
      "Target Names: ['Weight', 'Waist', 'Pulse']\n",
      "Sample Target data:\n",
      "         Weight  Waist  Pulse\n",
      "person                      \n",
      "0        191.0   36.0   50.0\n",
      "1        189.0   37.0   52.0\n",
      "2        193.0   38.0   58.0\n",
      "3        162.0   35.0   62.0\n",
      "There are 20 total rows of target data\n"
     ]
    }
   ],
   "source": [
    "desc = \"\"\"I have chosen the Linnerud data set which contains physiological and activity (exercises) data \n",
    " collected from twenty middle-aged men in a fitness club:\n",
    "\n",
    "Physiological variables:\n",
    "Weight, Waist and Pulse.\n",
    "\n",
    "Exercise variables:\n",
    "Chins, Situps and Jumps.\n",
    "\"\"\"\n",
    "print(desc)\n",
    "\n",
    "# Load the Linnerud dataset\n",
    "df = get_linnerud_data()\n",
    "\n",
    "print(\"Feature Names:\", list(df.columns[:3]))\n",
    "# Print the first few data points\n",
    "print(\"Sample Feature data:\\n\", df.iloc[:4, :3])\n",
    "print(f\"There are {len(df.iloc[:, :3])} total rows of feature data\")\n",
    "print('')\n",
    "print(\"Target Names:\", list(df.columns[3:]))\n",
    "# Print the first few target values\n",
    "print(\"Sample Target data:\\n\", df.iloc[:4, 3:])\n",
    "print(f\"There are {len(df.iloc[:, 3:])} total rows of target data\")"
   ]
  },
  {
   "cell_type": "markdown",
   "id": "688faeb2",
   "metadata": {},
   "source": [
    "### Problem 2: Create a visualization\n",
    "\n",
    "Create a visualization of the data you chose."
   ]
  },
  {
   "cell_type": "code",
   "execution_count": 51,
   "id": "fc8a98af",
   "metadata": {
    "ExecuteTime": {
     "end_time": "2025-01-07T19:09:32.637247Z",
     "start_time": "2025-01-07T19:09:32.629953Z"
    }
   },
   "outputs": [
    {
     "name": "stdout",
     "output_type": "stream",
     "text": [
      "        Chins  Situps  Jumps  Weight  Waist  Pulse\n",
      "person                                            \n",
      "0         5.0   162.0   60.0   191.0   36.0   50.0\n",
      "1         2.0   110.0   60.0   189.0   37.0   52.0\n",
      "2        12.0   101.0  101.0   193.0   38.0   58.0\n",
      "3        12.0   105.0   37.0   162.0   35.0   62.0\n",
      "4        13.0   155.0   58.0   189.0   35.0   46.0\n",
      "5         4.0   101.0   42.0   182.0   36.0   56.0\n",
      "6         8.0   101.0   38.0   211.0   38.0   56.0\n",
      "7         6.0   125.0   40.0   167.0   34.0   60.0\n",
      "8        15.0   200.0   40.0   176.0   31.0   74.0\n",
      "9        17.0   251.0  250.0   154.0   33.0   56.0\n",
      "10       17.0   120.0   38.0   169.0   34.0   50.0\n",
      "11       13.0   210.0  115.0   166.0   33.0   52.0\n",
      "12       14.0   215.0  105.0   154.0   34.0   64.0\n",
      "13        1.0    50.0   50.0   247.0   46.0   50.0\n",
      "14        6.0    70.0   31.0   193.0   36.0   46.0\n",
      "15       12.0   210.0  120.0   202.0   37.0   62.0\n",
      "16        4.0    60.0   25.0   176.0   37.0   54.0\n",
      "17       11.0   230.0   80.0   157.0   32.0   52.0\n",
      "18       15.0   225.0   73.0   156.0   33.0   54.0\n",
      "19        2.0   110.0   43.0   138.0   33.0   68.0\n"
     ]
    }
   ],
   "source": [
    "# Create a Pandas Dataframe with the data\n",
    "# It is not specified, but I am assuming that the order is consistent, \n",
    "#  ie row 1 of features is person 1 and row 1 of target is person 1\n",
    "df = get_linnerud_data()\n",
    "print(df)"
   ]
  },
  {
   "cell_type": "code",
   "execution_count": 31,
   "id": "de9beac3",
   "metadata": {
    "ExecuteTime": {
     "end_time": "2025-01-07T16:21:20.390910Z",
     "start_time": "2025-01-07T16:20:57.401356Z"
    }
   },
   "outputs": [
    {
     "name": "stdout",
     "output_type": "stream",
     "text": [
      "Collecting yfinance\n",
      "  Downloading yfinance-0.2.51-py2.py3-none-any.whl.metadata (5.5 kB)\n",
      "Requirement already satisfied: pandas>=1.3.0 in c:\\users\\steve\\scoop\\apps\\python311\\current\\lib\\site-packages (from yfinance) (1.5.3)\n",
      "Requirement already satisfied: numpy>=1.16.5 in c:\\users\\steve\\scoop\\apps\\python311\\current\\lib\\site-packages (from yfinance) (1.26.1)\n",
      "Requirement already satisfied: requests>=2.31 in c:\\users\\steve\\scoop\\apps\\python311\\current\\lib\\site-packages (from yfinance) (2.31.0)\n",
      "Collecting multitasking>=0.0.7 (from yfinance)\n",
      "  Downloading multitasking-0.0.11-py3-none-any.whl.metadata (5.5 kB)\n",
      "Requirement already satisfied: lxml>=4.9.1 in c:\\users\\steve\\scoop\\apps\\python311\\current\\lib\\site-packages (from yfinance) (4.9.3)\n",
      "Requirement already satisfied: platformdirs>=2.0.0 in c:\\users\\steve\\scoop\\apps\\python311\\current\\lib\\site-packages (from yfinance) (4.2.0)\n",
      "Requirement already satisfied: pytz>=2022.5 in c:\\users\\steve\\scoop\\apps\\python311\\current\\lib\\site-packages (from yfinance) (2023.3.post1)\n",
      "Collecting frozendict>=2.3.4 (from yfinance)\n",
      "  Downloading frozendict-2.4.6-py311-none-any.whl.metadata (23 kB)\n",
      "Collecting peewee>=3.16.2 (from yfinance)\n",
      "  Downloading peewee-3.17.8.tar.gz (948 kB)\n",
      "     ---------------------------------------- 0.0/948.2 kB ? eta -:--:--\n",
      "     ------------------------------------- 948.2/948.2 kB 14.6 MB/s eta 0:00:00\n",
      "  Installing build dependencies: started\n",
      "  Installing build dependencies: finished with status 'done'\n",
      "  Getting requirements to build wheel: started\n",
      "  Getting requirements to build wheel: finished with status 'done'\n",
      "  Preparing metadata (pyproject.toml): started\n",
      "  Preparing metadata (pyproject.toml): finished with status 'done'\n",
      "Requirement already satisfied: beautifulsoup4>=4.11.1 in c:\\users\\steve\\scoop\\apps\\python311\\current\\lib\\site-packages (from yfinance) (4.12.2)\n",
      "Requirement already satisfied: html5lib>=1.1 in c:\\users\\steve\\scoop\\apps\\python311\\current\\lib\\site-packages (from yfinance) (1.1)\n",
      "Requirement already satisfied: soupsieve>1.2 in c:\\users\\steve\\scoop\\apps\\python311\\current\\lib\\site-packages (from beautifulsoup4>=4.11.1->yfinance) (2.5)\n",
      "Requirement already satisfied: six>=1.9 in c:\\users\\steve\\scoop\\apps\\python311\\current\\lib\\site-packages (from html5lib>=1.1->yfinance) (1.16.0)\n",
      "Requirement already satisfied: webencodings in c:\\users\\steve\\scoop\\apps\\python311\\current\\lib\\site-packages (from html5lib>=1.1->yfinance) (0.5.1)\n",
      "Requirement already satisfied: python-dateutil>=2.8.1 in c:\\users\\steve\\scoop\\apps\\python311\\current\\lib\\site-packages (from pandas>=1.3.0->yfinance) (2.8.2)\n",
      "Requirement already satisfied: charset-normalizer<4,>=2 in c:\\users\\steve\\scoop\\apps\\python311\\current\\lib\\site-packages (from requests>=2.31->yfinance) (3.3.2)\n",
      "Requirement already satisfied: idna<4,>=2.5 in c:\\users\\steve\\scoop\\apps\\python311\\current\\lib\\site-packages (from requests>=2.31->yfinance) (3.6)\n",
      "Requirement already satisfied: urllib3<3,>=1.21.1 in c:\\users\\steve\\scoop\\apps\\python311\\current\\lib\\site-packages (from requests>=2.31->yfinance) (2.2.1)\n",
      "Requirement already satisfied: certifi>=2017.4.17 in c:\\users\\steve\\scoop\\apps\\python311\\current\\lib\\site-packages (from requests>=2.31->yfinance) (2024.2.2)\n",
      "Downloading yfinance-0.2.51-py2.py3-none-any.whl (104 kB)\n",
      "Downloading frozendict-2.4.6-py311-none-any.whl (16 kB)\n",
      "Downloading multitasking-0.0.11-py3-none-any.whl (8.5 kB)\n",
      "Building wheels for collected packages: peewee\n",
      "  Building wheel for peewee (pyproject.toml): started\n",
      "  Building wheel for peewee (pyproject.toml): finished with status 'done'\n",
      "  Created wheel for peewee: filename=peewee-3.17.8-py3-none-any.whl size=139014 sha256=bf4ce82e7ee1c861decb9614305fe3a63d51cf3641f03bb5c21e07d31c1e7889\n",
      "  Stored in directory: c:\\users\\steve\\appdata\\local\\pip\\cache\\wheels\\ff\\6c\\15\\506e25bc390de450a7fa53c155cd9b0fbd13ad3e84a9abc183\n",
      "Successfully built peewee\n",
      "Installing collected packages: peewee, multitasking, frozendict, yfinance\n",
      "Successfully installed frozendict-2.4.6 multitasking-0.0.11 peewee-3.17.8 yfinance-0.2.51\n"
     ]
    },
    {
     "name": "stderr",
     "output_type": "stream",
     "text": [
      "WARNING: Ignoring invalid distribution ~oetry (C:\\Users\\steve\\scoop\\apps\\python311\\current\\Lib\\site-packages)\n",
      "WARNING: Ignoring invalid distribution ~oetry (C:\\Users\\steve\\scoop\\apps\\python311\\current\\Lib\\site-packages)\n",
      "WARNING: Ignoring invalid distribution ~oetry (C:\\Users\\steve\\scoop\\apps\\python311\\current\\Lib\\site-packages)\n"
     ]
    }
   ],
   "source": [
    "!pip install yfinance"
   ]
  },
  {
   "cell_type": "code",
   "execution_count": 7,
   "id": "f2f339f6",
   "metadata": {
    "ExecuteTime": {
     "end_time": "2025-01-07T17:58:38.963914Z",
     "start_time": "2025-01-07T17:58:37.713133Z"
    }
   },
   "outputs": [
    {
     "name": "stderr",
     "output_type": "stream",
     "text": [
      "[*********************100%***********************]  2 of 2 completed\n"
     ]
    }
   ],
   "source": [
    "# Example code from Google Gemini to better understand how Correlation works\n",
    "# Google. (2024) Gemini v1.5\n",
    "import yfinance as yf\n",
    "import pandas as pd\n",
    "import seaborn as sns\n",
    "import matplotlib.pyplot as plt\n",
    "\n",
    "# Define the tickers of the stocks\n",
    "ticker1 = \"AAPL\"  # Apple\n",
    "ticker2 = \"MSFT\"  # Microsoft\n",
    "\n",
    "# Download historical data of AAPL and MSFT\n",
    "data = yf.download(tickers=[ticker1, ticker2], period=\"1y\")"
   ]
  },
  {
   "cell_type": "code",
   "execution_count": 8,
   "id": "777b1a3c",
   "metadata": {
    "ExecuteTime": {
     "end_time": "2025-01-07T17:58:40.577424Z",
     "start_time": "2025-01-07T17:58:40.563352Z"
    },
    "scrolled": true
   },
   "outputs": [
    {
     "data": {
      "text/html": [
       "<div>\n",
       "<style scoped>\n",
       "    .dataframe tbody tr th:only-of-type {\n",
       "        vertical-align: middle;\n",
       "    }\n",
       "\n",
       "    .dataframe tbody tr th {\n",
       "        vertical-align: top;\n",
       "    }\n",
       "\n",
       "    .dataframe thead tr th {\n",
       "        text-align: left;\n",
       "    }\n",
       "\n",
       "    .dataframe thead tr:last-of-type th {\n",
       "        text-align: right;\n",
       "    }\n",
       "</style>\n",
       "<table border=\"1\" class=\"dataframe\">\n",
       "  <thead>\n",
       "    <tr>\n",
       "      <th>Price</th>\n",
       "      <th colspan=\"2\" halign=\"left\">Close</th>\n",
       "      <th colspan=\"2\" halign=\"left\">High</th>\n",
       "      <th colspan=\"2\" halign=\"left\">Low</th>\n",
       "      <th colspan=\"2\" halign=\"left\">Open</th>\n",
       "      <th colspan=\"2\" halign=\"left\">Volume</th>\n",
       "    </tr>\n",
       "    <tr>\n",
       "      <th>Ticker</th>\n",
       "      <th>AAPL</th>\n",
       "      <th>MSFT</th>\n",
       "      <th>AAPL</th>\n",
       "      <th>MSFT</th>\n",
       "      <th>AAPL</th>\n",
       "      <th>MSFT</th>\n",
       "      <th>AAPL</th>\n",
       "      <th>MSFT</th>\n",
       "      <th>AAPL</th>\n",
       "      <th>MSFT</th>\n",
       "    </tr>\n",
       "    <tr>\n",
       "      <th>Date</th>\n",
       "      <th></th>\n",
       "      <th></th>\n",
       "      <th></th>\n",
       "      <th></th>\n",
       "      <th></th>\n",
       "      <th></th>\n",
       "      <th></th>\n",
       "      <th></th>\n",
       "      <th></th>\n",
       "      <th></th>\n",
       "    </tr>\n",
       "  </thead>\n",
       "  <tbody>\n",
       "    <tr>\n",
       "      <th>2024-01-08</th>\n",
       "      <td>184.655365</td>\n",
       "      <td>372.653351</td>\n",
       "      <td>184.695178</td>\n",
       "      <td>373.160588</td>\n",
       "      <td>180.615161</td>\n",
       "      <td>367.004232</td>\n",
       "      <td>181.202281</td>\n",
       "      <td>367.292634</td>\n",
       "      <td>59144500</td>\n",
       "      <td>23134000</td>\n",
       "    </tr>\n",
       "    <tr>\n",
       "      <th>2024-01-09</th>\n",
       "      <td>184.237411</td>\n",
       "      <td>373.747375</td>\n",
       "      <td>184.247357</td>\n",
       "      <td>373.946270</td>\n",
       "      <td>181.839157</td>\n",
       "      <td>369.172373</td>\n",
       "      <td>183.023358</td>\n",
       "      <td>369.987923</td>\n",
       "      <td>42841800</td>\n",
       "      <td>20830000</td>\n",
       "    </tr>\n",
       "    <tr>\n",
       "      <th>2024-01-10</th>\n",
       "      <td>185.282318</td>\n",
       "      <td>380.689392</td>\n",
       "      <td>185.491286</td>\n",
       "      <td>382.081806</td>\n",
       "      <td>183.023380</td>\n",
       "      <td>374.274470</td>\n",
       "      <td>183.451292</td>\n",
       "      <td>374.324186</td>\n",
       "      <td>46792900</td>\n",
       "      <td>25514200</td>\n",
       "    </tr>\n",
       "    <tr>\n",
       "      <th>2024-01-11</th>\n",
       "      <td>184.685226</td>\n",
       "      <td>382.539337</td>\n",
       "      <td>186.138115</td>\n",
       "      <td>388.556440</td>\n",
       "      <td>182.724829</td>\n",
       "      <td>378.312438</td>\n",
       "      <td>185.630592</td>\n",
       "      <td>383.901886</td>\n",
       "      <td>49128400</td>\n",
       "      <td>27850800</td>\n",
       "    </tr>\n",
       "    <tr>\n",
       "      <th>2024-01-12</th>\n",
       "      <td>185.013611</td>\n",
       "      <td>386.358429</td>\n",
       "      <td>185.829621</td>\n",
       "      <td>386.567279</td>\n",
       "      <td>184.287174</td>\n",
       "      <td>382.559186</td>\n",
       "      <td>185.152928</td>\n",
       "      <td>383.394616</td>\n",
       "      <td>40444700</td>\n",
       "      <td>21645700</td>\n",
       "    </tr>\n",
       "  </tbody>\n",
       "</table>\n",
       "</div>"
      ],
      "text/plain": [
       "Price            Close                    High                     Low  \\\n",
       "Ticker            AAPL        MSFT        AAPL        MSFT        AAPL   \n",
       "Date                                                                     \n",
       "2024-01-08  184.655365  372.653351  184.695178  373.160588  180.615161   \n",
       "2024-01-09  184.237411  373.747375  184.247357  373.946270  181.839157   \n",
       "2024-01-10  185.282318  380.689392  185.491286  382.081806  183.023380   \n",
       "2024-01-11  184.685226  382.539337  186.138115  388.556440  182.724829   \n",
       "2024-01-12  185.013611  386.358429  185.829621  386.567279  184.287174   \n",
       "\n",
       "Price                         Open                Volume            \n",
       "Ticker            MSFT        AAPL        MSFT      AAPL      MSFT  \n",
       "Date                                                                \n",
       "2024-01-08  367.004232  181.202281  367.292634  59144500  23134000  \n",
       "2024-01-09  369.172373  183.023358  369.987923  42841800  20830000  \n",
       "2024-01-10  374.274470  183.451292  374.324186  46792900  25514200  \n",
       "2024-01-11  378.312438  185.630592  383.901886  49128400  27850800  \n",
       "2024-01-12  382.559186  185.152928  383.394616  40444700  21645700  "
      ]
     },
     "execution_count": 8,
     "metadata": {},
     "output_type": "execute_result"
    }
   ],
   "source": [
    "# Inspect data\n",
    "data[:5]"
   ]
  },
  {
   "cell_type": "code",
   "execution_count": 9,
   "id": "b380ac53",
   "metadata": {
    "ExecuteTime": {
     "end_time": "2025-01-07T17:58:43.285547Z",
     "start_time": "2025-01-07T17:58:43.145377Z"
    }
   },
   "outputs": [
    {
     "name": "stdout",
     "output_type": "stream",
     "text": [
      "Correlation between AAPL and MSFT: 0.47\n"
     ]
    },
    {
     "data": {
      "image/png": "[encoded data removed]",
      "text/plain": [
       "<Figure size 640x480 with 2 Axes>"
      ]
     },
     "metadata": {},
     "output_type": "display_data"
    }
   ],
   "source": [
    "# Google. (2024) Gemini v1.5\n",
    "# Calculate daily returns\n",
    "data_close = data[\"Close\"]\n",
    "returns = data_close.pct_change()\n",
    "\n",
    "# Calculate correlation coefficient\n",
    "correlation = returns[ticker1].corr(returns[ticker2])\n",
    "\n",
    "# Print the correlation coefficient\n",
    "print(f\"Correlation between {ticker1} and {ticker2}: {correlation:.2f}\")\n",
    "\n",
    "# Create a heatmap (optional)\n",
    "sns.heatmap(pd.DataFrame(data=[[correlation]]), annot=True, cmap=\"coolwarm\", vmin=-1, vmax=1)\n",
    "plt.title(f\"Correlation between {ticker1} and {ticker2}; 1.00=high correlation\")\n",
    "plt.show()"
   ]
  },
  {
   "cell_type": "code",
   "execution_count": 28,
   "id": "6735c005",
   "metadata": {
    "ExecuteTime": {
     "end_time": "2025-01-07T18:41:36.399408Z",
     "start_time": "2025-01-07T18:41:36.393102Z"
    }
   },
   "outputs": [
    {
     "data": {
      "text/html": [
       "<div>\n",
       "<style scoped>\n",
       "    .dataframe tbody tr th:only-of-type {\n",
       "        vertical-align: middle;\n",
       "    }\n",
       "\n",
       "    .dataframe tbody tr th {\n",
       "        vertical-align: top;\n",
       "    }\n",
       "\n",
       "    .dataframe thead th {\n",
       "        text-align: right;\n",
       "    }\n",
       "</style>\n",
       "<table border=\"1\" class=\"dataframe\">\n",
       "  <thead>\n",
       "    <tr style=\"text-align: right;\">\n",
       "      <th></th>\n",
       "      <th>AAPL</th>\n",
       "    </tr>\n",
       "    <tr>\n",
       "      <th>Date</th>\n",
       "      <th></th>\n",
       "    </tr>\n",
       "  </thead>\n",
       "  <tbody>\n",
       "    <tr>\n",
       "      <th>2024-01-08</th>\n",
       "      <td>NaN</td>\n",
       "    </tr>\n",
       "    <tr>\n",
       "      <th>2024-01-09</th>\n",
       "      <td>-0.002263</td>\n",
       "    </tr>\n",
       "    <tr>\n",
       "      <th>2024-01-10</th>\n",
       "      <td>0.005672</td>\n",
       "    </tr>\n",
       "    <tr>\n",
       "      <th>2024-01-11</th>\n",
       "      <td>-0.003223</td>\n",
       "    </tr>\n",
       "    <tr>\n",
       "      <th>2024-01-12</th>\n",
       "      <td>0.001778</td>\n",
       "    </tr>\n",
       "    <tr>\n",
       "      <th>...</th>\n",
       "      <td>...</td>\n",
       "    </tr>\n",
       "    <tr>\n",
       "      <th>2024-12-31</th>\n",
       "      <td>-0.007058</td>\n",
       "    </tr>\n",
       "    <tr>\n",
       "      <th>2025-01-02</th>\n",
       "      <td>-0.026236</td>\n",
       "    </tr>\n",
       "    <tr>\n",
       "      <th>2025-01-03</th>\n",
       "      <td>-0.002009</td>\n",
       "    </tr>\n",
       "    <tr>\n",
       "      <th>2025-01-06</th>\n",
       "      <td>0.006739</td>\n",
       "    </tr>\n",
       "    <tr>\n",
       "      <th>2025-01-07</th>\n",
       "      <td>-0.011061</td>\n",
       "    </tr>\n",
       "  </tbody>\n",
       "</table>\n",
       "<p>252 rows × 1 columns</p>\n",
       "</div>"
      ],
      "text/plain": [
       "                AAPL\n",
       "Date                \n",
       "2024-01-08       NaN\n",
       "2024-01-09 -0.002263\n",
       "2024-01-10  0.005672\n",
       "2024-01-11 -0.003223\n",
       "2024-01-12  0.001778\n",
       "...              ...\n",
       "2024-12-31 -0.007058\n",
       "2025-01-02 -0.026236\n",
       "2025-01-03 -0.002009\n",
       "2025-01-06  0.006739\n",
       "2025-01-07 -0.011061\n",
       "\n",
       "[252 rows x 1 columns]"
      ]
     },
     "metadata": {},
     "output_type": "display_data"
    }
   ],
   "source": [
    "# corrwith Does not work\n",
    "# Trying corrwith, but unable to get it to work. Will only produce NaN\n",
    "# The example in Pandas is comical: shows 1.0 correlation with itself.\n",
    "df_appl = pd.DataFrame(returns[ticker1])\n",
    "df_msft = pd.DataFrame(returns[ticker2])\n",
    "display(df_appl)\n",
    "if False:\n",
    "    correlation_2 = df_appl.corrwith(df_msft, axis='columns', method='pearson', numeric_only=True)\n",
    "    # Print the correlation coefficient\n",
    "    print(f\"Correlation between {ticker1} and {ticker2}: {correlation_2.mean():.2f}\")\n",
    "    # Create a heatmap (optional)\n",
    "    sns.heatmap(pd.DataFrame(data=[[correlation_2]]), annot=True, cmap=\"coolwarm\", vmin=-1, vmax=1)\n",
    "    plt.title(f\"Correlation between {ticker1} and {ticker2}; 1.00=high correlation\")\n",
    "    plt.show()"
   ]
  },
  {
   "cell_type": "code",
   "execution_count": 104,
   "id": "ac4b71e0",
   "metadata": {
    "ExecuteTime": {
     "end_time": "2025-01-07T21:30:21.053516Z",
     "start_time": "2025-01-07T21:30:20.952266Z"
    },
    "scrolled": true
   },
   "outputs": [
    {
     "data": {
      "image/png": "[encoded data removed]",
      "text/plain": [
       "<Figure size 500x300 with 2 Axes>"
      ]
     },
     "metadata": {},
     "output_type": "display_data"
    },
    {
     "name": "stdout",
     "output_type": "stream",
     "text": [
      "Best Inverse Correlation: ['Situps', 'Waist', -0.6455980279273232]\n"
     ]
    }
   ],
   "source": [
    "# Apply what we learned about Correlation (above) to the Linnerud data\n",
    "# We want an inverse correlation between Exercise (high=good=red) and Measure (low=good=red)\n",
    "# Tried Pandas .corr but it is problematic and doesn't like subsets of a DF\n",
    "# Visualize in a heat map and draw a rectangle around the best correlation\n",
    "import numpy as np\n",
    "from matplotlib.patches import Rectangle\n",
    "\n",
    "# reload data\n",
    "df = get_linnerud_data()\n",
    "\n",
    "# Calculate correlations between exercises and measurements\n",
    "# A 3x3 matrix gives us 9 correlation pairs\n",
    "correlations = []\n",
    "for exercise in df.columns[:3]:\n",
    "    for measure in df.columns[3:]:\n",
    "        correlation = np.corrcoef(list(df[exercise]), list(df[measure]))[0, 1]\n",
    "        correlations.append([exercise, measure, correlation])\n",
    "\n",
    "# Visualize the data on a Heat Map\n",
    "# Show the best inverse correlation as blue and the worst as red\n",
    "corr_df = pd.DataFrame(correlations, columns=['exercise', 'measurement', 'correlation'])\n",
    "corr_matrix_df = corr_df.pivot(index='exercise', columns='measurement', values='correlation')\n",
    "\n",
    "# Sort the correlations by the strongest negative correlation\n",
    "correlations.sort(key=lambda x: x[2])\n",
    "# The strongest inverse correlation will be the first in the sorted list\n",
    "best_inverse_correlation = correlations[0]\n",
    "x, y = best_inverse_correlation[0], best_inverse_correlation[1]\n",
    "\n",
    "# Display the Heatmap from Red (-1) to Blue (1) using coolwarm_r (_r reverses it)\n",
    "plt.figure(figsize=(5, 3))\n",
    "ax = sns.heatmap(corr_matrix_df, annot=True, cmap=\"coolwarm_r\", vmin=-1, vmax=1)\n",
    "\n",
    "# Get the coordinates of the best correlation in the heatmap\n",
    "x_coord = list(corr_matrix_df.index).index(x)  # Row index\n",
    "y_coord = list(corr_matrix_df.columns).index(y)  # Column index\n",
    "\n",
    "# Draw a rectangle around the best correlation\n",
    "ax.add_patch(Rectangle((y_coord, x_coord), 1, 1, fill=False, edgecolor='red', lw=3))\n",
    "\n",
    "plt.title(\"Correlation Matrix of Exercise to Body Physiology (Red is better)\")\n",
    "plt.show()\n",
    "\n",
    "print(\"Best Inverse Correlation:\", best_inverse_correlation)"
   ]
  }
 ],
 "metadata": {
  "celltoolbar": "Initialization Cell",
  "kernelspec": {
   "display_name": "Python 3 (ipykernel)",
   "language": "python",
   "name": "python3"
  },
  "language_info": {
   "codemirror_mode": {
    "name": "ipython",
    "version": 3
   },
   "file_extension": ".py",
   "mimetype": "text/x-python",
   "name": "python",
   "nbconvert_exporter": "python",
   "pygments_lexer": "ipython3",
   "version": "3.11.6"
  },
  "toc": {
   "base_numbering": 1,
   "nav_menu": {},
   "number_sections": true,
   "sideBar": true,
   "skip_h1_title": false,
   "title_cell": "Table of Contents",
   "title_sidebar": "Contents",
   "toc_cell": false,
   "toc_position": {},
   "toc_section_display": true,
   "toc_window_display": false
  }
 },
 "nbformat": 4,
 "nbformat_minor": 5
}

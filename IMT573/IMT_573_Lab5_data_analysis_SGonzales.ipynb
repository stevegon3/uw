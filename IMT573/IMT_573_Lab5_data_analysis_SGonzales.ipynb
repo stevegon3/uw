{
 "cells": [
  {
   "cell_type": "markdown",
   "id": "1461b6bb",
   "metadata": {},
   "source": [
    "# IMT 573 - Lab 5 - Data Analysis"
   ]
  },
  {
   "cell_type": "markdown",
   "id": "1cf60757",
   "metadata": {},
   "source": [
    "### Instructions\n",
    "\n",
    "Before beginning this assignment, please ensure you have access to a working instance of Jupyter Notebooks with Python 3.\n",
    "\n",
    "1. First, replace the “YOUR NAME HERE” text in the next cell with your own full name. Any collaborators must also be listed in this cell.\n",
    "\n",
    "2. Be sure to include well-documented (e.g. commented) code cells, figures, and clearly written text  explanations as necessary. Any figures should be clearly labeled and appropriately referenced within the text. Be sure that each visualization adds value to your written explanation; avoid redundancy – you do no need four different visualizations of the same pattern.\n",
    "\n",
    "3. Collaboration on problem sets and labs is fun, useful, and encouraged. However, each student must turn in an individual write-up in their own words as well as code/work that is their own. Regardless of whether you work with others, what you turn in must be your own work; this includes code and interpretation of results. The names of all collaborators must be listed on each assignment. Do not copy-and-paste from other students’ responses or code - your code should never be on any other student's screen or machine.\n",
    "\n",
    "4. All materials and resources that you use (with the exception of lecture slides) must be appropriately referenced within your assignment."
   ]
  },
  {
   "cell_type": "markdown",
   "id": "aadc8a3b",
   "metadata": {},
   "source": [
    "Name: Steve Gonzales Collaborators: None"
   ]
  },
  {
   "cell_type": "markdown",
   "id": "82c7a4d0",
   "metadata": {},
   "source": [
    "In this module, we have focused on exploring data. Visualization is a great way to do this.\n",
    "\n",
    "In [an article](https://fivethirtyeight.com/features/women-in-comic-books/) published on fivethirtyeight.com, the authors discuss gender representation in comic books. The data also contains a host of other information about comic book superheros and villans. We will use this dataset in this lab."
   ]
  },
  {
   "cell_type": "markdown",
   "id": "28fc326f",
   "metadata": {},
   "source": [
    "The data is split across the two major comic book publishers in the US - DC and Marvel. The urls for each are below. Use these to import the data for each of the publishers into separate dataframes and then combine the two into a larger dataframe."
   ]
  },
  {
   "cell_type": "code",
   "execution_count": 1,
   "id": "d8a2ad2c",
   "metadata": {
    "ExecuteTime": {
     "end_time": "2025-02-09T18:17:15.635722Z",
     "start_time": "2025-02-09T18:17:14.798654Z"
    }
   },
   "outputs": [],
   "source": [
    "import pandas as pd\n",
    "import matplotlib.pyplot as plt\n",
    "import seaborn as sns"
   ]
  },
  {
   "cell_type": "code",
   "execution_count": 3,
   "id": "3d450f98",
   "metadata": {
    "ExecuteTime": {
     "end_time": "2025-02-09T18:17:39.234424Z",
     "start_time": "2025-02-09T18:17:39.225620Z"
    }
   },
   "outputs": [],
   "source": [
    "url_dc = \"https://raw.githubusercontent.com/fivethirtyeight/data/master/comic-characters/dc-wikia-data.csv\"\n",
    "url_marvel = \"https://raw.githubusercontent.com/fivethirtyeight/data/master/comic-characters/marvel-wikia-data.csv\""
   ]
  },
  {
   "cell_type": "code",
   "execution_count": 4,
   "id": "7d552031",
   "metadata": {
    "ExecuteTime": {
     "end_time": "2025-02-09T18:17:44.924612Z",
     "start_time": "2025-02-09T18:17:43.580386Z"
    }
   },
   "outputs": [],
   "source": [
    "dc_data = pd.read_csv(url_dc)\n",
    "marvel_data = pd.read_csv(url_marvel)"
   ]
  },
  {
   "cell_type": "code",
   "execution_count": 8,
   "id": "d6c5f4e5",
   "metadata": {
    "ExecuteTime": {
     "end_time": "2025-02-09T18:18:43.566584Z",
     "start_time": "2025-02-09T18:18:43.536617Z"
    }
   },
   "outputs": [
    {
     "name": "stdout",
     "output_type": "stream",
     "text": [
      "Index(['page_id', 'name', 'urlslug', 'ID', 'ALIGN', 'EYE', 'HAIR', 'SEX',\n",
      "       'GSM', 'ALIVE', 'APPEARANCES', 'FIRST APPEARANCE', 'YEAR', 'Year'],\n",
      "      dtype='object')\n"
     ]
    },
    {
     "data": {
      "text/html": [
       "<div>\n",
       "<style scoped>\n",
       "    .dataframe tbody tr th:only-of-type {\n",
       "        vertical-align: middle;\n",
       "    }\n",
       "\n",
       "    .dataframe tbody tr th {\n",
       "        vertical-align: top;\n",
       "    }\n",
       "\n",
       "    .dataframe thead th {\n",
       "        text-align: right;\n",
       "    }\n",
       "</style>\n",
       "<table border=\"1\" class=\"dataframe\">\n",
       "  <thead>\n",
       "    <tr style=\"text-align: right;\">\n",
       "      <th></th>\n",
       "      <th>page_id</th>\n",
       "      <th>name</th>\n",
       "      <th>urlslug</th>\n",
       "      <th>ID</th>\n",
       "      <th>ALIGN</th>\n",
       "      <th>EYE</th>\n",
       "      <th>HAIR</th>\n",
       "      <th>SEX</th>\n",
       "      <th>GSM</th>\n",
       "      <th>ALIVE</th>\n",
       "      <th>APPEARANCES</th>\n",
       "      <th>FIRST APPEARANCE</th>\n",
       "      <th>YEAR</th>\n",
       "      <th>Year</th>\n",
       "    </tr>\n",
       "  </thead>\n",
       "  <tbody>\n",
       "    <tr>\n",
       "      <th>0</th>\n",
       "      <td>1422</td>\n",
       "      <td>Batman (Bruce Wayne)</td>\n",
       "      <td>\\/wiki\\/Batman_(Bruce_Wayne)</td>\n",
       "      <td>Secret Identity</td>\n",
       "      <td>Good Characters</td>\n",
       "      <td>Blue Eyes</td>\n",
       "      <td>Black Hair</td>\n",
       "      <td>Male Characters</td>\n",
       "      <td>NaN</td>\n",
       "      <td>Living Characters</td>\n",
       "      <td>3093.0</td>\n",
       "      <td>1939, May</td>\n",
       "      <td>1939.0</td>\n",
       "      <td>NaN</td>\n",
       "    </tr>\n",
       "    <tr>\n",
       "      <th>1</th>\n",
       "      <td>23387</td>\n",
       "      <td>Superman (Clark Kent)</td>\n",
       "      <td>\\/wiki\\/Superman_(Clark_Kent)</td>\n",
       "      <td>Secret Identity</td>\n",
       "      <td>Good Characters</td>\n",
       "      <td>Blue Eyes</td>\n",
       "      <td>Black Hair</td>\n",
       "      <td>Male Characters</td>\n",
       "      <td>NaN</td>\n",
       "      <td>Living Characters</td>\n",
       "      <td>2496.0</td>\n",
       "      <td>1986, October</td>\n",
       "      <td>1986.0</td>\n",
       "      <td>NaN</td>\n",
       "    </tr>\n",
       "    <tr>\n",
       "      <th>2</th>\n",
       "      <td>1458</td>\n",
       "      <td>Green Lantern (Hal Jordan)</td>\n",
       "      <td>\\/wiki\\/Green_Lantern_(Hal_Jordan)</td>\n",
       "      <td>Secret Identity</td>\n",
       "      <td>Good Characters</td>\n",
       "      <td>Brown Eyes</td>\n",
       "      <td>Brown Hair</td>\n",
       "      <td>Male Characters</td>\n",
       "      <td>NaN</td>\n",
       "      <td>Living Characters</td>\n",
       "      <td>1565.0</td>\n",
       "      <td>1959, October</td>\n",
       "      <td>1959.0</td>\n",
       "      <td>NaN</td>\n",
       "    </tr>\n",
       "  </tbody>\n",
       "</table>\n",
       "</div>"
      ],
      "text/plain": [
       "   page_id                        name                             urlslug  \\\n",
       "0     1422        Batman (Bruce Wayne)        \\/wiki\\/Batman_(Bruce_Wayne)   \n",
       "1    23387       Superman (Clark Kent)       \\/wiki\\/Superman_(Clark_Kent)   \n",
       "2     1458  Green Lantern (Hal Jordan)  \\/wiki\\/Green_Lantern_(Hal_Jordan)   \n",
       "\n",
       "                ID            ALIGN         EYE        HAIR              SEX  \\\n",
       "0  Secret Identity  Good Characters   Blue Eyes  Black Hair  Male Characters   \n",
       "1  Secret Identity  Good Characters   Blue Eyes  Black Hair  Male Characters   \n",
       "2  Secret Identity  Good Characters  Brown Eyes  Brown Hair  Male Characters   \n",
       "\n",
       "   GSM              ALIVE  APPEARANCES FIRST APPEARANCE    YEAR  Year  \n",
       "0  NaN  Living Characters       3093.0        1939, May  1939.0   NaN  \n",
       "1  NaN  Living Characters       2496.0    1986, October  1986.0   NaN  \n",
       "2  NaN  Living Characters       1565.0    1959, October  1959.0   NaN  "
      ]
     },
     "execution_count": 8,
     "metadata": {},
     "output_type": "execute_result"
    }
   ],
   "source": [
    "data_all = pd.concat([dc_data, marvel_data])\n",
    "print(data_all.columns)\n",
    "data_all.head(3)"
   ]
  },
  {
   "cell_type": "markdown",
   "id": "292e79c8",
   "metadata": {},
   "source": [
    "### Problem 1: Inspection\n",
    "\n",
    "First, inspect the datasets to help you get a sense of what is contained in the data. You can find an overview of the data [here](https://github.com/fivethirtyeight/data/tree/master/comic-characters). What do you notice? Where may there be some issues with the data?"
   ]
  },
  {
   "cell_type": "markdown",
   "id": "964e9aa2",
   "metadata": {},
   "source": [
    "There are two Year columns, 'YEAR' and 'Year'.<p>\n",
    "There seems to be a lot of superfluous data in the columns, e.g. 'Living Characters' instead of 'Living'.<p>"
   ]
  },
  {
   "cell_type": "markdown",
   "id": "e26ca18d",
   "metadata": {},
   "source": [
    "### Problem 2: Formulate a question\n",
    "\n",
    "Next, formulate one data science question of interest that can be answered with this dataset. Be sure to comment on why this question in interesting and what you could learn from finding an answer to it."
   ]
  },
  {
   "cell_type": "markdown",
   "id": "f139670d",
   "metadata": {},
   "source": []
  },
  {
   "cell_type": "markdown",
   "id": "7219f320",
   "metadata": {},
   "source": [
    "### Problem 3: Data analysis\n",
    "\n",
    "Next, practice using your data science skills to answer you question. Follow the outlined steps in your data science process."
   ]
  },
  {
   "cell_type": "markdown",
   "id": "ec4f2f2f",
   "metadata": {},
   "source": [
    "#### (a) Try the easy solution first\n",
    "\n",
    "After filtering any anomolous values, try using descriptive statistics to see if you can get a general sense of the answer to your question."
   ]
  },
  {
   "cell_type": "code",
   "execution_count": 10,
   "id": "546e6d8e",
   "metadata": {},
   "outputs": [],
   "source": []
  },
  {
   "cell_type": "markdown",
   "id": "bdb67ed1",
   "metadata": {},
   "source": [
    "#### (b) Check distributions\n",
    "\n",
    "Look at distribution(s) of your data to determine if there are any patterns that are evident with respect to your question of interest."
   ]
  },
  {
   "cell_type": "markdown",
   "id": "524c7fef",
   "metadata": {},
   "source": []
  },
  {
   "cell_type": "markdown",
   "id": "722789b0",
   "metadata": {},
   "source": [
    "#### (c) What's next?\n",
    "\n",
    "Considering what you've learned during this module, what could be additional steps to take to answer your question? Are there any potential issues with these steps? (In this case, it is perfectly acceptable to note issues without providing potential solutions)."
   ]
  },
  {
   "cell_type": "code",
   "execution_count": null,
   "id": "677cc767",
   "metadata": {},
   "outputs": [],
   "source": []
  }
 ],
 "metadata": {
  "kernelspec": {
   "display_name": "Python 3 (ipykernel)",
   "language": "python",
   "name": "python3"
  },
  "language_info": {
   "codemirror_mode": {
    "name": "ipython",
    "version": 3
   },
   "file_extension": ".py",
   "mimetype": "text/x-python",
   "name": "python",
   "nbconvert_exporter": "python",
   "pygments_lexer": "ipython3",
   "version": "3.8.10"
  },
  "toc": {
   "base_numbering": 1,
   "nav_menu": {},
   "number_sections": true,
   "sideBar": true,
   "skip_h1_title": false,
   "title_cell": "Table of Contents",
   "title_sidebar": "Contents",
   "toc_cell": false,
   "toc_position": {},
   "toc_section_display": true,
   "toc_window_display": false
  }
 },
 "nbformat": 4,
 "nbformat_minor": 5
}

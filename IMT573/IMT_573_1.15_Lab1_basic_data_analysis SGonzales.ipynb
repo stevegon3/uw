{
 "cells": [
  {
   "cell_type": "markdown",
   "id": "6b6fd83a",
   "metadata": {},
   "source": [
    "# IMT 573 1.15 Lab 1: Basic Data Analysis"
   ]
  },
  {
   "cell_type": "markdown",
   "id": "6a465739",
   "metadata": {},
   "source": [
    "### Instructions\n",
    "\n",
    "Before beginning this assignment, please ensure you have access to a working instance of Jupyter Notebooks with Python 3.\n",
    "\n",
    "1. First, replace the “YOUR NAME HERE” text in the next cell with your own full name. Any collaborators must also be listed in this cell.\n",
    "\n",
    "2. Be sure to include well-documented (e.g. commented) code cells, figures, and clearly written text  explanations as necessary. Any figures should be clearly labeled and appropriately referenced within the text. Be sure that each visualization adds value to your written explanation; avoid redundancy – you do no need four different visualizations of the same pattern.\n",
    "\n",
    "3. Collaboration on problem sets and labs is fun, useful, and encouraged. However, each student must turn in an individual write-up in their own words as well as code/work that is their own. Regardless of whether you work with others, what you turn in must be your own work; this includes code and interpretation of results. The names of all collaborators must be listed on each assignment. Do not copy-and-paste from other students’ responses or code - your code should never be on any other student's screen or machine.\n",
    "\n",
    "4. All materials and resources that you use (with the exception of lecture slides) must be appropriately referenced within your assignment.\n",
    "\n",
    "1.15 Lab: Basic Data Analysis "
   ]
  },
  {
   "cell_type": "markdown",
   "id": "a6c25d54",
   "metadata": {},
   "source": [
    "Name: Steve Gonzales\n",
    "\n",
    "Collaborators: None "
   ]
  },
  {
   "cell_type": "code",
   "execution_count": 1,
   "id": "a6f93c3b",
   "metadata": {
    "ExecuteTime": {
     "end_time": "2025-01-20T02:24:05.081790Z",
     "start_time": "2025-01-20T02:23:57.328031Z"
    }
   },
   "outputs": [
    {
     "name": "stdout",
     "output_type": "stream",
     "text": [
      "Requirement already satisfied: pydataset in c:\\users\\steve\\scoop\\apps\\python311\\current\\lib\\site-packages (0.2.0)\n",
      "Requirement already satisfied: pandas in c:\\users\\steve\\scoop\\apps\\python311\\current\\lib\\site-packages (from pydataset) (2.2.3)\n",
      "Requirement already satisfied: numpy>=1.23.2 in c:\\users\\steve\\scoop\\apps\\python311\\current\\lib\\site-packages (from pandas->pydataset) (1.26.1)\n",
      "Requirement already satisfied: python-dateutil>=2.8.2 in c:\\users\\steve\\scoop\\apps\\python311\\current\\lib\\site-packages (from pandas->pydataset) (2.8.2)\n",
      "Requirement already satisfied: pytz>=2020.1 in c:\\users\\steve\\scoop\\apps\\python311\\current\\lib\\site-packages (from pandas->pydataset) (2023.3.post1)\n",
      "Requirement already satisfied: tzdata>=2022.7 in c:\\users\\steve\\scoop\\apps\\python311\\current\\lib\\site-packages (from pandas->pydataset) (2023.3)\n",
      "Requirement already satisfied: six>=1.5 in c:\\users\\steve\\scoop\\apps\\python311\\current\\lib\\site-packages (from python-dateutil>=2.8.2->pandas->pydataset) (1.16.0)\n"
     ]
    }
   ],
   "source": [
    "!pip install pydataset"
   ]
  },
  {
   "cell_type": "code",
   "execution_count": 2,
   "id": "484dd038",
   "metadata": {
    "ExecuteTime": {
     "end_time": "2025-01-20T02:24:06.641145Z",
     "start_time": "2025-01-20T02:24:05.083148Z"
    }
   },
   "outputs": [
    {
     "name": "stdout",
     "output_type": "stream",
     "text": [
      "Requirement already satisfied: seaborn in c:\\users\\steve\\scoop\\apps\\python311\\current\\lib\\site-packages (0.13.2)\n",
      "Requirement already satisfied: numpy!=1.24.0,>=1.20 in c:\\users\\steve\\scoop\\apps\\python311\\current\\lib\\site-packages (from seaborn) (1.26.1)\n",
      "Requirement already satisfied: pandas>=1.2 in c:\\users\\steve\\scoop\\apps\\python311\\current\\lib\\site-packages (from seaborn) (2.2.3)\n",
      "Requirement already satisfied: matplotlib!=3.6.1,>=3.4 in c:\\users\\steve\\scoop\\apps\\python311\\current\\lib\\site-packages (from seaborn) (3.8.2)\n",
      "Requirement already satisfied: contourpy>=1.0.1 in c:\\users\\steve\\scoop\\apps\\python311\\current\\lib\\site-packages (from matplotlib!=3.6.1,>=3.4->seaborn) (1.2.0)\n",
      "Requirement already satisfied: cycler>=0.10 in c:\\users\\steve\\scoop\\apps\\python311\\current\\lib\\site-packages (from matplotlib!=3.6.1,>=3.4->seaborn) (0.12.1)\n",
      "Requirement already satisfied: fonttools>=4.22.0 in c:\\users\\steve\\scoop\\apps\\python311\\current\\lib\\site-packages (from matplotlib!=3.6.1,>=3.4->seaborn) (4.46.0)\n",
      "Requirement already satisfied: kiwisolver>=1.3.1 in c:\\users\\steve\\scoop\\apps\\python311\\current\\lib\\site-packages (from matplotlib!=3.6.1,>=3.4->seaborn) (1.4.5)\n",
      "Requirement already satisfied: packaging>=20.0 in c:\\users\\steve\\scoop\\apps\\python311\\current\\lib\\site-packages (from matplotlib!=3.6.1,>=3.4->seaborn) (24.0)\n",
      "Requirement already satisfied: pillow>=8 in c:\\users\\steve\\scoop\\apps\\python311\\current\\lib\\site-packages (from matplotlib!=3.6.1,>=3.4->seaborn) (10.1.0)\n",
      "Requirement already satisfied: pyparsing>=2.3.1 in c:\\users\\steve\\scoop\\apps\\python311\\current\\lib\\site-packages (from matplotlib!=3.6.1,>=3.4->seaborn) (3.1.1)\n",
      "Requirement already satisfied: python-dateutil>=2.7 in c:\\users\\steve\\scoop\\apps\\python311\\current\\lib\\site-packages (from matplotlib!=3.6.1,>=3.4->seaborn) (2.8.2)\n",
      "Requirement already satisfied: pytz>=2020.1 in c:\\users\\steve\\scoop\\apps\\python311\\current\\lib\\site-packages (from pandas>=1.2->seaborn) (2023.3.post1)\n",
      "Requirement already satisfied: tzdata>=2022.7 in c:\\users\\steve\\scoop\\apps\\python311\\current\\lib\\site-packages (from pandas>=1.2->seaborn) (2023.3)\n",
      "Requirement already satisfied: six>=1.5 in c:\\users\\steve\\scoop\\apps\\python311\\current\\lib\\site-packages (from python-dateutil>=2.7->matplotlib!=3.6.1,>=3.4->seaborn) (1.16.0)\n"
     ]
    }
   ],
   "source": [
    "# Already have matplotlib installed\n",
    "!pip install seaborn"
   ]
  },
  {
   "cell_type": "markdown",
   "id": "6d20e4a9",
   "metadata": {},
   "source": [
    "### Problem 1: Loading and inspecting data\n",
    "\n",
    "In this lab, we will use the `faithful` data from the `pydatasets` package. Use this data to answer the following questions. The package is imported below - you may need to install the package if you're getting an error when importing.\n",
    "\n",
    "Once the package is imported, the data is available by calling `data('faithful')` (note how `data` refers to the variable from `import`). Store the data in your variable of choice, keeping in mind that data from `pydatasets` is imported as pandas dataframes."
   ]
  },
  {
   "cell_type": "code",
   "execution_count": 3,
   "id": "73a013cf",
   "metadata": {
    "ExecuteTime": {
     "end_time": "2025-01-20T02:24:07.621124Z",
     "start_time": "2025-01-20T02:24:06.642150Z"
    }
   },
   "outputs": [],
   "source": [
    "from pydataset import data\n",
    "from IPython.display import Markdown as md"
   ]
  },
  {
   "cell_type": "code",
   "execution_count": 4,
   "id": "bf233534",
   "metadata": {
    "ExecuteTime": {
     "end_time": "2025-01-20T02:24:07.657712Z",
     "start_time": "2025-01-20T02:24:07.623137Z"
    }
   },
   "outputs": [
    {
     "name": "stdout",
     "output_type": "stream",
     "text": [
      "faithful\n",
      "\n",
      "PyDataset Documentation (adopted from R Documentation. The displayed examples are in R)\n",
      "\n",
      "## Old Faithful Geyser Data\n",
      "\n",
      "### Description\n",
      "\n",
      "Waiting time between eruptions and the duration of the eruption for the Old\n",
      "Faithful geyser in Yellowstone National Park, Wyoming, USA.\n",
      "\n",
      "### Usage\n",
      "\n",
      "    faithful\n",
      "\n",
      "### Format\n",
      "\n",
      "A data frame with 272 observations on 2 variables.\n",
      "\n",
      "[,1]\n",
      "\n",
      "eruptions\n",
      "\n",
      "numeric\n",
      "\n",
      "Eruption time in mins\n",
      "\n",
      "[,2]\n",
      "\n",
      "waiting\n",
      "\n",
      "numeric\n",
      "\n",
      "Waiting time to next eruption (in mins)\n",
      "\n",
      "### Details\n",
      "\n",
      "A closer look at `faithful$eruptions` reveals that these are heavily rounded\n",
      "times originally in seconds, where multiples of 5 are more frequent than\n",
      "expected under non-human measurement. For a better version of the eruption\n",
      "times, see the example below.\n",
      "\n",
      "There are many versions of this dataset around: Azzalini and Bowman (1990) use\n",
      "a more complete version.\n",
      "\n",
      "### Source\n",
      "\n",
      "W. HÃ¤rdle.\n",
      "\n",
      "### References\n",
      "\n",
      "HÃ¤rdle, W. (1991) _Smoothing Techniques with Implementation in S_. New York:\n",
      "Springer.\n",
      "\n",
      "Azzalini, A. and Bowman, A. W. (1990). A look at some data on the Old Faithful\n",
      "geyser. _Applied Statistics_ **39**, 357–365.\n",
      "\n",
      "### See Also\n",
      "\n",
      "`geyser` in package MASS for the Azzalini–Bowman version.\n",
      "\n",
      "### Examples\n",
      "\n",
      "    require(stats); require(graphics)\n",
      "    f.tit <-  \"faithful data: Eruptions of Old Faithful\"\n",
      "    ne60 <- round(e60 <- 60 * faithful$eruptions)\n",
      "    all.equal(e60, ne60)             # relative diff. ~ 1/10000\n",
      "    table(zapsmall(abs(e60 - ne60))) # 0, 0.02 or 0.04\n",
      "    faithful$better.eruptions <- ne60 / 60\n",
      "    te <- table(ne60)\n",
      "    te[te >= 4]                      # (too) many multiples of 5 !\n",
      "    plot(names(te), te, type = \"h\", main = f.tit, xlab = \"Eruption time (sec)\")\n",
      "    plot(faithful[, -3], main = f.tit,\n",
      "         xlab = \"Eruption time (min)\",\n",
      "         ylab = \"Waiting time to next eruption (min)\")\n",
      "    lines(lowess(faithful$eruptions, faithful$waiting, f = 2/3, iter = 3),\n",
      "          col = \"red\")\n",
      "\n",
      "\n"
     ]
    }
   ],
   "source": [
    "data('faithful', show_doc = True)"
   ]
  },
  {
   "cell_type": "code",
   "execution_count": 5,
   "id": "0ea82f54",
   "metadata": {
    "ExecuteTime": {
     "end_time": "2025-01-20T02:24:07.699889Z",
     "start_time": "2025-01-20T02:24:07.657712Z"
    }
   },
   "outputs": [
    {
     "data": {
      "text/html": [
       "<div>\n",
       "<style scoped>\n",
       "    .dataframe tbody tr th:only-of-type {\n",
       "        vertical-align: middle;\n",
       "    }\n",
       "\n",
       "    .dataframe tbody tr th {\n",
       "        vertical-align: top;\n",
       "    }\n",
       "\n",
       "    .dataframe thead th {\n",
       "        text-align: right;\n",
       "    }\n",
       "</style>\n",
       "<table border=\"1\" class=\"dataframe\">\n",
       "  <thead>\n",
       "    <tr style=\"text-align: right;\">\n",
       "      <th></th>\n",
       "      <th>eruptions</th>\n",
       "      <th>waiting</th>\n",
       "    </tr>\n",
       "  </thead>\n",
       "  <tbody>\n",
       "    <tr>\n",
       "      <th>1</th>\n",
       "      <td>3.600</td>\n",
       "      <td>79</td>\n",
       "    </tr>\n",
       "    <tr>\n",
       "      <th>2</th>\n",
       "      <td>1.800</td>\n",
       "      <td>54</td>\n",
       "    </tr>\n",
       "    <tr>\n",
       "      <th>3</th>\n",
       "      <td>3.333</td>\n",
       "      <td>74</td>\n",
       "    </tr>\n",
       "    <tr>\n",
       "      <th>4</th>\n",
       "      <td>2.283</td>\n",
       "      <td>62</td>\n",
       "    </tr>\n",
       "    <tr>\n",
       "      <th>5</th>\n",
       "      <td>4.533</td>\n",
       "      <td>85</td>\n",
       "    </tr>\n",
       "    <tr>\n",
       "      <th>...</th>\n",
       "      <td>...</td>\n",
       "      <td>...</td>\n",
       "    </tr>\n",
       "    <tr>\n",
       "      <th>268</th>\n",
       "      <td>4.117</td>\n",
       "      <td>81</td>\n",
       "    </tr>\n",
       "    <tr>\n",
       "      <th>269</th>\n",
       "      <td>2.150</td>\n",
       "      <td>46</td>\n",
       "    </tr>\n",
       "    <tr>\n",
       "      <th>270</th>\n",
       "      <td>4.417</td>\n",
       "      <td>90</td>\n",
       "    </tr>\n",
       "    <tr>\n",
       "      <th>271</th>\n",
       "      <td>1.817</td>\n",
       "      <td>46</td>\n",
       "    </tr>\n",
       "    <tr>\n",
       "      <th>272</th>\n",
       "      <td>4.467</td>\n",
       "      <td>74</td>\n",
       "    </tr>\n",
       "  </tbody>\n",
       "</table>\n",
       "<p>272 rows × 2 columns</p>\n",
       "</div>"
      ],
      "text/plain": [
       "     eruptions  waiting\n",
       "1        3.600       79\n",
       "2        1.800       54\n",
       "3        3.333       74\n",
       "4        2.283       62\n",
       "5        4.533       85\n",
       "..         ...      ...\n",
       "268      4.117       81\n",
       "269      2.150       46\n",
       "270      4.417       90\n",
       "271      1.817       46\n",
       "272      4.467       74\n",
       "\n",
       "[272 rows x 2 columns]"
      ]
     },
     "metadata": {},
     "output_type": "display_data"
    }
   ],
   "source": [
    "df = data('faithful')\n",
    "display(df)"
   ]
  },
  {
   "cell_type": "markdown",
   "id": "2efb2bd8",
   "metadata": {},
   "source": [
    "Of course, simply importing the data doesn't provide us much context on the data itself. Use the following call to print documentation of the dataset: `data('faithful', show_doc = True)`. This call will not import the data so do not store the result in a variable."
   ]
  },
  {
   "cell_type": "markdown",
   "id": "dfef3c82",
   "metadata": {},
   "source": [
    "#### (a) Examine the data\n",
    "\n",
    "What does the data represent? Where does the data come from? Provide your answer below.<p>\n",
    "The data is the time in mins that Old Faithful erupts and then how many minutes to the next eruption<p>\n",
    "One row has the eruption time and the wait time to the next.<p>"
   ]
  },
  {
   "cell_type": "markdown",
   "id": "842dbebc",
   "metadata": {},
   "source": [
    "#### (b) Data types\n",
    "\n",
    "What data type is used to store this data? What is the type of each column?<p>\n",
    "float, int"
   ]
  },
  {
   "cell_type": "markdown",
   "id": "93a8a85d",
   "metadata": {},
   "source": [
    "#### (c) Variables\n",
    "\n",
    "What are the variables in this dataset? Describe what each variable measures.<p>\n",
    "    <b>eruptions</b>: the time in minutes for each eruption<p>\n",
    "    <b>waiting</b>: the time in minutes to the next eruption"
   ]
  },
  {
   "cell_type": "markdown",
   "id": "7ce14159",
   "metadata": {},
   "source": [
    "### Problem 2: Basic computation\n",
    "Continue to use the faithful data to answer these specific questions."
   ]
  },
  {
   "cell_type": "markdown",
   "id": "1fcc8e56",
   "metadata": {},
   "source": [
    "#### (a) Basic statistics"
   ]
  },
  {
   "cell_type": "code",
   "execution_count": 6,
   "id": "556d4b7f",
   "metadata": {
    "ExecuteTime": {
     "end_time": "2025-01-20T02:24:07.704430Z",
     "start_time": "2025-01-20T02:24:07.700927Z"
    }
   },
   "outputs": [
    {
     "name": "stdout",
     "output_type": "stream",
     "text": [
      "What is the average, or mean, waiting time between eruptions? 70.8970588235294 minutes\n"
     ]
    }
   ],
   "source": [
    "mean_waiting = df['waiting'].mean()\n",
    "print(f\"What is the average, or mean, waiting time between eruptions? {mean_waiting} minutes\")"
   ]
  },
  {
   "cell_type": "markdown",
   "id": "6e55cb7f",
   "metadata": {},
   "source": [
    "#### (b) Shortest time"
   ]
  },
  {
   "cell_type": "code",
   "execution_count": 7,
   "id": "d3931453",
   "metadata": {
    "ExecuteTime": {
     "end_time": "2025-01-20T02:24:07.712831Z",
     "start_time": "2025-01-20T02:24:07.706435Z"
    }
   },
   "outputs": [
    {
     "name": "stdout",
     "output_type": "stream",
     "text": [
      "What is the shortest time between eruptions that was observed? 43 minutes\n"
     ]
    }
   ],
   "source": [
    "min_waiting = df['waiting'].min()\n",
    "print(f\"What is the shortest time between eruptions that was observed? {min_waiting} minutes\"\"\")"
   ]
  },
  {
   "cell_type": "markdown",
   "id": "05b8f5db",
   "metadata": {},
   "source": [
    "#### (c) Longest eruption"
   ]
  },
  {
   "cell_type": "code",
   "execution_count": 8,
   "id": "7b9eba7f",
   "metadata": {
    "ExecuteTime": {
     "end_time": "2025-01-20T02:24:07.722010Z",
     "start_time": "2025-01-20T02:24:07.714064Z"
    }
   },
   "outputs": [
    {
     "name": "stdout",
     "output_type": "stream",
     "text": [
      "What is the longest eruption time observed? 5.1 minutes\n"
     ]
    }
   ],
   "source": [
    "max_eruption = df['eruptions'].max()\n",
    "print(f\"What is the longest eruption time observed? {max_eruption} minutes\"\"\")"
   ]
  },
  {
   "cell_type": "markdown",
   "id": "c000678f",
   "metadata": {},
   "source": [
    "### Problem 3: Visualization\n",
    "\n",
    "Create a basic visualization of either the distribution of eruption times or waiting time between eruptions, your choice. You can use the `seaborn` package imported below. Again, if you encounter an error when importing the package, you may need to install the package. Be sure to label axes and add a title to the visualization. Hint: Use [seaborn's `histplot()`](https://seaborn.pydata.org/generated/seaborn.histplot.html) function on a single column of the data to start off. Use [`axes.set()`](https://matplotlib.org/stable/api/_as_gen/matplotlib.axes.Axes.set.html) to set the `x`, `y`, and `title` of the visualization."
   ]
  },
  {
   "cell_type": "code",
   "execution_count": 9,
   "id": "de51e712",
   "metadata": {
    "ExecuteTime": {
     "end_time": "2025-01-20T02:24:09.307969Z",
     "start_time": "2025-01-20T02:24:07.723015Z"
    }
   },
   "outputs": [],
   "source": [
    "import seaborn as sns\n",
    "import matplotlib.pyplot as plt"
   ]
  },
  {
   "cell_type": "code",
   "execution_count": 10,
   "id": "7fd20a48",
   "metadata": {
    "ExecuteTime": {
     "end_time": "2025-01-20T02:24:09.576973Z",
     "start_time": "2025-01-20T02:24:09.310983Z"
    }
   },
   "outputs": [
    {
     "data": {
      "image/png": "[encoded data removed]",
      "text/plain": [
       "<Figure size 640x480 with 1 Axes>"
      ]
     },
     "metadata": {},
     "output_type": "display_data"
    }
   ],
   "source": [
    "# Eruption Times\n",
    "# Create a figure and axes\n",
    "fig, ax = plt.subplots()\n",
    "\n",
    "# Setup the Seaborn histogram (using the faithful dataset we put in df above)\n",
    "sns.histplot(data=df, x=\"eruptions\", bins=20) \n",
    "\n",
    "# Set the x, y labels, and title\n",
    "ax.set(xlabel=\"Eruption Duration (minutes)\", \n",
    "       ylabel=\"Frequency\", \n",
    "       title=\"Distribution of Old Faithful's Eruption Durations\")\n",
    "\n",
    "# Show the plot\n",
    "plt.show()"
   ]
  },
  {
   "cell_type": "code",
   "execution_count": 11,
   "id": "7d8ac5ab",
   "metadata": {
    "ExecuteTime": {
     "end_time": "2025-01-20T02:24:09.756763Z",
     "start_time": "2025-01-20T02:24:09.578978Z"
    }
   },
   "outputs": [
    {
     "data": {
      "image/png": "[encoded data removed]",
      "text/plain": [
       "<Figure size 640x480 with 1 Axes>"
      ]
     },
     "metadata": {},
     "output_type": "display_data"
    }
   ],
   "source": [
    "# Waiting Times\n",
    "# Create a figure and axes\n",
    "fig, ax = plt.subplots()\n",
    "\n",
    "# Setup the Seaborn histogram (using the faithful dataset we put in df above)\n",
    "sns.histplot(data=df, x=\"waiting\", bins=20) \n",
    "\n",
    "# Set x, y labels, and title\n",
    "ax.set(xlabel=\"Waiting Time (minutes)\", \n",
    "       ylabel=\"Frequency\", \n",
    "       title=\"Distribution of Old Faithful's Waiting Time Between Eruptions\")\n",
    "\n",
    "# Show the plot\n",
    "plt.show()"
   ]
  }
 ],
 "metadata": {
  "kernelspec": {
   "display_name": "Python 3 (ipykernel)",
   "language": "python",
   "name": "python3"
  },
  "language_info": {
   "codemirror_mode": {
    "name": "ipython",
    "version": 3
   },
   "file_extension": ".py",
   "mimetype": "text/x-python",
   "name": "python",
   "nbconvert_exporter": "python",
   "pygments_lexer": "ipython3",
   "version": "3.11.6"
  },
  "toc": {
   "base_numbering": 1,
   "nav_menu": {},
   "number_sections": true,
   "sideBar": true,
   "skip_h1_title": false,
   "title_cell": "Table of Contents",
   "title_sidebar": "Contents",
   "toc_cell": false,
   "toc_position": {},
   "toc_section_display": true,
   "toc_window_display": false
  }
 },
 "nbformat": 4,
 "nbformat_minor": 5
}

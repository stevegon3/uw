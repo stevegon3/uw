{
 "cells": [
  {
   "cell_type": "markdown",
   "id": "1461b6bb",
   "metadata": {},
   "source": [
    "# IMT 573 - Final Examination - Steve Gonzales\n",
    "\n",
    "Name: IMT 573 Teaching Team\n",
    "Last Updated: Mar 2025"
   ]
  },
  {
   "cell_type": "markdown",
   "id": "1cf60757",
   "metadata": {},
   "source": [
    "### Instructions\n",
    "\n",
    "This is a take-home final examination. You may use your computer, books/articles, notes, course materials, etc., but all work must be your own! Please review the course policy on AI-based learning tools. **References must be appropriately cited and you must make modifications on the code solutions found online, such as ChatGPT. Recycling online codes or other students' work is counted as plagiarism**. Please justify your answers and show all work; a complete argument must be presented to obtain full credit. Before beginning this exam, please ensure you have access to data programming environments used in the course; this can be on your own personal computer or on shared infrastructure hosted by the university. \n",
    "\n",
    "1. Download the exam template notebook file from Canvas. Open exam notebook and supply your solutions to the exam by editing the notebook. \n",
    "\n",
    "2. Be sure the exam contains your full name. \n",
    "\n",
    "3. Be sure to include well-documented (e.g. commented) code chucks, figures, and clearly written text chunk explanations as necessary. Any figures should be clearly labeled and appropriately referenced within the text. Be sure that each visualization adds value to your written explanation; avoid redundancy -- you do not need four different visualizations of the same pattern.\n",
    "\n",
    "4.  **Collaboration is not allowed on this exam. You may only speak with the course instructor about this material.**\n",
    "\n",
    "5. All materials and resources that you use (with the exception of lecture slides) must be appropriately referenced within your assignment.\n",
    "\n",
    "6. Remember partial credit will be awarded for each question for which a serious attempt at finding an answer has been shown. Students are **strongly** encouraged to attempt each question and to document their reasoning process even if they cannot find the correct answer. If you would like to include code to show this process, but it does not run without errors, you can do so by commenting out that code. \n",
    "\n",
    "7. When you have completed the assignment and have **checked** that your code both runs in the Console and compiles correctly rename the file to `YourLastName_YourFirstName.ipynb`, and submit BOTH your HTML and notebook files on Canvas."
   ]
  },
  {
   "cell_type": "markdown",
   "id": "b8695d82-5e44-4fb5-9045-b389faae03e4",
   "metadata": {},
   "source": [
    "### Statement of Compliance\n",
    "\n",
    "You **must** include the a \"signed\" Statement of Compliance in your submission. The Compliance Statement is found below. You must include this text, word-for-word, in your final exam submission. Adding your name indicates you have read the statement and agree to its terms. Failure to do so will result in your exam **not** being accepted.\n",
    "\n",
    "**Statement of Compliance**\n",
    "\n",
    "I affirm that I have had no conversation regarding this exam with any persons other than the instructor. Further, I certify that the attached work represents my own thinking. Any information, concepts, or words that originate from other sources are cited in accordance with University of Washington guidelines as published in the Academic Code (available on the course website). I am aware of the serious consequences that result from improper discussions with others or from the improper citation of work that is not my own. \n",
    "\n",
    "Steve Gonzales  Mar 12, 2025"
   ]
  },
  {
   "cell_type": "markdown",
   "id": "96d9bc8b",
   "metadata": {},
   "source": [
    "For this assignment, you'll need (at least) the following packages. If the package does not load, be sure it is properly installed."
   ]
  },
  {
   "cell_type": "code",
   "execution_count": 3,
   "id": "fa0106a5-e6fa-43f0-af53-f2a5b9b9930a",
   "metadata": {
    "ExecuteTime": {
     "end_time": "2025-03-15T04:05:42.719801Z",
     "start_time": "2025-03-15T04:05:42.704871Z"
    },
    "init_cell": true,
    "tags": []
   },
   "outputs": [],
   "source": [
    "import os, re, math, random\n",
    "import pandas as pd\n",
    "import numpy as np\n",
    "import matplotlib.pyplot as plt\n",
    "import matplotlib.ticker as ticker\n",
    "import seaborn as sns\n",
    "import statsmodels.api as sm\n",
    "import statsmodels.formula.api as smf\n",
    "\n",
    "from sklearn.linear_model import LogisticRegression\n",
    "from sklearn.neighbors import KNeighborsClassifier\n",
    "from sklearn.svm import SVC\n",
    "from sklearn.tree import DecisionTreeClassifier\n",
    "from sklearn.ensemble import RandomForestClassifier, GradientBoostingClassifier\n",
    "from sklearn.naive_bayes import GaussianNB\n",
    "from sklearn.metrics import accuracy_score, confusion_matrix, classification_report, ConfusionMatrixDisplay\n",
    "from sklearn.model_selection import train_test_split"
   ]
  },
  {
   "cell_type": "markdown",
   "id": "2fff2fc9",
   "metadata": {},
   "source": [
    "### Problem 1\n",
    "\n",
    "Points: 20\n",
    "\n",
    "In this problem we will use data on infidelity, known as the Fair's Affairs dataset. The `Affairs` dataset is available as part of the `datasets` package in`statsmodels`. The original data come from two survey conducted by Psychology Today in 1969 and Redbook in 1974, see Greene (2003) and Fair (1978) for more information. We will use the Redbook data here.\n",
    "\n",
    "The dataset contains various self-reported characteristics of 6,366 participants, including how often the respondent engaged in extramarital sexual intercourse during the past year, as well as their age, year married, whether they had children, their religiousness (on a 5-point scale, from 1=anti to 5=very), education, occupation (Hillingshead 7-point classification with reverse numbering), and a numeric self-rating of their marriage (from 1=very unhappy to 5=very happy)."
   ]
  },
  {
   "cell_type": "markdown",
   "id": "03035d4b",
   "metadata": {},
   "source": [
    "<font color = red>SOLUTION: "
   ]
  },
  {
   "cell_type": "code",
   "execution_count": 4,
   "id": "44ef92ea-8110-444b-ba3b-0c3e3a25f5db",
   "metadata": {
    "ExecuteTime": {
     "end_time": "2025-03-15T04:05:42.735799Z",
     "start_time": "2025-03-15T04:05:42.720799Z"
    },
    "tags": []
   },
   "outputs": [
    {
     "name": "stdout",
     "output_type": "stream",
     "text": [
      "\n",
      "Fair, Ray. 1978. \"A Theory of Extramarital Affairs,\" `Journal of Political\n",
      "Economy`, February, 45-61.\n",
      "\n",
      "The data is available at http://fairmodel.econ.yale.edu/rayfair/pdf/2011b.htm\n",
      "\n",
      "::\n",
      "\n",
      "    Number of observations: 6366\n",
      "    Number of variables: 9\n",
      "    Variable name definitions:\n",
      "\n",
      "        rate_marriage   : How rate marriage, 1 = very poor, 2 = poor, 3 = fair,\n",
      "                        4 = good, 5 = very good\n",
      "        age             : Age\n",
      "        yrs_married     : No. years married. Interval approximations. See\n",
      "                        original paper for detailed explanation.\n",
      "        children        : No. children\n",
      "        religious       : How relgious, 1 = not, 2 = mildly, 3 = fairly,\n",
      "                        4 = strongly\n",
      "        educ            : Level of education, 9 = grade school, 12 = high\n",
      "                        school, 14 = some college, 16 = college graduate,\n",
      "                        17 = some graduate school, 20 = advanced degree\n",
      "        occupation      : 1 = student, 2 = farming, agriculture; semi-skilled,\n",
      "                        or unskilled worker; 3 = white-colloar; 4 = teacher\n",
      "                        counselor social worker, nurse; artist, writers;\n",
      "                        technician, skilled worker, 5 = managerial,\n",
      "                        administrative, business, 6 = professional with\n",
      "                        advanced degree\n",
      "        occupation_husb : Husband's occupation. Same as occupation.\n",
      "        affairs         : measure of time spent in extramarital affairs\n",
      "\n",
      "    See the original paper for more details.\n",
      "\n"
     ]
    },
    {
     "data": {
      "text/plain": [
       "<bound method NDFrame.head of       rate_marriage   age  yrs_married  children  religious  educ  occupation  \\\n",
       "0               3.0  32.0          9.0       3.0        3.0  17.0         2.0   \n",
       "1               3.0  27.0         13.0       3.0        1.0  14.0         3.0   \n",
       "2               4.0  22.0          2.5       0.0        1.0  16.0         3.0   \n",
       "3               4.0  37.0         16.5       4.0        3.0  16.0         5.0   \n",
       "4               5.0  27.0          9.0       1.0        1.0  14.0         3.0   \n",
       "...             ...   ...          ...       ...        ...   ...         ...   \n",
       "6361            5.0  32.0         13.0       2.0        3.0  17.0         4.0   \n",
       "6362            4.0  32.0         13.0       1.0        1.0  16.0         5.0   \n",
       "6363            5.0  22.0          2.5       0.0        2.0  14.0         3.0   \n",
       "6364            5.0  32.0          6.0       1.0        3.0  14.0         3.0   \n",
       "6365            4.0  22.0          2.5       0.0        2.0  16.0         2.0   \n",
       "\n",
       "      occupation_husb   affairs  \n",
       "0                 5.0  0.111111  \n",
       "1                 4.0  3.230769  \n",
       "2                 5.0  1.400000  \n",
       "3                 5.0  0.727273  \n",
       "4                 4.0  4.666666  \n",
       "...               ...       ...  \n",
       "6361              3.0  0.000000  \n",
       "6362              5.0  0.000000  \n",
       "6363              1.0  0.000000  \n",
       "6364              4.0  0.000000  \n",
       "6365              4.0  0.000000  \n",
       "\n",
       "[6366 rows x 9 columns]>"
      ]
     },
     "execution_count": 4,
     "metadata": {},
     "output_type": "execute_result"
    }
   ],
   "source": [
    "data = sm.datasets.fair.load_pandas()\n",
    "print(sm.datasets.fair.SOURCE)\n",
    "print(sm.datasets.fair.NOTE)\n",
    "affairs = data.data\n",
    "affairs.head\n",
    "# affairs.describe()"
   ]
  },
  {
   "cell_type": "markdown",
   "id": "91156555-ae52-4664-9793-323f2d6c950c",
   "metadata": {},
   "source": [
    "(a) Describe the participants. Use descriptive, summarization, and exploratory techniques (visualizations) to describe the participants in the study. Please answer questions :  What is the average age of respondents? What is the proportion of families who do not have any children ? "
   ]
  },
  {
   "cell_type": "code",
   "execution_count": 5,
   "id": "3ae4869e-1edc-4481-8a6b-087cb90579ec",
   "metadata": {
    "ExecuteTime": {
     "end_time": "2025-03-15T04:05:42.751821Z",
     "start_time": "2025-03-15T04:05:42.736800Z"
    }
   },
   "outputs": [
    {
     "name": "stdout",
     "output_type": "stream",
     "text": [
      "Unique values for rate_marriage: [3. 4. 5. 2. 1.]\n",
      "Unique values for age: [32.  27.  22.  37.  42.  17.5]\n",
      "Unique values for yrs_married: [ 9.  13.   2.5 16.5 23.   6.   0.5]\n",
      "Unique values for children: [3.  0.  4.  1.  5.5 2. ]\n",
      "Unique values for religious: [3. 1. 2. 4.]\n",
      "Unique values for educ: [17. 14. 16. 12. 20.  9.]\n",
      "Unique values for occupation: [2. 3. 5. 4. 1. 6.]\n",
      "Unique values for occupation_husb: [5. 4. 3. 2. 6. 1.]\n",
      "Unique values for affairs: [0.1111111 3.2307692 1.3999996 0.7272727 4.666666  0.8521735 1.826086\n",
      " 4.7999992 1.333333 ]\n"
     ]
    }
   ],
   "source": [
    "#Basic descriptive analysis of data\n",
    "columns = affairs.columns\n",
    "unique_values = {col: affairs[col].unique() for col in columns}\n",
    "for col, values in unique_values.items():\n",
    "    print(f\"Unique values for {col}: {values[:9]}\")"
   ]
  },
  {
   "cell_type": "code",
   "execution_count": 6,
   "id": "f18924ea",
   "metadata": {
    "ExecuteTime": {
     "end_time": "2025-03-15T04:05:42.782451Z",
     "start_time": "2025-03-15T04:05:42.752808Z"
    },
    "scrolled": true
   },
   "outputs": [
    {
     "name": "stdout",
     "output_type": "stream",
     "text": [
      "Answer to Question 1a Descriptive information about the Dataset\n"
     ]
    },
    {
     "data": {
      "text/plain": [
       "rate_marriage      0\n",
       "age                0\n",
       "yrs_married        0\n",
       "children           0\n",
       "religious          0\n",
       "educ               0\n",
       "occupation         0\n",
       "occupation_husb    0\n",
       "affairs            0\n",
       "dtype: int64"
      ]
     },
     "metadata": {},
     "output_type": "display_data"
    },
    {
     "name": "stdout",
     "output_type": "stream",
     "text": [
      "Shape:  (6366, 9)\n"
     ]
    },
    {
     "data": {
      "text/html": [
       "<div>\n",
       "<style scoped>\n",
       "    .dataframe tbody tr th:only-of-type {\n",
       "        vertical-align: middle;\n",
       "    }\n",
       "\n",
       "    .dataframe tbody tr th {\n",
       "        vertical-align: top;\n",
       "    }\n",
       "\n",
       "    .dataframe thead th {\n",
       "        text-align: right;\n",
       "    }\n",
       "</style>\n",
       "<table border=\"1\" class=\"dataframe\">\n",
       "  <thead>\n",
       "    <tr style=\"text-align: right;\">\n",
       "      <th></th>\n",
       "      <th>rate_marriage</th>\n",
       "      <th>age</th>\n",
       "      <th>yrs_married</th>\n",
       "      <th>children</th>\n",
       "      <th>religious</th>\n",
       "      <th>educ</th>\n",
       "      <th>occupation</th>\n",
       "      <th>occupation_husb</th>\n",
       "      <th>affairs</th>\n",
       "    </tr>\n",
       "  </thead>\n",
       "  <tbody>\n",
       "    <tr>\n",
       "      <th>count</th>\n",
       "      <td>6366.000000</td>\n",
       "      <td>6366.000000</td>\n",
       "      <td>6366.000000</td>\n",
       "      <td>6366.000000</td>\n",
       "      <td>6366.000000</td>\n",
       "      <td>6366.000000</td>\n",
       "      <td>6366.000000</td>\n",
       "      <td>6366.000000</td>\n",
       "      <td>6366.000000</td>\n",
       "    </tr>\n",
       "    <tr>\n",
       "      <th>mean</th>\n",
       "      <td>4.109645</td>\n",
       "      <td>29.082862</td>\n",
       "      <td>9.009425</td>\n",
       "      <td>1.396874</td>\n",
       "      <td>2.426170</td>\n",
       "      <td>14.209865</td>\n",
       "      <td>3.424128</td>\n",
       "      <td>3.850141</td>\n",
       "      <td>0.705374</td>\n",
       "    </tr>\n",
       "    <tr>\n",
       "      <th>std</th>\n",
       "      <td>0.961430</td>\n",
       "      <td>6.847882</td>\n",
       "      <td>7.280120</td>\n",
       "      <td>1.433471</td>\n",
       "      <td>0.878369</td>\n",
       "      <td>2.178003</td>\n",
       "      <td>0.942399</td>\n",
       "      <td>1.346435</td>\n",
       "      <td>2.203374</td>\n",
       "    </tr>\n",
       "    <tr>\n",
       "      <th>min</th>\n",
       "      <td>1.000000</td>\n",
       "      <td>17.500000</td>\n",
       "      <td>0.500000</td>\n",
       "      <td>0.000000</td>\n",
       "      <td>1.000000</td>\n",
       "      <td>9.000000</td>\n",
       "      <td>1.000000</td>\n",
       "      <td>1.000000</td>\n",
       "      <td>0.000000</td>\n",
       "    </tr>\n",
       "    <tr>\n",
       "      <th>25%</th>\n",
       "      <td>4.000000</td>\n",
       "      <td>22.000000</td>\n",
       "      <td>2.500000</td>\n",
       "      <td>0.000000</td>\n",
       "      <td>2.000000</td>\n",
       "      <td>12.000000</td>\n",
       "      <td>3.000000</td>\n",
       "      <td>3.000000</td>\n",
       "      <td>0.000000</td>\n",
       "    </tr>\n",
       "    <tr>\n",
       "      <th>50%</th>\n",
       "      <td>4.000000</td>\n",
       "      <td>27.000000</td>\n",
       "      <td>6.000000</td>\n",
       "      <td>1.000000</td>\n",
       "      <td>2.000000</td>\n",
       "      <td>14.000000</td>\n",
       "      <td>3.000000</td>\n",
       "      <td>4.000000</td>\n",
       "      <td>0.000000</td>\n",
       "    </tr>\n",
       "    <tr>\n",
       "      <th>75%</th>\n",
       "      <td>5.000000</td>\n",
       "      <td>32.000000</td>\n",
       "      <td>16.500000</td>\n",
       "      <td>2.000000</td>\n",
       "      <td>3.000000</td>\n",
       "      <td>16.000000</td>\n",
       "      <td>4.000000</td>\n",
       "      <td>5.000000</td>\n",
       "      <td>0.484848</td>\n",
       "    </tr>\n",
       "    <tr>\n",
       "      <th>max</th>\n",
       "      <td>5.000000</td>\n",
       "      <td>42.000000</td>\n",
       "      <td>23.000000</td>\n",
       "      <td>5.500000</td>\n",
       "      <td>4.000000</td>\n",
       "      <td>20.000000</td>\n",
       "      <td>6.000000</td>\n",
       "      <td>6.000000</td>\n",
       "      <td>57.599991</td>\n",
       "    </tr>\n",
       "  </tbody>\n",
       "</table>\n",
       "</div>"
      ],
      "text/plain": [
       "       rate_marriage          age  yrs_married     children    religious  \\\n",
       "count    6366.000000  6366.000000  6366.000000  6366.000000  6366.000000   \n",
       "mean        4.109645    29.082862     9.009425     1.396874     2.426170   \n",
       "std         0.961430     6.847882     7.280120     1.433471     0.878369   \n",
       "min         1.000000    17.500000     0.500000     0.000000     1.000000   \n",
       "25%         4.000000    22.000000     2.500000     0.000000     2.000000   \n",
       "50%         4.000000    27.000000     6.000000     1.000000     2.000000   \n",
       "75%         5.000000    32.000000    16.500000     2.000000     3.000000   \n",
       "max         5.000000    42.000000    23.000000     5.500000     4.000000   \n",
       "\n",
       "              educ   occupation  occupation_husb      affairs  \n",
       "count  6366.000000  6366.000000      6366.000000  6366.000000  \n",
       "mean     14.209865     3.424128         3.850141     0.705374  \n",
       "std       2.178003     0.942399         1.346435     2.203374  \n",
       "min       9.000000     1.000000         1.000000     0.000000  \n",
       "25%      12.000000     3.000000         3.000000     0.000000  \n",
       "50%      14.000000     3.000000         4.000000     0.000000  \n",
       "75%      16.000000     4.000000         5.000000     0.484848  \n",
       "max      20.000000     6.000000         6.000000    57.599991  "
      ]
     },
     "execution_count": 6,
     "metadata": {},
     "output_type": "execute_result"
    }
   ],
   "source": [
    "# Answer to Question a\n",
    "# Descriptive information about the Dataset\n",
    "print(\"Answer to Question 1a Descriptive information about the Dataset\")\n",
    "display(affairs.isna().sum())\n",
    "print(\"Shape: \", affairs.shape)\n",
    "affairs.describe()"
   ]
  },
  {
   "cell_type": "markdown",
   "id": "0607f098",
   "metadata": {},
   "source": [
    "There are several discrete variables, so we will convert them to dummies, \"one hot\" when we fit the models."
   ]
  },
  {
   "cell_type": "markdown",
   "id": "07693912",
   "metadata": {},
   "source": [
    "<b>Answer:</b><p>\n",
    "The data seems to look good: all categories are adhered to and there are no NaN values"
   ]
  },
  {
   "cell_type": "code",
   "execution_count": 7,
   "id": "4881609d",
   "metadata": {
    "ExecuteTime": {
     "end_time": "2025-03-15T04:05:42.797433Z",
     "start_time": "2025-03-15T04:05:42.783433Z"
    }
   },
   "outputs": [
    {
     "name": "stdout",
     "output_type": "stream",
     "text": [
      "Answer to Question 1a Summary information about the Dataset\n",
      "There are a total of 6,366 respondents\n",
      "The average age of respondents: 29.08\n",
      "Proportion of families who do not have any children: 37.92%\n"
     ]
    }
   ],
   "source": [
    "# Answer to Question a\n",
    "# Summary information about the Dataset\n",
    "df_affairs = affairs.copy()\n",
    "print(\"Answer to Question 1a Summary information about the Dataset\")\n",
    "n_total_respondents = len(df_affairs)\n",
    "print(f\"There are a total of {n_total_respondents:,} respondents\")\n",
    "print(f\"The average age of respondents: {df_affairs['age'].mean():.2f}\")\n",
    "n_have_no_child = len(affairs[(df_affairs['children'] == 0)])\n",
    "n_have_child = len(affairs[(df_affairs['children'] != 0)])\n",
    "print(f\"Proportion of families who do not have any children: {n_have_no_child/n_total_respondents:.2%}\")"
   ]
  },
  {
   "cell_type": "code",
   "execution_count": 8,
   "id": "f821f2e4",
   "metadata": {
    "ExecuteTime": {
     "end_time": "2025-03-15T04:05:42.812800Z",
     "start_time": "2025-03-15T04:05:42.799433Z"
    }
   },
   "outputs": [
    {
     "data": {
      "text/plain": [
       "Index(['rate_marriage', 'age', 'yrs_married', 'children', 'religious', 'educ',\n",
       "       'occupation', 'occupation_husb', 'affairs'],\n",
       "      dtype='object')"
      ]
     },
     "execution_count": 8,
     "metadata": {},
     "output_type": "execute_result"
    }
   ],
   "source": [
    "affairs.columns"
   ]
  },
  {
   "cell_type": "code",
   "execution_count": 9,
   "id": "f526d3f4",
   "metadata": {
    "ExecuteTime": {
     "end_time": "2025-03-15T04:05:43.628682Z",
     "start_time": "2025-03-15T04:05:42.813800Z"
    }
   },
   "outputs": [
    {
     "name": "stdout",
     "output_type": "stream",
     "text": [
      "Answer to Question 1a Exploratory information about the Dataset\n"
     ]
    },
    {
     "data": {
      "image/png": "[encoded data removed]",
      "text/plain": [
       "<Figure size 900x900 with 8 Axes>"
      ]
     },
     "metadata": {},
     "output_type": "display_data"
    }
   ],
   "source": [
    "# Answer to Question a\n",
    "# Summary information about the Dataset\n",
    "print(\"Answer to Question 1a Exploratory information about the Dataset\")\n",
    "# Basic Distribution of Variables\n",
    "\n",
    "fig, axes = plt.subplots(4, 3, figsize=(9, 9))\n",
    "# Flatten the axes array for easy iteration\n",
    "axes = axes.flatten()\n",
    "charts_list = ['rate_marriage', 'age', 'yrs_married', 'children', 'religious', 'educ',\n",
    "       'occupation', 'occupation_husb']\n",
    "for i, col in enumerate(charts_list):\n",
    "    # Plot histograms for each column\n",
    "    sns.histplot(affairs[col], ax=axes[i], binwidth=1)\n",
    "    axes[i].set_title(f'Dist. of {col}')\n",
    "    axes[i].set_xlabel(col)\n",
    "    axes[i].set_ylabel('Frequency')\n",
    "\n",
    "# Remove any empty subplots\n",
    "for j in range(len(charts_list), len(axes)):\n",
    "    fig.delaxes(axes[j])\n",
    "\n",
    "plt.tight_layout()\n",
    "plt.show()"
   ]
  },
  {
   "cell_type": "code",
   "execution_count": 10,
   "id": "2fa6d77f",
   "metadata": {
    "ExecuteTime": {
     "end_time": "2025-03-15T04:05:44.071694Z",
     "start_time": "2025-03-15T04:05:43.632683Z"
    }
   },
   "outputs": [
    {
     "data": {
      "image/png": "[encoded data removed]",
      "text/plain": [
       "<Figure size 1000x600 with 1 Axes>"
      ]
     },
     "metadata": {},
     "output_type": "display_data"
    },
    {
     "data": {
      "image/png": "[encoded data removed]",
      "text/plain": [
       "<Figure size 1000x600 with 1 Axes>"
      ]
     },
     "metadata": {},
     "output_type": "display_data"
    },
    {
     "data": {
      "image/png": "[encoded data removed]",
      "text/plain": [
       "<Figure size 1000x600 with 1 Axes>"
      ]
     },
     "metadata": {},
     "output_type": "display_data"
    }
   ],
   "source": [
    "# Show counts of the different categorical information\n",
    "column_maps = {\n",
    "    'educ': {\n",
    "        9: 'grade school',\n",
    "        12: 'high school',\n",
    "        14: 'some college',\n",
    "        16: 'college graduate',\n",
    "        17: 'some graduate school',\n",
    "        20: 'advanced degree'\n",
    "    },\n",
    "    'occupation': {\n",
    "        1: 'student',\n",
    "        2: 'farming, ag',\n",
    "        3: 'white-collar',\n",
    "        4: 'teacher, counselor',\n",
    "        5: 'managerial, administrative, business', # Keep\n",
    "        6: 'professional' # Keep\n",
    "    },\n",
    "    'occupation_husb': {\n",
    "        1: 'student',\n",
    "        2: 'farming, ag',\n",
    "        3: 'white-collar',\n",
    "        4: 'teacher, counselor',\n",
    "        5: 'managerial, administrative, business',\n",
    "        6: 'professional'\n",
    "    }\n",
    " }\n",
    "for col, mapping in column_maps.items():\n",
    "    # Map numerical values to categorical labels\n",
    "    affairs[f'{col}_label'] = affairs[col].map(mapping)\n",
    "    # Create bar chart\n",
    "    plt.figure(figsize=(10, 6))\n",
    "    ax = sns.countplot(data=affairs, x=f'{col}_label', order=list(mapping.values()))\n",
    "    plt.title(f'Distribution of {col}')\n",
    "    plt.xlabel(col)\n",
    "    plt.ylabel('Count')\n",
    "    plt.xticks(rotation=45, ha='right')\n",
    "    \n",
    "    # Format y-axis with commas for thousands\n",
    "    ax.yaxis.set_major_formatter(ticker.StrMethodFormatter('{x:,.0f}'))\n",
    "\n",
    "    ax.bar_label(ax.containers[0], label_type='center')\n",
    "    if False:\n",
    "        for p in ax.patches:\n",
    "            ax.annotate(f'{p.get_height():,.0f}', (p.get_x() + p.get_width() / 2., p.get_height()),\n",
    "                    ha='center', va='center', xytext=(0, 10), textcoords='offset points')\n",
    "    \n",
    "    plt.tight_layout()\n",
    "    plt.show()"
   ]
  },
  {
   "cell_type": "code",
   "execution_count": 11,
   "id": "5cc85932",
   "metadata": {
    "ExecuteTime": {
     "end_time": "2025-03-15T04:05:44.307160Z",
     "start_time": "2025-03-15T04:05:44.073696Z"
    }
   },
   "outputs": [
    {
     "data": {
      "image/png": "[encoded data removed]",
      "text/plain": [
       "<Figure size 1600x600 with 2 Axes>"
      ]
     },
     "metadata": {},
     "output_type": "display_data"
    }
   ],
   "source": [
    "# Try to see if we have colinearity of variables with these related ones\n",
    "\n",
    "# Create a figure with two subplots side by side\n",
    "fig, axes = plt.subplots(1, 2, figsize=(16, 6))  # 1 row, 2 columns\n",
    "\n",
    "# Scatter plot: occupation vs. occupation_husb (first subplot)\n",
    "sns.scatterplot(data=df_affairs, x='occupation', y='occupation_husb', ax=axes[0])\n",
    "axes[0].set_title('Occupation vs. Husband\\'s Occupation')\n",
    "axes[0].set_xlabel('Occupation')\n",
    "axes[0].set_ylabel('Husband\\'s Occupation')\n",
    "\n",
    "# Scatter plot: age vs. yrs_married (second subplot)\n",
    "sns.scatterplot(data=df_affairs, x='age', y='yrs_married', ax=axes[1])\n",
    "axes[1].set_title('Age vs. Years Married')\n",
    "axes[1].set_xlabel('Age')\n",
    "axes[1].set_ylabel('Years Married')\n",
    "\n",
    "plt.tight_layout()  # Adjust subplot parameters to give specified padding.\n",
    "plt.show()"
   ]
  },
  {
   "cell_type": "markdown",
   "id": "21faf4cb",
   "metadata": {},
   "source": [
    "As you can see from the above Scatter Plots, these two pairs of data are perfectly aligned. We can probably remove the husband's occupation and age."
   ]
  },
  {
   "cell_type": "markdown",
   "id": "a592bb1a-1494-4c6b-a6d1-10eadb6d52a2",
   "metadata": {},
   "source": [
    "(b) Suppose we want to explore the characteristics of participants who engage in extramarital sexual intercourse (i.e. affairs). Instead of modeling the number of affairs, consider the binary outcome - had an affair versus didn't have an affair. Create a new variable to capture this response variable of interest. What might the advantages and disadvantages of this approach to modeling the data be in this context?"
   ]
  },
  {
   "cell_type": "code",
   "execution_count": 12,
   "id": "3066b884-df5a-418c-b438-45b5b0d8dc95",
   "metadata": {
    "ExecuteTime": {
     "end_time": "2025-03-15T04:05:44.322872Z",
     "start_time": "2025-03-15T04:05:44.309160Z"
    }
   },
   "outputs": [
    {
     "data": {
      "text/html": [
       "<div>\n",
       "<style scoped>\n",
       "    .dataframe tbody tr th:only-of-type {\n",
       "        vertical-align: middle;\n",
       "    }\n",
       "\n",
       "    .dataframe tbody tr th {\n",
       "        vertical-align: top;\n",
       "    }\n",
       "\n",
       "    .dataframe thead th {\n",
       "        text-align: right;\n",
       "    }\n",
       "</style>\n",
       "<table border=\"1\" class=\"dataframe\">\n",
       "  <thead>\n",
       "    <tr style=\"text-align: right;\">\n",
       "      <th></th>\n",
       "      <th>rate_marriage</th>\n",
       "      <th>age</th>\n",
       "      <th>yrs_married</th>\n",
       "      <th>children</th>\n",
       "      <th>religious</th>\n",
       "      <th>educ</th>\n",
       "      <th>occupation</th>\n",
       "      <th>occupation_husb</th>\n",
       "      <th>affairs</th>\n",
       "      <th>had_affair</th>\n",
       "    </tr>\n",
       "  </thead>\n",
       "  <tbody>\n",
       "    <tr>\n",
       "      <th>0</th>\n",
       "      <td>3.0</td>\n",
       "      <td>32.0</td>\n",
       "      <td>9.0</td>\n",
       "      <td>3.0</td>\n",
       "      <td>3.0</td>\n",
       "      <td>17.0</td>\n",
       "      <td>2.0</td>\n",
       "      <td>5.0</td>\n",
       "      <td>0.111111</td>\n",
       "      <td>1</td>\n",
       "    </tr>\n",
       "    <tr>\n",
       "      <th>1</th>\n",
       "      <td>3.0</td>\n",
       "      <td>27.0</td>\n",
       "      <td>13.0</td>\n",
       "      <td>3.0</td>\n",
       "      <td>1.0</td>\n",
       "      <td>14.0</td>\n",
       "      <td>3.0</td>\n",
       "      <td>4.0</td>\n",
       "      <td>3.230769</td>\n",
       "      <td>1</td>\n",
       "    </tr>\n",
       "    <tr>\n",
       "      <th>2</th>\n",
       "      <td>4.0</td>\n",
       "      <td>22.0</td>\n",
       "      <td>2.5</td>\n",
       "      <td>0.0</td>\n",
       "      <td>1.0</td>\n",
       "      <td>16.0</td>\n",
       "      <td>3.0</td>\n",
       "      <td>5.0</td>\n",
       "      <td>1.400000</td>\n",
       "      <td>1</td>\n",
       "    </tr>\n",
       "    <tr>\n",
       "      <th>3</th>\n",
       "      <td>4.0</td>\n",
       "      <td>37.0</td>\n",
       "      <td>16.5</td>\n",
       "      <td>4.0</td>\n",
       "      <td>3.0</td>\n",
       "      <td>16.0</td>\n",
       "      <td>5.0</td>\n",
       "      <td>5.0</td>\n",
       "      <td>0.727273</td>\n",
       "      <td>1</td>\n",
       "    </tr>\n",
       "    <tr>\n",
       "      <th>4</th>\n",
       "      <td>5.0</td>\n",
       "      <td>27.0</td>\n",
       "      <td>9.0</td>\n",
       "      <td>1.0</td>\n",
       "      <td>1.0</td>\n",
       "      <td>14.0</td>\n",
       "      <td>3.0</td>\n",
       "      <td>4.0</td>\n",
       "      <td>4.666666</td>\n",
       "      <td>1</td>\n",
       "    </tr>\n",
       "    <tr>\n",
       "      <th>...</th>\n",
       "      <td>...</td>\n",
       "      <td>...</td>\n",
       "      <td>...</td>\n",
       "      <td>...</td>\n",
       "      <td>...</td>\n",
       "      <td>...</td>\n",
       "      <td>...</td>\n",
       "      <td>...</td>\n",
       "      <td>...</td>\n",
       "      <td>...</td>\n",
       "    </tr>\n",
       "    <tr>\n",
       "      <th>6361</th>\n",
       "      <td>5.0</td>\n",
       "      <td>32.0</td>\n",
       "      <td>13.0</td>\n",
       "      <td>2.0</td>\n",
       "      <td>3.0</td>\n",
       "      <td>17.0</td>\n",
       "      <td>4.0</td>\n",
       "      <td>3.0</td>\n",
       "      <td>0.000000</td>\n",
       "      <td>0</td>\n",
       "    </tr>\n",
       "    <tr>\n",
       "      <th>6362</th>\n",
       "      <td>4.0</td>\n",
       "      <td>32.0</td>\n",
       "      <td>13.0</td>\n",
       "      <td>1.0</td>\n",
       "      <td>1.0</td>\n",
       "      <td>16.0</td>\n",
       "      <td>5.0</td>\n",
       "      <td>5.0</td>\n",
       "      <td>0.000000</td>\n",
       "      <td>0</td>\n",
       "    </tr>\n",
       "    <tr>\n",
       "      <th>6363</th>\n",
       "      <td>5.0</td>\n",
       "      <td>22.0</td>\n",
       "      <td>2.5</td>\n",
       "      <td>0.0</td>\n",
       "      <td>2.0</td>\n",
       "      <td>14.0</td>\n",
       "      <td>3.0</td>\n",
       "      <td>1.0</td>\n",
       "      <td>0.000000</td>\n",
       "      <td>0</td>\n",
       "    </tr>\n",
       "    <tr>\n",
       "      <th>6364</th>\n",
       "      <td>5.0</td>\n",
       "      <td>32.0</td>\n",
       "      <td>6.0</td>\n",
       "      <td>1.0</td>\n",
       "      <td>3.0</td>\n",
       "      <td>14.0</td>\n",
       "      <td>3.0</td>\n",
       "      <td>4.0</td>\n",
       "      <td>0.000000</td>\n",
       "      <td>0</td>\n",
       "    </tr>\n",
       "    <tr>\n",
       "      <th>6365</th>\n",
       "      <td>4.0</td>\n",
       "      <td>22.0</td>\n",
       "      <td>2.5</td>\n",
       "      <td>0.0</td>\n",
       "      <td>2.0</td>\n",
       "      <td>16.0</td>\n",
       "      <td>2.0</td>\n",
       "      <td>4.0</td>\n",
       "      <td>0.000000</td>\n",
       "      <td>0</td>\n",
       "    </tr>\n",
       "  </tbody>\n",
       "</table>\n",
       "<p>6366 rows × 10 columns</p>\n",
       "</div>"
      ],
      "text/plain": [
       "      rate_marriage   age  yrs_married  children  religious  educ  occupation  \\\n",
       "0               3.0  32.0          9.0       3.0        3.0  17.0         2.0   \n",
       "1               3.0  27.0         13.0       3.0        1.0  14.0         3.0   \n",
       "2               4.0  22.0          2.5       0.0        1.0  16.0         3.0   \n",
       "3               4.0  37.0         16.5       4.0        3.0  16.0         5.0   \n",
       "4               5.0  27.0          9.0       1.0        1.0  14.0         3.0   \n",
       "...             ...   ...          ...       ...        ...   ...         ...   \n",
       "6361            5.0  32.0         13.0       2.0        3.0  17.0         4.0   \n",
       "6362            4.0  32.0         13.0       1.0        1.0  16.0         5.0   \n",
       "6363            5.0  22.0          2.5       0.0        2.0  14.0         3.0   \n",
       "6364            5.0  32.0          6.0       1.0        3.0  14.0         3.0   \n",
       "6365            4.0  22.0          2.5       0.0        2.0  16.0         2.0   \n",
       "\n",
       "      occupation_husb   affairs  had_affair  \n",
       "0                 5.0  0.111111           1  \n",
       "1                 4.0  3.230769           1  \n",
       "2                 5.0  1.400000           1  \n",
       "3                 5.0  0.727273           1  \n",
       "4                 4.0  4.666666           1  \n",
       "...               ...       ...         ...  \n",
       "6361              3.0  0.000000           0  \n",
       "6362              5.0  0.000000           0  \n",
       "6363              1.0  0.000000           0  \n",
       "6364              4.0  0.000000           0  \n",
       "6365              4.0  0.000000           0  \n",
       "\n",
       "[6366 rows x 10 columns]"
      ]
     },
     "metadata": {},
     "output_type": "display_data"
    }
   ],
   "source": [
    "# Create a new variable where the length of the affair is greater than 0\n",
    "df_affairs['had_affair'] = (df_affairs['affairs'] > 0).astype(int)\n",
    "display(df_affairs)"
   ]
  },
  {
   "cell_type": "code",
   "execution_count": 13,
   "id": "d82910cd",
   "metadata": {
    "ExecuteTime": {
     "end_time": "2025-03-15T04:05:44.337875Z",
     "start_time": "2025-03-15T04:05:44.323875Z"
    }
   },
   "outputs": [
    {
     "data": {
      "text/html": [
       "<div>\n",
       "<style scoped>\n",
       "    .dataframe tbody tr th:only-of-type {\n",
       "        vertical-align: middle;\n",
       "    }\n",
       "\n",
       "    .dataframe tbody tr th {\n",
       "        vertical-align: top;\n",
       "    }\n",
       "\n",
       "    .dataframe thead th {\n",
       "        text-align: right;\n",
       "    }\n",
       "</style>\n",
       "<table border=\"1\" class=\"dataframe\">\n",
       "  <thead>\n",
       "    <tr style=\"text-align: right;\">\n",
       "      <th></th>\n",
       "      <th>rate_marriage</th>\n",
       "      <th>age</th>\n",
       "      <th>yrs_married</th>\n",
       "      <th>children</th>\n",
       "      <th>religious</th>\n",
       "      <th>educ</th>\n",
       "      <th>occupation</th>\n",
       "      <th>occupation_husb</th>\n",
       "      <th>affairs</th>\n",
       "      <th>had_affair</th>\n",
       "      <th>log_affairs</th>\n",
       "    </tr>\n",
       "  </thead>\n",
       "  <tbody>\n",
       "    <tr>\n",
       "      <th>0</th>\n",
       "      <td>3.0</td>\n",
       "      <td>32.0</td>\n",
       "      <td>9.0</td>\n",
       "      <td>3.0</td>\n",
       "      <td>3.0</td>\n",
       "      <td>17.0</td>\n",
       "      <td>2.0</td>\n",
       "      <td>5.0</td>\n",
       "      <td>0.111111</td>\n",
       "      <td>1</td>\n",
       "      <td>0.105361</td>\n",
       "    </tr>\n",
       "    <tr>\n",
       "      <th>1</th>\n",
       "      <td>3.0</td>\n",
       "      <td>27.0</td>\n",
       "      <td>13.0</td>\n",
       "      <td>3.0</td>\n",
       "      <td>1.0</td>\n",
       "      <td>14.0</td>\n",
       "      <td>3.0</td>\n",
       "      <td>4.0</td>\n",
       "      <td>3.230769</td>\n",
       "      <td>1</td>\n",
       "      <td>1.442384</td>\n",
       "    </tr>\n",
       "    <tr>\n",
       "      <th>2</th>\n",
       "      <td>4.0</td>\n",
       "      <td>22.0</td>\n",
       "      <td>2.5</td>\n",
       "      <td>0.0</td>\n",
       "      <td>1.0</td>\n",
       "      <td>16.0</td>\n",
       "      <td>3.0</td>\n",
       "      <td>5.0</td>\n",
       "      <td>1.400000</td>\n",
       "      <td>1</td>\n",
       "      <td>0.875469</td>\n",
       "    </tr>\n",
       "    <tr>\n",
       "      <th>3</th>\n",
       "      <td>4.0</td>\n",
       "      <td>37.0</td>\n",
       "      <td>16.5</td>\n",
       "      <td>4.0</td>\n",
       "      <td>3.0</td>\n",
       "      <td>16.0</td>\n",
       "      <td>5.0</td>\n",
       "      <td>5.0</td>\n",
       "      <td>0.727273</td>\n",
       "      <td>1</td>\n",
       "      <td>0.546544</td>\n",
       "    </tr>\n",
       "    <tr>\n",
       "      <th>4</th>\n",
       "      <td>5.0</td>\n",
       "      <td>27.0</td>\n",
       "      <td>9.0</td>\n",
       "      <td>1.0</td>\n",
       "      <td>1.0</td>\n",
       "      <td>14.0</td>\n",
       "      <td>3.0</td>\n",
       "      <td>4.0</td>\n",
       "      <td>4.666666</td>\n",
       "      <td>1</td>\n",
       "      <td>1.734601</td>\n",
       "    </tr>\n",
       "    <tr>\n",
       "      <th>...</th>\n",
       "      <td>...</td>\n",
       "      <td>...</td>\n",
       "      <td>...</td>\n",
       "      <td>...</td>\n",
       "      <td>...</td>\n",
       "      <td>...</td>\n",
       "      <td>...</td>\n",
       "      <td>...</td>\n",
       "      <td>...</td>\n",
       "      <td>...</td>\n",
       "      <td>...</td>\n",
       "    </tr>\n",
       "    <tr>\n",
       "      <th>6361</th>\n",
       "      <td>5.0</td>\n",
       "      <td>32.0</td>\n",
       "      <td>13.0</td>\n",
       "      <td>2.0</td>\n",
       "      <td>3.0</td>\n",
       "      <td>17.0</td>\n",
       "      <td>4.0</td>\n",
       "      <td>3.0</td>\n",
       "      <td>0.000000</td>\n",
       "      <td>0</td>\n",
       "      <td>0.000000</td>\n",
       "    </tr>\n",
       "    <tr>\n",
       "      <th>6362</th>\n",
       "      <td>4.0</td>\n",
       "      <td>32.0</td>\n",
       "      <td>13.0</td>\n",
       "      <td>1.0</td>\n",
       "      <td>1.0</td>\n",
       "      <td>16.0</td>\n",
       "      <td>5.0</td>\n",
       "      <td>5.0</td>\n",
       "      <td>0.000000</td>\n",
       "      <td>0</td>\n",
       "      <td>0.000000</td>\n",
       "    </tr>\n",
       "    <tr>\n",
       "      <th>6363</th>\n",
       "      <td>5.0</td>\n",
       "      <td>22.0</td>\n",
       "      <td>2.5</td>\n",
       "      <td>0.0</td>\n",
       "      <td>2.0</td>\n",
       "      <td>14.0</td>\n",
       "      <td>3.0</td>\n",
       "      <td>1.0</td>\n",
       "      <td>0.000000</td>\n",
       "      <td>0</td>\n",
       "      <td>0.000000</td>\n",
       "    </tr>\n",
       "    <tr>\n",
       "      <th>6364</th>\n",
       "      <td>5.0</td>\n",
       "      <td>32.0</td>\n",
       "      <td>6.0</td>\n",
       "      <td>1.0</td>\n",
       "      <td>3.0</td>\n",
       "      <td>14.0</td>\n",
       "      <td>3.0</td>\n",
       "      <td>4.0</td>\n",
       "      <td>0.000000</td>\n",
       "      <td>0</td>\n",
       "      <td>0.000000</td>\n",
       "    </tr>\n",
       "    <tr>\n",
       "      <th>6365</th>\n",
       "      <td>4.0</td>\n",
       "      <td>22.0</td>\n",
       "      <td>2.5</td>\n",
       "      <td>0.0</td>\n",
       "      <td>2.0</td>\n",
       "      <td>16.0</td>\n",
       "      <td>2.0</td>\n",
       "      <td>4.0</td>\n",
       "      <td>0.000000</td>\n",
       "      <td>0</td>\n",
       "      <td>0.000000</td>\n",
       "    </tr>\n",
       "  </tbody>\n",
       "</table>\n",
       "<p>6366 rows × 11 columns</p>\n",
       "</div>"
      ],
      "text/plain": [
       "      rate_marriage   age  yrs_married  children  religious  educ  occupation  \\\n",
       "0               3.0  32.0          9.0       3.0        3.0  17.0         2.0   \n",
       "1               3.0  27.0         13.0       3.0        1.0  14.0         3.0   \n",
       "2               4.0  22.0          2.5       0.0        1.0  16.0         3.0   \n",
       "3               4.0  37.0         16.5       4.0        3.0  16.0         5.0   \n",
       "4               5.0  27.0          9.0       1.0        1.0  14.0         3.0   \n",
       "...             ...   ...          ...       ...        ...   ...         ...   \n",
       "6361            5.0  32.0         13.0       2.0        3.0  17.0         4.0   \n",
       "6362            4.0  32.0         13.0       1.0        1.0  16.0         5.0   \n",
       "6363            5.0  22.0          2.5       0.0        2.0  14.0         3.0   \n",
       "6364            5.0  32.0          6.0       1.0        3.0  14.0         3.0   \n",
       "6365            4.0  22.0          2.5       0.0        2.0  16.0         2.0   \n",
       "\n",
       "      occupation_husb   affairs  had_affair  log_affairs  \n",
       "0                 5.0  0.111111           1     0.105361  \n",
       "1                 4.0  3.230769           1     1.442384  \n",
       "2                 5.0  1.400000           1     0.875469  \n",
       "3                 5.0  0.727273           1     0.546544  \n",
       "4                 4.0  4.666666           1     1.734601  \n",
       "...               ...       ...         ...          ...  \n",
       "6361              3.0  0.000000           0     0.000000  \n",
       "6362              5.0  0.000000           0     0.000000  \n",
       "6363              1.0  0.000000           0     0.000000  \n",
       "6364              4.0  0.000000           0     0.000000  \n",
       "6365              4.0  0.000000           0     0.000000  \n",
       "\n",
       "[6366 rows x 11 columns]"
      ]
     },
     "metadata": {},
     "output_type": "display_data"
    }
   ],
   "source": [
    "# Since we encountered divide by zero, let's take log + 1\n",
    "df_affairs['log_affairs'] = df_affairs['affairs'].apply(np.log1p)\n",
    "affairs['log_affairs'] = affairs['affairs'].apply(np.log1p)\n",
    "display(df_affairs)"
   ]
  },
  {
   "cell_type": "markdown",
   "id": "13a58d60",
   "metadata": {},
   "source": [
    "<b>Answer:</b><p>\n",
    "The advantage to creating `df['had_affair']` is that we can more accurately predict infidelity with this variable. Allows the use of classification algorithms which are well-suited for binary outcomes.<p>\n",
    "However, the disadvantage is that if we wanted to predict the extent of infidelity, we obviously could not use this variable. It also removes some data that might be useful for other correlation analysis. In addition, there are many kinds of models that should not be used to predict a binary outcome."
   ]
  },
  {
   "cell_type": "markdown",
   "id": "a2132ddf-79d9-4bed-ba91-f48cfdd81e65",
   "metadata": {},
   "source": [
    "(c) Use an appropriate regression model to explore the relationship between having an affair (binary) and other personal characteristics. "
   ]
  },
  {
   "cell_type": "code",
   "execution_count": 14,
   "id": "25e73c69",
   "metadata": {
    "ExecuteTime": {
     "end_time": "2025-03-15T04:05:44.491891Z",
     "start_time": "2025-03-15T04:05:44.339874Z"
    }
   },
   "outputs": [
    {
     "name": "stdout",
     "output_type": "stream",
     "text": [
      "Optimization terminated successfully.\n",
      "         Current function value: 0.544190\n",
      "         Iterations 6\n"
     ]
    },
    {
     "data": {
      "image/png": "[encoded data removed]",
      "text/plain": [
       "<Figure size 640x480 with 1 Axes>"
      ]
     },
     "metadata": {},
     "output_type": "display_data"
    },
    {
     "name": "stdout",
     "output_type": "stream",
     "text": [
      "              precision    recall  f1-score   support\n",
      "\n",
      "   No Affair       0.75      0.89      0.81      1275\n",
      "      Affair       0.64      0.39      0.49       635\n",
      "\n",
      "    accuracy                           0.73      1910\n",
      "   macro avg       0.70      0.64      0.65      1910\n",
      "weighted avg       0.71      0.73      0.70      1910\n",
      "\n",
      "Statsmodels Logit - Training Accuracy: 72.49%, Test Accuracy: 72.57%\n",
      "Overall accuracy of model: 73.00%\n"
     ]
    }
   ],
   "source": [
    "# Will use Logistic Regression model\n",
    "# Use statsmodels built in C() to handle the categorical values\n",
    "categorical_columns = ['educ', 'occupation', 'occupation_husb']\n",
    "\n",
    "# Create the formula string for statsmodels\n",
    "formula = 'had_affair ~ ' + ' + '.join([f'C({col})' if col in categorical_columns else col for col in df_affairs.columns if col not in ['log_affairs', 'affairs', 'had_affair']])\n",
    "\n",
    "# Split the data into training and testing sets\n",
    "X_train, X_test, y_train, y_test = train_test_split(df_affairs, df_affairs['had_affair'], test_size=0.3, random_state=42)\n",
    "\n",
    "# Fit the logistic regression model using statsmodels\n",
    "logit_model = smf.logit(formula, data=X_train).fit()\n",
    "\n",
    "# Make predictions on the test set\n",
    "y_pred_probs = logit_model.predict(X_test)\n",
    "y_pred = (y_pred_probs > 0.5).astype(int)  # Convert probabilities to 0 or 1\n",
    "\n",
    "# Generate and display confusion matrix\n",
    "cm = confusion_matrix(y_test, y_pred)\n",
    "disp = ConfusionMatrixDisplay(confusion_matrix=cm, display_labels=['No Affair', 'Affair'])\n",
    "disp.plot(cmap='Blues', values_format='d', colorbar=False)\n",
    "plt.title('Logit Confusion Matrix')\n",
    "plt.show()\n",
    "\n",
    "# Generate classification report\n",
    "report = classification_report(y_test, y_pred, target_names=['No Affair', 'Affair'])\n",
    "print(report)\n",
    "\n",
    "# Extract accuracy from classification report\n",
    "report_str = classification_report(y_test, y_pred, output_dict=False)\n",
    "match = re.search(r'accuracy\\s+(\\d+\\.\\d+)', report_str)\n",
    "accuracy = -1\n",
    "if match:\n",
    "    accuracy = float(match.group(1))\n",
    "\n",
    "# Calculate training and test accuracies\n",
    "y_train_pred_probs = logit_model.predict(X_train)\n",
    "y_test_pred_probs = logit_model.predict(X_test)\n",
    "\n",
    "y_train_pred = (y_train_pred_probs > 0.5).astype(int)\n",
    "y_test_pred = (y_test_pred_probs > 0.5).astype(int)\n",
    "\n",
    "train_accuracy = accuracy_score(y_train, y_train_pred)\n",
    "test_accuracy = accuracy_score(y_test, y_test_pred)\n",
    "\n",
    "print(f\"Statsmodels Logit - Training Accuracy: {train_accuracy:.2%}, Test Accuracy: {test_accuracy:.2%}\")\n",
    "print(f\"Overall accuracy of model: {accuracy:.2%}\")"
   ]
  },
  {
   "cell_type": "code",
   "execution_count": 15,
   "id": "55c053ff",
   "metadata": {
    "ExecuteTime": {
     "end_time": "2025-03-15T04:05:44.507622Z",
     "start_time": "2025-03-15T04:05:44.492894Z"
    }
   },
   "outputs": [],
   "source": [
    "# Creating some helper functions to better analyze the data\n",
    "# Function to return the significant and non-significant P-Values\n",
    "def evaluate_pvalues(model_summary, threshold=0.05):\n",
    "    \"\"\"\n",
    "    Evaluate the P-Values from a statsmodel model summary and output the column names\n",
    "    that have P-Values below/above the given threshold.\n",
    "    Parameters:\n",
    "    model_summary (sm.iolib.summary.Summary): The summary object of the fitted model.\n",
    "    threshold (float): The threshold for P-Values. Default is 0.05.\n",
    "    Returns:\n",
    "    dict: A dictionary with column names as keys and their P-Values as values.\n",
    "    \"\"\"\n",
    "    p_values = model_summary.tables[1].data[1:]  # Extract the P-Values table\n",
    "    sig, non_sig = {}, {}\n",
    "    for row in p_values:\n",
    "        column_name = row[0]\n",
    "        if column_name.lower() not in ['const', 'intercept']:\n",
    "            pvalue = float(row[4])\n",
    "            if pvalue > threshold:\n",
    "                non_sig[column_name] = pvalue\n",
    "            else:\n",
    "                sig[column_name] = pvalue\n",
    "    return sig, non_sig\n",
    "\n",
    "# Function to create dummies (one hot) from columns\n",
    "def create_dummies(df, categorical_variables):\n",
    "    dummies = []\n",
    "    for col in categorical_variables:\n",
    "        dummies.append(pd.get_dummies(df[col], prefix=col))\n",
    "    \n",
    "    df = pd.concat([df] + dummies, axis=1)\n",
    "    # Convert the Booleans to 1 or 0\n",
    "    for col in df.select_dtypes(include='bool').columns:\n",
    "        df[col] = df[col].astype(int)\n",
    "    # Drop the original columns\n",
    "    df = df.drop(categorical_variables, axis=1)\n",
    "    return df\n",
    "# Function to shorten the col names\n",
    "def process_string(s):\n",
    "    # Replace anything not a lowercase letter with a space\n",
    "    s = re.sub(r'[^a-z]', ' ', s)\n",
    "    # Deduplicate spaces\n",
    "    s = re.sub(r'\\s+', ' ', s)\n",
    "    # Replace all single spaces with an underscore\n",
    "    s = s.replace(' ', '_')\n",
    "    return s\n",
    "\n",
    "# Example usage:\n",
    "# model_summary = result.summary()\n",
    "# sig, non_sig = evaluate_pvalues(model_summary, threshold=0.05)\n",
    "# print(f\"P Values above threshold (ie non significant): {non_sig}\")"
   ]
  },
  {
   "cell_type": "code",
   "execution_count": 18,
   "id": "36f88f71",
   "metadata": {
    "ExecuteTime": {
     "end_time": "2025-03-15T04:07:56.316023Z",
     "start_time": "2025-03-15T04:07:56.281020Z"
    }
   },
   "outputs": [
    {
     "name": "stdout",
     "output_type": "stream",
     "text": [
      "Optimization terminated successfully.\n",
      "         Current function value: 0.545314\n",
      "         Iterations 6\n",
      "                           Logit Regression Results                           \n",
      "==============================================================================\n",
      "Dep. Variable:             had_affair   No. Observations:                 6366\n",
      "Model:                          Logit   Df Residuals:                     6357\n",
      "Method:                           MLE   Df Model:                            8\n",
      "Date:                Fri, 14 Mar 2025   Pseudo R-squ.:                  0.1327\n",
      "Time:                        21:07:56   Log-Likelihood:                -3471.5\n",
      "converged:                       True   LL-Null:                       -4002.5\n",
      "Covariance Type:            nonrobust   LLR p-value:                5.807e-224\n",
      "===================================================================================\n",
      "                      coef    std err          z      P>|z|      [0.025      0.975]\n",
      "-----------------------------------------------------------------------------------\n",
      "const               3.7257      0.299     12.470      0.000       3.140       4.311\n",
      "rate_marriage      -0.7161      0.031    -22.784      0.000      -0.778      -0.655\n",
      "age                -0.0605      0.010     -5.885      0.000      -0.081      -0.040\n",
      "yrs_married         0.1100      0.011     10.054      0.000       0.089       0.131\n",
      "children           -0.0042      0.032     -0.134      0.893      -0.066       0.058\n",
      "religious          -0.3752      0.035    -10.792      0.000      -0.443      -0.307\n",
      "educ               -0.0392      0.015     -2.533      0.011      -0.070      -0.009\n",
      "occupation          0.1602      0.034      4.717      0.000       0.094       0.227\n",
      "occupation_husb     0.0124      0.023      0.541      0.589      -0.033       0.057\n",
      "===================================================================================\n",
      "Variables to drop due to not being statistically significant: {'children': 0.893, 'occupation_husb': 0.589}\n",
      "Variables to keep; statistically significant: {'rate_marriage': 0.0, 'age': 0.0, 'yrs_married': 0.0, 'religious': 0.0, 'educ': 0.011, 'occupation': 0.0}\n"
     ]
    }
   ],
   "source": [
    "# Fit a Logistic Regression Model predicting had_affair\n",
    "\n",
    "# Define the predictor variables\n",
    "predictors = ['rate_marriage', 'age', 'yrs_married', 'children', 'religious', 'educ', 'occupation', 'occupation_husb']\n",
    "\n",
    "# Add a constant to the predictor variables (intercept)\n",
    "X = sm.add_constant(df_affairs[predictors])\n",
    "\n",
    "# Define the response variable\n",
    "y = df_affairs['had_affair']\n",
    "\n",
    "# Fit the logistic regression model\n",
    "logit_model = sm.Logit(y, X)\n",
    "logit_model_fit = logit_model.fit()\n",
    "\n",
    "print(logit_model_fit.summary())\n",
    "keep_variables, drop_variables = evaluate_pvalues(logit_model_fit.summary(), threshold=0.05)\n",
    "print(f\"Variables to drop due to not being statistically significant: {drop_variables}\")\n",
    "print(f\"Variables to keep; statistically significant: {keep_variables}\")"
   ]
  },
  {
   "cell_type": "code",
   "execution_count": 20,
   "id": "5b35e8b5",
   "metadata": {
    "ExecuteTime": {
     "end_time": "2025-03-15T04:15:42.177974Z",
     "start_time": "2025-03-15T04:15:42.130940Z"
    }
   },
   "outputs": [
    {
     "name": "stdout",
     "output_type": "stream",
     "text": [
      "Optimization terminated successfully.\n",
      "         Current function value: 0.548113\n",
      "         Iterations 6\n",
      "                           Logit Regression Results                           \n",
      "==============================================================================\n",
      "Dep. Variable:             had_affair   No. Observations:                 6366\n",
      "Model:                          Logit   Df Residuals:                     6359\n",
      "Method:                           MLE   Df Model:                            6\n",
      "Date:                Fri, 14 Mar 2025   Pseudo R-squ.:                  0.1282\n",
      "Time:                        21:15:42   Log-Likelihood:                -3489.3\n",
      "converged:                       True   LL-Null:                       -4002.5\n",
      "Covariance Type:            nonrobust   LLR p-value:                1.666e-218\n",
      "=================================================================================\n",
      "                    coef    std err          z      P>|z|      [0.025      0.975]\n",
      "---------------------------------------------------------------------------------\n",
      "const             2.7776      0.246     11.307      0.000       2.296       3.259\n",
      "rate_marriage    -0.7088      0.031    -22.658      0.000      -0.770      -0.647\n",
      "yrs_married       0.0574      0.006      9.342      0.000       0.045       0.069\n",
      "children          0.0038      0.031      0.120      0.904      -0.058       0.065\n",
      "religious        -0.3809      0.035    -10.988      0.000      -0.449      -0.313\n",
      "educ             -0.0593      0.015     -3.991      0.000      -0.088      -0.030\n",
      "occupation        0.1531      0.034      4.569      0.000       0.087       0.219\n",
      "=================================================================================\n",
      "Variables to drop due to not being statistically significant: {'children': 0.904}\n",
      "Variables to keep; statistically significant: {'rate_marriage': 0.0, 'yrs_married': 0.0, 'religious': 0.0, 'educ': 0.0, 'occupation': 0.0}\n"
     ]
    }
   ],
   "source": [
    "# Fit a Logistic Regression Model predicting had_affair\n",
    "# Since yrs_married and occupation have a higher correlation coeficient, we will keep\n",
    "# Removing age, occupation_husb due to Multicollinearity that make make the model worse\n",
    "# Define the predictor variables\n",
    "predictors = ['rate_marriage', 'yrs_married', 'children', 'religious', 'educ', 'occupation']\n",
    "\n",
    "# Add a constant to the predictor variables (intercept)\n",
    "X = sm.add_constant(df_affairs[predictors])\n",
    "\n",
    "# Define the response variable\n",
    "y = df_affairs['had_affair']\n",
    "\n",
    "# Fit the logistic regression model\n",
    "logit_model = sm.Logit(y, X)\n",
    "logit_model_fit = logit_model.fit()\n",
    "\n",
    "print(logit_model_fit.summary())\n",
    "keep_variables, drop_variables = evaluate_pvalues(logit_model_fit.summary(), threshold=0.05)\n",
    "print(f\"Variables to drop due to not being statistically significant: {drop_variables}\")\n",
    "print(f\"Variables to keep; statistically significant: {keep_variables}\")"
   ]
  },
  {
   "cell_type": "code",
   "execution_count": 35,
   "id": "a06c2e97",
   "metadata": {
    "ExecuteTime": {
     "end_time": "2025-03-15T04:48:50.906895Z",
     "start_time": "2025-03-15T04:48:50.884886Z"
    }
   },
   "outputs": [
    {
     "data": {
      "text/html": [
       "<div>\n",
       "<style scoped>\n",
       "    .dataframe tbody tr th:only-of-type {\n",
       "        vertical-align: middle;\n",
       "    }\n",
       "\n",
       "    .dataframe tbody tr th {\n",
       "        vertical-align: top;\n",
       "    }\n",
       "\n",
       "    .dataframe thead th {\n",
       "        text-align: right;\n",
       "    }\n",
       "</style>\n",
       "<table border=\"1\" class=\"dataframe\">\n",
       "  <thead>\n",
       "    <tr style=\"text-align: right;\">\n",
       "      <th></th>\n",
       "      <th>rate_marriage</th>\n",
       "      <th>yrs_married</th>\n",
       "      <th>religious</th>\n",
       "      <th>educ</th>\n",
       "      <th>occupation</th>\n",
       "    </tr>\n",
       "  </thead>\n",
       "  <tbody>\n",
       "    <tr>\n",
       "      <th>0</th>\n",
       "      <td>3.0</td>\n",
       "      <td>9.0</td>\n",
       "      <td>3.0</td>\n",
       "      <td>17.0</td>\n",
       "      <td>2.0</td>\n",
       "    </tr>\n",
       "    <tr>\n",
       "      <th>1</th>\n",
       "      <td>3.0</td>\n",
       "      <td>13.0</td>\n",
       "      <td>1.0</td>\n",
       "      <td>14.0</td>\n",
       "      <td>3.0</td>\n",
       "    </tr>\n",
       "    <tr>\n",
       "      <th>2</th>\n",
       "      <td>4.0</td>\n",
       "      <td>2.5</td>\n",
       "      <td>1.0</td>\n",
       "      <td>16.0</td>\n",
       "      <td>3.0</td>\n",
       "    </tr>\n",
       "    <tr>\n",
       "      <th>3</th>\n",
       "      <td>4.0</td>\n",
       "      <td>16.5</td>\n",
       "      <td>3.0</td>\n",
       "      <td>16.0</td>\n",
       "      <td>5.0</td>\n",
       "    </tr>\n",
       "    <tr>\n",
       "      <th>4</th>\n",
       "      <td>5.0</td>\n",
       "      <td>9.0</td>\n",
       "      <td>1.0</td>\n",
       "      <td>14.0</td>\n",
       "      <td>3.0</td>\n",
       "    </tr>\n",
       "    <tr>\n",
       "      <th>...</th>\n",
       "      <td>...</td>\n",
       "      <td>...</td>\n",
       "      <td>...</td>\n",
       "      <td>...</td>\n",
       "      <td>...</td>\n",
       "    </tr>\n",
       "    <tr>\n",
       "      <th>6361</th>\n",
       "      <td>5.0</td>\n",
       "      <td>13.0</td>\n",
       "      <td>3.0</td>\n",
       "      <td>17.0</td>\n",
       "      <td>4.0</td>\n",
       "    </tr>\n",
       "    <tr>\n",
       "      <th>6362</th>\n",
       "      <td>4.0</td>\n",
       "      <td>13.0</td>\n",
       "      <td>1.0</td>\n",
       "      <td>16.0</td>\n",
       "      <td>5.0</td>\n",
       "    </tr>\n",
       "    <tr>\n",
       "      <th>6363</th>\n",
       "      <td>5.0</td>\n",
       "      <td>2.5</td>\n",
       "      <td>2.0</td>\n",
       "      <td>14.0</td>\n",
       "      <td>3.0</td>\n",
       "    </tr>\n",
       "    <tr>\n",
       "      <th>6364</th>\n",
       "      <td>5.0</td>\n",
       "      <td>6.0</td>\n",
       "      <td>3.0</td>\n",
       "      <td>14.0</td>\n",
       "      <td>3.0</td>\n",
       "    </tr>\n",
       "    <tr>\n",
       "      <th>6365</th>\n",
       "      <td>4.0</td>\n",
       "      <td>2.5</td>\n",
       "      <td>2.0</td>\n",
       "      <td>16.0</td>\n",
       "      <td>2.0</td>\n",
       "    </tr>\n",
       "  </tbody>\n",
       "</table>\n",
       "<p>6366 rows × 5 columns</p>\n",
       "</div>"
      ],
      "text/plain": [
       "      rate_marriage  yrs_married  religious  educ  occupation\n",
       "0               3.0          9.0        3.0  17.0         2.0\n",
       "1               3.0         13.0        1.0  14.0         3.0\n",
       "2               4.0          2.5        1.0  16.0         3.0\n",
       "3               4.0         16.5        3.0  16.0         5.0\n",
       "4               5.0          9.0        1.0  14.0         3.0\n",
       "...             ...          ...        ...   ...         ...\n",
       "6361            5.0         13.0        3.0  17.0         4.0\n",
       "6362            4.0         13.0        1.0  16.0         5.0\n",
       "6363            5.0          2.5        2.0  14.0         3.0\n",
       "6364            5.0          6.0        3.0  14.0         3.0\n",
       "6365            4.0          2.5        2.0  16.0         2.0\n",
       "\n",
       "[6366 rows x 5 columns]"
      ]
     },
     "metadata": {},
     "output_type": "display_data"
    }
   ],
   "source": [
    "display(df_affairs[predictors])"
   ]
  },
  {
   "cell_type": "code",
   "execution_count": 41,
   "id": "3946d40f",
   "metadata": {
    "ExecuteTime": {
     "end_time": "2025-03-15T04:52:45.477340Z",
     "start_time": "2025-03-15T04:52:45.432525Z"
    }
   },
   "outputs": [
    {
     "name": "stdout",
     "output_type": "stream",
     "text": [
      "This is the \"Best\" model\n",
      "Shape of DF used in this model (6366, 5)\n",
      "Optimization terminated successfully.\n",
      "         Current function value: 0.548114\n",
      "         Iterations 6\n",
      "                           Logit Regression Results                           \n",
      "==============================================================================\n",
      "Dep. Variable:             had_affair   No. Observations:                 6366\n",
      "Model:                          Logit   Df Residuals:                     6360\n",
      "Method:                           MLE   Df Model:                            5\n",
      "Date:                Fri, 14 Mar 2025   Pseudo R-squ.:                  0.1282\n",
      "Time:                        21:52:45   Log-Likelihood:                -3489.3\n",
      "converged:                       True   LL-Null:                       -4002.5\n",
      "Covariance Type:            nonrobust   LLR p-value:                1.113e-219\n",
      "=================================================================================\n",
      "                    coef    std err          z      P>|z|      [0.025      0.975]\n",
      "---------------------------------------------------------------------------------\n",
      "const             2.7802      0.245     11.362      0.000       2.301       3.260\n",
      "rate_marriage    -0.7090      0.031    -22.686      0.000      -0.770      -0.648\n",
      "yrs_married       0.0579      0.004     14.225      0.000       0.050       0.066\n",
      "religious        -0.3806      0.035    -11.013      0.000      -0.448      -0.313\n",
      "educ             -0.0595      0.015     -4.010      0.000      -0.089      -0.030\n",
      "occupation        0.1530      0.033      4.568      0.000       0.087       0.219\n",
      "=================================================================================\n",
      "Variables to drop due to not being statistically significant: {}\n",
      "Variables to keep; statistically significant: {'rate_marriage': 0.0, 'yrs_married': 0.0, 'religious': 0.0, 'educ': 0.0, 'occupation': 0.0}\n"
     ]
    }
   ],
   "source": [
    "# Fit a Logistic Regression Model predicting had_affair\n",
    "# Removing children due to high P-Value. \n",
    "print('This is the \"Best\" model')\n",
    "\n",
    "# Define the predictor variables\n",
    "predictors = ['rate_marriage', 'yrs_married', 'religious', 'educ', 'occupation']\n",
    "\n",
    "# Add a constant to the predictor variables (intercept)\n",
    "X = sm.add_constant(df_affairs[predictors])\n",
    "print(f'Shape of DF used in this model {df_affairs[predictors].shape}')\n",
    "# Define the response variable\n",
    "y = df_affairs['had_affair']\n",
    "\n",
    "# Fit the logistic regression model\n",
    "best_affairs_logit_model = sm.Logit(y, X)\n",
    "best_affairs_logit_model_fit = best_affairs_logit_model.fit()\n",
    "\n",
    "print(best_affairs_logit_model_fit.summary())\n",
    "keep_variables, drop_variables = evaluate_pvalues(best_affairs_logit_model_fit.summary(), threshold=0.05)\n",
    "print(f\"Variables to drop due to not being statistically significant: {drop_variables}\")\n",
    "print(f\"Variables to keep; statistically significant: {keep_variables}\")"
   ]
  },
  {
   "cell_type": "code",
   "execution_count": 55,
   "id": "bbcf15a3",
   "metadata": {
    "ExecuteTime": {
     "end_time": "2025-03-15T05:11:04.209514Z",
     "start_time": "2025-03-15T05:11:04.180507Z"
    }
   },
   "outputs": [
    {
     "name": "stdout",
     "output_type": "stream",
     "text": [
      "Optimization terminated successfully.\n",
      "         Current function value: 0.550436\n",
      "         Iterations 6\n",
      "Training Accuracy: 0.7214991023339318\n",
      "Test Accuracy: 0.7209424083769633\n",
      "Training AUC: 0.7328437813088746\n",
      "Test AUC: 0.7579014976069167\n"
     ]
    }
   ],
   "source": [
    "from sklearn.metrics import accuracy_score, roc_auc_score\n",
    "# Make sure the model is not overfit\n",
    "\n",
    "predictors = ['rate_marriage', 'yrs_married', 'religious', 'educ', 'occupation']\n",
    "X = df_affairs[predictors]\n",
    "y = df_affairs['had_affair']\n",
    "\n",
    "# Split data into training and test sets\n",
    "X_train, X_test, y_train, y_test = train_test_split(X, y, test_size=0.3, random_state=42)\n",
    "\n",
    "# Add constant to training and test sets\n",
    "X_train = sm.add_constant(X_train)\n",
    "X_test = sm.add_constant(X_test)\n",
    "\n",
    "# Train the model\n",
    "best_affairs_logit_model = sm.Logit(y_train, X_train).fit()\n",
    "\n",
    "# Predictions\n",
    "y_train_pred = best_affairs_logit_model.predict(X_train)\n",
    "y_test_pred = best_affairs_logit_model.predict(X_test)\n",
    "\n",
    "# Convert probabilities to binary predictions (if needed)\n",
    "y_train_pred_binary = [1 if p >= 0.5 else 0 for p in y_train_pred]\n",
    "y_test_pred_binary = [1 if p >= 0.5 else 0 for p in y_test_pred]\n",
    "\n",
    "# Evaluate performance\n",
    "train_accuracy = accuracy_score(y_train, y_train_pred_binary)\n",
    "test_accuracy = accuracy_score(y_test, y_test_pred_binary)\n",
    "train_auc = roc_auc_score(y_train, y_train_pred)\n",
    "test_auc = roc_auc_score(y_test, y_test_pred)\n",
    "\n",
    "print(f\"Training Accuracy: {train_accuracy}\")\n",
    "print(f\"Test Accuracy: {test_accuracy}\")\n",
    "print(f\"Training AUC: {train_auc}\")\n",
    "print(f\"Test AUC: {test_auc}\")\n",
    "\n",
    "#compare train and test metrics."
   ]
  },
  {
   "cell_type": "markdown",
   "id": "7f4dc474",
   "metadata": {},
   "source": [
    "The \"Best Model\" (above) is:\n",
    " - exclude `age` and `occupation_husb` because the data is already represented in `yrs_married` and `occupation`<p>\n",
    " - exlude `educ` `children` and `occupation_husb` because they are not statistically significant<p>\n",
    "<p>\n",
    "The training accuracy (0.7215) and test accuracy (0.7209) are very close. This indicates that the model is performing similarly on both the training data and the unseen test data.<p>\n",
    "Similar AUC:<p>\n",
    "The training AUC (0.7328) and test AUC (0.7579) are also relatively close. In this case, the test AUC is slightly higher, which is a good sign. It means that the model generalizes well to unseen data.<p>\n",
    "Small Differences:<p>\n",
    "The differences between the training and test metrics are very small, which is a strong indication that the model is not overfitting."
   ]
  },
  {
   "cell_type": "markdown",
   "id": "4ef56a94-3aac-4bc6-9916-31171a349620",
   "metadata": {},
   "source": [
    "(d) Interpret question (c)'s model results."
   ]
  },
  {
   "cell_type": "markdown",
   "id": "644b617e",
   "metadata": {
    "ExecuteTime": {
     "end_time": "2025-03-13T03:26:51.359986Z",
     "start_time": "2025-03-13T03:26:51.344936Z"
    }
   },
   "source": [
    "<b>Answer:</b><p>\n",
    "By fitting the model and looking at the P-Values, we include only the following variables: <p>\n",
    "`'rate_marriage', 'yrs_married', 'religious', 'educ', 'occupation'` predicting `had_affair` and `affairs`.<p>\n",
    "The marriage rating has the highest negative correlation. For every 1 unit increase in marriage rating, the log odds of having an affair are reduced by .71<p>\n",
    "Occupation has the strongest positive correlation. For every one-unit increase in occupation (towards a higher skill level), the log-odds of having an affair increase by 0.1530."
   ]
  },
  {
   "cell_type": "markdown",
   "id": "0746f678-09d4-49f5-867b-3b996fe38f42",
   "metadata": {},
   "source": [
    "(e) Create an artificial test dataset where marital rating varies from 1 to 5 and all other variables are set to their means. Use it as a test dataset to obtain predicted \"affair\" based on question (c)'s best model for cases in the test data. Interpret your results and use a visualization to support your interpretation.\n",
    "\n",
    "Remember: if you notice any variables which do not make statistically significant impacts on the response variable based on the part (c) model summary, then remove them to retrieve the best model"
   ]
  },
  {
   "cell_type": "code",
   "execution_count": 46,
   "id": "bb3d7b0f-cb40-4bfe-ae7e-6b50346e9168",
   "metadata": {
    "ExecuteTime": {
     "end_time": "2025-03-15T04:56:44.944602Z",
     "start_time": "2025-03-15T04:56:44.930991Z"
    }
   },
   "outputs": [
    {
     "name": "stdout",
     "output_type": "stream",
     "text": [
      "Average (Mean) Values:\n"
     ]
    },
    {
     "data": {
      "text/html": [
       "<div>\n",
       "<style scoped>\n",
       "    .dataframe tbody tr th:only-of-type {\n",
       "        vertical-align: middle;\n",
       "    }\n",
       "\n",
       "    .dataframe tbody tr th {\n",
       "        vertical-align: top;\n",
       "    }\n",
       "\n",
       "    .dataframe thead th {\n",
       "        text-align: right;\n",
       "    }\n",
       "</style>\n",
       "<table border=\"1\" class=\"dataframe\">\n",
       "  <thead>\n",
       "    <tr style=\"text-align: right;\">\n",
       "      <th></th>\n",
       "      <th>rate_marriage</th>\n",
       "      <th>yrs_married</th>\n",
       "      <th>religious</th>\n",
       "      <th>educ</th>\n",
       "      <th>occupation</th>\n",
       "    </tr>\n",
       "  </thead>\n",
       "  <tbody>\n",
       "    <tr>\n",
       "      <th>0</th>\n",
       "      <td>1.0</td>\n",
       "      <td>13.914141</td>\n",
       "      <td>2.343434</td>\n",
       "      <td>13.848485</td>\n",
       "      <td>3.232323</td>\n",
       "    </tr>\n",
       "    <tr>\n",
       "      <th>1</th>\n",
       "      <td>2.0</td>\n",
       "      <td>10.727011</td>\n",
       "      <td>2.330460</td>\n",
       "      <td>13.864943</td>\n",
       "      <td>3.327586</td>\n",
       "    </tr>\n",
       "    <tr>\n",
       "      <th>2</th>\n",
       "      <td>3.0</td>\n",
       "      <td>10.239174</td>\n",
       "      <td>2.308157</td>\n",
       "      <td>14.001007</td>\n",
       "      <td>3.402820</td>\n",
       "    </tr>\n",
       "    <tr>\n",
       "      <th>3</th>\n",
       "      <td>4.0</td>\n",
       "      <td>8.816905</td>\n",
       "      <td>2.400981</td>\n",
       "      <td>14.144514</td>\n",
       "      <td>3.420161</td>\n",
       "    </tr>\n",
       "    <tr>\n",
       "      <th>4</th>\n",
       "      <td>5.0</td>\n",
       "      <td>8.311662</td>\n",
       "      <td>2.506334</td>\n",
       "      <td>14.399776</td>\n",
       "      <td>3.454918</td>\n",
       "    </tr>\n",
       "  </tbody>\n",
       "</table>\n",
       "</div>"
      ],
      "text/plain": [
       "   rate_marriage  yrs_married  religious       educ  occupation\n",
       "0            1.0    13.914141   2.343434  13.848485    3.232323\n",
       "1            2.0    10.727011   2.330460  13.864943    3.327586\n",
       "2            3.0    10.239174   2.308157  14.001007    3.402820\n",
       "3            4.0     8.816905   2.400981  14.144514    3.420161\n",
       "4            5.0     8.311662   2.506334  14.399776    3.454918"
      ]
     },
     "metadata": {},
     "output_type": "display_data"
    }
   ],
   "source": [
    "# Create a new DF with average values for all vars except the affairs columns\n",
    "variables_to_mean = ['yrs_married', 'religious', 'educ', 'occupation']\n",
    "# Create a new DF\n",
    "df_affairs_means = df_affairs[variables_to_mean].copy()\n",
    "\n",
    "# Create a single DF with one row per column of means\n",
    "df_affairs_means = df_affairs.groupby('rate_marriage')[variables_to_mean].mean().reset_index()\n",
    "print(\"Average (Mean) Values:\")\n",
    "display(df_affairs_means)"
   ]
  },
  {
   "cell_type": "code",
   "execution_count": 48,
   "id": "e44ded7f",
   "metadata": {
    "ExecuteTime": {
     "end_time": "2025-03-15T04:56:51.874622Z",
     "start_time": "2025-03-15T04:56:51.862336Z"
    }
   },
   "outputs": [
    {
     "data": {
      "text/plain": [
       "0    0.839730\n",
       "1    0.685942\n",
       "2    0.513973\n",
       "3    0.315047\n",
       "4    0.172958\n",
       "dtype: float64"
      ]
     },
     "metadata": {},
     "output_type": "display_data"
    }
   ],
   "source": [
    "df_affairs_means = sm.add_constant(df_affairs_means)\n",
    "y_pred_had_affair = best_affairs_logit_model_fit.predict(df_affairs_means)\n",
    "display(y_pred_had_affair)"
   ]
  },
  {
   "cell_type": "code",
   "execution_count": 64,
   "id": "0c83b79b",
   "metadata": {
    "ExecuteTime": {
     "end_time": "2025-03-15T05:24:18.235578Z",
     "start_time": "2025-03-15T05:24:18.129052Z"
    }
   },
   "outputs": [
    {
     "data": {
      "image/png": "[encoded data removed]",
      "text/plain": [
       "<Figure size 1000x600 with 1 Axes>"
      ]
     },
     "metadata": {},
     "output_type": "display_data"
    }
   ],
   "source": [
    "plot_mean_df = pd.DataFrame({'rate_marriage': df_affairs_means['rate_marriage'], 'predicted_y': y_pred_had_affair})\n",
    "real_data_means = df_affairs.groupby('rate_marriage')['had_affair'].mean().reset_index()\n",
    "\n",
    "# Plot both in the same chart\n",
    "plt.figure(figsize=(10, 6))\n",
    "\n",
    "plt.plot(plot_mean_df['rate_marriage'], plot_mean_df['predicted_y'], marker='o', label='Predicted Probability (Faked/Mean Data)')\n",
    "plt.plot(real_data_means['rate_marriage'], real_data_means['had_affair'], marker='o', color='red', label='Mean Affair Rate (Real Data)')\n",
    "\n",
    "plt.title('Rate Marriage vs. Affair Rate/Probability')\n",
    "plt.xlabel('Rate Marriage')\n",
    "plt.ylabel('Affair Rate/Probability')\n",
    "plt.xticks(real_data_means['rate_marriage'])\n",
    "plt.grid(True)\n",
    "plt.ylim(0, 1)\n",
    "plt.legend()  # Add legend to distinguish the lines\n",
    "plt.show()"
   ]
  },
  {
   "cell_type": "markdown",
   "id": "c6b2d3cb",
   "metadata": {},
   "source": [
    "This clearly shows us as the Marriage Rating goes up, the probability of an affair goes down. This data is fairly consistent with the real data, with small variances. Overall the model looks good."
   ]
  },
  {
   "cell_type": "markdown",
   "id": "79aab460-971c-4836-805b-8b0d3ba1e26a",
   "metadata": {},
   "source": [
    "(f) Use a stepwise selection procedure (forward selection or backward elimination) to obtain a \"best\" regression model between this response variable - affairs (measure of time spent in extramarital affairs) and other characteristics. Is the \"best\" model different from the best model you got from question (c)? Which variables are included in this question's \"best\" fit model?"
   ]
  },
  {
   "cell_type": "markdown",
   "id": "d545633a",
   "metadata": {},
   "source": [
    "<b>Answer:</b><p>\n",
    "<b>Going back to the real data set without the means (as per Prof Sophin)</b><p>\n",
    "Switching to an Ordinary Least Squares Model (OLS) because our value to predict is continuous.<p>\n",
    "When using stepwise selection, we can reject any variable whose p-value is above .05. Also, when adding a variable in, if it increases the Adjusted R-squared value, we know it is improving the regression fit."
   ]
  },
  {
   "cell_type": "code",
   "execution_count": 53,
   "id": "f75134f5-6187-403c-bfa9-fe239b4970ba",
   "metadata": {
    "ExecuteTime": {
     "end_time": "2025-03-15T05:06:21.794232Z",
     "start_time": "2025-03-15T05:06:21.747745Z"
    },
    "scrolled": false
   },
   "outputs": [
    {
     "name": "stdout",
     "output_type": "stream",
     "text": [
      "Trying ['rate_marriage'] with OLS with Categorical converted to numbers\n",
      "AIC: 27921.949887\n",
      "**better AIC\n",
      "==================================================\n",
      "Trying ['rate_marriage', 'yrs_married'] with OLS with Categorical converted to numbers\n",
      "AIC: 27841.481975\n",
      "**better AIC\n",
      "==================================================\n",
      "Trying ['rate_marriage', 'yrs_married', 'religious'] with OLS with Categorical converted to numbers\n",
      "AIC: 27780.323675\n",
      "**better AIC\n",
      "==================================================\n",
      "Trying ['rate_marriage', 'yrs_married', 'religious', 'educ'] with OLS with Categorical converted to numbers\n",
      "AIC: 27781.544210\n",
      "==================================================\n",
      "Trying ['rate_marriage', 'yrs_married', 'religious', 'educ', 'occupation'] with OLS with Categorical converted to numbers\n",
      "AIC: 27779.158287\n",
      "**better AIC\n",
      "==================================================\n"
     ]
    }
   ],
   "source": [
    "# Going back to the regular data set\n",
    "# This will figure out what combination of predictors are best\n",
    "predictors = ['rate_marriage', 'age', 'yrs_married', 'religious', 'educ', 'occupation', 'occupation_husb']\n",
    "# Taking out age results in the same best AIC\n",
    "# predictors = ['rate_marriage', 'yrs_married', 'religious', 'educ', 'occupation']\n",
    "y = affairs['affairs']\n",
    "\n",
    "# Set a minimum number for this tracking variable\n",
    "highest_adj_r = -999.99\n",
    "lowest_aic = 99999\n",
    "for i in range(1, len(predictors) + 1):\n",
    "    print(f\"Trying {predictors[:i]} with OLS with Categorical converted to numbers\")\n",
    "    X = sm.add_constant(affairs[predictors[:i]])\n",
    "    model = sm.OLS(y, X)\n",
    "    result = model.fit(maxiter=1000)\n",
    "    aic = result.aic\n",
    "    print(f'AIC: {aic:.6f}')\n",
    "    # print(result.summary())\n",
    "    p_values = result.pvalues.round(8)\n",
    "    adj_r_squared = result.rsquared_adj\n",
    "    # print(f'Adjusted R-Squared: {adj_r_squared:.6f}')\n",
    "    if adj_r_squared > highest_adj_r:\n",
    "        # print(\"*better adjusted r squared\")\n",
    "        highest_adj_r = adj_r_squared\n",
    "    if aic < lowest_aic:\n",
    "        print(\"**better AIC\")\n",
    "        lowest_aic = aic\n",
    "    good_p_values = p_values[p_values <= .05]\n",
    "    # print('P-Values:')\n",
    "    # print(good_p_values.to_string())\n",
    "    print('='*50)"
   ]
  },
  {
   "cell_type": "markdown",
   "id": "23b2aaa1",
   "metadata": {},
   "source": [
    "<b>Answer:</b><p>\n",
    "We can't use the Logistic Regression model from Answer 1e because now we are predicting continuous values. In this case we use Ordinary Least Squares.<p>\n",
    "As you can see from above, with each addition of a new variable, the AIC Decreases until `['rate_marriage', 'age', 'yrs_married', 'religious', 'educ', 'occupation']` which should be the best combination to use.<p>\n",
    "It is not exactly the same as the first best fit model, in that we have included `age` and `years_married`, but if we took out age, it would be the same model and without age, the same variables end up with the lowest AIC.<p>\n",
    "<b>The following is the best fit model after stepwise selection:</b>"
   ]
  },
  {
   "cell_type": "code",
   "execution_count": 52,
   "id": "b5337ad0",
   "metadata": {
    "ExecuteTime": {
     "end_time": "2025-03-15T05:02:46.584190Z",
     "start_time": "2025-03-15T05:02:46.550563Z"
    }
   },
   "outputs": [
    {
     "name": "stdout",
     "output_type": "stream",
     "text": [
      "Trying ['rate_marriage', 'age', 'yrs_married', 'religious', 'educ', 'occupation'] with OLS with Categorical converted to numbers\n",
      "                            OLS Regression Results                            \n",
      "==============================================================================\n",
      "Dep. Variable:                affairs   R-squared:                       0.055\n",
      "Model:                            OLS   Adj. R-squared:                  0.054\n",
      "Method:                 Least Squares   F-statistic:                     61.37\n",
      "Date:                Fri, 14 Mar 2025   Prob (F-statistic):           2.84e-74\n",
      "Time:                        22:02:46   Log-Likelihood:                -13882.\n",
      "No. Observations:                6366   AIC:                         2.778e+04\n",
      "Df Residuals:                    6359   BIC:                         2.783e+04\n",
      "Df Model:                           6                                         \n",
      "Covariance Type:            nonrobust                                         \n",
      "=================================================================================\n",
      "                    coef    std err          t      P>|t|      [0.025      0.975]\n",
      "---------------------------------------------------------------------------------\n",
      "const             3.6145      0.264     13.714      0.000       3.098       4.131\n",
      "rate_marriage    -0.4196      0.028    -14.786      0.000      -0.475      -0.364\n",
      "age              -0.0143      0.009     -1.563      0.118      -0.032       0.004\n",
      "yrs_married      -0.0187      0.009     -2.158      0.031      -0.036      -0.002\n",
      "religious        -0.2452      0.031     -7.899      0.000      -0.306      -0.184\n",
      "educ             -0.0166      0.014     -1.196      0.232      -0.044       0.011\n",
      "occupation        0.0673      0.031      2.169      0.030       0.006       0.128\n",
      "==============================================================================\n",
      "Omnibus:                     9378.450   Durbin-Watson:                   1.600\n",
      "Prob(Omnibus):                  0.000   Jarque-Bera (JB):          5173965.809\n",
      "Skew:                           8.802   Prob(JB):                         0.00\n",
      "Kurtosis:                     141.550   Cond. No.                         344.\n",
      "==============================================================================\n",
      "\n",
      "Notes:\n",
      "[1] Standard Errors assume that the covariance matrix of the errors is correctly specified.\n"
     ]
    }
   ],
   "source": [
    "# Going back to the regular data set\n",
    "# This will figure out what combination of predictors are best\n",
    "predictors = ['rate_marriage', 'age', 'yrs_married', 'religious', 'educ', 'occupation']\n",
    "y = affairs['affairs']\n",
    "\n",
    "print(f\"Trying {predictors[:i]} with OLS with Categorical converted to numbers\")\n",
    "X = sm.add_constant(affairs[predictors[:i]])\n",
    "model = sm.OLS(y, X)\n",
    "result = model.fit(maxiter=1000)\n",
    "print(result.summary())"
   ]
  },
  {
   "cell_type": "markdown",
   "id": "6828d45c-e36a-43f7-ba1a-5a703cdc4139",
   "metadata": {},
   "source": [
    "(g) Reflect on your analysis in this problem. After completing all the parts of this analysis what remaining and additional ethical and privacy conerns do you have?"
   ]
  },
  {
   "cell_type": "markdown",
   "id": "28c963e6",
   "metadata": {},
   "source": [
    "<b>Answer:</b><p>\n",
    "Stepwise Selection ended up with the same \"best model\" as the P-Value threshold. The model is not significantly overfit."
   ]
  },
  {
   "cell_type": "markdown",
   "id": "75b30d61",
   "metadata": {
    "ExecuteTime": {
     "end_time": "2025-03-15T04:05:44.951938Z",
     "start_time": "2025-03-15T04:05:44.951938Z"
    }
   },
   "source": [
    "<b>Eithical and Privacy Concerns</b><p>\n",
    "There are obviousl ethical and privacy concerns with this data set. Was proper consent obtained from the participants? Did they know their data would be used publicly? Privacy laws have changed significantly since 1978. What was considered acceptable then may not be acceptable now.<p>\n",
    "The publication of research on sensitive topics like extramarital affairs can have broader social implications. It's important to consider the potential for misuse of the data or misinterpretation of the findings."
   ]
  },
  {
   "cell_type": "markdown",
   "id": "c949f813-dba1-4e49-99a3-2eefa8564cd7",
   "metadata": {},
   "source": [
    "### Problem 2\n",
    "\n",
    "Points: 20\n",
    "\n",
    "In this problem set, we will use some data from a sports context. The data is provided as part of the [Introduction to Statistial Learning with Applications in Python](https://www.statlearning.com/) textbook. It was taken from the StatLib library which is maintained at Carnegie Mellon University. The data provided is part of the data that was used in the 1988 ASA Graphics Section Poster Session. The salary data were originally from Sports Illustrated, April 20, 1987. The 1986 and career statistics were obtained from The 1987 Baseball Encyclopedia Update published by Collier Books, Macmillan Publishing Company, New York.\n",
    "\n",
    "Following the directions below to load this data, `Hitters` directly from the `ISLP` python package. You may need to install the `ISLP` package before you can get started. In the Jupyter Hub you can open a terminal and use `pip install ISLP`. Next load the data as follows:"
   ]
  },
  {
   "cell_type": "code",
   "execution_count": null,
   "id": "3ca81658-a0a7-4f35-a267-ceced2de6172",
   "metadata": {
    "ExecuteTime": {
     "end_time": "2025-03-15T04:05:44.951938Z",
     "start_time": "2025-03-15T04:05:44.951938Z"
    }
   },
   "outputs": [],
   "source": [
    "try:\n",
    "    from ISLP import load_data\n",
    "    Hitters = load_data('Hitters')\n",
    "except:\n",
    "    print(\"This package is old and cannot be installed on Windows, data copied from Github instead\")\n",
    "    Hitters = pd.read_csv('Hitters.csv')\n",
    "    \n",
    "Hitters.head()\n",
    "print(Hitters.shape)"
   ]
  },
  {
   "attachments": {
    "image.png": {
     "image/png": "[encoded data removed]"
    }
   },
   "cell_type": "markdown",
   "id": "3c628bcd",
   "metadata": {},
   "source": [
    "<b>Note:</b><p>\n",
    "Cannot install ISLP; I tried for hours. There is an issue with versions and Cargo and Rust, which are massive platforms. The CSV files are quite small and readily available on Github.\n",
    "![image.png](attachment:image.png)"
   ]
  },
  {
   "cell_type": "markdown",
   "id": "8b2c5dc7",
   "metadata": {
    "ExecuteTime": {
     "end_time": "2025-03-11T03:25:31.544440Z",
     "start_time": "2025-03-11T03:25:31.532445Z"
    }
   },
   "source": [
    "<b>Answer:</b><p>\n",
    "Major League Baseball Data from the 1986 and 1987 seasons.\n",
    "- `AtBat`: Number of times at bat in 1986\n",
    "- `Hits`: Number of hits in 1986\n",
    "- `HmRun`: Number of home runs in 1986\n",
    "- `Runs`: Number of runs in 1986\n",
    "- `RBI`: Number of runs batted in in 1986\n",
    "- `Walks`: Number of walks in 1986\n",
    "- `Years`: Number of years in the major leagues\n",
    "- `CAtBat`: Number of times at bat during his career\n",
    "- `CHits`: Number of hits during his career\n",
    "- `CHmRun`: Number of home runs during his career\n",
    "- `CRuns`: Number of runs during his career\n",
    "- `CRBI`: Number of runs batted in during his career\n",
    "- `CWalks`: Number of walks during his career\n",
    "- `League`: A factor with levels A and N indicating player’s league at the end of 1986\n",
    "- `Division`: A factor with levels E and W indicating player’s division at the end of 1986\n",
    "- `PutOuts`: Number of put outs in 1986\n",
    "- `Assists`: Number of assists in 1986\n",
    "- `Errors`: Number of errors in 1986\n",
    "- `Salary`: 1987 annual salary on opening day in thousands of dollars\n",
    "- `NewLeague`: A factor with levels A and N indicating player’s league at the beginning of 1987<p>\n",
    "The salary data were originally from Sports Illustrated, April 20, 1987."
   ]
  },
  {
   "cell_type": "markdown",
   "id": "5fb9e0f6-2ce4-4a4e-b3e3-e022ef5b351d",
   "metadata": {},
   "source": [
    "(a) Develop your own question to address in this analysis. Your question should be specific and measurable, and it should be able to be addressed through a basic analysis of the `Hitters` dataset. Hint: you will need to get to know this dataset and the variables available to formulate an appropriate question."
   ]
  },
  {
   "cell_type": "code",
   "execution_count": null,
   "id": "10d99264",
   "metadata": {
    "ExecuteTime": {
     "end_time": "2025-03-15T04:05:44.952939Z",
     "start_time": "2025-03-15T04:05:44.952939Z"
    }
   },
   "outputs": [],
   "source": [
    "# Basic descriptive analysis\n",
    "display(Hitters.isna().sum())\n",
    "print(Hitters.shape)\n",
    "Hitters.describe()"
   ]
  },
  {
   "cell_type": "markdown",
   "id": "62a5a662",
   "metadata": {
    "ExecuteTime": {
     "end_time": "2025-03-11T03:17:50.883436Z",
     "start_time": "2025-03-11T03:17:50.876626Z"
    }
   },
   "source": [
    "<b>Question:</b> Are Home Runs a predictor of overall Runs? Ie Does the player who hits more home runs, also make it to home plate when other players are batting? Or possibly, are they a poor runner and the two variables would be negatively correlated. Will do this for 1986 only (not career). "
   ]
  },
  {
   "cell_type": "markdown",
   "id": "7513d51e-1fee-479b-8272-a8d7a7590d5b",
   "metadata": {},
   "source": [
    "(b) Briefly summarize the dataset, describing what data exists and its basic properties. Comment on any issues that need to be resolved before you can proceed with your analysis. \n"
   ]
  },
  {
   "cell_type": "markdown",
   "id": "14db16bf",
   "metadata": {},
   "source": [
    "The data consists of mostly data from the 1986 season, with some information on 1987 and most 1986 statistics are accompanied by career statistics. The data is mostly clean except for Salary information which has about 20% of the data missing: my original question was, \"Does Salary predict Runs or Home Runs?\", but I don't think it's appropriate with this dataset.<p>\n",
    "For ease of processing, I will create a new column that subtracts out Home Runs from Runs, which will equal the player's runs attributed to non-Home Runs."
   ]
  },
  {
   "cell_type": "markdown",
   "id": "b2973fbb-f497-44dd-8dee-e531df4075c2",
   "metadata": {},
   "source": [
    "(c) Use the dataset to provide empirical evidence that addressed your question from (a). Discuss your results. Provide **at least two visualizations** to support your story. "
   ]
  },
  {
   "cell_type": "code",
   "execution_count": null,
   "id": "465c2787",
   "metadata": {
    "ExecuteTime": {
     "end_time": "2025-03-15T04:05:44.953939Z",
     "start_time": "2025-03-15T04:05:44.953939Z"
    }
   },
   "outputs": [],
   "source": [
    "# Prepare the dataframe by creating a new column which has Runs not attributed to Home Runs\n",
    "Hitters['nonHRRuns'] = Hitters['Runs'] - Hitters['HmRun']\n",
    "# Prepare the dataframe by converting NaN to 0\n",
    "Hitters.fillna(0, inplace=True)\n",
    "display(Hitters)"
   ]
  },
  {
   "cell_type": "markdown",
   "id": "b4ae7b41",
   "metadata": {},
   "source": [
    "<b>Answer:</b><p>\n",
    "Simple assumption is made that Non Home Run Runs (nonHRRuns) are more predictive than Total Runs (Runs). Let's validate."
   ]
  },
  {
   "cell_type": "code",
   "execution_count": null,
   "id": "9e32774b",
   "metadata": {
    "ExecuteTime": {
     "end_time": "2025-03-15T04:05:44.954940Z",
     "start_time": "2025-03-15T04:05:44.954940Z"
    }
   },
   "outputs": [],
   "source": [
    "fig, axes = plt.subplots(2, 1, figsize=(15, 14))\n",
    "axes = axes.flatten()\n",
    "# Filter out Runs, because it is just a proxy for nonHRRuns, filter out text data\n",
    "predictors = ['AtBat', 'Hits']\n",
    "y_vals = ['nonHRRuns', 'Runs']\n",
    "for i, col in enumerate(predictors):\n",
    "    for y_val in y_vals:\n",
    "        # Create a scatter plot with a regression line\n",
    "        sns.regplot(x=col, y=y_val, data=Hitters, ax=axes[i], scatter_kws={'s': 10}, label=y_val) #scatter_kws to make points smaller.\n",
    "        axes[i].set_xlabel(col)\n",
    "        axes[i].set_ylabel(f\"Qty of Runs (both HR and regular)\")\n",
    "        axes[i].set_title(f\"{y_val} vs. {col}\")\n",
    "        axes[i].grid(True)\n",
    "    axes[i].legend()\n",
    "plt.tight_layout()\n",
    "plt.show()"
   ]
  },
  {
   "cell_type": "code",
   "execution_count": null,
   "id": "534e8e6f",
   "metadata": {
    "ExecuteTime": {
     "end_time": "2025-03-15T04:05:44.955939Z",
     "start_time": "2025-03-15T04:05:44.955939Z"
    }
   },
   "outputs": [],
   "source": [
    "fig, axes = plt.subplots(2, 2, figsize=(15, 14))\n",
    "axes = axes.flatten()\n",
    "# Filter out Runs, because it is just a proxy for nonHRRuns, filter out text data\n",
    "predictors = ['AtBat', 'Hits']\n",
    "y_vals = ['nonHRRuns', 'Runs']\n",
    "i = 0\n",
    "for col in predictors:\n",
    "    for y_val in y_vals:\n",
    "        # Create a scatter plot with a regression line\n",
    "        if y_val == 'nonHRRuns':\n",
    "            color = 'blue'\n",
    "        else:\n",
    "            color = 'orange'\n",
    "        sns.regplot(x=col, y=y_val, data=Hitters, ax=axes[i], scatter_kws={'s': 10}, color=color) #scatter_kws to make points smaller.\n",
    "        axes[i].set_xlabel(col)\n",
    "        axes[i].set_ylabel(f\"Qty of {y_val}\")\n",
    "        axes[i].set_title(f\"{y_val} vs. {col}\")\n",
    "        axes[i].grid(True)\n",
    "        i += 1\n",
    "plt.tight_layout()\n",
    "plt.show()"
   ]
  },
  {
   "cell_type": "markdown",
   "id": "4932ffe2",
   "metadata": {},
   "source": [
    "<b>Answer:</b><p>\n",
    "Runs have a few more extreme outliers, but both seem to correlate similarly to the prediction variables."
   ]
  },
  {
   "cell_type": "code",
   "execution_count": null,
   "id": "d4feb86d",
   "metadata": {
    "ExecuteTime": {
     "end_time": "2025-03-15T04:05:44.956939Z",
     "start_time": "2025-03-15T04:05:44.956939Z"
    }
   },
   "outputs": [],
   "source": [
    "# Visualize a regression fit for all the variables to validate if there are better predictors than HR\n",
    "fig, axes = plt.subplots(6, 3, figsize=(15, 14))\n",
    "axes = axes.flatten()\n",
    "# Filter out Runs, because it is just a proxy for nonHRRuns, filter out text data\n",
    "predictors = [x for x in Hitters.columns if x not in ['nonHRRuns', 'Runs', 'League', 'Division', 'NewLeague']]\n",
    "for i, col in enumerate(predictors):\n",
    "    # Create a scatter plot with a regression line\n",
    "    sns.regplot(x=col, y='nonHRRuns', data=Hitters, ax=axes[i], scatter_kws={'s': 10}) #scatter_kws to make points smaller.\n",
    "    axes[i].set_xlabel(col)\n",
    "    axes[i].set_ylabel(\"Qty of Non HR Runs\")\n",
    "    axes[i].set_title(f\"Non HR Runs vs. {col}\")\n",
    "    axes[i].grid(True)\n",
    "plt.tight_layout()\n",
    "plt.show()"
   ]
  },
  {
   "cell_type": "markdown",
   "id": "0a9bb117",
   "metadata": {},
   "source": [
    "<b>Answer:</b><p>\n",
    "At Bats and Hits actually seem like a better predictor based on the data. So let's look at all of them together in a model."
   ]
  },
  {
   "cell_type": "code",
   "execution_count": null,
   "id": "02486531-71f7-4628-96a3-c5bf4cfe00dc",
   "metadata": {
    "ExecuteTime": {
     "end_time": "2025-03-15T04:05:44.957940Z",
     "start_time": "2025-03-15T04:05:44.957940Z"
    }
   },
   "outputs": [],
   "source": [
    "# Run a Ordinary Least Squares model and fit\n",
    "predictors = ['AtBat', 'Hits', 'HmRun']\n",
    "X = sm.add_constant(Hitters[predictors])\n",
    "y = Hitters['nonHRRuns']\n",
    "model = sm.OLS(y, X)\n",
    "result = model.fit(maxiter=1000)\n",
    "print(result.summary())\n",
    "\n",
    "sig, non_sig = evaluate_pvalues(result.summary(), threshold=.05)\n",
    "print(f\"Variables that are significant {sig}\")"
   ]
  },
  {
   "cell_type": "markdown",
   "id": "ac4d5c40",
   "metadata": {},
   "source": [
    "<b>Answer:</b><p>\n",
    "All three variables are statistically significant, so we can keep them.<p>\n",
    "What we do find, as I expected, is that the more home runs you hit, the fewer non HomeRun Runs you score. It seems paradoxical that the number is more correlated negatively, than the positive correlation between Hits and Non HomeRun Runs. There is likely some other factor at play, like the fitness of the players, possibly their speed (or lack of) running the bases."
   ]
  },
  {
   "cell_type": "markdown",
   "id": "d5fa6736-b924-4575-8508-587a5a35fbfe",
   "metadata": {},
   "source": [
    "(d) Comment the questions (and answers) in this analysis.  Were you able to answer all of these questions?  Are all questions well defined?  Is the data good enough to answer all these?"
   ]
  },
  {
   "cell_type": "markdown",
   "id": "08cf96b5",
   "metadata": {},
   "source": [
    "<b>Answer:</b><p>\n",
    "I believe I was able to answer all of my questions. My original question was possibly not as well defined as it could be, but once I visualized all of the variables together, I was able to augment with a good result."
   ]
  },
  {
   "cell_type": "markdown",
   "id": "ca0c70fe-72fc-4a71-ac86-abe40445075c",
   "metadata": {},
   "source": [
    "### Problem 3\n",
    "\n",
    "Points: 20\n",
    "\n",
    "In this problem, we will use the 'sales' dataset. \n",
    "\n",
    "The dataset describes over 900 territories' car sales and cost:\n",
    "- territory_id: ID of the territory\n",
    "- product: car brand\n",
    "- sales: the unique territory's car sales voume\n",
    "- cost: the unique territory's car costs, inccluding shipping, marketing and customer support. \n",
    "\n",
    "In our analysis, we will be interested in the relationship between `sales` and `costs`.\n",
    "\n",
    "(a) Use exploratory techniques to summarize the variables in the datasets (at least 2 visualizations)\n"
   ]
  },
  {
   "cell_type": "code",
   "execution_count": null,
   "id": "ce993f6d-adac-4db3-b4a0-86f75b0b49b2",
   "metadata": {
    "ExecuteTime": {
     "end_time": "2025-03-15T04:05:44.957940Z",
     "start_time": "2025-03-15T04:05:44.957940Z"
    },
    "init_cell": true
   },
   "outputs": [],
   "source": [
    "sales = pd.read_csv('sales.csv')\n",
    "print(sales.shape)\n",
    "sales.head()"
   ]
  },
  {
   "cell_type": "code",
   "execution_count": null,
   "id": "7f40610f",
   "metadata": {
    "ExecuteTime": {
     "end_time": "2025-03-15T04:05:44.958938Z",
     "start_time": "2025-03-15T04:05:44.958938Z"
    }
   },
   "outputs": [],
   "source": [
    "sales.describe()"
   ]
  },
  {
   "cell_type": "code",
   "execution_count": null,
   "id": "37007e3c",
   "metadata": {
    "ExecuteTime": {
     "end_time": "2025-03-15T04:05:44.959939Z",
     "start_time": "2025-03-15T04:05:44.959939Z"
    }
   },
   "outputs": [],
   "source": [
    "# Basic Sales and Cost by product\n",
    "# Create subplots side by side\n",
    "df_car_brand_totals = sales.groupby('product')[['sales', 'cost']].sum().reset_index()\n",
    "fig, axes = plt.subplots(1, 2, figsize=(14, 6))  # 1 row, 2 columns\n",
    "\n",
    "# Sales Chart (Volume)\n",
    "sales_plot = sns.barplot(x='product', y='sales', data=df_car_brand_totals, ax=axes[0], palette={'Bentley': 'blue', 'Tesla': 'purple'}, hue='product')\n",
    "axes[0].set_title('Total Sales Volume by Product')\n",
    "axes[0].set_xlabel('Product')\n",
    "axes[0].set_ylabel('Sales Volume')\n",
    "\n",
    "# Add numbers inside each bar\n",
    "for p in sales_plot.patches:\n",
    "    sales_plot.annotate(format(p.get_height(), ',.0f'),\n",
    "                        (p.get_x() + p.get_width() / 2., p.get_height() / 2.),\n",
    "                        ha='center', va='center',\n",
    "                        color='white', fontsize=12, fontweight='bold')\n",
    "\n",
    "# Format y-axis with commas\n",
    "axes[0].yaxis.set_major_formatter(ticker.FuncFormatter(lambda x, p: \"{:,}\".format(int(x))))\n",
    "\n",
    "# Cost Chart (Dollars)\n",
    "cost_plot = sns.barplot(x='product', y='cost', data=df_car_brand_totals, ax=axes[1], palette={'Bentley': 'blue', 'Tesla': 'purple'}, hue='product')\n",
    "axes[1].set_title('Total Cost by Product')\n",
    "axes[1].set_xlabel('Product')\n",
    "axes[1].set_ylabel('Cost (Dollars)')\n",
    "\n",
    "# Add numbers inside each bar\n",
    "for p in cost_plot.patches:\n",
    "    cost_plot.annotate(format(p.get_height(), ',.0f'),\n",
    "                       (p.get_x() + p.get_width() / 2., p.get_height() / 2.),\n",
    "                       ha='center', va='center',\n",
    "                       color='white', fontsize=12, fontweight='bold')\n",
    "\n",
    "# Format y-axis with commas\n",
    "axes[1].yaxis.set_major_formatter(ticker.FuncFormatter(lambda x, p: \"{:,}\".format(int(x))))\n",
    "\n",
    "# Add legend\n",
    "handles, labels = axes[0].get_legend_handles_labels()\n",
    "fig.legend(handles, labels, loc='upper center', ncol=2)\n",
    "\n",
    "plt.tight_layout()  # Adjust subplot parameters to give specified padding.\n",
    "plt.show()"
   ]
  },
  {
   "cell_type": "code",
   "execution_count": null,
   "id": "43ecdc26",
   "metadata": {
    "ExecuteTime": {
     "end_time": "2025-03-15T04:05:44.960939Z",
     "start_time": "2025-03-15T04:05:44.960939Z"
    }
   },
   "outputs": [],
   "source": [
    "# Top 5 Territories\n",
    "territory_totals = sales.groupby('territory_id').agg({'sales': 'sum', 'cost': 'sum'}).reset_index()\n",
    "top_5_territories = territory_totals.sort_values(by='sales', ascending=False).head(5)\n",
    "\n",
    "# Melt the DataFrame to have sales and cost in one column for plotting\n",
    "df_melted = top_5_territories.melt(id_vars='territory_id', var_name='metric', value_name='total')\n",
    "\n",
    "# Create the bar chart using seaborn\n",
    "plt.figure(figsize=(12, 6))\n",
    "sns.barplot(x='territory_id', y='total', hue='metric', data=df_melted)\n",
    "plt.title('Total Sales and Cost by Top 5 Territories')\n",
    "plt.xlabel('Territory ID')\n",
    "plt.ylabel('Total Units')\n",
    "plt.show()"
   ]
  },
  {
   "cell_type": "markdown",
   "id": "a623e80c-00b8-4a8d-858c-bfb84531b177",
   "metadata": {},
   "source": [
    "(b) Calculate the Pearson correlation score bewteen 'sales' and 'cost' based on the score formula step by step. "
   ]
  },
  {
   "cell_type": "markdown",
   "id": "4c62b920-3cd8-492a-81c5-be683f1ad9aa",
   "metadata": {},
   "source": [
    "##### Please do NOT use any built-in packages or libraries to populate the correlation score; instead, use the formulas stated below to solve the problem\n",
    "\n",
    "The Pearson correlation coefficient, $r$, between two variables $X1$ and $X2$ is defined as:\n",
    "\n",
    "$$ r = \\frac{\\sum_{i=1}^n (X1_i - \\overline{X1})(X2_i - \\overline{X2})}{\\sqrt{\\sum_{i=1}^n (X1_i - \\overline{X1})^2} \\sqrt{\\sum_{i=1}^n (X2_i - \\overline{X2})^2}} $$\n",
    "\n",
    "Where:\n",
    "- $X1_i$ and $X2_i$ are the values of the $i^{th}$ data point of variables $X1$ and $X2$, respectively.\n",
    "- $\\overline{X}$ and $\\overline{X2}$ are the means of $X1$ and $X2$.\n"
   ]
  },
  {
   "cell_type": "code",
   "execution_count": null,
   "id": "300621c3-b2bb-4c3f-af59-4540efeff178",
   "metadata": {
    "ExecuteTime": {
     "end_time": "2025-03-15T04:05:44.960939Z",
     "start_time": "2025-03-15T04:05:44.960939Z"
    }
   },
   "outputs": [],
   "source": [
    "# Calculate the Pearson correlation coefficient between two lists.\n",
    "x1 = sales['sales']\n",
    "x2 = sales['cost']\n",
    "# Check to make sure they are same length\n",
    "if len(x1) != len(x2):\n",
    "    print(\"Input lists must have the same length.\")\n",
    "    exit()\n",
    "\n",
    "# Get the length to calculate the mean\n",
    "n = len(x1)\n",
    "# Get the means \n",
    "mean_x1 = sum(x1) / n\n",
    "mean_x2 = sum(x2) / n\n",
    "\n",
    "numerator = sum((x1[i] - mean_x1) * (x2[i] - mean_x2) for i in range(n))\n",
    "denominator_x1 = sum((x1[i] - mean_x1) ** 2 for i in range(n))\n",
    "denominator_x2 = sum((x2[i] - mean_x2) ** 2 for i in range(n))\n",
    "\n",
    "if denominator_x1 == 0 or denominator_x2 == 0:\n",
    "    pears = 0.0  # Handle division by zero\n",
    "\n",
    "pears = numerator / (denominator_x1 ** 0.5 * denominator_x2 ** 0.5)\n",
    "print(f\"Pearson Correlation: {pears}\")"
   ]
  },
  {
   "cell_type": "markdown",
   "id": "94b2e6f1-6774-46f1-9b89-bc9c75d7af7f",
   "metadata": {},
   "source": [
    "(c) Train a simple linear regression model on response variable -'sales' and predictor variable -'costs'.  Calculate the coefficients (slope and intercept)."
   ]
  },
  {
   "cell_type": "markdown",
   "id": "c8d12798-ade1-4cfc-a96e-266b2a962a40",
   "metadata": {},
   "source": [
    "##### Please do NOT use any packages or libraries to get the coefficient values; instead, use the formulas stated below to proceed."
   ]
  },
  {
   "cell_type": "markdown",
   "id": "41f4df7e-a158-4eb3-80e7-afdbce25b23d",
   "metadata": {},
   "source": [
    "In a simple linear regression model where $y$ (sales) is the response variable and $x$ (cost) is the predictor variable, the slope ($\\beta_1$) and intercept ($\\beta_0$) are given by:\n",
    "\n",
    "##### Slope ($\\beta_1$):\n",
    "$$ \\beta_1 = \\frac{\\sum_{i=1}^n (x_i - \\overline{x})(y_i - \\overline{y})}{\\sum_{i=1}^n (x_i - \\overline{x})^2} $$\n",
    "\n",
    "##### Intercept ($\\beta_0$):\n",
    "$$ \\beta_0 = \\overline{y} - \\beta_1 \\overline{x} $$\n",
    "\n",
    "Where:\n",
    "- $x_i$ and $y_i$ are the values of the $i^{th}$ data point for the variables $x$ and $y$, respectively.\n",
    "- $\\overline{x}$ and $\\overline{y}$ are the means of $x$ and $y$.\n"
   ]
  },
  {
   "cell_type": "code",
   "execution_count": null,
   "id": "55db67a3-5c44-40e0-98a5-23614321153e",
   "metadata": {
    "ExecuteTime": {
     "end_time": "2025-03-15T04:05:44.961939Z",
     "start_time": "2025-03-15T04:05:44.961939Z"
    }
   },
   "outputs": [],
   "source": [
    "# Manual calculation of Slope and Intercept\n",
    "X = sales['cost']\n",
    "y = sales['sales']\n",
    "n = len(X)\n",
    "# Get the means \n",
    "mean_x = sum(X) / n\n",
    "mean_y = sum(y) / n\n",
    "numerator = sum((X[i] - mean_x) * (y[i] - mean_y) for i in range(n))\n",
    "denominator = sum((X[i] - mean_x) ** 2 for i in range(n))\n",
    "\n",
    "if denominator == 0:\n",
    "    slope = 0.0  # Handle division by zero\n",
    "else:\n",
    "    slope = numerator / denominator\n",
    "\n",
    "intercept = mean_y - (slope * mean_x)\n",
    "print(f'Intercept: {intercept:.4f}', f'Slope: {slope:.8f}')"
   ]
  },
  {
   "cell_type": "markdown",
   "id": "af4fbdac-ab6f-4bd4-b6b3-bbca4206da27",
   "metadata": {},
   "source": [
    "(d) Write down the simple linear regression model equation based on (c) results. Provide reflections on the model equation."
   ]
  },
  {
   "cell_type": "markdown",
   "id": "85b8db04",
   "metadata": {},
   "source": [
    "<b>Answer:</b><p>\n",
    "The Simple Linear Regression Model Equation is:<p>\n",
    "$$ \\hat{y} = \\hat{\\beta_0} + \\hat{\\beta_1}{x}$$ <p>\n",
    "\n",
    "With the values calculated above:<p>\n",
    "$$ \\hat{y} = {465.8710} + {0.31454283}{x}$$ <p>\n",
    "or<p>\n",
    "$$ \\hat{sales} = {465.8710} + {0.31454283}*{cost}$$ <p>   "
   ]
  },
  {
   "cell_type": "code",
   "execution_count": null,
   "id": "02694667",
   "metadata": {
    "ExecuteTime": {
     "end_time": "2025-03-15T04:05:44.962939Z",
     "start_time": "2025-03-15T04:05:44.962939Z"
    }
   },
   "outputs": [],
   "source": [
    "sales"
   ]
  },
  {
   "cell_type": "code",
   "execution_count": null,
   "id": "ee487167",
   "metadata": {
    "ExecuteTime": {
     "end_time": "2025-03-15T04:05:44.962939Z",
     "start_time": "2025-03-15T04:05:44.962939Z"
    }
   },
   "outputs": [],
   "source": [
    "# Plot predictions based on actual Cost\n",
    "predicted_sales = intercept + (slope * sales['cost'])\n",
    "\n",
    "# Plot the scatter plot with jitter and transparency\n",
    "plt.figure(figsize=(10, 6))\n",
    "jitter = np.random.normal(0, 5, len(sales['cost']))  # Add small random jitter\n",
    "plt.scatter(sales['cost'] + jitter, sales['sales'], alpha=0.5, label='Actual Sales')\n",
    "\n",
    "# Plot the regression line\n",
    "plt.plot(sales['cost'], predicted_sales, color='red', label='Regression Line')\n",
    "\n",
    "# Add labels and title\n",
    "plt.xlabel('Cost')\n",
    "plt.ylabel('Sales')\n",
    "plt.title('Sales vs. Cost with Regression Line')\n",
    "plt.legend()\n",
    "plt.grid(True)\n",
    "plt.show()"
   ]
  },
  {
   "cell_type": "markdown",
   "id": "938fb423",
   "metadata": {},
   "source": [
    "The distribution of actual sales looks random and thereforce the model can be relied on."
   ]
  },
  {
   "cell_type": "code",
   "execution_count": null,
   "id": "c96dd56a-cc7c-4be4-b16c-50b15e9a35d0",
   "metadata": {
    "ExecuteTime": {
     "end_time": "2025-03-15T04:05:44.963939Z",
     "start_time": "2025-03-15T04:05:44.963939Z"
    }
   },
   "outputs": [],
   "source": [
    "# Check the equation against the actuals\n",
    "costs = [692.00, 650, 600]\n",
    "for x in costs:\n",
    "    simple_linear_regression = intercept + (slope * x)\n",
    "    print(f\"If sales = {x:.2f}, Simple Linear Regression estimate of cost is : {simple_linear_regression:.2f}\")\n",
    "    print(f\"Actual costs: {sales[sales['sales'] == x]['cost'].to_list()}\")\n",
    "    print('='*90)"
   ]
  },
  {
   "cell_type": "markdown",
   "id": "edf64607-3b42-4fdf-b8f7-a104f6ebdacd",
   "metadata": {},
   "source": [
    "### Problem 4\n",
    "\n",
    "Points: 20\n",
    "\n",
    "The Wisconsin Breast Cancer dataset is available as a comma-delimited text file on the UCI Machine Learning Repository {https://archive.ics.uci.edu/dataset/15/breast+cancer+wisconsin+original}. Our goal in this problem will be to predict whether observations (i.e. tumors) are malignant or benign. We will use the original dataset in this problem. "
   ]
  },
  {
   "cell_type": "markdown",
   "id": "912e4f7d-6b09-4848-9a67-f4dd92bb7823",
   "metadata": {},
   "source": [
    "(a) Obtain the data, and load it into your programming environment by pulling it directly from the web. (Do **not** download it and import it from any CSV file.) Give a brief description of the data. "
   ]
  },
  {
   "cell_type": "markdown",
   "id": "cd9b0703-f86f-4f37-ac74-b836e4c00bdd",
   "metadata": {},
   "source": [
    "The Wisconsin Breast Cancer dataset contains 699 samples and a total of 11 variables. Some data samples have missing data. "
   ]
  },
  {
   "cell_type": "code",
   "execution_count": null,
   "id": "fc1f4add-bab5-4fbe-82d5-c85fb17e3cf6",
   "metadata": {
    "ExecuteTime": {
     "end_time": "2025-03-15T04:05:44.964938Z",
     "start_time": "2025-03-15T04:05:44.964938Z"
    },
    "tags": []
   },
   "outputs": [],
   "source": [
    "import os\n",
    "# Web location of data file\n",
    "loc = \"http://archive.ics.uci.edu/ml/machine-learning-databases/\"\n",
    "ds = \"breast-cancer-wisconsin/breast-cancer-wisconsin.data\"\n",
    "url = loc + ds\n",
    "\n",
    "# Load data\n",
    "try:\n",
    "    breast_data = pd.read_csv(url, sep=\",\", header=None, na_values=\"?\")\n",
    "except Exception as e:\n",
    "    print(e)\n",
    "    breast_data = pd.read_csv('breast_cancer.csv', index=False)\n",
    "# This website was frequently offline; so I am caching locally if we get the data\n",
    "if breast_data is not None and not os.path.exists('breast_cancer.csv'):\n",
    "    breast_data.to_csv('breast_cancer.csv')\n",
    "breast_data.head"
   ]
  },
  {
   "cell_type": "code",
   "execution_count": null,
   "id": "85a87c81-bbb3-4a68-8c40-2563cf83ff96",
   "metadata": {
    "ExecuteTime": {
     "end_time": "2025-03-15T04:05:44.965938Z",
     "start_time": "2025-03-15T04:05:44.965938Z"
    }
   },
   "outputs": [],
   "source": [
    "# Look at unique values in columns\n",
    "df_breast = breast_data.copy()\n",
    "columns = df_breast.columns\n",
    "unique_values = {col: df_breast[col].unique() for col in columns}\n",
    "for col, values in unique_values.items():\n",
    "    print(f\"Unique values for {col}: {values[:9]}\")"
   ]
  },
  {
   "cell_type": "markdown",
   "id": "988b42c8-8828-4f2b-9286-99bec0404608",
   "metadata": {},
   "source": [
    "(b) Tidy the data, ensuring that each variable is properly named and cast as the correct data type. Discuss any missing data."
   ]
  },
  {
   "cell_type": "code",
   "execution_count": null,
   "id": "43fd2a97-8b76-4fe6-b94b-770c375b59bb",
   "metadata": {
    "ExecuteTime": {
     "end_time": "2025-03-15T04:05:44.965938Z",
     "start_time": "2025-03-15T04:05:44.965938Z"
    }
   },
   "outputs": [],
   "source": [
    "display(df_breast.isna().sum())\n",
    "print(df_breast.dtypes)\n",
    "df_breast.describe()"
   ]
  },
  {
   "cell_type": "markdown",
   "id": "bce40d9c",
   "metadata": {},
   "source": [
    "<b>Answer:</b><p>\n",
    "The data from this data set is all numbers.<p>\n",
    "0. Sample code number:            id number\n",
    "1. Clump Thickness:               1 - 10\n",
    "2. Uniformity of Cell Size:       1 - 10\n",
    "3. Uniformity of Cell Shape:      1 - 10\n",
    "4. Marginal Adhesion:             1 - 10\n",
    "5. Single Epithelial Cell Size:   1 - 10\n",
    "6. Bare Nuclei:                   1 - 10\n",
    "7. Bland Chromatin:               1 - 10\n",
    "8. Normal Nucleoli:               1 - 10\n",
    "9. Mitoses:                       1 - 10\n",
    "10. Class:                        (2 for benign, 4 for malignant)<p>\n",
    "There are a small number of NaNs in Column 6."
   ]
  },
  {
   "cell_type": "code",
   "execution_count": null,
   "id": "f24f8645",
   "metadata": {
    "ExecuteTime": {
     "end_time": "2025-03-15T04:05:44.966938Z",
     "start_time": "2025-03-15T04:05:44.966938Z"
    }
   },
   "outputs": [],
   "source": [
    "# Create a map to rename the columns\n",
    "col_map_txt = \"\"\"0. Sample code number:            id number\n",
    "1. Clump Thickness:               1 - 10\n",
    "2. Uniformity of Cell Size:       1 - 10\n",
    "3. Uniformity of Cell Shape:      1 - 10\n",
    "4. Marginal Adhesion:             1 - 10\n",
    "5. Single Epithelial Cell Size:   1 - 10\n",
    "6. Bare Nuclei:                   1 - 10\n",
    "7. Bland Chromatin:               1 - 10\n",
    "8. Normal Nucleoli:               1 - 10\n",
    "9. Mitoses:                       1 - 10\n",
    "10. Class:                        (2 for benign, 4 for malignant)\"\"\"\n",
    "col_map = {}\n",
    "for row in col_map_txt.split('\\n'):\n",
    "    col_num = int(row.split('.')[0])\n",
    "    col_name = row.split('.')[1].split(':')[0].strip().lower().replace(' ', '_')\n",
    "    col_map[col_num] = col_name\n",
    "print(col_map)\n",
    "# Rename the columns\n",
    "df_breast.rename(columns=col_map, inplace=True)\n",
    "# Get rid of the NaN data and replace it was default values\n",
    "df_breast.fillna(-1, inplace=True)\n",
    "df_breast = df_breast.astype(int)\n",
    "display(df_breast)"
   ]
  },
  {
   "cell_type": "markdown",
   "id": "b4a5c895-45c8-495a-b38a-9ff66cd04c5b",
   "metadata": {},
   "source": [
    "(c) Split the data into a training and validation set such that a random 70\\% of the observations are in the training set."
   ]
  },
  {
   "cell_type": "code",
   "execution_count": null,
   "id": "845e439e",
   "metadata": {
    "ExecuteTime": {
     "end_time": "2025-03-15T04:05:44.967938Z",
     "start_time": "2025-03-15T04:05:44.967938Z"
    }
   },
   "outputs": [],
   "source": [
    "# Split the data into training and validation sets\n",
    "df_train, df_val = train_test_split(df_breast, test_size=0.3, random_state=7)\n",
    "display(df_train)"
   ]
  },
  {
   "cell_type": "markdown",
   "id": "7fe39519-5545-42cd-ae88-8fa4958bb754",
   "metadata": {},
   "source": [
    "(d) Fit a machine learning model to predict whether tissue samples are malignant or benign. Compute and discuss the resulting confusion matrix. Be sure to address which of the errors that are identified you consider most problematic in this context."
   ]
  },
  {
   "cell_type": "code",
   "execution_count": null,
   "id": "fdda0516",
   "metadata": {
    "ExecuteTime": {
     "end_time": "2025-03-15T04:05:44.968942Z",
     "start_time": "2025-03-15T04:05:44.968942Z"
    }
   },
   "outputs": [],
   "source": [
    "# Convert the malignant/benign column into 0 (benign) or 1 (malignant)\n",
    "df_breast['is_malignant'] = df_breast['class'].map({2: 0, 4: 1})\n",
    "df_breast"
   ]
  },
  {
   "cell_type": "code",
   "execution_count": null,
   "id": "c97e40b1",
   "metadata": {
    "ExecuteTime": {
     "end_time": "2025-03-15T04:05:44.968942Z",
     "start_time": "2025-03-15T04:05:44.968942Z"
    }
   },
   "outputs": [],
   "source": [
    "# Try a number of different models\n",
    "models = {\n",
    "    'Logistic Regression': LogisticRegression(max_iter=1000),\n",
    "    'K-Nearest Neighbors': KNeighborsClassifier(),\n",
    "    'Support Vector Machine': SVC(),\n",
    "    'Decision Tree': DecisionTreeClassifier(),\n",
    "    'Random Forest': RandomForestClassifier(),\n",
    "    'Gradient Boosting': GradientBoostingClassifier(),\n",
    "    'Naive Bayes': GaussianNB()\n",
    "}\n",
    "\n",
    "# Train and evaluate each model\n",
    "conf_matrices = {}\n",
    "high_model, high_acc  = '', -9999\n",
    "X = df_breast.drop(['sample_code_number', 'class'], axis=1)\n",
    "y = df_breast['is_malignant']\n",
    "X_train, X_test, y_train, y_test = train_test_split(X, y, test_size=0.3, random_state=7)\n",
    "for name, model in models.items():\n",
    "    model.fit(X_train, y_train)\n",
    "\n",
    "    # Calculate training accuracy\n",
    "    y_train_pred = model.predict(X_train)\n",
    "    train_accuracy = accuracy_score(y_train, y_train_pred)\n",
    "\n",
    "    # Calculate test accuracy\n",
    "    y_test_pred = model.predict(X_test)\n",
    "    test_accuracy = accuracy_score(y_test, y_test_pred)\n",
    "\n",
    "    if test_accuracy > high_acc:\n",
    "        high_model, high_acc = name, test_accuracy\n",
    "\n",
    "    print(f'{name} - Training Accuracy: {train_accuracy:.2%}, Test Accuracy: {test_accuracy:.2%}')\n",
    "\n",
    "    conf_matrix = confusion_matrix(y_test, y_test_pred)\n",
    "    conf_matrices[name] = conf_matrix\n",
    "    \n",
    "# Plot confusion matrices in a grid\n",
    "fig, axes = plt.subplots(2, 4, figsize=(10, 6))\n",
    "axes = axes.flatten()\n",
    "\n",
    "for ax, (name, conf_matrix) in zip(axes, conf_matrices.items()):\n",
    "    sns.heatmap(conf_matrix, annot=True, fmt='d', cmap='Blues', xticklabels=['Benign', 'Malignant'], yticklabels=['Benign', 'Malignant'], ax=ax, cbar=False)\n",
    "    ax.set_title(name)\n",
    "    ax.set_xlabel('Predicted')\n",
    "    ax.set_ylabel('Actual')\n",
    "\n",
    "# Hide any unused subplots\n",
    "for i in range(len(conf_matrices), len(axes)):\n",
    "    fig.delaxes(axes[i])\n",
    "plt.subplots_adjust(wspace=0.5, hspace=0.9)\n",
    "plt.show()\n",
    "print(\"Highest:\", high_model, f'{high_acc:.2%}')"
   ]
  },
  {
   "cell_type": "markdown",
   "id": "9b94c88b",
   "metadata": {},
   "source": [
    "<b>Answer:</b><p>\n",
    "All of these models work pretty well; the accuracy changed slightly with a different random seed.<p>\n",
    "A false positive is obviously emotionally difficult, however, hopefully not life threatening. That happened most often with K-Nearest and Support Vector.<p>\n",
    "A false negative, could easily be life threatening, because the patient would think they have a benign tumor, but it is really malignant, and it could metasticize before they could get treatment. This happened most often with K-Nearest and Support Vector.<p>\n",
    "Decision Tree, Random Forest, Gradient and Naive Bayes all seemed to work better even with different random seeds and I would use these models to predict."
   ]
  },
  {
   "cell_type": "markdown",
   "id": "149fc97b-ca21-4c54-a65d-f1982e2877c4",
   "metadata": {},
   "source": [
    "### Problem 5\n",
    "\n",
    "Points: 10\n",
    "\n",
    "Please answer the questions below by writing a short response. "
   ]
  },
  {
   "cell_type": "markdown",
   "id": "6887fe68-0d53-4fe4-827a-534c4d35afd4",
   "metadata": {},
   "source": [
    "(a) Please describe 3 **classification** machine learning methods and each model's real world application."
   ]
  },
  {
   "cell_type": "markdown",
   "id": "3e469b33",
   "metadata": {},
   "source": [
    "1. <b>Logistic Regression</b>. Can be used as a classification predictor as well as quantitative. It models the relationship between independent variables and the log-odds of the dependent variable to predict the probability of a binary outcome. It can be used to predict if a tumor is malignant or benign. It can be used to predict if a financial transaction is fraudulent or not.\n",
    "2. <b>K Nearest Neighbors (KNN)</b>. Is a classification method that attempts to estimate the conditional distribution of a given X. It calculates the distances away from all elements and determines which group is most prevalent. KNN is used to create \"people who bought this also bought\" recommendations. By finding customers with similar purchase histories, the algorithm can suggest products that a user might like.\n",
    "3. <b>Naive Bayes</b>. Naive Bayes is a simplified version of “Full Bayes”. It assumes that all features are conditionally independent (most of the time a faulty assumption, however the model performs well despite). It is “naive” because it does not account for order of features. Real world applications are: Spam Detection & Filtering, Email classification. Sentiment Analysis, Customer feedback analysis. Medical Diagnosis, predicting diseases or conditions based on symptoms. Fraud Detection, identify fraudulent transactions. Text Classification, automatically categorize emails or other digital content."
   ]
  },
  {
   "cell_type": "code",
   "execution_count": null,
   "id": "811734c7",
   "metadata": {
    "ExecuteTime": {
     "end_time": "2025-03-15T04:05:44.969944Z",
     "start_time": "2025-03-15T04:05:44.969944Z"
    }
   },
   "outputs": [],
   "source": [
    "# Here is a simple example of Naive Bayes given their age and income \n",
    "# The model will determine if they will purchase a product\n",
    "\n",
    "# Sample Data (replace with your own dataset)\n",
    "# Example: Predicting if a person will buy a product based on age and income.\n",
    "X = np.array([[25, 50000], [30, 60000], [35, 70000], [20, 40000], [40, 80000],\n",
    "              [22, 45000], [38, 75000], [28, 55000], [45, 90000], [19, 38000]])\n",
    "y = np.array([0, 0, 1, 0, 1, 0, 1, 0, 1, 0])  # 0: No buy, 1: Buy\n",
    "\n",
    "# Split data into training and testing sets\n",
    "X_train, X_test, y_train, y_test = train_test_split(X, y, test_size=0.2, random_state=42)\n",
    "\n",
    "# Create and train the Naive Bayes model (Gaussian Naive Bayes for continuous features)\n",
    "model = GaussianNB()\n",
    "model.fit(X_train, y_train)\n",
    "\n",
    "# Make predictions on the test set\n",
    "y_pred = model.predict(X_test)\n",
    "\n",
    "# Evaluate the model\n",
    "accuracy = accuracy_score(y_test, y_pred)\n",
    "print(f\"Accuracy: {accuracy}\")\n",
    "\n",
    "print(\"\\nClassification Report:\")\n",
    "print(classification_report(y_test, y_pred))\n",
    "\n",
    "print(\"\\nConfusion Matrix:\")\n",
    "cm = confusion_matrix(y_test, y_pred)\n",
    "print(cm)\n",
    "\n",
    "# Optionally visualize the confusion matrix with seaborn\n",
    "# sns.heatmap(cm, annot=True, fmt='d', cmap='Blues', xticklabels=['Buy', 'Wont Buy'], yticklabels=['Buy', 'Wont Buy'], ax=ax, cbar=False)\n",
    "sns.heatmap(cm, annot=True, fmt='d', cmap='Blues', cbar=False, xticklabels=['Buy', 'Wont Buy'], yticklabels=['Buy', 'Wont Buy'])\n",
    "plt.xlabel('Predicted')\n",
    "plt.ylabel('Actual')\n",
    "plt.title('Confusion Matrix')\n",
    "plt.show()\n",
    "\n",
    "# Example Prediction of a new data point.\n",
    "new_data = np.array([[33, 65000]])\n",
    "new_prediction = model.predict(new_data)\n",
    "print(f\"\\nPrediction for new data {new_data}: {new_prediction}\")"
   ]
  },
  {
   "cell_type": "markdown",
   "id": "16a13003",
   "metadata": {},
   "source": [
    "b) This quarter, we discussed four 'Missing data' types: 1) Not missing at random (NMAR), 2) Missing completely at random(MCAR), 3) Missing at random(MAR)and 4) Missing by design (MD).  Select **2 missing data types** listed above. Describe those two missing data types meanings and provide 1 real world example for each missing data type."
   ]
  },
  {
   "cell_type": "markdown",
   "id": "cb1ba01e",
   "metadata": {},
   "source": [
    "<b>Answer:</b><p>\n",
    "<b>Missing Completely At Random (MCAR)</b><p>\n",
    "Definition: The probability of a data point being missing is entirely unrelated to any observed or unobserved variables in the dataset, ie it is not related. The missing data is due to an error, completely independent of the data itself.<p>\n",
    "Examples:<p>\n",
    "Survey Data Loss: In a survey, some questionnaires are randomly lost in the mail or accidentally deleted from a database. The loss is purely random.<p>\n",
    "Technical Defects: A sensor randomly malfunctions and fails to record data points at certain intervals. .<p>\n",
    "Randomized Experiments: In a clinical trial, some participants might miss appointments due to unrelated events (e.g., car trouble, sudden illness), leading to missing data that is not related to their health or treatment.<p>\n",
    "<p>\n",
    "<b>Missing At Random (MAR)</b><p>\n",
    "Definition: The probability of a data point being missing is related to observed variables in the dataset, but not to the unobserved value itself.<p>\n",
    "Example:<p>\n",
    "Medical Records: Older patients might have more missing data in certain medical fields compared to younger patients due to having older, paper records. Within each age group, the probability of missing data is independent of the actual missing values.<p>\n",
    "Income Survey: In an income survey, women might be less likely to report their income than men. Accounting for gender, the missingness is no longer related to the income itself. The missing data is dependent on the observed gender variable.<p>\n",
    "Customer Satisfaction: Customers who purchased a specific product type might be less likely to respond to a satisfaction survey. However, once we account for the product type, the missing data is no longer related to the unobserved satisfaction level.<p>"
   ]
  },
  {
   "cell_type": "markdown",
   "id": "421f3d96-c63a-4b8e-a4e6-c9325adc7dca",
   "metadata": {},
   "source": [
    "(c) What are the advantages and disadvantages of a very flexible (versus a less flexible) approach for regression or classification? Under what circumstances might a more flexible approach be preferred to a less flexible approach? When might a less flexible approach be preferred?"
   ]
  },
  {
   "attachments": {
    "image.png": {
     "image/png": "[encoded data removed]"
    }
   },
   "cell_type": "markdown",
   "id": "570aa710",
   "metadata": {},
   "source": [
    "<b>Answer:</b><p>\n",
    "In general, a more restrictive model (or less flexible) are more interpretable, while more flexible models are less interpretable. See this chart from Diez et al. 2019:<p>\n",
    "![image.png](attachment:image.png)\n",
    "\n",
    "Linear Regression is a fairly inflexible model because it only generates linear function such as lines. On the other hand, a linear model fit by least squares is a much more flexible model with a much more complex outcome. Many \"boosted\" models fit in this more flexible category.\n",
    "Source: Diez, D., Cetinkaya-Rundel, M., Barr, C., & OpenIntro. (2019, Fourth Edition). OpenIntro Statistics."
   ]
  },
  {
   "cell_type": "markdown",
   "id": "306105bd-cf81-4090-b512-33fb49fc51d6",
   "metadata": {},
   "source": [
    "### Problem 6\n",
    "\n",
    "Points: 10\n",
    "\n",
    "Suppose we have a dataset with five predictors, $X_1 =$ GPA, $X_2 =$ IQ, $X_3 =$ Race (1 for Female, and 0 for Male), $X_4 =$ Interaction between GPA and IQ, and $X_5 =$ Interaction between GPA and Gender. Note: the data here is limited as gender was collected as a binary variable.\n",
    "\n",
    "The response is starting salary after graduation (in thousands of dollars). Suppose we use least squares to fit the model and get $\\hat{\\beta}_0=50, \\hat{\\beta}_1=20, \\hat{\\beta}_2=0.07, \\hat{\\beta}_3=35, \\hat{\\beta}_4=0.01$, and $\\hat{\\beta}_5=-10$. "
   ]
  },
  {
   "cell_type": "markdown",
   "id": "33817cc2-2af1-44eb-bcbc-210263fc76fd",
   "metadata": {},
   "source": [
    "(a) Which answer is correct and why? <font color = red>[single choice question]\n",
    "\n",
    "i. For a fixed value of IQ and GPA, males earn more on average than females.\n",
    "\n",
    "ii. For a fixed value of IQ and GPA, females earn more on average than males.\n",
    "\n",
    "iii. For a fixed value of IQ and GPA, males earn more on average than females provided that the GPA is high enough.\n",
    "\n",
    "iv. For a fixed value of IQ and GPA, females earn more on average than males provided that the GPA is high enough."
   ]
  },
  {
   "cell_type": "markdown",
   "id": "cc17960d",
   "metadata": {},
   "source": [
    "<b>Answer:</b><p>\n",
    "Is this the correct formula?<p>\n",
    "$$ salary = \\hat{\\beta_0} + (\\hat{\\beta_1}*GPA) + (\\hat{\\beta_2}*IQ) + (\\hat{\\beta_3}*Sex) + (\\hat{\\beta_4} * GPA * IQ) + (\\hat{\\beta_5}* GPA * Sex) $$ <p>"
   ]
  },
  {
   "cell_type": "code",
   "execution_count": null,
   "id": "3264f63a",
   "metadata": {
    "ExecuteTime": {
     "end_time": "2025-03-15T04:05:44.970947Z",
     "start_time": "2025-03-15T04:05:44.970947Z"
    }
   },
   "outputs": [],
   "source": [
    "# Run some sample data\n",
    "\n",
    "# Given B values\n",
    "b0, b1, b2, b3, b4, b5 = 50, 20, .07, 35, .01, -10\n",
    "\n",
    "# GPA, IQ, Sex (1 female, 0 male)\n",
    "examples = [[4.0, 120, 1], [4.0, 120, 0], [2.0, 120, 1], [2.0, 120, 0]] \n",
    "for gpa, iq, sex in examples:\n",
    "    salary = b0 + (b1 * gpa) + (b2 * iq) + (b3 * sex) + (b4 * gpa * iq) + (b5 * gpa * sex)\n",
    "    gender = 'female' if sex == 1 else 'male'\n",
    "    print(f\"GPA: {gpa}, IQ: {iq}, Sex: {gender}. Equals salary={salary}\")"
   ]
  },
  {
   "cell_type": "markdown",
   "id": "0f8bd93d",
   "metadata": {},
   "source": [
    "<b>Answer:</b><p>\n",
    "answer `i` and `ii` are definitely not correct because we see the opposite of both of those given differing GPAs.<p>\n",
    "If we get the difference between `salaryfemale - salarymale` we should be able to find out the \"break point\" for GPA.<p>\n",
    "$$ salaryfemale = 50 + (20*GPA) + (.07*IQ) + (35*Sex) + (.01*GPA*IQ) + (-10*GPA*Sex) $$ <p>\n",
    "$$ salarymale = 50 + (20*GPA) + (.07*IQ) + (35*Sex) + (.01*GPA*IQ) + (-10*GPA*Sex) $$ <p>\n",
    "$$ salaryfemale - salarymale = (50 + (20*GPA) + (.07*IQ) + (35*1) + (.01*GPA*IQ) + (-10*GPA*1)) - (50 + (20*GPA) + (.07*IQ) + (35*0) + (.01*GPA*IQ) + (-10*GPA*0)) $$<p>\n",
    "$$ salaryfemale - salarymale = (50 + (20*GPA) + (.07*IQ) + 35 + (.01*GPA*IQ) + (-10*GPA)) - (50 + (20*GPA) + (.07*IQ) + (.01*GPA*IQ)) $$<p>\n",
    "$$ salaryfemale - salarymale = ((20*GPA) + (.07*IQ) + 35 + (.01*GPA*IQ) + (-10*GPA)) - ((20*GPA) + (.07*IQ) + (.01*GPA*IQ)) $$<p>\n",
    "$$ salaryfemale - salarymale = (35 + (-10*GPA))) $$<p>\n",
    "Find when the difference is positive:<p>\n",
    "$$ 35 - 10*GPA > 0 $$<p>\n",
    "$$ GPA < 3.5 $$<p>\n",
    "So when GPA is below 3.5, females earn more. Let's test."
   ]
  },
  {
   "cell_type": "code",
   "execution_count": null,
   "id": "25121503",
   "metadata": {
    "ExecuteTime": {
     "end_time": "2025-03-15T04:05:44.971945Z",
     "start_time": "2025-03-15T04:05:44.971945Z"
    }
   },
   "outputs": [],
   "source": [
    "# GPA, IQ, Sex (1 female, 0 male)\n",
    "examples = [[3.6, 120, 1], [3.6, 120, 0], [3.5, 120, 1], [3.5, 120, 0], [3.4, 120, 1], [3.4, 120, 0]] \n",
    "for gpa, iq, sex in examples:\n",
    "    salary = b0 + (b1 * gpa) + (b2 * iq) + (b3 * sex) + (b4 * gpa * iq) + (b5 * gpa * sex)\n",
    "    gender = 'female' if sex == 1 else 'male'\n",
    "    print(f\"GPA: {gpa}, IQ: {iq}, Sex: {gender}. Equals salary={salary}\")"
   ]
  },
  {
   "cell_type": "markdown",
   "id": "652e110c",
   "metadata": {},
   "source": [
    "<b>Answer:</b><p>\n",
    "The correct answer is `iii. For a fixed value of IQ and GPA, males earn more on average than females provided that the GPA is high enough.`"
   ]
  },
  {
   "cell_type": "markdown",
   "id": "026fe849-edbb-43be-a72b-aa266320dc66",
   "metadata": {},
   "source": [
    "(b) Predict the salary of a female with IQ of 110 and a GPA of 4.0."
   ]
  },
  {
   "cell_type": "code",
   "execution_count": null,
   "id": "6e2e6d6e-2af5-4a7f-87d9-9a7b12c76e65",
   "metadata": {
    "ExecuteTime": {
     "end_time": "2025-03-15T04:05:44.971945Z",
     "start_time": "2025-03-15T04:05:44.971945Z"
    }
   },
   "outputs": [],
   "source": [
    "# Convert the equation above into Python\n",
    "gpa, iq, sex = 4, 110, 1\n",
    "salary = b0 + (b1 * gpa) + (b2 * iq) + (b3 * sex) + (b4 * gpa * iq) + (b5 * gpa * sex)\n",
    "gender = 'female' if sex == 1 else 'male'\n",
    "print(f\"GPA: {gpa}, IQ: {iq}, Sex: {gender}. Equals salary={salary}\")"
   ]
  },
  {
   "cell_type": "markdown",
   "id": "55ad055c-603f-4863-9cc1-4d9894581758",
   "metadata": {},
   "source": [
    "(c) True or false: Since the coefficient for the GPA/IQ interaction term is very small, there is little evidence of an interaction effect. Justify your answer."
   ]
  },
  {
   "cell_type": "markdown",
   "id": "98708319",
   "metadata": {},
   "source": [
    "<b>Answer:</b><p>\n",
    "False. It is not the `coefficient`, but rather the `P-Value`. We'll fit a model and determine the P-Value."
   ]
  },
  {
   "cell_type": "code",
   "execution_count": null,
   "id": "9ef0b9a6",
   "metadata": {
    "ExecuteTime": {
     "end_time": "2025-03-15T04:05:44.972943Z",
     "start_time": "2025-03-15T04:05:44.972943Z"
    }
   },
   "outputs": [],
   "source": [
    "# Run some example data through and determine the p-value\n",
    "salaries, gpa_iq = [], []\n",
    "examples = [[4.0, 120, 1], [4.0, 120, 0], [2.0, 120, 1], [2.0, 120, 0], [4, 110, 1], [3.6, 120, 1], [3.6, 120, 0], [3.5, 120, 1], [3.5, 120, 0], [3.4, 120, 1], [3.4, 120, 0]] \n",
    "for gpa, iq, sex in examples:\n",
    "    salary = b0 + (b1 * gpa) + (b2 * iq) + (b3 * sex) + (b4 * gpa * iq) + (b5 * gpa * sex)\n",
    "    gpa_iq.append(gpa * iq)\n",
    "    salaries.append(salary)\n",
    "# Add more totally random values    \n",
    "np.random.seed(7)\n",
    "# Generate random samples\n",
    "gpa = np.random.uniform(2.0, 4.0, 100)  # GPA between 2.0 and 4.0\n",
    "iq = np.random.randint(90, 150, 100)    # IQ between 90 and 150\n",
    "sex = np.random.randint(0, 2, 100) \n",
    "combined = np.column_stack((gpa, iq, sex))\n",
    "for gpa, iq, sex in combined:\n",
    "    salary = b0 + (b1 * gpa) + (b2 * iq) + (b3 * sex) + (b4 * gpa * iq) + (b5 * gpa * sex)\n",
    "    gpa_iq.append(gpa * iq)\n",
    "    salaries.append(salary)\n",
    "    \n",
    "X = sm.add_constant(gpa_iq)\n",
    "y = salaries\n",
    "model = sm.OLS(y, X)\n",
    "result = model.fit(maxiter=1000)\n",
    "print(result.summary())\n",
    "print(result.pvalues)"
   ]
  },
  {
   "cell_type": "markdown",
   "id": "bd43d579",
   "metadata": {},
   "source": [
    "<b>Answer:</b><p>\n",
    "The P-Value is less than `.05` so we reject the Null Hypothosis and can state that `(GPA * IQ)` relative to predicted `salary` could not be random chance."
   ]
  },
  {
   "cell_type": "markdown",
   "id": "484f76b6-1e61-4d4b-a23d-428aaf060cd8",
   "metadata": {},
   "source": [
    "### Problem 7 - Extra Credit\n",
    "\n",
    "Points: Max. 5\n",
    "\n",
    "Suppose that $X_1, \\ldots X_n$ form a random sample from a Poisson distribution for which the mean $\\theta$ is unknown, ($\\theta>0)$.<p>\n",
    "Is this MLE?<p>\n",
    "MLE stands for Maximum Likelihood Estimation.<p>\n",
    "It means you need to find the value of the parameter θ (theta) that maximizes the likelihood of observing the data you have.<p>\n",
    "Likelihood Function: You start with a probability distribution that you believe describes your data. This distribution will have one or more parameters (like θ in your problem). The likelihood function is the product of the probabilities of observing each individual data point, given a specific value for the parameter(s).<p>\n",
    "Maximization: The goal of MLE is to find the value of the parameter(s) that maximizes this likelihood function. In other words, you're finding the parameter value(s) that make the observed data most probable."
   ]
  },
  {
   "cell_type": "markdown",
   "id": "d6499cc5-d69d-4408-9de0-5f8f82baadd2",
   "metadata": {},
   "source": [
    "(a) Determine the MLE of $\\theta$, assuming that at least one of the observed values is different from 0. Show your work."
   ]
  },
  {
   "attachments": {
    "image.png": {
     "image/png": "[encoded data removed]"
    }
   },
   "cell_type": "markdown",
   "id": "22512c04",
   "metadata": {},
   "source": [
    "<b>Answer:</b><p>\n",
    "Since $\\hat\\theta = r/n$<p>\n",
    "From our course materials:\n",
    "![image.png](attachment:image.png)\n",
    "    \n",
    "where `r` is the observed number of times of \"success\" (ie the expected outcome) happens and `n` is the total number of times, it ends up being the observed mean.<p>\n",
    "Using a coin toss as an example, if we want to find out the liklihood of the coin toss being heads and we toss the coin 100 times and we see heads come up 47 times, the MLE of $\\hat\\theta$ would be `.47` or `47%`.<p>\n",
    "If you were to code the heads as `1`, and the tails as a `0`, and then take the average of all 100 coin tosses, you would also get `0.47`."
   ]
  },
  {
   "cell_type": "markdown",
   "id": "6b9563ff-1b96-43bb-baa3-873a64a3e32b",
   "metadata": {},
   "source": [
    "(b) Show that the MLE of $\\theta$ does not exists if every observed value is 0."
   ]
  },
  {
   "cell_type": "markdown",
   "id": "b0d74563",
   "metadata": {},
   "source": [
    "<b>Answer:</b><p>\n",
    "If every observed value is 0, the denominator of the function is 0 and therefore the result of MLE $\\theta$ is 0."
   ]
  },
  {
   "cell_type": "markdown",
   "id": "e41e572a-98ff-4f57-b0e4-4de96fb708e8",
   "metadata": {},
   "source": [
    "### Problem 8 - Extra Credit \n",
    "\n",
    "Points: Max. 5 \n",
    "\n",
    "7 Democratic party members and 7 Republican party members are running for 5 seats (1 president, 1 vice president and 3 advisors) in a committee. Voters choose 5 people at random uniformly. \n",
    "\n",
    "What is the probability of this event, in which Frank (Democratic) becomes the president and Will( Republican) becomes the vice-president ?"
   ]
  },
  {
   "cell_type": "code",
   "execution_count": null,
   "id": "9597d396-d70f-492e-be5b-f43cbeec2a87",
   "metadata": {
    "ExecuteTime": {
     "end_time": "2025-03-15T04:05:44.973943Z",
     "start_time": "2025-03-15T04:05:44.973943Z"
    }
   },
   "outputs": [],
   "source": [
    "from IPython.display import Image\n",
    "Image(\"Extra.png\")"
   ]
  },
  {
   "cell_type": "markdown",
   "id": "02c493d6-ed20-4808-98bb-7ecf98288501",
   "metadata": {
    "tags": []
   },
   "source": [
    "(a) Write down your solution logics. (We want to see your reasonings: what makes the sample space (or denominator) and what makes the numerator? Why you think so?"
   ]
  },
  {
   "cell_type": "markdown",
   "id": "0b9dbb7d",
   "metadata": {},
   "source": [
    "<b>Answer:</b><p>\n",
    "<b>It is unclear from the scenario if the votes are positional or not. Ie if a person votes for candidates `[9,  1,  6,  4, 12]` does that mean that candidate 9 is being voted for President? Or just that if candidate #9 gets the most votes, they can choose President?</b><p>\n",
    "`President` and `Vice President` also do not make sense, ie in USA politics:\n",
    "In each committee, a member of the majority party serves as its `chairperson`, while a member of the minority party serves as its `ranking member`. Four Senate committees instead refer to the ranking minority member as `vice chairperson`.<p>\n",
    "At any rate, it is obviously a very small number, let's try some tests."
   ]
  },
  {
   "cell_type": "code",
   "execution_count": null,
   "id": "6d9ac17f-d4c2-43b0-8134-960f5e8eec40",
   "metadata": {
    "ExecuteTime": {
     "end_time": "2025-03-15T04:05:44.974944Z",
     "start_time": "2025-03-15T04:05:44.974944Z"
    }
   },
   "outputs": [],
   "source": [
    "print(\"This is cell #55\")\n",
    "# Simulation of random votes with Position 1 and 2 required\n",
    "# Ie Frank must get the most votes and Will must get the second most votes\n",
    "# Simulate voters\n",
    "observed = 0\n",
    "for i in range(1, 10000):\n",
    "    np.random.seed(i)\n",
    "    votes = [np.random.choice(range(1, 18), 5, replace=False) for _ in range(100)]\n",
    "    # Pick a random number for Frank and Will\n",
    "    # frank_dem, will_gop = np.random.choice(range(1, 15), 2)\n",
    "    frank_dem, will_gop = 8, 5\n",
    "    voting = {'frank_dem': 0, 'will_gop': 0}\n",
    "    # Iterate over the votes\n",
    "    for vote in votes:\n",
    "        # If we see frank or will, increment their count\n",
    "        if frank_dem in vote:\n",
    "            voting['frank_dem'] += 1\n",
    "        elif will_gop in vote:\n",
    "            voting['will_gop'] += 1\n",
    "        # Go through all the votes to tabulate the other candidates\n",
    "        for v in vote:\n",
    "            # Do not count Frank and Will again\n",
    "            if v not in [frank_dem, will_gop]:\n",
    "                v_str = str(v)\n",
    "                if v_str not in voting:\n",
    "                    voting[v_str] = 0\n",
    "                voting[v_str] += 1\n",
    "    # Sort the list to figure out the top two candidates\n",
    "    sorted_list = list(dict(sorted(voting.items(), key=lambda item: item[1], reverse=True)))\n",
    "    if sorted_list[0] == 'frank_dem' and sorted_list[1] == 'will_gop':\n",
    "        print('Frank pres, Will vp, OBSERVED!')\n",
    "        observed += 1\n",
    "print(f\"Ran through {i} iterations and observed {observed} favorable outcomes\")"
   ]
  },
  {
   "cell_type": "code",
   "execution_count": null,
   "id": "e667174d",
   "metadata": {
    "ExecuteTime": {
     "end_time": "2025-03-15T04:05:44.975942Z",
     "start_time": "2025-03-15T04:05:44.975942Z"
    }
   },
   "outputs": [],
   "source": [
    "# Simulation of random votes with any Position 1-5 for Frank & Will\n",
    "# Simulate voters\n",
    "observed = 0\n",
    "for i in range(1, 10000):\n",
    "    np.random.seed(i)\n",
    "    votes = [np.random.choice(range(1, 18), 5, replace=False) for _ in range(100)]\n",
    "    # Pick a random number for Frank and Will\n",
    "    frank_dem, will_gop = np.random.choice(range(1, 15), 2)\n",
    "    voting = {'frank_dem': 0, 'will_gop': 0}\n",
    "    # Iterate over the votes\n",
    "    for vote in votes:\n",
    "        # If we see frank or will, increment their count\n",
    "        if frank_dem in vote:\n",
    "            voting['frank_dem'] += 1\n",
    "        elif will_gop in vote:\n",
    "            voting['will_gop'] += 1\n",
    "        # Go through all the votes to tabulate the other candidates\n",
    "        for v in vote:\n",
    "            # Do not count Frank and Will again\n",
    "            if v not in [frank_dem, will_gop]:\n",
    "                v_str = str(v)\n",
    "                if v_str not in voting:\n",
    "                    voting[v_str] = 0\n",
    "                voting[v_str] += 1\n",
    "    # Sort the list to figure out the top two candidates\n",
    "    sorted_list = list(dict(sorted(voting.items(), key=lambda item: item[1], reverse=True)))\n",
    "    if 'frank_dem' in sorted_list[:5] and 'will_gop' in sorted_list[:5]:\n",
    "        observed += 1\n",
    "print(f\"Ran through {i} iterations and observed {observed} favorable outcomes\")"
   ]
  },
  {
   "cell_type": "markdown",
   "id": "6aa99007-a498-4187-b40b-96283eeb3213",
   "metadata": {},
   "source": [
    "(b) Write down your calculations for the probability. [Hint: Think about whether the 2 roles (president and VP) assignment is ordered or not. Do not trust LLMs such as ChatGPT's answer completely ]"
   ]
  },
  {
   "cell_type": "markdown",
   "id": "fa6f5638",
   "metadata": {},
   "source": [
    "<b>Alternative 1:</b><p>\n",
    "Assuming this is the USA government, the two votes are <b>actually independent of each other</b>: all the dems vote for Frank and other dems. Since the English is ambiguous, in this scenario it is still true that `Voters chose 5 people at random uniformly`, they just happen to all be in their party. Separately and independently, all the gop vote for Will and the other gop members. Calculations as follows:"
   ]
  },
  {
   "cell_type": "code",
   "execution_count": null,
   "id": "225e95e7",
   "metadata": {
    "ExecuteTime": {
     "end_time": "2025-03-15T04:05:44.976943Z",
     "start_time": "2025-03-15T04:05:44.976943Z"
    }
   },
   "outputs": [],
   "source": [
    "# Assuming the USA government, the two votes are actually independent\n",
    "print(\"Frank has a 1 in 7 chance of being voted chairman.\")\n",
    "print(\"Will has a 1 in 7 chance of being voted vice chairman.\")\n",
    "print(\"You multiply these odds together to get the possibility that both things happen simultaneously:\")\n",
    "frank_will = (1/7) * (1/7)\n",
    "print(f\"Assuming the the USA congress, the overall probability of Frank and Will being voted to the top two slots is: {frank_will:.4f}\")"
   ]
  },
  {
   "cell_type": "markdown",
   "id": "02d6589f",
   "metadata": {},
   "source": [
    "<b>Alternative 2:</b><p>\n",
    "Assuming this is a totally made up committee on a different planet or alternate universe, where Democrat and GOP all vote for the same 5 slots picking out of any of the 14 candidates. The wording would have had to have been this:<p>\n",
    "7 Democratic party members and 7 Republican party members are running for 5 seats (1 president, 1 vice president and 3 advisors) in a committee. Voters <b>uniformly</b> choose 5 people at random.\n",
    "\n",
    "What is the probability of this event, in which Frank (Democratic) becomes the president and Will (Republican) becomes the vice-president?"
   ]
  },
  {
   "cell_type": "code",
   "execution_count": null,
   "id": "5e44d126",
   "metadata": {
    "ExecuteTime": {
     "end_time": "2025-03-15T04:05:44.976943Z",
     "start_time": "2025-03-15T04:05:44.976943Z"
    }
   },
   "outputs": [],
   "source": [
    "print(\"Frank has a 1 in 14 chance of being voted chairman.\")\n",
    "print(\"Will has a 1 in 13 chance of being voted vice chairman (1 slot is already taken and the voting is linked).\")\n",
    "print(\"You multiply these odds together to get the possibility that both things happen simultaneously:\")\n",
    "frank_will = (1/14) * (1/13)\n",
    "print(f\"Assuming the Alternate Universe congress, the overall probability of Frank and Will being voted to the top two slots is: {frank_will:.4f}\")"
   ]
  },
  {
   "cell_type": "markdown",
   "id": "0d27a1a9",
   "metadata": {},
   "source": [
    "<b>Alternative 3:</b><p>\n",
    "If you fix Frank as President and Will as VP, the number of ways to chose 3 people out of 12 (subtract out the 2 for Frank and Will) is:<p>\n",
    "$\\binom{12}{3} = \\frac{12!}{3!(12-3)!} = 220$<p>\n",
    "The total number of ways to chose 5 people out of 14 is:<p>\n",
    "$\\binom{14}{5} = \\frac{14!}{5!(14-5)!} = 2002$<p>\n",
    "Then you divide those probabilities to get the chances that both Frank and Will are chosen:<p>\n",
    "$\\text{Probability} = \\frac{\\text{Number of favorable outcomes}}{\\text{Total number of outcomes}} = \\frac{220}{2002} \\approx 0.1099$"
   ]
  },
  {
   "cell_type": "code",
   "execution_count": null,
   "id": "ffb89e71",
   "metadata": {
    "ExecuteTime": {
     "end_time": "2025-03-15T04:05:44.977943Z",
     "start_time": "2025-03-15T04:05:44.977943Z"
    }
   },
   "outputs": [],
   "source": [
    "# Assuming the roles are not ordered\n",
    "remain_members = math.factorial(12)/(math.factorial(3) * math.factorial(12-3))\n",
    "print(f\"Remaining members are voted in, posibilities: {remain_members}\")\n",
    "all_members = math.factorial(14)/(math.factorial(5) * math.factorial(14-5))\n",
    "print(f\"All 5 members are voted in, posibilities: {all_members}\")\n",
    "print(f\"Assuming some fictional universe, the overall odds of Frank and Will be voted to the top two slots is {remain_members/all_members:.4f}\")"
   ]
  },
  {
   "cell_type": "markdown",
   "id": "97e5d111",
   "metadata": {},
   "source": [
    "<b>Final Answer:</b><p>\n",
    "Based on my Python code in cell `55` above, the lower probability is far more likely, as I never even got one hit. I would chose <b>Alternate 1</b> because the word `uniformly` is closer to `random` than to `voters`."
   ]
  },
  {
   "cell_type": "code",
   "execution_count": null,
   "id": "aba83ee9",
   "metadata": {
    "ExecuteTime": {
     "end_time": "2025-03-15T04:05:44.978942Z",
     "start_time": "2025-03-15T04:05:44.978942Z"
    }
   },
   "outputs": [],
   "source": [
    "print(\"Successfully executed all cells!\")"
   ]
  }
 ],
 "metadata": {
  "celltoolbar": "Initialization Cell",
  "kernelspec": {
   "display_name": "py38",
   "language": "python",
   "name": "py38"
  },
  "language_info": {
   "codemirror_mode": {
    "name": "ipython",
    "version": 3
   },
   "file_extension": ".py",
   "mimetype": "text/x-python",
   "name": "python",
   "nbconvert_exporter": "python",
   "pygments_lexer": "ipython3",
   "version": "3.8.10"
  },
  "toc": {
   "base_numbering": 1,
   "nav_menu": {},
   "number_sections": true,
   "sideBar": true,
   "skip_h1_title": false,
   "title_cell": "Table of Contents",
   "title_sidebar": "Contents",
   "toc_cell": false,
   "toc_position": {},
   "toc_section_display": true,
   "toc_window_display": false
  }
 },
 "nbformat": 4,
 "nbformat_minor": 5
}

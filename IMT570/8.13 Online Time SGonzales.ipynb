{
 "cells": [
  {
   "cell_type": "code",
   "execution_count": 1,
   "id": "d14ccaf1",
   "metadata": {
    "ExecuteTime": {
     "end_time": "2025-02-28T05:42:31.420987Z",
     "start_time": "2025-02-28T05:42:30.516521Z"
    }
   },
   "outputs": [],
   "source": [
    "import statsmodels.api as sm\n",
    "import pandas as pd\n",
    "from scipy.stats import pearsonr"
   ]
  },
  {
   "cell_type": "code",
   "execution_count": 2,
   "id": "4b524a25",
   "metadata": {
    "ExecuteTime": {
     "end_time": "2025-02-28T05:42:31.658679Z",
     "start_time": "2025-02-28T05:42:31.421999Z"
    }
   },
   "outputs": [
    {
     "name": "stdout",
     "output_type": "stream",
     "text": [
      "       County Region    State  Screen time hours  Poor mood percent of time\n",
      "0      Shelby  South  Alabama                8.0                      0.176\n",
      "1         Lee  South  Alabama                8.0                      0.176\n",
      "2      Elmore  South  Alabama                8.0                      0.176\n",
      "3  Tuscaloosa  South  Alabama                8.0                      0.176\n",
      "4     Madison  South  Alabama                8.0                      0.176\n"
     ]
    }
   ],
   "source": [
    "df = pd.read_excel('8.13 Tableau Exercise avg time online.xlsx')\n",
    "# Display the first few rows of the DataFrame\n",
    "print(df.head())"
   ]
  },
  {
   "cell_type": "code",
   "execution_count": 3,
   "id": "312f21c2",
   "metadata": {
    "ExecuteTime": {
     "end_time": "2025-02-28T05:42:31.664535Z",
     "start_time": "2025-02-28T05:42:31.659188Z"
    }
   },
   "outputs": [
    {
     "data": {
      "text/plain": [
       "County                       0\n",
       "Region                       0\n",
       "State                        0\n",
       "Screen time hours            2\n",
       "Poor mood percent of time    2\n",
       "dtype: int64"
      ]
     },
     "execution_count": 3,
     "metadata": {},
     "output_type": "execute_result"
    }
   ],
   "source": [
    "# Confirm missing values are gone\n",
    "df.isna().sum()"
   ]
  },
  {
   "cell_type": "code",
   "execution_count": 4,
   "id": "1b3ddfe0",
   "metadata": {
    "ExecuteTime": {
     "end_time": "2025-02-28T05:42:31.674055Z",
     "start_time": "2025-02-28T05:42:31.665542Z"
    }
   },
   "outputs": [],
   "source": [
    "# Create two new, clean columns for the data we are going to analyze\n",
    "df['screen_hrs'] = df['Screen time hours'].astype(float)\n",
    "df['poor_moodpct'] = df['Poor mood percent of time'].astype(float)\n",
    "df['screen_hrs'] = df['screen_hrs'].fillna(0)\n",
    "df['poor_moodpct'] = df['poor_moodpct'].fillna(0.0)"
   ]
  },
  {
   "cell_type": "code",
   "execution_count": 5,
   "id": "e8fa777e",
   "metadata": {
    "ExecuteTime": {
     "end_time": "2025-02-28T05:42:31.688062Z",
     "start_time": "2025-02-28T05:42:31.676062Z"
    }
   },
   "outputs": [
    {
     "data": {
      "text/html": [
       "<div>\n",
       "<style scoped>\n",
       "    .dataframe tbody tr th:only-of-type {\n",
       "        vertical-align: middle;\n",
       "    }\n",
       "\n",
       "    .dataframe tbody tr th {\n",
       "        vertical-align: top;\n",
       "    }\n",
       "\n",
       "    .dataframe thead th {\n",
       "        text-align: right;\n",
       "    }\n",
       "</style>\n",
       "<table border=\"1\" class=\"dataframe\">\n",
       "  <thead>\n",
       "    <tr style=\"text-align: right;\">\n",
       "      <th></th>\n",
       "      <th>County</th>\n",
       "      <th>Region</th>\n",
       "      <th>State</th>\n",
       "      <th>Screen time hours</th>\n",
       "      <th>Poor mood percent of time</th>\n",
       "      <th>screen_hrs</th>\n",
       "      <th>poor_moodpct</th>\n",
       "    </tr>\n",
       "  </thead>\n",
       "  <tbody>\n",
       "    <tr>\n",
       "      <th>0</th>\n",
       "      <td>Shelby</td>\n",
       "      <td>South</td>\n",
       "      <td>Alabama</td>\n",
       "      <td>8.0</td>\n",
       "      <td>0.176</td>\n",
       "      <td>8.0</td>\n",
       "      <td>0.176</td>\n",
       "    </tr>\n",
       "    <tr>\n",
       "      <th>1</th>\n",
       "      <td>Lee</td>\n",
       "      <td>South</td>\n",
       "      <td>Alabama</td>\n",
       "      <td>8.0</td>\n",
       "      <td>0.176</td>\n",
       "      <td>8.0</td>\n",
       "      <td>0.176</td>\n",
       "    </tr>\n",
       "    <tr>\n",
       "      <th>2</th>\n",
       "      <td>Elmore</td>\n",
       "      <td>South</td>\n",
       "      <td>Alabama</td>\n",
       "      <td>8.0</td>\n",
       "      <td>0.176</td>\n",
       "      <td>8.0</td>\n",
       "      <td>0.176</td>\n",
       "    </tr>\n",
       "    <tr>\n",
       "      <th>3</th>\n",
       "      <td>Tuscaloosa</td>\n",
       "      <td>South</td>\n",
       "      <td>Alabama</td>\n",
       "      <td>8.0</td>\n",
       "      <td>0.176</td>\n",
       "      <td>8.0</td>\n",
       "      <td>0.176</td>\n",
       "    </tr>\n",
       "    <tr>\n",
       "      <th>4</th>\n",
       "      <td>Madison</td>\n",
       "      <td>South</td>\n",
       "      <td>Alabama</td>\n",
       "      <td>8.0</td>\n",
       "      <td>0.176</td>\n",
       "      <td>8.0</td>\n",
       "      <td>0.176</td>\n",
       "    </tr>\n",
       "    <tr>\n",
       "      <th>...</th>\n",
       "      <td>...</td>\n",
       "      <td>...</td>\n",
       "      <td>...</td>\n",
       "      <td>...</td>\n",
       "      <td>...</td>\n",
       "      <td>...</td>\n",
       "      <td>...</td>\n",
       "    </tr>\n",
       "    <tr>\n",
       "      <th>3136</th>\n",
       "      <td>Fremont</td>\n",
       "      <td>West</td>\n",
       "      <td>Wyoming</td>\n",
       "      <td>7.0</td>\n",
       "      <td>0.152</td>\n",
       "      <td>7.0</td>\n",
       "      <td>0.152</td>\n",
       "    </tr>\n",
       "    <tr>\n",
       "      <th>3137</th>\n",
       "      <td>Goshen</td>\n",
       "      <td>West</td>\n",
       "      <td>Wyoming</td>\n",
       "      <td>7.0</td>\n",
       "      <td>0.152</td>\n",
       "      <td>7.0</td>\n",
       "      <td>0.152</td>\n",
       "    </tr>\n",
       "    <tr>\n",
       "      <th>3138</th>\n",
       "      <td>Platte</td>\n",
       "      <td>West</td>\n",
       "      <td>Wyoming</td>\n",
       "      <td>7.0</td>\n",
       "      <td>0.152</td>\n",
       "      <td>7.0</td>\n",
       "      <td>0.152</td>\n",
       "    </tr>\n",
       "    <tr>\n",
       "      <th>3139</th>\n",
       "      <td>Washakie</td>\n",
       "      <td>West</td>\n",
       "      <td>Wyoming</td>\n",
       "      <td>7.0</td>\n",
       "      <td>0.152</td>\n",
       "      <td>7.0</td>\n",
       "      <td>0.152</td>\n",
       "    </tr>\n",
       "    <tr>\n",
       "      <th>3140</th>\n",
       "      <td>Hot Springs</td>\n",
       "      <td>West</td>\n",
       "      <td>Wyoming</td>\n",
       "      <td>7.0</td>\n",
       "      <td>0.152</td>\n",
       "      <td>7.0</td>\n",
       "      <td>0.152</td>\n",
       "    </tr>\n",
       "  </tbody>\n",
       "</table>\n",
       "<p>3141 rows × 7 columns</p>\n",
       "</div>"
      ],
      "text/plain": [
       "           County Region    State  Screen time hours  \\\n",
       "0          Shelby  South  Alabama                8.0   \n",
       "1             Lee  South  Alabama                8.0   \n",
       "2          Elmore  South  Alabama                8.0   \n",
       "3      Tuscaloosa  South  Alabama                8.0   \n",
       "4         Madison  South  Alabama                8.0   \n",
       "...           ...    ...      ...                ...   \n",
       "3136      Fremont   West  Wyoming                7.0   \n",
       "3137       Goshen   West  Wyoming                7.0   \n",
       "3138       Platte   West  Wyoming                7.0   \n",
       "3139     Washakie   West  Wyoming                7.0   \n",
       "3140  Hot Springs   West  Wyoming                7.0   \n",
       "\n",
       "      Poor mood percent of time  screen_hrs  poor_moodpct  \n",
       "0                         0.176         8.0         0.176  \n",
       "1                         0.176         8.0         0.176  \n",
       "2                         0.176         8.0         0.176  \n",
       "3                         0.176         8.0         0.176  \n",
       "4                         0.176         8.0         0.176  \n",
       "...                         ...         ...           ...  \n",
       "3136                      0.152         7.0         0.152  \n",
       "3137                      0.152         7.0         0.152  \n",
       "3138                      0.152         7.0         0.152  \n",
       "3139                      0.152         7.0         0.152  \n",
       "3140                      0.152         7.0         0.152  \n",
       "\n",
       "[3141 rows x 7 columns]"
      ]
     },
     "metadata": {},
     "output_type": "display_data"
    }
   ],
   "source": [
    "display(df)"
   ]
  },
  {
   "cell_type": "markdown",
   "id": "a180101c",
   "metadata": {},
   "source": [
    "<b>Question 1</b><p>\n",
    "Compute and provide the Pearson correlation coefficient for the relationship between screen time (in hours) and poor mood (percent of time in a poor mood). [Optional but useful for feedback: include your analysis output in the document.]"
   ]
  },
  {
   "cell_type": "code",
   "execution_count": 6,
   "id": "24eb6239",
   "metadata": {
    "ExecuteTime": {
     "end_time": "2025-02-28T05:42:31.693040Z",
     "start_time": "2025-02-28T05:42:31.688062Z"
    }
   },
   "outputs": [
    {
     "name": "stdout",
     "output_type": "stream",
     "text": [
      "Answer to question 1: Pearson correlation coefficient: 0.87\n"
     ]
    }
   ],
   "source": [
    "# Answer Using scipy.stats\n",
    "correlation, p_value = pearsonr(df['screen_hrs'], df['poor_moodpct'])\n",
    "\n",
    "print(f'Answer to question 1: Pearson correlation coefficient: {correlation:.2f}')"
   ]
  },
  {
   "cell_type": "markdown",
   "id": "efab096a",
   "metadata": {},
   "source": [
    "<b>Question 2</b><p>\n",
    "Suppose there is a hypothesis that screen time leads to poor mood. Conduct a regression analysis to determine whether screen time predicts poor mood. Provide the following values from your analysis: p-value, R-squared value, and the coefficient for screen time. [Optional but useful for feedback: include your analysis output in the document.]"
   ]
  },
  {
   "cell_type": "code",
   "execution_count": 7,
   "id": "1e286f94",
   "metadata": {
    "ExecuteTime": {
     "end_time": "2025-02-28T05:42:31.714836Z",
     "start_time": "2025-02-28T05:42:31.694045Z"
    }
   },
   "outputs": [
    {
     "data": {
      "text/html": [
       "<table class=\"simpletable\">\n",
       "<caption>OLS Regression Results</caption>\n",
       "<tr>\n",
       "  <th>Dep. Variable:</th>      <td>poor_moodpct</td>   <th>  R-squared:         </th>  <td>   0.753</td> \n",
       "</tr>\n",
       "<tr>\n",
       "  <th>Model:</th>                   <td>OLS</td>       <th>  Adj. R-squared:    </th>  <td>   0.753</td> \n",
       "</tr>\n",
       "<tr>\n",
       "  <th>Method:</th>             <td>Least Squares</td>  <th>  F-statistic:       </th>  <td>   9586.</td> \n",
       "</tr>\n",
       "<tr>\n",
       "  <th>Date:</th>             <td>Thu, 27 Feb 2025</td> <th>  Prob (F-statistic):</th>   <td>  0.00</td>  \n",
       "</tr>\n",
       "<tr>\n",
       "  <th>Time:</th>                 <td>21:42:31</td>     <th>  Log-Likelihood:    </th>  <td>  6854.5</td> \n",
       "</tr>\n",
       "<tr>\n",
       "  <th>No. Observations:</th>      <td>  3141</td>      <th>  AIC:               </th> <td>-1.370e+04</td>\n",
       "</tr>\n",
       "<tr>\n",
       "  <th>Df Residuals:</th>          <td>  3139</td>      <th>  BIC:               </th> <td>-1.369e+04</td>\n",
       "</tr>\n",
       "<tr>\n",
       "  <th>Df Model:</th>              <td>     1</td>      <th>                     </th>      <td> </td>    \n",
       "</tr>\n",
       "<tr>\n",
       "  <th>Covariance Type:</th>      <td>nonrobust</td>    <th>                     </th>      <td> </td>    \n",
       "</tr>\n",
       "</table>\n",
       "<table class=\"simpletable\">\n",
       "<tr>\n",
       "       <td></td>         <th>coef</th>     <th>std err</th>      <th>t</th>      <th>P>|t|</th>  <th>[0.025</th>    <th>0.975]</th>  \n",
       "</tr>\n",
       "<tr>\n",
       "  <th>const</th>      <td>   -0.0014</td> <td>    0.001</td> <td>   -0.984</td> <td> 0.325</td> <td>   -0.004</td> <td>    0.001</td>\n",
       "</tr>\n",
       "<tr>\n",
       "  <th>screen_hrs</th> <td>    0.0223</td> <td>    0.000</td> <td>   97.909</td> <td> 0.000</td> <td>    0.022</td> <td>    0.023</td>\n",
       "</tr>\n",
       "</table>\n",
       "<table class=\"simpletable\">\n",
       "<tr>\n",
       "  <th>Omnibus:</th>       <td>1735.886</td> <th>  Durbin-Watson:     </th> <td>   0.195</td> \n",
       "</tr>\n",
       "<tr>\n",
       "  <th>Prob(Omnibus):</th>  <td> 0.000</td>  <th>  Jarque-Bera (JB):  </th> <td>22264.994</td>\n",
       "</tr>\n",
       "<tr>\n",
       "  <th>Skew:</th>           <td> 2.354</td>  <th>  Prob(JB):          </th> <td>    0.00</td> \n",
       "</tr>\n",
       "<tr>\n",
       "  <th>Kurtosis:</th>       <td>15.163</td>  <th>  Cond. No.          </th> <td>    19.4</td> \n",
       "</tr>\n",
       "</table><br/><br/>Notes:<br/>[1] Standard Errors assume that the covariance matrix of the errors is correctly specified."
      ],
      "text/latex": [
       "\\begin{center}\n",
       "\\begin{tabular}{lclc}\n",
       "\\toprule\n",
       "\\textbf{Dep. Variable:}    &  poor\\_moodpct   & \\textbf{  R-squared:         } &     0.753   \\\\\n",
       "\\textbf{Model:}            &       OLS        & \\textbf{  Adj. R-squared:    } &     0.753   \\\\\n",
       "\\textbf{Method:}           &  Least Squares   & \\textbf{  F-statistic:       } &     9586.   \\\\\n",
       "\\textbf{Date:}             & Thu, 27 Feb 2025 & \\textbf{  Prob (F-statistic):} &     0.00    \\\\\n",
       "\\textbf{Time:}             &     21:42:31     & \\textbf{  Log-Likelihood:    } &    6854.5   \\\\\n",
       "\\textbf{No. Observations:} &        3141      & \\textbf{  AIC:               } & -1.370e+04  \\\\\n",
       "\\textbf{Df Residuals:}     &        3139      & \\textbf{  BIC:               } & -1.369e+04  \\\\\n",
       "\\textbf{Df Model:}         &           1      & \\textbf{                     } &             \\\\\n",
       "\\textbf{Covariance Type:}  &    nonrobust     & \\textbf{                     } &             \\\\\n",
       "\\bottomrule\n",
       "\\end{tabular}\n",
       "\\begin{tabular}{lcccccc}\n",
       "                     & \\textbf{coef} & \\textbf{std err} & \\textbf{t} & \\textbf{P$> |$t$|$} & \\textbf{[0.025} & \\textbf{0.975]}  \\\\\n",
       "\\midrule\n",
       "\\textbf{const}       &      -0.0014  &        0.001     &    -0.984  &         0.325        &       -0.004    &        0.001     \\\\\n",
       "\\textbf{screen\\_hrs} &       0.0223  &        0.000     &    97.909  &         0.000        &        0.022    &        0.023     \\\\\n",
       "\\bottomrule\n",
       "\\end{tabular}\n",
       "\\begin{tabular}{lclc}\n",
       "\\textbf{Omnibus:}       & 1735.886 & \\textbf{  Durbin-Watson:     } &     0.195  \\\\\n",
       "\\textbf{Prob(Omnibus):} &   0.000  & \\textbf{  Jarque-Bera (JB):  } & 22264.994  \\\\\n",
       "\\textbf{Skew:}          &   2.354  & \\textbf{  Prob(JB):          } &      0.00  \\\\\n",
       "\\textbf{Kurtosis:}      &  15.163  & \\textbf{  Cond. No.          } &      19.4  \\\\\n",
       "\\bottomrule\n",
       "\\end{tabular}\n",
       "%\\caption{OLS Regression Results}\n",
       "\\end{center}\n",
       "\n",
       "Notes: \\newline\n",
       " [1] Standard Errors assume that the covariance matrix of the errors is correctly specified."
      ],
      "text/plain": [
       "<class 'statsmodels.iolib.summary.Summary'>\n",
       "\"\"\"\n",
       "                            OLS Regression Results                            \n",
       "==============================================================================\n",
       "Dep. Variable:           poor_moodpct   R-squared:                       0.753\n",
       "Model:                            OLS   Adj. R-squared:                  0.753\n",
       "Method:                 Least Squares   F-statistic:                     9586.\n",
       "Date:                Thu, 27 Feb 2025   Prob (F-statistic):               0.00\n",
       "Time:                        21:42:31   Log-Likelihood:                 6854.5\n",
       "No. Observations:                3141   AIC:                        -1.370e+04\n",
       "Df Residuals:                    3139   BIC:                        -1.369e+04\n",
       "Df Model:                           1                                         \n",
       "Covariance Type:            nonrobust                                         \n",
       "==============================================================================\n",
       "                 coef    std err          t      P>|t|      [0.025      0.975]\n",
       "------------------------------------------------------------------------------\n",
       "const         -0.0014      0.001     -0.984      0.325      -0.004       0.001\n",
       "screen_hrs     0.0223      0.000     97.909      0.000       0.022       0.023\n",
       "==============================================================================\n",
       "Omnibus:                     1735.886   Durbin-Watson:                   0.195\n",
       "Prob(Omnibus):                  0.000   Jarque-Bera (JB):            22264.994\n",
       "Skew:                           2.354   Prob(JB):                         0.00\n",
       "Kurtosis:                      15.163   Cond. No.                         19.4\n",
       "==============================================================================\n",
       "\n",
       "Notes:\n",
       "[1] Standard Errors assume that the covariance matrix of the errors is correctly specified.\n",
       "\"\"\""
      ]
     },
     "execution_count": 7,
     "metadata": {},
     "output_type": "execute_result"
    }
   ],
   "source": [
    "X = sm.add_constant(df['screen_hrs'])\n",
    "\n",
    "# Define the response variable (runs)\n",
    "y = df['poor_moodpct']\n",
    "\n",
    "# Fit the linear regression model\n",
    "model = sm.OLS(y, X).fit()\n",
    "model.summary()"
   ]
  },
  {
   "cell_type": "code",
   "execution_count": 8,
   "id": "f26226a9",
   "metadata": {
    "ExecuteTime": {
     "end_time": "2025-02-28T05:42:31.718977Z",
     "start_time": "2025-02-28T05:42:31.715851Z"
    }
   },
   "outputs": [
    {
     "name": "stdout",
     "output_type": "stream",
     "text": [
      "P-value: 0.3252\n",
      "R-squared value: 0.7533\n",
      "Coefficient: -0.0014\n"
     ]
    }
   ],
   "source": [
    "# Answer to question 2\n",
    "# p-value for the independent variable\n",
    "p_value = model.pvalues['const'] \n",
    "r_squared = model.rsquared\n",
    "coefficient = model.params['const']\n",
    "\n",
    "print(f'P-value: {p_value:.4f}')\n",
    "print(f'R-squared value: {r_squared:.4f}')\n",
    "print(f'Coefficient: {coefficient:.4f}')"
   ]
  },
  {
   "cell_type": "code",
   "execution_count": 9,
   "id": "b40a291c",
   "metadata": {
    "ExecuteTime": {
     "end_time": "2025-02-28T05:42:32.215797Z",
     "start_time": "2025-02-28T05:42:31.720983Z"
    }
   },
   "outputs": [
    {
     "data": {
      "image/png": "[encoded data removed]",
      "text/plain": [
       "<Figure size 1000x600 with 1 Axes>"
      ]
     },
     "metadata": {},
     "output_type": "display_data"
    }
   ],
   "source": [
    "# Create a scatter plot with a regression line\n",
    "import seaborn as sns\n",
    "import matplotlib.pyplot as plt\n",
    "plt.figure(figsize=(10, 6))\n",
    "sns.regplot(x='screen_hrs', y='poor_moodpct', data=df.drop(columns=['County', 'Region', 'State', 'Screen time hours', 'Poor mood percent of time']))\n",
    "plt.xlabel(\"Screen Hours\")\n",
    "plt.ylabel(\"Poor Mood Percentage\")\n",
    "plt.title(\"Relationship between time spent Online and Mood\")\n",
    "plt.grid(True)\n",
    "plt.show()"
   ]
  },
  {
   "cell_type": "markdown",
   "id": "2f438912",
   "metadata": {},
   "source": [
    "<b>Question 3</b><p>\n",
    "Interpret the results of your analysis. Provide a written explanation of whether or not you believe screen time is a good predictor of poor mood based on the values from the analysis. Be sure to use the your values from question #2 to explain your interpretation.<p>\n",
    "<p>\n",
    "<b>Answer</b><p>\n",
    "<b>P-value: 0.3252</b>: The p-value indicates the probability that the observed correlation occurred by chance. Using a threshold for statistical significance of 0.05 and the p-value is 0.3252, which is much higher than 0.05, we fail to reject the null hypothesis. This suggests that the relationship between screen time and poor mood is not statistically significant.<p>\n",
    "<b>R-squared value: 0.7533</b>: The R-squared value represents the proportion of the variance in poor mood that is predictable from screen time. An R-squared value of 0.7533 indicates that approximately 75.33% of the variance in poor mood can be explained by screen time. This suggests a strong relationship between the two variables.<p>\n",
    "<b>Coefficient: -0.0014</b>: The coefficient indicates the change in the dependent variable (poor mood) for a one-unit change in the independent variable (screen time). A coefficient of -0.0014 suggests a very small negative relationship between screen time and poor mood, meaning that as screen time increases, poor mood slightly decreases.<p>  \n",
    "<b>Conclusion</b>: Despite the high R-squared indicating a strong relationship, the high p-value suggests that this relationship is not statistically significant. Therefore, based on this analysis, screen time does not appear to be a good predictor of poor mood."
   ]
  },
  {
   "cell_type": "markdown",
   "id": "ad09c5bf",
   "metadata": {},
   "source": [
    "<b>Question 4</b><p>\n",
    "Provide your own personal opinion about the practical and/or social significance of this predictive model (e.g., do you believe this model has business value or practical usefulness? do you believe there are social implications to creating predictive models with data such as this? are there other factors or considerations we should be considering that aren't addressed in this model?<p>\n",
    "<p>\n",
    "<b>Answer</b><p>\n",
    "Poor mood absolutely increases with screen time, so there is obviously some correlation between these two variables. One variable that is not included is the amount of sleep, which we could find to actually be the cause of the poor mood. Obviously there are host of other variables that could be explored, like age, gender, education level, etc.<p>\n",
    "With the additional variables, there could be practical applications to this model in helping software, web and game developers improve their products.<p>\n",
    "The social implications are: models that reliably predict a decline in mood based on screen time could be valuable for developing interventions. Apps or digital platforms could provide users with real-time feedback, suggesting breaks, alternative activities, or mindfulness exercises, which is likely something that both Apple and Microsoft have done with their latest operating systems."
   ]
  }
 ],
 "metadata": {
  "kernelspec": {
   "display_name": "py312",
   "language": "python",
   "name": "py312"
  },
  "language_info": {
   "codemirror_mode": {
    "name": "ipython",
    "version": 3
   },
   "file_extension": ".py",
   "mimetype": "text/x-python",
   "name": "python",
   "nbconvert_exporter": "python",
   "pygments_lexer": "ipython3",
   "version": "3.12.9"
  },
  "toc": {
   "base_numbering": 1,
   "nav_menu": {},
   "number_sections": true,
   "sideBar": true,
   "skip_h1_title": false,
   "title_cell": "Table of Contents",
   "title_sidebar": "Contents",
   "toc_cell": false,
   "toc_position": {},
   "toc_section_display": true,
   "toc_window_display": false
  }
 },
 "nbformat": 4,
 "nbformat_minor": 5
}
